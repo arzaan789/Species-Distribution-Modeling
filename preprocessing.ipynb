{
 "cells": [
  {
   "cell_type": "code",
   "execution_count": 41,
   "id": "initial_id",
   "metadata": {
    "collapsed": true,
    "ExecuteTime": {
     "end_time": "2025-08-06T17:42:38.222039Z",
     "start_time": "2025-08-06T17:42:37.694651Z"
    }
   },
   "outputs": [],
   "source": [
    "import pandas as pd\n",
    "import geopandas as gpd\n",
    "from pyproj import CRS\n",
    "import hdbscan\n",
    "import numpy as np\n",
    "import pickle\n",
    "\n",
    "\n",
    "bat = pd.read_csv(\"bat_final_data.csv\")\n",
    "brown_hare = pd.read_csv(\"brown_hare_final_data.csv\")\n",
    "dormice = pd.read_csv(\"dormice_final_data.csv\")\n",
    "hedgehog = pd.read_csv(\"hedgehog_final_data.csv\")\n",
    "red_squirrel = pd.read_csv(\"red_squirrel_final_data.csv\")\n",
    "\n",
    "tgb_bat = pd.read_csv(\"tgb_bat_final_data.csv\")\n",
    "tgb_brown_hare = pd.read_csv(\"tgb_brown_hare_final_data.csv\")\n",
    "tgb_dormice = pd.read_csv(\"tgb_dormice_final_data.csv\")\n",
    "tgb_hedgehog = pd.read_csv(\"tgb_hedgehog_final_data.csv\")\n",
    "tgb_red_squirrel = pd.read_csv(\"tgb_red_squirrel_final_data.csv\")"
   ]
  },
  {
   "cell_type": "code",
   "execution_count": 42,
   "outputs": [],
   "source": [
    "# drop na and duplicates\n",
    "bat = bat.dropna()\n",
    "bat = bat.drop_duplicates()\n",
    "brown_hare = brown_hare.dropna()\n",
    "brown_hare = brown_hare.drop_duplicates()\n",
    "dormice = dormice.dropna()\n",
    "dormice = dormice.drop_duplicates()\n",
    "hedgehog = hedgehog.dropna()\n",
    "hedgehog = hedgehog.drop_duplicates()\n",
    "red_squirrel = red_squirrel.dropna()\n",
    "red_squirrel = red_squirrel.drop_duplicates()\n",
    "\n",
    "tgb_bat = tgb_bat.dropna()\n",
    "tgb_brown_hare = tgb_brown_hare.dropna()\n",
    "tgb_dormice = tgb_dormice.dropna()\n",
    "tgb_hedgehog = tgb_hedgehog.dropna()\n",
    "tgb_red_squirrel = tgb_red_squirrel.dropna()\n",
    "\n",
    "tgb_bat = tgb_bat.drop_duplicates()\n",
    "tgb_brown_hare = tgb_brown_hare.drop_duplicates()\n",
    "tgb_dormice = tgb_dormice.drop_duplicates()\n",
    "tgb_hedgehog = tgb_hedgehog.drop_duplicates()\n",
    "tgb_red_squirrel = tgb_red_squirrel.drop_duplicates()\n"
   ],
   "metadata": {
    "collapsed": false,
    "ExecuteTime": {
     "end_time": "2025-08-06T17:42:38.703860Z",
     "start_time": "2025-08-06T17:42:38.531274Z"
    }
   },
   "id": "6e2fb50d8077974d"
  },
  {
   "cell_type": "code",
   "execution_count": 43,
   "outputs": [],
   "source": [
    "#drop date and species name\n",
    "bat = bat.drop(columns=['eventDate', 'species'])\n",
    "brown_hare = brown_hare.drop(columns=['eventDate', 'species'])\n",
    "dormice = dormice.drop(columns=['eventDate', 'species'])\n",
    "hedgehog = hedgehog.drop(columns=['eventDate', 'species'])\n",
    "red_squirrel = red_squirrel.drop(columns=['eventDate', 'species'])\n",
    "\n",
    "tgb_bat = tgb_bat.drop(columns=['eventDate', 'species'])\n",
    "tgb_brown_hare = tgb_brown_hare.drop(columns=['eventDate', 'species'])\n",
    "tgb_dormice = tgb_dormice.drop(columns=['eventDate', 'species'])\n",
    "tgb_hedgehog = tgb_hedgehog.drop(columns=['eventDate', 'species'])\n",
    "tgb_red_squirrel = tgb_red_squirrel.drop(columns=['eventDate', 'species'])"
   ],
   "metadata": {
    "collapsed": false,
    "ExecuteTime": {
     "end_time": "2025-08-06T17:42:40.460912Z",
     "start_time": "2025-08-06T17:42:40.421752Z"
    }
   },
   "id": "dc01415436ee63cd"
  },
  {
   "cell_type": "code",
   "execution_count": 44,
   "outputs": [],
   "source": [
    "bat['type'] = 'presence'\n",
    "brown_hare['type'] = 'presence'\n",
    "dormice['type'] = 'presence'\n",
    "hedgehog['type'] = 'presence'\n",
    "red_squirrel['type'] = 'presence'\n",
    "\n",
    "tgb_bat['type'] = 'background'\n",
    "tgb_brown_hare['type'] = 'background'\n",
    "tgb_dormice['type'] = 'background'\n",
    "tgb_hedgehog['type'] = 'background'\n",
    "tgb_red_squirrel['type'] = 'background'\n",
    "\n",
    "#append TGB data to species data\n",
    "bat = pd.concat([bat, tgb_bat], ignore_index=True)\n",
    "brown_hare = pd.concat([brown_hare, tgb_brown_hare], ignore_index=True)\n",
    "dormice = pd.concat([dormice, tgb_dormice], ignore_index=True)\n",
    "hedgehog = pd.concat([hedgehog, tgb_hedgehog], ignore_index=True)\n",
    "red_squirrel = pd.concat([red_squirrel, tgb_red_squirrel], ignore_index=True)"
   ],
   "metadata": {
    "collapsed": false,
    "ExecuteTime": {
     "end_time": "2025-08-06T17:42:40.701903Z",
     "start_time": "2025-08-06T17:42:40.688953Z"
    }
   },
   "id": "2c163af96b763f4"
  },
  {
   "cell_type": "code",
   "execution_count": 45,
   "outputs": [],
   "source": [
    "bat_bool_columns = ['ceratopogonidae_presence','chironomidae_presence','cats_presence','wind_turbines_presence','near_road']\n",
    "dormice_bool_columns = ['hazel_presence','birch_presence','beech_presence','honeysuckle_presence','oak_presence','hawthorn_presence']\n",
    "hedgehog_bool_columns = ['badger_presence','ground_beetles_presence','near_road']\n",
    "brown_hare_bool_columns = ['winter_wheat_presence']\n",
    "red_squirrel_bool_columns = ['sitka_spruce_presence','grey_squirrel_presence']\n",
    "\n",
    "bat[bat_bool_columns] = bat[bat_bool_columns].astype(bool)\n",
    "dormice[dormice_bool_columns] = dormice[dormice_bool_columns].astype(bool)\n",
    "hedgehog[hedgehog_bool_columns] = hedgehog[hedgehog_bool_columns].astype(bool)\n",
    "brown_hare[brown_hare_bool_columns] = brown_hare[brown_hare_bool_columns].astype(bool)\n",
    "red_squirrel[red_squirrel_bool_columns] = red_squirrel[red_squirrel_bool_columns].astype(bool)"
   ],
   "metadata": {
    "collapsed": false,
    "ExecuteTime": {
     "end_time": "2025-08-06T17:42:43.479994Z",
     "start_time": "2025-08-06T17:42:43.462238Z"
    }
   },
   "id": "45d3acf7b5b51146"
  },
  {
   "cell_type": "code",
   "execution_count": 46,
   "outputs": [],
   "source": [
    "bat = pd.get_dummies(bat, columns=['Land_cover'])\n",
    "brown_hare = pd.get_dummies(brown_hare, columns=['Land_cover'])\n",
    "dormice = pd.get_dummies(dormice, columns=['Land_cover'])\n",
    "hedgehog = pd.get_dummies(hedgehog, columns=['Land_cover'])\n",
    "red_squirrel = pd.get_dummies(red_squirrel, columns=['Land_cover'])\n"
   ],
   "metadata": {
    "collapsed": false,
    "ExecuteTime": {
     "end_time": "2025-08-06T17:42:44.188050Z",
     "start_time": "2025-08-06T17:42:44.123079Z"
    }
   },
   "id": "6a2388619d51d57d"
  },
  {
   "cell_type": "code",
   "execution_count": 47,
   "outputs": [],
   "source": [
    "# save the dataframes\n",
    "bat.to_csv('bat_final_data_preprocessed_with_coords.csv', index=False)\n",
    "brown_hare.to_csv('brown_hare_final_data_preprocessed_with_coords.csv', index=False)\n",
    "dormice.to_csv('dormice_final_data_preprocessed_with_coords.csv', index=False)\n",
    "hedgehog.to_csv('hedgehog_final_data_preprocessed_with_coords.csv', index=False)\n",
    "red_squirrel.to_csv('red_squirrel_final_data_preprocessed_with_coords.csv', index=False)"
   ],
   "metadata": {
    "collapsed": false,
    "ExecuteTime": {
     "end_time": "2025-08-06T17:42:56.550350Z",
     "start_time": "2025-08-06T17:42:55.899909Z"
    }
   },
   "id": "2bf40de523aaab2e"
  },
  {
   "cell_type": "code",
   "execution_count": 48,
   "outputs": [],
   "source": [
    "# drop lat/long columns\n",
    "bat = bat.drop(columns=['decimalLatitude', 'decimalLongitude'])\n",
    "brown_hare = brown_hare.drop(columns=['decimalLatitude', 'decimalLongitude'])\n",
    "dormice = dormice.drop(columns=['decimalLatitude', 'decimalLongitude'])\n",
    "hedgehog = hedgehog.drop(columns=['decimalLatitude', 'decimalLongitude'])\n",
    "red_squirrel = red_squirrel.drop(columns=['decimalLatitude', 'decimalLongitude'])"
   ],
   "metadata": {
    "collapsed": false,
    "ExecuteTime": {
     "end_time": "2025-08-06T17:42:56.557571Z",
     "start_time": "2025-08-06T17:42:56.553955Z"
    }
   },
   "id": "5a6cb05376081409"
  },
  {
   "cell_type": "code",
   "execution_count": 49,
   "outputs": [],
   "source": [
    "# save the dataframes\n",
    "bat.to_csv('bat_final_data_preprocessed.csv', index=False)\n",
    "brown_hare.to_csv('brown_hare_final_data_preprocessed.csv', index=False)\n",
    "dormice.to_csv('dormice_final_data_preprocessed.csv', index=False)\n",
    "hedgehog.to_csv('hedgehog_final_data_preprocessed.csv', index=False)\n",
    "red_squirrel.to_csv('red_squirrel_final_data_preprocessed.csv', index=False)"
   ],
   "metadata": {
    "collapsed": false,
    "ExecuteTime": {
     "end_time": "2025-08-06T17:42:57.390497Z",
     "start_time": "2025-08-06T17:42:56.780535Z"
    }
   },
   "id": "5e499aa7ede0c614"
  },
  {
   "cell_type": "code",
   "execution_count": null,
   "outputs": [],
   "source": [],
   "metadata": {
    "collapsed": false
   },
   "id": "f60129d7869aa6bd"
  }
 ],
 "metadata": {
  "kernelspec": {
   "display_name": "Python 3",
   "language": "python",
   "name": "python3"
  },
  "language_info": {
   "codemirror_mode": {
    "name": "ipython",
    "version": 2
   },
   "file_extension": ".py",
   "mimetype": "text/x-python",
   "name": "python",
   "nbconvert_exporter": "python",
   "pygments_lexer": "ipython2",
   "version": "2.7.6"
  }
 },
 "nbformat": 4,
 "nbformat_minor": 5
}
