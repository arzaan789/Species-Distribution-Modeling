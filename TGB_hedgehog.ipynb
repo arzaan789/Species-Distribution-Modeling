{
 "cells": [
  {
   "cell_type": "code",
   "execution_count": 1,
   "outputs": [],
   "source": [
    "import ee\n",
    "\n",
    "# Trigger the authentication flow.\n",
    "# ee.Authenticate()\n",
    "\n",
    "ee.Initialize(project='ee-arzaaan789')"
   ],
   "metadata": {
    "collapsed": false,
    "ExecuteTime": {
     "end_time": "2025-08-05T23:35:53.222750Z",
     "start_time": "2025-08-05T23:35:50.192390Z"
    }
   },
   "id": "6fbf115adb971a07"
  },
  {
   "cell_type": "code",
   "execution_count": 2,
   "outputs": [
    {
     "name": "stderr",
     "output_type": "stream",
     "text": [
      "/var/folders/0n/sggn66691kd6g5mtyzpq2hv80000gn/T/ipykernel_84752/1055814596.py:4: DtypeWarning: Columns (10,38) have mixed types. Specify dtype option on import or set low_memory=False.\n",
      "  df = pd.read_csv(\"TGB_hedgehog.csv\", delimiter='\\t')\n"
     ]
    }
   ],
   "source": [
    "import pandas as pd\n",
    "from tqdm import tqdm\n",
    "\n",
    "df = pd.read_csv(\"TGB_hedgehog.csv\", delimiter='\\t')\n",
    "df = df[df[\"occurrenceStatus\"] == \"PRESENT\"]\n",
    "df = df[df['year']>=2022]\n",
    "# df['eventDate'] = df['eventDate'].str.replace('/','')\n",
    "df['eventDate'] = pd.to_datetime(df['eventDate'], format='%Y-%m-%d', errors='coerce')\n",
    "df = df[['species', 'decimalLatitude', 'decimalLongitude', 'eventDate']]\n",
    "df = df.dropna().reset_index(drop=True)"
   ],
   "metadata": {
    "collapsed": false,
    "ExecuteTime": {
     "end_time": "2025-08-05T23:35:53.784621Z",
     "start_time": "2025-08-05T23:35:53.219868Z"
    }
   },
   "id": "initial_id"
  },
  {
   "cell_type": "code",
   "execution_count": 3,
   "outputs": [
    {
     "name": "stderr",
     "output_type": "stream",
     "text": [
      "Processing batches: 100%|██████████| 378/378 [37:31<00:00,  5.96s/it] \n"
     ]
    },
    {
     "name": "stdout",
     "output_type": "stream",
     "text": [
      "               species  decimalLatitude  decimalLongitude  eventDate  \\\n",
      "0        Sorex araneus           54.826            -1.440 2024-09-24   \n",
      "1  Apodemus sylvaticus           51.468            -0.236 2024-08-06   \n",
      "2  Apodemus sylvaticus           51.487            -0.258 2024-07-09   \n",
      "3  Apodemus sylvaticus           51.583            -0.187 2024-08-20   \n",
      "4  Apodemus sylvaticus           54.778            -1.527 2024-07-11   \n",
      "\n",
      "        BSI         LST     MNDWI      NDBI      NDSI      NDVI      NDWI  \\\n",
      "0 -0.427487  288.946555 -0.476749  0.117585 -0.476749  0.257919 -0.379594   \n",
      "1 -0.499541  301.088493 -0.360854 -0.168293 -0.360854  0.526998 -0.498921   \n",
      "2 -0.534651  300.180000 -0.443653 -0.103071 -0.443653  0.518452 -0.522817   \n",
      "3 -0.561448  298.636845 -0.387576 -0.222782 -0.387576  0.595396 -0.557772   \n",
      "4 -0.510276  295.047920 -0.384296 -0.137600 -0.384296  0.494852 -0.493904   \n",
      "\n",
      "       SAVI        UI  \n",
      "0  0.386827 -0.117585  \n",
      "1  0.790386  0.168293  \n",
      "2  0.777539  0.103071  \n",
      "3  0.892920  0.222782  \n",
      "4  0.742183  0.137600  \n"
     ]
    }
   ],
   "source": [
    "import ee\n",
    "import pandas as pd\n",
    "from datetime import datetime, timedelta\n",
    "from tqdm import tqdm\n",
    "\n",
    "# ee.Initialize()\n",
    "\n",
    "# Your dataframe 'df' must have columns: decimalLongitude, decimalLatitude\n",
    "# Example: df = pd.read_csv(\"Erinaceus europaeus.csv\", delimiter='\\t')\n",
    "\n",
    "def create_aoi(lon, lat, box_size_km=1):\n",
    "    \"\"\"Create approx 1km x 1km square polygon around lon, lat.\"\"\"\n",
    "    half_side_deg = box_size_km / 111.32 / 2  # Rough approx degrees per km\n",
    "\n",
    "    coords = [\n",
    "        [lon - half_side_deg, lat - half_side_deg],\n",
    "        [lon + half_side_deg, lat - half_side_deg],\n",
    "        [lon + half_side_deg, lat + half_side_deg],\n",
    "        [lon - half_side_deg, lat + half_side_deg],\n",
    "        [lon - half_side_deg, lat - half_side_deg]\n",
    "    ]\n",
    "    return ee.Geometry.Polygon(coords)\n",
    "\n",
    "def compute_all_indices(feature, start_date, end_date):\n",
    "    \"\"\"Compute spectral indices and LST for one EE Feature (with AOI geometry).\"\"\"\n",
    "    aoi = feature.geometry()\n",
    "\n",
    "    s2 = (ee.ImageCollection(\"COPERNICUS/S2_SR_HARMONIZED\")\n",
    "          .filterBounds(aoi)\n",
    "          .filterDate(start_date, end_date)\n",
    "          .sort('CLOUDY_PIXEL_PERCENTAGE')\n",
    "          .first())\n",
    "    s2 = ee.Image(s2).clip(aoi)\n",
    "\n",
    "    blue = s2.select('B2')\n",
    "    green = s2.select('B3')\n",
    "    red = s2.select('B4')\n",
    "    nir = s2.select('B8')\n",
    "    swir = s2.select('B11')\n",
    "\n",
    "    L = 0.5  # SAVI constant\n",
    "\n",
    "    ndvi = nir.subtract(red).divide(nir.add(red)).rename('NDVI')\n",
    "    ndwi = green.subtract(nir).divide(green.add(nir)).rename('NDWI')\n",
    "    ndbi = swir.subtract(nir).divide(swir.add(nir)).rename('NDBI')\n",
    "    savi = nir.subtract(red).divide(nir.add(red).add(L)).multiply(1 + L).rename('SAVI')\n",
    "    mndwi = green.subtract(swir).divide(green.add(swir)).rename('MNDWI')\n",
    "    ndsi = green.subtract(swir).divide(green.add(swir)).rename('NDSI')\n",
    "    bsi = (red.add(blue).subtract(nir.add(swir))).divide(red.add(blue).add(nir).add(swir)).rename('BSI')\n",
    "    ui = nir.subtract(swir).divide(nir.add(swir)).rename('UI')\n",
    "\n",
    "    reducers = ee.Reducer.mean()\n",
    "    scale_10m = 1000\n",
    "\n",
    "    ndvi_mean = ndvi.reduceRegion(reducers, aoi, scale_10m).get('NDVI')\n",
    "    ndwi_mean = ndwi.reduceRegion(reducers, aoi, scale_10m).get('NDWI')\n",
    "    ndbi_mean = ndbi.reduceRegion(reducers, aoi, scale_10m).get('NDBI')\n",
    "    savi_mean = savi.reduceRegion(reducers, aoi, scale_10m).get('SAVI')\n",
    "    mndwi_mean = mndwi.reduceRegion(reducers, aoi, scale_10m).get('MNDWI')\n",
    "    ndsi_mean = ndsi.reduceRegion(reducers, aoi, scale_10m).get('NDSI')\n",
    "    bsi_mean = bsi.reduceRegion(reducers, aoi, scale_10m).get('BSI')\n",
    "    ui_mean = ui.reduceRegion(reducers, aoi, scale_10m).get('UI')\n",
    "\n",
    "    # MODIS LST dataset\n",
    "    modis = (ee.ImageCollection(\"MODIS/061/MOD11A1\")\n",
    "             .filterBounds(aoi)\n",
    "             .filterDate(start_date, end_date)\n",
    "             .select('LST_Day_1km'))\n",
    "\n",
    "    lst_mean_img = modis.mean().multiply(0.02).clip(aoi)\n",
    "\n",
    "    lst_mean = lst_mean_img.reduceRegion(\n",
    "        reducer=ee.Reducer.mean(),\n",
    "        geometry=aoi,\n",
    "        scale=1000\n",
    "    ).get('LST_Day_1km')\n",
    "\n",
    "    return feature.set({\n",
    "        'NDVI': ndvi_mean,\n",
    "        'NDWI': ndwi_mean,\n",
    "        'NDBI': ndbi_mean,\n",
    "        'SAVI': savi_mean,\n",
    "        'MNDWI': mndwi_mean,\n",
    "        'NDSI': ndsi_mean,\n",
    "        'BSI': bsi_mean,\n",
    "        'UI': ui_mean,\n",
    "        'LST': lst_mean\n",
    "    })\n",
    "\n",
    "# Split df into batches\n",
    "batch_size = 50\n",
    "batches = [df.iloc[i:i+batch_size] for i in range(0, len(df), batch_size)]\n",
    "\n",
    "results_list = []\n",
    "\n",
    "index_names = ['NDVI', 'NDWI', 'NDBI', 'SAVI', 'MNDWI', 'NDSI', 'BSI', 'UI', 'LST']\n",
    "\n",
    "for batch in tqdm(batches, desc=\"Processing batches\"):\n",
    "    features = []\n",
    "    batch_indices = []\n",
    "    feature_metadata = {}\n",
    "\n",
    "    for idx, row in batch.iterrows():\n",
    "        \n",
    "        aoi = create_aoi(row['decimalLongitude'], row['decimalLatitude'])\n",
    "        feature = ee.Feature(aoi).set('index', idx)\n",
    "        features.append(feature)\n",
    "        batch_indices.append(idx)  # Save the original index\n",
    "        \n",
    "        event_date = row['eventDate']\n",
    "        start_date = (event_date - timedelta(days=15)).strftime('%Y-%m-%d')\n",
    "        end_date = (event_date + timedelta(days=15)).strftime('%Y-%m-%d')\n",
    "        feature_metadata[idx] = (start_date, end_date)\n",
    "\n",
    "    # Create a FeatureCollection from the list of features\n",
    "    fc = ee.FeatureCollection(features)\n",
    "    \n",
    "    # Define wrapper for map to inject per-feature dates\n",
    "    def map_with_dates(f):\n",
    "        idx = f.get('index')\n",
    "        # Use dictionary lookup to get dates for this feature\n",
    "        date_dict = ee.Dictionary(ee.Dictionary(feature_metadata))\n",
    "        dates = ee.List(date_dict.get(ee.Number(idx)))\n",
    "        return compute_all_indices(f, dates.get(0), dates.get(1))\n",
    "\n",
    "    try:\n",
    "        result_fc = fc.map(map_with_dates)\n",
    "        results = result_fc.getInfo()\n",
    "\n",
    "        rows = []\n",
    "        for f in results['features']:\n",
    "            props = f['properties']\n",
    "            rows.append(props)\n",
    "\n",
    "    except Exception as e:\n",
    "        print(f\"Error processing batch starting at index {batch.index[0]}: {e}\")\n",
    "        # If there's an error, create placeholder rows with None\n",
    "        rows = [{'index': i, **{name: None for name in index_names}} for i in batch_indices]\n",
    "\n",
    "    batch_results_df = pd.DataFrame(rows).sort_values('index').reset_index(drop=True)\n",
    "    results_list.append(batch_results_df)\n",
    "\n",
    "# Concatenate all batches and sort by original index\n",
    "all_results_df = pd.concat(results_list).sort_values('index').reset_index(drop=True)\n",
    "\n",
    "# Merge with original df\n",
    "df_final = pd.concat([df.reset_index(drop=True), all_results_df.drop(columns=['index'])], axis=1)\n",
    "\n",
    "print(df_final.head())\n"
   ],
   "metadata": {
    "collapsed": false,
    "ExecuteTime": {
     "end_time": "2025-08-06T00:13:25.778666Z",
     "start_time": "2025-08-05T23:35:53.793052Z"
    }
   },
   "id": "a6493957d4be9f9d"
  },
  {
   "cell_type": "code",
   "execution_count": 4,
   "outputs": [
    {
     "name": "stderr",
     "output_type": "stream",
     "text": [
      "/var/folders/0n/sggn66691kd6g5mtyzpq2hv80000gn/T/ipykernel_84752/1318872830.py:7: DtypeWarning: Columns (10,16,39,41,45,46,48) have mixed types. Specify dtype option on import or set low_memory=False.\n",
      "  badgers = pd.read_csv(\"Meles meles.csv\", delimiter='\\t')\n",
      "/var/folders/0n/sggn66691kd6g5mtyzpq2hv80000gn/T/ipykernel_84752/1318872830.py:14: DtypeWarning: Columns (2,10,36,38,39,41,45,48) have mixed types. Specify dtype option on import or set low_memory=False.\n",
      "  ground_beetles = pd.read_csv(\"ground_beetles.csv\", delimiter='\\t')\n"
     ]
    }
   ],
   "source": [
    "df_final.to_csv(\"tgb_hedgehog_full_data.csv\", index=False)\n",
    "df = pd.read_csv(\"tgb_hedgehog_full_data.csv\")\n",
    "df['eventDate'] = pd.to_datetime(df['eventDate'], format='%Y-%m-%d', errors='coerce')\n",
    "\n",
    "df = df.dropna().reset_index(drop=True)\n",
    "\n",
    "badgers = pd.read_csv(\"Meles meles.csv\", delimiter='\\t')\n",
    "badgers = badgers[badgers[\"occurrenceStatus\"] == \"PRESENT\"]\n",
    "badgers = badgers[badgers['year']>=2022]\n",
    "badgers['eventDate'] = pd.to_datetime(badgers['eventDate'], format='%Y-%m-%d', errors='coerce')\n",
    "badgers = badgers[['species', 'decimalLatitude', 'decimalLongitude', 'eventDate']]\n",
    "badgers = badgers.dropna().reset_index(drop=True)\n",
    "\n",
    "ground_beetles = pd.read_csv(\"ground_beetles.csv\", delimiter='\\t')\n",
    "ground_beetles = ground_beetles[ground_beetles[\"occurrenceStatus\"] == \"PRESENT\"]\n",
    "ground_beetles = ground_beetles[ground_beetles['year']>=2022]\n",
    "ground_beetles['eventDate'] = pd.to_datetime(ground_beetles['eventDate'], format='%Y-%m-%d', errors='coerce')\n",
    "ground_beetles = ground_beetles[['species', 'decimalLatitude', 'decimalLongitude', 'eventDate']]\n",
    "ground_beetles = ground_beetles.dropna().reset_index(drop=True)"
   ],
   "metadata": {
    "collapsed": false,
    "ExecuteTime": {
     "end_time": "2025-08-06T00:13:27.787468Z",
     "start_time": "2025-08-06T00:13:25.767027Z"
    }
   },
   "id": "dfa3f8fbd86b40e"
  },
  {
   "cell_type": "code",
   "execution_count": 5,
   "outputs": [
    {
     "name": "stderr",
     "output_type": "stream",
     "text": [
      "100%|██████████| 18682/18682 [00:03<00:00, 4782.57it/s]\n"
     ]
    }
   ],
   "source": [
    "import pandas as pd\n",
    "import numpy as np\n",
    "from sklearn.neighbors import BallTree\n",
    "from tqdm import tqdm\n",
    "\n",
    "# Convert lat/lon to radians for BallTree\n",
    "hedgehog_coords = np.deg2rad(df[['decimalLatitude', 'decimalLongitude']].values)\n",
    "badger_coords = np.deg2rad(badgers[['decimalLatitude', 'decimalLongitude']].values)\n",
    "ground_beetles_coords = np.deg2rad(ground_beetles[['decimalLatitude', 'decimalLongitude']].values)\n",
    "\n",
    "# Build BallTrees\n",
    "tree_badger = BallTree(badger_coords, metric='haversine')\n",
    "tree_ground_beetles = BallTree(ground_beetles_coords, metric='haversine')\n",
    "\n",
    "# 1 km radius in radians\n",
    "radius = 1 / 6371.0\n",
    "\n",
    "# Initialize presence columns\n",
    "df['badger_presence'] = 0\n",
    "df['ground_beetles_presence'] = 0\n",
    "\n",
    "# Iterate through each hedgehog point with tqdm for progress tracking\n",
    "for i in tqdm(range(len(df))):\n",
    "    point = hedgehog_coords[i].reshape(1, -1)\n",
    "    event_month = df.loc[i, 'eventDate'].month\n",
    "    event_year = df.loc[i, 'eventDate'].year\n",
    "\n",
    "    # BADGERS\n",
    "    idxs = tree_badger.query_radius(point, r=radius)[0]\n",
    "    for j in idxs:\n",
    "        badger_date = badgers.loc[j, 'eventDate']\n",
    "        if badger_date.month == event_month and badger_date.year == event_year:\n",
    "            df.at[i, 'badger_presence'] = 1\n",
    "            break  # Found at least one match, no need to check further\n",
    "\n",
    "    # GROUND BEETLES\n",
    "    idxs = tree_ground_beetles.query_radius(point, r=radius)[0]\n",
    "    for j in idxs:\n",
    "        beetle_date = ground_beetles.loc[j, 'eventDate']\n",
    "        if beetle_date.month == event_month and beetle_date.year == event_year:\n",
    "            df.at[i, 'ground_beetles_presence'] = 1\n",
    "            break"
   ],
   "metadata": {
    "collapsed": false,
    "ExecuteTime": {
     "end_time": "2025-08-06T00:13:32.724987Z",
     "start_time": "2025-08-06T00:13:27.790933Z"
    }
   },
   "id": "e4d047d447e2eac8"
  },
  {
   "cell_type": "code",
   "execution_count": null,
   "outputs": [
    {
     "name": "stderr",
     "output_type": "stream",
     "text": [
      "  0%|          | 9/7058 [00:09<3:02:55,  1.56s/it]"
     ]
    },
    {
     "name": "stdout",
     "output_type": "stream",
     "text": [
      "[TILE ERROR] Graph contains no edges. — bbox: (np.float64(-6.3458), np.float64(56.29299999999999), np.float64(-6.3241), np.float64(56.306))\n"
     ]
    },
    {
     "name": "stderr",
     "output_type": "stream",
     "text": [
      "  0%|          | 12/7058 [00:18<5:06:24,  2.61s/it]"
     ]
    },
    {
     "name": "stdout",
     "output_type": "stream",
     "text": [
      "[TILE ERROR] Found no graph nodes within the requested polygon. — bbox: (np.float64(-6.220199999999999), np.float64(56.04999999999999), np.float64(-6.198499999999999), np.float64(56.062999999999995))\n"
     ]
    },
    {
     "name": "stderr",
     "output_type": "stream",
     "text": [
      "  0%|          | 18/7058 [00:31<4:05:31,  2.09s/it]"
     ]
    },
    {
     "name": "stdout",
     "output_type": "stream",
     "text": [
      "[TILE ERROR] Found no graph nodes within the requested polygon. — bbox: (np.float64(-6.1103), np.float64(56.599), np.float64(-6.0886), np.float64(56.611999999999995))\n"
     ]
    },
    {
     "name": "stderr",
     "output_type": "stream",
     "text": [
      "  0%|          | 23/7058 [00:47<5:48:27,  2.97s/it]"
     ]
    },
    {
     "name": "stdout",
     "output_type": "stream",
     "text": [
      "[TILE ERROR] Found no graph nodes within the requested polygon. — bbox: (np.float64(-5.9533), np.float64(56.400999999999996), np.float64(-5.9315999999999995), np.float64(56.414))\n"
     ]
    },
    {
     "name": "stderr",
     "output_type": "stream",
     "text": [
      "  0%|          | 25/7058 [00:52<5:08:40,  2.63s/it]"
     ]
    },
    {
     "name": "stdout",
     "output_type": "stream",
     "text": [
      "[TILE ERROR] Found no graph nodes within the requested polygon. — bbox: (np.float64(-5.906199999999999), np.float64(54.17799999999999), np.float64(-5.884499999999999), np.float64(54.190999999999995))\n"
     ]
    },
    {
     "name": "stderr",
     "output_type": "stream",
     "text": [
      "  0%|          | 27/7058 [00:54<3:27:05,  1.77s/it]"
     ]
    },
    {
     "name": "stdout",
     "output_type": "stream",
     "text": [
      "[TILE ERROR] Found no graph nodes within the requested polygon. — bbox: (np.float64(-5.890499999999999), np.float64(56.391999999999996), np.float64(-5.868799999999999), np.float64(56.405))\n"
     ]
    },
    {
     "name": "stderr",
     "output_type": "stream",
     "text": [
      "  0%|          | 30/7058 [00:59<3:01:08,  1.55s/it]"
     ]
    },
    {
     "name": "stdout",
     "output_type": "stream",
     "text": [
      "[TILE ERROR] Found no graph nodes within the requested polygon. — bbox: (np.float64(-5.8748), np.float64(56.41), np.float64(-5.8530999999999995), np.float64(56.422999999999995))\n"
     ]
    },
    {
     "name": "stderr",
     "output_type": "stream",
     "text": [
      "  0%|          | 34/7058 [01:04<2:50:28,  1.46s/it]"
     ]
    },
    {
     "name": "stdout",
     "output_type": "stream",
     "text": [
      "[TILE ERROR] Found no graph nodes within the requested polygon. — bbox: (np.float64(-5.7806), np.float64(56.68899999999999), np.float64(-5.7589), np.float64(56.702))\n"
     ]
    },
    {
     "name": "stderr",
     "output_type": "stream",
     "text": [
      "  0%|          | 35/7058 [01:06<2:49:53,  1.45s/it]"
     ]
    },
    {
     "name": "stdout",
     "output_type": "stream",
     "text": [
      "[TILE ERROR] No data elements in server response. Check query location/filters and log. — bbox: (np.float64(-5.7649), np.float64(56.68899999999999), np.float64(-5.743199999999999), np.float64(56.702))\n"
     ]
    },
    {
     "name": "stderr",
     "output_type": "stream",
     "text": [
      "  1%|          | 36/7058 [01:07<2:48:29,  1.44s/it]"
     ]
    },
    {
     "name": "stdout",
     "output_type": "stream",
     "text": [
      "[TILE ERROR] Found no graph nodes within the requested polygon. — bbox: (np.float64(-5.749199999999999), np.float64(57.21999999999999), np.float64(-5.727499999999999), np.float64(57.233))\n"
     ]
    },
    {
     "name": "stderr",
     "output_type": "stream",
     "text": [
      "  1%|          | 39/7058 [01:14<4:20:38,  2.23s/it]"
     ]
    },
    {
     "name": "stdout",
     "output_type": "stream",
     "text": [
      "[TILE ERROR] Found no graph nodes within the requested polygon. — bbox: (np.float64(-5.7177999999999995), np.float64(56.41), np.float64(-5.6960999999999995), np.float64(56.422999999999995))\n"
     ]
    },
    {
     "name": "stderr",
     "output_type": "stream",
     "text": [
      "  1%|          | 46/7058 [01:26<3:31:51,  1.81s/it]"
     ]
    },
    {
     "name": "stdout",
     "output_type": "stream",
     "text": [
      "[TILE ERROR] Found no graph nodes within the requested polygon. — bbox: (np.float64(-5.6864), np.float64(55.95099999999999), np.float64(-5.6647), np.float64(55.964))\n"
     ]
    },
    {
     "name": "stderr",
     "output_type": "stream",
     "text": [
      "  1%|          | 47/7058 [01:28<3:21:03,  1.72s/it]"
     ]
    },
    {
     "name": "stdout",
     "output_type": "stream",
     "text": [
      "[TILE ERROR] Found no graph nodes within the requested polygon. — bbox: (np.float64(-5.6864), np.float64(55.977999999999994), np.float64(-5.6647), np.float64(55.991))\n"
     ]
    },
    {
     "name": "stderr",
     "output_type": "stream",
     "text": [
      "  1%|          | 52/7058 [01:43<6:22:51,  3.28s/it]"
     ]
    },
    {
     "name": "stdout",
     "output_type": "stream",
     "text": [
      "[TILE ERROR] Graph contains no edges. — bbox: (np.float64(-5.6707), np.float64(55.824999999999996), np.float64(-5.648999999999999), np.float64(55.838))\n"
     ]
    },
    {
     "name": "stderr",
     "output_type": "stream",
     "text": [
      "  1%|          | 53/7058 [01:49<7:49:31,  4.02s/it]"
     ]
    },
    {
     "name": "stdout",
     "output_type": "stream",
     "text": [
      "[TILE ERROR] Graph contains no edges. — bbox: (np.float64(-5.654999999999999), np.float64(55.34799999999999), np.float64(-5.633299999999999), np.float64(55.361))\n"
     ]
    },
    {
     "name": "stderr",
     "output_type": "stream",
     "text": [
      "  1%|          | 54/7058 [01:49<5:43:04,  2.94s/it]"
     ]
    },
    {
     "name": "stdout",
     "output_type": "stream",
     "text": [
      "[TILE ERROR] Found no graph nodes within the requested polygon. — bbox: (np.float64(-5.654999999999999), np.float64(56.004999999999995), np.float64(-5.633299999999999), np.float64(56.018))\n"
     ]
    },
    {
     "name": "stderr",
     "output_type": "stream",
     "text": [
      "  1%|          | 55/7058 [01:54<6:47:35,  3.49s/it]"
     ]
    },
    {
     "name": "stdout",
     "output_type": "stream",
     "text": [
      "[TILE ERROR] Found no graph nodes within the requested polygon. — bbox: (np.float64(-5.654999999999999), np.float64(56.202999999999996), np.float64(-5.633299999999999), np.float64(56.216))\n"
     ]
    },
    {
     "name": "stderr",
     "output_type": "stream",
     "text": [
      "  1%|          | 64/7058 [02:10<3:32:55,  1.83s/it]"
     ]
    },
    {
     "name": "stdout",
     "output_type": "stream",
     "text": [
      "[TILE ERROR] Found no graph nodes within the requested polygon. — bbox: (np.float64(-5.5922), np.float64(56.148999999999994), np.float64(-5.570499999999999), np.float64(56.162))\n"
     ]
    },
    {
     "name": "stderr",
     "output_type": "stream",
     "text": [
      "  1%|          | 65/7058 [02:11<2:44:17,  1.41s/it]"
     ]
    },
    {
     "name": "stdout",
     "output_type": "stream",
     "text": [
      "[TILE ERROR] Graph contains no edges. — bbox: (np.float64(-5.5922), np.float64(56.24799999999999), np.float64(-5.570499999999999), np.float64(56.260999999999996))\n"
     ]
    },
    {
     "name": "stderr",
     "output_type": "stream",
     "text": [
      "  1%|          | 66/7058 [02:13<3:19:34,  1.71s/it]"
     ]
    },
    {
     "name": "stdout",
     "output_type": "stream",
     "text": [
      "[TILE ERROR] Found no graph nodes within the requested polygon. — bbox: (np.float64(-5.5922), np.float64(56.31999999999999), np.float64(-5.570499999999999), np.float64(56.333))\n"
     ]
    },
    {
     "name": "stderr",
     "output_type": "stream",
     "text": [
      "  1%|          | 71/7058 [02:21<3:16:52,  1.69s/it]"
     ]
    },
    {
     "name": "stdout",
     "output_type": "stream",
     "text": [
      "[TILE ERROR] Found no graph nodes within the requested polygon. — bbox: (np.float64(-5.576499999999999), np.float64(56.25699999999999), np.float64(-5.554799999999999), np.float64(56.269999999999996))\n"
     ]
    },
    {
     "name": "stderr",
     "output_type": "stream",
     "text": [
      "  1%|          | 73/7058 [02:28<4:36:45,  2.38s/it]"
     ]
    },
    {
     "name": "stdout",
     "output_type": "stream",
     "text": [
      "[TILE ERROR] No data elements in server response. Check query location/filters and log. — bbox: (np.float64(-5.5607999999999995), np.float64(55.626999999999995), np.float64(-5.5390999999999995), np.float64(55.64))\n"
     ]
    },
    {
     "name": "stderr",
     "output_type": "stream",
     "text": [
      "  1%|          | 75/7058 [02:32<4:05:31,  2.11s/it]"
     ]
    },
    {
     "name": "stdout",
     "output_type": "stream",
     "text": [
      "[TILE ERROR] No data elements in server response. Check query location/filters and log. — bbox: (np.float64(-5.5607999999999995), np.float64(56.13099999999999), np.float64(-5.5390999999999995), np.float64(56.144))\n"
     ]
    },
    {
     "name": "stderr",
     "output_type": "stream",
     "text": [
      "  1%|          | 76/7058 [02:34<4:06:55,  2.12s/it]"
     ]
    },
    {
     "name": "stdout",
     "output_type": "stream",
     "text": [
      "[TILE ERROR] Found no graph nodes within the requested polygon. — bbox: (np.float64(-5.5607999999999995), np.float64(56.26599999999999), np.float64(-5.5390999999999995), np.float64(56.278999999999996))\n"
     ]
    },
    {
     "name": "stderr",
     "output_type": "stream",
     "text": [
      "  1%|          | 78/7058 [02:39<4:47:30,  2.47s/it]"
     ]
    },
    {
     "name": "stdout",
     "output_type": "stream",
     "text": [
      "[TILE ERROR] Found no graph nodes within the requested polygon. — bbox: (np.float64(-5.5451), np.float64(55.35699999999999), np.float64(-5.5234), np.float64(55.37))\n"
     ]
    },
    {
     "name": "stderr",
     "output_type": "stream",
     "text": [
      "  1%|          | 79/7058 [02:40<3:35:25,  1.85s/it]"
     ]
    },
    {
     "name": "stdout",
     "output_type": "stream",
     "text": [
      "[TILE ERROR] Found no graph nodes within the requested polygon. — bbox: (np.float64(-5.5451), np.float64(55.38399999999999), np.float64(-5.5234), np.float64(55.397))\n"
     ]
    },
    {
     "name": "stderr",
     "output_type": "stream",
     "text": [
      "  1%|          | 81/7058 [02:44<3:40:17,  1.89s/it]"
     ]
    },
    {
     "name": "stdout",
     "output_type": "stream",
     "text": [
      "[TILE ERROR] Graph contains no edges. — bbox: (np.float64(-5.5451), np.float64(56.09499999999999), np.float64(-5.5234), np.float64(56.108))\n"
     ]
    },
    {
     "name": "stderr",
     "output_type": "stream",
     "text": [
      "  1%|          | 82/7058 [02:49<5:10:15,  2.67s/it]"
     ]
    },
    {
     "name": "stdout",
     "output_type": "stream",
     "text": [
      "[TILE ERROR] Found no graph nodes within the requested polygon. — bbox: (np.float64(-5.5294), np.float64(55.581999999999994), np.float64(-5.5077), np.float64(55.595))\n"
     ]
    },
    {
     "name": "stderr",
     "output_type": "stream",
     "text": [
      "  1%|          | 83/7058 [02:52<5:38:56,  2.92s/it]"
     ]
    },
    {
     "name": "stdout",
     "output_type": "stream",
     "text": [
      "[TILE ERROR] Found no graph nodes within the requested polygon. — bbox: (np.float64(-5.5294), np.float64(56.13099999999999), np.float64(-5.5077), np.float64(56.144))\n"
     ]
    },
    {
     "name": "stderr",
     "output_type": "stream",
     "text": [
      "  1%|▏         | 95/7058 [03:20<6:08:44,  3.18s/it]"
     ]
    },
    {
     "name": "stdout",
     "output_type": "stream",
     "text": [
      "[TILE ERROR] No data elements in server response. Check query location/filters and log. — bbox: (np.float64(-5.4822999999999995), np.float64(56.211999999999996), np.float64(-5.4605999999999995), np.float64(56.225))\n"
     ]
    },
    {
     "name": "stderr",
     "output_type": "stream",
     "text": [
      "  1%|▏         | 102/7058 [03:33<4:26:36,  2.30s/it]"
     ]
    },
    {
     "name": "stdout",
     "output_type": "stream",
     "text": [
      "[TILE ERROR] Found no graph nodes within the requested polygon. — bbox: (np.float64(-5.4666), np.float64(55.815999999999995), np.float64(-5.4449), np.float64(55.829))\n"
     ]
    },
    {
     "name": "stderr",
     "output_type": "stream",
     "text": [
      "  1%|▏         | 103/7058 [03:34<3:52:15,  2.00s/it]"
     ]
    },
    {
     "name": "stdout",
     "output_type": "stream",
     "text": [
      "[TILE ERROR] Graph contains no edges. — bbox: (np.float64(-5.4666), np.float64(56.05899999999999), np.float64(-5.4449), np.float64(56.071999999999996))\n"
     ]
    },
    {
     "name": "stderr",
     "output_type": "stream",
     "text": [
      "  1%|▏         | 105/7058 [03:38<3:22:39,  1.75s/it]"
     ]
    },
    {
     "name": "stdout",
     "output_type": "stream",
     "text": [
      "[TILE ERROR] Found no graph nodes within the requested polygon. — bbox: (np.float64(-5.4509), np.float64(55.71699999999999), np.float64(-5.4292), np.float64(55.73))\n"
     ]
    },
    {
     "name": "stderr",
     "output_type": "stream",
     "text": [
      "  2%|▏         | 107/7058 [03:45<4:50:38,  2.51s/it]"
     ]
    },
    {
     "name": "stdout",
     "output_type": "stream",
     "text": [
      "[TILE ERROR] Found no graph nodes within the requested polygon. — bbox: (np.float64(-5.4509), np.float64(56.31999999999999), np.float64(-5.4292), np.float64(56.333))\n"
     ]
    },
    {
     "name": "stderr",
     "output_type": "stream",
     "text": [
      "  2%|▏         | 109/7058 [03:47<3:02:19,  1.57s/it]"
     ]
    },
    {
     "name": "stdout",
     "output_type": "stream",
     "text": [
      "[TILE ERROR] Found no graph nodes within the requested polygon. — bbox: (np.float64(-5.4352), np.float64(55.72599999999999), np.float64(-5.413499999999999), np.float64(55.739))\n"
     ]
    },
    {
     "name": "stderr",
     "output_type": "stream",
     "text": [
      "  2%|▏         | 110/7058 [03:52<5:15:52,  2.73s/it]"
     ]
    },
    {
     "name": "stdout",
     "output_type": "stream",
     "text": [
      "[TILE ERROR] Found no graph nodes within the requested polygon. — bbox: (np.float64(-5.4352), np.float64(55.76199999999999), np.float64(-5.413499999999999), np.float64(55.775))\n"
     ]
    },
    {
     "name": "stderr",
     "output_type": "stream",
     "text": [
      "  2%|▏         | 111/7058 [03:59<7:45:54,  4.02s/it]"
     ]
    },
    {
     "name": "stdout",
     "output_type": "stream",
     "text": [
      "[TILE ERROR] Found no graph nodes within the requested polygon. — bbox: (np.float64(-5.4352), np.float64(56.04999999999999), np.float64(-5.413499999999999), np.float64(56.062999999999995))\n"
     ]
    },
    {
     "name": "stderr",
     "output_type": "stream",
     "text": [
      "  2%|▏         | 112/7058 [04:04<8:16:47,  4.29s/it]"
     ]
    },
    {
     "name": "stdout",
     "output_type": "stream",
     "text": [
      "[TILE ERROR] Found no graph nodes within the requested polygon. — bbox: (np.float64(-5.419499999999999), np.float64(55.74399999999999), np.float64(-5.397799999999999), np.float64(55.757))\n"
     ]
    },
    {
     "name": "stderr",
     "output_type": "stream",
     "text": [
      "  2%|▏         | 113/7058 [04:06<6:40:32,  3.46s/it]"
     ]
    },
    {
     "name": "stdout",
     "output_type": "stream",
     "text": [
      "[TILE ERROR] Found no graph nodes within the requested polygon. — bbox: (np.float64(-5.419499999999999), np.float64(55.76199999999999), np.float64(-5.397799999999999), np.float64(55.775))\n"
     ]
    },
    {
     "name": "stderr",
     "output_type": "stream",
     "text": [
      "  2%|▏         | 114/7058 [04:08<6:09:50,  3.20s/it]"
     ]
    },
    {
     "name": "stdout",
     "output_type": "stream",
     "text": [
      "[TILE ERROR] Found no graph nodes within the requested polygon. — bbox: (np.float64(-5.419499999999999), np.float64(56.526999999999994), np.float64(-5.397799999999999), np.float64(56.54))\n"
     ]
    },
    {
     "name": "stderr",
     "output_type": "stream",
     "text": [
      "  2%|▏         | 116/7058 [04:12<5:10:02,  2.68s/it]"
     ]
    },
    {
     "name": "stdout",
     "output_type": "stream",
     "text": [
      "[TILE ERROR] Found no graph nodes within the requested polygon. — bbox: (np.float64(-5.4037999999999995), np.float64(56.032), np.float64(-5.382099999999999), np.float64(56.045))\n"
     ]
    },
    {
     "name": "stderr",
     "output_type": "stream",
     "text": [
      "  2%|▏         | 117/7058 [04:13<3:57:14,  2.05s/it]"
     ]
    },
    {
     "name": "stdout",
     "output_type": "stream",
     "text": [
      "[TILE ERROR] Found no graph nodes within the requested polygon. — bbox: (np.float64(-5.4037999999999995), np.float64(56.24799999999999), np.float64(-5.382099999999999), np.float64(56.260999999999996))\n"
     ]
    },
    {
     "name": "stderr",
     "output_type": "stream",
     "text": [
      "  2%|▏         | 129/7058 [04:34<2:48:52,  1.46s/it]"
     ]
    },
    {
     "name": "stdout",
     "output_type": "stream",
     "text": [
      "[TILE ERROR] No data elements in server response. Check query location/filters and log. — bbox: (np.float64(-5.340999999999999), np.float64(56.12199999999999), np.float64(-5.319299999999999), np.float64(56.135))\n"
     ]
    },
    {
     "name": "stderr",
     "output_type": "stream",
     "text": [
      "  2%|▏         | 133/7058 [04:42<3:34:22,  1.86s/it]"
     ]
    },
    {
     "name": "stdout",
     "output_type": "stream",
     "text": [
      "[TILE ERROR] Found no graph nodes within the requested polygon. — bbox: (np.float64(-5.3252999999999995), np.float64(51.864999999999995), np.float64(-5.303599999999999), np.float64(51.878))\n"
     ]
    },
    {
     "name": "stderr",
     "output_type": "stream",
     "text": [
      "  2%|▏         | 137/7058 [05:06<8:49:38,  4.59s/it]"
     ]
    },
    {
     "name": "stdout",
     "output_type": "stream",
     "text": [
      "[TILE ERROR] Found no graph nodes within the requested polygon. — bbox: (np.float64(-5.3096), np.float64(51.900999999999996), np.float64(-5.2879), np.float64(51.914))\n"
     ]
    },
    {
     "name": "stderr",
     "output_type": "stream",
     "text": [
      "  2%|▏         | 139/7058 [05:12<8:03:55,  4.20s/it]"
     ]
    },
    {
     "name": "stdout",
     "output_type": "stream",
     "text": [
      "[TILE ERROR] Graph contains no edges. — bbox: (np.float64(-5.2939), np.float64(51.855999999999995), np.float64(-5.2722), np.float64(51.869))\n"
     ]
    },
    {
     "name": "stderr",
     "output_type": "stream",
     "text": [
      "  2%|▏         | 140/7058 [05:17<8:04:38,  4.20s/it]"
     ]
    },
    {
     "name": "stdout",
     "output_type": "stream",
     "text": [
      "[TILE ERROR] Found no graph nodes within the requested polygon. — bbox: (np.float64(-5.2939), np.float64(51.900999999999996), np.float64(-5.2722), np.float64(51.914))\n"
     ]
    },
    {
     "name": "stderr",
     "output_type": "stream",
     "text": [
      "  2%|▏         | 145/7058 [05:32<6:13:04,  3.24s/it]"
     ]
    },
    {
     "name": "stdout",
     "output_type": "stream",
     "text": [
      "[TILE ERROR] Found no graph nodes within the requested polygon. — bbox: (np.float64(-5.2782), np.float64(56.23899999999999), np.float64(-5.256499999999999), np.float64(56.251999999999995))\n"
     ]
    },
    {
     "name": "stderr",
     "output_type": "stream",
     "text": [
      "  2%|▏         | 151/7058 [05:38<2:23:33,  1.25s/it]"
     ]
    },
    {
     "name": "stdout",
     "output_type": "stream",
     "text": [
      "[TILE ERROR] Found no graph nodes within the requested polygon. — bbox: (np.float64(-5.2467999999999995), np.float64(55.986999999999995), np.float64(-5.225099999999999), np.float64(56.0))\n"
     ]
    },
    {
     "name": "stderr",
     "output_type": "stream",
     "text": [
      "  2%|▏         | 152/7058 [05:40<2:41:10,  1.40s/it]"
     ]
    },
    {
     "name": "stdout",
     "output_type": "stream",
     "text": [
      "[TILE ERROR] Found no graph nodes within the requested polygon. — bbox: (np.float64(-5.2311), np.float64(56.30199999999999), np.float64(-5.2094), np.float64(56.315))\n"
     ]
    },
    {
     "name": "stderr",
     "output_type": "stream",
     "text": [
      "  2%|▏         | 156/7058 [05:48<3:22:06,  1.76s/it]"
     ]
    },
    {
     "name": "stdout",
     "output_type": "stream",
     "text": [
      "[TILE ERROR] Found no graph nodes within the requested polygon. — bbox: (np.float64(-5.2154), np.float64(56.29299999999999), np.float64(-5.1937), np.float64(56.306))\n"
     ]
    },
    {
     "name": "stderr",
     "output_type": "stream",
     "text": [
      "  2%|▏         | 168/7058 [06:12<3:22:16,  1.76s/it]"
     ]
    },
    {
     "name": "stdout",
     "output_type": "stream",
     "text": [
      "[TILE ERROR] Graph contains no edges. — bbox: (np.float64(-5.1682999999999995), np.float64(56.184999999999995), np.float64(-5.146599999999999), np.float64(56.198))\n"
     ]
    },
    {
     "name": "stderr",
     "output_type": "stream",
     "text": [
      "  2%|▏         | 169/7058 [06:15<4:01:55,  2.11s/it]"
     ]
    },
    {
     "name": "stdout",
     "output_type": "stream",
     "text": [
      "[TILE ERROR] Found no graph nodes within the requested polygon. — bbox: (np.float64(-5.1526), np.float64(54.843999999999994), np.float64(-5.1309), np.float64(54.857))\n"
     ]
    },
    {
     "name": "stderr",
     "output_type": "stream",
     "text": [
      "  3%|▎         | 177/7058 [06:32<2:42:00,  1.41s/it]"
     ]
    },
    {
     "name": "stdout",
     "output_type": "stream",
     "text": [
      "[TILE ERROR] Found no graph nodes within the requested polygon. — bbox: (np.float64(-5.1212), np.float64(51.79299999999999), np.float64(-5.099499999999999), np.float64(51.806))\n"
     ]
    },
    {
     "name": "stderr",
     "output_type": "stream",
     "text": [
      "  3%|▎         | 186/7058 [06:54<2:51:13,  1.50s/it]"
     ]
    },
    {
     "name": "stdout",
     "output_type": "stream",
     "text": [
      "[TILE ERROR] Graph contains no edges. — bbox: (np.float64(-5.089799999999999), np.float64(52.017999999999994), np.float64(-5.068099999999999), np.float64(52.031))\n"
     ]
    },
    {
     "name": "stderr",
     "output_type": "stream",
     "text": [
      "  3%|▎         | 189/7058 [06:58<2:11:04,  1.14s/it]"
     ]
    },
    {
     "name": "stdout",
     "output_type": "stream",
     "text": [
      "[TILE ERROR] Found no graph nodes within the requested polygon. — bbox: (np.float64(-5.0741), np.float64(51.864999999999995), np.float64(-5.0524), np.float64(51.878))\n"
     ]
    },
    {
     "name": "stderr",
     "output_type": "stream",
     "text": [
      "  3%|▎         | 193/7058 [07:05<2:55:11,  1.53s/it]"
     ]
    },
    {
     "name": "stdout",
     "output_type": "stream",
     "text": [
      "[TILE ERROR] No data elements in server response. Check query location/filters and log. — bbox: (np.float64(-5.0584), np.float64(56.42799999999999), np.float64(-5.0367), np.float64(56.440999999999995))\n"
     ]
    },
    {
     "name": "stderr",
     "output_type": "stream",
     "text": [
      "  3%|▎         | 196/7058 [07:10<3:32:48,  1.86s/it]"
     ]
    },
    {
     "name": "stdout",
     "output_type": "stream",
     "text": [
      "[TILE ERROR] Found no graph nodes within the requested polygon. — bbox: (np.float64(-5.026999999999999), np.float64(56.41), np.float64(-5.005299999999999), np.float64(56.422999999999995))\n"
     ]
    },
    {
     "name": "stderr",
     "output_type": "stream",
     "text": [
      "  3%|▎         | 197/7058 [07:13<3:46:50,  1.98s/it]"
     ]
    },
    {
     "name": "stdout",
     "output_type": "stream",
     "text": [
      "[TILE ERROR] Found no graph nodes within the requested polygon. — bbox: (np.float64(-5.026999999999999), np.float64(56.41899999999999), np.float64(-5.005299999999999), np.float64(56.431999999999995))\n"
     ]
    },
    {
     "name": "stderr",
     "output_type": "stream",
     "text": [
      "  3%|▎         | 198/7058 [07:13<3:01:53,  1.59s/it]"
     ]
    },
    {
     "name": "stdout",
     "output_type": "stream",
     "text": [
      "[TILE ERROR] Graph contains no edges. — bbox: (np.float64(-5.011299999999999), np.float64(51.60399999999999), np.float64(-4.989599999999999), np.float64(51.617))\n"
     ]
    },
    {
     "name": "stderr",
     "output_type": "stream",
     "text": [
      "  3%|▎         | 203/7058 [07:20<2:55:47,  1.54s/it]"
     ]
    },
    {
     "name": "stdout",
     "output_type": "stream",
     "text": [
      "[TILE ERROR] Found no graph nodes within the requested polygon. — bbox: (np.float64(-4.9956), np.float64(56.24799999999999), np.float64(-4.9738999999999995), np.float64(56.260999999999996))\n"
     ]
    },
    {
     "name": "stderr",
     "output_type": "stream",
     "text": [
      "  3%|▎         | 211/7058 [07:34<2:12:01,  1.16s/it]"
     ]
    },
    {
     "name": "stdout",
     "output_type": "stream",
     "text": [
      "[TILE ERROR] Found no graph nodes within the requested polygon. — bbox: (np.float64(-4.9485), np.float64(51.59499999999999), np.float64(-4.926799999999999), np.float64(51.608))\n"
     ]
    },
    {
     "name": "stderr",
     "output_type": "stream",
     "text": [
      "  3%|▎         | 214/7058 [07:39<3:00:23,  1.58s/it]"
     ]
    },
    {
     "name": "stdout",
     "output_type": "stream",
     "text": [
      "[TILE ERROR] Graph contains no edges. — bbox: (np.float64(-4.932799999999999), np.float64(51.59499999999999), np.float64(-4.911099999999999), np.float64(51.608))\n"
     ]
    },
    {
     "name": "stderr",
     "output_type": "stream",
     "text": [
      "  3%|▎         | 219/7058 [07:58<7:04:59,  3.73s/it]"
     ]
    },
    {
     "name": "stdout",
     "output_type": "stream",
     "text": [
      "[TILE ERROR] No data elements in server response. Check query location/filters and log. — bbox: (np.float64(-4.9171), np.float64(51.60399999999999), np.float64(-4.8953999999999995), np.float64(51.617))\n"
     ]
    },
    {
     "name": "stderr",
     "output_type": "stream",
     "text": [
      "  3%|▎         | 224/7058 [08:12<4:48:35,  2.53s/it]"
     ]
    },
    {
     "name": "stdout",
     "output_type": "stream",
     "text": [
      "[TILE ERROR] Graph contains no edges. — bbox: (np.float64(-4.9014), np.float64(52.017999999999994), np.float64(-4.8797), np.float64(52.031))\n"
     ]
    },
    {
     "name": "stderr",
     "output_type": "stream",
     "text": [
      "  3%|▎         | 228/7058 [08:19<3:34:45,  1.89s/it]"
     ]
    },
    {
     "name": "stdout",
     "output_type": "stream",
     "text": [
      "[TILE ERROR] Found no graph nodes within the requested polygon. — bbox: (np.float64(-4.8857), np.float64(56.23899999999999), np.float64(-4.864), np.float64(56.251999999999995))\n"
     ]
    },
    {
     "name": "stderr",
     "output_type": "stream",
     "text": [
      "  3%|▎         | 229/7058 [08:21<3:20:29,  1.76s/it]"
     ]
    },
    {
     "name": "stdout",
     "output_type": "stream",
     "text": [
      "[TILE ERROR] No data elements in server response. Check query location/filters and log. — bbox: (np.float64(-4.8857), np.float64(57.00399999999999), np.float64(-4.864), np.float64(57.016999999999996))\n"
     ]
    },
    {
     "name": "stderr",
     "output_type": "stream",
     "text": [
      "  3%|▎         | 233/7058 [08:30<3:41:20,  1.95s/it]"
     ]
    },
    {
     "name": "stdout",
     "output_type": "stream",
     "text": [
      "[TILE ERROR] Found no graph nodes within the requested polygon. — bbox: (np.float64(-4.87), np.float64(56.42799999999999), np.float64(-4.848299999999999), np.float64(56.440999999999995))\n"
     ]
    },
    {
     "name": "stderr",
     "output_type": "stream",
     "text": [
      "  3%|▎         | 235/7058 [08:35<4:00:17,  2.11s/it]"
     ]
    },
    {
     "name": "stdout",
     "output_type": "stream",
     "text": [
      "[TILE ERROR] Found no graph nodes within the requested polygon. — bbox: (np.float64(-4.854299999999999), np.float64(51.92799999999999), np.float64(-4.832599999999999), np.float64(51.940999999999995))\n"
     ]
    },
    {
     "name": "stderr",
     "output_type": "stream",
     "text": [
      "  3%|▎         | 238/7058 [08:42<5:04:49,  2.68s/it]"
     ]
    },
    {
     "name": "stdout",
     "output_type": "stream",
     "text": [
      "[TILE ERROR] Found no graph nodes within the requested polygon. — bbox: (np.float64(-4.854299999999999), np.float64(56.23899999999999), np.float64(-4.832599999999999), np.float64(56.251999999999995))\n"
     ]
    },
    {
     "name": "stderr",
     "output_type": "stream",
     "text": [
      "  3%|▎         | 240/7058 [08:46<4:12:57,  2.23s/it]"
     ]
    },
    {
     "name": "stdout",
     "output_type": "stream",
     "text": [
      "[TILE ERROR] Found no graph nodes within the requested polygon. — bbox: (np.float64(-4.8386), np.float64(51.78399999999999), np.float64(-4.8168999999999995), np.float64(51.797))\n"
     ]
    },
    {
     "name": "stderr",
     "output_type": "stream",
     "text": [
      "  3%|▎         | 243/7058 [08:47<2:12:09,  1.16s/it]"
     ]
    },
    {
     "name": "stdout",
     "output_type": "stream",
     "text": [
      "[TILE ERROR] Found no graph nodes within the requested polygon. — bbox: (np.float64(-4.8386), np.float64(56.42799999999999), np.float64(-4.8168999999999995), np.float64(56.440999999999995))\n"
     ]
    },
    {
     "name": "stderr",
     "output_type": "stream",
     "text": [
      "  4%|▎         | 249/7058 [08:58<3:11:47,  1.69s/it]"
     ]
    },
    {
     "name": "stdout",
     "output_type": "stream",
     "text": [
      "[TILE ERROR] Found no graph nodes within the requested polygon. — bbox: (np.float64(-4.8072), np.float64(56.526999999999994), np.float64(-4.7855), np.float64(56.54))\n"
     ]
    },
    {
     "name": "stderr",
     "output_type": "stream",
     "text": [
      "  4%|▎         | 256/7058 [09:12<3:58:25,  2.10s/it]"
     ]
    },
    {
     "name": "stdout",
     "output_type": "stream",
     "text": [
      "[TILE ERROR] Found no graph nodes within the requested polygon. — bbox: (np.float64(-4.7600999999999996), np.float64(50.29899999999999), np.float64(-4.7383999999999995), np.float64(50.312))\n"
     ]
    },
    {
     "name": "stderr",
     "output_type": "stream",
     "text": [
      "  4%|▎         | 260/7058 [09:17<2:47:48,  1.48s/it]"
     ]
    },
    {
     "name": "stdout",
     "output_type": "stream",
     "text": [
      "[TILE ERROR] Found no graph nodes within the requested polygon. — bbox: (np.float64(-4.7600999999999996), np.float64(56.589999999999996), np.float64(-4.7383999999999995), np.float64(56.603))\n"
     ]
    },
    {
     "name": "stderr",
     "output_type": "stream",
     "text": [
      "  4%|▎         | 263/7058 [09:25<3:47:12,  2.01s/it]"
     ]
    },
    {
     "name": "stdout",
     "output_type": "stream",
     "text": [
      "[TILE ERROR] Found no graph nodes within the requested polygon. — bbox: (np.float64(-4.7444), np.float64(56.562999999999995), np.float64(-4.7227), np.float64(56.576))\n"
     ]
    },
    {
     "name": "stderr",
     "output_type": "stream",
     "text": [
      "  4%|▍         | 274/7058 [09:52<5:45:03,  3.05s/it]"
     ]
    },
    {
     "name": "stdout",
     "output_type": "stream",
     "text": [
      "[TILE ERROR] Found no graph nodes within the requested polygon. — bbox: (np.float64(-4.713), np.float64(51.97299999999999), np.float64(-4.691299999999999), np.float64(51.986))\n"
     ]
    },
    {
     "name": "stderr",
     "output_type": "stream",
     "text": [
      "  4%|▍         | 280/7058 [10:01<2:50:01,  1.51s/it]"
     ]
    },
    {
     "name": "stdout",
     "output_type": "stream",
     "text": [
      "[TILE ERROR] Found no graph nodes within the requested polygon. — bbox: (np.float64(-4.697299999999999), np.float64(51.882999999999996), np.float64(-4.675599999999999), np.float64(51.896))\n"
     ]
    },
    {
     "name": "stderr",
     "output_type": "stream",
     "text": [
      "  4%|▍         | 288/7058 [10:21<4:29:37,  2.39s/it]"
     ]
    },
    {
     "name": "stdout",
     "output_type": "stream",
     "text": [
      "[TILE ERROR] Found no graph nodes within the requested polygon. — bbox: (np.float64(-4.6502), np.float64(50.50599999999999), np.float64(-4.6285), np.float64(50.519))\n"
     ]
    },
    {
     "name": "stderr",
     "output_type": "stream",
     "text": [
      "  4%|▍         | 304/7058 [11:07<5:29:44,  2.93s/it]"
     ]
    },
    {
     "name": "stdout",
     "output_type": "stream",
     "text": [
      "[TILE ERROR] Found no graph nodes within the requested polygon. — bbox: (np.float64(-4.6030999999999995), np.float64(54.77199999999999), np.float64(-4.5813999999999995), np.float64(54.785))\n"
     ]
    },
    {
     "name": "stderr",
     "output_type": "stream",
     "text": [
      "  4%|▍         | 311/7058 [11:24<3:32:00,  1.89s/it]"
     ]
    },
    {
     "name": "stdout",
     "output_type": "stream",
     "text": [
      "[TILE ERROR] Found no graph nodes within the requested polygon. — bbox: (np.float64(-4.5717), np.float64(54.897999999999996), np.float64(-4.55), np.float64(54.911))\n"
     ]
    },
    {
     "name": "stderr",
     "output_type": "stream",
     "text": [
      "  5%|▍         | 319/7058 [11:40<5:28:22,  2.92s/it]"
     ]
    },
    {
     "name": "stdout",
     "output_type": "stream",
     "text": [
      "[TILE ERROR] Found no graph nodes within the requested polygon. — bbox: (np.float64(-4.5245999999999995), np.float64(54.98799999999999), np.float64(-4.5028999999999995), np.float64(55.001))\n"
     ]
    },
    {
     "name": "stderr",
     "output_type": "stream",
     "text": [
      "  5%|▍         | 325/7058 [11:57<4:41:03,  2.50s/it]"
     ]
    },
    {
     "name": "stdout",
     "output_type": "stream",
     "text": [
      "[TILE ERROR] Found no graph nodes within the requested polygon. — bbox: (np.float64(-4.4932), np.float64(50.50599999999999), np.float64(-4.4715), np.float64(50.519))\n"
     ]
    },
    {
     "name": "stderr",
     "output_type": "stream",
     "text": [
      "  5%|▍         | 331/7058 [12:13<4:48:33,  2.57s/it]"
     ]
    },
    {
     "name": "stdout",
     "output_type": "stream",
     "text": [
      "[TILE ERROR] Graph contains no edges. — bbox: (np.float64(-4.4775), np.float64(55.086999999999996), np.float64(-4.455799999999999), np.float64(55.1))\n"
     ]
    },
    {
     "name": "stderr",
     "output_type": "stream",
     "text": [
      "  5%|▍         | 334/7058 [12:24<5:57:59,  3.19s/it]"
     ]
    },
    {
     "name": "stdout",
     "output_type": "stream",
     "text": [
      "[TILE ERROR] Found no graph nodes within the requested polygon. — bbox: (np.float64(-4.461799999999999), np.float64(54.690999999999995), np.float64(-4.440099999999999), np.float64(54.704))\n"
     ]
    },
    {
     "name": "stderr",
     "output_type": "stream",
     "text": [
      "  5%|▍         | 336/7058 [12:29<5:35:05,  2.99s/it]"
     ]
    },
    {
     "name": "stdout",
     "output_type": "stream",
     "text": [
      "[TILE ERROR] Graph contains no edges. — bbox: (np.float64(-4.461799999999999), np.float64(55.48299999999999), np.float64(-4.440099999999999), np.float64(55.495999999999995))\n"
     ]
    },
    {
     "name": "stderr",
     "output_type": "stream",
     "text": [
      "  5%|▍         | 346/7058 [12:59<5:32:56,  2.98s/it]"
     ]
    },
    {
     "name": "stdout",
     "output_type": "stream",
     "text": [
      "[TILE ERROR] Graph contains no edges. — bbox: (np.float64(-4.4304), np.float64(54.843999999999994), np.float64(-4.4087), np.float64(54.857))\n"
     ]
    },
    {
     "name": "stderr",
     "output_type": "stream",
     "text": [
      "  5%|▌         | 353/7058 [13:10<2:50:36,  1.53s/it]"
     ]
    },
    {
     "name": "stdout",
     "output_type": "stream",
     "text": [
      "[TILE ERROR] Found no graph nodes within the requested polygon. — bbox: (np.float64(-4.4147), np.float64(54.97899999999999), np.float64(-4.393), np.float64(54.992))\n"
     ]
    },
    {
     "name": "stderr",
     "output_type": "stream",
     "text": [
      "  5%|▌         | 355/7058 [13:13<2:35:26,  1.39s/it]"
     ]
    },
    {
     "name": "stdout",
     "output_type": "stream",
     "text": [
      "[TILE ERROR] Found no graph nodes within the requested polygon. — bbox: (np.float64(-4.399), np.float64(50.370999999999995), np.float64(-4.377299999999999), np.float64(50.384))\n"
     ]
    },
    {
     "name": "stderr",
     "output_type": "stream",
     "text": [
      "  5%|▌         | 381/7058 [14:04<3:09:39,  1.70s/it]"
     ]
    },
    {
     "name": "stdout",
     "output_type": "stream",
     "text": [
      "[TILE ERROR] Graph contains no edges. — bbox: (np.float64(-4.3362), np.float64(54.870999999999995), np.float64(-4.3145), np.float64(54.884))\n"
     ]
    },
    {
     "name": "stderr",
     "output_type": "stream",
     "text": [
      "  6%|▌         | 397/7058 [14:31<3:21:49,  1.82s/it]"
     ]
    },
    {
     "name": "stdout",
     "output_type": "stream",
     "text": [
      "[TILE ERROR] Found no graph nodes within the requested polygon. — bbox: (np.float64(-4.2890999999999995), np.float64(56.22999999999999), np.float64(-4.267399999999999), np.float64(56.242999999999995))\n"
     ]
    },
    {
     "name": "stderr",
     "output_type": "stream",
     "text": [
      "  6%|▌         | 399/7058 [14:35<3:39:43,  1.98s/it]"
     ]
    },
    {
     "name": "stdout",
     "output_type": "stream",
     "text": [
      "[TILE ERROR] Found no graph nodes within the requested polygon. — bbox: (np.float64(-4.2734), np.float64(54.870999999999995), np.float64(-4.2517), np.float64(54.884))\n"
     ]
    },
    {
     "name": "stderr",
     "output_type": "stream",
     "text": [
      "  6%|▌         | 404/7058 [14:44<3:22:47,  1.83s/it]"
     ]
    },
    {
     "name": "stdout",
     "output_type": "stream",
     "text": [
      "[TILE ERROR] Found no graph nodes within the requested polygon. — bbox: (np.float64(-4.2734), np.float64(56.67999999999999), np.float64(-4.2517), np.float64(56.693))\n"
     ]
    },
    {
     "name": "stderr",
     "output_type": "stream",
     "text": [
      "  6%|▌         | 406/7058 [14:55<6:50:11,  3.70s/it]"
     ]
    },
    {
     "name": "stdout",
     "output_type": "stream",
     "text": [
      "[TILE ERROR] Found no graph nodes within the requested polygon. — bbox: (np.float64(-4.2577), np.float64(51.62199999999999), np.float64(-4.236), np.float64(51.635))\n"
     ]
    },
    {
     "name": "stderr",
     "output_type": "stream",
     "text": [
      "  6%|▌         | 410/7058 [15:02<4:00:08,  2.17s/it]"
     ]
    },
    {
     "name": "stdout",
     "output_type": "stream",
     "text": [
      "[TILE ERROR] No data elements in server response. Check query location/filters and log. — bbox: (np.float64(-4.2577), np.float64(56.517999999999994), np.float64(-4.236), np.float64(56.531))\n"
     ]
    },
    {
     "name": "stderr",
     "output_type": "stream",
     "text": [
      "  6%|▌         | 411/7058 [15:06<4:48:38,  2.61s/it]"
     ]
    },
    {
     "name": "stdout",
     "output_type": "stream",
     "text": [
      "[TILE ERROR] No data elements in server response. Check query location/filters and log. — bbox: (np.float64(-4.2577), np.float64(56.769999999999996), np.float64(-4.236), np.float64(56.783))\n"
     ]
    },
    {
     "name": "stderr",
     "output_type": "stream",
     "text": [
      "  6%|▌         | 412/7058 [15:08<4:12:36,  2.28s/it]"
     ]
    },
    {
     "name": "stdout",
     "output_type": "stream",
     "text": [
      "[TILE ERROR] Found no graph nodes within the requested polygon. — bbox: (np.float64(-4.2577), np.float64(56.82399999999999), np.float64(-4.236), np.float64(56.836999999999996))\n"
     ]
    },
    {
     "name": "stderr",
     "output_type": "stream",
     "text": [
      "  6%|▌         | 416/7058 [15:16<3:55:32,  2.13s/it]"
     ]
    },
    {
     "name": "stdout",
     "output_type": "stream",
     "text": [
      "[TILE ERROR] Graph contains no edges. — bbox: (np.float64(-4.242), np.float64(51.532), np.float64(-4.2203), np.float64(51.545))\n"
     ]
    },
    {
     "name": "stderr",
     "output_type": "stream",
     "text": [
      "  6%|▌         | 417/7058 [15:18<3:50:21,  2.08s/it]"
     ]
    },
    {
     "name": "stdout",
     "output_type": "stream",
     "text": [
      "[TILE ERROR] No data elements in server response. Check query location/filters and log. — bbox: (np.float64(-4.242), np.float64(56.79699999999999), np.float64(-4.2203), np.float64(56.809999999999995))\n"
     ]
    },
    {
     "name": "stderr",
     "output_type": "stream",
     "text": [
      "  6%|▌         | 420/7058 [15:27<4:31:44,  2.46s/it]"
     ]
    },
    {
     "name": "stdout",
     "output_type": "stream",
     "text": [
      "[TILE ERROR] Found no graph nodes within the requested polygon. — bbox: (np.float64(-4.2263), np.float64(54.80799999999999), np.float64(-4.204599999999999), np.float64(54.821))\n"
     ]
    },
    {
     "name": "stderr",
     "output_type": "stream",
     "text": [
      "  6%|▌         | 431/7058 [15:56<6:17:27,  3.42s/it]"
     ]
    },
    {
     "name": "stdout",
     "output_type": "stream",
     "text": [
      "[TILE ERROR] Graph contains no edges. — bbox: (np.float64(-4.1949), np.float64(51.07299999999999), np.float64(-4.1732), np.float64(51.086))\n"
     ]
    },
    {
     "name": "stderr",
     "output_type": "stream",
     "text": [
      "  6%|▌         | 437/7058 [16:08<4:23:17,  2.39s/it]"
     ]
    },
    {
     "name": "stdout",
     "output_type": "stream",
     "text": [
      "[TILE ERROR] Graph contains no edges. — bbox: (np.float64(-4.1949), np.float64(55.16799999999999), np.float64(-4.1732), np.float64(55.181))\n"
     ]
    },
    {
     "name": "stderr",
     "output_type": "stream",
     "text": [
      "  6%|▋         | 446/7058 [16:27<3:20:54,  1.82s/it]"
     ]
    },
    {
     "name": "stdout",
     "output_type": "stream",
     "text": [
      "[TILE ERROR] Found no graph nodes within the requested polygon. — bbox: (np.float64(-4.1635), np.float64(54.78099999999999), np.float64(-4.1418), np.float64(54.794))\n"
     ]
    },
    {
     "name": "stderr",
     "output_type": "stream",
     "text": [
      "  6%|▋         | 450/7058 [16:43<6:50:39,  3.73s/it]"
     ]
    },
    {
     "name": "stdout",
     "output_type": "stream",
     "text": [
      "[TILE ERROR] Graph contains no edges. — bbox: (np.float64(-4.1478), np.float64(50.63199999999999), np.float64(-4.126099999999999), np.float64(50.644999999999996))\n"
     ]
    },
    {
     "name": "stderr",
     "output_type": "stream",
     "text": [
      "  7%|▋         | 465/7058 [17:29<8:10:20,  4.46s/it]"
     ]
    },
    {
     "name": "stdout",
     "output_type": "stream",
     "text": [
      "[TILE ERROR] Found no graph nodes within the requested polygon. — bbox: (np.float64(-4.1164), np.float64(54.76299999999999), np.float64(-4.0947), np.float64(54.775999999999996))\n"
     ]
    },
    {
     "name": "stderr",
     "output_type": "stream",
     "text": [
      "  7%|▋         | 468/7058 [17:38<6:21:30,  3.47s/it]"
     ]
    },
    {
     "name": "stdout",
     "output_type": "stream",
     "text": [
      "[TILE ERROR] Graph contains no edges. — bbox: (np.float64(-4.1164), np.float64(56.43699999999999), np.float64(-4.0947), np.float64(56.449999999999996))\n"
     ]
    },
    {
     "name": "stderr",
     "output_type": "stream",
     "text": [
      "  7%|▋         | 469/7058 [17:40<5:36:51,  3.07s/it]"
     ]
    },
    {
     "name": "stdout",
     "output_type": "stream",
     "text": [
      "[TILE ERROR] Found no graph nodes within the requested polygon. — bbox: (np.float64(-4.1164), np.float64(56.706999999999994), np.float64(-4.0947), np.float64(56.72))\n"
     ]
    },
    {
     "name": "stderr",
     "output_type": "stream",
     "text": [
      "  7%|▋         | 479/7058 [17:54<3:16:30,  1.79s/it]"
     ]
    },
    {
     "name": "stdout",
     "output_type": "stream",
     "text": [
      "[TILE ERROR] Graph contains no edges. — bbox: (np.float64(-4.085), np.float64(54.96099999999999), np.float64(-4.0633), np.float64(54.974))\n"
     ]
    },
    {
     "name": "stderr",
     "output_type": "stream",
     "text": [
      "  7%|▋         | 486/7058 [18:08<3:30:12,  1.92s/it]"
     ]
    },
    {
     "name": "stdout",
     "output_type": "stream",
     "text": [
      "[TILE ERROR] No data elements in server response. Check query location/filters and log. — bbox: (np.float64(-4.0693), np.float64(56.49999999999999), np.float64(-4.047599999999999), np.float64(56.513))\n"
     ]
    },
    {
     "name": "stderr",
     "output_type": "stream",
     "text": [
      "  7%|▋         | 487/7058 [18:09<2:44:17,  1.50s/it]"
     ]
    },
    {
     "name": "stdout",
     "output_type": "stream",
     "text": [
      "[TILE ERROR] Found no graph nodes within the requested polygon. — bbox: (np.float64(-4.053599999999999), np.float64(50.69499999999999), np.float64(-4.031899999999999), np.float64(50.708))\n"
     ]
    },
    {
     "name": "stderr",
     "output_type": "stream",
     "text": [
      "  7%|▋         | 492/7058 [18:20<4:02:12,  2.21s/it]"
     ]
    },
    {
     "name": "stdout",
     "output_type": "stream",
     "text": [
      "[TILE ERROR] Graph contains no edges. — bbox: (np.float64(-4.053599999999999), np.float64(56.41), np.float64(-4.031899999999999), np.float64(56.422999999999995))\n"
     ]
    },
    {
     "name": "stderr",
     "output_type": "stream",
     "text": [
      "  7%|▋         | 493/7058 [18:22<3:57:33,  2.17s/it]"
     ]
    },
    {
     "name": "stdout",
     "output_type": "stream",
     "text": [
      "[TILE ERROR] No data elements in server response. Check query location/filters and log. — bbox: (np.float64(-4.053599999999999), np.float64(56.44599999999999), np.float64(-4.031899999999999), np.float64(56.458999999999996))\n"
     ]
    },
    {
     "name": "stderr",
     "output_type": "stream",
     "text": [
      "  7%|▋         | 494/7058 [18:25<4:15:30,  2.34s/it]"
     ]
    },
    {
     "name": "stdout",
     "output_type": "stream",
     "text": [
      "[TILE ERROR] No data elements in server response. Check query location/filters and log. — bbox: (np.float64(-4.053599999999999), np.float64(56.47299999999999), np.float64(-4.031899999999999), np.float64(56.486))\n"
     ]
    },
    {
     "name": "stderr",
     "output_type": "stream",
     "text": [
      "  7%|▋         | 496/7058 [18:30<4:25:34,  2.43s/it]"
     ]
    },
    {
     "name": "stdout",
     "output_type": "stream",
     "text": [
      "[TILE ERROR] Graph contains no edges. — bbox: (np.float64(-4.0379), np.float64(51.95499999999999), np.float64(-4.0161999999999995), np.float64(51.967999999999996))\n",
      "[TILE ERROR] Found no graph nodes within the requested polygon. — bbox: (np.float64(-4.0379), np.float64(53.160999999999994), np.float64(-4.0161999999999995), np.float64(53.174))\n"
     ]
    },
    {
     "name": "stderr",
     "output_type": "stream",
     "text": [
      "  7%|▋         | 499/7058 [18:36<3:55:25,  2.15s/it]"
     ]
    },
    {
     "name": "stdout",
     "output_type": "stream",
     "text": [
      "[TILE ERROR] Graph contains no edges. — bbox: (np.float64(-4.0379), np.float64(54.879999999999995), np.float64(-4.0161999999999995), np.float64(54.893))\n"
     ]
    },
    {
     "name": "stderr",
     "output_type": "stream",
     "text": [
      "  7%|▋         | 500/7058 [18:40<5:13:32,  2.87s/it]"
     ]
    },
    {
     "name": "stdout",
     "output_type": "stream",
     "text": [
      "[TILE ERROR] Found no graph nodes within the requested polygon. — bbox: (np.float64(-4.0379), np.float64(54.98799999999999), np.float64(-4.0161999999999995), np.float64(55.001))\n"
     ]
    },
    {
     "name": "stderr",
     "output_type": "stream",
     "text": [
      "  7%|▋         | 503/7058 [18:48<5:30:28,  3.03s/it]"
     ]
    },
    {
     "name": "stdout",
     "output_type": "stream",
     "text": [
      "[TILE ERROR] Found no graph nodes within the requested polygon. — bbox: (np.float64(-4.0379), np.float64(56.42799999999999), np.float64(-4.0161999999999995), np.float64(56.440999999999995))\n"
     ]
    },
    {
     "name": "stderr",
     "output_type": "stream",
     "text": [
      "  7%|▋         | 504/7058 [18:49<4:08:13,  2.27s/it]"
     ]
    },
    {
     "name": "stdout",
     "output_type": "stream",
     "text": [
      "[TILE ERROR] Graph contains no edges. — bbox: (np.float64(-4.0379), np.float64(56.47299999999999), np.float64(-4.0161999999999995), np.float64(56.486))\n"
     ]
    },
    {
     "name": "stderr",
     "output_type": "stream",
     "text": [
      "  7%|▋         | 505/7058 [18:54<5:55:23,  3.25s/it]"
     ]
    },
    {
     "name": "stdout",
     "output_type": "stream",
     "text": [
      "[TILE ERROR] Found no graph nodes within the requested polygon. — bbox: (np.float64(-4.0222), np.float64(50.45199999999999), np.float64(-4.0005), np.float64(50.464999999999996))\n"
     ]
    },
    {
     "name": "stderr",
     "output_type": "stream",
     "text": [
      "  7%|▋         | 510/7058 [19:10<4:13:44,  2.33s/it]"
     ]
    },
    {
     "name": "stdout",
     "output_type": "stream",
     "text": [
      "[TILE ERROR] Found no graph nodes within the requested polygon. — bbox: (np.float64(-4.0222), np.float64(54.96999999999999), np.float64(-4.0005), np.float64(54.983))\n"
     ]
    },
    {
     "name": "stderr",
     "output_type": "stream",
     "text": [
      "  7%|▋         | 512/7058 [19:15<4:02:45,  2.23s/it]"
     ]
    },
    {
     "name": "stdout",
     "output_type": "stream",
     "text": [
      "[TILE ERROR] No data elements in server response. Check query location/filters and log. — bbox: (np.float64(-4.0222), np.float64(55.410999999999994), np.float64(-4.0005), np.float64(55.424))\n"
     ]
    },
    {
     "name": "stderr",
     "output_type": "stream",
     "text": [
      "  7%|▋         | 514/7058 [19:21<4:16:14,  2.35s/it]"
     ]
    },
    {
     "name": "stdout",
     "output_type": "stream",
     "text": [
      "[TILE ERROR] Found no graph nodes within the requested polygon. — bbox: (np.float64(-4.0222), np.float64(56.346999999999994), np.float64(-4.0005), np.float64(56.36))\n"
     ]
    },
    {
     "name": "stderr",
     "output_type": "stream",
     "text": [
      "  7%|▋         | 515/7058 [19:25<5:24:48,  2.98s/it]"
     ]
    },
    {
     "name": "stdout",
     "output_type": "stream",
     "text": [
      "[TILE ERROR] Found no graph nodes within the requested polygon. — bbox: (np.float64(-4.0222), np.float64(56.382999999999996), np.float64(-4.0005), np.float64(56.396))\n"
     ]
    },
    {
     "name": "stderr",
     "output_type": "stream",
     "text": [
      "  7%|▋         | 516/7058 [19:25<4:01:35,  2.22s/it]"
     ]
    },
    {
     "name": "stdout",
     "output_type": "stream",
     "text": [
      "[TILE ERROR] Found no graph nodes within the requested polygon. — bbox: (np.float64(-4.0222), np.float64(56.65299999999999), np.float64(-4.0005), np.float64(56.666))\n"
     ]
    },
    {
     "name": "stderr",
     "output_type": "stream",
     "text": [
      "  7%|▋         | 517/7058 [19:26<3:01:52,  1.67s/it]"
     ]
    },
    {
     "name": "stdout",
     "output_type": "stream",
     "text": [
      "[TILE ERROR] Found no graph nodes within the requested polygon. — bbox: (np.float64(-4.0222), np.float64(57.03099999999999), np.float64(-4.0005), np.float64(57.044))\n"
     ]
    },
    {
     "name": "stderr",
     "output_type": "stream",
     "text": [
      "  7%|▋         | 518/7058 [19:31<4:44:00,  2.61s/it]"
     ]
    },
    {
     "name": "stdout",
     "output_type": "stream",
     "text": [
      "[TILE ERROR] Found no graph nodes within the requested polygon. — bbox: (np.float64(-4.0065), np.float64(51.20799999999999), np.float64(-3.9847999999999995), np.float64(51.221))\n"
     ]
    },
    {
     "name": "stderr",
     "output_type": "stream",
     "text": [
      "  7%|▋         | 524/7058 [19:42<4:24:28,  2.43s/it]"
     ]
    },
    {
     "name": "stdout",
     "output_type": "stream",
     "text": [
      "[TILE ERROR] Found no graph nodes within the requested polygon. — bbox: (np.float64(-4.0065), np.float64(56.382999999999996), np.float64(-3.9847999999999995), np.float64(56.396))\n"
     ]
    },
    {
     "name": "stderr",
     "output_type": "stream",
     "text": [
      "  7%|▋         | 525/7058 [19:53<9:08:28,  5.04s/it]"
     ]
    },
    {
     "name": "stdout",
     "output_type": "stream",
     "text": [
      "[TILE ERROR] Found no graph nodes within the requested polygon. — bbox: (np.float64(-4.0065), np.float64(56.47299999999999), np.float64(-3.9847999999999995), np.float64(56.486))\n"
     ]
    },
    {
     "name": "stderr",
     "output_type": "stream",
     "text": [
      "  8%|▊         | 536/7058 [20:09<2:47:16,  1.54s/it]"
     ]
    },
    {
     "name": "stdout",
     "output_type": "stream",
     "text": [
      "[TILE ERROR] Found no graph nodes within the requested polygon. — bbox: (np.float64(-3.9751), np.float64(52.12599999999999), np.float64(-3.9533999999999994), np.float64(52.138999999999996))\n"
     ]
    },
    {
     "name": "stderr",
     "output_type": "stream",
     "text": [
      "  8%|▊         | 537/7058 [20:14<4:37:40,  2.55s/it]"
     ]
    },
    {
     "name": "stdout",
     "output_type": "stream",
     "text": [
      "[TILE ERROR] Graph contains no edges. — bbox: (np.float64(-3.9751), np.float64(52.50399999999999), np.float64(-3.9533999999999994), np.float64(52.516999999999996))\n"
     ]
    },
    {
     "name": "stderr",
     "output_type": "stream",
     "text": [
      "  8%|▊         | 539/7058 [20:20<5:05:45,  2.81s/it]"
     ]
    },
    {
     "name": "stdout",
     "output_type": "stream",
     "text": [
      "[TILE ERROR] Found no graph nodes within the requested polygon. — bbox: (np.float64(-3.9751), np.float64(54.98799999999999), np.float64(-3.9533999999999994), np.float64(55.001))\n"
     ]
    },
    {
     "name": "stderr",
     "output_type": "stream",
     "text": [
      "  8%|▊         | 542/7058 [20:27<4:21:03,  2.40s/it]"
     ]
    },
    {
     "name": "stdout",
     "output_type": "stream",
     "text": [
      "[TILE ERROR] No data elements in server response. Check query location/filters and log. — bbox: (np.float64(-3.9751), np.float64(57.04899999999999), np.float64(-3.9533999999999994), np.float64(57.062))\n"
     ]
    },
    {
     "name": "stderr",
     "output_type": "stream",
     "text": [
      "  8%|▊         | 550/7058 [20:42<4:37:06,  2.55s/it]"
     ]
    },
    {
     "name": "stdout",
     "output_type": "stream",
     "text": [
      "[TILE ERROR] No data elements in server response. Check query location/filters and log. — bbox: (np.float64(-3.9593999999999996), np.float64(56.66199999999999), np.float64(-3.9376999999999995), np.float64(56.675))\n"
     ]
    },
    {
     "name": "stderr",
     "output_type": "stream",
     "text": [
      "  8%|▊         | 558/7058 [21:01<3:57:37,  2.19s/it]"
     ]
    },
    {
     "name": "stdout",
     "output_type": "stream",
     "text": [
      "[TILE ERROR] No data elements in server response. Check query location/filters and log. — bbox: (np.float64(-3.9436999999999998), np.float64(56.724999999999994), np.float64(-3.9219999999999997), np.float64(56.738))\n"
     ]
    },
    {
     "name": "stderr",
     "output_type": "stream",
     "text": [
      "  8%|▊         | 561/7058 [21:08<3:47:39,  2.10s/it]"
     ]
    },
    {
     "name": "stdout",
     "output_type": "stream",
     "text": [
      "[TILE ERROR] Found no graph nodes within the requested polygon. — bbox: (np.float64(-3.9436999999999998), np.float64(57.06699999999999), np.float64(-3.9219999999999997), np.float64(57.08))\n"
     ]
    },
    {
     "name": "stderr",
     "output_type": "stream",
     "text": [
      "  8%|▊         | 566/7058 [21:19<4:13:50,  2.35s/it]"
     ]
    },
    {
     "name": "stdout",
     "output_type": "stream",
     "text": [
      "[TILE ERROR] No data elements in server response. Check query location/filters and log. — bbox: (np.float64(-3.928), np.float64(56.66199999999999), np.float64(-3.9062999999999994), np.float64(56.675))\n"
     ]
    },
    {
     "name": "stderr",
     "output_type": "stream",
     "text": [
      "  8%|▊         | 567/7058 [21:20<3:10:51,  1.76s/it]"
     ]
    },
    {
     "name": "stdout",
     "output_type": "stream",
     "text": [
      "[TILE ERROR] No data elements in server response. Check query location/filters and log. — bbox: (np.float64(-3.928), np.float64(56.99499999999999), np.float64(-3.9062999999999994), np.float64(57.007999999999996))\n"
     ]
    },
    {
     "name": "stderr",
     "output_type": "stream",
     "text": [
      "  8%|▊         | 571/7058 [21:29<3:54:59,  2.17s/it]"
     ]
    },
    {
     "name": "stdout",
     "output_type": "stream",
     "text": [
      "[TILE ERROR] Found no graph nodes within the requested polygon. — bbox: (np.float64(-3.9122999999999997), np.float64(56.45499999999999), np.float64(-3.8905999999999996), np.float64(56.467999999999996))\n"
     ]
    },
    {
     "name": "stderr",
     "output_type": "stream",
     "text": [
      "  8%|▊         | 572/7058 [21:30<2:56:37,  1.63s/it]"
     ]
    },
    {
     "name": "stdout",
     "output_type": "stream",
     "text": [
      "[TILE ERROR] No data elements in server response. Check query location/filters and log. — bbox: (np.float64(-3.9122999999999997), np.float64(56.724999999999994), np.float64(-3.8905999999999996), np.float64(56.738))\n"
     ]
    },
    {
     "name": "stderr",
     "output_type": "stream",
     "text": [
      "  8%|▊         | 574/7058 [21:35<3:25:47,  1.90s/it]"
     ]
    },
    {
     "name": "stdout",
     "output_type": "stream",
     "text": [
      "[TILE ERROR] Found no graph nodes within the requested polygon. — bbox: (np.float64(-3.9122999999999997), np.float64(57.03099999999999), np.float64(-3.8905999999999996), np.float64(57.044))\n"
     ]
    },
    {
     "name": "stderr",
     "output_type": "stream",
     "text": [
      "  8%|▊         | 575/7058 [21:37<3:46:43,  2.10s/it]"
     ]
    },
    {
     "name": "stdout",
     "output_type": "stream",
     "text": [
      "[TILE ERROR] Graph contains no edges. — bbox: (np.float64(-3.9122999999999997), np.float64(57.120999999999995), np.float64(-3.8905999999999996), np.float64(57.134))\n"
     ]
    },
    {
     "name": "stderr",
     "output_type": "stream",
     "text": [
      "  8%|▊         | 577/7058 [21:42<4:11:32,  2.33s/it]"
     ]
    },
    {
     "name": "stdout",
     "output_type": "stream",
     "text": [
      "[TILE ERROR] Found no graph nodes within the requested polygon. — bbox: (np.float64(-3.8966), np.float64(54.870999999999995), np.float64(-3.8748999999999993), np.float64(54.884))\n"
     ]
    },
    {
     "name": "stderr",
     "output_type": "stream",
     "text": [
      "  8%|▊         | 584/7058 [21:54<2:56:44,  1.64s/it]"
     ]
    },
    {
     "name": "stdout",
     "output_type": "stream",
     "text": [
      "[TILE ERROR] No data elements in server response. Check query location/filters and log. — bbox: (np.float64(-3.8966), np.float64(56.67099999999999), np.float64(-3.8748999999999993), np.float64(56.684))\n"
     ]
    },
    {
     "name": "stderr",
     "output_type": "stream",
     "text": [
      "  8%|▊         | 585/7058 [21:55<2:18:10,  1.28s/it]"
     ]
    },
    {
     "name": "stdout",
     "output_type": "stream",
     "text": [
      "[TILE ERROR] Graph contains no edges. — bbox: (np.float64(-3.8966), np.float64(57.04899999999999), np.float64(-3.8748999999999993), np.float64(57.062))\n"
     ]
    },
    {
     "name": "stderr",
     "output_type": "stream",
     "text": [
      "  8%|▊         | 587/7058 [21:57<2:21:39,  1.31s/it]"
     ]
    },
    {
     "name": "stdout",
     "output_type": "stream",
     "text": [
      "[TILE ERROR] Graph contains no edges. — bbox: (np.float64(-3.8808999999999996), np.float64(50.416), np.float64(-3.8591999999999995), np.float64(50.429))\n"
     ]
    },
    {
     "name": "stderr",
     "output_type": "stream",
     "text": [
      "  8%|▊         | 588/7058 [21:58<1:55:40,  1.07s/it]"
     ]
    },
    {
     "name": "stdout",
     "output_type": "stream",
     "text": [
      "[TILE ERROR] Found no graph nodes within the requested polygon. — bbox: (np.float64(-3.8808999999999996), np.float64(53.07099999999999), np.float64(-3.8591999999999995), np.float64(53.083999999999996))\n"
     ]
    },
    {
     "name": "stderr",
     "output_type": "stream",
     "text": [
      "  8%|▊         | 589/7058 [21:58<1:37:12,  1.11it/s]"
     ]
    },
    {
     "name": "stdout",
     "output_type": "stream",
     "text": [
      "[TILE ERROR] Found no graph nodes within the requested polygon. — bbox: (np.float64(-3.8808999999999996), np.float64(53.160999999999994), np.float64(-3.8591999999999995), np.float64(53.174))\n"
     ]
    },
    {
     "name": "stderr",
     "output_type": "stream",
     "text": [
      "  8%|▊         | 591/7058 [22:02<2:10:48,  1.21s/it]"
     ]
    },
    {
     "name": "stdout",
     "output_type": "stream",
     "text": [
      "[TILE ERROR] Graph contains no edges. — bbox: (np.float64(-3.8808999999999996), np.float64(54.92499999999999), np.float64(-3.8591999999999995), np.float64(54.937999999999995))\n"
     ]
    },
    {
     "name": "stderr",
     "output_type": "stream",
     "text": [
      "  8%|▊         | 594/7058 [22:08<3:13:01,  1.79s/it]"
     ]
    },
    {
     "name": "stdout",
     "output_type": "stream",
     "text": [
      "[TILE ERROR] Found no graph nodes within the requested polygon. — bbox: (np.float64(-3.8808999999999996), np.float64(56.45499999999999), np.float64(-3.8591999999999995), np.float64(56.467999999999996))\n"
     ]
    },
    {
     "name": "stderr",
     "output_type": "stream",
     "text": [
      "  8%|▊         | 595/7058 [22:09<2:27:39,  1.37s/it]"
     ]
    },
    {
     "name": "stdout",
     "output_type": "stream",
     "text": [
      "[TILE ERROR] Found no graph nodes within the requested polygon. — bbox: (np.float64(-3.8808999999999996), np.float64(56.46399999999999), np.float64(-3.8591999999999995), np.float64(56.477))\n"
     ]
    },
    {
     "name": "stderr",
     "output_type": "stream",
     "text": [
      "  8%|▊         | 596/7058 [22:11<3:01:57,  1.69s/it]"
     ]
    },
    {
     "name": "stdout",
     "output_type": "stream",
     "text": [
      "[TILE ERROR] Found no graph nodes within the requested polygon. — bbox: (np.float64(-3.8808999999999996), np.float64(57.120999999999995), np.float64(-3.8591999999999995), np.float64(57.134))\n"
     ]
    },
    {
     "name": "stderr",
     "output_type": "stream",
     "text": [
      "  8%|▊         | 599/7058 [22:16<2:48:31,  1.57s/it]"
     ]
    },
    {
     "name": "stdout",
     "output_type": "stream",
     "text": [
      "[TILE ERROR] Found no graph nodes within the requested polygon. — bbox: (np.float64(-3.8651999999999997), np.float64(52.18899999999999), np.float64(-3.8434999999999997), np.float64(52.202))\n"
     ]
    },
    {
     "name": "stderr",
     "output_type": "stream",
     "text": [
      "  9%|▊         | 601/7058 [22:19<2:30:21,  1.40s/it]"
     ]
    },
    {
     "name": "stdout",
     "output_type": "stream",
     "text": [
      "[TILE ERROR] Found no graph nodes within the requested polygon. — bbox: (np.float64(-3.8651999999999997), np.float64(52.71099999999999), np.float64(-3.8434999999999997), np.float64(52.724))\n"
     ]
    },
    {
     "name": "stderr",
     "output_type": "stream",
     "text": [
      "  9%|▊         | 605/7058 [22:24<2:25:42,  1.35s/it]"
     ]
    },
    {
     "name": "stdout",
     "output_type": "stream",
     "text": [
      "[TILE ERROR] Found no graph nodes within the requested polygon. — bbox: (np.float64(-3.8651999999999997), np.float64(56.45499999999999), np.float64(-3.8434999999999997), np.float64(56.467999999999996))\n"
     ]
    },
    {
     "name": "stderr",
     "output_type": "stream",
     "text": [
      "  9%|▊         | 607/7058 [22:28<2:39:03,  1.48s/it]"
     ]
    },
    {
     "name": "stdout",
     "output_type": "stream",
     "text": [
      "[TILE ERROR] Found no graph nodes within the requested polygon. — bbox: (np.float64(-3.8651999999999997), np.float64(56.517999999999994), np.float64(-3.8434999999999997), np.float64(56.531))\n"
     ]
    },
    {
     "name": "stderr",
     "output_type": "stream",
     "text": [
      "  9%|▊         | 608/7058 [22:29<2:40:01,  1.49s/it]"
     ]
    },
    {
     "name": "stdout",
     "output_type": "stream",
     "text": [
      "[TILE ERROR] Found no graph nodes within the requested polygon. — bbox: (np.float64(-3.8651999999999997), np.float64(56.526999999999994), np.float64(-3.8434999999999997), np.float64(56.54))\n"
     ]
    },
    {
     "name": "stderr",
     "output_type": "stream",
     "text": [
      "  9%|▊         | 610/7058 [22:31<2:23:58,  1.34s/it]"
     ]
    },
    {
     "name": "stdout",
     "output_type": "stream",
     "text": [
      "[TILE ERROR] Found no graph nodes within the requested polygon. — bbox: (np.float64(-3.8651999999999997), np.float64(56.742999999999995), np.float64(-3.8434999999999997), np.float64(56.756))\n"
     ]
    },
    {
     "name": "stderr",
     "output_type": "stream",
     "text": [
      "  9%|▊         | 616/7058 [22:40<2:32:55,  1.42s/it]"
     ]
    },
    {
     "name": "stdout",
     "output_type": "stream",
     "text": [
      "[TILE ERROR] Found no graph nodes within the requested polygon. — bbox: (np.float64(-3.8495), np.float64(56.45499999999999), np.float64(-3.8277999999999994), np.float64(56.467999999999996))\n"
     ]
    },
    {
     "name": "stderr",
     "output_type": "stream",
     "text": [
      "  9%|▉         | 621/7058 [22:48<2:48:49,  1.57s/it]"
     ]
    },
    {
     "name": "stdout",
     "output_type": "stream",
     "text": [
      "[TILE ERROR] No data elements in server response. Check query location/filters and log. — bbox: (np.float64(-3.8337999999999997), np.float64(52.17099999999999), np.float64(-3.8120999999999996), np.float64(52.184))\n"
     ]
    },
    {
     "name": "stderr",
     "output_type": "stream",
     "text": [
      "  9%|▉         | 623/7058 [22:51<2:37:06,  1.46s/it]"
     ]
    },
    {
     "name": "stdout",
     "output_type": "stream",
     "text": [
      "[TILE ERROR] Found no graph nodes within the requested polygon. — bbox: (np.float64(-3.8337999999999997), np.float64(54.852999999999994), np.float64(-3.8120999999999996), np.float64(54.866))\n"
     ]
    },
    {
     "name": "stderr",
     "output_type": "stream",
     "text": [
      "  9%|▉         | 627/7058 [22:58<2:51:46,  1.60s/it]"
     ]
    },
    {
     "name": "stdout",
     "output_type": "stream",
     "text": [
      "[TILE ERROR] Found no graph nodes within the requested polygon. — bbox: (np.float64(-3.8337999999999997), np.float64(56.45499999999999), np.float64(-3.8120999999999996), np.float64(56.467999999999996))\n"
     ]
    },
    {
     "name": "stderr",
     "output_type": "stream",
     "text": [
      "  9%|▉         | 628/7058 [23:00<2:58:25,  1.66s/it]"
     ]
    },
    {
     "name": "stdout",
     "output_type": "stream",
     "text": [
      "[TILE ERROR] Found no graph nodes within the requested polygon. — bbox: (np.float64(-3.8337999999999997), np.float64(56.50899999999999), np.float64(-3.8120999999999996), np.float64(56.522))\n"
     ]
    },
    {
     "name": "stderr",
     "output_type": "stream",
     "text": [
      "  9%|▉         | 629/7058 [23:03<3:40:41,  2.06s/it]"
     ]
    },
    {
     "name": "stdout",
     "output_type": "stream",
     "text": [
      "[TILE ERROR] Graph contains no edges. — bbox: (np.float64(-3.8337999999999997), np.float64(56.733999999999995), np.float64(-3.8120999999999996), np.float64(56.747))\n"
     ]
    },
    {
     "name": "stderr",
     "output_type": "stream",
     "text": [
      "  9%|▉         | 633/7058 [23:08<2:50:36,  1.59s/it]"
     ]
    },
    {
     "name": "stdout",
     "output_type": "stream",
     "text": [
      "[TILE ERROR] Found no graph nodes within the requested polygon. — bbox: (np.float64(-3.8181), np.float64(52.071999999999996), np.float64(-3.7963999999999998), np.float64(52.085))\n"
     ]
    },
    {
     "name": "stderr",
     "output_type": "stream",
     "text": [
      "  9%|▉         | 639/7058 [23:19<2:59:57,  1.68s/it]"
     ]
    },
    {
     "name": "stdout",
     "output_type": "stream",
     "text": [
      "[TILE ERROR] Found no graph nodes within the requested polygon. — bbox: (np.float64(-3.8181), np.float64(56.50899999999999), np.float64(-3.7963999999999998), np.float64(56.522))\n"
     ]
    },
    {
     "name": "stderr",
     "output_type": "stream",
     "text": [
      "  9%|▉         | 641/7058 [23:24<3:40:15,  2.06s/it]"
     ]
    },
    {
     "name": "stdout",
     "output_type": "stream",
     "text": [
      "[TILE ERROR] Found no graph nodes within the requested polygon. — bbox: (np.float64(-3.8181), np.float64(57.138999999999996), np.float64(-3.7963999999999998), np.float64(57.152))\n"
     ]
    },
    {
     "name": "stderr",
     "output_type": "stream",
     "text": [
      "  9%|▉         | 648/7058 [23:35<2:44:18,  1.54s/it]"
     ]
    },
    {
     "name": "stdout",
     "output_type": "stream",
     "text": [
      "[TILE ERROR] Graph contains no edges. — bbox: (np.float64(-3.8024), np.float64(55.32099999999999), np.float64(-3.7806999999999995), np.float64(55.333999999999996))\n"
     ]
    },
    {
     "name": "stderr",
     "output_type": "stream",
     "text": [
      "  9%|▉         | 649/7058 [23:37<3:22:45,  1.90s/it]"
     ]
    },
    {
     "name": "stdout",
     "output_type": "stream",
     "text": [
      "[TILE ERROR] Found no graph nodes within the requested polygon. — bbox: (np.float64(-3.8024), np.float64(55.36599999999999), np.float64(-3.7806999999999995), np.float64(55.379))\n"
     ]
    },
    {
     "name": "stderr",
     "output_type": "stream",
     "text": [
      "  9%|▉         | 655/7058 [23:51<3:44:17,  2.10s/it]"
     ]
    },
    {
     "name": "stdout",
     "output_type": "stream",
     "text": [
      "[TILE ERROR] Graph contains no edges. — bbox: (np.float64(-3.7866999999999997), np.float64(50.352999999999994), np.float64(-3.7649999999999997), np.float64(50.366))\n"
     ]
    },
    {
     "name": "stderr",
     "output_type": "stream",
     "text": [
      "  9%|▉         | 659/7058 [23:57<2:57:41,  1.67s/it]"
     ]
    },
    {
     "name": "stdout",
     "output_type": "stream",
     "text": [
      "[TILE ERROR] Found no graph nodes within the requested polygon. — bbox: (np.float64(-3.7866999999999997), np.float64(56.337999999999994), np.float64(-3.7649999999999997), np.float64(56.351))\n"
     ]
    },
    {
     "name": "stderr",
     "output_type": "stream",
     "text": [
      "  9%|▉         | 660/7058 [23:59<2:52:43,  1.62s/it]"
     ]
    },
    {
     "name": "stdout",
     "output_type": "stream",
     "text": [
      "[TILE ERROR] Graph contains no edges. — bbox: (np.float64(-3.7866999999999997), np.float64(56.50899999999999), np.float64(-3.7649999999999997), np.float64(56.522))\n"
     ]
    },
    {
     "name": "stderr",
     "output_type": "stream",
     "text": [
      "  9%|▉         | 661/7058 [24:00<2:48:37,  1.58s/it]"
     ]
    },
    {
     "name": "stdout",
     "output_type": "stream",
     "text": [
      "[TILE ERROR] Found no graph nodes within the requested polygon. — bbox: (np.float64(-3.7866999999999997), np.float64(56.517999999999994), np.float64(-3.7649999999999997), np.float64(56.531))\n"
     ]
    },
    {
     "name": "stderr",
     "output_type": "stream",
     "text": [
      "  9%|▉         | 662/7058 [24:02<2:45:23,  1.55s/it]"
     ]
    },
    {
     "name": "stdout",
     "output_type": "stream",
     "text": [
      "[TILE ERROR] Found no graph nodes within the requested polygon. — bbox: (np.float64(-3.7866999999999997), np.float64(56.66199999999999), np.float64(-3.7649999999999997), np.float64(56.675))\n"
     ]
    },
    {
     "name": "stderr",
     "output_type": "stream",
     "text": [
      "  9%|▉         | 666/7058 [24:15<5:30:44,  3.10s/it]"
     ]
    },
    {
     "name": "stdout",
     "output_type": "stream",
     "text": [
      "[TILE ERROR] No data elements in server response. Check query location/filters and log. — bbox: (np.float64(-3.7866999999999997), np.float64(57.129999999999995), np.float64(-3.7649999999999997), np.float64(57.143))\n"
     ]
    },
    {
     "name": "stderr",
     "output_type": "stream",
     "text": [
      " 10%|▉         | 672/7058 [24:28<3:49:32,  2.16s/it]"
     ]
    },
    {
     "name": "stdout",
     "output_type": "stream",
     "text": [
      "[TILE ERROR] No data elements in server response. Check query location/filters and log. — bbox: (np.float64(-3.771), np.float64(57.138999999999996), np.float64(-3.7492999999999994), np.float64(57.152))\n"
     ]
    },
    {
     "name": "stderr",
     "output_type": "stream",
     "text": [
      " 10%|▉         | 693/7058 [25:15<5:16:56,  2.99s/it]"
     ]
    },
    {
     "name": "stdout",
     "output_type": "stream",
     "text": [
      "[TILE ERROR] Found no graph nodes within the requested polygon. — bbox: (np.float64(-3.7396), np.float64(57.18399999999999), np.float64(-3.7178999999999998), np.float64(57.196999999999996))\n"
     ]
    },
    {
     "name": "stderr",
     "output_type": "stream",
     "text": [
      " 10%|▉         | 694/7058 [25:15<3:55:43,  2.22s/it]"
     ]
    },
    {
     "name": "stdout",
     "output_type": "stream",
     "text": [
      "[TILE ERROR] Found no graph nodes within the requested polygon. — bbox: (np.float64(-3.7396), np.float64(57.21099999999999), np.float64(-3.7178999999999998), np.float64(57.224))\n"
     ]
    },
    {
     "name": "stderr",
     "output_type": "stream",
     "text": [
      " 10%|▉         | 705/7058 [25:39<3:23:26,  1.92s/it]"
     ]
    },
    {
     "name": "stdout",
     "output_type": "stream",
     "text": [
      "[TILE ERROR] Graph contains no edges. — bbox: (np.float64(-3.7081999999999997), np.float64(51.98199999999999), np.float64(-3.6864999999999997), np.float64(51.995))\n"
     ]
    },
    {
     "name": "stderr",
     "output_type": "stream",
     "text": [
      " 10%|█         | 706/7058 [25:39<2:35:04,  1.46s/it]"
     ]
    },
    {
     "name": "stdout",
     "output_type": "stream",
     "text": [
      "[TILE ERROR] Found no graph nodes within the requested polygon. — bbox: (np.float64(-3.7081999999999997), np.float64(52.044999999999995), np.float64(-3.6864999999999997), np.float64(52.058))\n"
     ]
    },
    {
     "name": "stderr",
     "output_type": "stream",
     "text": [
      " 10%|█         | 715/7058 [26:04<4:01:34,  2.29s/it]"
     ]
    },
    {
     "name": "stdout",
     "output_type": "stream",
     "text": [
      "[TILE ERROR] Found no graph nodes within the requested polygon. — bbox: (np.float64(-3.6925), np.float64(51.98199999999999), np.float64(-3.6707999999999994), np.float64(51.995))\n"
     ]
    },
    {
     "name": "stderr",
     "output_type": "stream",
     "text": [
      " 10%|█         | 716/7058 [26:06<3:53:50,  2.21s/it]"
     ]
    },
    {
     "name": "stdout",
     "output_type": "stream",
     "text": [
      "[TILE ERROR] Found no graph nodes within the requested polygon. — bbox: (np.float64(-3.6925), np.float64(54.879999999999995), np.float64(-3.6707999999999994), np.float64(54.893))\n"
     ]
    },
    {
     "name": "stderr",
     "output_type": "stream",
     "text": [
      " 10%|█         | 724/7058 [26:23<2:46:37,  1.58s/it]"
     ]
    },
    {
     "name": "stdout",
     "output_type": "stream",
     "text": [
      "[TILE ERROR] Found no graph nodes within the requested polygon. — bbox: (np.float64(-3.6767999999999996), np.float64(51.81999999999999), np.float64(-3.6550999999999996), np.float64(51.833))\n"
     ]
    },
    {
     "name": "stderr",
     "output_type": "stream",
     "text": [
      " 10%|█         | 727/7058 [26:28<2:33:59,  1.46s/it]"
     ]
    },
    {
     "name": "stdout",
     "output_type": "stream",
     "text": [
      "[TILE ERROR] Graph contains no edges. — bbox: (np.float64(-3.6767999999999996), np.float64(51.96399999999999), np.float64(-3.6550999999999996), np.float64(51.977))\n"
     ]
    },
    {
     "name": "stderr",
     "output_type": "stream",
     "text": [
      " 10%|█         | 728/7058 [26:30<3:04:17,  1.75s/it]"
     ]
    },
    {
     "name": "stdout",
     "output_type": "stream",
     "text": [
      "[TILE ERROR] No data elements in server response. Check query location/filters and log. — bbox: (np.float64(-3.6767999999999996), np.float64(52.31499999999999), np.float64(-3.6550999999999996), np.float64(52.327999999999996))\n"
     ]
    },
    {
     "name": "stderr",
     "output_type": "stream",
     "text": [
      " 10%|█         | 729/7058 [26:30<2:24:45,  1.37s/it]"
     ]
    },
    {
     "name": "stdout",
     "output_type": "stream",
     "text": [
      "[TILE ERROR] Graph contains no edges. — bbox: (np.float64(-3.6767999999999996), np.float64(54.99699999999999), np.float64(-3.6550999999999996), np.float64(55.01))\n"
     ]
    },
    {
     "name": "stderr",
     "output_type": "stream",
     "text": [
      " 10%|█         | 733/7058 [26:37<2:30:32,  1.43s/it]"
     ]
    },
    {
     "name": "stdout",
     "output_type": "stream",
     "text": [
      "[TILE ERROR] No data elements in server response. Check query location/filters and log. — bbox: (np.float64(-3.6767999999999996), np.float64(57.04899999999999), np.float64(-3.6550999999999996), np.float64(57.062))\n"
     ]
    },
    {
     "name": "stderr",
     "output_type": "stream",
     "text": [
      " 10%|█         | 739/7058 [26:49<3:14:37,  1.85s/it]"
     ]
    },
    {
     "name": "stdout",
     "output_type": "stream",
     "text": [
      "[TILE ERROR] No data elements in server response. Check query location/filters and log. — bbox: (np.float64(-3.6611), np.float64(52.36899999999999), np.float64(-3.6393999999999997), np.float64(52.382))\n"
     ]
    },
    {
     "name": "stderr",
     "output_type": "stream",
     "text": [
      " 10%|█         | 740/7058 [26:50<3:03:18,  1.74s/it]"
     ]
    },
    {
     "name": "stdout",
     "output_type": "stream",
     "text": [
      "[TILE ERROR] Graph contains no edges. — bbox: (np.float64(-3.6611), np.float64(52.629999999999995), np.float64(-3.6393999999999997), np.float64(52.643))\n"
     ]
    },
    {
     "name": "stderr",
     "output_type": "stream",
     "text": [
      " 11%|█         | 745/7058 [26:59<3:05:03,  1.76s/it]"
     ]
    },
    {
     "name": "stdout",
     "output_type": "stream",
     "text": [
      "[TILE ERROR] Found no graph nodes within the requested polygon. — bbox: (np.float64(-3.6611), np.float64(56.41899999999999), np.float64(-3.6393999999999997), np.float64(56.431999999999995))\n"
     ]
    },
    {
     "name": "stderr",
     "output_type": "stream",
     "text": [
      " 11%|█         | 751/7058 [27:09<2:36:05,  1.49s/it]"
     ]
    },
    {
     "name": "stdout",
     "output_type": "stream",
     "text": [
      "[TILE ERROR] Found no graph nodes within the requested polygon. — bbox: (np.float64(-3.6454), np.float64(52.251999999999995), np.float64(-3.6236999999999995), np.float64(52.265))\n"
     ]
    },
    {
     "name": "stderr",
     "output_type": "stream",
     "text": [
      " 11%|█         | 752/7058 [27:14<4:35:55,  2.63s/it]"
     ]
    },
    {
     "name": "stdout",
     "output_type": "stream",
     "text": [
      "[TILE ERROR] Found no graph nodes within the requested polygon. — bbox: (np.float64(-3.6454), np.float64(52.30599999999999), np.float64(-3.6236999999999995), np.float64(52.318999999999996))\n"
     ]
    },
    {
     "name": "stderr",
     "output_type": "stream",
     "text": [
      " 11%|█         | 753/7058 [27:15<3:26:07,  1.96s/it]"
     ]
    },
    {
     "name": "stdout",
     "output_type": "stream",
     "text": [
      "[TILE ERROR] Found no graph nodes within the requested polygon. — bbox: (np.float64(-3.6454), np.float64(52.31499999999999), np.float64(-3.6236999999999995), np.float64(52.327999999999996))\n"
     ]
    },
    {
     "name": "stderr",
     "output_type": "stream",
     "text": [
      " 11%|█         | 762/7058 [27:44<6:34:16,  3.76s/it]"
     ]
    },
    {
     "name": "stdout",
     "output_type": "stream",
     "text": [
      "[TILE ERROR] Found no graph nodes within the requested polygon. — bbox: (np.float64(-3.6454), np.float64(56.66199999999999), np.float64(-3.6236999999999995), np.float64(56.675))\n"
     ]
    },
    {
     "name": "stderr",
     "output_type": "stream",
     "text": [
      " 11%|█         | 763/7058 [27:47<6:13:04,  3.56s/it]"
     ]
    },
    {
     "name": "stdout",
     "output_type": "stream",
     "text": [
      "[TILE ERROR] No data elements in server response. Check query location/filters and log. — bbox: (np.float64(-3.6454), np.float64(57.20199999999999), np.float64(-3.6236999999999995), np.float64(57.214999999999996))\n"
     ]
    },
    {
     "name": "stderr",
     "output_type": "stream",
     "text": [
      " 11%|█         | 764/7058 [27:50<5:54:39,  3.38s/it]"
     ]
    },
    {
     "name": "stdout",
     "output_type": "stream",
     "text": [
      "[TILE ERROR] Found no graph nodes within the requested polygon. — bbox: (np.float64(-3.6296999999999997), np.float64(52.242999999999995), np.float64(-3.6079999999999997), np.float64(52.256))\n"
     ]
    },
    {
     "name": "stderr",
     "output_type": "stream",
     "text": [
      " 11%|█         | 765/7058 [27:52<5:10:54,  2.96s/it]"
     ]
    },
    {
     "name": "stdout",
     "output_type": "stream",
     "text": [
      "[TILE ERROR] Found no graph nodes within the requested polygon. — bbox: (np.float64(-3.6296999999999997), np.float64(52.251999999999995), np.float64(-3.6079999999999997), np.float64(52.265))\n"
     ]
    },
    {
     "name": "stderr",
     "output_type": "stream",
     "text": [
      " 11%|█         | 768/7058 [27:57<3:38:30,  2.08s/it]"
     ]
    },
    {
     "name": "stdout",
     "output_type": "stream",
     "text": [
      "[TILE ERROR] Graph contains no edges. — bbox: (np.float64(-3.6296999999999997), np.float64(54.96099999999999), np.float64(-3.6079999999999997), np.float64(54.974))\n"
     ]
    },
    {
     "name": "stderr",
     "output_type": "stream",
     "text": [
      " 11%|█         | 770/7058 [28:02<3:54:20,  2.24s/it]"
     ]
    },
    {
     "name": "stdout",
     "output_type": "stream",
     "text": [
      "[TILE ERROR] Graph contains no edges. — bbox: (np.float64(-3.6296999999999997), np.float64(54.99699999999999), np.float64(-3.6079999999999997), np.float64(55.01))\n"
     ]
    },
    {
     "name": "stderr",
     "output_type": "stream",
     "text": [
      " 11%|█         | 774/7058 [28:09<3:18:48,  1.90s/it]"
     ]
    },
    {
     "name": "stdout",
     "output_type": "stream",
     "text": [
      "[TILE ERROR] Found no graph nodes within the requested polygon. — bbox: (np.float64(-3.6296999999999997), np.float64(55.18599999999999), np.float64(-3.6079999999999997), np.float64(55.199))\n"
     ]
    },
    {
     "name": "stderr",
     "output_type": "stream",
     "text": [
      " 11%|█         | 779/7058 [28:16<2:38:52,  1.52s/it]"
     ]
    },
    {
     "name": "stdout",
     "output_type": "stream",
     "text": [
      "[TILE ERROR] Found no graph nodes within the requested polygon. — bbox: (np.float64(-3.6296999999999997), np.float64(56.67099999999999), np.float64(-3.6079999999999997), np.float64(56.684))\n"
     ]
    },
    {
     "name": "stderr",
     "output_type": "stream",
     "text": [
      " 11%|█         | 780/7058 [28:16<2:03:11,  1.18s/it]"
     ]
    },
    {
     "name": "stdout",
     "output_type": "stream",
     "text": [
      "[TILE ERROR] No data elements in server response. Check query location/filters and log. — bbox: (np.float64(-3.6296999999999997), np.float64(57.21999999999999), np.float64(-3.6079999999999997), np.float64(57.233))\n"
     ]
    },
    {
     "name": "stderr",
     "output_type": "stream",
     "text": [
      " 11%|█         | 781/7058 [28:17<1:42:35,  1.02it/s]"
     ]
    },
    {
     "name": "stdout",
     "output_type": "stream",
     "text": [
      "[TILE ERROR] Graph contains no edges. — bbox: (np.float64(-3.614), np.float64(52.15299999999999), np.float64(-3.5922999999999994), np.float64(52.166))\n"
     ]
    },
    {
     "name": "stderr",
     "output_type": "stream",
     "text": [
      " 11%|█         | 782/7058 [28:18<1:56:53,  1.12s/it]"
     ]
    },
    {
     "name": "stdout",
     "output_type": "stream",
     "text": [
      "[TILE ERROR] Found no graph nodes within the requested polygon. — bbox: (np.float64(-3.614), np.float64(52.269999999999996), np.float64(-3.5922999999999994), np.float64(52.283))\n"
     ]
    },
    {
     "name": "stderr",
     "output_type": "stream",
     "text": [
      " 11%|█         | 783/7058 [28:20<2:07:30,  1.22s/it]"
     ]
    },
    {
     "name": "stdout",
     "output_type": "stream",
     "text": [
      "[TILE ERROR] Graph contains no edges. — bbox: (np.float64(-3.614), np.float64(52.288), np.float64(-3.5922999999999994), np.float64(52.301))\n"
     ]
    },
    {
     "name": "stderr",
     "output_type": "stream",
     "text": [
      " 11%|█▏        | 798/7058 [28:54<2:29:26,  1.43s/it]"
     ]
    },
    {
     "name": "stdout",
     "output_type": "stream",
     "text": [
      "[TILE ERROR] Found no graph nodes within the requested polygon. — bbox: (np.float64(-3.5982999999999996), np.float64(51.882999999999996), np.float64(-3.5765999999999996), np.float64(51.896))\n"
     ]
    },
    {
     "name": "stderr",
     "output_type": "stream",
     "text": [
      " 11%|█▏        | 800/7058 [28:59<3:31:26,  2.03s/it]"
     ]
    },
    {
     "name": "stdout",
     "output_type": "stream",
     "text": [
      "[TILE ERROR] Found no graph nodes within the requested polygon. — bbox: (np.float64(-3.5982999999999996), np.float64(52.31499999999999), np.float64(-3.5765999999999996), np.float64(52.327999999999996))\n"
     ]
    },
    {
     "name": "stderr",
     "output_type": "stream",
     "text": [
      " 11%|█▏        | 801/7058 [29:01<3:32:49,  2.04s/it]"
     ]
    },
    {
     "name": "stdout",
     "output_type": "stream",
     "text": [
      "[TILE ERROR] Found no graph nodes within the requested polygon. — bbox: (np.float64(-3.5982999999999996), np.float64(52.70199999999999), np.float64(-3.5765999999999996), np.float64(52.714999999999996))\n"
     ]
    },
    {
     "name": "stderr",
     "output_type": "stream",
     "text": [
      " 11%|█▏        | 804/7058 [29:06<3:28:15,  2.00s/it]"
     ]
    },
    {
     "name": "stdout",
     "output_type": "stream",
     "text": [
      "[TILE ERROR] Found no graph nodes within the requested polygon. — bbox: (np.float64(-3.5982999999999996), np.float64(54.98799999999999), np.float64(-3.5765999999999996), np.float64(55.001))\n"
     ]
    },
    {
     "name": "stderr",
     "output_type": "stream",
     "text": [
      " 11%|█▏        | 808/7058 [29:12<2:19:59,  1.34s/it]"
     ]
    },
    {
     "name": "stdout",
     "output_type": "stream",
     "text": [
      "[TILE ERROR] Found no graph nodes within the requested polygon. — bbox: (np.float64(-3.5982999999999996), np.float64(56.337999999999994), np.float64(-3.5765999999999996), np.float64(56.351))\n"
     ]
    },
    {
     "name": "stderr",
     "output_type": "stream",
     "text": [
      " 11%|█▏        | 810/7058 [29:16<3:00:39,  1.73s/it]"
     ]
    },
    {
     "name": "stdout",
     "output_type": "stream",
     "text": [
      "[TILE ERROR] No data elements in server response. Check query location/filters and log. — bbox: (np.float64(-3.5982999999999996), np.float64(57.03999999999999), np.float64(-3.5765999999999996), np.float64(57.053))\n"
     ]
    },
    {
     "name": "stderr",
     "output_type": "stream",
     "text": [
      " 12%|█▏        | 817/7058 [29:26<2:48:56,  1.62s/it]"
     ]
    },
    {
     "name": "stdout",
     "output_type": "stream",
     "text": [
      "[TILE ERROR] Found no graph nodes within the requested polygon. — bbox: (np.float64(-3.5826), np.float64(52.278999999999996), np.float64(-3.5608999999999997), np.float64(52.292))\n"
     ]
    },
    {
     "name": "stderr",
     "output_type": "stream",
     "text": [
      " 12%|█▏        | 818/7058 [29:28<2:44:24,  1.58s/it]"
     ]
    },
    {
     "name": "stdout",
     "output_type": "stream",
     "text": [
      "[TILE ERROR] Graph contains no edges. — bbox: (np.float64(-3.5826), np.float64(52.288), np.float64(-3.5608999999999997), np.float64(52.301))\n"
     ]
    },
    {
     "name": "stderr",
     "output_type": "stream",
     "text": [
      " 12%|█▏        | 819/7058 [29:29<2:41:43,  1.56s/it]"
     ]
    },
    {
     "name": "stdout",
     "output_type": "stream",
     "text": [
      "[TILE ERROR] Graph contains no edges. — bbox: (np.float64(-3.5826), np.float64(52.54899999999999), np.float64(-3.5608999999999997), np.float64(52.562))\n"
     ]
    },
    {
     "name": "stderr",
     "output_type": "stream",
     "text": [
      " 12%|█▏        | 820/7058 [29:31<2:39:52,  1.54s/it]"
     ]
    },
    {
     "name": "stdout",
     "output_type": "stream",
     "text": [
      "[TILE ERROR] Found no graph nodes within the requested polygon. — bbox: (np.float64(-3.5826), np.float64(53.07099999999999), np.float64(-3.5608999999999997), np.float64(53.083999999999996))\n"
     ]
    },
    {
     "name": "stderr",
     "output_type": "stream",
     "text": [
      " 12%|█▏        | 824/7058 [29:38<3:19:07,  1.92s/it]"
     ]
    },
    {
     "name": "stdout",
     "output_type": "stream",
     "text": [
      "[TILE ERROR] No data elements in server response. Check query location/filters and log. — bbox: (np.float64(-3.5826), np.float64(55.230999999999995), np.float64(-3.5608999999999997), np.float64(55.244))\n"
     ]
    },
    {
     "name": "stderr",
     "output_type": "stream",
     "text": [
      " 12%|█▏        | 831/7058 [29:50<3:11:19,  1.84s/it]"
     ]
    },
    {
     "name": "stdout",
     "output_type": "stream",
     "text": [
      "[TILE ERROR] Found no graph nodes within the requested polygon. — bbox: (np.float64(-3.5826), np.float64(56.27499999999999), np.float64(-3.5608999999999997), np.float64(56.288))\n"
     ]
    },
    {
     "name": "stderr",
     "output_type": "stream",
     "text": [
      " 12%|█▏        | 833/7058 [29:54<3:02:34,  1.76s/it]"
     ]
    },
    {
     "name": "stdout",
     "output_type": "stream",
     "text": [
      "[TILE ERROR] No data elements in server response. Check query location/filters and log. — bbox: (np.float64(-3.5826), np.float64(57.01299999999999), np.float64(-3.5608999999999997), np.float64(57.025999999999996))\n"
     ]
    },
    {
     "name": "stderr",
     "output_type": "stream",
     "text": [
      " 12%|█▏        | 836/7058 [29:58<2:46:13,  1.60s/it]"
     ]
    },
    {
     "name": "stdout",
     "output_type": "stream",
     "text": [
      "[TILE ERROR] Graph contains no edges. — bbox: (np.float64(-3.5669), np.float64(51.77499999999999), np.float64(-3.5451999999999995), np.float64(51.788))\n"
     ]
    },
    {
     "name": "stderr",
     "output_type": "stream",
     "text": [
      " 12%|█▏        | 837/7058 [30:00<2:42:27,  1.57s/it]"
     ]
    },
    {
     "name": "stdout",
     "output_type": "stream",
     "text": [
      "[TILE ERROR] Graph contains no edges. — bbox: (np.float64(-3.5669), np.float64(51.78399999999999), np.float64(-3.5451999999999995), np.float64(51.797))\n"
     ]
    },
    {
     "name": "stderr",
     "output_type": "stream",
     "text": [
      " 12%|█▏        | 845/7058 [30:10<2:17:01,  1.32s/it]"
     ]
    },
    {
     "name": "stdout",
     "output_type": "stream",
     "text": [
      "[TILE ERROR] No data elements in server response. Check query location/filters and log. — bbox: (np.float64(-3.5669), np.float64(56.24799999999999), np.float64(-3.5451999999999995), np.float64(56.260999999999996))\n"
     ]
    },
    {
     "name": "stderr",
     "output_type": "stream",
     "text": [
      " 12%|█▏        | 847/7058 [30:13<2:36:58,  1.52s/it]"
     ]
    },
    {
     "name": "stdout",
     "output_type": "stream",
     "text": [
      "[TILE ERROR] Found no graph nodes within the requested polygon. — bbox: (np.float64(-3.5669), np.float64(56.571999999999996), np.float64(-3.5451999999999995), np.float64(56.585))\n"
     ]
    },
    {
     "name": "stderr",
     "output_type": "stream",
     "text": [
      " 12%|█▏        | 852/7058 [30:28<4:17:58,  2.49s/it]"
     ]
    },
    {
     "name": "stdout",
     "output_type": "stream",
     "text": [
      "[TILE ERROR] Graph contains no edges. — bbox: (np.float64(-3.5511999999999997), np.float64(51.80199999999999), np.float64(-3.5294999999999996), np.float64(51.815))\n"
     ]
    },
    {
     "name": "stderr",
     "output_type": "stream",
     "text": [
      " 12%|█▏        | 853/7058 [30:31<4:47:16,  2.78s/it]"
     ]
    },
    {
     "name": "stdout",
     "output_type": "stream",
     "text": [
      "[TILE ERROR] Graph contains no edges. — bbox: (np.float64(-3.5511999999999997), np.float64(51.900999999999996), np.float64(-3.5294999999999996), np.float64(51.914))\n"
     ]
    },
    {
     "name": "stderr",
     "output_type": "stream",
     "text": [
      " 12%|█▏        | 857/7058 [30:39<3:57:02,  2.29s/it]"
     ]
    },
    {
     "name": "stdout",
     "output_type": "stream",
     "text": [
      "[TILE ERROR] Found no graph nodes within the requested polygon. — bbox: (np.float64(-3.5511999999999997), np.float64(52.19799999999999), np.float64(-3.5294999999999996), np.float64(52.211))\n"
     ]
    },
    {
     "name": "stderr",
     "output_type": "stream",
     "text": [
      " 12%|█▏        | 861/7058 [30:46<2:56:51,  1.71s/it]"
     ]
    },
    {
     "name": "stdout",
     "output_type": "stream",
     "text": [
      "[TILE ERROR] No data elements in server response. Check query location/filters and log. — bbox: (np.float64(-3.5511999999999997), np.float64(55.19499999999999), np.float64(-3.5294999999999996), np.float64(55.208))\n"
     ]
    },
    {
     "name": "stderr",
     "output_type": "stream",
     "text": [
      " 12%|█▏        | 862/7058 [30:48<3:07:40,  1.82s/it]"
     ]
    },
    {
     "name": "stdout",
     "output_type": "stream",
     "text": [
      "[TILE ERROR] Found no graph nodes within the requested polygon. — bbox: (np.float64(-3.5511999999999997), np.float64(55.230999999999995), np.float64(-3.5294999999999996), np.float64(55.244))\n"
     ]
    },
    {
     "name": "stderr",
     "output_type": "stream",
     "text": [
      " 12%|█▏        | 863/7058 [30:50<2:56:53,  1.71s/it]"
     ]
    },
    {
     "name": "stdout",
     "output_type": "stream",
     "text": [
      "[TILE ERROR] Graph contains no edges. — bbox: (np.float64(-3.5511999999999997), np.float64(55.239999999999995), np.float64(-3.5294999999999996), np.float64(55.253))\n"
     ]
    },
    {
     "name": "stderr",
     "output_type": "stream",
     "text": [
      " 12%|█▏        | 866/7058 [30:57<3:54:10,  2.27s/it]"
     ]
    },
    {
     "name": "stdout",
     "output_type": "stream",
     "text": [
      "[TILE ERROR] Found no graph nodes within the requested polygon. — bbox: (np.float64(-3.5511999999999997), np.float64(58.614999999999995), np.float64(-3.5294999999999996), np.float64(58.628))\n"
     ]
    },
    {
     "name": "stderr",
     "output_type": "stream",
     "text": [
      " 12%|█▏        | 874/7058 [31:15<3:10:00,  1.84s/it]"
     ]
    },
    {
     "name": "stdout",
     "output_type": "stream",
     "text": [
      "[TILE ERROR] Found no graph nodes within the requested polygon. — bbox: (np.float64(-3.5355), np.float64(51.891999999999996), np.float64(-3.5138), np.float64(51.905))\n"
     ]
    },
    {
     "name": "stderr",
     "output_type": "stream",
     "text": [
      " 13%|█▎        | 884/7058 [31:30<2:29:06,  1.45s/it]"
     ]
    },
    {
     "name": "stdout",
     "output_type": "stream",
     "text": [
      "[TILE ERROR] Graph contains no edges. — bbox: (np.float64(-3.5355), np.float64(55.788999999999994), np.float64(-3.5138), np.float64(55.802))\n"
     ]
    },
    {
     "name": "stderr",
     "output_type": "stream",
     "text": [
      " 13%|█▎        | 889/7058 [31:38<3:01:23,  1.76s/it]"
     ]
    },
    {
     "name": "stdout",
     "output_type": "stream",
     "text": [
      "[TILE ERROR] Found no graph nodes within the requested polygon. — bbox: (np.float64(-3.5355), np.float64(57.26499999999999), np.float64(-3.5138), np.float64(57.278))\n"
     ]
    },
    {
     "name": "stderr",
     "output_type": "stream",
     "text": [
      " 13%|█▎        | 890/7058 [31:40<3:01:43,  1.77s/it]"
     ]
    },
    {
     "name": "stdout",
     "output_type": "stream",
     "text": [
      "[TILE ERROR] Found no graph nodes within the requested polygon. — bbox: (np.float64(-3.5355), np.float64(58.15599999999999), np.float64(-3.5138), np.float64(58.169))\n"
     ]
    },
    {
     "name": "stderr",
     "output_type": "stream",
     "text": [
      " 13%|█▎        | 894/7058 [31:44<1:38:48,  1.04it/s]"
     ]
    },
    {
     "name": "stdout",
     "output_type": "stream",
     "text": [
      "[TILE ERROR] Found no graph nodes within the requested polygon. — bbox: (np.float64(-3.5198), np.float64(51.882999999999996), np.float64(-3.4980999999999995), np.float64(51.896))\n"
     ]
    },
    {
     "name": "stderr",
     "output_type": "stream",
     "text": [
      " 13%|█▎        | 895/7058 [31:47<2:36:39,  1.53s/it]"
     ]
    },
    {
     "name": "stdout",
     "output_type": "stream",
     "text": [
      "[TILE ERROR] Found no graph nodes within the requested polygon. — bbox: (np.float64(-3.5198), np.float64(51.891999999999996), np.float64(-3.4980999999999995), np.float64(51.905))\n"
     ]
    },
    {
     "name": "stderr",
     "output_type": "stream",
     "text": [
      " 13%|█▎        | 897/7058 [31:51<3:06:44,  1.82s/it]"
     ]
    },
    {
     "name": "stdout",
     "output_type": "stream",
     "text": [
      "[TILE ERROR] Found no graph nodes within the requested polygon. — bbox: (np.float64(-3.5198), np.float64(51.91), np.float64(-3.4980999999999995), np.float64(51.923))\n"
     ]
    },
    {
     "name": "stderr",
     "output_type": "stream",
     "text": [
      " 13%|█▎        | 901/7058 [31:58<3:04:41,  1.80s/it]"
     ]
    },
    {
     "name": "stdout",
     "output_type": "stream",
     "text": [
      "[TILE ERROR] Found no graph nodes within the requested polygon. — bbox: (np.float64(-3.5198), np.float64(52.638999999999996), np.float64(-3.4980999999999995), np.float64(52.652))\n"
     ]
    },
    {
     "name": "stderr",
     "output_type": "stream",
     "text": [
      " 13%|█▎        | 904/7058 [32:02<2:34:24,  1.51s/it]"
     ]
    },
    {
     "name": "stdout",
     "output_type": "stream",
     "text": [
      "[TILE ERROR] Found no graph nodes within the requested polygon. — bbox: (np.float64(-3.5198), np.float64(54.96099999999999), np.float64(-3.4980999999999995), np.float64(54.974))\n"
     ]
    },
    {
     "name": "stderr",
     "output_type": "stream",
     "text": [
      " 13%|█▎        | 907/7058 [32:08<3:07:20,  1.83s/it]"
     ]
    },
    {
     "name": "stdout",
     "output_type": "stream",
     "text": [
      "[TILE ERROR] Found no graph nodes within the requested polygon. — bbox: (np.float64(-3.5198), np.float64(56.517999999999994), np.float64(-3.4980999999999995), np.float64(56.531))\n"
     ]
    },
    {
     "name": "stderr",
     "output_type": "stream",
     "text": [
      " 13%|█▎        | 908/7058 [32:10<3:13:22,  1.89s/it]"
     ]
    },
    {
     "name": "stdout",
     "output_type": "stream",
     "text": [
      "[TILE ERROR] No data elements in server response. Check query location/filters and log. — bbox: (np.float64(-3.5198), np.float64(56.778999999999996), np.float64(-3.4980999999999995), np.float64(56.792))\n"
     ]
    },
    {
     "name": "stderr",
     "output_type": "stream",
     "text": [
      " 13%|█▎        | 914/7058 [32:23<4:18:34,  2.53s/it]"
     ]
    },
    {
     "name": "stdout",
     "output_type": "stream",
     "text": [
      "[TILE ERROR] Found no graph nodes within the requested polygon. — bbox: (np.float64(-3.5040999999999998), np.float64(51.91), np.float64(-3.4823999999999997), np.float64(51.923))\n"
     ]
    },
    {
     "name": "stderr",
     "output_type": "stream",
     "text": [
      " 13%|█▎        | 918/7058 [32:34<4:14:31,  2.49s/it]"
     ]
    },
    {
     "name": "stdout",
     "output_type": "stream",
     "text": [
      "[TILE ERROR] Found no graph nodes within the requested polygon. — bbox: (np.float64(-3.5040999999999998), np.float64(51.99099999999999), np.float64(-3.4823999999999997), np.float64(52.004))\n"
     ]
    },
    {
     "name": "stderr",
     "output_type": "stream",
     "text": [
      " 13%|█▎        | 920/7058 [32:40<4:48:16,  2.82s/it]"
     ]
    },
    {
     "name": "stdout",
     "output_type": "stream",
     "text": [
      "[TILE ERROR] Graph contains no edges. — bbox: (np.float64(-3.5040999999999998), np.float64(52.404999999999994), np.float64(-3.4823999999999997), np.float64(52.418))\n"
     ]
    },
    {
     "name": "stderr",
     "output_type": "stream",
     "text": [
      " 13%|█▎        | 922/7058 [32:42<3:25:52,  2.01s/it]"
     ]
    },
    {
     "name": "stdout",
     "output_type": "stream",
     "text": [
      "[TILE ERROR] Found no graph nodes within the requested polygon. — bbox: (np.float64(-3.5040999999999998), np.float64(52.71999999999999), np.float64(-3.4823999999999997), np.float64(52.733))\n"
     ]
    },
    {
     "name": "stderr",
     "output_type": "stream",
     "text": [
      " 13%|█▎        | 923/7058 [32:45<3:55:21,  2.30s/it]"
     ]
    },
    {
     "name": "stdout",
     "output_type": "stream",
     "text": [
      "[TILE ERROR] Found no graph nodes within the requested polygon. — bbox: (np.float64(-3.5040999999999998), np.float64(52.72899999999999), np.float64(-3.4823999999999997), np.float64(52.742))\n"
     ]
    },
    {
     "name": "stderr",
     "output_type": "stream",
     "text": [
      " 13%|█▎        | 925/7058 [32:49<3:32:15,  2.08s/it]"
     ]
    },
    {
     "name": "stdout",
     "output_type": "stream",
     "text": [
      "[TILE ERROR] Found no graph nodes within the requested polygon. — bbox: (np.float64(-3.5040999999999998), np.float64(56.157999999999994), np.float64(-3.4823999999999997), np.float64(56.171))\n"
     ]
    },
    {
     "name": "stderr",
     "output_type": "stream",
     "text": [
      " 13%|█▎        | 927/7058 [32:54<4:05:17,  2.40s/it]"
     ]
    },
    {
     "name": "stdout",
     "output_type": "stream",
     "text": [
      "[TILE ERROR] Found no graph nodes within the requested polygon. — bbox: (np.float64(-3.5040999999999998), np.float64(56.31099999999999), np.float64(-3.4823999999999997), np.float64(56.324))\n"
     ]
    },
    {
     "name": "stderr",
     "output_type": "stream",
     "text": [
      " 13%|█▎        | 930/7058 [33:00<3:46:12,  2.21s/it]"
     ]
    },
    {
     "name": "stdout",
     "output_type": "stream",
     "text": [
      "[TILE ERROR] No data elements in server response. Check query location/filters and log. — bbox: (np.float64(-3.5040999999999998), np.float64(56.788), np.float64(-3.4823999999999997), np.float64(56.800999999999995))\n"
     ]
    },
    {
     "name": "stderr",
     "output_type": "stream",
     "text": [
      " 13%|█▎        | 934/7058 [33:09<3:24:20,  2.00s/it]"
     ]
    },
    {
     "name": "stdout",
     "output_type": "stream",
     "text": [
      "[TILE ERROR] Graph contains no edges. — bbox: (np.float64(-3.4884), np.float64(51.846999999999994), np.float64(-3.4666999999999994), np.float64(51.86))\n"
     ]
    },
    {
     "name": "stderr",
     "output_type": "stream",
     "text": [
      " 13%|█▎        | 937/7058 [33:14<2:46:28,  1.63s/it]"
     ]
    },
    {
     "name": "stdout",
     "output_type": "stream",
     "text": [
      "[TILE ERROR] Found no graph nodes within the requested polygon. — bbox: (np.float64(-3.4884), np.float64(51.882999999999996), np.float64(-3.4666999999999994), np.float64(51.896))\n"
     ]
    },
    {
     "name": "stderr",
     "output_type": "stream",
     "text": [
      " 13%|█▎        | 938/7058 [33:15<2:40:24,  1.57s/it]"
     ]
    },
    {
     "name": "stdout",
     "output_type": "stream",
     "text": [
      "[TILE ERROR] Found no graph nodes within the requested polygon. — bbox: (np.float64(-3.4884), np.float64(51.891999999999996), np.float64(-3.4666999999999994), np.float64(51.905))\n"
     ]
    },
    {
     "name": "stderr",
     "output_type": "stream",
     "text": [
      " 13%|█▎        | 943/7058 [33:32<6:02:24,  3.56s/it]"
     ]
    },
    {
     "name": "stdout",
     "output_type": "stream",
     "text": [
      "[TILE ERROR] Found no graph nodes within the requested polygon. — bbox: (np.float64(-3.4884), np.float64(51.97299999999999), np.float64(-3.4666999999999994), np.float64(51.986))\n"
     ]
    },
    {
     "name": "stderr",
     "output_type": "stream",
     "text": [
      " 13%|█▎        | 947/7058 [33:40<4:07:23,  2.43s/it]"
     ]
    },
    {
     "name": "stdout",
     "output_type": "stream",
     "text": [
      "[TILE ERROR] Graph contains no edges. — bbox: (np.float64(-3.4884), np.float64(52.71999999999999), np.float64(-3.4666999999999994), np.float64(52.733))\n"
     ]
    },
    {
     "name": "stderr",
     "output_type": "stream",
     "text": [
      " 13%|█▎        | 948/7058 [33:42<3:36:49,  2.13s/it]"
     ]
    },
    {
     "name": "stdout",
     "output_type": "stream",
     "text": [
      "[TILE ERROR] Found no graph nodes within the requested polygon. — bbox: (np.float64(-3.4884), np.float64(52.76499999999999), np.float64(-3.4666999999999994), np.float64(52.778))\n"
     ]
    },
    {
     "name": "stderr",
     "output_type": "stream",
     "text": [
      " 13%|█▎        | 951/7058 [33:45<2:07:47,  1.26s/it]"
     ]
    },
    {
     "name": "stdout",
     "output_type": "stream",
     "text": [
      "[TILE ERROR] Found no graph nodes within the requested polygon. — bbox: (np.float64(-3.4884), np.float64(54.58299999999999), np.float64(-3.4666999999999994), np.float64(54.596))\n",
      "[TILE ERROR] Graph contains no edges. — bbox: (np.float64(-3.4884), np.float64(54.96999999999999), np.float64(-3.4666999999999994), np.float64(54.983))\n"
     ]
    },
    {
     "name": "stderr",
     "output_type": "stream",
     "text": [
      " 14%|█▎        | 957/7058 [33:59<3:38:28,  2.15s/it]"
     ]
    },
    {
     "name": "stdout",
     "output_type": "stream",
     "text": [
      "[TILE ERROR] No data elements in server response. Check query location/filters and log. — bbox: (np.float64(-3.4884), np.float64(57.01299999999999), np.float64(-3.4666999999999994), np.float64(57.025999999999996))\n"
     ]
    },
    {
     "name": "stderr",
     "output_type": "stream",
     "text": [
      " 14%|█▎        | 958/7058 [34:00<3:17:15,  1.94s/it]"
     ]
    },
    {
     "name": "stdout",
     "output_type": "stream",
     "text": [
      "[TILE ERROR] Found no graph nodes within the requested polygon. — bbox: (np.float64(-3.4884), np.float64(57.26499999999999), np.float64(-3.4666999999999994), np.float64(57.278))\n"
     ]
    },
    {
     "name": "stderr",
     "output_type": "stream",
     "text": [
      " 14%|█▎        | 962/7058 [34:08<3:10:08,  1.87s/it]"
     ]
    },
    {
     "name": "stdout",
     "output_type": "stream",
     "text": [
      "[TILE ERROR] Found no graph nodes within the requested polygon. — bbox: (np.float64(-3.4726999999999997), np.float64(51.82899999999999), np.float64(-3.4509999999999996), np.float64(51.842))\n"
     ]
    },
    {
     "name": "stderr",
     "output_type": "stream",
     "text": [
      " 14%|█▍        | 978/7058 [34:40<4:27:15,  2.64s/it]"
     ]
    },
    {
     "name": "stdout",
     "output_type": "stream",
     "text": [
      "[TILE ERROR] Graph contains no edges. — bbox: (np.float64(-3.4726999999999997), np.float64(54.36699999999999), np.float64(-3.4509999999999996), np.float64(54.379999999999995))\n"
     ]
    },
    {
     "name": "stderr",
     "output_type": "stream",
     "text": [
      " 14%|█▍        | 984/7058 [34:52<3:19:02,  1.97s/it]"
     ]
    },
    {
     "name": "stdout",
     "output_type": "stream",
     "text": [
      "[TILE ERROR] Graph contains no edges. — bbox: (np.float64(-3.4726999999999997), np.float64(56.99499999999999), np.float64(-3.4509999999999996), np.float64(57.007999999999996))\n"
     ]
    },
    {
     "name": "stderr",
     "output_type": "stream",
     "text": [
      " 14%|█▍        | 988/7058 [34:57<2:20:39,  1.39s/it]"
     ]
    },
    {
     "name": "stdout",
     "output_type": "stream",
     "text": [
      "[TILE ERROR] Graph contains no edges. — bbox: (np.float64(-3.457), np.float64(51.900999999999996), np.float64(-3.4353), np.float64(51.914))\n"
     ]
    },
    {
     "name": "stderr",
     "output_type": "stream",
     "text": [
      " 14%|█▍        | 996/7058 [35:09<2:30:25,  1.49s/it]"
     ]
    },
    {
     "name": "stdout",
     "output_type": "stream",
     "text": [
      "[TILE ERROR] Graph contains no edges. — bbox: (np.float64(-3.457), np.float64(52.629999999999995), np.float64(-3.4353), np.float64(52.643))\n"
     ]
    },
    {
     "name": "stderr",
     "output_type": "stream",
     "text": [
      " 14%|█▍        | 1004/7058 [35:19<2:11:28,  1.30s/it]"
     ]
    },
    {
     "name": "stdout",
     "output_type": "stream",
     "text": [
      "[TILE ERROR] Graph contains no edges. — bbox: (np.float64(-3.457), np.float64(56.211999999999996), np.float64(-3.4353), np.float64(56.225))\n"
     ]
    },
    {
     "name": "stderr",
     "output_type": "stream",
     "text": [
      " 14%|█▍        | 1006/7058 [35:22<2:22:06,  1.41s/it]"
     ]
    },
    {
     "name": "stdout",
     "output_type": "stream",
     "text": [
      "[TILE ERROR] No data elements in server response. Check query location/filters and log. — bbox: (np.float64(-3.457), np.float64(57.03099999999999), np.float64(-3.4353), np.float64(57.044))\n"
     ]
    },
    {
     "name": "stderr",
     "output_type": "stream",
     "text": [
      " 14%|█▍        | 1009/7058 [35:34<5:32:04,  3.29s/it]"
     ]
    },
    {
     "name": "stdout",
     "output_type": "stream",
     "text": [
      "[TILE ERROR] Graph contains no edges. — bbox: (np.float64(-3.4413), np.float64(51.900999999999996), np.float64(-3.4195999999999995), np.float64(51.914))\n"
     ]
    },
    {
     "name": "stderr",
     "output_type": "stream",
     "text": [
      " 14%|█▍        | 1018/7058 [35:57<3:52:38,  2.31s/it]"
     ]
    },
    {
     "name": "stdout",
     "output_type": "stream",
     "text": [
      "[TILE ERROR] Found no graph nodes within the requested polygon. — bbox: (np.float64(-3.4413), np.float64(52.36899999999999), np.float64(-3.4195999999999995), np.float64(52.382))\n"
     ]
    },
    {
     "name": "stderr",
     "output_type": "stream",
     "text": [
      " 15%|█▍        | 1028/7058 [36:14<2:42:23,  1.62s/it]"
     ]
    },
    {
     "name": "stdout",
     "output_type": "stream",
     "text": [
      "[TILE ERROR] Found no graph nodes within the requested polygon. — bbox: (np.float64(-3.4413), np.float64(57.291999999999994), np.float64(-3.4195999999999995), np.float64(57.305))\n"
     ]
    },
    {
     "name": "stderr",
     "output_type": "stream",
     "text": [
      " 15%|█▍        | 1029/7058 [36:16<3:04:53,  1.84s/it]"
     ]
    },
    {
     "name": "stdout",
     "output_type": "stream",
     "text": [
      "[TILE ERROR] Found no graph nodes within the requested polygon. — bbox: (np.float64(-3.4255999999999998), np.float64(51.837999999999994), np.float64(-3.4038999999999997), np.float64(51.851))\n"
     ]
    },
    {
     "name": "stderr",
     "output_type": "stream",
     "text": [
      " 15%|█▍        | 1036/7058 [36:31<5:05:26,  3.04s/it]"
     ]
    },
    {
     "name": "stdout",
     "output_type": "stream",
     "text": [
      "[TILE ERROR] Found no graph nodes within the requested polygon. — bbox: (np.float64(-3.4255999999999998), np.float64(52.57599999999999), np.float64(-3.4038999999999997), np.float64(52.589))\n"
     ]
    },
    {
     "name": "stderr",
     "output_type": "stream",
     "text": [
      " 15%|█▍        | 1043/7058 [36:43<4:03:54,  2.43s/it]"
     ]
    },
    {
     "name": "stdout",
     "output_type": "stream",
     "text": [
      "[TILE ERROR] Found no graph nodes within the requested polygon. — bbox: (np.float64(-3.4255999999999998), np.float64(56.30199999999999), np.float64(-3.4038999999999997), np.float64(56.315))\n"
     ]
    },
    {
     "name": "stderr",
     "output_type": "stream",
     "text": [
      " 15%|█▍        | 1044/7058 [36:45<3:35:45,  2.15s/it]"
     ]
    },
    {
     "name": "stdout",
     "output_type": "stream",
     "text": [
      "[TILE ERROR] Found no graph nodes within the requested polygon. — bbox: (np.float64(-3.4255999999999998), np.float64(56.31099999999999), np.float64(-3.4038999999999997), np.float64(56.324))\n"
     ]
    },
    {
     "name": "stderr",
     "output_type": "stream",
     "text": [
      " 15%|█▍        | 1046/7058 [36:53<4:49:28,  2.89s/it]"
     ]
    },
    {
     "name": "stdout",
     "output_type": "stream",
     "text": [
      "[TILE ERROR] Graph contains no edges. — bbox: (np.float64(-3.4255999999999998), np.float64(57.282999999999994), np.float64(-3.4038999999999997), np.float64(57.296))\n"
     ]
    },
    {
     "name": "stderr",
     "output_type": "stream",
     "text": [
      " 15%|█▍        | 1047/7058 [36:55<4:43:32,  2.83s/it]"
     ]
    },
    {
     "name": "stdout",
     "output_type": "stream",
     "text": [
      "[TILE ERROR] Found no graph nodes within the requested polygon. — bbox: (np.float64(-3.4255999999999998), np.float64(57.300999999999995), np.float64(-3.4038999999999997), np.float64(57.314))\n"
     ]
    },
    {
     "name": "stderr",
     "output_type": "stream",
     "text": [
      " 15%|█▍        | 1057/7058 [37:20<3:11:33,  1.92s/it]"
     ]
    },
    {
     "name": "stdout",
     "output_type": "stream",
     "text": [
      "[TILE ERROR] Found no graph nodes within the requested polygon. — bbox: (np.float64(-3.4099), np.float64(56.31099999999999), np.float64(-3.3881999999999994), np.float64(56.324))\n"
     ]
    },
    {
     "name": "stderr",
     "output_type": "stream",
     "text": [
      " 15%|█▌        | 1062/7058 [37:28<2:52:32,  1.73s/it]"
     ]
    },
    {
     "name": "stdout",
     "output_type": "stream",
     "text": [
      "[TILE ERROR] No data elements in server response. Check query location/filters and log. — bbox: (np.float64(-3.4099), np.float64(57.21999999999999), np.float64(-3.3881999999999994), np.float64(57.233))\n"
     ]
    },
    {
     "name": "stderr",
     "output_type": "stream",
     "text": [
      " 15%|█▌        | 1088/7058 [38:12<3:03:08,  1.84s/it]"
     ]
    },
    {
     "name": "stdout",
     "output_type": "stream",
     "text": [
      "[TILE ERROR] Found no graph nodes within the requested polygon. — bbox: (np.float64(-3.3785), np.float64(51.837999999999994), np.float64(-3.3568), np.float64(51.851))\n"
     ]
    },
    {
     "name": "stderr",
     "output_type": "stream",
     "text": [
      " 16%|█▌        | 1107/7058 [39:06<3:48:55,  2.31s/it]"
     ]
    },
    {
     "name": "stdout",
     "output_type": "stream",
     "text": [
      "[TILE ERROR] Found no graph nodes within the requested polygon. — bbox: (np.float64(-3.3785), np.float64(56.751999999999995), np.float64(-3.3568), np.float64(56.765))\n"
     ]
    },
    {
     "name": "stderr",
     "output_type": "stream",
     "text": [
      " 16%|█▌        | 1108/7058 [39:09<4:20:27,  2.63s/it]"
     ]
    },
    {
     "name": "stdout",
     "output_type": "stream",
     "text": [
      "[TILE ERROR] No data elements in server response. Check query location/filters and log. — bbox: (np.float64(-3.3785), np.float64(56.83299999999999), np.float64(-3.3568), np.float64(56.846))\n"
     ]
    },
    {
     "name": "stderr",
     "output_type": "stream",
     "text": [
      " 16%|█▌        | 1109/7058 [39:11<3:45:40,  2.28s/it]"
     ]
    },
    {
     "name": "stdout",
     "output_type": "stream",
     "text": [
      "[TILE ERROR] Found no graph nodes within the requested polygon. — bbox: (np.float64(-3.3785), np.float64(57.01299999999999), np.float64(-3.3568), np.float64(57.025999999999996))\n"
     ]
    },
    {
     "name": "stderr",
     "output_type": "stream",
     "text": [
      " 16%|█▌        | 1113/7058 [39:18<2:56:19,  1.78s/it]"
     ]
    },
    {
     "name": "stdout",
     "output_type": "stream",
     "text": [
      "[TILE ERROR] Found no graph nodes within the requested polygon. — bbox: (np.float64(-3.3785), np.float64(57.336999999999996), np.float64(-3.3568), np.float64(57.35))\n"
     ]
    },
    {
     "name": "stderr",
     "output_type": "stream",
     "text": [
      " 16%|█▌        | 1118/7058 [39:25<2:17:29,  1.39s/it]"
     ]
    },
    {
     "name": "stdout",
     "output_type": "stream",
     "text": [
      "[TILE ERROR] Found no graph nodes within the requested polygon. — bbox: (np.float64(-3.3628), np.float64(52.395999999999994), np.float64(-3.3410999999999995), np.float64(52.409))\n"
     ]
    },
    {
     "name": "stderr",
     "output_type": "stream",
     "text": [
      " 16%|█▋        | 1152/7058 [40:38<4:37:30,  2.82s/it]"
     ]
    },
    {
     "name": "stdout",
     "output_type": "stream",
     "text": [
      "[TILE ERROR] Found no graph nodes within the requested polygon. — bbox: (np.float64(-3.3470999999999997), np.float64(54.58299999999999), np.float64(-3.3253999999999997), np.float64(54.596))\n"
     ]
    },
    {
     "name": "stderr",
     "output_type": "stream",
     "text": [
      " 16%|█▋        | 1153/7058 [40:43<5:44:20,  3.50s/it]"
     ]
    },
    {
     "name": "stdout",
     "output_type": "stream",
     "text": [
      "[TILE ERROR] Found no graph nodes within the requested polygon. — bbox: (np.float64(-3.3470999999999997), np.float64(55.392999999999994), np.float64(-3.3253999999999997), np.float64(55.406))\n"
     ]
    },
    {
     "name": "stderr",
     "output_type": "stream",
     "text": [
      " 16%|█▋        | 1160/7058 [40:57<2:54:09,  1.77s/it]"
     ]
    },
    {
     "name": "stdout",
     "output_type": "stream",
     "text": [
      "[TILE ERROR] No data elements in server response. Check query location/filters and log. — bbox: (np.float64(-3.3470999999999997), np.float64(56.904999999999994), np.float64(-3.3253999999999997), np.float64(56.918))\n"
     ]
    },
    {
     "name": "stderr",
     "output_type": "stream",
     "text": [
      " 16%|█▋        | 1162/7058 [41:01<3:01:55,  1.85s/it]"
     ]
    },
    {
     "name": "stdout",
     "output_type": "stream",
     "text": [
      "[TILE ERROR] Graph contains no edges. — bbox: (np.float64(-3.3470999999999997), np.float64(57.00399999999999), np.float64(-3.3253999999999997), np.float64(57.016999999999996))\n"
     ]
    },
    {
     "name": "stderr",
     "output_type": "stream",
     "text": [
      " 17%|█▋        | 1166/7058 [41:08<2:50:56,  1.74s/it]"
     ]
    },
    {
     "name": "stdout",
     "output_type": "stream",
     "text": [
      "[TILE ERROR] Found no graph nodes within the requested polygon. — bbox: (np.float64(-3.3314), np.float64(51.837999999999994), np.float64(-3.3096999999999994), np.float64(51.851))\n"
     ]
    },
    {
     "name": "stderr",
     "output_type": "stream",
     "text": [
      " 17%|█▋        | 1167/7058 [41:08<2:11:18,  1.34s/it]"
     ]
    },
    {
     "name": "stdout",
     "output_type": "stream",
     "text": [
      "[TILE ERROR] Found no graph nodes within the requested polygon. — bbox: (np.float64(-3.3314), np.float64(51.882999999999996), np.float64(-3.3096999999999994), np.float64(51.896))\n"
     ]
    },
    {
     "name": "stderr",
     "output_type": "stream",
     "text": [
      " 17%|█▋        | 1173/7058 [41:20<2:43:30,  1.67s/it]"
     ]
    },
    {
     "name": "stdout",
     "output_type": "stream",
     "text": [
      "[TILE ERROR] Graph contains no edges. — bbox: (np.float64(-3.3314), np.float64(52.31499999999999), np.float64(-3.3096999999999994), np.float64(52.327999999999996))\n"
     ]
    },
    {
     "name": "stderr",
     "output_type": "stream",
     "text": [
      " 17%|█▋        | 1184/7058 [41:40<4:08:21,  2.54s/it]"
     ]
    },
    {
     "name": "stdout",
     "output_type": "stream",
     "text": [
      "[TILE ERROR] Found no graph nodes within the requested polygon. — bbox: (np.float64(-3.3314), np.float64(55.842999999999996), np.float64(-3.3096999999999994), np.float64(55.856))\n"
     ]
    },
    {
     "name": "stderr",
     "output_type": "stream",
     "text": [
      " 17%|█▋        | 1192/7058 [41:56<3:28:38,  2.13s/it]"
     ]
    },
    {
     "name": "stdout",
     "output_type": "stream",
     "text": [
      "[TILE ERROR] No data elements in server response. Check query location/filters and log. — bbox: (np.float64(-3.3314), np.float64(56.931999999999995), np.float64(-3.3096999999999994), np.float64(56.945))\n"
     ]
    },
    {
     "name": "stderr",
     "output_type": "stream",
     "text": [
      " 17%|█▋        | 1199/7058 [42:06<2:11:25,  1.35s/it]"
     ]
    },
    {
     "name": "stdout",
     "output_type": "stream",
     "text": [
      "[TILE ERROR] Found no graph nodes within the requested polygon. — bbox: (np.float64(-3.3156999999999996), np.float64(51.98199999999999), np.float64(-3.2939999999999996), np.float64(51.995))\n"
     ]
    },
    {
     "name": "stderr",
     "output_type": "stream",
     "text": [
      " 17%|█▋        | 1200/7058 [42:08<2:41:16,  1.65s/it]"
     ]
    },
    {
     "name": "stdout",
     "output_type": "stream",
     "text": [
      "[TILE ERROR] Found no graph nodes within the requested polygon. — bbox: (np.float64(-3.3156999999999996), np.float64(52.035999999999994), np.float64(-3.2939999999999996), np.float64(52.049))\n"
     ]
    },
    {
     "name": "stderr",
     "output_type": "stream",
     "text": [
      " 18%|█▊        | 1238/7058 [43:20<2:24:56,  1.49s/it]"
     ]
    },
    {
     "name": "stdout",
     "output_type": "stream",
     "text": [
      "[TILE ERROR] No data elements in server response. Check query location/filters and log. — bbox: (np.float64(-3.3), np.float64(55.285), np.float64(-3.2782999999999998), np.float64(55.297999999999995))\n"
     ]
    },
    {
     "name": "stderr",
     "output_type": "stream",
     "text": [
      " 18%|█▊        | 1243/7058 [43:28<2:31:58,  1.57s/it]"
     ]
    },
    {
     "name": "stdout",
     "output_type": "stream",
     "text": [
      "[TILE ERROR] No data elements in server response. Check query location/filters and log. — bbox: (np.float64(-3.3), np.float64(56.23899999999999), np.float64(-3.2782999999999998), np.float64(56.251999999999995))\n"
     ]
    },
    {
     "name": "stderr",
     "output_type": "stream",
     "text": [
      " 18%|█▊        | 1249/7058 [43:39<2:36:02,  1.61s/it]"
     ]
    },
    {
     "name": "stdout",
     "output_type": "stream",
     "text": [
      "[TILE ERROR] Found no graph nodes within the requested polygon. — bbox: (np.float64(-3.3), np.float64(57.01299999999999), np.float64(-3.2782999999999998), np.float64(57.025999999999996))\n"
     ]
    },
    {
     "name": "stderr",
     "output_type": "stream",
     "text": [
      " 18%|█▊        | 1250/7058 [43:43<3:46:01,  2.34s/it]"
     ]
    },
    {
     "name": "stdout",
     "output_type": "stream",
     "text": [
      "[TILE ERROR] Found no graph nodes within the requested polygon. — bbox: (np.float64(-3.2843), np.float64(51.837999999999994), np.float64(-3.2625999999999995), np.float64(51.851))\n"
     ]
    },
    {
     "name": "stderr",
     "output_type": "stream",
     "text": [
      " 18%|█▊        | 1255/7058 [43:51<2:41:11,  1.67s/it]"
     ]
    },
    {
     "name": "stdout",
     "output_type": "stream",
     "text": [
      "[TILE ERROR] Graph contains no edges. — bbox: (np.float64(-3.2843), np.float64(52.36899999999999), np.float64(-3.2625999999999995), np.float64(52.382))\n"
     ]
    },
    {
     "name": "stderr",
     "output_type": "stream",
     "text": [
      " 18%|█▊        | 1257/7058 [43:56<3:07:54,  1.94s/it]"
     ]
    },
    {
     "name": "stdout",
     "output_type": "stream",
     "text": [
      "[TILE ERROR] Graph contains no edges. — bbox: (np.float64(-3.2843), np.float64(52.602999999999994), np.float64(-3.2625999999999995), np.float64(52.616))\n"
     ]
    },
    {
     "name": "stderr",
     "output_type": "stream",
     "text": [
      " 18%|█▊        | 1266/7058 [44:12<3:16:37,  2.04s/it]"
     ]
    },
    {
     "name": "stdout",
     "output_type": "stream",
     "text": [
      "[TILE ERROR] No data elements in server response. Check query location/filters and log. — bbox: (np.float64(-3.2843), np.float64(56.22999999999999), np.float64(-3.2625999999999995), np.float64(56.242999999999995))\n"
     ]
    },
    {
     "name": "stderr",
     "output_type": "stream",
     "text": [
      " 18%|█▊        | 1267/7058 [44:13<3:01:20,  1.88s/it]"
     ]
    },
    {
     "name": "stdout",
     "output_type": "stream",
     "text": [
      "[TILE ERROR] Graph contains no edges. — bbox: (np.float64(-3.2843), np.float64(56.46399999999999), np.float64(-3.2625999999999995), np.float64(56.477))\n"
     ]
    },
    {
     "name": "stderr",
     "output_type": "stream",
     "text": [
      " 18%|█▊        | 1270/7058 [44:18<2:09:41,  1.34s/it]"
     ]
    },
    {
     "name": "stdout",
     "output_type": "stream",
     "text": [
      "[TILE ERROR] Found no graph nodes within the requested polygon. — bbox: (np.float64(-3.2843), np.float64(57.01299999999999), np.float64(-3.2625999999999995), np.float64(57.025999999999996))\n"
     ]
    },
    {
     "name": "stderr",
     "output_type": "stream",
     "text": [
      " 18%|█▊        | 1272/7058 [44:21<2:24:02,  1.49s/it]"
     ]
    },
    {
     "name": "stdout",
     "output_type": "stream",
     "text": [
      "[TILE ERROR] Found no graph nodes within the requested polygon. — bbox: (np.float64(-3.2685999999999997), np.float64(51.837999999999994), np.float64(-3.2468999999999997), np.float64(51.851))\n"
     ]
    },
    {
     "name": "stderr",
     "output_type": "stream",
     "text": [
      " 18%|█▊        | 1275/7058 [44:26<2:23:21,  1.49s/it]"
     ]
    },
    {
     "name": "stdout",
     "output_type": "stream",
     "text": [
      "[TILE ERROR] Found no graph nodes within the requested polygon. — bbox: (np.float64(-3.2685999999999997), np.float64(51.873999999999995), np.float64(-3.2468999999999997), np.float64(51.887))\n"
     ]
    },
    {
     "name": "stderr",
     "output_type": "stream",
     "text": [
      " 18%|█▊        | 1279/7058 [44:39<4:56:49,  3.08s/it]"
     ]
    },
    {
     "name": "stdout",
     "output_type": "stream",
     "text": [
      "[TILE ERROR] Graph contains no edges. — bbox: (np.float64(-3.2685999999999997), np.float64(52.35999999999999), np.float64(-3.2468999999999997), np.float64(52.373))\n"
     ]
    },
    {
     "name": "stderr",
     "output_type": "stream",
     "text": [
      " 18%|█▊        | 1284/7058 [44:50<4:04:09,  2.54s/it]"
     ]
    },
    {
     "name": "stdout",
     "output_type": "stream",
     "text": [
      "[TILE ERROR] Found no graph nodes within the requested polygon. — bbox: (np.float64(-3.2685999999999997), np.float64(54.888999999999996), np.float64(-3.2468999999999997), np.float64(54.902))\n"
     ]
    },
    {
     "name": "stderr",
     "output_type": "stream",
     "text": [
      " 18%|█▊        | 1288/7058 [44:56<2:38:46,  1.65s/it]"
     ]
    },
    {
     "name": "stdout",
     "output_type": "stream",
     "text": [
      "[TILE ERROR] Found no graph nodes within the requested polygon. — bbox: (np.float64(-3.2685999999999997), np.float64(56.45499999999999), np.float64(-3.2468999999999997), np.float64(56.467999999999996))\n"
     ]
    },
    {
     "name": "stderr",
     "output_type": "stream",
     "text": [
      " 18%|█▊        | 1290/7058 [44:59<2:26:03,  1.52s/it]"
     ]
    },
    {
     "name": "stdout",
     "output_type": "stream",
     "text": [
      "[TILE ERROR] Graph contains no edges. — bbox: (np.float64(-3.2685999999999997), np.float64(56.65299999999999), np.float64(-3.2468999999999997), np.float64(56.666))\n"
     ]
    },
    {
     "name": "stderr",
     "output_type": "stream",
     "text": [
      " 19%|█▊        | 1309/7058 [45:48<7:09:57,  4.49s/it]"
     ]
    },
    {
     "name": "stdout",
     "output_type": "stream",
     "text": [
      "[TILE ERROR] Found no graph nodes within the requested polygon. — bbox: (np.float64(-3.2529), np.float64(55.852), np.float64(-3.2311999999999994), np.float64(55.864999999999995))\n"
     ]
    },
    {
     "name": "stderr",
     "output_type": "stream",
     "text": [
      " 19%|█▊        | 1312/7058 [45:56<4:54:50,  3.08s/it]"
     ]
    },
    {
     "name": "stdout",
     "output_type": "stream",
     "text": [
      "[TILE ERROR] Found no graph nodes within the requested polygon. — bbox: (np.float64(-3.2529), np.float64(56.27499999999999), np.float64(-3.2311999999999994), np.float64(56.288))\n"
     ]
    },
    {
     "name": "stderr",
     "output_type": "stream",
     "text": [
      " 19%|█▊        | 1316/7058 [46:03<2:59:48,  1.88s/it]"
     ]
    },
    {
     "name": "stdout",
     "output_type": "stream",
     "text": [
      "[TILE ERROR] Graph contains no edges. — bbox: (np.float64(-3.2529), np.float64(56.44599999999999), np.float64(-3.2311999999999994), np.float64(56.458999999999996))\n"
     ]
    },
    {
     "name": "stderr",
     "output_type": "stream",
     "text": [
      " 19%|█▊        | 1317/7058 [46:04<2:46:27,  1.74s/it]"
     ]
    },
    {
     "name": "stdout",
     "output_type": "stream",
     "text": [
      "[TILE ERROR] Found no graph nodes within the requested polygon. — bbox: (np.float64(-3.2529), np.float64(56.733999999999995), np.float64(-3.2311999999999994), np.float64(56.747))\n"
     ]
    },
    {
     "name": "stderr",
     "output_type": "stream",
     "text": [
      " 19%|█▊        | 1318/7058 [46:05<2:06:48,  1.33s/it]"
     ]
    },
    {
     "name": "stdout",
     "output_type": "stream",
     "text": [
      "[TILE ERROR] No data elements in server response. Check query location/filters and log. — bbox: (np.float64(-3.2529), np.float64(56.79699999999999), np.float64(-3.2311999999999994), np.float64(56.809999999999995))\n"
     ]
    },
    {
     "name": "stderr",
     "output_type": "stream",
     "text": [
      " 19%|█▊        | 1321/7058 [46:09<2:09:03,  1.35s/it]"
     ]
    },
    {
     "name": "stdout",
     "output_type": "stream",
     "text": [
      "[TILE ERROR] Graph contains no edges. — bbox: (np.float64(-3.2371999999999996), np.float64(50.739999999999995), np.float64(-3.2154999999999996), np.float64(50.753))\n"
     ]
    },
    {
     "name": "stderr",
     "output_type": "stream",
     "text": [
      " 19%|█▊        | 1322/7058 [46:09<1:37:43,  1.02s/it]"
     ]
    },
    {
     "name": "stdout",
     "output_type": "stream",
     "text": [
      "[TILE ERROR] Graph contains no edges. — bbox: (np.float64(-3.2371999999999996), np.float64(51.459999999999994), np.float64(-3.2154999999999996), np.float64(51.473))\n"
     ]
    },
    {
     "name": "stderr",
     "output_type": "stream",
     "text": [
      " 19%|█▉        | 1342/7058 [47:04<11:53:52,  7.49s/it]"
     ]
    },
    {
     "name": "stdout",
     "output_type": "stream",
     "text": [
      "[TILE ERROR] Graph contains no edges. — bbox: (np.float64(-3.2371999999999996), np.float64(55.257999999999996), np.float64(-3.2154999999999996), np.float64(55.271))\n"
     ]
    },
    {
     "name": "stderr",
     "output_type": "stream",
     "text": [
      " 19%|█▉        | 1343/7058 [47:04<8:32:38,  5.38s/it] "
     ]
    },
    {
     "name": "stdout",
     "output_type": "stream",
     "text": [
      "[TILE ERROR] No data elements in server response. Check query location/filters and log. — bbox: (np.float64(-3.2371999999999996), np.float64(55.266999999999996), np.float64(-3.2154999999999996), np.float64(55.28))\n"
     ]
    },
    {
     "name": "stderr",
     "output_type": "stream",
     "text": [
      " 19%|█▉        | 1347/7058 [47:17<6:14:59,  3.94s/it]"
     ]
    },
    {
     "name": "stdout",
     "output_type": "stream",
     "text": [
      "[TILE ERROR] Found no graph nodes within the requested polygon. — bbox: (np.float64(-3.2371999999999996), np.float64(56.22999999999999), np.float64(-3.2154999999999996), np.float64(56.242999999999995))\n"
     ]
    },
    {
     "name": "stderr",
     "output_type": "stream",
     "text": [
      " 19%|█▉        | 1351/7058 [47:31<5:13:55,  3.30s/it]"
     ]
    },
    {
     "name": "stdout",
     "output_type": "stream",
     "text": [
      "[TILE ERROR] No data elements in server response. Check query location/filters and log. — bbox: (np.float64(-3.2371999999999996), np.float64(56.81499999999999), np.float64(-3.2154999999999996), np.float64(56.827999999999996))\n"
     ]
    },
    {
     "name": "stderr",
     "output_type": "stream",
     "text": [
      " 19%|█▉        | 1359/7058 [47:58<3:17:17,  2.08s/it]"
     ]
    },
    {
     "name": "stdout",
     "output_type": "stream",
     "text": [
      "[TILE ERROR] Found no graph nodes within the requested polygon. — bbox: (np.float64(-3.2215), np.float64(52.224999999999994), np.float64(-3.1997999999999998), np.float64(52.238))\n"
     ]
    },
    {
     "name": "stderr",
     "output_type": "stream",
     "text": [
      " 19%|█▉        | 1360/7058 [48:09<7:37:06,  4.81s/it]"
     ]
    },
    {
     "name": "stdout",
     "output_type": "stream",
     "text": [
      "[TILE ERROR] Graph contains no edges. — bbox: (np.float64(-3.2215), np.float64(52.288), np.float64(-3.1997999999999998), np.float64(52.301))\n"
     ]
    },
    {
     "name": "stderr",
     "output_type": "stream",
     "text": [
      " 19%|█▉        | 1362/7058 [48:19<7:19:45,  4.63s/it]"
     ]
    },
    {
     "name": "stdout",
     "output_type": "stream",
     "text": [
      "[TILE ERROR] Graph contains no edges. — bbox: (np.float64(-3.2215), np.float64(52.34199999999999), np.float64(-3.1997999999999998), np.float64(52.355))\n"
     ]
    },
    {
     "name": "stderr",
     "output_type": "stream",
     "text": [
      " 19%|█▉        | 1363/7058 [48:20<5:47:56,  3.67s/it]"
     ]
    },
    {
     "name": "stdout",
     "output_type": "stream",
     "text": [
      "[TILE ERROR] No data elements in server response. Check query location/filters and log. — bbox: (np.float64(-3.2215), np.float64(52.35999999999999), np.float64(-3.1997999999999998), np.float64(52.373))\n"
     ]
    },
    {
     "name": "stderr",
     "output_type": "stream",
     "text": [
      " 19%|█▉        | 1365/7058 [48:24<3:59:25,  2.52s/it]"
     ]
    },
    {
     "name": "stdout",
     "output_type": "stream",
     "text": [
      "[TILE ERROR] Found no graph nodes within the requested polygon. — bbox: (np.float64(-3.2215), np.float64(52.647999999999996), np.float64(-3.1997999999999998), np.float64(52.661))\n"
     ]
    },
    {
     "name": "stderr",
     "output_type": "stream",
     "text": [
      " 20%|█▉        | 1381/7058 [48:53<4:44:58,  3.01s/it]"
     ]
    },
    {
     "name": "stdout",
     "output_type": "stream",
     "text": [
      "[TILE ERROR] Graph contains no edges. — bbox: (np.float64(-3.2215), np.float64(56.49999999999999), np.float64(-3.1997999999999998), np.float64(56.513))\n"
     ]
    },
    {
     "name": "stderr",
     "output_type": "stream",
     "text": [
      " 20%|█▉        | 1383/7058 [48:59<4:39:33,  2.96s/it]"
     ]
    },
    {
     "name": "stdout",
     "output_type": "stream",
     "text": [
      "[TILE ERROR] No data elements in server response. Check query location/filters and log. — bbox: (np.float64(-3.2215), np.float64(56.80599999999999), np.float64(-3.1997999999999998), np.float64(56.818999999999996))\n"
     ]
    },
    {
     "name": "stderr",
     "output_type": "stream",
     "text": [
      " 20%|█▉        | 1384/7058 [49:01<4:00:38,  2.54s/it]"
     ]
    },
    {
     "name": "stdout",
     "output_type": "stream",
     "text": [
      "[TILE ERROR] Found no graph nodes within the requested polygon. — bbox: (np.float64(-3.2058), np.float64(50.70399999999999), np.float64(-3.1840999999999995), np.float64(50.717))\n"
     ]
    },
    {
     "name": "stderr",
     "output_type": "stream",
     "text": [
      " 20%|█▉        | 1395/7058 [49:22<3:02:09,  1.93s/it]"
     ]
    },
    {
     "name": "stdout",
     "output_type": "stream",
     "text": [
      "[TILE ERROR] Found no graph nodes within the requested polygon. — bbox: (np.float64(-3.2058), np.float64(52.224999999999994), np.float64(-3.1840999999999995), np.float64(52.238))\n"
     ]
    },
    {
     "name": "stderr",
     "output_type": "stream",
     "text": [
      " 20%|█▉        | 1400/7058 [49:29<2:25:33,  1.54s/it]"
     ]
    },
    {
     "name": "stdout",
     "output_type": "stream",
     "text": [
      "[TILE ERROR] Graph contains no edges. — bbox: (np.float64(-3.2058), np.float64(52.467999999999996), np.float64(-3.1840999999999995), np.float64(52.481))\n"
     ]
    },
    {
     "name": "stderr",
     "output_type": "stream",
     "text": [
      " 20%|█▉        | 1401/7058 [49:30<1:53:09,  1.20s/it]"
     ]
    },
    {
     "name": "stdout",
     "output_type": "stream",
     "text": [
      "[TILE ERROR] Found no graph nodes within the requested polygon. — bbox: (np.float64(-3.2058), np.float64(52.477), np.float64(-3.1840999999999995), np.float64(52.49))\n"
     ]
    },
    {
     "name": "stderr",
     "output_type": "stream",
     "text": [
      " 20%|██        | 1420/7058 [50:15<4:46:16,  3.05s/it]"
     ]
    },
    {
     "name": "stdout",
     "output_type": "stream",
     "text": [
      "[TILE ERROR] No data elements in server response. Check query location/filters and log. — bbox: (np.float64(-3.2058), np.float64(56.79699999999999), np.float64(-3.1840999999999995), np.float64(56.809999999999995))\n"
     ]
    },
    {
     "name": "stderr",
     "output_type": "stream",
     "text": [
      " 20%|██        | 1421/7058 [50:17<4:20:55,  2.78s/it]"
     ]
    },
    {
     "name": "stdout",
     "output_type": "stream",
     "text": [
      "[TILE ERROR] Found no graph nodes within the requested polygon. — bbox: (np.float64(-3.2058), np.float64(56.81499999999999), np.float64(-3.1840999999999995), np.float64(56.827999999999996))\n"
     ]
    },
    {
     "name": "stderr",
     "output_type": "stream",
     "text": [
      " 20%|██        | 1427/7058 [50:33<4:08:56,  2.65s/it]"
     ]
    },
    {
     "name": "stdout",
     "output_type": "stream",
     "text": [
      "[TILE ERROR] Found no graph nodes within the requested polygon. — bbox: (np.float64(-3.1900999999999997), np.float64(51.96399999999999), np.float64(-3.1683999999999997), np.float64(51.977))\n"
     ]
    },
    {
     "name": "stderr",
     "output_type": "stream",
     "text": [
      " 20%|██        | 1430/7058 [50:39<3:26:56,  2.21s/it]"
     ]
    },
    {
     "name": "stdout",
     "output_type": "stream",
     "text": [
      "[TILE ERROR] Graph contains no edges. — bbox: (np.float64(-3.1900999999999997), np.float64(52.288), np.float64(-3.1683999999999997), np.float64(52.301))\n"
     ]
    },
    {
     "name": "stderr",
     "output_type": "stream",
     "text": [
      " 20%|██        | 1432/7058 [50:43<3:33:10,  2.27s/it]"
     ]
    },
    {
     "name": "stdout",
     "output_type": "stream",
     "text": [
      "[TILE ERROR] Graph contains no edges. — bbox: (np.float64(-3.1900999999999997), np.float64(52.34199999999999), np.float64(-3.1683999999999997), np.float64(52.355))\n"
     ]
    },
    {
     "name": "stderr",
     "output_type": "stream",
     "text": [
      " 21%|██        | 1447/7058 [51:09<3:38:54,  2.34s/it]"
     ]
    },
    {
     "name": "stdout",
     "output_type": "stream",
     "text": [
      "[TILE ERROR] Graph contains no edges. — bbox: (np.float64(-3.1900999999999997), np.float64(56.28399999999999), np.float64(-3.1683999999999997), np.float64(56.297))\n"
     ]
    },
    {
     "name": "stderr",
     "output_type": "stream",
     "text": [
      " 21%|██        | 1448/7058 [51:12<3:53:13,  2.49s/it]"
     ]
    },
    {
     "name": "stdout",
     "output_type": "stream",
     "text": [
      "[TILE ERROR] No data elements in server response. Check query location/filters and log. — bbox: (np.float64(-3.1900999999999997), np.float64(56.517999999999994), np.float64(-3.1683999999999997), np.float64(56.531))\n"
     ]
    },
    {
     "name": "stderr",
     "output_type": "stream",
     "text": [
      " 21%|██        | 1449/7058 [51:14<3:38:52,  2.34s/it]"
     ]
    },
    {
     "name": "stdout",
     "output_type": "stream",
     "text": [
      "[TILE ERROR] Found no graph nodes within the requested polygon. — bbox: (np.float64(-3.1900999999999997), np.float64(56.79699999999999), np.float64(-3.1683999999999997), np.float64(56.809999999999995))\n"
     ]
    },
    {
     "name": "stderr",
     "output_type": "stream",
     "text": [
      " 21%|██        | 1451/7058 [51:18<3:06:11,  1.99s/it]"
     ]
    },
    {
     "name": "stdout",
     "output_type": "stream",
     "text": [
      "[TILE ERROR] Graph contains no edges. — bbox: (np.float64(-3.1900999999999997), np.float64(57.157), np.float64(-3.1683999999999997), np.float64(57.169999999999995))\n"
     ]
    },
    {
     "name": "stderr",
     "output_type": "stream",
     "text": [
      " 21%|██        | 1453/7058 [51:20<2:26:39,  1.57s/it]"
     ]
    },
    {
     "name": "stdout",
     "output_type": "stream",
     "text": [
      "[TILE ERROR] Graph contains no edges. — bbox: (np.float64(-3.1744), np.float64(51.82899999999999), np.float64(-3.1527), np.float64(51.842))\n"
     ]
    },
    {
     "name": "stderr",
     "output_type": "stream",
     "text": [
      " 21%|██        | 1457/7058 [51:25<1:53:27,  1.22s/it]"
     ]
    },
    {
     "name": "stdout",
     "output_type": "stream",
     "text": [
      "[TILE ERROR] Found no graph nodes within the requested polygon. — bbox: (np.float64(-3.1744), np.float64(51.97299999999999), np.float64(-3.1527), np.float64(51.986))\n"
     ]
    },
    {
     "name": "stderr",
     "output_type": "stream",
     "text": [
      " 21%|██        | 1461/7058 [51:29<1:53:47,  1.22s/it]"
     ]
    },
    {
     "name": "stdout",
     "output_type": "stream",
     "text": [
      "[TILE ERROR] Graph contains no edges. — bbox: (np.float64(-3.1744), np.float64(52.449999999999996), np.float64(-3.1527), np.float64(52.463))\n"
     ]
    },
    {
     "name": "stderr",
     "output_type": "stream",
     "text": [
      " 21%|██        | 1470/7058 [51:46<3:08:54,  2.03s/it]"
     ]
    },
    {
     "name": "stdout",
     "output_type": "stream",
     "text": [
      "[TILE ERROR] Graph contains no edges. — bbox: (np.float64(-3.1744), np.float64(54.98799999999999), np.float64(-3.1527), np.float64(55.001))\n"
     ]
    },
    {
     "name": "stderr",
     "output_type": "stream",
     "text": [
      " 21%|██        | 1476/7058 [51:55<2:13:04,  1.43s/it]"
     ]
    },
    {
     "name": "stdout",
     "output_type": "stream",
     "text": [
      "[TILE ERROR] Found no graph nodes within the requested polygon. — bbox: (np.float64(-3.1744), np.float64(56.517999999999994), np.float64(-3.1527), np.float64(56.531))\n"
     ]
    },
    {
     "name": "stderr",
     "output_type": "stream",
     "text": [
      " 21%|██        | 1481/7058 [52:00<1:52:37,  1.21s/it]"
     ]
    },
    {
     "name": "stdout",
     "output_type": "stream",
     "text": [
      "[TILE ERROR] Graph contains no edges. — bbox: (np.float64(-3.1587), np.float64(51.82899999999999), np.float64(-3.1369999999999996), np.float64(51.842))\n"
     ]
    },
    {
     "name": "stderr",
     "output_type": "stream",
     "text": [
      " 21%|██        | 1497/7058 [52:31<2:33:40,  1.66s/it]"
     ]
    },
    {
     "name": "stdout",
     "output_type": "stream",
     "text": [
      "[TILE ERROR] No data elements in server response. Check query location/filters and log. — bbox: (np.float64(-3.1587), np.float64(55.54599999999999), np.float64(-3.1369999999999996), np.float64(55.559))\n"
     ]
    },
    {
     "name": "stderr",
     "output_type": "stream",
     "text": [
      " 21%|██▏       | 1506/7058 [52:44<2:20:12,  1.52s/it]"
     ]
    },
    {
     "name": "stdout",
     "output_type": "stream",
     "text": [
      "[TILE ERROR] Found no graph nodes within the requested polygon. — bbox: (np.float64(-3.1587), np.float64(56.535999999999994), np.float64(-3.1369999999999996), np.float64(56.549))\n"
     ]
    },
    {
     "name": "stderr",
     "output_type": "stream",
     "text": [
      " 21%|██▏       | 1509/7058 [52:47<1:57:44,  1.27s/it]"
     ]
    },
    {
     "name": "stdout",
     "output_type": "stream",
     "text": [
      "[TILE ERROR] Found no graph nodes within the requested polygon. — bbox: (np.float64(-3.1587), np.float64(56.85099999999999), np.float64(-3.1369999999999996), np.float64(56.864))\n"
     ]
    },
    {
     "name": "stderr",
     "output_type": "stream",
     "text": [
      " 22%|██▏       | 1519/7058 [53:17<3:22:37,  2.19s/it]"
     ]
    },
    {
     "name": "stdout",
     "output_type": "stream",
     "text": [
      "[TILE ERROR] Graph contains no edges. — bbox: (np.float64(-3.143), np.float64(52.57599999999999), np.float64(-3.1212999999999997), np.float64(52.589))\n"
     ]
    },
    {
     "name": "stderr",
     "output_type": "stream",
     "text": [
      " 22%|██▏       | 1529/7058 [53:30<1:39:58,  1.08s/it]"
     ]
    },
    {
     "name": "stdout",
     "output_type": "stream",
     "text": [
      "[TILE ERROR] Graph contains no edges. — bbox: (np.float64(-3.143), np.float64(52.89099999999999), np.float64(-3.1212999999999997), np.float64(52.903999999999996))\n"
     ]
    },
    {
     "name": "stderr",
     "output_type": "stream",
     "text": [
      " 22%|██▏       | 1537/7058 [53:43<2:26:37,  1.59s/it]"
     ]
    },
    {
     "name": "stdout",
     "output_type": "stream",
     "text": [
      "[TILE ERROR] Found no graph nodes within the requested polygon. — bbox: (np.float64(-3.143), np.float64(56.364999999999995), np.float64(-3.1212999999999997), np.float64(56.378))\n"
     ]
    },
    {
     "name": "stderr",
     "output_type": "stream",
     "text": [
      " 22%|██▏       | 1538/7058 [53:44<2:21:36,  1.54s/it]"
     ]
    },
    {
     "name": "stdout",
     "output_type": "stream",
     "text": [
      "[TILE ERROR] Found no graph nodes within the requested polygon. — bbox: (np.float64(-3.143), np.float64(56.69799999999999), np.float64(-3.1212999999999997), np.float64(56.711))\n"
     ]
    },
    {
     "name": "stderr",
     "output_type": "stream",
     "text": [
      " 22%|██▏       | 1570/7058 [54:30<2:06:27,  1.38s/it]"
     ]
    },
    {
     "name": "stdout",
     "output_type": "stream",
     "text": [
      "[TILE ERROR] Found no graph nodes within the requested polygon. — bbox: (np.float64(-3.1273), np.float64(56.221), np.float64(-3.1055999999999995), np.float64(56.233999999999995))\n"
     ]
    },
    {
     "name": "stderr",
     "output_type": "stream",
     "text": [
      " 22%|██▏       | 1572/7058 [54:33<1:53:02,  1.24s/it]"
     ]
    },
    {
     "name": "stdout",
     "output_type": "stream",
     "text": [
      "[TILE ERROR] Found no graph nodes within the requested polygon. — bbox: (np.float64(-3.1273), np.float64(56.553999999999995), np.float64(-3.1055999999999995), np.float64(56.567))\n"
     ]
    },
    {
     "name": "stderr",
     "output_type": "stream",
     "text": [
      " 23%|██▎       | 1594/7058 [55:07<1:53:15,  1.24s/it]"
     ]
    },
    {
     "name": "stdout",
     "output_type": "stream",
     "text": [
      "[TILE ERROR] Found no graph nodes within the requested polygon. — bbox: (np.float64(-3.1115999999999997), np.float64(53.556999999999995), np.float64(-3.0898999999999996), np.float64(53.57))\n"
     ]
    },
    {
     "name": "stderr",
     "output_type": "stream",
     "text": [
      " 23%|██▎       | 1596/7058 [55:09<1:48:46,  1.19s/it]"
     ]
    },
    {
     "name": "stdout",
     "output_type": "stream",
     "text": [
      "[TILE ERROR] Graph contains no edges. — bbox: (np.float64(-3.1115999999999997), np.float64(55.55499999999999), np.float64(-3.0898999999999996), np.float64(55.568))\n"
     ]
    },
    {
     "name": "stderr",
     "output_type": "stream",
     "text": [
      " 23%|██▎       | 1600/7058 [55:14<1:49:04,  1.20s/it]"
     ]
    },
    {
     "name": "stdout",
     "output_type": "stream",
     "text": [
      "[TILE ERROR] No data elements in server response. Check query location/filters and log. — bbox: (np.float64(-3.1115999999999997), np.float64(56.553999999999995), np.float64(-3.0898999999999996), np.float64(56.567))\n"
     ]
    },
    {
     "name": "stderr",
     "output_type": "stream",
     "text": [
      " 23%|██▎       | 1602/7058 [55:16<1:40:53,  1.11s/it]"
     ]
    },
    {
     "name": "stdout",
     "output_type": "stream",
     "text": [
      "[TILE ERROR] Found no graph nodes within the requested polygon. — bbox: (np.float64(-3.1115999999999997), np.float64(56.65299999999999), np.float64(-3.0898999999999996), np.float64(56.666))\n"
     ]
    },
    {
     "name": "stderr",
     "output_type": "stream",
     "text": [
      " 23%|██▎       | 1626/7058 [55:48<2:46:11,  1.84s/it]"
     ]
    },
    {
     "name": "stdout",
     "output_type": "stream",
     "text": [
      "[TILE ERROR] Found no graph nodes within the requested polygon. — bbox: (np.float64(-3.0959), np.float64(53.529999999999994), np.float64(-3.0742), np.float64(53.543))\n"
     ]
    },
    {
     "name": "stderr",
     "output_type": "stream",
     "text": [
      " 23%|██▎       | 1628/7058 [55:49<1:47:07,  1.18s/it]"
     ]
    },
    {
     "name": "stdout",
     "output_type": "stream",
     "text": [
      "[TILE ERROR] Graph contains no edges. — bbox: (np.float64(-3.0959), np.float64(53.574999999999996), np.float64(-3.0742), np.float64(53.588))\n"
     ]
    },
    {
     "name": "stderr",
     "output_type": "stream",
     "text": [
      " 23%|██▎       | 1637/7058 [56:04<2:15:58,  1.51s/it]"
     ]
    },
    {
     "name": "stdout",
     "output_type": "stream",
     "text": [
      "[TILE ERROR] Graph contains no edges. — bbox: (np.float64(-3.0802), np.float64(50.964999999999996), np.float64(-3.0584999999999996), np.float64(50.978))\n"
     ]
    },
    {
     "name": "stderr",
     "output_type": "stream",
     "text": [
      " 23%|██▎       | 1638/7058 [56:05<2:13:13,  1.47s/it]"
     ]
    },
    {
     "name": "stdout",
     "output_type": "stream",
     "text": [
      "[TILE ERROR] Found no graph nodes within the requested polygon. — bbox: (np.float64(-3.0802), np.float64(51.99999999999999), np.float64(-3.0584999999999996), np.float64(52.013))\n"
     ]
    },
    {
     "name": "stderr",
     "output_type": "stream",
     "text": [
      " 23%|██▎       | 1646/7058 [56:20<2:30:09,  1.66s/it]"
     ]
    },
    {
     "name": "stdout",
     "output_type": "stream",
     "text": [
      "[TILE ERROR] Graph contains no edges. — bbox: (np.float64(-3.0802), np.float64(53.574999999999996), np.float64(-3.0584999999999996), np.float64(53.588))\n",
      "[TILE ERROR] Found no graph nodes within the requested polygon. — bbox: (np.float64(-3.0802), np.float64(53.583999999999996), np.float64(-3.0584999999999996), np.float64(53.597))\n"
     ]
    },
    {
     "name": "stderr",
     "output_type": "stream",
     "text": [
      " 23%|██▎       | 1649/7058 [56:23<1:59:08,  1.32s/it]"
     ]
    },
    {
     "name": "stdout",
     "output_type": "stream",
     "text": [
      "[TILE ERROR] Graph contains no edges. — bbox: (np.float64(-3.0802), np.float64(55.068999999999996), np.float64(-3.0584999999999996), np.float64(55.082))\n"
     ]
    },
    {
     "name": "stderr",
     "output_type": "stream",
     "text": [
      " 23%|██▎       | 1656/7058 [56:32<1:58:08,  1.31s/it]"
     ]
    },
    {
     "name": "stdout",
     "output_type": "stream",
     "text": [
      "[TILE ERROR] No data elements in server response. Check query location/filters and log. — bbox: (np.float64(-3.0802), np.float64(56.553999999999995), np.float64(-3.0584999999999996), np.float64(56.567))\n"
     ]
    },
    {
     "name": "stderr",
     "output_type": "stream",
     "text": [
      " 24%|██▍       | 1699/7058 [57:41<2:46:23,  1.86s/it]"
     ]
    },
    {
     "name": "stdout",
     "output_type": "stream",
     "text": [
      "[TILE ERROR] Found no graph nodes within the requested polygon. — bbox: (np.float64(-3.0488), np.float64(54.22299999999999), np.float64(-3.0270999999999995), np.float64(54.236))\n"
     ]
    },
    {
     "name": "stderr",
     "output_type": "stream",
     "text": [
      " 24%|██▍       | 1703/7058 [57:47<2:13:53,  1.50s/it]"
     ]
    },
    {
     "name": "stdout",
     "output_type": "stream",
     "text": [
      "[TILE ERROR] Found no graph nodes within the requested polygon. — bbox: (np.float64(-3.0488), np.float64(55.770999999999994), np.float64(-3.0270999999999995), np.float64(55.784))\n"
     ]
    },
    {
     "name": "stderr",
     "output_type": "stream",
     "text": [
      " 24%|██▍       | 1704/7058 [57:47<1:47:04,  1.20s/it]"
     ]
    },
    {
     "name": "stdout",
     "output_type": "stream",
     "text": [
      "[TILE ERROR] Found no graph nodes within the requested polygon. — bbox: (np.float64(-3.0488), np.float64(56.27499999999999), np.float64(-3.0270999999999995), np.float64(56.288))\n"
     ]
    },
    {
     "name": "stderr",
     "output_type": "stream",
     "text": [
      " 24%|██▍       | 1706/7058 [57:51<2:16:17,  1.53s/it]"
     ]
    },
    {
     "name": "stdout",
     "output_type": "stream",
     "text": [
      "[TILE ERROR] Graph contains no edges. — bbox: (np.float64(-3.0488), np.float64(56.49099999999999), np.float64(-3.0270999999999995), np.float64(56.504))\n"
     ]
    },
    {
     "name": "stderr",
     "output_type": "stream",
     "text": [
      " 24%|██▍       | 1711/7058 [57:58<2:19:29,  1.57s/it]"
     ]
    },
    {
     "name": "stdout",
     "output_type": "stream",
     "text": [
      "[TILE ERROR] Found no graph nodes within the requested polygon. — bbox: (np.float64(-3.0330999999999997), np.float64(51.95499999999999), np.float64(-3.0113999999999996), np.float64(51.967999999999996))\n"
     ]
    },
    {
     "name": "stderr",
     "output_type": "stream",
     "text": [
      " 25%|██▌       | 1768/7058 [59:47<2:13:05,  1.51s/it]"
     ]
    },
    {
     "name": "stdout",
     "output_type": "stream",
     "text": [
      "[TILE ERROR] Found no graph nodes within the requested polygon. — bbox: (np.float64(-3.0017), np.float64(55.824999999999996), np.float64(-2.9799999999999995), np.float64(55.838))\n"
     ]
    },
    {
     "name": "stderr",
     "output_type": "stream",
     "text": [
      " 25%|██▌       | 1781/7058 [1:00:05<2:43:54,  1.86s/it]"
     ]
    },
    {
     "name": "stdout",
     "output_type": "stream",
     "text": [
      "[TILE ERROR] Found no graph nodes within the requested polygon. — bbox: (np.float64(-2.9859999999999998), np.float64(53.51199999999999), np.float64(-2.9642999999999997), np.float64(53.525))\n"
     ]
    },
    {
     "name": "stderr",
     "output_type": "stream",
     "text": [
      " 26%|██▌       | 1810/7058 [1:00:44<1:53:01,  1.29s/it]"
     ]
    },
    {
     "name": "stdout",
     "output_type": "stream",
     "text": [
      "[TILE ERROR] Graph contains no edges. — bbox: (np.float64(-2.9703), np.float64(56.30199999999999), np.float64(-2.9485999999999994), np.float64(56.315))\n"
     ]
    },
    {
     "name": "stderr",
     "output_type": "stream",
     "text": [
      " 26%|██▌       | 1819/7058 [1:00:52<1:31:07,  1.04s/it]"
     ]
    },
    {
     "name": "stdout",
     "output_type": "stream",
     "text": [
      "[TILE ERROR] Found no graph nodes within the requested polygon. — bbox: (np.float64(-2.9545999999999997), np.float64(52.49499999999999), np.float64(-2.9328999999999996), np.float64(52.507999999999996))\n"
     ]
    },
    {
     "name": "stderr",
     "output_type": "stream",
     "text": [
      " 26%|██▌       | 1829/7058 [1:01:08<2:05:21,  1.44s/it]"
     ]
    },
    {
     "name": "stdout",
     "output_type": "stream",
     "text": [
      "[TILE ERROR] Graph contains no edges. — bbox: (np.float64(-2.9545999999999997), np.float64(54.852999999999994), np.float64(-2.9328999999999996), np.float64(54.866))\n"
     ]
    },
    {
     "name": "stderr",
     "output_type": "stream",
     "text": [
      " 26%|██▋       | 1853/7058 [1:01:56<3:28:16,  2.40s/it]"
     ]
    },
    {
     "name": "stdout",
     "output_type": "stream",
     "text": [
      "[TILE ERROR] Graph contains no edges. — bbox: (np.float64(-2.9389), np.float64(55.20399999999999), np.float64(-2.9172), np.float64(55.217))\n"
     ]
    },
    {
     "name": "stderr",
     "output_type": "stream",
     "text": [
      " 26%|██▋       | 1867/7058 [1:02:16<1:44:46,  1.21s/it]"
     ]
    },
    {
     "name": "stdout",
     "output_type": "stream",
     "text": [
      "[TILE ERROR] Found no graph nodes within the requested polygon. — bbox: (np.float64(-2.9232), np.float64(52.431999999999995), np.float64(-2.9014999999999995), np.float64(52.445))\n"
     ]
    },
    {
     "name": "stderr",
     "output_type": "stream",
     "text": [
      " 27%|██▋       | 1872/7058 [1:02:23<1:59:53,  1.39s/it]"
     ]
    },
    {
     "name": "stdout",
     "output_type": "stream",
     "text": [
      "[TILE ERROR] Found no graph nodes within the requested polygon. — bbox: (np.float64(-2.9232), np.float64(52.593999999999994), np.float64(-2.9014999999999995), np.float64(52.607))\n"
     ]
    },
    {
     "name": "stderr",
     "output_type": "stream",
     "text": [
      " 27%|██▋       | 1890/7058 [1:02:57<1:41:05,  1.17s/it]"
     ]
    },
    {
     "name": "stdout",
     "output_type": "stream",
     "text": [
      "[TILE ERROR] Graph contains no edges. — bbox: (np.float64(-2.9232), np.float64(57.084999999999994), np.float64(-2.9014999999999995), np.float64(57.098))\n"
     ]
    },
    {
     "name": "stderr",
     "output_type": "stream",
     "text": [
      " 27%|██▋       | 1912/7058 [1:03:36<1:46:01,  1.24s/it]"
     ]
    },
    {
     "name": "stdout",
     "output_type": "stream",
     "text": [
      "[TILE ERROR] Found no graph nodes within the requested polygon. — bbox: (np.float64(-2.9074999999999998), np.float64(54.42999999999999), np.float64(-2.8857999999999997), np.float64(54.443))\n"
     ]
    },
    {
     "name": "stderr",
     "output_type": "stream",
     "text": [
      " 27%|██▋       | 1913/7058 [1:03:38<1:54:17,  1.33s/it]"
     ]
    },
    {
     "name": "stdout",
     "output_type": "stream",
     "text": [
      "[TILE ERROR] Found no graph nodes within the requested polygon. — bbox: (np.float64(-2.9074999999999998), np.float64(54.57399999999999), np.float64(-2.8857999999999997), np.float64(54.586999999999996))\n"
     ]
    },
    {
     "name": "stderr",
     "output_type": "stream",
     "text": [
      " 27%|██▋       | 1932/7058 [1:04:03<2:16:37,  1.60s/it]"
     ]
    },
    {
     "name": "stdout",
     "output_type": "stream",
     "text": [
      "[TILE ERROR] Found no graph nodes within the requested polygon. — bbox: (np.float64(-2.8918), np.float64(53.32299999999999), np.float64(-2.8700999999999994), np.float64(53.336))\n"
     ]
    },
    {
     "name": "stderr",
     "output_type": "stream",
     "text": [
      " 28%|██▊       | 1947/7058 [1:04:28<1:49:35,  1.29s/it]"
     ]
    },
    {
     "name": "stdout",
     "output_type": "stream",
     "text": [
      "[TILE ERROR] Graph contains no edges. — bbox: (np.float64(-2.8760999999999997), np.float64(50.721999999999994), np.float64(-2.8543999999999996), np.float64(50.735))\n"
     ]
    },
    {
     "name": "stderr",
     "output_type": "stream",
     "text": [
      " 28%|██▊       | 1954/7058 [1:04:39<2:18:51,  1.63s/it]"
     ]
    },
    {
     "name": "stdout",
     "output_type": "stream",
     "text": [
      "[TILE ERROR] Found no graph nodes within the requested polygon. — bbox: (np.float64(-2.8760999999999997), np.float64(52.90899999999999), np.float64(-2.8543999999999996), np.float64(52.922))\n"
     ]
    },
    {
     "name": "stderr",
     "output_type": "stream",
     "text": [
      " 28%|██▊       | 1979/7058 [1:05:22<2:02:38,  1.45s/it]"
     ]
    },
    {
     "name": "stdout",
     "output_type": "stream",
     "text": [
      "[TILE ERROR] Found no graph nodes within the requested polygon. — bbox: (np.float64(-2.8760999999999997), np.float64(56.28399999999999), np.float64(-2.8543999999999996), np.float64(56.297))\n"
     ]
    },
    {
     "name": "stderr",
     "output_type": "stream",
     "text": [
      " 28%|██▊       | 1986/7058 [1:05:33<2:08:28,  1.52s/it]"
     ]
    },
    {
     "name": "stdout",
     "output_type": "stream",
     "text": [
      "[TILE ERROR] Found no graph nodes within the requested polygon. — bbox: (np.float64(-2.8604), np.float64(52.413999999999994), np.float64(-2.8387), np.float64(52.427))\n"
     ]
    },
    {
     "name": "stderr",
     "output_type": "stream",
     "text": [
      " 28%|██▊       | 2000/7058 [1:05:56<2:35:06,  1.84s/it]"
     ]
    },
    {
     "name": "stdout",
     "output_type": "stream",
     "text": [
      "[TILE ERROR] Found no graph nodes within the requested polygon. — bbox: (np.float64(-2.8604), np.float64(54.267999999999994), np.float64(-2.8387), np.float64(54.281))\n"
     ]
    },
    {
     "name": "stderr",
     "output_type": "stream",
     "text": [
      " 28%|██▊       | 2009/7058 [1:06:10<2:27:07,  1.75s/it]"
     ]
    },
    {
     "name": "stdout",
     "output_type": "stream",
     "text": [
      "[TILE ERROR] Graph contains no edges. — bbox: (np.float64(-2.8447), np.float64(50.721999999999994), np.float64(-2.8229999999999995), np.float64(50.735))\n"
     ]
    },
    {
     "name": "stderr",
     "output_type": "stream",
     "text": [
      " 29%|██▊       | 2024/7058 [1:06:34<2:01:09,  1.44s/it]"
     ]
    },
    {
     "name": "stdout",
     "output_type": "stream",
     "text": [
      "[TILE ERROR] Found no graph nodes within the requested polygon. — bbox: (np.float64(-2.8447), np.float64(53.31399999999999), np.float64(-2.8229999999999995), np.float64(53.327))\n"
     ]
    },
    {
     "name": "stderr",
     "output_type": "stream",
     "text": [
      " 29%|██▉       | 2072/7058 [1:07:38<1:26:49,  1.04s/it]"
     ]
    },
    {
     "name": "stdout",
     "output_type": "stream",
     "text": [
      "[TILE ERROR] Found no graph nodes within the requested polygon. — bbox: (np.float64(-2.8289999999999997), np.float64(56.373999999999995), np.float64(-2.8072999999999997), np.float64(56.387))\n"
     ]
    },
    {
     "name": "stderr",
     "output_type": "stream",
     "text": [
      " 30%|██▉       | 2097/7058 [1:08:07<1:55:31,  1.40s/it]"
     ]
    },
    {
     "name": "stdout",
     "output_type": "stream",
     "text": [
      "[TILE ERROR] Graph contains no edges. — bbox: (np.float64(-2.8133), np.float64(56.175999999999995), np.float64(-2.7916), np.float64(56.189))\n"
     ]
    },
    {
     "name": "stderr",
     "output_type": "stream",
     "text": [
      " 30%|██▉       | 2109/7058 [1:08:29<2:04:30,  1.51s/it]"
     ]
    },
    {
     "name": "stdout",
     "output_type": "stream",
     "text": [
      "[TILE ERROR] Found no graph nodes within the requested polygon. — bbox: (np.float64(-2.7976), np.float64(53.178999999999995), np.float64(-2.7758999999999996), np.float64(53.192))\n"
     ]
    },
    {
     "name": "stderr",
     "output_type": "stream",
     "text": [
      " 30%|███       | 2125/7058 [1:08:50<1:45:51,  1.29s/it]"
     ]
    },
    {
     "name": "stdout",
     "output_type": "stream",
     "text": [
      "[TILE ERROR] Found no graph nodes within the requested polygon. — bbox: (np.float64(-2.7976), np.float64(54.16), np.float64(-2.7758999999999996), np.float64(54.173))\n"
     ]
    },
    {
     "name": "stderr",
     "output_type": "stream",
     "text": [
      " 31%|███       | 2164/7058 [1:09:47<1:52:03,  1.37s/it]"
     ]
    },
    {
     "name": "stdout",
     "output_type": "stream",
     "text": [
      "[TILE ERROR] Graph contains no edges. — bbox: (np.float64(-2.7819), np.float64(54.92499999999999), np.float64(-2.7601999999999998), np.float64(54.937999999999995))\n"
     ]
    },
    {
     "name": "stderr",
     "output_type": "stream",
     "text": [
      " 31%|███       | 2165/7058 [1:09:48<1:27:21,  1.07s/it]"
     ]
    },
    {
     "name": "stdout",
     "output_type": "stream",
     "text": [
      "[TILE ERROR] Found no graph nodes within the requested polygon. — bbox: (np.float64(-2.7819), np.float64(55.14099999999999), np.float64(-2.7601999999999998), np.float64(55.153999999999996))\n"
     ]
    },
    {
     "name": "stderr",
     "output_type": "stream",
     "text": [
      " 31%|███       | 2170/7058 [1:09:54<1:34:10,  1.16s/it]"
     ]
    },
    {
     "name": "stdout",
     "output_type": "stream",
     "text": [
      "[TILE ERROR] Graph contains no edges. — bbox: (np.float64(-2.7819), np.float64(56.99499999999999), np.float64(-2.7601999999999998), np.float64(57.007999999999996))\n"
     ]
    },
    {
     "name": "stderr",
     "output_type": "stream",
     "text": [
      " 31%|███       | 2205/7058 [1:10:47<1:32:53,  1.15s/it]"
     ]
    },
    {
     "name": "stdout",
     "output_type": "stream",
     "text": [
      "[TILE ERROR] Graph contains no edges. — bbox: (np.float64(-2.7504999999999997), np.float64(51.279999999999994), np.float64(-2.7287999999999997), np.float64(51.293))\n"
     ]
    },
    {
     "name": "stderr",
     "output_type": "stream",
     "text": [
      " 32%|███▏      | 2255/7058 [1:12:03<2:15:16,  1.69s/it]"
     ]
    },
    {
     "name": "stdout",
     "output_type": "stream",
     "text": [
      "[TILE ERROR] Graph contains no edges. — bbox: (np.float64(-2.7348), np.float64(55.392999999999994), np.float64(-2.7131), np.float64(55.406))\n"
     ]
    },
    {
     "name": "stderr",
     "output_type": "stream",
     "text": [
      " 33%|███▎      | 2298/7058 [1:12:52<1:31:53,  1.16s/it]"
     ]
    },
    {
     "name": "stdout",
     "output_type": "stream",
     "text": [
      "[TILE ERROR] Graph contains no edges. — bbox: (np.float64(-2.7034), np.float64(53.233), np.float64(-2.6816999999999998), np.float64(53.245999999999995))\n"
     ]
    },
    {
     "name": "stderr",
     "output_type": "stream",
     "text": [
      " 33%|███▎      | 2305/7058 [1:12:59<1:03:21,  1.25it/s]"
     ]
    },
    {
     "name": "stdout",
     "output_type": "stream",
     "text": [
      "[TILE ERROR] Graph contains no edges. — bbox: (np.float64(-2.7034), np.float64(54.43899999999999), np.float64(-2.6816999999999998), np.float64(54.452))\n"
     ]
    },
    {
     "name": "stderr",
     "output_type": "stream",
     "text": [
      " 33%|███▎      | 2308/7058 [1:13:01<1:02:08,  1.27it/s]"
     ]
    },
    {
     "name": "stdout",
     "output_type": "stream",
     "text": [
      "[TILE ERROR] Found no graph nodes within the requested polygon. — bbox: (np.float64(-2.7034), np.float64(55.105), np.float64(-2.6816999999999998), np.float64(55.117999999999995))\n"
     ]
    },
    {
     "name": "stderr",
     "output_type": "stream",
     "text": [
      " 33%|███▎      | 2311/7058 [1:13:07<1:46:51,  1.35s/it]"
     ]
    },
    {
     "name": "stdout",
     "output_type": "stream",
     "text": [
      "[TILE ERROR] Found no graph nodes within the requested polygon. — bbox: (np.float64(-2.6877), np.float64(50.739999999999995), np.float64(-2.6659999999999995), np.float64(50.753))\n"
     ]
    },
    {
     "name": "stderr",
     "output_type": "stream",
     "text": [
      " 33%|███▎      | 2332/7058 [1:13:33<1:23:10,  1.06s/it]"
     ]
    },
    {
     "name": "stdout",
     "output_type": "stream",
     "text": [
      "[TILE ERROR] Graph contains no edges. — bbox: (np.float64(-2.6877), np.float64(54.80799999999999), np.float64(-2.6659999999999995), np.float64(54.821))\n"
     ]
    },
    {
     "name": "stderr",
     "output_type": "stream",
     "text": [
      " 33%|███▎      | 2333/7058 [1:13:34<1:07:11,  1.17it/s]"
     ]
    },
    {
     "name": "stdout",
     "output_type": "stream",
     "text": [
      "[TILE ERROR] Found no graph nodes within the requested polygon. — bbox: (np.float64(-2.6877), np.float64(54.879999999999995), np.float64(-2.6659999999999995), np.float64(54.893))\n"
     ]
    },
    {
     "name": "stderr",
     "output_type": "stream",
     "text": [
      " 33%|███▎      | 2340/7058 [1:13:42<1:15:38,  1.04it/s]"
     ]
    },
    {
     "name": "stdout",
     "output_type": "stream",
     "text": [
      "[TILE ERROR] Found no graph nodes within the requested polygon. — bbox: (np.float64(-2.6719999999999997), np.float64(50.757999999999996), np.float64(-2.6502999999999997), np.float64(50.771))\n"
     ]
    },
    {
     "name": "stderr",
     "output_type": "stream",
     "text": [
      " 33%|███▎      | 2344/7058 [1:13:45<54:47,  1.43it/s]  "
     ]
    },
    {
     "name": "stdout",
     "output_type": "stream",
     "text": [
      "[TILE ERROR] Graph contains no edges. — bbox: (np.float64(-2.6719999999999997), np.float64(51.76599999999999), np.float64(-2.6502999999999997), np.float64(51.778999999999996))\n"
     ]
    },
    {
     "name": "stderr",
     "output_type": "stream",
     "text": [
      " 33%|███▎      | 2358/7058 [1:14:00<52:24,  1.49it/s]  "
     ]
    },
    {
     "name": "stdout",
     "output_type": "stream",
     "text": [
      "[TILE ERROR] Found no graph nodes within the requested polygon. — bbox: (np.float64(-2.6719999999999997), np.float64(54.538), np.float64(-2.6502999999999997), np.float64(54.550999999999995))\n"
     ]
    },
    {
     "name": "stderr",
     "output_type": "stream",
     "text": [
      " 33%|███▎      | 2361/7058 [1:14:03<1:18:20,  1.00s/it]"
     ]
    },
    {
     "name": "stdout",
     "output_type": "stream",
     "text": [
      "[TILE ERROR] Graph contains no edges. — bbox: (np.float64(-2.6563), np.float64(50.766999999999996), np.float64(-2.6346), np.float64(50.78))\n"
     ]
    },
    {
     "name": "stderr",
     "output_type": "stream",
     "text": [
      " 34%|███▍      | 2409/7058 [1:15:20<1:45:01,  1.36s/it]"
     ]
    },
    {
     "name": "stdout",
     "output_type": "stream",
     "text": [
      "[TILE ERROR] Found no graph nodes within the requested polygon. — bbox: (np.float64(-2.6406), np.float64(54.465999999999994), np.float64(-2.6188999999999996), np.float64(54.479))\n"
     ]
    },
    {
     "name": "stderr",
     "output_type": "stream",
     "text": [
      " 34%|███▍      | 2411/7058 [1:15:22<1:47:09,  1.38s/it]"
     ]
    },
    {
     "name": "stdout",
     "output_type": "stream",
     "text": [
      "[TILE ERROR] Found no graph nodes within the requested polygon. — bbox: (np.float64(-2.6249), np.float64(50.730999999999995), np.float64(-2.6031999999999997), np.float64(50.744))\n"
     ]
    },
    {
     "name": "stderr",
     "output_type": "stream",
     "text": [
      " 34%|███▍      | 2423/7058 [1:15:38<1:53:50,  1.47s/it]"
     ]
    },
    {
     "name": "stdout",
     "output_type": "stream",
     "text": [
      "[TILE ERROR] Found no graph nodes within the requested polygon. — bbox: (np.float64(-2.6249), np.float64(53.592999999999996), np.float64(-2.6031999999999997), np.float64(53.606))\n"
     ]
    },
    {
     "name": "stderr",
     "output_type": "stream",
     "text": [
      " 34%|███▍      | 2430/7058 [1:15:48<1:53:04,  1.47s/it]"
     ]
    },
    {
     "name": "stdout",
     "output_type": "stream",
     "text": [
      "[TILE ERROR] Found no graph nodes within the requested polygon. — bbox: (np.float64(-2.6249), np.float64(54.96099999999999), np.float64(-2.6031999999999997), np.float64(54.974))\n"
     ]
    },
    {
     "name": "stderr",
     "output_type": "stream",
     "text": [
      " 35%|███▍      | 2438/7058 [1:16:02<2:41:00,  2.09s/it]"
     ]
    },
    {
     "name": "stdout",
     "output_type": "stream",
     "text": [
      "[TILE ERROR] Found no graph nodes within the requested polygon. — bbox: (np.float64(-2.6092), np.float64(53.205999999999996), np.float64(-2.5874999999999995), np.float64(53.219))\n"
     ]
    },
    {
     "name": "stderr",
     "output_type": "stream",
     "text": [
      " 35%|███▍      | 2451/7058 [1:16:20<1:55:49,  1.51s/it]"
     ]
    },
    {
     "name": "stdout",
     "output_type": "stream",
     "text": [
      "[TILE ERROR] Graph contains no edges. — bbox: (np.float64(-2.6092), np.float64(56.958999999999996), np.float64(-2.5874999999999995), np.float64(56.972))\n"
     ]
    },
    {
     "name": "stderr",
     "output_type": "stream",
     "text": [
      " 35%|███▍      | 2467/7058 [1:16:45<2:22:17,  1.86s/it]"
     ]
    },
    {
     "name": "stdout",
     "output_type": "stream",
     "text": [
      "[TILE ERROR] Found no graph nodes within the requested polygon. — bbox: (np.float64(-2.5934999999999997), np.float64(54.73599999999999), np.float64(-2.5717999999999996), np.float64(54.748999999999995))\n"
     ]
    },
    {
     "name": "stderr",
     "output_type": "stream",
     "text": [
      " 35%|███▌      | 2476/7058 [1:16:58<1:46:35,  1.40s/it]"
     ]
    },
    {
     "name": "stdout",
     "output_type": "stream",
     "text": [
      "[TILE ERROR] Graph contains no edges. — bbox: (np.float64(-2.5778), np.float64(52.74699999999999), np.float64(-2.5561), np.float64(52.76))\n"
     ]
    },
    {
     "name": "stderr",
     "output_type": "stream",
     "text": [
      " 35%|███▌      | 2499/7058 [1:17:33<1:45:07,  1.38s/it]"
     ]
    },
    {
     "name": "stdout",
     "output_type": "stream",
     "text": [
      "[TILE ERROR] Found no graph nodes within the requested polygon. — bbox: (np.float64(-2.5621), np.float64(53.63799999999999), np.float64(-2.5403999999999995), np.float64(53.650999999999996))\n"
     ]
    },
    {
     "name": "stderr",
     "output_type": "stream",
     "text": [
      " 35%|███▌      | 2500/7058 [1:17:35<1:48:39,  1.43s/it]"
     ]
    },
    {
     "name": "stdout",
     "output_type": "stream",
     "text": [
      "[TILE ERROR] No data elements in server response. Check query location/filters and log. — bbox: (np.float64(-2.5621), np.float64(53.65599999999999), np.float64(-2.5403999999999995), np.float64(53.669))\n"
     ]
    },
    {
     "name": "stderr",
     "output_type": "stream",
     "text": [
      " 35%|███▌      | 2501/7058 [1:17:37<1:54:47,  1.51s/it]"
     ]
    },
    {
     "name": "stdout",
     "output_type": "stream",
     "text": [
      "[TILE ERROR] Graph contains no edges. — bbox: (np.float64(-2.5621), np.float64(53.67399999999999), np.float64(-2.5403999999999995), np.float64(53.687))\n"
     ]
    },
    {
     "name": "stderr",
     "output_type": "stream",
     "text": [
      " 36%|███▌      | 2523/7058 [1:18:10<1:32:25,  1.22s/it]"
     ]
    },
    {
     "name": "stdout",
     "output_type": "stream",
     "text": [
      "[TILE ERROR] Found no graph nodes within the requested polygon. — bbox: (np.float64(-2.5463999999999998), np.float64(53.61099999999999), np.float64(-2.5246999999999997), np.float64(53.623999999999995))\n"
     ]
    },
    {
     "name": "stderr",
     "output_type": "stream",
     "text": [
      " 36%|███▌      | 2549/7058 [1:18:48<1:47:05,  1.43s/it]"
     ]
    },
    {
     "name": "stdout",
     "output_type": "stream",
     "text": [
      "[TILE ERROR] Found no graph nodes within the requested polygon. — bbox: (np.float64(-2.5307), np.float64(55.94199999999999), np.float64(-2.5089999999999995), np.float64(55.955))\n"
     ]
    },
    {
     "name": "stderr",
     "output_type": "stream",
     "text": [
      " 36%|███▋      | 2559/7058 [1:19:01<1:46:16,  1.42s/it]"
     ]
    },
    {
     "name": "stdout",
     "output_type": "stream",
     "text": [
      "[TILE ERROR] Graph contains no edges. — bbox: (np.float64(-2.5149999999999997), np.float64(53.007999999999996), np.float64(-2.4932999999999996), np.float64(53.021))\n"
     ]
    },
    {
     "name": "stderr",
     "output_type": "stream",
     "text": [
      " 36%|███▋      | 2566/7058 [1:19:11<1:39:15,  1.33s/it]"
     ]
    },
    {
     "name": "stdout",
     "output_type": "stream",
     "text": [
      "[TILE ERROR] Found no graph nodes within the requested polygon. — bbox: (np.float64(-2.5149999999999997), np.float64(53.61999999999999), np.float64(-2.4932999999999996), np.float64(53.632999999999996))\n"
     ]
    },
    {
     "name": "stderr",
     "output_type": "stream",
     "text": [
      " 36%|███▋      | 2568/7058 [1:19:14<1:46:22,  1.42s/it]"
     ]
    },
    {
     "name": "stdout",
     "output_type": "stream",
     "text": [
      "[TILE ERROR] Graph contains no edges. — bbox: (np.float64(-2.5149999999999997), np.float64(53.66499999999999), np.float64(-2.4932999999999996), np.float64(53.678))\n"
     ]
    },
    {
     "name": "stderr",
     "output_type": "stream",
     "text": [
      " 37%|███▋      | 2587/7058 [1:19:52<1:42:25,  1.37s/it]"
     ]
    },
    {
     "name": "stdout",
     "output_type": "stream",
     "text": [
      "[TILE ERROR] Found no graph nodes within the requested polygon. — bbox: (np.float64(-2.4993), np.float64(55.70799999999999), np.float64(-2.4776), np.float64(55.721))\n"
     ]
    },
    {
     "name": "stderr",
     "output_type": "stream",
     "text": [
      " 37%|███▋      | 2588/7058 [1:19:52<1:24:52,  1.14s/it]"
     ]
    },
    {
     "name": "stdout",
     "output_type": "stream",
     "text": [
      "[TILE ERROR] Found no graph nodes within the requested polygon. — bbox: (np.float64(-2.4993), np.float64(55.90599999999999), np.float64(-2.4776), np.float64(55.919))\n"
     ]
    },
    {
     "name": "stderr",
     "output_type": "stream",
     "text": [
      " 37%|███▋      | 2589/7058 [1:19:54<1:45:51,  1.42s/it]"
     ]
    },
    {
     "name": "stdout",
     "output_type": "stream",
     "text": [
      "[TILE ERROR] Found no graph nodes within the requested polygon. — bbox: (np.float64(-2.4993), np.float64(56.62599999999999), np.float64(-2.4776), np.float64(56.638999999999996))\n"
     ]
    },
    {
     "name": "stderr",
     "output_type": "stream",
     "text": [
      " 37%|███▋      | 2610/7058 [1:20:29<2:53:53,  2.35s/it]"
     ]
    },
    {
     "name": "stdout",
     "output_type": "stream",
     "text": [
      "[TILE ERROR] Graph contains no edges. — bbox: (np.float64(-2.4836), np.float64(56.66199999999999), np.float64(-2.4618999999999995), np.float64(56.675))\n"
     ]
    },
    {
     "name": "stderr",
     "output_type": "stream",
     "text": [
      " 37%|███▋      | 2626/7058 [1:21:00<2:35:54,  2.11s/it]"
     ]
    },
    {
     "name": "stdout",
     "output_type": "stream",
     "text": [
      "[TILE ERROR] Graph contains no edges. — bbox: (np.float64(-2.4678999999999998), np.float64(52.989999999999995), np.float64(-2.4461999999999997), np.float64(53.003))\n"
     ]
    },
    {
     "name": "stderr",
     "output_type": "stream",
     "text": [
      " 38%|███▊      | 2676/7058 [1:22:32<1:15:15,  1.03s/it]"
     ]
    },
    {
     "name": "stdout",
     "output_type": "stream",
     "text": [
      "[TILE ERROR] Graph contains no edges. — bbox: (np.float64(-2.4522), np.float64(53.63799999999999), np.float64(-2.4305), np.float64(53.650999999999996))\n"
     ]
    },
    {
     "name": "stderr",
     "output_type": "stream",
     "text": [
      " 38%|███▊      | 2677/7058 [1:22:32<1:01:13,  1.19it/s]"
     ]
    },
    {
     "name": "stdout",
     "output_type": "stream",
     "text": [
      "[TILE ERROR] Found no graph nodes within the requested polygon. — bbox: (np.float64(-2.4522), np.float64(54.20499999999999), np.float64(-2.4305), np.float64(54.217999999999996))\n"
     ]
    },
    {
     "name": "stderr",
     "output_type": "stream",
     "text": [
      " 38%|███▊      | 2689/7058 [1:22:59<2:40:24,  2.20s/it]"
     ]
    }
   ],
   "source": [
    "import osmnx as ox\n",
    "from shapely.geometry import Point\n",
    "import geopandas as gpd\n",
    "import numpy as np\n",
    "from tqdm import tqdm\n",
    "\n",
    "# Construct GeoDataFrame\n",
    "df['geometry'] = [Point(xy) for xy in zip(df['decimalLongitude'], df['decimalLatitude'])]\n",
    "gdf = gpd.GeoDataFrame(df, geometry='geometry', crs='EPSG:4326')\n",
    "\n",
    "# Define spatial tiling: 0.05 x 0.05 degrees\n",
    "tile_size_lat = 0.009   # ~1 km in latitude degrees\n",
    "tile_size_lon = 0.0157  # ~1 km in longitude degrees\n",
    "padding_lat = 0.002  # ~200m latitude padding\n",
    "padding_lon = 0.003  # ~200-300m longitude padding\n",
    "\n",
    "gdf['tile_x'] = (gdf['decimalLongitude'] // tile_size_lon).astype(int)\n",
    "gdf['tile_y'] = (gdf['decimalLatitude'] // tile_size_lat).astype(int)\n",
    "\n",
    "# Group by tile\n",
    "grouped = gdf.groupby(['tile_x', 'tile_y'])\n",
    "\n",
    "# Store results\n",
    "all_distances = []\n",
    "\n",
    "for (tile_x, tile_y), group in tqdm(grouped, total=len(grouped)):\n",
    "    west = tile_x * tile_size_lon - padding_lon\n",
    "    south = tile_y * tile_size_lat - padding_lat\n",
    "    east = (tile_x + 1) * tile_size_lon + padding_lon\n",
    "    north = (tile_y + 1) * tile_size_lat + padding_lat\n",
    "    bbox = (west, south, east, north)\n",
    "\n",
    "\n",
    "    try:\n",
    "        G = ox.graph_from_bbox(bbox, network_type='drive_service')\n",
    "        if len(G.nodes) == 0:\n",
    "            print(f\"[EMPTY GRAPH] bbox: {bbox}, skipping...\")\n",
    "            all_distances.extend([np.nan] * len(group))\n",
    "            continue\n",
    "\n",
    "        G_proj = ox.project_graph(G)\n",
    "        nodes_proj, edges_proj = ox.graph_to_gdfs(G_proj)\n",
    "        points_proj = group.geometry.to_crs(nodes_proj.crs)\n",
    "\n",
    "        for point_proj in points_proj:\n",
    "            try:\n",
    "                u, v, k = ox.distance.nearest_edges(G_proj, [point_proj.x], [point_proj.y])[0]\n",
    "                edge_geom = edges_proj.loc[(u, v, k)]['geometry']\n",
    "                distance = point_proj.distance(edge_geom)\n",
    "                all_distances.append(distance)\n",
    "            except Exception as e:\n",
    "                print(f\"  [Point ERROR] {e}\")\n",
    "                all_distances.append(np.nan)\n",
    "\n",
    "    except Exception as e:\n",
    "        print(f\"[TILE ERROR] {e} — bbox: {bbox}\")\n",
    "        all_distances.extend([np.nan] * len(group))\n",
    "\n",
    "\n",
    "# Store back in original DataFrame order\n",
    "gdf['distance_to_road'] = all_distances"
   ],
   "metadata": {
    "collapsed": false,
    "is_executing": true,
    "ExecuteTime": {
     "start_time": "2025-08-06T00:13:32.729248Z"
    }
   },
   "id": "dce68175ecf2cb3e"
  },
  {
   "cell_type": "code",
   "execution_count": null,
   "outputs": [],
   "source": [
    "gdf['near_road'] = np.where(gdf['distance_to_road'] <= 500, 1, 0)        "
   ],
   "metadata": {
    "collapsed": false,
    "is_executing": true
   },
   "id": "593aa42f996890c6"
  },
  {
   "cell_type": "code",
   "execution_count": null,
   "outputs": [],
   "source": [
    "gdf=gdf.drop(['tile_x', 'tile_y', 'geometry', 'distance_to_road'], axis=1)"
   ],
   "metadata": {
    "collapsed": false,
    "is_executing": true
   },
   "id": "8962c70ac25f5419"
  },
  {
   "cell_type": "code",
   "execution_count": null,
   "outputs": [],
   "source": [
    "from pyproj import Transformer\n",
    "from rasterio.windows import Window\n",
    "import rasterio\n",
    "from collections import Counter\n",
    "import numpy as np\n",
    "\n",
    "\n",
    "land_cover_map = {\n",
    "    1: \"Deciduous woodland\",\n",
    "    2: \"Coniferous woodland\",\n",
    "    3: \"Arable\",\n",
    "    4: \"Improved grassland\",\n",
    "    5: \"Neutral grassland\",\n",
    "    6: \"Calcareous grassland\",\n",
    "    7: \"Acid grassland\",\n",
    "    8: \"Fen\",\n",
    "    9: \"Heather\",\n",
    "    10: \"Heather grassland\",\n",
    "    11: \"Bog\",\n",
    "    12: \"Inland rock\",\n",
    "    13: \"Saltwater\",\n",
    "    14: \"Freshwater\",\n",
    "    15: \"Supralittoral rock\",\n",
    "    16: \"Supralittoral sediment\",\n",
    "    17: \"Littoral rock\",\n",
    "    18: \"Littoral sediment\",\n",
    "    19: \"Saltmarsh\",\n",
    "    20: \"Urban\",\n",
    "    21: \"Suburban\"\n",
    "}\n",
    "\n",
    "# Batch coordinate transformation\n",
    "transformer_ni = Transformer.from_crs(\"EPSG:4326\", \"EPSG:29903\", always_xy=True)\n",
    "transformer_gb = Transformer.from_crs(\"EPSG:4326\", \"EPSG:27700\", always_xy=True)\n",
    "\n",
    "coords = list(zip(gdf['decimalLongitude'], gdf['decimalLatitude']))\n",
    "gdf['easting_ni'], gdf['northing_ni'] = zip(*transformer_ni.itransform(coords))\n",
    "gdf['easting_gb'], gdf['northing_gb'] = zip(*transformer_gb.itransform(coords))\n",
    "\n",
    "# Raster processing optimization\n",
    "gb_raster = 'gblcm2023_10m.tif'\n",
    "n_ireland_raster = 'nilcm2023_10m.tif'\n",
    "\n",
    "\n",
    "def get_land_cover_class_1km(row):\n",
    "    try:\n",
    "        window_size_pixels = 100  # 1 km / 10m resolution\n",
    "\n",
    "        # Open GB raster and read 1km x 1km window\n",
    "        with rasterio.open(gb_raster) as src:\n",
    "            row_idx, col_idx = src.index(row['easting_gb'], row['northing_gb'])\n",
    "\n",
    "            # Calculate window bounds, making sure not to go out of raster bounds\n",
    "            row_start = max(row_idx - window_size_pixels // 2, 0)\n",
    "            col_start = max(col_idx - window_size_pixels // 2, 0)\n",
    "\n",
    "            # Adjust window size if near edges\n",
    "            height = min(window_size_pixels, src.height - row_start)\n",
    "            width = min(window_size_pixels, src.width - col_start)\n",
    "\n",
    "            window = Window(col_start, row_start, width, height)\n",
    "            data = src.read(1, window=window)\n",
    "\n",
    "            # If all zero (or no data), fallback to NI raster\n",
    "            if np.all(data == 0):\n",
    "                with rasterio.open(n_ireland_raster) as src_ni:\n",
    "                    row_idx_ni, col_idx_ni = src_ni.index(row['easting_ni'], row['northing_ni'])\n",
    "\n",
    "                    row_start_ni = max(row_idx_ni - window_size_pixels // 2, 0)\n",
    "                    col_start_ni = max(col_idx_ni - window_size_pixels // 2, 0)\n",
    "\n",
    "                    height_ni = min(window_size_pixels, src_ni.height - row_start_ni)\n",
    "                    width_ni = min(window_size_pixels, src_ni.width - col_start_ni)\n",
    "\n",
    "                    window_ni = Window(col_start_ni, row_start_ni, width_ni, height_ni)\n",
    "                    data_ni = src_ni.read(1, window=window_ni)\n",
    "\n",
    "                    data = data_ni\n",
    "\n",
    "            # Find the most common class (mode) ignoring zeros (assuming 0 means no data)\n",
    "            unique, counts = np.unique(data[data != 0], return_counts=True)\n",
    "            if len(counts) == 0:\n",
    "                return \"Unknown\"\n",
    "\n",
    "            mode_class = unique[np.argmax(counts)]\n",
    "            return land_cover_map.get(mode_class, \"Unknown\")\n",
    "\n",
    "    except Exception as e:\n",
    "        print(f\"Error processing row: {e}\")\n",
    "        return \"Unknown\"\n",
    "\n",
    "\n",
    "tqdm.pandas()\n",
    "gdf['Land_cover'] = gdf.progress_apply(get_land_cover_class_1km, axis=1)\n"
   ],
   "metadata": {
    "collapsed": false,
    "is_executing": true
   },
   "id": "a1be7a7ce34a0db9"
  },
  {
   "cell_type": "code",
   "execution_count": null,
   "outputs": [],
   "source": [
    "gdf = gdf.dropna()\n",
    "gdf=gdf.drop(['easting_ni', 'northing_ni', 'easting_gb', 'northing_gb'],axis=1)\n",
    "# Remove where Land_cover is Unknown\n",
    "gdf = gdf[gdf['Land_cover'] != \"Unknown\"].reset_index(drop=True)\n",
    "gdf.to_csv(\"tgb_hedgehog_final_data.csv\", index=False)"
   ],
   "metadata": {
    "collapsed": false,
    "is_executing": true
   },
   "id": "fd81c793cbb83907"
  },
  {
   "cell_type": "code",
   "execution_count": null,
   "outputs": [],
   "source": [],
   "metadata": {
    "collapsed": false
   },
   "id": "96f90652c8afcc81"
  }
 ],
 "metadata": {
  "kernelspec": {
   "display_name": "Python 3",
   "language": "python",
   "name": "python3"
  },
  "language_info": {
   "codemirror_mode": {
    "name": "ipython",
    "version": 2
   },
   "file_extension": ".py",
   "mimetype": "text/x-python",
   "name": "python",
   "nbconvert_exporter": "python",
   "pygments_lexer": "ipython2",
   "version": "2.7.6"
  }
 },
 "nbformat": 4,
 "nbformat_minor": 5
}
