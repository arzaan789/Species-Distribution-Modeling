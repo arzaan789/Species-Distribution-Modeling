{
 "cells": [
  {
   "cell_type": "code",
   "execution_count": 1,
   "id": "initial_id",
   "metadata": {
    "collapsed": true,
    "ExecuteTime": {
     "end_time": "2025-05-24T23:10:50.007139Z",
     "start_time": "2025-05-24T23:10:47.995795Z"
    }
   },
   "outputs": [],
   "source": [
    "import ee\n",
    "\n",
    "# Trigger the authentication flow.\n",
    "# ee.Authenticate()\n",
    "\n",
    "ee.Initialize(project='ee-arzaaan789')"
   ]
  },
  {
   "cell_type": "code",
   "execution_count": 2,
   "outputs": [
    {
     "name": "stderr",
     "output_type": "stream",
     "text": [
      "/var/folders/0n/sggn66691kd6g5mtyzpq2hv80000gn/T/ipykernel_62776/977381661.py:4: DtypeWarning: Columns (10,16,37,38,39,40,41,46,48) have mixed types. Specify dtype option on import or set low_memory=False.\n",
      "  df = pd.read_csv(\"Muscardinus avellanarius.csv\", delimiter='\\t')\n"
     ]
    }
   ],
   "source": [
    "import pandas as pd\n",
    "from tqdm import tqdm\n",
    "\n",
    "df = pd.read_csv(\"Muscardinus avellanarius.csv\", delimiter='\\t')\n",
    "df = df[df[\"occurrenceStatus\"] == \"PRESENT\"]\n",
    "df = df[df['year']>=2022]\n",
    "# df['eventDate'] = df['eventDate'].str.replace('/','')\n",
    "df['eventDate'] = pd.to_datetime(df['eventDate'], format='%Y-%m-%d', errors='coerce')\n",
    "df = df[['species', 'decimalLatitude', 'decimalLongitude', 'eventDate']]\n",
    "df = df.dropna().reset_index(drop=True)"
   ],
   "metadata": {
    "collapsed": false,
    "ExecuteTime": {
     "end_time": "2025-05-24T23:11:04.930271Z",
     "start_time": "2025-05-24T23:11:04.272945Z"
    }
   },
   "id": "fbffa02f057d0a19"
  },
  {
   "cell_type": "code",
   "execution_count": 3,
   "outputs": [
    {
     "name": "stderr",
     "output_type": "stream",
     "text": [
      "Processing batches: 100%|██████████| 142/142 [05:24<00:00,  2.29s/it]"
     ]
    },
    {
     "name": "stdout",
     "output_type": "stream",
     "text": [
      "                    species  decimalLatitude  decimalLongitude  eventDate  \\\n",
      "0  Muscardinus avellanarius        53.083738         -3.419775 2022-05-18   \n",
      "1  Muscardinus avellanarius        53.083738         -3.419775 2022-06-17   \n",
      "2  Muscardinus avellanarius        53.083738         -3.419775 2022-05-18   \n",
      "3  Muscardinus avellanarius        53.083738         -3.419775 2022-05-18   \n",
      "4  Muscardinus avellanarius        53.083738         -3.419775 2022-05-18   \n",
      "\n",
      "        BSI         LST     MNDWI      NDBI      NDSI      NDVI      NDWI  \\\n",
      "0 -0.622948  288.519367 -0.353482 -0.356856 -0.353482  0.708958 -0.629153   \n",
      "1  0.042949  288.434835  0.091004 -0.105559  0.091004  0.039360 -0.014657   \n",
      "2 -0.622948  288.519367 -0.353482 -0.356856 -0.353482  0.708958 -0.629153   \n",
      "3 -0.622948  288.519367 -0.353482 -0.356856 -0.353482  0.708958 -0.629153   \n",
      "4 -0.622948  288.519367 -0.353482 -0.356856 -0.353482  0.708958 -0.629153   \n",
      "\n",
      "       SAVI        UI  \n",
      "0  1.063304  0.356856  \n",
      "1  0.059038  0.105559  \n",
      "2  1.063304  0.356856  \n",
      "3  1.063304  0.356856  \n",
      "4  1.063304  0.356856  \n"
     ]
    },
    {
     "name": "stderr",
     "output_type": "stream",
     "text": [
      "\n"
     ]
    }
   ],
   "source": [
    "import ee\n",
    "import pandas as pd\n",
    "from datetime import datetime, timedelta\n",
    "from tqdm import tqdm\n",
    "\n",
    "# ee.Initialize()\n",
    "\n",
    "# Your dataframe 'df' must have columns: decimalLongitude, decimalLatitude\n",
    "# Example: df = pd.read_csv(\"Erinaceus europaeus.csv\", delimiter='\\t')\n",
    "\n",
    "def create_aoi(lon, lat, box_size_km=1):\n",
    "    \"\"\"Create approx 1km x 1km square polygon around lon, lat.\"\"\"\n",
    "    half_side_deg = box_size_km / 111.32 / 2  # Rough approx degrees per km\n",
    "\n",
    "    coords = [\n",
    "        [lon - half_side_deg, lat - half_side_deg],\n",
    "        [lon + half_side_deg, lat - half_side_deg],\n",
    "        [lon + half_side_deg, lat + half_side_deg],\n",
    "        [lon - half_side_deg, lat + half_side_deg],\n",
    "        [lon - half_side_deg, lat - half_side_deg]\n",
    "    ]\n",
    "    return ee.Geometry.Polygon(coords)\n",
    "\n",
    "def compute_all_indices(feature, start_date, end_date):\n",
    "    \"\"\"Compute spectral indices and LST for one EE Feature (with AOI geometry).\"\"\"\n",
    "    aoi = feature.geometry()\n",
    "\n",
    "    s2 = (ee.ImageCollection(\"COPERNICUS/S2_SR_HARMONIZED\")\n",
    "          .filterBounds(aoi)\n",
    "          .filterDate(start_date, end_date)\n",
    "          .sort('CLOUDY_PIXEL_PERCENTAGE')\n",
    "          .first())\n",
    "    s2 = ee.Image(s2).clip(aoi)\n",
    "\n",
    "    blue = s2.select('B2')\n",
    "    green = s2.select('B3')\n",
    "    red = s2.select('B4')\n",
    "    nir = s2.select('B8')\n",
    "    swir = s2.select('B11')\n",
    "\n",
    "    L = 0.5  # SAVI constant\n",
    "\n",
    "    ndvi = nir.subtract(red).divide(nir.add(red)).rename('NDVI')\n",
    "    ndwi = green.subtract(nir).divide(green.add(nir)).rename('NDWI')\n",
    "    ndbi = swir.subtract(nir).divide(swir.add(nir)).rename('NDBI')\n",
    "    savi = nir.subtract(red).divide(nir.add(red).add(L)).multiply(1 + L).rename('SAVI')\n",
    "    mndwi = green.subtract(swir).divide(green.add(swir)).rename('MNDWI')\n",
    "    ndsi = green.subtract(swir).divide(green.add(swir)).rename('NDSI')\n",
    "    bsi = (red.add(blue).subtract(nir.add(swir))).divide(red.add(blue).add(nir).add(swir)).rename('BSI')\n",
    "    ui = nir.subtract(swir).divide(nir.add(swir)).rename('UI')\n",
    "\n",
    "    reducers = ee.Reducer.mean()\n",
    "    scale_10m = 10\n",
    "\n",
    "    ndvi_mean = ndvi.reduceRegion(reducers, aoi, scale_10m).get('NDVI')\n",
    "    ndwi_mean = ndwi.reduceRegion(reducers, aoi, scale_10m).get('NDWI')\n",
    "    ndbi_mean = ndbi.reduceRegion(reducers, aoi, scale_10m).get('NDBI')\n",
    "    savi_mean = savi.reduceRegion(reducers, aoi, scale_10m).get('SAVI')\n",
    "    mndwi_mean = mndwi.reduceRegion(reducers, aoi, scale_10m).get('MNDWI')\n",
    "    ndsi_mean = ndsi.reduceRegion(reducers, aoi, scale_10m).get('NDSI')\n",
    "    bsi_mean = bsi.reduceRegion(reducers, aoi, scale_10m).get('BSI')\n",
    "    ui_mean = ui.reduceRegion(reducers, aoi, scale_10m).get('UI')\n",
    "\n",
    "    # MODIS LST dataset\n",
    "    modis = (ee.ImageCollection(\"MODIS/061/MOD11A1\")\n",
    "             .filterBounds(aoi)\n",
    "             .filterDate(start_date, end_date)\n",
    "             .select('LST_Day_1km'))\n",
    "\n",
    "    lst_mean_img = modis.mean().multiply(0.02).clip(aoi)\n",
    "\n",
    "    lst_mean = lst_mean_img.reduceRegion(\n",
    "        reducer=ee.Reducer.mean(),\n",
    "        geometry=aoi,\n",
    "        scale=1000\n",
    "    ).get('LST_Day_1km')\n",
    "\n",
    "    return feature.set({\n",
    "        'NDVI': ndvi_mean,\n",
    "        'NDWI': ndwi_mean,\n",
    "        'NDBI': ndbi_mean,\n",
    "        'SAVI': savi_mean,\n",
    "        'MNDWI': mndwi_mean,\n",
    "        'NDSI': ndsi_mean,\n",
    "        'BSI': bsi_mean,\n",
    "        'UI': ui_mean,\n",
    "        'LST': lst_mean\n",
    "    })\n",
    "\n",
    "# Split df into batches\n",
    "batch_size = 50\n",
    "batches = [df.iloc[i:i+batch_size] for i in range(0, len(df), batch_size)]\n",
    "\n",
    "results_list = []\n",
    "\n",
    "index_names = ['NDVI', 'NDWI', 'NDBI', 'SAVI', 'MNDWI', 'NDSI', 'BSI', 'UI', 'LST']\n",
    "\n",
    "for batch in tqdm(batches, desc=\"Processing batches\"):\n",
    "    features = []\n",
    "    batch_indices = []\n",
    "    feature_metadata = {}\n",
    "\n",
    "    for idx, row in batch.iterrows():\n",
    "        \n",
    "        aoi = create_aoi(row['decimalLongitude'], row['decimalLatitude'])\n",
    "        feature = ee.Feature(aoi).set('index', idx)\n",
    "        features.append(feature)\n",
    "        batch_indices.append(idx)  # Save the original index\n",
    "        \n",
    "        event_date = row['eventDate']\n",
    "        start_date = (event_date - timedelta(days=15)).strftime('%Y-%m-%d')\n",
    "        end_date = (event_date + timedelta(days=15)).strftime('%Y-%m-%d')\n",
    "        feature_metadata[idx] = (start_date, end_date)\n",
    "\n",
    "    # Create a FeatureCollection from the list of features\n",
    "    fc = ee.FeatureCollection(features)\n",
    "    \n",
    "    # Define wrapper for map to inject per-feature dates\n",
    "    def map_with_dates(f):\n",
    "        idx = f.get('index')\n",
    "        # Use dictionary lookup to get dates for this feature\n",
    "        date_dict = ee.Dictionary(ee.Dictionary(feature_metadata))\n",
    "        dates = ee.List(date_dict.get(ee.Number(idx)))\n",
    "        return compute_all_indices(f, dates.get(0), dates.get(1))\n",
    "\n",
    "    try:\n",
    "        result_fc = fc.map(map_with_dates)\n",
    "        results = result_fc.getInfo()\n",
    "\n",
    "        rows = []\n",
    "        for f in results['features']:\n",
    "            props = f['properties']\n",
    "            rows.append(props)\n",
    "\n",
    "    except Exception as e:\n",
    "        print(f\"Error processing batch starting at index {batch.index[0]}: {e}\")\n",
    "        # If there's an error, create placeholder rows with None\n",
    "        rows = [{'index': i, **{name: None for name in index_names}} for i in batch_indices]\n",
    "\n",
    "    batch_results_df = pd.DataFrame(rows).sort_values('index').reset_index(drop=True)\n",
    "    results_list.append(batch_results_df)\n",
    "\n",
    "# Concatenate all batches and sort by original index\n",
    "all_results_df = pd.concat(results_list).sort_values('index').reset_index(drop=True)\n",
    "\n",
    "# Merge with original df\n",
    "df_final = pd.concat([df.reset_index(drop=True), all_results_df.drop(columns=['index'])], axis=1)\n",
    "\n",
    "print(df_final.head())"
   ],
   "metadata": {
    "collapsed": false,
    "ExecuteTime": {
     "end_time": "2025-05-24T23:16:53.061870Z",
     "start_time": "2025-05-24T23:11:28.277778Z"
    }
   },
   "id": "df4351fe8407b525"
  },
  {
   "cell_type": "code",
   "execution_count": 15,
   "outputs": [],
   "source": [
    "# df_final.to_csv(\"dormice_full_data.csv\", index=False)\n",
    "\n",
    "df = pd.read_csv(\"dormice_full_data.csv\")\n",
    "df['eventDate'] = pd.to_datetime(df['eventDate'], format='%Y-%m-%d', errors='coerce')\n",
    "df = df.dropna().reset_index(drop=True)"
   ],
   "metadata": {
    "collapsed": false,
    "ExecuteTime": {
     "end_time": "2025-05-24T23:19:55.008211Z",
     "start_time": "2025-05-24T23:19:54.969568Z"
    }
   },
   "id": "f87822e4b2ea5a81"
  },
  {
   "cell_type": "code",
   "execution_count": 16,
   "outputs": [
    {
     "name": "stderr",
     "output_type": "stream",
     "text": [
      "/var/folders/0n/sggn66691kd6g5mtyzpq2hv80000gn/T/ipykernel_62776/1357841717.py:1: DtypeWarning: Columns (10,38,39,41,46,48) have mixed types. Specify dtype option on import or set low_memory=False.\n",
      "  hazel = pd.read_csv(\"hazel.csv\", delimiter='\\t')\n",
      "/var/folders/0n/sggn66691kd6g5mtyzpq2hv80000gn/T/ipykernel_62776/1357841717.py:8: DtypeWarning: Columns (10,38,39,41,46) have mixed types. Specify dtype option on import or set low_memory=False.\n",
      "  birch = pd.read_csv(\"birch.csv\", delimiter='\\t')\n",
      "/var/folders/0n/sggn66691kd6g5mtyzpq2hv80000gn/T/ipykernel_62776/1357841717.py:15: DtypeWarning: Columns (10,39,41,45,46) have mixed types. Specify dtype option on import or set low_memory=False.\n",
      "  beech = pd.read_csv(\"beech.csv\", delimiter='\\t')\n",
      "/var/folders/0n/sggn66691kd6g5mtyzpq2hv80000gn/T/ipykernel_62776/1357841717.py:22: DtypeWarning: Columns (10,38,39,41,45,46,48) have mixed types. Specify dtype option on import or set low_memory=False.\n",
      "  honeysuckle = pd.read_csv(\"honeysuckle.csv\", delimiter='\\t')\n",
      "/var/folders/0n/sggn66691kd6g5mtyzpq2hv80000gn/T/ipykernel_62776/1357841717.py:29: DtypeWarning: Columns (38,39,41,46,48) have mixed types. Specify dtype option on import or set low_memory=False.\n",
      "  oak = pd.read_csv(\"oak.csv\", delimiter='\\t')\n"
     ]
    }
   ],
   "source": [
    "hazel = pd.read_csv(\"hazel.csv\", delimiter='\\t')\n",
    "hazel = hazel[hazel[\"occurrenceStatus\"] == \"PRESENT\"]\n",
    "hazel = hazel[hazel['year']>=2022]\n",
    "hazel['eventDate'] = pd.to_datetime(hazel['eventDate'], format='%Y-%m-%d', errors='coerce')\n",
    "hazel = hazel[['species', 'decimalLatitude', 'decimalLongitude', 'eventDate']]\n",
    "hazel = hazel.dropna().reset_index(drop=True)\n",
    "\n",
    "birch = pd.read_csv(\"birch.csv\", delimiter='\\t')\n",
    "birch = birch[birch[\"occurrenceStatus\"] == \"PRESENT\"]\n",
    "birch = birch[birch['year']>=2022]\n",
    "birch['eventDate'] = pd.to_datetime(birch['eventDate'], format='%Y-%m-%d', errors='coerce')\n",
    "birch = birch[['species', 'decimalLatitude', 'decimalLongitude', 'eventDate']]\n",
    "birch = birch.dropna().reset_index(drop=True)\n",
    "\n",
    "beech = pd.read_csv(\"beech.csv\", delimiter='\\t')\n",
    "beech = beech[beech[\"occurrenceStatus\"] == \"PRESENT\"]\n",
    "beech = beech[beech['year']>=2022]\n",
    "beech['eventDate'] = pd.to_datetime(beech['eventDate'], format='%Y-%m-%d', errors='coerce')\n",
    "beech = beech[['species', 'decimalLatitude', 'decimalLongitude', 'eventDate']]\n",
    "beech = beech.dropna().reset_index(drop=True)\n",
    "\n",
    "honeysuckle = pd.read_csv(\"honeysuckle.csv\", delimiter='\\t')\n",
    "honeysuckle = honeysuckle[honeysuckle[\"occurrenceStatus\"] == \"PRESENT\"]\n",
    "honeysuckle = honeysuckle[honeysuckle['year']>=2022]\n",
    "honeysuckle['eventDate'] = pd.to_datetime(honeysuckle['eventDate'], format='%Y-%m-%d', errors='coerce')\n",
    "honeysuckle = honeysuckle[['species', 'decimalLatitude', 'decimalLongitude', 'eventDate']]\n",
    "honeysuckle = honeysuckle.dropna().reset_index(drop=True)\n",
    "\n",
    "oak = pd.read_csv(\"oak.csv\", delimiter='\\t')\n",
    "oak = oak[oak[\"occurrenceStatus\"] == \"PRESENT\"]\n",
    "oak = oak[oak['year']>=2022]\n",
    "oak['eventDate'] = pd.to_datetime(oak['eventDate'], format='%Y-%m-%d', errors='coerce')\n",
    "oak = oak[['species', 'decimalLatitude', 'decimalLongitude', 'eventDate']]\n",
    "oak = oak.dropna().reset_index(drop=True)\n",
    "\n",
    "hawthorn = pd.read_csv(\"hawthorn.csv\", delimiter='\\t')\n",
    "hawthorn = hawthorn[hawthorn[\"occurrenceStatus\"] == \"PRESENT\"]\n",
    "hawthorn = hawthorn[hawthorn['year']>=2022]\n",
    "hawthorn['eventDate'] = pd.to_datetime(hawthorn['eventDate'], format='%Y-%m-%d', errors='coerce')\n",
    "hawthorn = hawthorn[['species', 'decimalLatitude', 'decimalLongitude', 'eventDate']]\n",
    "hawthorn = hawthorn.dropna().reset_index(drop=True)"
   ],
   "metadata": {
    "collapsed": false,
    "ExecuteTime": {
     "end_time": "2025-05-24T23:19:58.720518Z",
     "start_time": "2025-05-24T23:19:55.189458Z"
    }
   },
   "id": "94b341586d74ae22"
  },
  {
   "cell_type": "code",
   "execution_count": 17,
   "outputs": [
    {
     "name": "stderr",
     "output_type": "stream",
     "text": [
      "100%|██████████| 7008/7008 [00:01<00:00, 6042.51it/s]\n"
     ]
    }
   ],
   "source": [
    "import numpy as np\n",
    "from sklearn.neighbors import BallTree\n",
    "\n",
    "# Convert lat/lon to radians for BallTree\n",
    "dormice_coords = np.deg2rad(df[['decimalLatitude', 'decimalLongitude']].values)\n",
    "hazel_coords = np.deg2rad(hazel[['decimalLatitude', 'decimalLongitude']].values)\n",
    "birch_coords = np.deg2rad(birch[['decimalLatitude', 'decimalLongitude']].values)\n",
    "beech_coords = np.deg2rad(beech[['decimalLatitude', 'decimalLongitude']].values)\n",
    "honeysuckle_coords = np.deg2rad(honeysuckle[['decimalLatitude', 'decimalLongitude']].values)\n",
    "oak_coords = np.deg2rad(oak[['decimalLatitude', 'decimalLongitude']].values)\n",
    "hawthorn_coords = np.deg2rad(hawthorn[['decimalLatitude', 'decimalLongitude']].values)\n",
    "\n",
    "\n",
    "# Build BallTree using haversine metric\n",
    "tree_hazel = BallTree(hazel_coords, metric='haversine')\n",
    "tree_birch = BallTree(birch_coords, metric='haversine')\n",
    "tree_beech = BallTree(beech_coords, metric='haversine')\n",
    "tree_honeysuckle = BallTree(honeysuckle_coords, metric='haversine')\n",
    "tree_oak = BallTree(oak_coords, metric='haversine')\n",
    "tree_hawthorn = BallTree(hawthorn_coords, metric='haversine')\n",
    "\n",
    "# Define search radius: 1 km in radians\n",
    "earth_radius_km = 6371.0\n",
    "radius = 1 / earth_radius_km  # 1 km in radians\n",
    "\n",
    "# Initialize presence columns\n",
    "df['hazel_presence'] = 0\n",
    "df['birch_presence'] = 0\n",
    "df['beech_presence'] = 0\n",
    "df['honeysuckle_presence'] = 0\n",
    "df['oak_presence'] = 0\n",
    "df['hawthorn_presence'] = 0\n",
    "\n",
    "# Iterate through each dormice point with tqdm for progress tracking\n",
    "for i in tqdm(range(len(df))):\n",
    "    point = dormice_coords[i].reshape(1, -1)\n",
    "    event_month = df.loc[i, 'eventDate'].month\n",
    "    event_year = df.loc[i, 'eventDate'].year\n",
    "\n",
    "    # HAZEL\n",
    "    idxs = tree_hazel.query_radius(point, r=radius)[0]\n",
    "    for j in idxs:\n",
    "        hazel_date = hazel.loc[j, 'eventDate']\n",
    "        if hazel_date.month == event_month and hazel_date.year == event_year:\n",
    "            df.at[i, 'hazel_presence'] = 1\n",
    "            break  # Found at least one match, no need to check further\n",
    "\n",
    "    # BIRCH\n",
    "    idxs = tree_birch.query_radius(point, r=radius)[0]\n",
    "    for j in idxs:\n",
    "        birch_date = birch.loc[j, 'eventDate']\n",
    "        if birch_date.month == event_month and birch_date.year == event_year:\n",
    "            df.at[i, 'birch_presence'] = 1\n",
    "            break\n",
    "            \n",
    "    # BEECH\n",
    "    idxs = tree_beech.query_radius(point, r=radius)[0]\n",
    "    for j in idxs:\n",
    "        beech_date = beech.loc[j, 'eventDate']\n",
    "        if beech_date.month == event_month and beech_date.year == event_year:\n",
    "            df.at[i, 'beech_presence'] = 1\n",
    "            break\n",
    "            \n",
    "    # HONEYSUCKLE\n",
    "    idxs = tree_honeysuckle.query_radius(point, r=radius)[0]\n",
    "    for j in idxs:\n",
    "        honeysuckle_date = honeysuckle.loc[j, 'eventDate']\n",
    "        if honeysuckle_date.month == event_month and honeysuckle_date.year == event_year:\n",
    "            df.at[i, 'honeysuckle_presence'] = 1\n",
    "            break\n",
    "            \n",
    "    # OAK\n",
    "    idxs = tree_oak.query_radius(point, r=radius)[0]\n",
    "    for j in idxs:\n",
    "        oak_date = oak.loc[j, 'eventDate']\n",
    "        if oak_date.month == event_month and oak_date.year == event_year:\n",
    "            df.at[i, 'oak_presence'] = 1\n",
    "            break\n",
    "            \n",
    "    # HAWTHORN\n",
    "    idxs = tree_hawthorn.query_radius(point, r=radius)[0]\n",
    "    for j in idxs:\n",
    "        hawthorn_date = hawthorn.loc[j, 'eventDate']\n",
    "        if hawthorn_date.month == event_month and hawthorn_date.year == event_year:\n",
    "            df.at[i, 'hawthorn_presence'] = 1\n",
    "            break\n",
    "            \n",
    "            \n",
    "            \n",
    "            \n"
   ],
   "metadata": {
    "collapsed": false,
    "ExecuteTime": {
     "end_time": "2025-05-24T23:19:59.901748Z",
     "start_time": "2025-05-24T23:19:58.722507Z"
    }
   },
   "id": "8bc22be307aa1a8c"
  },
  {
   "cell_type": "code",
   "execution_count": 18,
   "outputs": [
    {
     "name": "stderr",
     "output_type": "stream",
     "text": [
      "  8%|▊         | 581/7008 [00:01<00:14, 456.28it/s]"
     ]
    },
    {
     "name": "stdout",
     "output_type": "stream",
     "text": [
      "Error processing row: index 0 is out of bounds for axis 0 with size 0\n"
     ]
    },
    {
     "name": "stderr",
     "output_type": "stream",
     "text": [
      " 80%|███████▉  | 5592/7008 [00:12<00:02, 476.16it/s]"
     ]
    },
    {
     "name": "stdout",
     "output_type": "stream",
     "text": [
      "Error processing row: index 0 is out of bounds for axis 0 with size 0\n"
     ]
    },
    {
     "name": "stderr",
     "output_type": "stream",
     "text": [
      "100%|██████████| 7008/7008 [00:15<00:00, 460.57it/s]"
     ]
    },
    {
     "name": "stdout",
     "output_type": "stream",
     "text": [
      "Error processing row: index 0 is out of bounds for axis 0 with size 0\n"
     ]
    },
    {
     "name": "stderr",
     "output_type": "stream",
     "text": [
      "\n"
     ]
    }
   ],
   "source": [
    "from pyproj import Transformer\n",
    "from rasterio.windows import Window\n",
    "import rasterio\n",
    "\n",
    "land_cover_map = {\n",
    "    1: \"Deciduous woodland\",\n",
    "    2: \"Coniferous woodland\",\n",
    "    3: \"Arable\",\n",
    "    4: \"Improved grassland\",\n",
    "    5: \"Neutral grassland\",\n",
    "    6: \"Calcareous grassland\",\n",
    "    7: \"Acid grassland\",\n",
    "    8: \"Fen\",\n",
    "    9: \"Heather\",\n",
    "    10: \"Heather grassland\",\n",
    "    11: \"Bog\",\n",
    "    12: \"Inland rock\",\n",
    "    13: \"Saltwater\",\n",
    "    14: \"Freshwater\",\n",
    "    15: \"Supralittoral rock\",\n",
    "    16: \"Supralittoral sediment\",\n",
    "    17: \"Littoral rock\",\n",
    "    18: \"Littoral sediment\",\n",
    "    19: \"Saltmarsh\",\n",
    "    20: \"Urban\",\n",
    "    21: \"Suburban\"\n",
    "}\n",
    "\n",
    "# Batch coordinate transformation\n",
    "transformer_ni = Transformer.from_crs(\"EPSG:4326\", \"EPSG:29903\", always_xy=True)\n",
    "transformer_gb = Transformer.from_crs(\"EPSG:4326\", \"EPSG:27700\", always_xy=True)\n",
    "\n",
    "coords = list(zip(df['decimalLongitude'], df['decimalLatitude']))\n",
    "df['easting_ni'], df['northing_ni'] = zip(*transformer_ni.itransform(coords))\n",
    "df['easting_gb'], df['northing_gb'] = zip(*transformer_gb.itransform(coords))\n",
    "\n",
    "# Raster processing optimization\n",
    "gb_raster = 'gblcm2023_10m.tif'\n",
    "n_ireland_raster = 'nilcm2023_10m.tif'\n",
    "\n",
    "\n",
    "def get_land_cover_class(row):\n",
    "    try:\n",
    "        # Try GB raster first\n",
    "        with rasterio.open(gb_raster) as src:\n",
    "            row_idx, col_idx = src.index(row['easting_gb'], row['northing_gb'])\n",
    "            # Read a small window around the point for better performance\n",
    "            window = Window(col_idx, row_idx, 1, 1)\n",
    "            land_cover_class = src.read(1, window=window)[0, 0]\n",
    "\n",
    "            if land_cover_class == 0:  # Check NI raster if GB is 0\n",
    "                with rasterio.open(n_ireland_raster) as src_ni:\n",
    "                    row_idx, col_idx = src_ni.index(row['easting_ni'], row['northing_ni'])\n",
    "                    window = Window(col_idx, row_idx, 1, 1)\n",
    "                    land_cover_class = src_ni.read(1, window=window)[0, 0]\n",
    "\n",
    "        return land_cover_map.get(land_cover_class, \"Unknown\")\n",
    "    except Exception as e:\n",
    "        print(f\"Error processing row: {e}\")\n",
    "        return \"Unknown\"\n",
    "\n",
    "\n",
    "tqdm.pandas()\n",
    "df['Land_cover'] = df.progress_apply(get_land_cover_class, axis=1)"
   ],
   "metadata": {
    "collapsed": false,
    "ExecuteTime": {
     "end_time": "2025-05-24T23:20:25.107685Z",
     "start_time": "2025-05-24T23:20:09.347635Z"
    }
   },
   "id": "a47148817f8eec4"
  },
  {
   "cell_type": "code",
   "execution_count": 19,
   "outputs": [],
   "source": [
    "df = df.dropna()\n",
    "df=df.drop(['easting_ni', 'northing_ni', 'easting_gb', 'northing_gb'],axis=1)\n",
    "# Remove where Land_cover is Unknown\n",
    "df = df[df['Land_cover'] != \"Unknown\"].reset_index(drop=True)\n",
    "df.to_csv(\"dormice_final_data.csv\", index=False)"
   ],
   "metadata": {
    "collapsed": false,
    "ExecuteTime": {
     "end_time": "2025-05-24T23:20:25.175288Z",
     "start_time": "2025-05-24T23:20:25.110238Z"
    }
   },
   "id": "56934116310c43a2"
  },
  {
   "cell_type": "code",
   "execution_count": null,
   "outputs": [],
   "source": [],
   "metadata": {
    "collapsed": false
   },
   "id": "440ee509e0f998f8"
  }
 ],
 "metadata": {
  "kernelspec": {
   "display_name": "Python 3",
   "language": "python",
   "name": "python3"
  },
  "language_info": {
   "codemirror_mode": {
    "name": "ipython",
    "version": 2
   },
   "file_extension": ".py",
   "mimetype": "text/x-python",
   "name": "python",
   "nbconvert_exporter": "python",
   "pygments_lexer": "ipython2",
   "version": "2.7.6"
  }
 },
 "nbformat": 4,
 "nbformat_minor": 5
}
