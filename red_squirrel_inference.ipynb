{
 "cells": [
  {
   "cell_type": "code",
   "execution_count": 1,
   "id": "initial_id",
   "metadata": {
    "collapsed": true,
    "ExecuteTime": {
     "end_time": "2025-08-05T22:01:05.207404Z",
     "start_time": "2025-08-05T22:01:04.662381Z"
    }
   },
   "outputs": [],
   "source": [
    "import pandas as pd\n",
    "df = pd.read_csv(\"inference_data_indices.csv\")\n",
    "df['eventDate'] = pd.to_datetime(df['eventDate'], format='%Y-%m-%d', errors='coerce')"
   ]
  },
  {
   "cell_type": "code",
   "execution_count": 2,
   "outputs": [
    {
     "name": "stderr",
     "output_type": "stream",
     "text": [
      "/var/folders/0n/sggn66691kd6g5mtyzpq2hv80000gn/T/ipykernel_80939/983191898.py:1: DtypeWarning: Columns (41,46,48) have mixed types. Specify dtype option on import or set low_memory=False.\n",
      "  sitka_spruce = pd.read_csv(\"Sitka spruce.csv\", delimiter='\\t')\n",
      "/var/folders/0n/sggn66691kd6g5mtyzpq2hv80000gn/T/ipykernel_80939/983191898.py:8: DtypeWarning: Columns (2,10,36,37,38,39,40,41,46,48) have mixed types. Specify dtype option on import or set low_memory=False.\n",
      "  grey_squirrel = pd.read_csv(\"grey squirrel.csv\", delimiter='\\t')\n"
     ]
    }
   ],
   "source": [
    "sitka_spruce = pd.read_csv(\"Sitka spruce.csv\", delimiter='\\t')\n",
    "sitka_spruce = sitka_spruce[sitka_spruce[\"occurrenceStatus\"] == \"PRESENT\"]\n",
    "sitka_spruce = sitka_spruce[sitka_spruce['year']>=2022]\n",
    "sitka_spruce['eventDate'] = pd.to_datetime(sitka_spruce['eventDate'], format='%Y-%m-%d', errors='coerce')\n",
    "sitka_spruce = sitka_spruce[['species', 'decimalLatitude', 'decimalLongitude', 'eventDate']]\n",
    "sitka_spruce = sitka_spruce.dropna().reset_index(drop=True)\n",
    "\n",
    "grey_squirrel = pd.read_csv(\"grey squirrel.csv\", delimiter='\\t')\n",
    "grey_squirrel = grey_squirrel[grey_squirrel[\"occurrenceStatus\"] == \"PRESENT\"]\n",
    "grey_squirrel = grey_squirrel[grey_squirrel['year']>=2022]\n",
    "grey_squirrel['eventDate'] = pd.to_datetime(grey_squirrel['eventDate'], format='%Y-%m-%d', errors='coerce')\n",
    "grey_squirrel = grey_squirrel[['species', 'decimalLatitude', 'decimalLongitude', 'eventDate']]\n",
    "grey_squirrel = grey_squirrel.dropna().reset_index(drop=True)"
   ],
   "metadata": {
    "collapsed": false,
    "ExecuteTime": {
     "end_time": "2025-08-05T22:01:09.517503Z",
     "start_time": "2025-08-05T22:01:05.214730Z"
    }
   },
   "id": "93d52f8a9c6a7697"
  },
  {
   "cell_type": "code",
   "execution_count": 4,
   "outputs": [
    {
     "name": "stderr",
     "output_type": "stream",
     "text": [
      "100%|██████████| 244359/244359 [00:51<00:00, 4759.96it/s]\n"
     ]
    }
   ],
   "source": [
    "import numpy as np\n",
    "from sklearn.neighbors import BallTree\n",
    "from tqdm import tqdm\n",
    "\n",
    "# Convert lat/lon to radians for BallTree\n",
    "red_squirrel_coords = np.deg2rad(df[['decimalLatitude', 'decimalLongitude']].values)\n",
    "sitka_spruce_coords = np.deg2rad(sitka_spruce[['decimalLatitude', 'decimalLongitude']].values)\n",
    "grey_squirrel_coords = np.deg2rad(grey_squirrel[['decimalLatitude', 'decimalLongitude']].values)\n",
    "\n",
    "\n",
    "# Build BallTree using haversine metric\n",
    "tree_sitka_spruce = BallTree(sitka_spruce_coords, metric='haversine')\n",
    "tree_grey_squirrel = BallTree(grey_squirrel_coords, metric='haversine')\n",
    "\n",
    "# Define search radius: 1 km in radians\n",
    "earth_radius_km = 6371.0\n",
    "radius = 1 / earth_radius_km  # 1 km in radians\n",
    "\n",
    "# Initialize presence columns\n",
    "df['sitka_spruce_presence'] = 0\n",
    "df['grey_squirrel_presence'] = 0\n",
    "\n",
    "# Iterate through each red squirrel point with tqdm for progress tracking\n",
    "for i in tqdm(range(len(df))):\n",
    "    point = red_squirrel_coords[i].reshape(1, -1)\n",
    "    event_month = df.loc[i, 'eventDate'].month\n",
    "    event_year = df.loc[i, 'eventDate'].year\n",
    "\n",
    "    # SITKA SPRUCE\n",
    "    idxs = tree_sitka_spruce.query_radius(point, r=radius)[0]\n",
    "    for j in idxs:\n",
    "        sitka_date = sitka_spruce.loc[j, 'eventDate']\n",
    "        if sitka_date.month == event_month and sitka_date.year == event_year:\n",
    "            df.at[i, 'sitka_spruce_presence'] = 1\n",
    "            break  # Found at least one match, no need to check further\n",
    "\n",
    "    # GREY SQUIRREL\n",
    "    idxs = tree_grey_squirrel.query_radius(point, r=radius)[0]\n",
    "    for j in idxs:\n",
    "        grey_squirrel_date = grey_squirrel.loc[j, 'eventDate']\n",
    "        if grey_squirrel_date.month == event_month and grey_squirrel_date.year == event_year:\n",
    "            df.at[i, 'grey_squirrel_presence'] = 1\n",
    "            break"
   ],
   "metadata": {
    "collapsed": false,
    "ExecuteTime": {
     "end_time": "2025-08-05T22:02:04.785471Z",
     "start_time": "2025-08-05T22:01:13.266303Z"
    }
   },
   "id": "d37cdf672e977da7"
  },
  {
   "cell_type": "code",
   "execution_count": null,
   "outputs": [
    {
     "name": "stderr",
     "output_type": "stream",
     "text": [
      "  0%|          | 1094/244359 [00:06<18:02, 224.77it/s]"
     ]
    },
    {
     "name": "stdout",
     "output_type": "stream",
     "text": [
      "Error processing row: index 0 is out of bounds for axis 0 with size 0\n"
     ]
    },
    {
     "name": "stderr",
     "output_type": "stream",
     "text": [
      "  1%|          | 1504/244359 [00:07<16:03, 252.12it/s]"
     ]
    }
   ],
   "source": [
    "from pyproj import Transformer\n",
    "from rasterio.windows import Window\n",
    "import rasterio\n",
    "\n",
    "land_cover_map = {\n",
    "    1: \"Deciduous woodland\",\n",
    "    2: \"Coniferous woodland\",\n",
    "    3: \"Arable\",\n",
    "    4: \"Improved grassland\",\n",
    "    5: \"Neutral grassland\",\n",
    "    6: \"Calcareous grassland\",\n",
    "    7: \"Acid grassland\",\n",
    "    8: \"Fen\",\n",
    "    9: \"Heather\",\n",
    "    10: \"Heather grassland\",\n",
    "    11: \"Bog\",\n",
    "    12: \"Inland rock\",\n",
    "    13: \"Saltwater\",\n",
    "    14: \"Freshwater\",\n",
    "    15: \"Supralittoral rock\",\n",
    "    16: \"Supralittoral sediment\",\n",
    "    17: \"Littoral rock\",\n",
    "    18: \"Littoral sediment\",\n",
    "    19: \"Saltmarsh\",\n",
    "    20: \"Urban\",\n",
    "    21: \"Suburban\"\n",
    "}\n",
    "\n",
    "# Batch coordinate transformation\n",
    "transformer_ni = Transformer.from_crs(\"EPSG:4326\", \"EPSG:29903\", always_xy=True)\n",
    "transformer_gb = Transformer.from_crs(\"EPSG:4326\", \"EPSG:27700\", always_xy=True)\n",
    "\n",
    "coords = list(zip(df['decimalLongitude'], df['decimalLatitude']))\n",
    "df['easting_ni'], df['northing_ni'] = zip(*transformer_ni.itransform(coords))\n",
    "df['easting_gb'], df['northing_gb'] = zip(*transformer_gb.itransform(coords))\n",
    "\n",
    "# Raster processing optimization\n",
    "gb_raster = 'gblcm2023_10m.tif'\n",
    "n_ireland_raster = 'nilcm2023_10m.tif'\n",
    "\n",
    "\n",
    "def get_land_cover_class(row):\n",
    "    try:\n",
    "        # Try GB raster first\n",
    "        with rasterio.open(gb_raster) as src:\n",
    "            row_idx, col_idx = src.index(row['easting_gb'], row['northing_gb'])\n",
    "            # Read a small window around the point for better performance\n",
    "            window = Window(col_idx, row_idx, 1, 1)\n",
    "            land_cover_class = src.read(1, window=window)[0, 0]\n",
    "\n",
    "            if land_cover_class == 0:  # Check NI raster if GB is 0\n",
    "                with rasterio.open(n_ireland_raster) as src_ni:\n",
    "                    row_idx, col_idx = src_ni.index(row['easting_ni'], row['northing_ni'])\n",
    "                    window = Window(col_idx, row_idx, 1, 1)\n",
    "                    land_cover_class = src_ni.read(1, window=window)[0, 0]\n",
    "\n",
    "        return land_cover_map.get(land_cover_class, \"Unknown\")\n",
    "    except Exception as e:\n",
    "        print(f\"Error processing row: {e}\")\n",
    "        return \"Unknown\"\n",
    "\n",
    "\n",
    "tqdm.pandas()\n",
    "df['Land_cover'] = df.progress_apply(get_land_cover_class, axis=1)\n"
   ],
   "metadata": {
    "collapsed": false,
    "is_executing": true,
    "ExecuteTime": {
     "start_time": "2025-08-05T22:02:04.784517Z"
    }
   },
   "id": "f25697d0f384b82c"
  },
  {
   "cell_type": "code",
   "execution_count": null,
   "outputs": [],
   "source": [
    "df = df.dropna()\n",
    "df=df.drop(['easting_ni', 'northing_ni', 'easting_gb', 'northing_gb'],axis=1)\n",
    "# Remove where Land_cover is Unknown\n",
    "df = df[df['Land_cover'] != \"Unknown\"].reset_index(drop=True)\n",
    "df.to_csv(\"red_squirrel_inference_data_preprocessed.csv\", index=False)"
   ],
   "metadata": {
    "collapsed": false,
    "is_executing": true
   },
   "id": "4e81a3f51d5a0a95"
  },
  {
   "cell_type": "code",
   "execution_count": null,
   "outputs": [],
   "source": [],
   "metadata": {
    "collapsed": false
   },
   "id": "1b94ba0a91576b17"
  }
 ],
 "metadata": {
  "kernelspec": {
   "display_name": "Python 3",
   "language": "python",
   "name": "python3"
  },
  "language_info": {
   "codemirror_mode": {
    "name": "ipython",
    "version": 2
   },
   "file_extension": ".py",
   "mimetype": "text/x-python",
   "name": "python",
   "nbconvert_exporter": "python",
   "pygments_lexer": "ipython2",
   "version": "2.7.6"
  }
 },
 "nbformat": 4,
 "nbformat_minor": 5
}
