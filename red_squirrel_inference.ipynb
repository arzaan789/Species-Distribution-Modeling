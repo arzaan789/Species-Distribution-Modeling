{
 "cells": [
  {
   "cell_type": "code",
   "execution_count": 1,
   "id": "initial_id",
   "metadata": {
    "collapsed": true,
    "ExecuteTime": {
     "end_time": "2025-08-05T22:01:05.207404Z",
     "start_time": "2025-08-05T22:01:04.662381Z"
    }
   },
   "outputs": [],
   "source": [
    "import pandas as pd\n",
    "df = pd.read_csv(\"inference_data_indices.csv\")\n",
    "df['eventDate'] = pd.to_datetime(df['eventDate'], format='%Y-%m-%d', errors='coerce')"
   ]
  },
  {
   "cell_type": "code",
   "execution_count": 2,
   "outputs": [
    {
     "name": "stderr",
     "output_type": "stream",
     "text": [
      "/var/folders/0n/sggn66691kd6g5mtyzpq2hv80000gn/T/ipykernel_80939/983191898.py:1: DtypeWarning: Columns (41,46,48) have mixed types. Specify dtype option on import or set low_memory=False.\n",
      "  sitka_spruce = pd.read_csv(\"Sitka spruce.csv\", delimiter='\\t')\n",
      "/var/folders/0n/sggn66691kd6g5mtyzpq2hv80000gn/T/ipykernel_80939/983191898.py:8: DtypeWarning: Columns (2,10,36,37,38,39,40,41,46,48) have mixed types. Specify dtype option on import or set low_memory=False.\n",
      "  grey_squirrel = pd.read_csv(\"grey squirrel.csv\", delimiter='\\t')\n"
     ]
    }
   ],
   "source": [
    "sitka_spruce = pd.read_csv(\"Sitka spruce.csv\", delimiter='\\t')\n",
    "sitka_spruce = sitka_spruce[sitka_spruce[\"occurrenceStatus\"] == \"PRESENT\"]\n",
    "sitka_spruce = sitka_spruce[sitka_spruce['year']>=2022]\n",
    "sitka_spruce['eventDate'] = pd.to_datetime(sitka_spruce['eventDate'], format='%Y-%m-%d', errors='coerce')\n",
    "sitka_spruce = sitka_spruce[['species', 'decimalLatitude', 'decimalLongitude', 'eventDate']]\n",
    "sitka_spruce = sitka_spruce.dropna().reset_index(drop=True)\n",
    "\n",
    "grey_squirrel = pd.read_csv(\"grey squirrel.csv\", delimiter='\\t')\n",
    "grey_squirrel = grey_squirrel[grey_squirrel[\"occurrenceStatus\"] == \"PRESENT\"]\n",
    "grey_squirrel = grey_squirrel[grey_squirrel['year']>=2022]\n",
    "grey_squirrel['eventDate'] = pd.to_datetime(grey_squirrel['eventDate'], format='%Y-%m-%d', errors='coerce')\n",
    "grey_squirrel = grey_squirrel[['species', 'decimalLatitude', 'decimalLongitude', 'eventDate']]\n",
    "grey_squirrel = grey_squirrel.dropna().reset_index(drop=True)"
   ],
   "metadata": {
    "collapsed": false,
    "ExecuteTime": {
     "end_time": "2025-08-05T22:01:09.517503Z",
     "start_time": "2025-08-05T22:01:05.214730Z"
    }
   },
   "id": "93d52f8a9c6a7697"
  },
  {
   "cell_type": "code",
   "execution_count": 4,
   "outputs": [
    {
     "name": "stderr",
     "output_type": "stream",
     "text": [
      "100%|██████████| 244359/244359 [00:51<00:00, 4759.96it/s]\n"
     ]
    }
   ],
   "source": [
    "import numpy as np\n",
    "from sklearn.neighbors import BallTree\n",
    "from tqdm import tqdm\n",
    "\n",
    "# Convert lat/lon to radians for BallTree\n",
    "red_squirrel_coords = np.deg2rad(df[['decimalLatitude', 'decimalLongitude']].values)\n",
    "sitka_spruce_coords = np.deg2rad(sitka_spruce[['decimalLatitude', 'decimalLongitude']].values)\n",
    "grey_squirrel_coords = np.deg2rad(grey_squirrel[['decimalLatitude', 'decimalLongitude']].values)\n",
    "\n",
    "\n",
    "# Build BallTree using haversine metric\n",
    "tree_sitka_spruce = BallTree(sitka_spruce_coords, metric='haversine')\n",
    "tree_grey_squirrel = BallTree(grey_squirrel_coords, metric='haversine')\n",
    "\n",
    "# Define search radius: 1 km in radians\n",
    "earth_radius_km = 6371.0\n",
    "radius = 1 / earth_radius_km  # 1 km in radians\n",
    "\n",
    "# Initialize presence columns\n",
    "df['sitka_spruce_presence'] = 0\n",
    "df['grey_squirrel_presence'] = 0\n",
    "\n",
    "# Iterate through each red squirrel point with tqdm for progress tracking\n",
    "for i in tqdm(range(len(df))):\n",
    "    point = red_squirrel_coords[i].reshape(1, -1)\n",
    "    event_month = df.loc[i, 'eventDate'].month\n",
    "    event_year = df.loc[i, 'eventDate'].year\n",
    "\n",
    "    # SITKA SPRUCE\n",
    "    idxs = tree_sitka_spruce.query_radius(point, r=radius)[0]\n",
    "    for j in idxs:\n",
    "        sitka_date = sitka_spruce.loc[j, 'eventDate']\n",
    "        if sitka_date.month == event_month and sitka_date.year == event_year:\n",
    "            df.at[i, 'sitka_spruce_presence'] = 1\n",
    "            break  # Found at least one match, no need to check further\n",
    "\n",
    "    # GREY SQUIRREL\n",
    "    idxs = tree_grey_squirrel.query_radius(point, r=radius)[0]\n",
    "    for j in idxs:\n",
    "        grey_squirrel_date = grey_squirrel.loc[j, 'eventDate']\n",
    "        if grey_squirrel_date.month == event_month and grey_squirrel_date.year == event_year:\n",
    "            df.at[i, 'grey_squirrel_presence'] = 1\n",
    "            break"
   ],
   "metadata": {
    "collapsed": false,
    "ExecuteTime": {
     "end_time": "2025-08-05T22:02:04.785471Z",
     "start_time": "2025-08-05T22:01:13.266303Z"
    }
   },
   "id": "d37cdf672e977da7"
  },
  {
   "cell_type": "code",
   "execution_count": 5,
   "outputs": [
    {
     "name": "stderr",
     "output_type": "stream",
     "text": [
      "  0%|          | 1094/244359 [00:06<18:02, 224.77it/s]"
     ]
    },
    {
     "name": "stdout",
     "output_type": "stream",
     "text": [
      "Error processing row: index 0 is out of bounds for axis 0 with size 0\n"
     ]
    },
    {
     "name": "stderr",
     "output_type": "stream",
     "text": [
      " 19%|█▉        | 46185/244359 [02:07<08:48, 375.21it/s]"
     ]
    },
    {
     "name": "stdout",
     "output_type": "stream",
     "text": [
      "Error processing row: index 0 is out of bounds for axis 0 with size 0\n"
     ]
    },
    {
     "name": "stderr",
     "output_type": "stream",
     "text": [
      " 32%|███▏      | 79282/244359 [03:47<06:24, 429.86it/s]"
     ]
    },
    {
     "name": "stdout",
     "output_type": "stream",
     "text": [
      "Error processing row: index 0 is out of bounds for axis 0 with size 0\n"
     ]
    },
    {
     "name": "stderr",
     "output_type": "stream",
     "text": [
      " 61%|██████    | 148878/244359 [07:08<04:07, 386.08it/s]"
     ]
    },
    {
     "name": "stdout",
     "output_type": "stream",
     "text": [
      "Error processing row: index 0 is out of bounds for axis 1 with size 0\n"
     ]
    },
    {
     "name": "stderr",
     "output_type": "stream",
     "text": [
      " 94%|█████████▎| 228928/244359 [10:08<00:33, 465.42it/s]"
     ]
    },
    {
     "name": "stdout",
     "output_type": "stream",
     "text": [
      "Error processing row: index 0 is out of bounds for axis 0 with size 0\n"
     ]
    },
    {
     "name": "stderr",
     "output_type": "stream",
     "text": [
      " 95%|█████████▌| 232314/244359 [10:16<00:24, 490.15it/s]"
     ]
    },
    {
     "name": "stdout",
     "output_type": "stream",
     "text": [
      "Error processing row: index 0 is out of bounds for axis 0 with size 0\n"
     ]
    },
    {
     "name": "stderr",
     "output_type": "stream",
     "text": [
      " 95%|█████████▌| 232614/244359 [10:16<00:23, 491.43it/s]"
     ]
    },
    {
     "name": "stdout",
     "output_type": "stream",
     "text": [
      "Error processing row: index 0 is out of bounds for axis 0 with size 0\n"
     ]
    },
    {
     "name": "stderr",
     "output_type": "stream",
     "text": [
      " 98%|█████████▊| 239125/244359 [10:30<00:10, 489.42it/s]"
     ]
    },
    {
     "name": "stdout",
     "output_type": "stream",
     "text": [
      "Error processing row: index 0 is out of bounds for axis 0 with size 0\n"
     ]
    },
    {
     "name": "stderr",
     "output_type": "stream",
     "text": [
      " 99%|█████████▉| 242796/244359 [10:38<00:03, 488.18it/s]"
     ]
    },
    {
     "name": "stdout",
     "output_type": "stream",
     "text": [
      "Error processing row: index 0 is out of bounds for axis 0 with size 0\n",
      "Error processing row: index 0 is out of bounds for axis 0 with size 0\n"
     ]
    },
    {
     "name": "stderr",
     "output_type": "stream",
     "text": [
      "100%|██████████| 244359/244359 [10:42<00:00, 380.19it/s]\n"
     ]
    }
   ],
   "source": [
    "from pyproj import Transformer\n",
    "from rasterio.windows import Window\n",
    "import rasterio\n",
    "\n",
    "land_cover_map = {\n",
    "    1: \"Deciduous woodland\",\n",
    "    2: \"Coniferous woodland\",\n",
    "    3: \"Arable\",\n",
    "    4: \"Improved grassland\",\n",
    "    5: \"Neutral grassland\",\n",
    "    6: \"Calcareous grassland\",\n",
    "    7: \"Acid grassland\",\n",
    "    8: \"Fen\",\n",
    "    9: \"Heather\",\n",
    "    10: \"Heather grassland\",\n",
    "    11: \"Bog\",\n",
    "    12: \"Inland rock\",\n",
    "    13: \"Saltwater\",\n",
    "    14: \"Freshwater\",\n",
    "    15: \"Supralittoral rock\",\n",
    "    16: \"Supralittoral sediment\",\n",
    "    17: \"Littoral rock\",\n",
    "    18: \"Littoral sediment\",\n",
    "    19: \"Saltmarsh\",\n",
    "    20: \"Urban\",\n",
    "    21: \"Suburban\"\n",
    "}\n",
    "\n",
    "# Batch coordinate transformation\n",
    "transformer_ni = Transformer.from_crs(\"EPSG:4326\", \"EPSG:29903\", always_xy=True)\n",
    "transformer_gb = Transformer.from_crs(\"EPSG:4326\", \"EPSG:27700\", always_xy=True)\n",
    "\n",
    "coords = list(zip(df['decimalLongitude'], df['decimalLatitude']))\n",
    "df['easting_ni'], df['northing_ni'] = zip(*transformer_ni.itransform(coords))\n",
    "df['easting_gb'], df['northing_gb'] = zip(*transformer_gb.itransform(coords))\n",
    "\n",
    "# Raster processing optimization\n",
    "gb_raster = 'gblcm2023_10m.tif'\n",
    "n_ireland_raster = 'nilcm2023_10m.tif'\n",
    "\n",
    "\n",
    "def get_land_cover_class(row):\n",
    "    try:\n",
    "        # Try GB raster first\n",
    "        with rasterio.open(gb_raster) as src:\n",
    "            row_idx, col_idx = src.index(row['easting_gb'], row['northing_gb'])\n",
    "            # Read a small window around the point for better performance\n",
    "            window = Window(col_idx, row_idx, 1, 1)\n",
    "            land_cover_class = src.read(1, window=window)[0, 0]\n",
    "\n",
    "            if land_cover_class == 0:  # Check NI raster if GB is 0\n",
    "                with rasterio.open(n_ireland_raster) as src_ni:\n",
    "                    row_idx, col_idx = src_ni.index(row['easting_ni'], row['northing_ni'])\n",
    "                    window = Window(col_idx, row_idx, 1, 1)\n",
    "                    land_cover_class = src_ni.read(1, window=window)[0, 0]\n",
    "\n",
    "        return land_cover_map.get(land_cover_class, \"Unknown\")\n",
    "    except Exception as e:\n",
    "        print(f\"Error processing row: {e}\")\n",
    "        return \"Unknown\"\n",
    "\n",
    "\n",
    "tqdm.pandas()\n",
    "df['Land_cover'] = df.progress_apply(get_land_cover_class, axis=1)\n"
   ],
   "metadata": {
    "collapsed": false,
    "ExecuteTime": {
     "end_time": "2025-08-05T22:12:48.923013Z",
     "start_time": "2025-08-05T22:02:04.784517Z"
    }
   },
   "id": "f25697d0f384b82c"
  },
  {
   "cell_type": "code",
   "execution_count": 6,
   "outputs": [],
   "source": [
    "df = df.dropna()\n",
    "df=df.drop(['easting_ni', 'northing_ni', 'easting_gb', 'northing_gb'],axis=1)\n",
    "# Remove where Land_cover is Unknown\n",
    "df = df[df['Land_cover'] != \"Unknown\"].reset_index(drop=True)\n",
    "df.to_csv(\"red_squirrel_inference_data_preprocessed.csv\", index=False)"
   ],
   "metadata": {
    "collapsed": false,
    "ExecuteTime": {
     "end_time": "2025-08-05T22:12:51.472424Z",
     "start_time": "2025-08-05T22:12:48.910826Z"
    }
   },
   "id": "4e81a3f51d5a0a95"
  },
  {
   "cell_type": "code",
   "execution_count": 7,
   "outputs": [
    {
     "data": {
      "text/plain": "        decimalLongitude  decimalLatitude   eventDate       BSI       LST  \\\n0              -6.347425        49.893656  2025-06-01  0.111201  0.589090   \n1              -6.321265        49.912633  2025-06-01  0.266478 -0.768278   \n2              -6.307377        49.913150  2025-06-01 -0.388154  0.591789   \n3              -6.293488        49.913666  2025-06-01 -0.750701  0.690986   \n4              -6.308177        49.922119  2025-06-01 -0.391254  0.580494   \n...                  ...              ...         ...       ...       ...   \n243512         -0.808766        60.824609  2025-06-01 -0.681831 -0.270610   \n243513         -0.790383        60.824445  2025-06-01  0.760500 -0.008581   \n243514         -0.881988        60.834217  2025-06-01 -0.554049 -0.173635   \n243515         -0.845210        60.833906  2025-06-01  0.363258 -0.309108   \n243516         -0.881674        60.843193  2025-06-01 -0.162570 -0.182422   \n\n           MNDWI      NDBI      NDSI      NDVI      NDWI  ...  \\\n0       0.204228  0.079119  0.204228 -0.021200  0.190892  ...   \n1       0.385200  0.038488  0.385200 -0.189688  0.440850  ...   \n2      -0.194084 -0.246771 -0.194084  0.478602 -0.343618  ...   \n3      -0.460432 -0.559269 -0.460432  0.903853 -0.775671  ...   \n4       0.026313 -0.792526  0.026313  0.583101 -0.254095  ...   \n...          ...       ...       ...       ...       ...  ...   \n243512 -0.918916  0.684728 -0.918916  0.526446 -0.760227  ...   \n243513  0.672034  1.106763  0.672034 -0.660900  1.390990  ...   \n243514 -0.701434  0.484046 -0.701434  0.466025 -0.605400  ...   \n243515  0.022188  1.461991  0.022188 -0.640585  0.797955  ...   \n243516 -0.233363  0.491127 -0.233363  0.179874 -0.091918  ...   \n\n        Land_cover_Inland rock  Land_cover_Littoral rock  \\\n0                            0                         0   \n1                            0                         0   \n2                            0                         0   \n3                            0                         0   \n4                            0                         0   \n...                        ...                       ...   \n243512                       0                         0   \n243513                       0                         0   \n243514                       0                         0   \n243515                       0                         0   \n243516                       0                         0   \n\n        Land_cover_Littoral sediment  Land_cover_Neutral grassland  \\\n0                                  0                             0   \n1                                  0                             0   \n2                                  0                             0   \n3                                  0                             0   \n4                                  0                             0   \n...                              ...                           ...   \n243512                             0                             0   \n243513                             0                             0   \n243514                             0                             0   \n243515                             0                             0   \n243516                             0                             0   \n\n        Land_cover_Saltmarsh  Land_cover_Saltwater  Land_cover_Suburban  \\\n0                          0                     0                    1   \n1                          0                     0                    0   \n2                          0                     0                    1   \n3                          0                     0                    0   \n4                          0                     0                    0   \n...                      ...                   ...                  ...   \n243512                     0                     0                    0   \n243513                     0                     0                    0   \n243514                     0                     0                    0   \n243515                     0                     0                    0   \n243516                     0                     0                    0   \n\n        Land_cover_Supralittoral rock  Land_cover_Supralittoral sediment  \\\n0                                   0                                  0   \n1                                   0                                  0   \n2                                   0                                  0   \n3                                   0                                  0   \n4                                   0                                  0   \n...                               ...                                ...   \n243512                              0                                  0   \n243513                              0                                  0   \n243514                              0                                  0   \n243515                              0                                  0   \n243516                              0                                  0   \n\n        Land_cover_Urban  \n0                      0  \n1                      0  \n2                      0  \n3                      0  \n4                      1  \n...                  ...  \n243512                 0  \n243513                 0  \n243514                 0  \n243515                 0  \n243516                 0  \n\n[243517 rows x 35 columns]",
      "text/html": "<div>\n<style scoped>\n    .dataframe tbody tr th:only-of-type {\n        vertical-align: middle;\n    }\n\n    .dataframe tbody tr th {\n        vertical-align: top;\n    }\n\n    .dataframe thead th {\n        text-align: right;\n    }\n</style>\n<table border=\"1\" class=\"dataframe\">\n  <thead>\n    <tr style=\"text-align: right;\">\n      <th></th>\n      <th>decimalLongitude</th>\n      <th>decimalLatitude</th>\n      <th>eventDate</th>\n      <th>BSI</th>\n      <th>LST</th>\n      <th>MNDWI</th>\n      <th>NDBI</th>\n      <th>NDSI</th>\n      <th>NDVI</th>\n      <th>NDWI</th>\n      <th>...</th>\n      <th>Land_cover_Inland rock</th>\n      <th>Land_cover_Littoral rock</th>\n      <th>Land_cover_Littoral sediment</th>\n      <th>Land_cover_Neutral grassland</th>\n      <th>Land_cover_Saltmarsh</th>\n      <th>Land_cover_Saltwater</th>\n      <th>Land_cover_Suburban</th>\n      <th>Land_cover_Supralittoral rock</th>\n      <th>Land_cover_Supralittoral sediment</th>\n      <th>Land_cover_Urban</th>\n    </tr>\n  </thead>\n  <tbody>\n    <tr>\n      <th>0</th>\n      <td>-6.347425</td>\n      <td>49.893656</td>\n      <td>2025-06-01</td>\n      <td>0.111201</td>\n      <td>0.589090</td>\n      <td>0.204228</td>\n      <td>0.079119</td>\n      <td>0.204228</td>\n      <td>-0.021200</td>\n      <td>0.190892</td>\n      <td>...</td>\n      <td>0</td>\n      <td>0</td>\n      <td>0</td>\n      <td>0</td>\n      <td>0</td>\n      <td>0</td>\n      <td>1</td>\n      <td>0</td>\n      <td>0</td>\n      <td>0</td>\n    </tr>\n    <tr>\n      <th>1</th>\n      <td>-6.321265</td>\n      <td>49.912633</td>\n      <td>2025-06-01</td>\n      <td>0.266478</td>\n      <td>-0.768278</td>\n      <td>0.385200</td>\n      <td>0.038488</td>\n      <td>0.385200</td>\n      <td>-0.189688</td>\n      <td>0.440850</td>\n      <td>...</td>\n      <td>0</td>\n      <td>0</td>\n      <td>0</td>\n      <td>0</td>\n      <td>0</td>\n      <td>0</td>\n      <td>0</td>\n      <td>0</td>\n      <td>0</td>\n      <td>0</td>\n    </tr>\n    <tr>\n      <th>2</th>\n      <td>-6.307377</td>\n      <td>49.913150</td>\n      <td>2025-06-01</td>\n      <td>-0.388154</td>\n      <td>0.591789</td>\n      <td>-0.194084</td>\n      <td>-0.246771</td>\n      <td>-0.194084</td>\n      <td>0.478602</td>\n      <td>-0.343618</td>\n      <td>...</td>\n      <td>0</td>\n      <td>0</td>\n      <td>0</td>\n      <td>0</td>\n      <td>0</td>\n      <td>0</td>\n      <td>1</td>\n      <td>0</td>\n      <td>0</td>\n      <td>0</td>\n    </tr>\n    <tr>\n      <th>3</th>\n      <td>-6.293488</td>\n      <td>49.913666</td>\n      <td>2025-06-01</td>\n      <td>-0.750701</td>\n      <td>0.690986</td>\n      <td>-0.460432</td>\n      <td>-0.559269</td>\n      <td>-0.460432</td>\n      <td>0.903853</td>\n      <td>-0.775671</td>\n      <td>...</td>\n      <td>0</td>\n      <td>0</td>\n      <td>0</td>\n      <td>0</td>\n      <td>0</td>\n      <td>0</td>\n      <td>0</td>\n      <td>0</td>\n      <td>0</td>\n      <td>0</td>\n    </tr>\n    <tr>\n      <th>4</th>\n      <td>-6.308177</td>\n      <td>49.922119</td>\n      <td>2025-06-01</td>\n      <td>-0.391254</td>\n      <td>0.580494</td>\n      <td>0.026313</td>\n      <td>-0.792526</td>\n      <td>0.026313</td>\n      <td>0.583101</td>\n      <td>-0.254095</td>\n      <td>...</td>\n      <td>0</td>\n      <td>0</td>\n      <td>0</td>\n      <td>0</td>\n      <td>0</td>\n      <td>0</td>\n      <td>0</td>\n      <td>0</td>\n      <td>0</td>\n      <td>1</td>\n    </tr>\n    <tr>\n      <th>...</th>\n      <td>...</td>\n      <td>...</td>\n      <td>...</td>\n      <td>...</td>\n      <td>...</td>\n      <td>...</td>\n      <td>...</td>\n      <td>...</td>\n      <td>...</td>\n      <td>...</td>\n      <td>...</td>\n      <td>...</td>\n      <td>...</td>\n      <td>...</td>\n      <td>...</td>\n      <td>...</td>\n      <td>...</td>\n      <td>...</td>\n      <td>...</td>\n      <td>...</td>\n      <td>...</td>\n    </tr>\n    <tr>\n      <th>243512</th>\n      <td>-0.808766</td>\n      <td>60.824609</td>\n      <td>2025-06-01</td>\n      <td>-0.681831</td>\n      <td>-0.270610</td>\n      <td>-0.918916</td>\n      <td>0.684728</td>\n      <td>-0.918916</td>\n      <td>0.526446</td>\n      <td>-0.760227</td>\n      <td>...</td>\n      <td>0</td>\n      <td>0</td>\n      <td>0</td>\n      <td>0</td>\n      <td>0</td>\n      <td>0</td>\n      <td>0</td>\n      <td>0</td>\n      <td>0</td>\n      <td>0</td>\n    </tr>\n    <tr>\n      <th>243513</th>\n      <td>-0.790383</td>\n      <td>60.824445</td>\n      <td>2025-06-01</td>\n      <td>0.760500</td>\n      <td>-0.008581</td>\n      <td>0.672034</td>\n      <td>1.106763</td>\n      <td>0.672034</td>\n      <td>-0.660900</td>\n      <td>1.390990</td>\n      <td>...</td>\n      <td>0</td>\n      <td>0</td>\n      <td>0</td>\n      <td>0</td>\n      <td>0</td>\n      <td>0</td>\n      <td>0</td>\n      <td>0</td>\n      <td>0</td>\n      <td>0</td>\n    </tr>\n    <tr>\n      <th>243514</th>\n      <td>-0.881988</td>\n      <td>60.834217</td>\n      <td>2025-06-01</td>\n      <td>-0.554049</td>\n      <td>-0.173635</td>\n      <td>-0.701434</td>\n      <td>0.484046</td>\n      <td>-0.701434</td>\n      <td>0.466025</td>\n      <td>-0.605400</td>\n      <td>...</td>\n      <td>0</td>\n      <td>0</td>\n      <td>0</td>\n      <td>0</td>\n      <td>0</td>\n      <td>0</td>\n      <td>0</td>\n      <td>0</td>\n      <td>0</td>\n      <td>0</td>\n    </tr>\n    <tr>\n      <th>243515</th>\n      <td>-0.845210</td>\n      <td>60.833906</td>\n      <td>2025-06-01</td>\n      <td>0.363258</td>\n      <td>-0.309108</td>\n      <td>0.022188</td>\n      <td>1.461991</td>\n      <td>0.022188</td>\n      <td>-0.640585</td>\n      <td>0.797955</td>\n      <td>...</td>\n      <td>0</td>\n      <td>0</td>\n      <td>0</td>\n      <td>0</td>\n      <td>0</td>\n      <td>0</td>\n      <td>0</td>\n      <td>0</td>\n      <td>0</td>\n      <td>0</td>\n    </tr>\n    <tr>\n      <th>243516</th>\n      <td>-0.881674</td>\n      <td>60.843193</td>\n      <td>2025-06-01</td>\n      <td>-0.162570</td>\n      <td>-0.182422</td>\n      <td>-0.233363</td>\n      <td>0.491127</td>\n      <td>-0.233363</td>\n      <td>0.179874</td>\n      <td>-0.091918</td>\n      <td>...</td>\n      <td>0</td>\n      <td>0</td>\n      <td>0</td>\n      <td>0</td>\n      <td>0</td>\n      <td>0</td>\n      <td>0</td>\n      <td>0</td>\n      <td>0</td>\n      <td>0</td>\n    </tr>\n  </tbody>\n</table>\n<p>243517 rows × 35 columns</p>\n</div>"
     },
     "execution_count": 7,
     "metadata": {},
     "output_type": "execute_result"
    }
   ],
   "source": [
    "df = pd.read_csv(\"red_squirrel_inference_data_preprocessed.csv\")\n",
    "df = pd.get_dummies(df, columns=['Land_cover'])\n",
    "df = df.astype({col: 'int' for col in df.select_dtypes(include='bool').columns})\n",
    "\n",
    "#read scaler\n",
    "import joblib\n",
    "scaler = joblib.load(\"red_squirrel_scaler.pkl\")\n",
    "# Scale the data\n",
    "env_vars = ['BSI', 'LST', 'MNDWI', 'NDBI', 'NDSI', 'NDVI', 'NDWI', 'SAVI', 'UI']\n",
    "df[env_vars] = scaler.transform(df[env_vars])\n",
    "# drop Unnamed: 0\n",
    "# df = df.drop(columns=['Unnamed: 0'])\n",
    "df"
   ],
   "metadata": {
    "collapsed": false,
    "ExecuteTime": {
     "end_time": "2025-08-05T22:24:25.164828Z",
     "start_time": "2025-08-05T22:24:24.197982Z"
    }
   },
   "id": "1b94ba0a91576b17"
  },
  {
   "cell_type": "code",
   "execution_count": 9,
   "outputs": [],
   "source": [
    "df.to_csv(\"red_squirrel_inference_data_preprocessed_final.csv\", index=False)"
   ],
   "metadata": {
    "collapsed": false,
    "ExecuteTime": {
     "end_time": "2025-08-05T22:26:08.397779Z",
     "start_time": "2025-08-05T22:26:05.795979Z"
    }
   },
   "id": "b31c1633ffe9110f"
  },
  {
   "cell_type": "code",
   "execution_count": 10,
   "outputs": [
    {
     "data": {
      "text/plain": "        decimalLongitude  decimalLatitude   eventDate       BSI       LST  \\\n0              -6.347425        49.893656  2025-06-01  0.111201  0.589090   \n1              -6.321265        49.912633  2025-06-01  0.266478 -0.768278   \n2              -6.307377        49.913150  2025-06-01 -0.388154  0.591789   \n3              -6.293488        49.913666  2025-06-01 -0.750701  0.690986   \n4              -6.308177        49.922119  2025-06-01 -0.391254  0.580494   \n...                  ...              ...         ...       ...       ...   \n243512         -0.808766        60.824609  2025-06-01 -0.681831 -0.270610   \n243513         -0.790383        60.824445  2025-06-01  0.760500 -0.008581   \n243514         -0.881988        60.834217  2025-06-01 -0.554049 -0.173635   \n243515         -0.845210        60.833906  2025-06-01  0.363258 -0.309108   \n243516         -0.881674        60.843193  2025-06-01 -0.162570 -0.182422   \n\n           MNDWI      NDBI      NDSI      NDVI      NDWI  ...  \\\n0       0.204228  0.079119  0.204228 -0.021200  0.190892  ...   \n1       0.385200  0.038488  0.385200 -0.189688  0.440850  ...   \n2      -0.194084 -0.246771 -0.194084  0.478602 -0.343618  ...   \n3      -0.460432 -0.559269 -0.460432  0.903853 -0.775671  ...   \n4       0.026313 -0.792526  0.026313  0.583101 -0.254095  ...   \n...          ...       ...       ...       ...       ...  ...   \n243512 -0.918916  0.684728 -0.918916  0.526446 -0.760227  ...   \n243513  0.672034  1.106763  0.672034 -0.660900  1.390990  ...   \n243514 -0.701434  0.484046 -0.701434  0.466025 -0.605400  ...   \n243515  0.022188  1.461991  0.022188 -0.640585  0.797955  ...   \n243516 -0.233363  0.491127 -0.233363  0.179874 -0.091918  ...   \n\n        Land_cover_Littoral rock  Land_cover_Littoral sediment  \\\n0                              0                             0   \n1                              0                             0   \n2                              0                             0   \n3                              0                             0   \n4                              0                             0   \n...                          ...                           ...   \n243512                         0                             0   \n243513                         0                             0   \n243514                         0                             0   \n243515                         0                             0   \n243516                         0                             0   \n\n        Land_cover_Neutral grassland  Land_cover_Saltmarsh  \\\n0                                  0                     0   \n1                                  0                     0   \n2                                  0                     0   \n3                                  0                     0   \n4                                  0                     0   \n...                              ...                   ...   \n243512                             0                     0   \n243513                             0                     0   \n243514                             0                     0   \n243515                             0                     0   \n243516                             0                     0   \n\n        Land_cover_Saltwater  Land_cover_Suburban  \\\n0                          0                    1   \n1                          0                    0   \n2                          0                    1   \n3                          0                    0   \n4                          0                    0   \n...                      ...                  ...   \n243512                     0                    0   \n243513                     0                    0   \n243514                     0                    0   \n243515                     0                    0   \n243516                     0                    0   \n\n        Land_cover_Supralittoral rock  Land_cover_Supralittoral sediment  \\\n0                                   0                                  0   \n1                                   0                                  0   \n2                                   0                                  0   \n3                                   0                                  0   \n4                                   0                                  0   \n...                               ...                                ...   \n243512                              0                                  0   \n243513                              0                                  0   \n243514                              0                                  0   \n243515                              0                                  0   \n243516                              0                                  0   \n\n        Land_cover_Urban  probability  \n0                      0     0.895362  \n1                      0     0.826407  \n2                      0     0.909158  \n3                      0     0.551159  \n4                      1     0.824247  \n...                  ...          ...  \n243512                 0     0.971142  \n243513                 0     0.429763  \n243514                 0     0.965015  \n243515                 0     0.956330  \n243516                 0     0.951044  \n\n[243517 rows x 36 columns]",
      "text/html": "<div>\n<style scoped>\n    .dataframe tbody tr th:only-of-type {\n        vertical-align: middle;\n    }\n\n    .dataframe tbody tr th {\n        vertical-align: top;\n    }\n\n    .dataframe thead th {\n        text-align: right;\n    }\n</style>\n<table border=\"1\" class=\"dataframe\">\n  <thead>\n    <tr style=\"text-align: right;\">\n      <th></th>\n      <th>decimalLongitude</th>\n      <th>decimalLatitude</th>\n      <th>eventDate</th>\n      <th>BSI</th>\n      <th>LST</th>\n      <th>MNDWI</th>\n      <th>NDBI</th>\n      <th>NDSI</th>\n      <th>NDVI</th>\n      <th>NDWI</th>\n      <th>...</th>\n      <th>Land_cover_Littoral rock</th>\n      <th>Land_cover_Littoral sediment</th>\n      <th>Land_cover_Neutral grassland</th>\n      <th>Land_cover_Saltmarsh</th>\n      <th>Land_cover_Saltwater</th>\n      <th>Land_cover_Suburban</th>\n      <th>Land_cover_Supralittoral rock</th>\n      <th>Land_cover_Supralittoral sediment</th>\n      <th>Land_cover_Urban</th>\n      <th>probability</th>\n    </tr>\n  </thead>\n  <tbody>\n    <tr>\n      <th>0</th>\n      <td>-6.347425</td>\n      <td>49.893656</td>\n      <td>2025-06-01</td>\n      <td>0.111201</td>\n      <td>0.589090</td>\n      <td>0.204228</td>\n      <td>0.079119</td>\n      <td>0.204228</td>\n      <td>-0.021200</td>\n      <td>0.190892</td>\n      <td>...</td>\n      <td>0</td>\n      <td>0</td>\n      <td>0</td>\n      <td>0</td>\n      <td>0</td>\n      <td>1</td>\n      <td>0</td>\n      <td>0</td>\n      <td>0</td>\n      <td>0.895362</td>\n    </tr>\n    <tr>\n      <th>1</th>\n      <td>-6.321265</td>\n      <td>49.912633</td>\n      <td>2025-06-01</td>\n      <td>0.266478</td>\n      <td>-0.768278</td>\n      <td>0.385200</td>\n      <td>0.038488</td>\n      <td>0.385200</td>\n      <td>-0.189688</td>\n      <td>0.440850</td>\n      <td>...</td>\n      <td>0</td>\n      <td>0</td>\n      <td>0</td>\n      <td>0</td>\n      <td>0</td>\n      <td>0</td>\n      <td>0</td>\n      <td>0</td>\n      <td>0</td>\n      <td>0.826407</td>\n    </tr>\n    <tr>\n      <th>2</th>\n      <td>-6.307377</td>\n      <td>49.913150</td>\n      <td>2025-06-01</td>\n      <td>-0.388154</td>\n      <td>0.591789</td>\n      <td>-0.194084</td>\n      <td>-0.246771</td>\n      <td>-0.194084</td>\n      <td>0.478602</td>\n      <td>-0.343618</td>\n      <td>...</td>\n      <td>0</td>\n      <td>0</td>\n      <td>0</td>\n      <td>0</td>\n      <td>0</td>\n      <td>1</td>\n      <td>0</td>\n      <td>0</td>\n      <td>0</td>\n      <td>0.909158</td>\n    </tr>\n    <tr>\n      <th>3</th>\n      <td>-6.293488</td>\n      <td>49.913666</td>\n      <td>2025-06-01</td>\n      <td>-0.750701</td>\n      <td>0.690986</td>\n      <td>-0.460432</td>\n      <td>-0.559269</td>\n      <td>-0.460432</td>\n      <td>0.903853</td>\n      <td>-0.775671</td>\n      <td>...</td>\n      <td>0</td>\n      <td>0</td>\n      <td>0</td>\n      <td>0</td>\n      <td>0</td>\n      <td>0</td>\n      <td>0</td>\n      <td>0</td>\n      <td>0</td>\n      <td>0.551159</td>\n    </tr>\n    <tr>\n      <th>4</th>\n      <td>-6.308177</td>\n      <td>49.922119</td>\n      <td>2025-06-01</td>\n      <td>-0.391254</td>\n      <td>0.580494</td>\n      <td>0.026313</td>\n      <td>-0.792526</td>\n      <td>0.026313</td>\n      <td>0.583101</td>\n      <td>-0.254095</td>\n      <td>...</td>\n      <td>0</td>\n      <td>0</td>\n      <td>0</td>\n      <td>0</td>\n      <td>0</td>\n      <td>0</td>\n      <td>0</td>\n      <td>0</td>\n      <td>1</td>\n      <td>0.824247</td>\n    </tr>\n    <tr>\n      <th>...</th>\n      <td>...</td>\n      <td>...</td>\n      <td>...</td>\n      <td>...</td>\n      <td>...</td>\n      <td>...</td>\n      <td>...</td>\n      <td>...</td>\n      <td>...</td>\n      <td>...</td>\n      <td>...</td>\n      <td>...</td>\n      <td>...</td>\n      <td>...</td>\n      <td>...</td>\n      <td>...</td>\n      <td>...</td>\n      <td>...</td>\n      <td>...</td>\n      <td>...</td>\n      <td>...</td>\n    </tr>\n    <tr>\n      <th>243512</th>\n      <td>-0.808766</td>\n      <td>60.824609</td>\n      <td>2025-06-01</td>\n      <td>-0.681831</td>\n      <td>-0.270610</td>\n      <td>-0.918916</td>\n      <td>0.684728</td>\n      <td>-0.918916</td>\n      <td>0.526446</td>\n      <td>-0.760227</td>\n      <td>...</td>\n      <td>0</td>\n      <td>0</td>\n      <td>0</td>\n      <td>0</td>\n      <td>0</td>\n      <td>0</td>\n      <td>0</td>\n      <td>0</td>\n      <td>0</td>\n      <td>0.971142</td>\n    </tr>\n    <tr>\n      <th>243513</th>\n      <td>-0.790383</td>\n      <td>60.824445</td>\n      <td>2025-06-01</td>\n      <td>0.760500</td>\n      <td>-0.008581</td>\n      <td>0.672034</td>\n      <td>1.106763</td>\n      <td>0.672034</td>\n      <td>-0.660900</td>\n      <td>1.390990</td>\n      <td>...</td>\n      <td>0</td>\n      <td>0</td>\n      <td>0</td>\n      <td>0</td>\n      <td>0</td>\n      <td>0</td>\n      <td>0</td>\n      <td>0</td>\n      <td>0</td>\n      <td>0.429763</td>\n    </tr>\n    <tr>\n      <th>243514</th>\n      <td>-0.881988</td>\n      <td>60.834217</td>\n      <td>2025-06-01</td>\n      <td>-0.554049</td>\n      <td>-0.173635</td>\n      <td>-0.701434</td>\n      <td>0.484046</td>\n      <td>-0.701434</td>\n      <td>0.466025</td>\n      <td>-0.605400</td>\n      <td>...</td>\n      <td>0</td>\n      <td>0</td>\n      <td>0</td>\n      <td>0</td>\n      <td>0</td>\n      <td>0</td>\n      <td>0</td>\n      <td>0</td>\n      <td>0</td>\n      <td>0.965015</td>\n    </tr>\n    <tr>\n      <th>243515</th>\n      <td>-0.845210</td>\n      <td>60.833906</td>\n      <td>2025-06-01</td>\n      <td>0.363258</td>\n      <td>-0.309108</td>\n      <td>0.022188</td>\n      <td>1.461991</td>\n      <td>0.022188</td>\n      <td>-0.640585</td>\n      <td>0.797955</td>\n      <td>...</td>\n      <td>0</td>\n      <td>0</td>\n      <td>0</td>\n      <td>0</td>\n      <td>0</td>\n      <td>0</td>\n      <td>0</td>\n      <td>0</td>\n      <td>0</td>\n      <td>0.956330</td>\n    </tr>\n    <tr>\n      <th>243516</th>\n      <td>-0.881674</td>\n      <td>60.843193</td>\n      <td>2025-06-01</td>\n      <td>-0.162570</td>\n      <td>-0.182422</td>\n      <td>-0.233363</td>\n      <td>0.491127</td>\n      <td>-0.233363</td>\n      <td>0.179874</td>\n      <td>-0.091918</td>\n      <td>...</td>\n      <td>0</td>\n      <td>0</td>\n      <td>0</td>\n      <td>0</td>\n      <td>0</td>\n      <td>0</td>\n      <td>0</td>\n      <td>0</td>\n      <td>0</td>\n      <td>0.951044</td>\n    </tr>\n  </tbody>\n</table>\n<p>243517 rows × 36 columns</p>\n</div>"
     },
     "execution_count": 10,
     "metadata": {},
     "output_type": "execute_result"
    }
   ],
   "source": [
    "df = pd.read_csv(\"red_squirrel_inference_data_preprocessed_final.csv\")\n",
    "#read model from brown_hare_model.pkl\n",
    "import joblib\n",
    "model = joblib.load(\"red_squirrel_model.pkl\")\n",
    "# predict_proba\n",
    "probabilities = model.predict_proba(df.drop(columns=['decimalLatitude', 'decimalLongitude', 'eventDate']))\n",
    "# add probabilities to df\n",
    "df['probability'] = probabilities[:, 1]  # Assuming the second column is the positive class\n",
    "df.to_csv(\"red_squirrel_results.csv\", index=False)\n",
    "df"
   ],
   "metadata": {
    "collapsed": false,
    "ExecuteTime": {
     "end_time": "2025-08-05T22:47:59.051745Z",
     "start_time": "2025-08-05T22:47:55.235300Z"
    }
   },
   "id": "9e2c16cf084cee16"
  },
  {
   "cell_type": "code",
   "execution_count": null,
   "outputs": [],
   "source": [],
   "metadata": {
    "collapsed": false
   },
   "id": "29368ae50ea2e6e1"
  }
 ],
 "metadata": {
  "kernelspec": {
   "display_name": "Python 3",
   "language": "python",
   "name": "python3"
  },
  "language_info": {
   "codemirror_mode": {
    "name": "ipython",
    "version": 2
   },
   "file_extension": ".py",
   "mimetype": "text/x-python",
   "name": "python",
   "nbconvert_exporter": "python",
   "pygments_lexer": "ipython2",
   "version": "2.7.6"
  }
 },
 "nbformat": 4,
 "nbformat_minor": 5
}
