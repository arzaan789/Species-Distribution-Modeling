{
 "cells": [
  {
   "cell_type": "code",
   "execution_count": 18,
   "outputs": [
    {
     "name": "stderr",
     "output_type": "stream",
     "text": [
      "/var/folders/0n/sggn66691kd6g5mtyzpq2hv80000gn/T/ipykernel_54338/1213105582.py:11: DeprecationWarning: The 'unary_union' attribute is deprecated, use the 'union_all()' method instead.\n",
      "  uk_union = uk.geometry.unary_union\n"
     ]
    },
    {
     "name": "stdout",
     "output_type": "stream",
     "text": [
      "Generating points...\n"
     ]
    },
    {
     "name": "stderr",
     "output_type": "stream",
     "text": [
      "100%|██████████| 797040/797040 [00:04<00:00, 182546.54it/s]\n"
     ]
    },
    {
     "name": "stdout",
     "output_type": "stream",
     "text": [
      "Filtering points inside UK...\n",
      "\n",
      "Total grid points: 797,040\n",
      "Points inside UK: 244,359\n"
     ]
    }
   ],
   "source": [
    "import geopandas as gpd\n",
    "import numpy as np\n",
    "from shapely.geometry import Point\n",
    "from tqdm import tqdm\n",
    "\n",
    "# Load UK shapefile (EPSG:27700 - British National Grid)\n",
    "uk = gpd.read_file(\"data/CTRY_DEC_2024_UK_BFC.shp\")\n",
    "uk = uk[uk['CTRY24NM'].isin(['England', 'Scotland', 'Wales', 'Northern Ireland'])]\n",
    "\n",
    "# Merge into a single MultiPolygon (for clean join)\n",
    "uk_union = uk.geometry.unary_union\n",
    "uk_gdf = gpd.GeoDataFrame(geometry=[uk_union], crs='EPSG:27700')\n",
    "\n",
    "# Get bounds\n",
    "minx, miny, maxx, maxy = uk_union.bounds\n",
    "\n",
    "# Grid spacing in meters\n",
    "spacing = 1000\n",
    "\n",
    "# Create grid of points\n",
    "x_coords = np.arange(minx, maxx, spacing)\n",
    "y_coords = np.arange(miny, maxy, spacing)\n",
    "\n",
    "# Generate all combinations using numpy meshgrid\n",
    "xx, yy = np.meshgrid(x_coords, y_coords)\n",
    "xx_flat = xx.ravel()\n",
    "yy_flat = yy.ravel()\n",
    "\n",
    "# Progress bar while building points\n",
    "print(\"Generating points...\")\n",
    "points = [Point(x, y) for x, y in tqdm(zip(xx_flat, yy_flat), total=len(xx_flat))]\n",
    "\n",
    "# Convert to GeoDataFrame\n",
    "grid_gdf = gpd.GeoDataFrame(geometry=points, crs='EPSG:27700')\n",
    "\n",
    "# Spatial join to keep only points within UK\n",
    "print(\"Filtering points inside UK...\")\n",
    "points_within_uk = gpd.sjoin(grid_gdf, uk_gdf, predicate='within', how='inner')\n",
    "\n",
    "# Summary\n",
    "print(f\"\\nTotal grid points: {len(grid_gdf):,}\")\n",
    "print(f\"Points inside UK: {len(points_within_uk):,}\")\n"
   ],
   "metadata": {
    "collapsed": false,
    "ExecuteTime": {
     "end_time": "2025-08-05T00:57:02.314912Z",
     "start_time": "2025-08-05T00:56:17.791133Z"
    }
   },
   "id": "b53a350496278e81"
  },
  {
   "cell_type": "code",
   "execution_count": 19,
   "outputs": [
    {
     "name": "stdout",
     "output_type": "stream",
     "text": [
      "Saved to 'uk_grid_1000m.csv'\n"
     ]
    }
   ],
   "source": [
    "# Reproject to WGS84 (EPSG:4326) if you want lat/lon in the CSV\n",
    "points_latlon = points_within_uk.to_crs('EPSG:4326')\n",
    "\n",
    "# Extract lat/lon from geometry\n",
    "points_latlon['longitude'] = points_latlon.geometry.x\n",
    "points_latlon['latitude'] = points_latlon.geometry.y\n",
    "\n",
    "# Save selected columns to CSV\n",
    "points_latlon[['longitude', 'latitude']].to_csv(\"uk_grid_1000m.csv\", index=False)\n",
    "\n",
    "print(\"Saved to 'uk_grid_1000m.csv'\")\n"
   ],
   "metadata": {
    "collapsed": false,
    "ExecuteTime": {
     "end_time": "2025-08-05T00:57:04.498857Z",
     "start_time": "2025-08-05T00:57:02.324554Z"
    }
   },
   "id": "26c4607822aadfbd"
  },
  {
   "cell_type": "code",
   "execution_count": null,
   "outputs": [],
   "source": [],
   "metadata": {
    "collapsed": false
   },
   "id": "5fef19f7d9c23474"
  }
 ],
 "metadata": {
  "kernelspec": {
   "display_name": "Python 3",
   "language": "python",
   "name": "python3"
  },
  "language_info": {
   "codemirror_mode": {
    "name": "ipython",
    "version": 2
   },
   "file_extension": ".py",
   "mimetype": "text/x-python",
   "name": "python",
   "nbconvert_exporter": "python",
   "pygments_lexer": "ipython2",
   "version": "2.7.6"
  }
 },
 "nbformat": 4,
 "nbformat_minor": 5
}
