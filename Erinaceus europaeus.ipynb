{
 "cells": [
  {
   "cell_type": "code",
   "execution_count": 1,
   "outputs": [],
   "source": [
    "import ee\n",
    "\n",
    "# Trigger the authentication flow.\n",
    "# ee.Authenticate()\n",
    "\n",
    "ee.Initialize(project='ee-arzaaan789')"
   ],
   "metadata": {
    "collapsed": false,
    "ExecuteTime": {
     "end_time": "2025-08-05T23:31:59.265936Z",
     "start_time": "2025-08-05T23:31:57.414639Z"
    }
   },
   "id": "6fbf115adb971a07"
  },
  {
   "cell_type": "code",
   "execution_count": 2,
   "outputs": [
    {
     "name": "stderr",
     "output_type": "stream",
     "text": [
      "/var/folders/0n/sggn66691kd6g5mtyzpq2hv80000gn/T/ipykernel_84624/233028871.py:4: DtypeWarning: Columns (2,10,16,29,36,37,38,39,40,41,44,45,46,48) have mixed types. Specify dtype option on import or set low_memory=False.\n",
      "  df = pd.read_csv(\"Erinaceus europaeus.csv\", delimiter='\\t')\n"
     ]
    }
   ],
   "source": [
    "import pandas as pd\n",
    "from tqdm import tqdm\n",
    "\n",
    "df = pd.read_csv(\"Erinaceus europaeus.csv\", delimiter='\\t')\n",
    "df = df[df[\"occurrenceStatus\"] == \"PRESENT\"]\n",
    "df = df[df['year']>=2022]\n",
    "# df['eventDate'] = df['eventDate'].str.replace('/','')\n",
    "df['eventDate'] = pd.to_datetime(df['eventDate'], format='%Y-%m-%d', errors='coerce')\n",
    "df = df[['species', 'decimalLatitude', 'decimalLongitude', 'eventDate']]\n",
    "df = df.dropna().reset_index(drop=True)"
   ],
   "metadata": {
    "collapsed": false,
    "ExecuteTime": {
     "end_time": "2025-08-05T23:32:02.405300Z",
     "start_time": "2025-08-05T23:31:59.267550Z"
    }
   },
   "id": "initial_id"
  },
  {
   "cell_type": "code",
   "execution_count": 3,
   "outputs": [
    {
     "name": "stderr",
     "output_type": "stream",
     "text": [
      "Processing batches: 100%|██████████| 924/924 [2:02:45<00:00,  7.97s/it]  \n"
     ]
    },
    {
     "name": "stdout",
     "output_type": "stream",
     "text": [
      "               species  decimalLatitude  decimalLongitude  eventDate  \\\n",
      "0  Erinaceus europaeus        52.835848         -0.947492 2022-06-19   \n",
      "1  Erinaceus europaeus        52.818132         -0.977597 2023-05-13   \n",
      "2  Erinaceus europaeus        52.689385         -0.684702 2022-06-12   \n",
      "3  Erinaceus europaeus        52.727454         -0.890871 2022-02-25   \n",
      "4  Erinaceus europaeus        52.710769         -1.039317 2022-07-13   \n",
      "\n",
      "        BSI         LST     MNDWI      NDBI      NDSI      NDVI      NDWI  \\\n",
      "0 -0.618472  297.235328 -0.406983 -0.266568 -0.406983  0.660731 -0.596190   \n",
      "1 -0.787202  293.872242 -0.478050 -0.418311 -0.478050  0.824125 -0.746002   \n",
      "2 -0.743518  294.579695 -0.451649 -0.387726 -0.451649  0.773335 -0.715819   \n",
      "3 -0.650823  282.179633 -0.510202 -0.118358 -0.510202  0.610773 -0.582729   \n",
      "4 -0.679126  304.672511 -0.561134 -0.144483 -0.561134  0.641981 -0.652315   \n",
      "\n",
      "       SAVI        UI  \n",
      "0  0.991003  0.266568  \n",
      "1  1.236058  0.418311  \n",
      "2  1.159877  0.387726  \n",
      "3  0.916034  0.118358  \n",
      "4  0.962844  0.144483  \n"
     ]
    }
   ],
   "source": [
    "import ee\n",
    "import pandas as pd\n",
    "from datetime import datetime, timedelta\n",
    "from tqdm import tqdm\n",
    "\n",
    "# ee.Initialize()\n",
    "\n",
    "# Your dataframe 'df' must have columns: decimalLongitude, decimalLatitude\n",
    "# Example: df = pd.read_csv(\"Erinaceus europaeus.csv\", delimiter='\\t')\n",
    "\n",
    "def create_aoi(lon, lat, box_size_km=1):\n",
    "    \"\"\"Create approx 1km x 1km square polygon around lon, lat.\"\"\"\n",
    "    half_side_deg = box_size_km / 111.32 / 2  # Rough approx degrees per km\n",
    "\n",
    "    coords = [\n",
    "        [lon - half_side_deg, lat - half_side_deg],\n",
    "        [lon + half_side_deg, lat - half_side_deg],\n",
    "        [lon + half_side_deg, lat + half_side_deg],\n",
    "        [lon - half_side_deg, lat + half_side_deg],\n",
    "        [lon - half_side_deg, lat - half_side_deg]\n",
    "    ]\n",
    "    return ee.Geometry.Polygon(coords)\n",
    "\n",
    "def compute_all_indices(feature, start_date, end_date):\n",
    "    \"\"\"Compute spectral indices and LST for one EE Feature (with AOI geometry).\"\"\"\n",
    "    aoi = feature.geometry()\n",
    "\n",
    "    s2 = (ee.ImageCollection(\"COPERNICUS/S2_SR_HARMONIZED\")\n",
    "          .filterBounds(aoi)\n",
    "          .filterDate(start_date, end_date)\n",
    "          .sort('CLOUDY_PIXEL_PERCENTAGE')\n",
    "          .first())\n",
    "    s2 = ee.Image(s2).clip(aoi)\n",
    "\n",
    "    blue = s2.select('B2')\n",
    "    green = s2.select('B3')\n",
    "    red = s2.select('B4')\n",
    "    nir = s2.select('B8')\n",
    "    swir = s2.select('B11')\n",
    "\n",
    "    L = 0.5  # SAVI constant\n",
    "\n",
    "    ndvi = nir.subtract(red).divide(nir.add(red)).rename('NDVI')\n",
    "    ndwi = green.subtract(nir).divide(green.add(nir)).rename('NDWI')\n",
    "    ndbi = swir.subtract(nir).divide(swir.add(nir)).rename('NDBI')\n",
    "    savi = nir.subtract(red).divide(nir.add(red).add(L)).multiply(1 + L).rename('SAVI')\n",
    "    mndwi = green.subtract(swir).divide(green.add(swir)).rename('MNDWI')\n",
    "    ndsi = green.subtract(swir).divide(green.add(swir)).rename('NDSI')\n",
    "    bsi = (red.add(blue).subtract(nir.add(swir))).divide(red.add(blue).add(nir).add(swir)).rename('BSI')\n",
    "    ui = nir.subtract(swir).divide(nir.add(swir)).rename('UI')\n",
    "\n",
    "    reducers = ee.Reducer.mean()\n",
    "    scale_10m = 1000\n",
    "\n",
    "    ndvi_mean = ndvi.reduceRegion(reducers, aoi, scale_10m).get('NDVI')\n",
    "    ndwi_mean = ndwi.reduceRegion(reducers, aoi, scale_10m).get('NDWI')\n",
    "    ndbi_mean = ndbi.reduceRegion(reducers, aoi, scale_10m).get('NDBI')\n",
    "    savi_mean = savi.reduceRegion(reducers, aoi, scale_10m).get('SAVI')\n",
    "    mndwi_mean = mndwi.reduceRegion(reducers, aoi, scale_10m).get('MNDWI')\n",
    "    ndsi_mean = ndsi.reduceRegion(reducers, aoi, scale_10m).get('NDSI')\n",
    "    bsi_mean = bsi.reduceRegion(reducers, aoi, scale_10m).get('BSI')\n",
    "    ui_mean = ui.reduceRegion(reducers, aoi, scale_10m).get('UI')\n",
    "\n",
    "    # MODIS LST dataset\n",
    "    modis = (ee.ImageCollection(\"MODIS/061/MOD11A1\")\n",
    "             .filterBounds(aoi)\n",
    "             .filterDate(start_date, end_date)\n",
    "             .select('LST_Day_1km'))\n",
    "\n",
    "    lst_mean_img = modis.mean().multiply(0.02).clip(aoi)\n",
    "\n",
    "    lst_mean = lst_mean_img.reduceRegion(\n",
    "        reducer=ee.Reducer.mean(),\n",
    "        geometry=aoi,\n",
    "        scale=1000\n",
    "    ).get('LST_Day_1km')\n",
    "\n",
    "    return feature.set({\n",
    "        'NDVI': ndvi_mean,\n",
    "        'NDWI': ndwi_mean,\n",
    "        'NDBI': ndbi_mean,\n",
    "        'SAVI': savi_mean,\n",
    "        'MNDWI': mndwi_mean,\n",
    "        'NDSI': ndsi_mean,\n",
    "        'BSI': bsi_mean,\n",
    "        'UI': ui_mean,\n",
    "        'LST': lst_mean\n",
    "    })\n",
    "\n",
    "# Split df into batches\n",
    "batch_size = 50\n",
    "batches = [df.iloc[i:i+batch_size] for i in range(0, len(df), batch_size)]\n",
    "\n",
    "results_list = []\n",
    "\n",
    "index_names = ['NDVI', 'NDWI', 'NDBI', 'SAVI', 'MNDWI', 'NDSI', 'BSI', 'UI', 'LST']\n",
    "\n",
    "for batch in tqdm(batches, desc=\"Processing batches\"):\n",
    "    features = []\n",
    "    batch_indices = []\n",
    "    feature_metadata = {}\n",
    "\n",
    "    for idx, row in batch.iterrows():\n",
    "        \n",
    "        aoi = create_aoi(row['decimalLongitude'], row['decimalLatitude'])\n",
    "        feature = ee.Feature(aoi).set('index', idx)\n",
    "        features.append(feature)\n",
    "        batch_indices.append(idx)  # Save the original index\n",
    "        \n",
    "        event_date = row['eventDate']\n",
    "        start_date = (event_date - timedelta(days=15)).strftime('%Y-%m-%d')\n",
    "        end_date = (event_date + timedelta(days=15)).strftime('%Y-%m-%d')\n",
    "        feature_metadata[idx] = (start_date, end_date)\n",
    "\n",
    "    # Create a FeatureCollection from the list of features\n",
    "    fc = ee.FeatureCollection(features)\n",
    "    \n",
    "    # Define wrapper for map to inject per-feature dates\n",
    "    def map_with_dates(f):\n",
    "        idx = f.get('index')\n",
    "        # Use dictionary lookup to get dates for this feature\n",
    "        date_dict = ee.Dictionary(ee.Dictionary(feature_metadata))\n",
    "        dates = ee.List(date_dict.get(ee.Number(idx)))\n",
    "        return compute_all_indices(f, dates.get(0), dates.get(1))\n",
    "\n",
    "    try:\n",
    "        result_fc = fc.map(map_with_dates)\n",
    "        results = result_fc.getInfo()\n",
    "\n",
    "        rows = []\n",
    "        for f in results['features']:\n",
    "            props = f['properties']\n",
    "            rows.append(props)\n",
    "\n",
    "    except Exception as e:\n",
    "        print(f\"Error processing batch starting at index {batch.index[0]}: {e}\")\n",
    "        # If there's an error, create placeholder rows with None\n",
    "        rows = [{'index': i, **{name: None for name in index_names}} for i in batch_indices]\n",
    "\n",
    "    batch_results_df = pd.DataFrame(rows).sort_values('index').reset_index(drop=True)\n",
    "    results_list.append(batch_results_df)\n",
    "\n",
    "# Concatenate all batches and sort by original index\n",
    "all_results_df = pd.concat(results_list).sort_values('index').reset_index(drop=True)\n",
    "\n",
    "# Merge with original df\n",
    "df_final = pd.concat([df.reset_index(drop=True), all_results_df.drop(columns=['index'])], axis=1)\n",
    "\n",
    "print(df_final.head())\n"
   ],
   "metadata": {
    "collapsed": false,
    "ExecuteTime": {
     "end_time": "2025-08-06T01:34:48.375528Z",
     "start_time": "2025-08-05T23:32:02.421966Z"
    }
   },
   "id": "a6493957d4be9f9d"
  },
  {
   "cell_type": "code",
   "execution_count": 4,
   "outputs": [
    {
     "name": "stderr",
     "output_type": "stream",
     "text": [
      "/var/folders/0n/sggn66691kd6g5mtyzpq2hv80000gn/T/ipykernel_84624/3683829675.py:7: DtypeWarning: Columns (10,16,39,41,45,46,48) have mixed types. Specify dtype option on import or set low_memory=False.\n",
      "  badgers = pd.read_csv(\"Meles meles.csv\", delimiter='\\t')\n",
      "/var/folders/0n/sggn66691kd6g5mtyzpq2hv80000gn/T/ipykernel_84624/3683829675.py:14: DtypeWarning: Columns (2,10,36,38,39,41,45,48) have mixed types. Specify dtype option on import or set low_memory=False.\n",
      "  ground_beetles = pd.read_csv(\"ground_beetles.csv\", delimiter='\\t')\n"
     ]
    }
   ],
   "source": [
    "df_final.to_csv(\"hedgehog_full_data.csv\", index=False)\n",
    "df = pd.read_csv(\"hedgehog_full_data.csv\")\n",
    "df['eventDate'] = pd.to_datetime(df['eventDate'], format='%Y-%m-%d', errors='coerce')\n",
    "\n",
    "df = df.dropna().reset_index(drop=True)\n",
    "\n",
    "badgers = pd.read_csv(\"Meles meles.csv\", delimiter='\\t')\n",
    "badgers = badgers[badgers[\"occurrenceStatus\"] == \"PRESENT\"]\n",
    "badgers = badgers[badgers['year']>=2022]\n",
    "badgers['eventDate'] = pd.to_datetime(badgers['eventDate'], format='%Y-%m-%d', errors='coerce')\n",
    "badgers = badgers[['species', 'decimalLatitude', 'decimalLongitude', 'eventDate']]\n",
    "badgers = badgers.dropna().reset_index(drop=True)\n",
    "\n",
    "ground_beetles = pd.read_csv(\"ground_beetles.csv\", delimiter='\\t')\n",
    "ground_beetles = ground_beetles[ground_beetles[\"occurrenceStatus\"] == \"PRESENT\"]\n",
    "ground_beetles = ground_beetles[ground_beetles['year']>=2022]\n",
    "ground_beetles['eventDate'] = pd.to_datetime(ground_beetles['eventDate'], format='%Y-%m-%d', errors='coerce')\n",
    "ground_beetles = ground_beetles[['species', 'decimalLatitude', 'decimalLongitude', 'eventDate']]\n",
    "ground_beetles = ground_beetles.dropna().reset_index(drop=True)"
   ],
   "metadata": {
    "collapsed": false,
    "ExecuteTime": {
     "end_time": "2025-08-06T01:34:50.539136Z",
     "start_time": "2025-08-06T01:34:48.373152Z"
    }
   },
   "id": "dfa3f8fbd86b40e"
  },
  {
   "cell_type": "code",
   "execution_count": 5,
   "outputs": [
    {
     "name": "stderr",
     "output_type": "stream",
     "text": [
      "100%|██████████| 45936/45936 [00:03<00:00, 11838.65it/s]\n"
     ]
    }
   ],
   "source": [
    "import pandas as pd\n",
    "import numpy as np\n",
    "from sklearn.neighbors import BallTree\n",
    "from tqdm import tqdm\n",
    "\n",
    "# Convert lat/lon to radians for BallTree\n",
    "hedgehog_coords = np.deg2rad(df[['decimalLatitude', 'decimalLongitude']].values)\n",
    "badger_coords = np.deg2rad(badgers[['decimalLatitude', 'decimalLongitude']].values)\n",
    "ground_beetles_coords = np.deg2rad(ground_beetles[['decimalLatitude', 'decimalLongitude']].values)\n",
    "\n",
    "# Build BallTrees\n",
    "tree_badger = BallTree(badger_coords, metric='haversine')\n",
    "tree_ground_beetles = BallTree(ground_beetles_coords, metric='haversine')\n",
    "\n",
    "# 1 km radius in radians\n",
    "radius = 1 / 6371.0\n",
    "\n",
    "# Initialize presence columns\n",
    "df['badger_presence'] = 0\n",
    "df['ground_beetles_presence'] = 0\n",
    "\n",
    "# Iterate through each hedgehog point with tqdm for progress tracking\n",
    "for i in tqdm(range(len(df))):\n",
    "    point = hedgehog_coords[i].reshape(1, -1)\n",
    "    event_month = df.loc[i, 'eventDate'].month\n",
    "    event_year = df.loc[i, 'eventDate'].year\n",
    "\n",
    "    # BADGERS\n",
    "    idxs = tree_badger.query_radius(point, r=radius)[0]\n",
    "    for j in idxs:\n",
    "        badger_date = badgers.loc[j, 'eventDate']\n",
    "        if badger_date.month == event_month and badger_date.year == event_year:\n",
    "            df.at[i, 'badger_presence'] = 1\n",
    "            break  # Found at least one match, no need to check further\n",
    "\n",
    "    # GROUND BEETLES\n",
    "    idxs = tree_ground_beetles.query_radius(point, r=radius)[0]\n",
    "    for j in idxs:\n",
    "        beetle_date = ground_beetles.loc[j, 'eventDate']\n",
    "        if beetle_date.month == event_month and beetle_date.year == event_year:\n",
    "            df.at[i, 'ground_beetles_presence'] = 1\n",
    "            break"
   ],
   "metadata": {
    "collapsed": false,
    "ExecuteTime": {
     "end_time": "2025-08-06T01:34:55.294902Z",
     "start_time": "2025-08-06T01:34:50.540634Z"
    }
   },
   "id": "e4d047d447e2eac8"
  },
  {
   "cell_type": "code",
   "execution_count": 6,
   "outputs": [
    {
     "name": "stderr",
     "output_type": "stream",
     "text": [
      "  0%|          | 2/17350 [00:00<44:55,  6.44it/s]"
     ]
    },
    {
     "name": "stdout",
     "output_type": "stream",
     "text": [
      "[TILE ERROR] No data elements in server response. Check query location/filters and log. — bbox: (np.float64(-7.8687), np.float64(54.483999999999995), np.float64(-7.8469999999999995), np.float64(54.497))\n"
     ]
    },
    {
     "name": "stderr",
     "output_type": "stream",
     "text": [
      "  0%|          | 60/17350 [00:23<1:26:42,  3.32it/s] "
     ]
    },
    {
     "name": "stdout",
     "output_type": "stream",
     "text": [
      "[TILE ERROR] Graph contains no edges. — bbox: (np.float64(-7.2406999999999995), np.float64(54.74499999999999), np.float64(-7.218999999999999), np.float64(54.757999999999996))\n"
     ]
    },
    {
     "name": "stderr",
     "output_type": "stream",
     "text": [
      "  1%|▏         | 233/17350 [01:48<11:18:35,  2.38s/it]"
     ]
    },
    {
     "name": "stdout",
     "output_type": "stream",
     "text": [
      "[TILE ERROR] Found no graph nodes within the requested polygon. — bbox: (np.float64(-6.2829999999999995), np.float64(55.68999999999999), np.float64(-6.261299999999999), np.float64(55.702999999999996))\n"
     ]
    },
    {
     "name": "stderr",
     "output_type": "stream",
     "text": [
      "  2%|▏         | 263/17350 [03:02<9:24:04,  1.98s/it] "
     ]
    },
    {
     "name": "stdout",
     "output_type": "stream",
     "text": [
      "[TILE ERROR] Found no graph nodes within the requested polygon. — bbox: (np.float64(-6.2359), np.float64(55.653999999999996), np.float64(-6.214199999999999), np.float64(55.667))\n"
     ]
    },
    {
     "name": "stderr",
     "output_type": "stream",
     "text": [
      "  2%|▏         | 298/17350 [04:19<7:46:34,  1.64s/it] "
     ]
    },
    {
     "name": "stdout",
     "output_type": "stream",
     "text": [
      "[TILE ERROR] Found no graph nodes within the requested polygon. — bbox: (np.float64(-6.1574), np.float64(56.46399999999999), np.float64(-6.135699999999999), np.float64(56.477))\n"
     ]
    },
    {
     "name": "stderr",
     "output_type": "stream",
     "text": [
      "  3%|▎         | 474/17350 [11:17<11:27:33,  2.44s/it]"
     ]
    },
    {
     "name": "stdout",
     "output_type": "stream",
     "text": [
      "[TILE ERROR] Found no graph nodes within the requested polygon. — bbox: (np.float64(-5.8591), np.float64(54.22299999999999), np.float64(-5.8374), np.float64(54.236))\n"
     ]
    },
    {
     "name": "stderr",
     "output_type": "stream",
     "text": [
      "  3%|▎         | 515/17350 [12:37<7:47:46,  1.67s/it] "
     ]
    },
    {
     "name": "stdout",
     "output_type": "stream",
     "text": [
      "[TILE ERROR] Found no graph nodes within the requested polygon. — bbox: (np.float64(-5.811999999999999), np.float64(57.19299999999999), np.float64(-5.790299999999999), np.float64(57.205999999999996))\n"
     ]
    },
    {
     "name": "stderr",
     "output_type": "stream",
     "text": [
      "  4%|▎         | 610/17350 [15:30<11:16:31,  2.42s/it]"
     ]
    },
    {
     "name": "stdout",
     "output_type": "stream",
     "text": [
      "[TILE ERROR] Graph contains no edges. — bbox: (np.float64(-5.576499999999999), np.float64(56.22999999999999), np.float64(-5.554799999999999), np.float64(56.242999999999995))\n"
     ]
    },
    {
     "name": "stderr",
     "output_type": "stream",
     "text": [
      "  4%|▎         | 636/17350 [16:11<3:17:19,  1.41it/s] "
     ]
    },
    {
     "name": "stdout",
     "output_type": "stream",
     "text": [
      "[TILE ERROR] Graph contains no edges. — bbox: (np.float64(-5.4822999999999995), np.float64(56.27499999999999), np.float64(-5.4605999999999995), np.float64(56.288))\n"
     ]
    },
    {
     "name": "stderr",
     "output_type": "stream",
     "text": [
      "  4%|▎         | 637/17350 [16:13<4:24:25,  1.05it/s]"
     ]
    },
    {
     "name": "stdout",
     "output_type": "stream",
     "text": [
      "[TILE ERROR] Found no graph nodes within the requested polygon. — bbox: (np.float64(-5.4822999999999995), np.float64(56.28399999999999), np.float64(-5.4605999999999995), np.float64(56.297))\n"
     ]
    },
    {
     "name": "stderr",
     "output_type": "stream",
     "text": [
      "  4%|▍         | 668/17350 [17:09<6:57:27,  1.50s/it] "
     ]
    },
    {
     "name": "stdout",
     "output_type": "stream",
     "text": [
      "[TILE ERROR] Found no graph nodes within the requested polygon. — bbox: (np.float64(-5.3096), np.float64(50.05599999999999), np.float64(-5.2879), np.float64(50.068999999999996))\n"
     ]
    },
    {
     "name": "stderr",
     "output_type": "stream",
     "text": [
      "  4%|▍         | 677/17350 [17:28<9:29:54,  2.05s/it] "
     ]
    },
    {
     "name": "stdout",
     "output_type": "stream",
     "text": [
      "[TILE ERROR] No data elements in server response. Check query location/filters and log. — bbox: (np.float64(-5.2939), np.float64(57.21099999999999), np.float64(-5.2722), np.float64(57.224))\n"
     ]
    },
    {
     "name": "stderr",
     "output_type": "stream",
     "text": [
      "  4%|▍         | 728/17350 [19:09<6:16:16,  1.36s/it] "
     ]
    },
    {
     "name": "stdout",
     "output_type": "stream",
     "text": [
      "[TILE ERROR] Graph contains no edges. — bbox: (np.float64(-5.1682999999999995), np.float64(56.355999999999995), np.float64(-5.146599999999999), np.float64(56.369))\n"
     ]
    },
    {
     "name": "stderr",
     "output_type": "stream",
     "text": [
      "  4%|▍         | 741/17350 [19:32<6:31:22,  1.41s/it] "
     ]
    },
    {
     "name": "stdout",
     "output_type": "stream",
     "text": [
      "[TILE ERROR] Found no graph nodes within the requested polygon. — bbox: (np.float64(-5.1212), np.float64(50.09199999999999), np.float64(-5.099499999999999), np.float64(50.105))\n"
     ]
    },
    {
     "name": "stderr",
     "output_type": "stream",
     "text": [
      "  5%|▍         | 783/17350 [20:47<8:24:22,  1.83s/it] "
     ]
    },
    {
     "name": "stdout",
     "output_type": "stream",
     "text": [
      "[TILE ERROR] Found no graph nodes within the requested polygon. — bbox: (np.float64(-5.0741), np.float64(56.346999999999994), np.float64(-5.0524), np.float64(56.36))\n"
     ]
    },
    {
     "name": "stderr",
     "output_type": "stream",
     "text": [
      "  5%|▍         | 802/17350 [21:12<5:19:16,  1.16s/it]"
     ]
    },
    {
     "name": "stdout",
     "output_type": "stream",
     "text": [
      "[TILE ERROR] Graph contains no edges. — bbox: (np.float64(-5.026999999999999), np.float64(56.12199999999999), np.float64(-5.005299999999999), np.float64(56.135))\n"
     ]
    },
    {
     "name": "stderr",
     "output_type": "stream",
     "text": [
      "  5%|▍         | 804/17350 [21:15<6:28:53,  1.41s/it]"
     ]
    },
    {
     "name": "stdout",
     "output_type": "stream",
     "text": [
      "[TILE ERROR] Found no graph nodes within the requested polygon. — bbox: (np.float64(-5.011299999999999), np.float64(50.25399999999999), np.float64(-4.989599999999999), np.float64(50.266999999999996))\n"
     ]
    },
    {
     "name": "stderr",
     "output_type": "stream",
     "text": [
      "  5%|▍         | 822/17350 [21:42<5:54:04,  1.29s/it]"
     ]
    },
    {
     "name": "stdout",
     "output_type": "stream",
     "text": [
      "[TILE ERROR] Found no graph nodes within the requested polygon. — bbox: (np.float64(-4.9642), np.float64(55.93299999999999), np.float64(-4.9425), np.float64(55.946))\n"
     ]
    },
    {
     "name": "stderr",
     "output_type": "stream",
     "text": [
      "  5%|▌         | 902/17350 [23:55<10:40:28,  2.34s/it]"
     ]
    },
    {
     "name": "stdout",
     "output_type": "stream",
     "text": [
      "[TILE ERROR] Found no graph nodes within the requested polygon. — bbox: (np.float64(-4.7915), np.float64(51.75699999999999), np.float64(-4.769799999999999), np.float64(51.769999999999996))\n"
     ]
    },
    {
     "name": "stderr",
     "output_type": "stream",
     "text": [
      "  5%|▌         | 938/17350 [25:07<6:17:10,  1.38s/it] "
     ]
    },
    {
     "name": "stdout",
     "output_type": "stream",
     "text": [
      "[TILE ERROR] Found no graph nodes within the requested polygon. — bbox: (np.float64(-4.713), np.float64(51.97299999999999), np.float64(-4.691299999999999), np.float64(51.986))\n"
     ]
    },
    {
     "name": "stderr",
     "output_type": "stream",
     "text": [
      "  5%|▌         | 945/17350 [25:32<15:16:31,  3.35s/it]"
     ]
    },
    {
     "name": "stdout",
     "output_type": "stream",
     "text": [
      "[TILE ERROR] Found no graph nodes within the requested polygon. — bbox: (np.float64(-4.697299999999999), np.float64(51.77499999999999), np.float64(-4.675599999999999), np.float64(51.788))\n"
     ]
    },
    {
     "name": "stderr",
     "output_type": "stream",
     "text": [
      "  5%|▌         | 948/17350 [25:34<7:43:36,  1.70s/it] "
     ]
    },
    {
     "name": "stdout",
     "output_type": "stream",
     "text": [
      "[TILE ERROR] Found no graph nodes within the requested polygon. — bbox: (np.float64(-4.697299999999999), np.float64(51.882999999999996), np.float64(-4.675599999999999), np.float64(51.896))\n"
     ]
    },
    {
     "name": "stderr",
     "output_type": "stream",
     "text": [
      "  6%|▌         | 1010/17350 [28:13<8:49:27,  1.94s/it] "
     ]
    },
    {
     "name": "stdout",
     "output_type": "stream",
     "text": [
      "[TILE ERROR] Found no graph nodes within the requested polygon. — bbox: (np.float64(-4.5717), np.float64(53.30499999999999), np.float64(-4.55), np.float64(53.318))\n"
     ]
    },
    {
     "name": "stderr",
     "output_type": "stream",
     "text": [
      "  6%|▌         | 1017/17350 [28:24<6:36:43,  1.46s/it]"
     ]
    },
    {
     "name": "stdout",
     "output_type": "stream",
     "text": [
      "[TILE ERROR] Found no graph nodes within the requested polygon. — bbox: (np.float64(-4.556), np.float64(50.937999999999995), np.float64(-4.534299999999999), np.float64(50.951))\n"
     ]
    },
    {
     "name": "stderr",
     "output_type": "stream",
     "text": [
      "  6%|▌         | 1019/17350 [28:27<6:25:17,  1.42s/it]"
     ]
    },
    {
     "name": "stdout",
     "output_type": "stream",
     "text": [
      "[TILE ERROR] Found no graph nodes within the requested polygon. — bbox: (np.float64(-4.556), np.float64(51.80199999999999), np.float64(-4.534299999999999), np.float64(51.815))\n"
     ]
    },
    {
     "name": "stderr",
     "output_type": "stream",
     "text": [
      "  6%|▌         | 1029/17350 [28:44<5:26:42,  1.20s/it] "
     ]
    },
    {
     "name": "stdout",
     "output_type": "stream",
     "text": [
      "[TILE ERROR] Found no graph nodes within the requested polygon. — bbox: (np.float64(-4.556), np.float64(56.922999999999995), np.float64(-4.534299999999999), np.float64(56.936))\n"
     ]
    },
    {
     "name": "stderr",
     "output_type": "stream",
     "text": [
      "  6%|▌         | 1038/17350 [28:58<8:07:27,  1.79s/it]"
     ]
    },
    {
     "name": "stdout",
     "output_type": "stream",
     "text": [
      "[TILE ERROR] No data elements in server response. Check query location/filters and log. — bbox: (np.float64(-4.540299999999999), np.float64(55.14999999999999), np.float64(-4.518599999999999), np.float64(55.163))\n"
     ]
    },
    {
     "name": "stderr",
     "output_type": "stream",
     "text": [
      "  7%|▋         | 1133/17350 [32:00<7:43:35,  1.72s/it] "
     ]
    },
    {
     "name": "stdout",
     "output_type": "stream",
     "text": [
      "[TILE ERROR] Found no graph nodes within the requested polygon. — bbox: (np.float64(-4.4147), np.float64(56.41899999999999), np.float64(-4.393), np.float64(56.431999999999995))\n"
     ]
    },
    {
     "name": "stderr",
     "output_type": "stream",
     "text": [
      "  7%|▋         | 1197/17350 [34:07<7:59:00,  1.78s/it] "
     ]
    },
    {
     "name": "stdout",
     "output_type": "stream",
     "text": [
      "[TILE ERROR] Found no graph nodes within the requested polygon. — bbox: (np.float64(-4.3362), np.float64(54.897999999999996), np.float64(-4.3145), np.float64(54.911))\n"
     ]
    },
    {
     "name": "stderr",
     "output_type": "stream",
     "text": [
      "  7%|▋         | 1223/17350 [34:51<5:07:42,  1.14s/it] "
     ]
    },
    {
     "name": "stdout",
     "output_type": "stream",
     "text": [
      "[TILE ERROR] Found no graph nodes within the requested polygon. — bbox: (np.float64(-4.3205), np.float64(57.00399999999999), np.float64(-4.2988), np.float64(57.016999999999996))\n"
     ]
    },
    {
     "name": "stderr",
     "output_type": "stream",
     "text": [
      "  7%|▋         | 1241/17350 [35:21<7:26:54,  1.66s/it] "
     ]
    },
    {
     "name": "stdout",
     "output_type": "stream",
     "text": [
      "[TILE ERROR] Found no graph nodes within the requested polygon. — bbox: (np.float64(-4.2890999999999995), np.float64(50.81199999999999), np.float64(-4.267399999999999), np.float64(50.824999999999996))\n"
     ]
    },
    {
     "name": "stderr",
     "output_type": "stream",
     "text": [
      "  7%|▋         | 1293/17350 [36:56<6:43:34,  1.51s/it] "
     ]
    },
    {
     "name": "stdout",
     "output_type": "stream",
     "text": [
      "[TILE ERROR] Graph contains no edges. — bbox: (np.float64(-4.242), np.float64(51.532), np.float64(-4.2203), np.float64(51.545))\n"
     ]
    },
    {
     "name": "stderr",
     "output_type": "stream",
     "text": [
      "  8%|▊         | 1345/17350 [38:44<4:03:23,  1.10it/s] "
     ]
    },
    {
     "name": "stdout",
     "output_type": "stream",
     "text": [
      "[TILE ERROR] No data elements in server response. Check query location/filters and log. — bbox: (np.float64(-4.2105999999999995), np.float64(54.96999999999999), np.float64(-4.188899999999999), np.float64(54.983))\n"
     ]
    },
    {
     "name": "stderr",
     "output_type": "stream",
     "text": [
      "  8%|▊         | 1437/17350 [42:18<10:19:20,  2.34s/it]"
     ]
    },
    {
     "name": "stdout",
     "output_type": "stream",
     "text": [
      "[TILE ERROR] Graph contains no edges. — bbox: (np.float64(-4.1478), np.float64(50.87499999999999), np.float64(-4.126099999999999), np.float64(50.888))\n"
     ]
    },
    {
     "name": "stderr",
     "output_type": "stream",
     "text": [
      "  8%|▊         | 1451/17350 [42:48<11:56:01,  2.70s/it]"
     ]
    },
    {
     "name": "stdout",
     "output_type": "stream",
     "text": [
      "[TILE ERROR] Graph contains no edges. — bbox: (np.float64(-4.1478), np.float64(54.82599999999999), np.float64(-4.126099999999999), np.float64(54.839))\n"
     ]
    },
    {
     "name": "stderr",
     "output_type": "stream",
     "text": [
      "  9%|▊         | 1483/17350 [43:49<5:57:11,  1.35s/it] "
     ]
    },
    {
     "name": "stdout",
     "output_type": "stream",
     "text": [
      "[TILE ERROR] Graph contains no edges. — bbox: (np.float64(-4.132099999999999), np.float64(52.080999999999996), np.float64(-4.110399999999999), np.float64(52.094))\n"
     ]
    },
    {
     "name": "stderr",
     "output_type": "stream",
     "text": [
      "  9%|▊         | 1507/17350 [44:33<6:24:48,  1.46s/it] "
     ]
    },
    {
     "name": "stdout",
     "output_type": "stream",
     "text": [
      "[TILE ERROR] Found no graph nodes within the requested polygon. — bbox: (np.float64(-4.1164), np.float64(51.99099999999999), np.float64(-4.0947), np.float64(52.004))\n"
     ]
    },
    {
     "name": "stderr",
     "output_type": "stream",
     "text": [
      "  9%|▊         | 1509/17350 [44:36<5:30:24,  1.25s/it]"
     ]
    },
    {
     "name": "stdout",
     "output_type": "stream",
     "text": [
      "[TILE ERROR] Found no graph nodes within the requested polygon. — bbox: (np.float64(-4.1164), np.float64(54.76299999999999), np.float64(-4.0947), np.float64(54.775999999999996))\n"
     ]
    },
    {
     "name": "stderr",
     "output_type": "stream",
     "text": [
      "  9%|▉         | 1588/17350 [47:20<9:36:25,  2.19s/it] "
     ]
    },
    {
     "name": "stdout",
     "output_type": "stream",
     "text": [
      "[TILE ERROR] Found no graph nodes within the requested polygon. — bbox: (np.float64(-4.053599999999999), np.float64(50.51499999999999), np.float64(-4.031899999999999), np.float64(50.528))\n"
     ]
    },
    {
     "name": "stderr",
     "output_type": "stream",
     "text": [
      "  9%|▉         | 1634/17350 [48:40<4:49:11,  1.10s/it] "
     ]
    },
    {
     "name": "stdout",
     "output_type": "stream",
     "text": [
      "[TILE ERROR] Found no graph nodes within the requested polygon. — bbox: (np.float64(-4.0222), np.float64(50.69499999999999), np.float64(-4.0005), np.float64(50.708))\n"
     ]
    },
    {
     "name": "stderr",
     "output_type": "stream",
     "text": [
      "  9%|▉         | 1647/17350 [48:56<4:31:00,  1.04s/it]"
     ]
    },
    {
     "name": "stdout",
     "output_type": "stream",
     "text": [
      "[TILE ERROR] Found no graph nodes within the requested polygon. — bbox: (np.float64(-4.0222), np.float64(52.89099999999999), np.float64(-4.0005), np.float64(52.903999999999996))\n",
      "[TILE ERROR] Found no graph nodes within the requested polygon. — bbox: (np.float64(-4.0222), np.float64(52.980999999999995), np.float64(-4.0005), np.float64(52.994))\n"
     ]
    },
    {
     "name": "stderr",
     "output_type": "stream",
     "text": [
      " 10%|▉         | 1654/17350 [49:13<6:24:41,  1.47s/it] "
     ]
    },
    {
     "name": "stdout",
     "output_type": "stream",
     "text": [
      "[TILE ERROR] Found no graph nodes within the requested polygon. — bbox: (np.float64(-4.0222), np.float64(57.03099999999999), np.float64(-4.0005), np.float64(57.044))\n"
     ]
    },
    {
     "name": "stderr",
     "output_type": "stream",
     "text": [
      " 10%|▉         | 1678/17350 [49:50<4:41:34,  1.08s/it]"
     ]
    },
    {
     "name": "stdout",
     "output_type": "stream",
     "text": [
      "[TILE ERROR] No data elements in server response. Check query location/filters and log. — bbox: (np.float64(-4.0065), np.float64(52.53099999999999), np.float64(-3.9847999999999995), np.float64(52.544))\n"
     ]
    },
    {
     "name": "stderr",
     "output_type": "stream",
     "text": [
      " 10%|▉         | 1708/17350 [50:34<5:42:11,  1.31s/it]"
     ]
    },
    {
     "name": "stdout",
     "output_type": "stream",
     "text": [
      "[TILE ERROR] Found no graph nodes within the requested polygon. — bbox: (np.float64(-3.9907999999999997), np.float64(56.760999999999996), np.float64(-3.9690999999999996), np.float64(56.774))\n"
     ]
    },
    {
     "name": "stderr",
     "output_type": "stream",
     "text": [
      " 11%|█         | 1822/17350 [53:58<7:32:41,  1.75s/it] "
     ]
    },
    {
     "name": "stdout",
     "output_type": "stream",
     "text": [
      "[TILE ERROR] Graph contains no edges. — bbox: (np.float64(-3.9122999999999997), np.float64(51.73899999999999), np.float64(-3.8905999999999996), np.float64(51.751999999999995))\n"
     ]
    },
    {
     "name": "stderr",
     "output_type": "stream",
     "text": [
      " 11%|█         | 1835/17350 [54:33<11:58:50,  2.78s/it]"
     ]
    },
    {
     "name": "stdout",
     "output_type": "stream",
     "text": [
      "[TILE ERROR] Found no graph nodes within the requested polygon. — bbox: (np.float64(-3.9122999999999997), np.float64(57.00399999999999), np.float64(-3.8905999999999996), np.float64(57.016999999999996))\n"
     ]
    },
    {
     "name": "stderr",
     "output_type": "stream",
     "text": [
      " 11%|█         | 1840/17350 [54:41<7:39:42,  1.78s/it] "
     ]
    },
    {
     "name": "stdout",
     "output_type": "stream",
     "text": [
      "[TILE ERROR] No data elements in server response. Check query location/filters and log. — bbox: (np.float64(-3.8966), np.float64(50.47899999999999), np.float64(-3.8748999999999993), np.float64(50.492))\n"
     ]
    },
    {
     "name": "stderr",
     "output_type": "stream",
     "text": [
      " 11%|█         | 1846/17350 [54:49<6:10:44,  1.43s/it]"
     ]
    },
    {
     "name": "stdout",
     "output_type": "stream",
     "text": [
      "[TILE ERROR] Graph contains no edges. — bbox: (np.float64(-3.8966), np.float64(52.233999999999995), np.float64(-3.8748999999999993), np.float64(52.247))\n"
     ]
    },
    {
     "name": "stderr",
     "output_type": "stream",
     "text": [
      " 11%|█         | 1854/17350 [55:01<6:52:14,  1.60s/it]"
     ]
    },
    {
     "name": "stdout",
     "output_type": "stream",
     "text": [
      "[TILE ERROR] Graph contains no edges. — bbox: (np.float64(-3.8966), np.float64(56.760999999999996), np.float64(-3.8748999999999993), np.float64(56.774))\n"
     ]
    },
    {
     "name": "stderr",
     "output_type": "stream",
     "text": [
      " 11%|█         | 1856/17350 [55:04<7:10:57,  1.67s/it]"
     ]
    },
    {
     "name": "stdout",
     "output_type": "stream",
     "text": [
      "[TILE ERROR] No data elements in server response. Check query location/filters and log. — bbox: (np.float64(-3.8808999999999996), np.float64(50.49699999999999), np.float64(-3.8591999999999995), np.float64(50.51))\n"
     ]
    },
    {
     "name": "stderr",
     "output_type": "stream",
     "text": [
      " 11%|█         | 1863/17350 [55:27<9:41:19,  2.25s/it] "
     ]
    },
    {
     "name": "stdout",
     "output_type": "stream",
     "text": [
      "[TILE ERROR] Found no graph nodes within the requested polygon. — bbox: (np.float64(-3.8808999999999996), np.float64(53.160999999999994), np.float64(-3.8591999999999995), np.float64(53.174))\n"
     ]
    },
    {
     "name": "stderr",
     "output_type": "stream",
     "text": [
      " 11%|█         | 1871/17350 [55:36<5:52:34,  1.37s/it]"
     ]
    },
    {
     "name": "stdout",
     "output_type": "stream",
     "text": [
      "[TILE ERROR] Found no graph nodes within the requested polygon. — bbox: (np.float64(-3.8651999999999997), np.float64(50.50599999999999), np.float64(-3.8434999999999997), np.float64(50.519))\n"
     ]
    },
    {
     "name": "stderr",
     "output_type": "stream",
     "text": [
      " 11%|█         | 1886/17350 [56:13<14:30:18,  3.38s/it]"
     ]
    },
    {
     "name": "stdout",
     "output_type": "stream",
     "text": [
      "[TILE ERROR] Found no graph nodes within the requested polygon. — bbox: (np.float64(-3.8651999999999997), np.float64(56.26599999999999), np.float64(-3.8434999999999997), np.float64(56.278999999999996))\n"
     ]
    },
    {
     "name": "stderr",
     "output_type": "stream",
     "text": [
      " 11%|█         | 1901/17350 [56:46<6:20:01,  1.48s/it] "
     ]
    },
    {
     "name": "stdout",
     "output_type": "stream",
     "text": [
      "[TILE ERROR] Found no graph nodes within the requested polygon. — bbox: (np.float64(-3.8495), np.float64(52.35099999999999), np.float64(-3.8277999999999994), np.float64(52.364))\n"
     ]
    },
    {
     "name": "stderr",
     "output_type": "stream",
     "text": [
      " 11%|█         | 1926/17350 [57:22<6:26:03,  1.50s/it]"
     ]
    },
    {
     "name": "stdout",
     "output_type": "stream",
     "text": [
      "[TILE ERROR] Found no graph nodes within the requested polygon. — bbox: (np.float64(-3.8337999999999997), np.float64(51.117999999999995), np.float64(-3.8120999999999996), np.float64(51.131))\n"
     ]
    },
    {
     "name": "stderr",
     "output_type": "stream",
     "text": [
      " 11%|█         | 1933/17350 [57:33<3:46:57,  1.13it/s]"
     ]
    },
    {
     "name": "stdout",
     "output_type": "stream",
     "text": [
      "[TILE ERROR] Found no graph nodes within the requested polygon. — bbox: (np.float64(-3.8337999999999997), np.float64(52.080999999999996), np.float64(-3.8120999999999996), np.float64(52.094))\n"
     ]
    },
    {
     "name": "stderr",
     "output_type": "stream",
     "text": [
      " 11%|█         | 1943/17350 [57:49<7:53:01,  1.84s/it]"
     ]
    },
    {
     "name": "stdout",
     "output_type": "stream",
     "text": [
      "[TILE ERROR] Found no graph nodes within the requested polygon. — bbox: (np.float64(-3.8337999999999997), np.float64(56.50899999999999), np.float64(-3.8120999999999996), np.float64(56.522))\n"
     ]
    },
    {
     "name": "stderr",
     "output_type": "stream",
     "text": [
      " 11%|█▏        | 1964/17350 [58:24<7:41:02,  1.80s/it] "
     ]
    },
    {
     "name": "stdout",
     "output_type": "stream",
     "text": [
      "[TILE ERROR] Found no graph nodes within the requested polygon. — bbox: (np.float64(-3.8181), np.float64(51.81099999999999), np.float64(-3.7963999999999998), np.float64(51.824))\n"
     ]
    },
    {
     "name": "stderr",
     "output_type": "stream",
     "text": [
      " 12%|█▏        | 2038/17350 [1:00:56<8:53:18,  2.09s/it] "
     ]
    },
    {
     "name": "stdout",
     "output_type": "stream",
     "text": [
      "[TILE ERROR] Found no graph nodes within the requested polygon. — bbox: (np.float64(-3.771), np.float64(56.50899999999999), np.float64(-3.7492999999999994), np.float64(56.522))\n"
     ]
    },
    {
     "name": "stderr",
     "output_type": "stream",
     "text": [
      " 12%|█▏        | 2050/17350 [1:01:27<13:17:31,  3.13s/it]"
     ]
    },
    {
     "name": "stdout",
     "output_type": "stream",
     "text": [
      "[TILE ERROR] Found no graph nodes within the requested polygon. — bbox: (np.float64(-3.7552999999999996), np.float64(51.702999999999996), np.float64(-3.7335999999999996), np.float64(51.716))\n"
     ]
    },
    {
     "name": "stderr",
     "output_type": "stream",
     "text": [
      " 12%|█▏        | 2056/17350 [1:01:39<8:55:11,  2.10s/it] "
     ]
    },
    {
     "name": "stdout",
     "output_type": "stream",
     "text": [
      "[TILE ERROR] Found no graph nodes within the requested polygon. — bbox: (np.float64(-3.7552999999999996), np.float64(56.67099999999999), np.float64(-3.7335999999999996), np.float64(56.684))\n"
     ]
    },
    {
     "name": "stderr",
     "output_type": "stream",
     "text": [
      " 12%|█▏        | 2059/17350 [1:01:41<5:14:40,  1.23s/it]"
     ]
    },
    {
     "name": "stdout",
     "output_type": "stream",
     "text": [
      "[TILE ERROR] No data elements in server response. Check query location/filters and log. — bbox: (np.float64(-3.7552999999999996), np.float64(56.788), np.float64(-3.7335999999999996), np.float64(56.800999999999995))\n"
     ]
    },
    {
     "name": "stderr",
     "output_type": "stream",
     "text": [
      " 12%|█▏        | 2104/17350 [1:03:11<7:09:16,  1.69s/it] "
     ]
    },
    {
     "name": "stdout",
     "output_type": "stream",
     "text": [
      "[TILE ERROR] Graph contains no edges. — bbox: (np.float64(-3.7239), np.float64(52.044999999999995), np.float64(-3.7021999999999995), np.float64(52.058))\n"
     ]
    },
    {
     "name": "stderr",
     "output_type": "stream",
     "text": [
      " 12%|█▏        | 2107/17350 [1:03:17<8:02:14,  1.90s/it]"
     ]
    },
    {
     "name": "stdout",
     "output_type": "stream",
     "text": [
      "[TILE ERROR] Found no graph nodes within the requested polygon. — bbox: (np.float64(-3.7239), np.float64(52.980999999999995), np.float64(-3.7021999999999995), np.float64(52.994))\n"
     ]
    },
    {
     "name": "stderr",
     "output_type": "stream",
     "text": [
      " 12%|█▏        | 2123/17350 [1:03:44<5:40:20,  1.34s/it]"
     ]
    },
    {
     "name": "stdout",
     "output_type": "stream",
     "text": [
      "[TILE ERROR] No data elements in server response. Check query location/filters and log. — bbox: (np.float64(-3.7081999999999997), np.float64(51.56799999999999), np.float64(-3.6864999999999997), np.float64(51.580999999999996))\n"
     ]
    },
    {
     "name": "stderr",
     "output_type": "stream",
     "text": [
      " 12%|█▏        | 2124/17350 [1:03:45<4:55:34,  1.16s/it]"
     ]
    },
    {
     "name": "stdout",
     "output_type": "stream",
     "text": [
      "[TILE ERROR] Found no graph nodes within the requested polygon. — bbox: (np.float64(-3.7081999999999997), np.float64(52.35099999999999), np.float64(-3.6864999999999997), np.float64(52.364))\n"
     ]
    },
    {
     "name": "stderr",
     "output_type": "stream",
     "text": [
      " 12%|█▏        | 2164/17350 [1:04:47<2:16:49,  1.85it/s]"
     ]
    },
    {
     "name": "stdout",
     "output_type": "stream",
     "text": [
      "[TILE ERROR] Found no graph nodes within the requested polygon. — bbox: (np.float64(-3.6767999999999996), np.float64(52.68399999999999), np.float64(-3.6550999999999996), np.float64(52.696999999999996))\n"
     ]
    },
    {
     "name": "stderr",
     "output_type": "stream",
     "text": [
      " 12%|█▏        | 2166/17350 [1:04:51<5:35:30,  1.33s/it]"
     ]
    },
    {
     "name": "stdout",
     "output_type": "stream",
     "text": [
      "[TILE ERROR] Graph contains no edges. — bbox: (np.float64(-3.6767999999999996), np.float64(55.644999999999996), np.float64(-3.6550999999999996), np.float64(55.658))\n"
     ]
    },
    {
     "name": "stderr",
     "output_type": "stream",
     "text": [
      " 13%|█▎        | 2181/17350 [1:05:15<9:10:11,  2.18s/it]"
     ]
    },
    {
     "name": "stdout",
     "output_type": "stream",
     "text": [
      "[TILE ERROR] Found no graph nodes within the requested polygon. — bbox: (np.float64(-3.6611), np.float64(52.413999999999994), np.float64(-3.6393999999999997), np.float64(52.427))\n"
     ]
    },
    {
     "name": "stderr",
     "output_type": "stream",
     "text": [
      " 13%|█▎        | 2188/17350 [1:05:29<7:16:19,  1.73s/it] "
     ]
    },
    {
     "name": "stdout",
     "output_type": "stream",
     "text": [
      "[TILE ERROR] Found no graph nodes within the requested polygon. — bbox: (np.float64(-3.6611), np.float64(57.21099999999999), np.float64(-3.6393999999999997), np.float64(57.224))\n"
     ]
    },
    {
     "name": "stderr",
     "output_type": "stream",
     "text": [
      " 13%|█▎        | 2273/17350 [1:08:25<6:43:17,  1.60s/it] "
     ]
    },
    {
     "name": "stdout",
     "output_type": "stream",
     "text": [
      "[TILE ERROR] Graph contains no edges. — bbox: (np.float64(-3.614), np.float64(56.391999999999996), np.float64(-3.5922999999999994), np.float64(56.405))\n"
     ]
    },
    {
     "name": "stderr",
     "output_type": "stream",
     "text": [
      " 13%|█▎        | 2304/17350 [1:09:22<8:17:10,  1.98s/it]"
     ]
    },
    {
     "name": "stdout",
     "output_type": "stream",
     "text": [
      "[TILE ERROR] Found no graph nodes within the requested polygon. — bbox: (np.float64(-3.5982999999999996), np.float64(52.278999999999996), np.float64(-3.5765999999999996), np.float64(52.292))\n"
     ]
    },
    {
     "name": "stderr",
     "output_type": "stream",
     "text": [
      " 13%|█▎        | 2327/17350 [1:09:56<5:10:25,  1.24s/it]"
     ]
    },
    {
     "name": "stdout",
     "output_type": "stream",
     "text": [
      "[TILE ERROR] Found no graph nodes within the requested polygon. — bbox: (np.float64(-3.5826), np.float64(50.739999999999995), np.float64(-3.5608999999999997), np.float64(50.753))\n"
     ]
    },
    {
     "name": "stderr",
     "output_type": "stream",
     "text": [
      " 14%|█▎        | 2364/17350 [1:10:54<7:44:54,  1.86s/it]"
     ]
    },
    {
     "name": "stdout",
     "output_type": "stream",
     "text": [
      "[TILE ERROR] Found no graph nodes within the requested polygon. — bbox: (np.float64(-3.5669), np.float64(50.62299999999999), np.float64(-3.5451999999999995), np.float64(50.635999999999996))\n"
     ]
    },
    {
     "name": "stderr",
     "output_type": "stream",
     "text": [
      " 14%|█▍        | 2409/17350 [1:12:08<7:16:55,  1.75s/it]"
     ]
    },
    {
     "name": "stdout",
     "output_type": "stream",
     "text": [
      "[TILE ERROR] Graph contains no edges. — bbox: (np.float64(-3.5511999999999997), np.float64(52.099), np.float64(-3.5294999999999996), np.float64(52.112))\n"
     ]
    },
    {
     "name": "stderr",
     "output_type": "stream",
     "text": [
      " 14%|█▍        | 2428/17350 [1:12:38<5:02:31,  1.22s/it] "
     ]
    },
    {
     "name": "stdout",
     "output_type": "stream",
     "text": [
      "[TILE ERROR] Found no graph nodes within the requested polygon. — bbox: (np.float64(-3.5511999999999997), np.float64(56.13099999999999), np.float64(-3.5294999999999996), np.float64(56.144))\n"
     ]
    },
    {
     "name": "stderr",
     "output_type": "stream",
     "text": [
      " 14%|█▍        | 2432/17350 [1:12:44<5:49:13,  1.40s/it]"
     ]
    },
    {
     "name": "stdout",
     "output_type": "stream",
     "text": [
      "[TILE ERROR] Found no graph nodes within the requested polygon. — bbox: (np.float64(-3.5511999999999997), np.float64(56.517999999999994), np.float64(-3.5294999999999996), np.float64(56.531))\n"
     ]
    },
    {
     "name": "stderr",
     "output_type": "stream",
     "text": [
      " 14%|█▍        | 2433/17350 [1:12:46<6:43:24,  1.62s/it]"
     ]
    },
    {
     "name": "stdout",
     "output_type": "stream",
     "text": [
      "[TILE ERROR] Graph contains no edges. — bbox: (np.float64(-3.5511999999999997), np.float64(56.544999999999995), np.float64(-3.5294999999999996), np.float64(56.558))\n"
     ]
    },
    {
     "name": "stderr",
     "output_type": "stream",
     "text": [
      " 14%|█▍        | 2460/17350 [1:13:29<9:55:09,  2.40s/it]"
     ]
    },
    {
     "name": "stdout",
     "output_type": "stream",
     "text": [
      "[TILE ERROR] Graph contains no edges. — bbox: (np.float64(-3.5355), np.float64(56.211999999999996), np.float64(-3.5138), np.float64(56.225))\n"
     ]
    },
    {
     "name": "stderr",
     "output_type": "stream",
     "text": [
      " 14%|█▍        | 2494/17350 [1:14:37<6:50:02,  1.66s/it] "
     ]
    },
    {
     "name": "stdout",
     "output_type": "stream",
     "text": [
      "[TILE ERROR] Graph contains no edges. — bbox: (np.float64(-3.5198), np.float64(52.74699999999999), np.float64(-3.4980999999999995), np.float64(52.76))\n"
     ]
    },
    {
     "name": "stderr",
     "output_type": "stream",
     "text": [
      " 14%|█▍        | 2508/17350 [1:15:00<6:55:33,  1.68s/it]"
     ]
    },
    {
     "name": "stdout",
     "output_type": "stream",
     "text": [
      "[TILE ERROR] Found no graph nodes within the requested polygon. — bbox: (np.float64(-3.5198), np.float64(56.50899999999999), np.float64(-3.4980999999999995), np.float64(56.522))\n"
     ]
    },
    {
     "name": "stderr",
     "output_type": "stream",
     "text": [
      " 14%|█▍        | 2509/17350 [1:15:00<5:22:20,  1.30s/it]"
     ]
    },
    {
     "name": "stdout",
     "output_type": "stream",
     "text": [
      "[TILE ERROR] Found no graph nodes within the requested polygon. — bbox: (np.float64(-3.5198), np.float64(56.526999999999994), np.float64(-3.4980999999999995), np.float64(56.54))\n"
     ]
    },
    {
     "name": "stderr",
     "output_type": "stream",
     "text": [
      " 15%|█▍        | 2533/17350 [1:15:37<5:30:45,  1.34s/it]"
     ]
    },
    {
     "name": "stdout",
     "output_type": "stream",
     "text": [
      "[TILE ERROR] Graph contains no edges. — bbox: (np.float64(-3.5040999999999998), np.float64(52.449999999999996), np.float64(-3.4823999999999997), np.float64(52.463))\n"
     ]
    },
    {
     "name": "stderr",
     "output_type": "stream",
     "text": [
      " 15%|█▍        | 2577/17350 [1:17:02<5:08:52,  1.25s/it] "
     ]
    },
    {
     "name": "stdout",
     "output_type": "stream",
     "text": [
      "[TILE ERROR] Found no graph nodes within the requested polygon. — bbox: (np.float64(-3.4884), np.float64(56.26599999999999), np.float64(-3.4666999999999994), np.float64(56.278999999999996))\n"
     ]
    },
    {
     "name": "stderr",
     "output_type": "stream",
     "text": [
      " 15%|█▌        | 2647/17350 [1:18:50<4:43:54,  1.16s/it] "
     ]
    },
    {
     "name": "stdout",
     "output_type": "stream",
     "text": [
      "[TILE ERROR] Graph contains no edges. — bbox: (np.float64(-3.457), np.float64(55.36599999999999), np.float64(-3.4353), np.float64(55.379))\n"
     ]
    },
    {
     "name": "stderr",
     "output_type": "stream",
     "text": [
      " 15%|█▌        | 2666/17350 [1:19:19<6:33:14,  1.61s/it]"
     ]
    },
    {
     "name": "stdout",
     "output_type": "stream",
     "text": [
      "[TILE ERROR] Found no graph nodes within the requested polygon. — bbox: (np.float64(-3.4413), np.float64(52.00899999999999), np.float64(-3.4195999999999995), np.float64(52.022))\n"
     ]
    },
    {
     "name": "stderr",
     "output_type": "stream",
     "text": [
      " 15%|█▌        | 2667/17350 [1:19:20<6:22:03,  1.56s/it]"
     ]
    },
    {
     "name": "stdout",
     "output_type": "stream",
     "text": [
      "[TILE ERROR] Graph contains no edges. — bbox: (np.float64(-3.4413), np.float64(52.089999999999996), np.float64(-3.4195999999999995), np.float64(52.103))\n"
     ]
    },
    {
     "name": "stderr",
     "output_type": "stream",
     "text": [
      " 15%|█▌        | 2668/17350 [1:19:23<7:48:42,  1.92s/it]"
     ]
    },
    {
     "name": "stdout",
     "output_type": "stream",
     "text": [
      "[TILE ERROR] Found no graph nodes within the requested polygon. — bbox: (np.float64(-3.4413), np.float64(52.099), np.float64(-3.4195999999999995), np.float64(52.112))\n"
     ]
    },
    {
     "name": "stderr",
     "output_type": "stream",
     "text": [
      " 16%|█▌        | 2737/17350 [1:21:10<4:57:32,  1.22s/it] "
     ]
    },
    {
     "name": "stdout",
     "output_type": "stream",
     "text": [
      "[TILE ERROR] Graph contains no edges. — bbox: (np.float64(-3.4255999999999998), np.float64(57.282999999999994), np.float64(-3.4038999999999997), np.float64(57.296))\n"
     ]
    },
    {
     "name": "stderr",
     "output_type": "stream",
     "text": [
      " 16%|█▌        | 2751/17350 [1:21:37<8:33:19,  2.11s/it] "
     ]
    },
    {
     "name": "stdout",
     "output_type": "stream",
     "text": [
      "[TILE ERROR] Graph contains no edges. — bbox: (np.float64(-3.4099), np.float64(50.88399999999999), np.float64(-3.3881999999999994), np.float64(50.897))\n"
     ]
    },
    {
     "name": "stderr",
     "output_type": "stream",
     "text": [
      " 16%|█▌        | 2766/17350 [1:21:59<7:22:49,  1.82s/it]"
     ]
    },
    {
     "name": "stdout",
     "output_type": "stream",
     "text": [
      "[TILE ERROR] No data elements in server response. Check query location/filters and log. — bbox: (np.float64(-3.4099), np.float64(55.38399999999999), np.float64(-3.3881999999999994), np.float64(55.397))\n"
     ]
    },
    {
     "name": "stderr",
     "output_type": "stream",
     "text": [
      " 16%|█▌        | 2800/17350 [1:22:58<6:17:34,  1.56s/it] "
     ]
    },
    {
     "name": "stdout",
     "output_type": "stream",
     "text": [
      "[TILE ERROR] Found no graph nodes within the requested polygon. — bbox: (np.float64(-3.3941999999999997), np.float64(52.440999999999995), np.float64(-3.3724999999999996), np.float64(52.454))\n"
     ]
    },
    {
     "name": "stderr",
     "output_type": "stream",
     "text": [
      " 16%|█▋        | 2838/17350 [1:23:57<5:45:32,  1.43s/it]"
     ]
    },
    {
     "name": "stdout",
     "output_type": "stream",
     "text": [
      "[TILE ERROR] Found no graph nodes within the requested polygon. — bbox: (np.float64(-3.3785), np.float64(52.099), np.float64(-3.3568), np.float64(52.112))\n"
     ]
    },
    {
     "name": "stderr",
     "output_type": "stream",
     "text": [
      " 16%|█▋        | 2839/17350 [1:24:01<8:37:12,  2.14s/it]"
     ]
    },
    {
     "name": "stdout",
     "output_type": "stream",
     "text": [
      "[TILE ERROR] Graph contains no edges. — bbox: (np.float64(-3.3785), np.float64(52.17099999999999), np.float64(-3.3568), np.float64(52.184))\n"
     ]
    },
    {
     "name": "stderr",
     "output_type": "stream",
     "text": [
      " 16%|█▋        | 2854/17350 [1:24:20<6:41:33,  1.66s/it]"
     ]
    },
    {
     "name": "stdout",
     "output_type": "stream",
     "text": [
      "[TILE ERROR] Found no graph nodes within the requested polygon. — bbox: (np.float64(-3.3785), np.float64(57.696999999999996), np.float64(-3.3568), np.float64(57.71))\n"
     ]
    },
    {
     "name": "stderr",
     "output_type": "stream",
     "text": [
      " 17%|█▋        | 2881/17350 [1:25:10<5:01:31,  1.25s/it] "
     ]
    },
    {
     "name": "stdout",
     "output_type": "stream",
     "text": [
      "[TILE ERROR] Found no graph nodes within the requested polygon. — bbox: (np.float64(-3.3628), np.float64(57.36399999999999), np.float64(-3.3410999999999995), np.float64(57.376999999999995))\n"
     ]
    },
    {
     "name": "stderr",
     "output_type": "stream",
     "text": [
      " 17%|█▋        | 2901/17350 [1:26:06<6:08:58,  1.53s/it] "
     ]
    },
    {
     "name": "stdout",
     "output_type": "stream",
     "text": [
      "[TILE ERROR] Graph contains no edges. — bbox: (np.float64(-3.3470999999999997), np.float64(52.30599999999999), np.float64(-3.3253999999999997), np.float64(52.318999999999996))\n"
     ]
    },
    {
     "name": "stderr",
     "output_type": "stream",
     "text": [
      " 17%|█▋        | 2945/17350 [1:27:13<5:58:47,  1.49s/it] "
     ]
    },
    {
     "name": "stdout",
     "output_type": "stream",
     "text": [
      "[TILE ERROR] Graph contains no edges. — bbox: (np.float64(-3.3314), np.float64(52.422999999999995), np.float64(-3.3096999999999994), np.float64(52.436))\n"
     ]
    },
    {
     "name": "stderr",
     "output_type": "stream",
     "text": [
      " 17%|█▋        | 2950/17350 [1:27:17<4:37:19,  1.16s/it]"
     ]
    },
    {
     "name": "stdout",
     "output_type": "stream",
     "text": [
      "[TILE ERROR] Graph contains no edges. — bbox: (np.float64(-3.3314), np.float64(56.517999999999994), np.float64(-3.3096999999999994), np.float64(56.531))\n"
     ]
    },
    {
     "name": "stderr",
     "output_type": "stream",
     "text": [
      " 18%|█▊        | 3050/17350 [1:30:07<4:20:01,  1.09s/it] "
     ]
    },
    {
     "name": "stdout",
     "output_type": "stream",
     "text": [
      "[TILE ERROR] Found no graph nodes within the requested polygon. — bbox: (np.float64(-3.2843), np.float64(52.431999999999995), np.float64(-3.2625999999999995), np.float64(52.445))\n"
     ]
    },
    {
     "name": "stderr",
     "output_type": "stream",
     "text": [
      " 18%|█▊        | 3052/17350 [1:30:10<4:20:37,  1.09s/it]"
     ]
    },
    {
     "name": "stdout",
     "output_type": "stream",
     "text": [
      "[TILE ERROR] Found no graph nodes within the requested polygon. — bbox: (np.float64(-3.2843), np.float64(52.989999999999995), np.float64(-3.2625999999999995), np.float64(53.003))\n",
      "[TILE ERROR] Found no graph nodes within the requested polygon. — bbox: (np.float64(-3.2843), np.float64(53.169999999999995), np.float64(-3.2625999999999995), np.float64(53.183))\n"
     ]
    },
    {
     "name": "stderr",
     "output_type": "stream",
     "text": [
      " 18%|█▊        | 3063/17350 [1:30:30<6:39:53,  1.68s/it]"
     ]
    },
    {
     "name": "stdout",
     "output_type": "stream",
     "text": [
      "[TILE ERROR] Graph contains no edges. — bbox: (np.float64(-3.2843), np.float64(56.769999999999996), np.float64(-3.2625999999999995), np.float64(56.783))\n"
     ]
    },
    {
     "name": "stderr",
     "output_type": "stream",
     "text": [
      " 18%|█▊        | 3087/17350 [1:31:23<10:30:24,  2.65s/it]"
     ]
    },
    {
     "name": "stdout",
     "output_type": "stream",
     "text": [
      "[TILE ERROR] Found no graph nodes within the requested polygon. — bbox: (np.float64(-3.2685999999999997), np.float64(54.708999999999996), np.float64(-3.2468999999999997), np.float64(54.722))\n"
     ]
    },
    {
     "name": "stderr",
     "output_type": "stream",
     "text": [
      " 18%|█▊        | 3097/17350 [1:31:40<6:21:00,  1.60s/it] "
     ]
    },
    {
     "name": "stdout",
     "output_type": "stream",
     "text": [
      "[TILE ERROR] Found no graph nodes within the requested polygon. — bbox: (np.float64(-3.2685999999999997), np.float64(56.778999999999996), np.float64(-3.2468999999999997), np.float64(56.792))\n"
     ]
    },
    {
     "name": "stderr",
     "output_type": "stream",
     "text": [
      " 18%|█▊        | 3118/17350 [1:32:13<5:01:51,  1.27s/it]"
     ]
    },
    {
     "name": "stdout",
     "output_type": "stream",
     "text": [
      "[TILE ERROR] Found no graph nodes within the requested polygon. — bbox: (np.float64(-3.2529), np.float64(51.81999999999999), np.float64(-3.2311999999999994), np.float64(51.833))\n"
     ]
    },
    {
     "name": "stderr",
     "output_type": "stream",
     "text": [
      " 18%|█▊        | 3122/17350 [1:32:21<7:26:22,  1.88s/it]"
     ]
    },
    {
     "name": "stdout",
     "output_type": "stream",
     "text": [
      "[TILE ERROR] Found no graph nodes within the requested polygon. — bbox: (np.float64(-3.2529), np.float64(52.11699999999999), np.float64(-3.2311999999999994), np.float64(52.129999999999995))\n"
     ]
    },
    {
     "name": "stderr",
     "output_type": "stream",
     "text": [
      " 18%|█▊        | 3144/17350 [1:33:03<5:04:25,  1.29s/it] "
     ]
    },
    {
     "name": "stdout",
     "output_type": "stream",
     "text": [
      "[TILE ERROR] Graph contains no edges. — bbox: (np.float64(-3.2371999999999996), np.float64(51.459999999999994), np.float64(-3.2154999999999996), np.float64(51.473))\n"
     ]
    },
    {
     "name": "stderr",
     "output_type": "stream",
     "text": [
      " 18%|█▊        | 3175/17350 [1:33:46<4:40:11,  1.19s/it]"
     ]
    },
    {
     "name": "stdout",
     "output_type": "stream",
     "text": [
      "[TILE ERROR] Found no graph nodes within the requested polygon. — bbox: (np.float64(-3.2371999999999996), np.float64(54.843999999999994), np.float64(-3.2154999999999996), np.float64(54.857))\n"
     ]
    },
    {
     "name": "stderr",
     "output_type": "stream",
     "text": [
      " 18%|█▊        | 3181/17350 [1:33:56<5:34:19,  1.42s/it]"
     ]
    },
    {
     "name": "stdout",
     "output_type": "stream",
     "text": [
      "[TILE ERROR] Found no graph nodes within the requested polygon. — bbox: (np.float64(-3.2371999999999996), np.float64(56.724999999999994), np.float64(-3.2154999999999996), np.float64(56.738))\n"
     ]
    },
    {
     "name": "stderr",
     "output_type": "stream",
     "text": [
      " 19%|█▊        | 3211/17350 [1:34:47<5:28:20,  1.39s/it] "
     ]
    },
    {
     "name": "stdout",
     "output_type": "stream",
     "text": [
      "[TILE ERROR] No data elements in server response. Check query location/filters and log. — bbox: (np.float64(-3.2215), np.float64(52.260999999999996), np.float64(-3.1997999999999998), np.float64(52.274))\n"
     ]
    },
    {
     "name": "stderr",
     "output_type": "stream",
     "text": [
      " 19%|█▊        | 3212/17350 [1:34:48<4:23:31,  1.12s/it]"
     ]
    },
    {
     "name": "stdout",
     "output_type": "stream",
     "text": [
      "[TILE ERROR] Graph contains no edges. — bbox: (np.float64(-3.2215), np.float64(52.855), np.float64(-3.1997999999999998), np.float64(52.867999999999995))\n"
     ]
    },
    {
     "name": "stderr",
     "output_type": "stream",
     "text": [
      " 19%|█▊        | 3220/17350 [1:35:02<6:34:55,  1.68s/it]"
     ]
    },
    {
     "name": "stdout",
     "output_type": "stream",
     "text": [
      "[TILE ERROR] Graph contains no edges. — bbox: (np.float64(-3.2215), np.float64(54.20499999999999), np.float64(-3.1997999999999998), np.float64(54.217999999999996))\n"
     ]
    },
    {
     "name": "stderr",
     "output_type": "stream",
     "text": [
      " 19%|█▉        | 3287/17350 [1:36:49<4:38:45,  1.19s/it] "
     ]
    },
    {
     "name": "stdout",
     "output_type": "stream",
     "text": [
      "[TILE ERROR] Graph contains no edges. — bbox: (np.float64(-3.2058), np.float64(56.86899999999999), np.float64(-3.1840999999999995), np.float64(56.882))\n"
     ]
    },
    {
     "name": "stderr",
     "output_type": "stream",
     "text": [
      " 19%|█▉        | 3288/17350 [1:36:50<4:27:41,  1.14s/it]"
     ]
    },
    {
     "name": "stdout",
     "output_type": "stream",
     "text": [
      "[TILE ERROR] Graph contains no edges. — bbox: (np.float64(-3.2058), np.float64(58.587999999999994), np.float64(-3.1840999999999995), np.float64(58.601))\n"
     ]
    },
    {
     "name": "stderr",
     "output_type": "stream",
     "text": [
      " 19%|█▉        | 3313/17350 [1:37:39<4:28:10,  1.15s/it] "
     ]
    },
    {
     "name": "stdout",
     "output_type": "stream",
     "text": [
      "[TILE ERROR] Graph contains no edges. — bbox: (np.float64(-3.1900999999999997), np.float64(52.34199999999999), np.float64(-3.1683999999999997), np.float64(52.355))\n"
     ]
    },
    {
     "name": "stderr",
     "output_type": "stream",
     "text": [
      " 19%|█▉        | 3314/17350 [1:37:41<5:19:47,  1.37s/it]"
     ]
    },
    {
     "name": "stdout",
     "output_type": "stream",
     "text": [
      "[TILE ERROR] Graph contains no edges. — bbox: (np.float64(-3.1900999999999997), np.float64(52.37799999999999), np.float64(-3.1683999999999997), np.float64(52.391))\n"
     ]
    },
    {
     "name": "stderr",
     "output_type": "stream",
     "text": [
      " 20%|█▉        | 3419/17350 [1:41:10<8:34:40,  2.22s/it] "
     ]
    },
    {
     "name": "stdout",
     "output_type": "stream",
     "text": [
      "[TILE ERROR] No data elements in server response. Check query location/filters and log. — bbox: (np.float64(-3.1587), np.float64(55.31199999999999), np.float64(-3.1369999999999996), np.float64(55.324999999999996))\n"
     ]
    },
    {
     "name": "stderr",
     "output_type": "stream",
     "text": [
      " 20%|██        | 3515/17350 [1:43:56<4:06:45,  1.07s/it] "
     ]
    },
    {
     "name": "stdout",
     "output_type": "stream",
     "text": [
      "[TILE ERROR] Graph contains no edges. — bbox: (np.float64(-3.1115999999999997), np.float64(52.54899999999999), np.float64(-3.0898999999999996), np.float64(52.562))\n"
     ]
    },
    {
     "name": "stderr",
     "output_type": "stream",
     "text": [
      " 20%|██        | 3538/17350 [1:44:43<10:05:24,  2.63s/it]"
     ]
    },
    {
     "name": "stdout",
     "output_type": "stream",
     "text": [
      "[TILE ERROR] Graph contains no edges. — bbox: (np.float64(-3.1115999999999997), np.float64(56.535999999999994), np.float64(-3.0898999999999996), np.float64(56.549))\n"
     ]
    },
    {
     "name": "stderr",
     "output_type": "stream",
     "text": [
      " 21%|██        | 3577/17350 [1:46:02<7:36:31,  1.99s/it] "
     ]
    },
    {
     "name": "stdout",
     "output_type": "stream",
     "text": [
      "[TILE ERROR] Graph contains no edges. — bbox: (np.float64(-3.0959), np.float64(53.574999999999996), np.float64(-3.0742), np.float64(53.588))\n"
     ]
    },
    {
     "name": "stderr",
     "output_type": "stream",
     "text": [
      " 21%|██        | 3637/17350 [1:47:47<6:27:48,  1.70s/it] "
     ]
    },
    {
     "name": "stdout",
     "output_type": "stream",
     "text": [
      "[TILE ERROR] Graph contains no edges. — bbox: (np.float64(-3.0802), np.float64(56.382999999999996), np.float64(-3.0584999999999996), np.float64(56.396))\n"
     ]
    },
    {
     "name": "stderr",
     "output_type": "stream",
     "text": [
      " 21%|██        | 3641/17350 [1:47:59<10:40:42,  2.80s/it]"
     ]
    },
    {
     "name": "stdout",
     "output_type": "stream",
     "text": [
      "[TILE ERROR] Graph contains no edges. — bbox: (np.float64(-3.0802), np.float64(58.471), np.float64(-3.0584999999999996), np.float64(58.483999999999995))\n"
     ]
    },
    {
     "name": "stderr",
     "output_type": "stream",
     "text": [
      " 21%|██▏       | 3713/17350 [1:50:20<11:14:18,  2.97s/it]"
     ]
    },
    {
     "name": "stdout",
     "output_type": "stream",
     "text": [
      "[TILE ERROR] Found no graph nodes within the requested polygon. — bbox: (np.float64(-3.0488), np.float64(52.12599999999999), np.float64(-3.0270999999999995), np.float64(52.138999999999996))\n"
     ]
    },
    {
     "name": "stderr",
     "output_type": "stream",
     "text": [
      " 22%|██▏       | 3827/17350 [1:53:51<5:53:28,  1.57s/it] "
     ]
    },
    {
     "name": "stdout",
     "output_type": "stream",
     "text": [
      "[TILE ERROR] No data elements in server response. Check query location/filters and log. — bbox: (np.float64(-3.0330999999999997), np.float64(54.54699999999999), np.float64(-3.0113999999999996), np.float64(54.559999999999995))\n"
     ]
    },
    {
     "name": "stderr",
     "output_type": "stream",
     "text": [
      " 23%|██▎       | 3960/17350 [1:59:41<8:14:25,  2.22s/it] "
     ]
    },
    {
     "name": "stdout",
     "output_type": "stream",
     "text": [
      "[TILE ERROR] Graph contains no edges. — bbox: (np.float64(-3.0017), np.float64(55.617999999999995), np.float64(-2.9799999999999995), np.float64(55.631))\n"
     ]
    },
    {
     "name": "stderr",
     "output_type": "stream",
     "text": [
      " 23%|██▎       | 4028/17350 [2:02:02<7:43:06,  2.09s/it] "
     ]
    },
    {
     "name": "stdout",
     "output_type": "stream",
     "text": [
      "[TILE ERROR] Graph contains no edges. — bbox: (np.float64(-2.9859999999999998), np.float64(56.62599999999999), np.float64(-2.9642999999999997), np.float64(56.638999999999996))\n"
     ]
    },
    {
     "name": "stderr",
     "output_type": "stream",
     "text": [
      " 24%|██▍       | 4206/17350 [2:07:22<9:11:07,  2.52s/it] "
     ]
    },
    {
     "name": "stdout",
     "output_type": "stream",
     "text": [
      "[TILE ERROR] Found no graph nodes within the requested polygon. — bbox: (np.float64(-2.9232), np.float64(51.56799999999999), np.float64(-2.9014999999999995), np.float64(51.580999999999996))\n"
     ]
    },
    {
     "name": "stderr",
     "output_type": "stream",
     "text": [
      " 24%|██▍       | 4240/17350 [2:08:13<6:11:06,  1.70s/it]"
     ]
    },
    {
     "name": "stdout",
     "output_type": "stream",
     "text": [
      "[TILE ERROR] Found no graph nodes within the requested polygon. — bbox: (np.float64(-2.9232), np.float64(53.88099999999999), np.float64(-2.9014999999999995), np.float64(53.894))\n"
     ]
    },
    {
     "name": "stderr",
     "output_type": "stream",
     "text": [
      " 24%|██▍       | 4246/17350 [2:08:24<5:10:38,  1.42s/it]"
     ]
    },
    {
     "name": "stdout",
     "output_type": "stream",
     "text": [
      "[TILE ERROR] Graph contains no edges. — bbox: (np.float64(-2.9232), np.float64(54.897999999999996), np.float64(-2.9014999999999995), np.float64(54.911))\n"
     ]
    },
    {
     "name": "stderr",
     "output_type": "stream",
     "text": [
      " 25%|██▍       | 4330/17350 [2:10:51<4:36:31,  1.27s/it]"
     ]
    },
    {
     "name": "stdout",
     "output_type": "stream",
     "text": [
      "[TILE ERROR] Graph contains no edges. — bbox: (np.float64(-2.8918), np.float64(53.13399999999999), np.float64(-2.8700999999999994), np.float64(53.147))\n"
     ]
    },
    {
     "name": "stderr",
     "output_type": "stream",
     "text": [
      " 25%|██▌       | 4385/17350 [2:12:25<5:49:30,  1.62s/it] "
     ]
    },
    {
     "name": "stdout",
     "output_type": "stream",
     "text": [
      "[TILE ERROR] Found no graph nodes within the requested polygon. — bbox: (np.float64(-2.8760999999999997), np.float64(52.297), np.float64(-2.8543999999999996), np.float64(52.309999999999995))\n"
     ]
    },
    {
     "name": "stderr",
     "output_type": "stream",
     "text": [
      " 25%|██▌       | 4420/17350 [2:13:12<3:40:43,  1.02s/it]"
     ]
    },
    {
     "name": "stdout",
     "output_type": "stream",
     "text": [
      "[TILE ERROR] Found no graph nodes within the requested polygon. — bbox: (np.float64(-2.8760999999999997), np.float64(54.93399999999999), np.float64(-2.8543999999999996), np.float64(54.946999999999996))\n"
     ]
    },
    {
     "name": "stderr",
     "output_type": "stream",
     "text": [
      " 26%|██▌       | 4429/17350 [2:13:25<5:27:33,  1.52s/it]"
     ]
    },
    {
     "name": "stdout",
     "output_type": "stream",
     "text": [
      "[TILE ERROR] Found no graph nodes within the requested polygon. — bbox: (np.float64(-2.8760999999999997), np.float64(57.20199999999999), np.float64(-2.8543999999999996), np.float64(57.214999999999996))\n"
     ]
    },
    {
     "name": "stderr",
     "output_type": "stream",
     "text": [
      " 26%|██▌       | 4479/17350 [2:14:38<4:57:53,  1.39s/it]"
     ]
    },
    {
     "name": "stdout",
     "output_type": "stream",
     "text": [
      "[TILE ERROR] Graph contains no edges. — bbox: (np.float64(-2.8447), np.float64(51.36999999999999), np.float64(-2.8229999999999995), np.float64(51.382999999999996))\n"
     ]
    },
    {
     "name": "stderr",
     "output_type": "stream",
     "text": [
      " 26%|██▌       | 4502/17350 [2:15:04<4:28:14,  1.25s/it]"
     ]
    },
    {
     "name": "stdout",
     "output_type": "stream",
     "text": [
      "[TILE ERROR] Graph contains no edges. — bbox: (np.float64(-2.8447), np.float64(53.43099999999999), np.float64(-2.8229999999999995), np.float64(53.443999999999996))\n"
     ]
    },
    {
     "name": "stderr",
     "output_type": "stream",
     "text": [
      " 26%|██▋       | 4568/17350 [2:16:40<3:28:20,  1.02it/s]"
     ]
    },
    {
     "name": "stdout",
     "output_type": "stream",
     "text": [
      "[TILE ERROR] Found no graph nodes within the requested polygon. — bbox: (np.float64(-2.8289999999999997), np.float64(56.553999999999995), np.float64(-2.8072999999999997), np.float64(56.567))\n"
     ]
    },
    {
     "name": "stderr",
     "output_type": "stream",
     "text": [
      " 26%|██▋       | 4580/17350 [2:16:57<4:10:14,  1.18s/it]"
     ]
    },
    {
     "name": "stdout",
     "output_type": "stream",
     "text": [
      "[TILE ERROR] Graph contains no edges. — bbox: (np.float64(-2.8133), np.float64(51.45099999999999), np.float64(-2.7916), np.float64(51.464))\n"
     ]
    },
    {
     "name": "stderr",
     "output_type": "stream",
     "text": [
      " 27%|██▋       | 4603/17350 [2:17:35<7:15:05,  2.05s/it] "
     ]
    },
    {
     "name": "stdout",
     "output_type": "stream",
     "text": [
      "[TILE ERROR] Found no graph nodes within the requested polygon. — bbox: (np.float64(-2.8133), np.float64(53.27799999999999), np.float64(-2.7916), np.float64(53.291))\n"
     ]
    },
    {
     "name": "stderr",
     "output_type": "stream",
     "text": [
      " 29%|██▊       | 4952/17350 [2:25:25<5:28:16,  1.59s/it] "
     ]
    },
    {
     "name": "stdout",
     "output_type": "stream",
     "text": [
      "[TILE ERROR] Graph contains no edges. — bbox: (np.float64(-2.7348), np.float64(54.07899999999999), np.float64(-2.7131), np.float64(54.092))\n"
     ]
    },
    {
     "name": "stderr",
     "output_type": "stream",
     "text": [
      " 29%|██▉       | 5075/17350 [2:28:02<3:28:01,  1.02s/it]"
     ]
    },
    {
     "name": "stdout",
     "output_type": "stream",
     "text": [
      "[TILE ERROR] Graph contains no edges. — bbox: (np.float64(-2.7034), np.float64(53.63799999999999), np.float64(-2.6816999999999998), np.float64(53.650999999999996))\n"
     ]
    },
    {
     "name": "stderr",
     "output_type": "stream",
     "text": [
      " 30%|██▉       | 5146/17350 [2:29:21<3:12:16,  1.06it/s]"
     ]
    },
    {
     "name": "stdout",
     "output_type": "stream",
     "text": [
      "[TILE ERROR] Found no graph nodes within the requested polygon. — bbox: (np.float64(-2.6877), np.float64(55.842999999999996), np.float64(-2.6659999999999995), np.float64(55.856))\n"
     ]
    },
    {
     "name": "stderr",
     "output_type": "stream",
     "text": [
      " 30%|██▉       | 5203/17350 [2:30:20<2:23:53,  1.41it/s]"
     ]
    },
    {
     "name": "stdout",
     "output_type": "stream",
     "text": [
      "[TILE ERROR] Graph contains no edges. — bbox: (np.float64(-2.6719999999999997), np.float64(54.672999999999995), np.float64(-2.6502999999999997), np.float64(54.686))\n"
     ]
    },
    {
     "name": "stderr",
     "output_type": "stream",
     "text": [
      " 30%|███       | 5212/17350 [2:30:30<3:18:25,  1.02it/s]"
     ]
    },
    {
     "name": "stdout",
     "output_type": "stream",
     "text": [
      "[TILE ERROR] Graph contains no edges. — bbox: (np.float64(-2.6563), np.float64(50.766999999999996), np.float64(-2.6346), np.float64(50.78))\n"
     ]
    },
    {
     "name": "stderr",
     "output_type": "stream",
     "text": [
      " 30%|███       | 5219/17350 [2:30:39<3:47:21,  1.12s/it]"
     ]
    },
    {
     "name": "stdout",
     "output_type": "stream",
     "text": [
      "[TILE ERROR] Found no graph nodes within the requested polygon. — bbox: (np.float64(-2.6563), np.float64(51.25299999999999), np.float64(-2.6346), np.float64(51.266))\n"
     ]
    },
    {
     "name": "stderr",
     "output_type": "stream",
     "text": [
      " 31%|███▏      | 5446/17350 [2:35:41<2:59:03,  1.11it/s]"
     ]
    },
    {
     "name": "stdout",
     "output_type": "stream",
     "text": [
      "[TILE ERROR] Graph contains no edges. — bbox: (np.float64(-2.5934999999999997), np.float64(53.07999999999999), np.float64(-2.5717999999999996), np.float64(53.092999999999996))\n"
     ]
    },
    {
     "name": "stderr",
     "output_type": "stream",
     "text": [
      " 32%|███▏      | 5548/17350 [2:38:01<2:11:42,  1.49it/s]"
     ]
    },
    {
     "name": "stdout",
     "output_type": "stream",
     "text": [
      "[TILE ERROR] Graph contains no edges. — bbox: (np.float64(-2.5621), np.float64(52.071999999999996), np.float64(-2.5403999999999995), np.float64(52.085))\n"
     ]
    },
    {
     "name": "stderr",
     "output_type": "stream",
     "text": [
      " 33%|███▎      | 5777/17350 [2:43:22<2:52:36,  1.12it/s]"
     ]
    },
    {
     "name": "stdout",
     "output_type": "stream",
     "text": [
      "[TILE ERROR] Graph contains no edges. — bbox: (np.float64(-2.4993), np.float64(50.964999999999996), np.float64(-2.4776), np.float64(50.978))\n"
     ]
    },
    {
     "name": "stderr",
     "output_type": "stream",
     "text": [
      " 34%|███▍      | 5966/17350 [2:47:27<3:52:55,  1.23s/it]"
     ]
    },
    {
     "name": "stdout",
     "output_type": "stream",
     "text": [
      "[TILE ERROR] Graph contains no edges. — bbox: (np.float64(-2.4678999999999998), np.float64(53.520999999999994), np.float64(-2.4461999999999997), np.float64(53.534))\n"
     ]
    },
    {
     "name": "stderr",
     "output_type": "stream",
     "text": [
      " 34%|███▍      | 5970/17350 [2:47:32<4:10:13,  1.32s/it]"
     ]
    },
    {
     "name": "stdout",
     "output_type": "stream",
     "text": [
      "[TILE ERROR] Found no graph nodes within the requested polygon. — bbox: (np.float64(-2.4678999999999998), np.float64(54.02499999999999), np.float64(-2.4461999999999997), np.float64(54.038))\n"
     ]
    },
    {
     "name": "stderr",
     "output_type": "stream",
     "text": [
      " 35%|███▍      | 6046/17350 [2:49:05<5:54:03,  1.88s/it]"
     ]
    },
    {
     "name": "stdout",
     "output_type": "stream",
     "text": [
      "[TILE ERROR] Graph contains no edges. — bbox: (np.float64(-2.4365), np.float64(50.65899999999999), np.float64(-2.4147999999999996), np.float64(50.672))\n"
     ]
    },
    {
     "name": "stderr",
     "output_type": "stream",
     "text": [
      " 36%|███▌      | 6160/17350 [2:51:32<3:14:31,  1.04s/it]"
     ]
    },
    {
     "name": "stdout",
     "output_type": "stream",
     "text": [
      "[TILE ERROR] Found no graph nodes within the requested polygon. — bbox: (np.float64(-2.4208), np.float64(57.21999999999999), np.float64(-2.3991), np.float64(57.233))\n"
     ]
    },
    {
     "name": "stderr",
     "output_type": "stream",
     "text": [
      " 36%|███▌      | 6188/17350 [2:52:01<2:09:53,  1.43it/s]"
     ]
    },
    {
     "name": "stdout",
     "output_type": "stream",
     "text": [
      "[TILE ERROR] Graph contains no edges. — bbox: (np.float64(-2.4051), np.float64(52.89099999999999), np.float64(-2.3833999999999995), np.float64(52.903999999999996))\n"
     ]
    },
    {
     "name": "stderr",
     "output_type": "stream",
     "text": [
      " 36%|███▌      | 6217/17350 [2:52:39<3:47:58,  1.23s/it]"
     ]
    },
    {
     "name": "stdout",
     "output_type": "stream",
     "text": [
      "[TILE ERROR] Graph contains no edges. — bbox: (np.float64(-2.4051), np.float64(53.916999999999994), np.float64(-2.3833999999999995), np.float64(53.93))\n"
     ]
    },
    {
     "name": "stderr",
     "output_type": "stream",
     "text": [
      " 36%|███▌      | 6224/17350 [2:52:47<4:13:02,  1.36s/it]"
     ]
    },
    {
     "name": "stdout",
     "output_type": "stream",
     "text": [
      "[TILE ERROR] Graph contains no edges. — bbox: (np.float64(-2.3893999999999997), np.float64(50.757999999999996), np.float64(-2.3676999999999997), np.float64(50.771))\n"
     ]
    },
    {
     "name": "stderr",
     "output_type": "stream",
     "text": [
      " 36%|███▋      | 6313/17350 [2:54:39<2:26:41,  1.25it/s]"
     ]
    },
    {
     "name": "stdout",
     "output_type": "stream",
     "text": [
      "[TILE ERROR] Found no graph nodes within the requested polygon. — bbox: (np.float64(-2.3737), np.float64(53.331999999999994), np.float64(-2.352), np.float64(53.345))\n"
     ]
    },
    {
     "name": "stderr",
     "output_type": "stream",
     "text": [
      " 36%|███▋      | 6329/17350 [2:55:07<5:27:27,  1.78s/it]"
     ]
    },
    {
     "name": "stdout",
     "output_type": "stream",
     "text": [
      "[TILE ERROR] Found no graph nodes within the requested polygon. — bbox: (np.float64(-2.3737), np.float64(54.76299999999999), np.float64(-2.352), np.float64(54.775999999999996))\n"
     ]
    },
    {
     "name": "stderr",
     "output_type": "stream",
     "text": [
      " 37%|███▋      | 6413/17350 [2:57:02<2:49:26,  1.08it/s]"
     ]
    },
    {
     "name": "stdout",
     "output_type": "stream",
     "text": [
      "[TILE ERROR] Graph contains no edges. — bbox: (np.float64(-2.3423), np.float64(53.26899999999999), np.float64(-2.3205999999999998), np.float64(53.282))\n"
     ]
    },
    {
     "name": "stderr",
     "output_type": "stream",
     "text": [
      " 37%|███▋      | 6431/17350 [2:57:30<3:23:46,  1.12s/it]"
     ]
    },
    {
     "name": "stdout",
     "output_type": "stream",
     "text": [
      "[TILE ERROR] Graph contains no edges. — bbox: (np.float64(-2.3423), np.float64(54.39399999999999), np.float64(-2.3205999999999998), np.float64(54.407))\n"
     ]
    },
    {
     "name": "stderr",
     "output_type": "stream",
     "text": [
      " 37%|███▋      | 6492/17350 [2:58:40<2:56:50,  1.02it/s]"
     ]
    },
    {
     "name": "stdout",
     "output_type": "stream",
     "text": [
      "[TILE ERROR] Found no graph nodes within the requested polygon. — bbox: (np.float64(-2.3266), np.float64(54.81699999999999), np.float64(-2.3048999999999995), np.float64(54.83))\n"
     ]
    },
    {
     "name": "stderr",
     "output_type": "stream",
     "text": [
      " 37%|███▋      | 6493/17350 [2:58:42<3:42:35,  1.23s/it]"
     ]
    },
    {
     "name": "stdout",
     "output_type": "stream",
     "text": [
      "[TILE ERROR] Graph contains no edges. — bbox: (np.float64(-2.3266), np.float64(54.94299999999999), np.float64(-2.3048999999999995), np.float64(54.955999999999996))\n"
     ]
    },
    {
     "name": "stderr",
     "output_type": "stream",
     "text": [
      " 38%|███▊      | 6629/17350 [3:01:33<6:12:59,  2.09s/it]"
     ]
    },
    {
     "name": "stdout",
     "output_type": "stream",
     "text": [
      "[TILE ERROR] Graph contains no edges. — bbox: (np.float64(-2.2952), np.float64(55.00599999999999), np.float64(-2.2735), np.float64(55.019))\n"
     ]
    },
    {
     "name": "stderr",
     "output_type": "stream",
     "text": [
      " 38%|███▊      | 6633/17350 [3:01:37<3:59:46,  1.34s/it]"
     ]
    },
    {
     "name": "stdout",
     "output_type": "stream",
     "text": [
      "[TILE ERROR] Found no graph nodes within the requested polygon. — bbox: (np.float64(-2.2795), np.float64(50.63199999999999), np.float64(-2.2577999999999996), np.float64(50.644999999999996))\n"
     ]
    },
    {
     "name": "stderr",
     "output_type": "stream",
     "text": [
      " 38%|███▊      | 6650/17350 [3:01:58<4:06:44,  1.38s/it]"
     ]
    },
    {
     "name": "stdout",
     "output_type": "stream",
     "text": [
      "[TILE ERROR] Graph contains no edges. — bbox: (np.float64(-2.2795), np.float64(52.108), np.float64(-2.2577999999999996), np.float64(52.120999999999995))\n"
     ]
    },
    {
     "name": "stderr",
     "output_type": "stream",
     "text": [
      " 39%|███▊      | 6696/17350 [3:03:05<2:07:41,  1.39it/s]"
     ]
    },
    {
     "name": "stdout",
     "output_type": "stream",
     "text": [
      "[TILE ERROR] Found no graph nodes within the requested polygon. — bbox: (np.float64(-2.2638), np.float64(51.23499999999999), np.float64(-2.2420999999999998), np.float64(51.248))\n"
     ]
    },
    {
     "name": "stderr",
     "output_type": "stream",
     "text": [
      " 39%|███▊      | 6702/17350 [3:03:14<4:15:44,  1.44s/it]"
     ]
    },
    {
     "name": "stdout",
     "output_type": "stream",
     "text": [
      "[TILE ERROR] Found no graph nodes within the requested polygon. — bbox: (np.float64(-2.2638), np.float64(51.702999999999996), np.float64(-2.2420999999999998), np.float64(51.716))\n"
     ]
    },
    {
     "name": "stderr",
     "output_type": "stream",
     "text": [
      " 39%|███▉      | 6724/17350 [3:03:50<1:18:30,  2.26it/s] "
     ]
    },
    {
     "name": "stdout",
     "output_type": "stream",
     "text": [
      "[TILE ERROR] Found no graph nodes within the requested polygon. — bbox: (np.float64(-2.2638), np.float64(52.93599999999999), np.float64(-2.2420999999999998), np.float64(52.949))\n"
     ]
    },
    {
     "name": "stderr",
     "output_type": "stream",
     "text": [
      " 39%|███▉      | 6749/17350 [3:04:34<4:15:40,  1.45s/it]"
     ]
    },
    {
     "name": "stdout",
     "output_type": "stream",
     "text": [
      "[TILE ERROR] Graph contains no edges. — bbox: (np.float64(-2.2638), np.float64(54.321999999999996), np.float64(-2.2420999999999998), np.float64(54.335))\n"
     ]
    },
    {
     "name": "stderr",
     "output_type": "stream",
     "text": [
      " 40%|███▉      | 6865/17350 [3:07:26<3:16:25,  1.12s/it] "
     ]
    },
    {
     "name": "stdout",
     "output_type": "stream",
     "text": [
      "[TILE ERROR] Graph contains no edges. — bbox: (np.float64(-2.2323999999999997), np.float64(53.187999999999995), np.float64(-2.2106999999999997), np.float64(53.201))\n"
     ]
    },
    {
     "name": "stderr",
     "output_type": "stream",
     "text": [
      " 40%|████      | 6967/17350 [3:09:40<2:54:15,  1.01s/it]"
     ]
    },
    {
     "name": "stdout",
     "output_type": "stream",
     "text": [
      "[TILE ERROR] No data elements in server response. Check query location/filters and log. — bbox: (np.float64(-2.2167), np.float64(54.37599999999999), np.float64(-2.195), np.float64(54.388999999999996))\n"
     ]
    },
    {
     "name": "stderr",
     "output_type": "stream",
     "text": [
      " 40%|████      | 6969/17350 [3:09:44<4:55:39,  1.71s/it]"
     ]
    },
    {
     "name": "stdout",
     "output_type": "stream",
     "text": [
      "[TILE ERROR] Found no graph nodes within the requested polygon. — bbox: (np.float64(-2.2167), np.float64(55.032999999999994), np.float64(-2.195), np.float64(55.046))\n"
     ]
    },
    {
     "name": "stderr",
     "output_type": "stream",
     "text": [
      " 41%|████      | 7123/17350 [3:13:47<3:09:05,  1.11s/it] "
     ]
    },
    {
     "name": "stdout",
     "output_type": "stream",
     "text": [
      "[TILE ERROR] Graph contains no edges. — bbox: (np.float64(-2.1853), np.float64(54.95199999999999), np.float64(-2.1635999999999997), np.float64(54.964999999999996))\n"
     ]
    },
    {
     "name": "stderr",
     "output_type": "stream",
     "text": [
      " 42%|████▏     | 7210/17350 [3:15:51<4:13:49,  1.50s/it]"
     ]
    },
    {
     "name": "stdout",
     "output_type": "stream",
     "text": [
      "[TILE ERROR] Graph contains no edges. — bbox: (np.float64(-2.1696), np.float64(53.782), np.float64(-2.1479), np.float64(53.795))\n"
     ]
    },
    {
     "name": "stderr",
     "output_type": "stream",
     "text": [
      " 42%|████▏     | 7290/17350 [3:17:45<4:41:25,  1.68s/it]"
     ]
    },
    {
     "name": "stdout",
     "output_type": "stream",
     "text": [
      "[TILE ERROR] Found no graph nodes within the requested polygon. — bbox: (np.float64(-2.1539), np.float64(54.78099999999999), np.float64(-2.1321999999999997), np.float64(54.794))\n"
     ]
    },
    {
     "name": "stderr",
     "output_type": "stream",
     "text": [
      " 42%|████▏     | 7301/17350 [3:17:59<3:01:16,  1.08s/it]"
     ]
    },
    {
     "name": "stdout",
     "output_type": "stream",
     "text": [
      "[TILE ERROR] Found no graph nodes within the requested polygon. — bbox: (np.float64(-2.1382), np.float64(50.794), np.float64(-2.1165), np.float64(50.806999999999995))\n"
     ]
    },
    {
     "name": "stderr",
     "output_type": "stream",
     "text": [
      " 43%|████▎     | 7376/17350 [3:19:40<2:41:09,  1.03it/s]"
     ]
    },
    {
     "name": "stdout",
     "output_type": "stream",
     "text": [
      "[TILE ERROR] Found no graph nodes within the requested polygon. — bbox: (np.float64(-2.1382), np.float64(54.123999999999995), np.float64(-2.1165), np.float64(54.137))\n"
     ]
    },
    {
     "name": "stderr",
     "output_type": "stream",
     "text": [
      " 43%|████▎     | 7398/17350 [3:20:13<4:34:14,  1.65s/it]"
     ]
    },
    {
     "name": "stdout",
     "output_type": "stream",
     "text": [
      "[TILE ERROR] Found no graph nodes within the requested polygon. — bbox: (np.float64(-2.1225), np.float64(51.22599999999999), np.float64(-2.1007999999999996), np.float64(51.239))\n"
     ]
    },
    {
     "name": "stderr",
     "output_type": "stream",
     "text": [
      " 43%|████▎     | 7517/17350 [3:23:12<52:26,  3.12it/s]  "
     ]
    },
    {
     "name": "stdout",
     "output_type": "stream",
     "text": [
      "[TILE ERROR] Graph contains no edges. — bbox: (np.float64(-2.1068), np.float64(53.178999999999995), np.float64(-2.0850999999999997), np.float64(53.192))\n"
     ]
    },
    {
     "name": "stderr",
     "output_type": "stream",
     "text": [
      " 44%|████▍     | 7615/17350 [3:26:46<37:58:00, 14.04s/it]"
     ]
    },
    {
     "name": "stdout",
     "output_type": "stream",
     "text": [
      "[TILE ERROR] Graph contains no edges. — bbox: (np.float64(-2.0754), np.float64(51.20799999999999), np.float64(-2.0536999999999996), np.float64(51.221))\n"
     ]
    },
    {
     "name": "stderr",
     "output_type": "stream",
     "text": [
      " 44%|████▍     | 7659/17350 [3:28:41<2:28:26,  1.09it/s] "
     ]
    },
    {
     "name": "stdout",
     "output_type": "stream",
     "text": [
      "[TILE ERROR] Graph contains no edges. — bbox: (np.float64(-2.0754), np.float64(53.961999999999996), np.float64(-2.0536999999999996), np.float64(53.975))\n"
     ]
    },
    {
     "name": "stderr",
     "output_type": "stream",
     "text": [
      " 44%|████▍     | 7662/17350 [3:28:44<2:59:47,  1.11s/it]"
     ]
    },
    {
     "name": "stdout",
     "output_type": "stream",
     "text": [
      "[TILE ERROR] Found no graph nodes within the requested polygon. — bbox: (np.float64(-2.0597), np.float64(50.88399999999999), np.float64(-2.038), np.float64(50.897))\n"
     ]
    },
    {
     "name": "stderr",
     "output_type": "stream",
     "text": [
      " 44%|████▍     | 7718/17350 [3:30:10<3:42:47,  1.39s/it]"
     ]
    },
    {
     "name": "stdout",
     "output_type": "stream",
     "text": [
      "[TILE ERROR] No data elements in server response. Check query location/filters and log. — bbox: (np.float64(-2.0597), np.float64(53.68299999999999), np.float64(-2.038), np.float64(53.696))\n"
     ]
    },
    {
     "name": "stderr",
     "output_type": "stream",
     "text": [
      " 44%|████▍     | 7719/17350 [3:30:11<3:47:56,  1.42s/it]"
     ]
    },
    {
     "name": "stdout",
     "output_type": "stream",
     "text": [
      "[TILE ERROR] Found no graph nodes within the requested polygon. — bbox: (np.float64(-2.0597), np.float64(53.782), np.float64(-2.038), np.float64(53.795))\n"
     ]
    },
    {
     "name": "stderr",
     "output_type": "stream",
     "text": [
      " 45%|████▍     | 7723/17350 [3:30:17<4:00:42,  1.50s/it]"
     ]
    },
    {
     "name": "stdout",
     "output_type": "stream",
     "text": [
      "[TILE ERROR] Graph contains no edges. — bbox: (np.float64(-2.0597), np.float64(54.36699999999999), np.float64(-2.038), np.float64(54.379999999999995))\n"
     ]
    },
    {
     "name": "stderr",
     "output_type": "stream",
     "text": [
      " 45%|████▍     | 7724/17350 [3:30:19<3:57:13,  1.48s/it]"
     ]
    },
    {
     "name": "stdout",
     "output_type": "stream",
     "text": [
      "[TILE ERROR] Found no graph nodes within the requested polygon. — bbox: (np.float64(-2.0597), np.float64(54.708999999999996), np.float64(-2.038), np.float64(54.722))\n"
     ]
    },
    {
     "name": "stderr",
     "output_type": "stream",
     "text": [
      " 45%|████▍     | 7731/17350 [3:30:30<3:40:54,  1.38s/it]"
     ]
    },
    {
     "name": "stdout",
     "output_type": "stream",
     "text": [
      "[TILE ERROR] Found no graph nodes within the requested polygon. — bbox: (np.float64(-2.044), np.float64(51.25299999999999), np.float64(-2.0222999999999995), np.float64(51.266))\n"
     ]
    },
    {
     "name": "stderr",
     "output_type": "stream",
     "text": [
      " 45%|████▍     | 7763/17350 [3:31:22<3:30:11,  1.32s/it]"
     ]
    },
    {
     "name": "stdout",
     "output_type": "stream",
     "text": [
      "[TILE ERROR] Graph contains no edges. — bbox: (np.float64(-2.044), np.float64(52.962999999999994), np.float64(-2.0222999999999995), np.float64(52.976))\n"
     ]
    },
    {
     "name": "stderr",
     "output_type": "stream",
     "text": [
      " 45%|████▌     | 7820/17350 [3:33:08<4:09:36,  1.57s/it]"
     ]
    },
    {
     "name": "stdout",
     "output_type": "stream",
     "text": [
      "[TILE ERROR] Found no graph nodes within the requested polygon. — bbox: (np.float64(-2.0282999999999998), np.float64(53.169999999999995), np.float64(-2.0065999999999997), np.float64(53.183))\n"
     ]
    },
    {
     "name": "stderr",
     "output_type": "stream",
     "text": [
      " 45%|████▌     | 7834/17350 [3:33:33<3:39:30,  1.38s/it]"
     ]
    },
    {
     "name": "stdout",
     "output_type": "stream",
     "text": [
      "[TILE ERROR] Found no graph nodes within the requested polygon. — bbox: (np.float64(-2.0282999999999998), np.float64(54.39399999999999), np.float64(-2.0065999999999997), np.float64(54.407))\n"
     ]
    },
    {
     "name": "stderr",
     "output_type": "stream",
     "text": [
      " 45%|████▌     | 7885/17350 [3:34:56<1:54:06,  1.38it/s]"
     ]
    },
    {
     "name": "stdout",
     "output_type": "stream",
     "text": [
      "[TILE ERROR] Found no graph nodes within the requested polygon. — bbox: (np.float64(-2.0126), np.float64(53.25999999999999), np.float64(-1.9909), np.float64(53.272999999999996))\n"
     ]
    },
    {
     "name": "stderr",
     "output_type": "stream",
     "text": [
      " 46%|████▌     | 7958/17350 [3:37:43<5:02:18,  1.93s/it] "
     ]
    },
    {
     "name": "stdout",
     "output_type": "stream",
     "text": [
      "[TILE ERROR] Found no graph nodes within the requested polygon. — bbox: (np.float64(-1.9968999999999997), np.float64(54.24099999999999), np.float64(-1.9751999999999998), np.float64(54.254))\n"
     ]
    },
    {
     "name": "stderr",
     "output_type": "stream",
     "text": [
      " 46%|████▌     | 7961/17350 [3:37:48<4:14:36,  1.63s/it]"
     ]
    },
    {
     "name": "stdout",
     "output_type": "stream",
     "text": [
      "[TILE ERROR] Graph contains no edges. — bbox: (np.float64(-1.9968999999999997), np.float64(54.42099999999999), np.float64(-1.9751999999999998), np.float64(54.434))\n"
     ]
    },
    {
     "name": "stderr",
     "output_type": "stream",
     "text": [
      " 46%|████▌     | 7976/17350 [3:38:11<4:30:14,  1.73s/it]"
     ]
    },
    {
     "name": "stdout",
     "output_type": "stream",
     "text": [
      "[TILE ERROR] Found no graph nodes within the requested polygon. — bbox: (np.float64(-1.9811999999999996), np.float64(51.23499999999999), np.float64(-1.9595), np.float64(51.248))\n"
     ]
    },
    {
     "name": "stderr",
     "output_type": "stream",
     "text": [
      " 46%|████▋     | 8031/17350 [3:40:12<7:57:39,  3.08s/it] "
     ]
    },
    {
     "name": "stdout",
     "output_type": "stream",
     "text": [
      "[TILE ERROR] Found no graph nodes within the requested polygon. — bbox: (np.float64(-1.9811999999999996), np.float64(53.50299999999999), np.float64(-1.9595), np.float64(53.516))\n"
     ]
    },
    {
     "name": "stderr",
     "output_type": "stream",
     "text": [
      " 46%|████▋     | 8036/17350 [3:40:24<8:45:07,  3.38s/it]"
     ]
    },
    {
     "name": "stdout",
     "output_type": "stream",
     "text": [
      "[TILE ERROR] No data elements in server response. Check query location/filters and log. — bbox: (np.float64(-1.9811999999999996), np.float64(54.17799999999999), np.float64(-1.9595), np.float64(54.190999999999995))\n"
     ]
    },
    {
     "name": "stderr",
     "output_type": "stream",
     "text": [
      " 47%|████▋     | 8149/17350 [3:44:30<3:39:18,  1.43s/it] "
     ]
    },
    {
     "name": "stdout",
     "output_type": "stream",
     "text": [
      "[TILE ERROR] Found no graph nodes within the requested polygon. — bbox: (np.float64(-1.9497999999999998), np.float64(54.39399999999999), np.float64(-1.9281), np.float64(54.407))\n"
     ]
    },
    {
     "name": "stderr",
     "output_type": "stream",
     "text": [
      " 47%|████▋     | 8151/17350 [3:44:38<7:17:46,  2.86s/it]"
     ]
    },
    {
     "name": "stdout",
     "output_type": "stream",
     "text": [
      "[TILE ERROR] Found no graph nodes within the requested polygon. — bbox: (np.float64(-1.9497999999999998), np.float64(55.275999999999996), np.float64(-1.9281), np.float64(55.289))\n"
     ]
    },
    {
     "name": "stderr",
     "output_type": "stream",
     "text": [
      " 48%|████▊     | 8257/17350 [3:47:39<1:03:26,  2.39it/s]"
     ]
    },
    {
     "name": "stdout",
     "output_type": "stream",
     "text": [
      "[TILE ERROR] Graph contains no edges. — bbox: (np.float64(-1.9183999999999997), np.float64(53.26899999999999), np.float64(-1.8967), np.float64(53.282))\n"
     ]
    },
    {
     "name": "stderr",
     "output_type": "stream",
     "text": [
      " 48%|████▊     | 8265/17350 [3:47:45<2:13:35,  1.13it/s]"
     ]
    },
    {
     "name": "stdout",
     "output_type": "stream",
     "text": [
      "[TILE ERROR] Found no graph nodes within the requested polygon. — bbox: (np.float64(-1.9183999999999997), np.float64(54.294999999999995), np.float64(-1.8967), np.float64(54.308))\n"
     ]
    },
    {
     "name": "stderr",
     "output_type": "stream",
     "text": [
      " 48%|████▊     | 8305/17350 [3:48:52<1:41:31,  1.48it/s]"
     ]
    },
    {
     "name": "stdout",
     "output_type": "stream",
     "text": [
      "[TILE ERROR] No data elements in server response. Check query location/filters and log. — bbox: (np.float64(-1.9026999999999998), np.float64(53.45799999999999), np.float64(-1.881), np.float64(53.471))\n"
     ]
    },
    {
     "name": "stderr",
     "output_type": "stream",
     "text": [
      " 48%|████▊     | 8330/17350 [3:49:37<4:42:41,  1.88s/it]"
     ]
    },
    {
     "name": "stdout",
     "output_type": "stream",
     "text": [
      "[TILE ERROR] Found no graph nodes within the requested polygon. — bbox: (np.float64(-1.8869999999999998), np.float64(51.459999999999994), np.float64(-1.8653), np.float64(51.473))\n"
     ]
    },
    {
     "name": "stderr",
     "output_type": "stream",
     "text": [
      " 48%|████▊     | 8357/17350 [3:50:32<6:42:37,  2.69s/it]"
     ]
    },
    {
     "name": "stdout",
     "output_type": "stream",
     "text": [
      "[TILE ERROR] Graph contains no edges. — bbox: (np.float64(-1.8869999999999998), np.float64(52.989999999999995), np.float64(-1.8653), np.float64(53.003))\n"
     ]
    },
    {
     "name": "stderr",
     "output_type": "stream",
     "text": [
      " 48%|████▊     | 8370/17350 [3:50:59<4:14:51,  1.70s/it]"
     ]
    },
    {
     "name": "stdout",
     "output_type": "stream",
     "text": [
      "[TILE ERROR] Graph contains no edges. — bbox: (np.float64(-1.8869999999999998), np.float64(54.294999999999995), np.float64(-1.8653), np.float64(54.308))\n"
     ]
    },
    {
     "name": "stderr",
     "output_type": "stream",
     "text": [
      " 49%|████▉     | 8461/17350 [3:54:03<4:36:46,  1.87s/it]"
     ]
    },
    {
     "name": "stdout",
     "output_type": "stream",
     "text": [
      "[TILE ERROR] Found no graph nodes within the requested polygon. — bbox: (np.float64(-1.8555999999999997), np.float64(53.25099999999999), np.float64(-1.8338999999999999), np.float64(53.263999999999996))\n"
     ]
    },
    {
     "name": "stderr",
     "output_type": "stream",
     "text": [
      " 49%|████▉     | 8510/17350 [3:55:57<7:06:45,  2.90s/it] "
     ]
    },
    {
     "name": "stdout",
     "output_type": "stream",
     "text": [
      "[TILE ERROR] Found no graph nodes within the requested polygon. — bbox: (np.float64(-1.8398999999999996), np.float64(52.88199999999999), np.float64(-1.8182), np.float64(52.894999999999996))\n"
     ]
    },
    {
     "name": "stderr",
     "output_type": "stream",
     "text": [
      " 50%|████▉     | 8603/17350 [3:58:43<2:18:14,  1.05it/s]"
     ]
    },
    {
     "name": "stdout",
     "output_type": "stream",
     "text": [
      "[TILE ERROR] Found no graph nodes within the requested polygon. — bbox: (np.float64(-1.8084999999999998), np.float64(51.43299999999999), np.float64(-1.7868), np.float64(51.446))\n"
     ]
    },
    {
     "name": "stderr",
     "output_type": "stream",
     "text": [
      " 50%|████▉     | 8642/17350 [4:00:05<3:35:10,  1.48s/it]"
     ]
    },
    {
     "name": "stdout",
     "output_type": "stream",
     "text": [
      "[TILE ERROR] No data elements in server response. Check query location/filters and log. — bbox: (np.float64(-1.8084999999999998), np.float64(53.422), np.float64(-1.7868), np.float64(53.434999999999995))\n"
     ]
    },
    {
     "name": "stderr",
     "output_type": "stream",
     "text": [
      " 50%|████▉     | 8643/17350 [4:00:06<3:50:45,  1.59s/it]"
     ]
    },
    {
     "name": "stdout",
     "output_type": "stream",
     "text": [
      "[TILE ERROR] No data elements in server response. Check query location/filters and log. — bbox: (np.float64(-1.8084999999999998), np.float64(53.43099999999999), np.float64(-1.7868), np.float64(53.443999999999996))\n"
     ]
    },
    {
     "name": "stderr",
     "output_type": "stream",
     "text": [
      " 50%|█████     | 8693/17350 [4:01:59<6:57:59,  2.90s/it] "
     ]
    },
    {
     "name": "stdout",
     "output_type": "stream",
     "text": [
      "[TILE ERROR] Graph contains no edges. — bbox: (np.float64(-1.7927999999999997), np.float64(51.62199999999999), np.float64(-1.7711), np.float64(51.635))\n"
     ]
    },
    {
     "name": "stderr",
     "output_type": "stream",
     "text": [
      " 50%|█████     | 8735/17350 [4:03:26<3:51:52,  1.61s/it] "
     ]
    },
    {
     "name": "stdout",
     "output_type": "stream",
     "text": [
      "[TILE ERROR] Graph contains no edges. — bbox: (np.float64(-1.7927999999999997), np.float64(55.51899999999999), np.float64(-1.7711), np.float64(55.532))\n"
     ]
    },
    {
     "name": "stderr",
     "output_type": "stream",
     "text": [
      " 51%|█████     | 8773/17350 [4:04:34<3:28:23,  1.46s/it]"
     ]
    },
    {
     "name": "stdout",
     "output_type": "stream",
     "text": [
      "[TILE ERROR] Found no graph nodes within the requested polygon. — bbox: (np.float64(-1.7770999999999997), np.float64(53.971), np.float64(-1.7554), np.float64(53.984))\n"
     ]
    },
    {
     "name": "stderr",
     "output_type": "stream",
     "text": [
      " 51%|█████     | 8775/17350 [4:04:35<2:11:57,  1.08it/s]"
     ]
    },
    {
     "name": "stdout",
     "output_type": "stream",
     "text": [
      "[TILE ERROR] Found no graph nodes within the requested polygon. — bbox: (np.float64(-1.7770999999999997), np.float64(53.98899999999999), np.float64(-1.7554), np.float64(54.001999999999995))\n"
     ]
    },
    {
     "name": "stderr",
     "output_type": "stream",
     "text": [
      " 51%|█████     | 8799/17350 [4:05:10<3:02:23,  1.28s/it]"
     ]
    },
    {
     "name": "stdout",
     "output_type": "stream",
     "text": [
      "[TILE ERROR] Graph contains no edges. — bbox: (np.float64(-1.7613999999999999), np.float64(51.21699999999999), np.float64(-1.7397), np.float64(51.23))\n"
     ]
    },
    {
     "name": "stderr",
     "output_type": "stream",
     "text": [
      " 51%|█████     | 8841/17350 [4:06:27<4:04:18,  1.72s/it]"
     ]
    },
    {
     "name": "stdout",
     "output_type": "stream",
     "text": [
      "[TILE ERROR] Found no graph nodes within the requested polygon. — bbox: (np.float64(-1.7456999999999998), np.float64(51.081999999999994), np.float64(-1.724), np.float64(51.095))\n"
     ]
    },
    {
     "name": "stderr",
     "output_type": "stream",
     "text": [
      " 51%|█████     | 8886/17350 [4:08:09<6:15:52,  2.66s/it]"
     ]
    },
    {
     "name": "stdout",
     "output_type": "stream",
     "text": [
      "[TILE ERROR] Found no graph nodes within the requested polygon. — bbox: (np.float64(-1.7456999999999998), np.float64(54.60099999999999), np.float64(-1.724), np.float64(54.614))\n"
     ]
    },
    {
     "name": "stderr",
     "output_type": "stream",
     "text": [
      " 51%|█████▏    | 8897/17350 [4:08:28<4:16:08,  1.82s/it]"
     ]
    },
    {
     "name": "stdout",
     "output_type": "stream",
     "text": [
      "[TILE ERROR] Found no graph nodes within the requested polygon. — bbox: (np.float64(-1.7299999999999998), np.float64(51.04599999999999), np.float64(-1.7083), np.float64(51.059))\n"
     ]
    },
    {
     "name": "stderr",
     "output_type": "stream",
     "text": [
      " 51%|█████▏    | 8898/17350 [4:08:31<4:32:17,  1.93s/it]"
     ]
    },
    {
     "name": "stdout",
     "output_type": "stream",
     "text": [
      "[TILE ERROR] Found no graph nodes within the requested polygon. — bbox: (np.float64(-1.7299999999999998), np.float64(51.07299999999999), np.float64(-1.7083), np.float64(51.086))\n"
     ]
    },
    {
     "name": "stderr",
     "output_type": "stream",
     "text": [
      " 51%|█████▏    | 8908/17350 [4:08:50<3:06:57,  1.33s/it]"
     ]
    },
    {
     "name": "stdout",
     "output_type": "stream",
     "text": [
      "[TILE ERROR] Found no graph nodes within the requested polygon. — bbox: (np.float64(-1.7299999999999998), np.float64(51.79299999999999), np.float64(-1.7083), np.float64(51.806))\n"
     ]
    },
    {
     "name": "stderr",
     "output_type": "stream",
     "text": [
      " 52%|█████▏    | 8953/17350 [4:10:00<2:17:20,  1.02it/s]"
     ]
    },
    {
     "name": "stdout",
     "output_type": "stream",
     "text": [
      "[TILE ERROR] Found no graph nodes within the requested polygon. — bbox: (np.float64(-1.7142999999999997), np.float64(51.26199999999999), np.float64(-1.6925999999999999), np.float64(51.275))\n"
     ]
    },
    {
     "name": "stderr",
     "output_type": "stream",
     "text": [
      " 52%|█████▏    | 9021/17350 [4:12:58<4:25:35,  1.91s/it] "
     ]
    },
    {
     "name": "stdout",
     "output_type": "stream",
     "text": [
      "[TILE ERROR] Found no graph nodes within the requested polygon. — bbox: (np.float64(-1.6985999999999997), np.float64(53.25999999999999), np.float64(-1.6769), np.float64(53.272999999999996))\n"
     ]
    },
    {
     "name": "stderr",
     "output_type": "stream",
     "text": [
      " 52%|█████▏    | 9037/17350 [4:13:28<2:16:44,  1.01it/s]"
     ]
    },
    {
     "name": "stdout",
     "output_type": "stream",
     "text": [
      "[TILE ERROR] Found no graph nodes within the requested polygon. — bbox: (np.float64(-1.6985999999999997), np.float64(54.16), np.float64(-1.6769), np.float64(54.173))\n"
     ]
    },
    {
     "name": "stderr",
     "output_type": "stream",
     "text": [
      " 52%|█████▏    | 9046/17350 [4:13:42<3:21:57,  1.46s/it]"
     ]
    },
    {
     "name": "stdout",
     "output_type": "stream",
     "text": [
      "[TILE ERROR] Found no graph nodes within the requested polygon. — bbox: (np.float64(-1.6985999999999997), np.float64(54.78099999999999), np.float64(-1.6769), np.float64(54.794))\n"
     ]
    },
    {
     "name": "stderr",
     "output_type": "stream",
     "text": [
      " 52%|█████▏    | 9070/17350 [4:14:21<4:16:06,  1.86s/it]"
     ]
    },
    {
     "name": "stdout",
     "output_type": "stream",
     "text": [
      "[TILE ERROR] Found no graph nodes within the requested polygon. — bbox: (np.float64(-1.6828999999999998), np.float64(51.99099999999999), np.float64(-1.6612), np.float64(52.004))\n"
     ]
    },
    {
     "name": "stderr",
     "output_type": "stream",
     "text": [
      " 52%|█████▏    | 9090/17350 [4:14:55<3:40:54,  1.60s/it]"
     ]
    },
    {
     "name": "stdout",
     "output_type": "stream",
     "text": [
      "[TILE ERROR] Graph contains no edges. — bbox: (np.float64(-1.6828999999999998), np.float64(54.16), np.float64(-1.6612), np.float64(54.173))\n"
     ]
    },
    {
     "name": "stderr",
     "output_type": "stream",
     "text": [
      " 52%|█████▏    | 9097/17350 [4:15:10<5:07:18,  2.23s/it]"
     ]
    },
    {
     "name": "stdout",
     "output_type": "stream",
     "text": [
      "[TILE ERROR] Graph contains no edges. — bbox: (np.float64(-1.6828999999999998), np.float64(54.75399999999999), np.float64(-1.6612), np.float64(54.766999999999996))\n"
     ]
    },
    {
     "name": "stderr",
     "output_type": "stream",
     "text": [
      " 53%|█████▎    | 9118/17350 [4:15:57<3:31:43,  1.54s/it]"
     ]
    },
    {
     "name": "stdout",
     "output_type": "stream",
     "text": [
      "[TILE ERROR] Found no graph nodes within the requested polygon. — bbox: (np.float64(-1.6671999999999998), np.float64(51.675999999999995), np.float64(-1.6455), np.float64(51.689))\n"
     ]
    },
    {
     "name": "stderr",
     "output_type": "stream",
     "text": [
      " 53%|█████▎    | 9154/17350 [4:17:05<4:56:25,  2.17s/it]"
     ]
    },
    {
     "name": "stdout",
     "output_type": "stream",
     "text": [
      "[TILE ERROR] Graph contains no edges. — bbox: (np.float64(-1.6671999999999998), np.float64(55.221999999999994), np.float64(-1.6455), np.float64(55.235))\n"
     ]
    },
    {
     "name": "stderr",
     "output_type": "stream",
     "text": [
      " 53%|█████▎    | 9159/17350 [4:17:18<5:49:09,  2.56s/it]"
     ]
    },
    {
     "name": "stdout",
     "output_type": "stream",
     "text": [
      "[TILE ERROR] Graph contains no edges. — bbox: (np.float64(-1.6514999999999997), np.float64(51.36999999999999), np.float64(-1.6298), np.float64(51.382999999999996))\n"
     ]
    },
    {
     "name": "stderr",
     "output_type": "stream",
     "text": [
      " 53%|█████▎    | 9161/17350 [4:17:22<5:13:56,  2.30s/it]"
     ]
    },
    {
     "name": "stdout",
     "output_type": "stream",
     "text": [
      "[TILE ERROR] Graph contains no edges. — bbox: (np.float64(-1.6514999999999997), np.float64(51.78399999999999), np.float64(-1.6298), np.float64(51.797))\n"
     ]
    },
    {
     "name": "stderr",
     "output_type": "stream",
     "text": [
      " 53%|█████▎    | 9178/17350 [4:18:01<4:07:38,  1.82s/it]"
     ]
    },
    {
     "name": "stdout",
     "output_type": "stream",
     "text": [
      "[TILE ERROR] Found no graph nodes within the requested polygon. — bbox: (np.float64(-1.6514999999999997), np.float64(53.08899999999999), np.float64(-1.6298), np.float64(53.102))\n"
     ]
    },
    {
     "name": "stderr",
     "output_type": "stream",
     "text": [
      " 53%|█████▎    | 9224/17350 [4:19:27<5:09:54,  2.29s/it]"
     ]
    },
    {
     "name": "stdout",
     "output_type": "stream",
     "text": [
      "[TILE ERROR] Graph contains no edges. — bbox: (np.float64(-1.6357999999999997), np.float64(51.63099999999999), np.float64(-1.6140999999999999), np.float64(51.644))\n"
     ]
    },
    {
     "name": "stderr",
     "output_type": "stream",
     "text": [
      " 53%|█████▎    | 9234/17350 [4:19:40<3:00:59,  1.34s/it]"
     ]
    },
    {
     "name": "stdout",
     "output_type": "stream",
     "text": [
      "[TILE ERROR] Found no graph nodes within the requested polygon. — bbox: (np.float64(-1.6357999999999997), np.float64(52.647999999999996), np.float64(-1.6140999999999999), np.float64(52.661))\n"
     ]
    },
    {
     "name": "stderr",
     "output_type": "stream",
     "text": [
      " 54%|█████▍    | 9345/17350 [4:23:30<3:50:24,  1.73s/it]"
     ]
    },
    {
     "name": "stdout",
     "output_type": "stream",
     "text": [
      "[TILE ERROR] Found no graph nodes within the requested polygon. — bbox: (np.float64(-1.6200999999999997), np.float64(54.23199999999999), np.float64(-1.5984), np.float64(54.245))\n"
     ]
    },
    {
     "name": "stderr",
     "output_type": "stream",
     "text": [
      " 54%|█████▍    | 9437/17350 [4:27:50<4:59:28,  2.27s/it] "
     ]
    },
    {
     "name": "stdout",
     "output_type": "stream",
     "text": [
      "[TILE ERROR] Graph contains no edges. — bbox: (np.float64(-1.6043999999999998), np.float64(54.294999999999995), np.float64(-1.5827), np.float64(54.308))\n"
     ]
    },
    {
     "name": "stderr",
     "output_type": "stream",
     "text": [
      " 55%|█████▌    | 9589/17350 [4:34:44<6:14:58,  2.90s/it] "
     ]
    },
    {
     "name": "stdout",
     "output_type": "stream",
     "text": [
      "[TILE ERROR] Graph contains no edges. — bbox: (np.float64(-1.5729999999999997), np.float64(53.45799999999999), np.float64(-1.5513), np.float64(53.471))\n"
     ]
    },
    {
     "name": "stderr",
     "output_type": "stream",
     "text": [
      " 56%|█████▌    | 9642/17350 [4:40:03<4:10:57,  1.95s/it] "
     ]
    },
    {
     "name": "stdout",
     "output_type": "stream",
     "text": [
      "[TILE ERROR] Graph contains no edges. — bbox: (np.float64(-1.5572999999999997), np.float64(51.74799999999999), np.float64(-1.5356), np.float64(51.760999999999996))\n"
     ]
    },
    {
     "name": "stderr",
     "output_type": "stream",
     "text": [
      " 56%|█████▌    | 9671/17350 [4:41:15<3:54:14,  1.83s/it]"
     ]
    },
    {
     "name": "stdout",
     "output_type": "stream",
     "text": [
      "[TILE ERROR] Graph contains no edges. — bbox: (np.float64(-1.5572999999999997), np.float64(53.196999999999996), np.float64(-1.5356), np.float64(53.21))\n"
     ]
    },
    {
     "name": "stderr",
     "output_type": "stream",
     "text": [
      " 56%|█████▌    | 9739/17350 [4:43:26<3:30:01,  1.66s/it]"
     ]
    },
    {
     "name": "stdout",
     "output_type": "stream",
     "text": [
      "[TILE ERROR] Found no graph nodes within the requested polygon. — bbox: (np.float64(-1.5415999999999999), np.float64(51.144999999999996), np.float64(-1.5199), np.float64(51.158))\n"
     ]
    },
    {
     "name": "stderr",
     "output_type": "stream",
     "text": [
      " 56%|█████▋    | 9776/17350 [4:44:28<3:25:33,  1.63s/it]"
     ]
    },
    {
     "name": "stdout",
     "output_type": "stream",
     "text": [
      "[TILE ERROR] Found no graph nodes within the requested polygon. — bbox: (np.float64(-1.5415999999999999), np.float64(53.196999999999996), np.float64(-1.5199), np.float64(53.21))\n"
     ]
    },
    {
     "name": "stderr",
     "output_type": "stream",
     "text": [
      " 57%|█████▋    | 9941/17350 [4:49:30<3:42:09,  1.80s/it]"
     ]
    },
    {
     "name": "stdout",
     "output_type": "stream",
     "text": [
      "[TILE ERROR] Graph contains no edges. — bbox: (np.float64(-1.5101999999999998), np.float64(52.13499999999999), np.float64(-1.4885), np.float64(52.147999999999996))\n"
     ]
    },
    {
     "name": "stderr",
     "output_type": "stream",
     "text": [
      " 58%|█████▊    | 9992/17350 [4:51:15<2:19:07,  1.13s/it]"
     ]
    },
    {
     "name": "stdout",
     "output_type": "stream",
     "text": [
      "[TILE ERROR] Graph contains no edges. — bbox: (np.float64(-1.5101999999999998), np.float64(54.169), np.float64(-1.4885), np.float64(54.181999999999995))\n"
     ]
    },
    {
     "name": "stderr",
     "output_type": "stream",
     "text": [
      " 58%|█████▊    | 9996/17350 [4:51:20<2:04:03,  1.01s/it]"
     ]
    },
    {
     "name": "stdout",
     "output_type": "stream",
     "text": [
      "[TILE ERROR] Graph contains no edges. — bbox: (np.float64(-1.5101999999999998), np.float64(54.727), np.float64(-1.4885), np.float64(54.739999999999995))\n"
     ]
    },
    {
     "name": "stderr",
     "output_type": "stream",
     "text": [
      " 58%|█████▊    | 10011/17350 [4:51:53<3:27:33,  1.70s/it]"
     ]
    },
    {
     "name": "stdout",
     "output_type": "stream",
     "text": [
      "[TILE ERROR] No data elements in server response. Check query location/filters and log. — bbox: (np.float64(-1.5101999999999998), np.float64(60.45099999999999), np.float64(-1.4885), np.float64(60.464))\n"
     ]
    },
    {
     "name": "stderr",
     "output_type": "stream",
     "text": [
      " 58%|█████▊    | 10076/17350 [4:54:17<4:07:30,  2.04s/it]"
     ]
    },
    {
     "name": "stdout",
     "output_type": "stream",
     "text": [
      "[TILE ERROR] Found no graph nodes within the requested polygon. — bbox: (np.float64(-1.4944999999999997), np.float64(53.934999999999995), np.float64(-1.4727999999999999), np.float64(53.948))\n"
     ]
    },
    {
     "name": "stderr",
     "output_type": "stream",
     "text": [
      " 60%|█████▉    | 10395/17350 [5:07:17<8:01:15,  4.15s/it] "
     ]
    },
    {
     "name": "stdout",
     "output_type": "stream",
     "text": [
      "[TILE ERROR] Found no graph nodes within the requested polygon. — bbox: (np.float64(-1.4316999999999998), np.float64(53.27799999999999), np.float64(-1.41), np.float64(53.291))\n"
     ]
    },
    {
     "name": "stderr",
     "output_type": "stream",
     "text": [
      " 61%|██████    | 10576/17350 [5:34:32<3:47:14,  2.01s/it]  "
     ]
    },
    {
     "name": "stdout",
     "output_type": "stream",
     "text": [
      "[TILE ERROR] Found no graph nodes within the requested polygon. — bbox: (np.float64(-1.4002999999999999), np.float64(53.85399999999999), np.float64(-1.3786), np.float64(53.867))\n"
     ]
    },
    {
     "name": "stderr",
     "output_type": "stream",
     "text": [
      " 61%|██████    | 10598/17350 [5:35:09<2:53:33,  1.54s/it]"
     ]
    },
    {
     "name": "stdout",
     "output_type": "stream",
     "text": [
      "[TILE ERROR] Found no graph nodes within the requested polygon. — bbox: (np.float64(-1.3845999999999998), np.float64(50.85699999999999), np.float64(-1.3629), np.float64(50.87))\n"
     ]
    },
    {
     "name": "stderr",
     "output_type": "stream",
     "text": [
      " 61%|██████▏   | 10647/17350 [5:36:56<3:05:25,  1.66s/it]"
     ]
    },
    {
     "name": "stdout",
     "output_type": "stream",
     "text": [
      "[TILE ERROR] Graph contains no edges. — bbox: (np.float64(-1.3845999999999998), np.float64(53.28699999999999), np.float64(-1.3629), np.float64(53.3))\n"
     ]
    },
    {
     "name": "stderr",
     "output_type": "stream",
     "text": [
      " 62%|██████▏   | 10777/17350 [5:43:50<4:18:05,  2.36s/it] "
     ]
    },
    {
     "name": "stdout",
     "output_type": "stream",
     "text": [
      "[TILE ERROR] Found no graph nodes within the requested polygon. — bbox: (np.float64(-1.3531999999999997), np.float64(51.77499999999999), np.float64(-1.3315), np.float64(51.788))\n"
     ]
    },
    {
     "name": "stderr",
     "output_type": "stream",
     "text": [
      " 62%|██████▏   | 10819/17350 [5:46:14<5:55:47,  3.27s/it] "
     ]
    },
    {
     "name": "stdout",
     "output_type": "stream",
     "text": [
      "[TILE ERROR] Found no graph nodes within the requested polygon. — bbox: (np.float64(-1.3531999999999997), np.float64(53.69199999999999), np.float64(-1.3315), np.float64(53.705))\n"
     ]
    },
    {
     "name": "stderr",
     "output_type": "stream",
     "text": [
      " 62%|██████▏   | 10824/17350 [5:46:24<4:31:38,  2.50s/it]"
     ]
    },
    {
     "name": "stdout",
     "output_type": "stream",
     "text": [
      "[TILE ERROR] Graph contains no edges. — bbox: (np.float64(-1.3531999999999997), np.float64(54.07899999999999), np.float64(-1.3315), np.float64(54.092))\n"
     ]
    },
    {
     "name": "stderr",
     "output_type": "stream",
     "text": [
      " 62%|██████▏   | 10838/17350 [5:46:54<3:40:38,  2.03s/it]"
     ]
    },
    {
     "name": "stdout",
     "output_type": "stream",
     "text": [
      "[TILE ERROR] Graph contains no edges. — bbox: (np.float64(-1.3374999999999997), np.float64(50.65899999999999), np.float64(-1.3158), np.float64(50.672))\n"
     ]
    },
    {
     "name": "stderr",
     "output_type": "stream",
     "text": [
      " 63%|██████▎   | 10885/17350 [5:48:47<5:08:18,  2.86s/it]"
     ]
    },
    {
     "name": "stdout",
     "output_type": "stream",
     "text": [
      "[TILE ERROR] Found no graph nodes within the requested polygon. — bbox: (np.float64(-1.3374999999999997), np.float64(53.151999999999994), np.float64(-1.3158), np.float64(53.165))\n"
     ]
    },
    {
     "name": "stderr",
     "output_type": "stream",
     "text": [
      " 63%|██████▎   | 10905/17350 [5:49:44<3:50:47,  2.15s/it]"
     ]
    },
    {
     "name": "stdout",
     "output_type": "stream",
     "text": [
      "[TILE ERROR] Graph contains no edges. — bbox: (np.float64(-1.3374999999999997), np.float64(53.84499999999999), np.float64(-1.3158), np.float64(53.858))\n"
     ]
    },
    {
     "name": "stderr",
     "output_type": "stream",
     "text": [
      " 63%|██████▎   | 10946/17350 [5:51:26<7:23:26,  4.15s/it]"
     ]
    },
    {
     "name": "stdout",
     "output_type": "stream",
     "text": [
      "[TILE ERROR] Graph contains no edges. — bbox: (np.float64(-1.3217999999999999), np.float64(51.25299999999999), np.float64(-1.3001), np.float64(51.266))\n"
     ]
    },
    {
     "name": "stderr",
     "output_type": "stream",
     "text": [
      " 64%|██████▎   | 11021/17350 [5:53:34<2:45:09,  1.57s/it]"
     ]
    },
    {
     "name": "stdout",
     "output_type": "stream",
     "text": [
      "[TILE ERROR] Found no graph nodes within the requested polygon. — bbox: (np.float64(-1.3060999999999998), np.float64(51.02799999999999), np.float64(-1.2844), np.float64(51.041))\n"
     ]
    },
    {
     "name": "stderr",
     "output_type": "stream",
     "text": [
      " 64%|██████▍   | 11117/17350 [5:56:26<2:41:21,  1.55s/it]"
     ]
    },
    {
     "name": "stdout",
     "output_type": "stream",
     "text": [
      "[TILE ERROR] Graph contains no edges. — bbox: (np.float64(-1.2903999999999998), np.float64(51.02799999999999), np.float64(-1.2687), np.float64(51.041))\n"
     ]
    },
    {
     "name": "stderr",
     "output_type": "stream",
     "text": [
      " 65%|██████▍   | 11194/17350 [5:58:40<2:27:26,  1.44s/it]"
     ]
    },
    {
     "name": "stdout",
     "output_type": "stream",
     "text": [
      "[TILE ERROR] Found no graph nodes within the requested polygon. — bbox: (np.float64(-1.2903999999999998), np.float64(59.901999999999994), np.float64(-1.2687), np.float64(59.915))\n"
     ]
    },
    {
     "name": "stderr",
     "output_type": "stream",
     "text": [
      " 65%|██████▌   | 11337/17350 [6:03:18<5:40:37,  3.40s/it]"
     ]
    },
    {
     "name": "stdout",
     "output_type": "stream",
     "text": [
      "[TILE ERROR] Found no graph nodes within the requested polygon. — bbox: (np.float64(-1.2589999999999997), np.float64(54.04299999999999), np.float64(-1.2373), np.float64(54.056))\n"
     ]
    },
    {
     "name": "stderr",
     "output_type": "stream",
     "text": [
      " 66%|██████▌   | 11414/17350 [6:05:27<1:34:26,  1.05it/s]"
     ]
    },
    {
     "name": "stdout",
     "output_type": "stream",
     "text": [
      "[TILE ERROR] Found no graph nodes within the requested polygon. — bbox: (np.float64(-1.2432999999999998), np.float64(54.501999999999995), np.float64(-1.2216), np.float64(54.515))\n"
     ]
    },
    {
     "name": "stderr",
     "output_type": "stream",
     "text": [
      " 66%|██████▌   | 11485/17350 [6:07:12<1:38:59,  1.01s/it]"
     ]
    },
    {
     "name": "stdout",
     "output_type": "stream",
     "text": [
      "[TILE ERROR] Graph contains no edges. — bbox: (np.float64(-1.2275999999999998), np.float64(54.285999999999994), np.float64(-1.2059), np.float64(54.299))\n"
     ]
    },
    {
     "name": "stderr",
     "output_type": "stream",
     "text": [
      " 66%|██████▋   | 11501/17350 [6:07:43<2:56:28,  1.81s/it]"
     ]
    },
    {
     "name": "stdout",
     "output_type": "stream",
     "text": [
      "[TILE ERROR] Graph contains no edges. — bbox: (np.float64(-1.2118999999999998), np.float64(51.108999999999995), np.float64(-1.1902), np.float64(51.122))\n"
     ]
    },
    {
     "name": "stderr",
     "output_type": "stream",
     "text": [
      " 67%|██████▋   | 11558/17350 [6:09:25<2:43:14,  1.69s/it]"
     ]
    },
    {
     "name": "stdout",
     "output_type": "stream",
     "text": [
      "[TILE ERROR] Graph contains no edges. — bbox: (np.float64(-1.2118999999999998), np.float64(54.349), np.float64(-1.1902), np.float64(54.362))\n"
     ]
    },
    {
     "name": "stderr",
     "output_type": "stream",
     "text": [
      " 67%|██████▋   | 11576/17350 [6:09:57<2:03:02,  1.28s/it]"
     ]
    },
    {
     "name": "stdout",
     "output_type": "stream",
     "text": [
      "[TILE ERROR] Graph contains no edges. — bbox: (np.float64(-1.1961999999999997), np.float64(51.22599999999999), np.float64(-1.1745), np.float64(51.239))\n"
     ]
    },
    {
     "name": "stderr",
     "output_type": "stream",
     "text": [
      " 67%|██████▋   | 11632/17350 [6:11:37<2:11:21,  1.38s/it]"
     ]
    },
    {
     "name": "stdout",
     "output_type": "stream",
     "text": [
      "[TILE ERROR] Graph contains no edges. — bbox: (np.float64(-1.1961999999999997), np.float64(54.276999999999994), np.float64(-1.1745), np.float64(54.29))\n"
     ]
    },
    {
     "name": "stderr",
     "output_type": "stream",
     "text": [
      " 67%|██████▋   | 11658/17350 [6:12:11<1:48:39,  1.15s/it]"
     ]
    },
    {
     "name": "stdout",
     "output_type": "stream",
     "text": [
      "[TILE ERROR] Graph contains no edges. — bbox: (np.float64(-1.1804999999999999), np.float64(51.666999999999994), np.float64(-1.1588), np.float64(51.68))\n"
     ]
    },
    {
     "name": "stderr",
     "output_type": "stream",
     "text": [
      " 67%|██████▋   | 11704/17350 [6:13:20<3:08:41,  2.01s/it]"
     ]
    },
    {
     "name": "stdout",
     "output_type": "stream",
     "text": [
      "[TILE ERROR] Graph contains no edges. — bbox: (np.float64(-1.1804999999999999), np.float64(53.68299999999999), np.float64(-1.1588), np.float64(53.696))\n"
     ]
    },
    {
     "name": "stderr",
     "output_type": "stream",
     "text": [
      " 67%|██████▋   | 11711/17350 [6:13:31<1:56:06,  1.24s/it]"
     ]
    },
    {
     "name": "stdout",
     "output_type": "stream",
     "text": [
      "[TILE ERROR] Graph contains no edges. — bbox: (np.float64(-1.1804999999999999), np.float64(54.276999999999994), np.float64(-1.1588), np.float64(54.29))\n"
     ]
    },
    {
     "name": "stderr",
     "output_type": "stream",
     "text": [
      " 68%|██████▊   | 11796/17350 [6:17:45<5:13:21,  3.39s/it] "
     ]
    },
    {
     "name": "stdout",
     "output_type": "stream",
     "text": [
      "[TILE ERROR] Found no graph nodes within the requested polygon. — bbox: (np.float64(-1.1490999999999998), np.float64(51.19899999999999), np.float64(-1.1274), np.float64(51.211999999999996))\n"
     ]
    },
    {
     "name": "stderr",
     "output_type": "stream",
     "text": [
      " 68%|██████▊   | 11859/17350 [6:19:50<2:22:01,  1.55s/it]"
     ]
    },
    {
     "name": "stdout",
     "output_type": "stream",
     "text": [
      "[TILE ERROR] Graph contains no edges. — bbox: (np.float64(-1.1490999999999998), np.float64(53.394999999999996), np.float64(-1.1274), np.float64(53.408))\n"
     ]
    },
    {
     "name": "stderr",
     "output_type": "stream",
     "text": [
      " 68%|██████▊   | 11870/17350 [6:20:05<1:46:25,  1.17s/it]"
     ]
    },
    {
     "name": "stdout",
     "output_type": "stream",
     "text": [
      "[TILE ERROR] Found no graph nodes within the requested polygon. — bbox: (np.float64(-1.1490999999999998), np.float64(54.312999999999995), np.float64(-1.1274), np.float64(54.326))\n"
     ]
    },
    {
     "name": "stderr",
     "output_type": "stream",
     "text": [
      " 68%|██████▊   | 11871/17350 [6:20:05<1:20:27,  1.14it/s]"
     ]
    },
    {
     "name": "stdout",
     "output_type": "stream",
     "text": [
      "[TILE ERROR] Graph contains no edges. — bbox: (np.float64(-1.1490999999999998), np.float64(54.321999999999996), np.float64(-1.1274), np.float64(54.335))\n"
     ]
    },
    {
     "name": "stderr",
     "output_type": "stream",
     "text": [
      " 68%|██████▊   | 11876/17350 [6:20:12<2:07:56,  1.40s/it]"
     ]
    },
    {
     "name": "stdout",
     "output_type": "stream",
     "text": [
      "[TILE ERROR] Found no graph nodes within the requested polygon. — bbox: (np.float64(-1.1333999999999997), np.float64(50.67699999999999), np.float64(-1.1117), np.float64(50.69))\n"
     ]
    },
    {
     "name": "stderr",
     "output_type": "stream",
     "text": [
      " 69%|██████▉   | 11977/17350 [6:23:43<2:21:48,  1.58s/it]"
     ]
    },
    {
     "name": "stdout",
     "output_type": "stream",
     "text": [
      "[TILE ERROR] No data elements in server response. Check query location/filters and log. — bbox: (np.float64(-1.1176999999999997), np.float64(53.205999999999996), np.float64(-1.096), np.float64(53.219))\n"
     ]
    },
    {
     "name": "stderr",
     "output_type": "stream",
     "text": [
      " 69%|██████▉   | 11998/17350 [6:24:38<4:12:31,  2.83s/it]"
     ]
    },
    {
     "name": "stdout",
     "output_type": "stream",
     "text": [
      "[TILE ERROR] Found no graph nodes within the requested polygon. — bbox: (np.float64(-1.1176999999999997), np.float64(54.60999999999999), np.float64(-1.096), np.float64(54.623))\n"
     ]
    },
    {
     "name": "stderr",
     "output_type": "stream",
     "text": [
      " 69%|██████▉   | 12051/17350 [6:26:55<1:54:00,  1.29s/it]"
     ]
    },
    {
     "name": "stdout",
     "output_type": "stream",
     "text": [
      "[TILE ERROR] Found no graph nodes within the requested polygon. — bbox: (np.float64(-1.1019999999999999), np.float64(54.474999999999994), np.float64(-1.0803), np.float64(54.488))\n"
     ]
    },
    {
     "name": "stderr",
     "output_type": "stream",
     "text": [
      " 70%|██████▉   | 12124/17350 [6:29:37<4:18:53,  2.97s/it]"
     ]
    },
    {
     "name": "stdout",
     "output_type": "stream",
     "text": [
      "[TILE ERROR] Found no graph nodes within the requested polygon. — bbox: (np.float64(-1.0705999999999998), np.float64(51.24399999999999), np.float64(-1.0489), np.float64(51.257))\n"
     ]
    },
    {
     "name": "stderr",
     "output_type": "stream",
     "text": [
      " 70%|███████   | 12176/17350 [6:31:00<2:02:35,  1.42s/it]"
     ]
    },
    {
     "name": "stdout",
     "output_type": "stream",
     "text": [
      "[TILE ERROR] Found no graph nodes within the requested polygon. — bbox: (np.float64(-1.0705999999999998), np.float64(54.312999999999995), np.float64(-1.0489), np.float64(54.326))\n"
     ]
    },
    {
     "name": "stderr",
     "output_type": "stream",
     "text": [
      " 70%|███████   | 12177/17350 [6:31:01<2:07:06,  1.47s/it]"
     ]
    },
    {
     "name": "stdout",
     "output_type": "stream",
     "text": [
      "[TILE ERROR] Found no graph nodes within the requested polygon. — bbox: (np.float64(-1.0705999999999998), np.float64(54.321999999999996), np.float64(-1.0489), np.float64(54.335))\n"
     ]
    },
    {
     "name": "stderr",
     "output_type": "stream",
     "text": [
      " 70%|███████   | 12204/17350 [6:32:00<2:53:16,  2.02s/it]"
     ]
    },
    {
     "name": "stdout",
     "output_type": "stream",
     "text": [
      "[TILE ERROR] Found no graph nodes within the requested polygon. — bbox: (np.float64(-1.0548999999999997), np.float64(51.486999999999995), np.float64(-1.0332000000000001), np.float64(51.5))\n"
     ]
    },
    {
     "name": "stderr",
     "output_type": "stream",
     "text": [
      " 70%|███████   | 12225/17350 [6:32:39<3:11:41,  2.24s/it]"
     ]
    },
    {
     "name": "stdout",
     "output_type": "stream",
     "text": [
      "[TILE ERROR] Graph contains no edges. — bbox: (np.float64(-1.0548999999999997), np.float64(53.28699999999999), np.float64(-1.0332000000000001), np.float64(53.3))\n"
     ]
    },
    {
     "name": "stderr",
     "output_type": "stream",
     "text": [
      " 70%|███████   | 12227/17350 [6:32:44<3:23:27,  2.38s/it]"
     ]
    },
    {
     "name": "stdout",
     "output_type": "stream",
     "text": [
      "[TILE ERROR] Graph contains no edges. — bbox: (np.float64(-1.0548999999999997), np.float64(53.43099999999999), np.float64(-1.0332000000000001), np.float64(53.443999999999996))\n"
     ]
    },
    {
     "name": "stderr",
     "output_type": "stream",
     "text": [
      " 71%|███████   | 12277/17350 [6:34:20<2:26:42,  1.74s/it]"
     ]
    },
    {
     "name": "stdout",
     "output_type": "stream",
     "text": [
      "[TILE ERROR] Found no graph nodes within the requested polygon. — bbox: (np.float64(-1.0392), np.float64(53.26899999999999), np.float64(-1.0175), np.float64(53.282))\n"
     ]
    },
    {
     "name": "stderr",
     "output_type": "stream",
     "text": [
      " 71%|███████   | 12283/17350 [6:34:28<1:44:45,  1.24s/it]"
     ]
    },
    {
     "name": "stdout",
     "output_type": "stream",
     "text": [
      "[TILE ERROR] Found no graph nodes within the requested polygon. — bbox: (np.float64(-1.0392), np.float64(53.88099999999999), np.float64(-1.0175), np.float64(53.894))\n"
     ]
    },
    {
     "name": "stderr",
     "output_type": "stream",
     "text": [
      " 71%|███████   | 12333/17350 [6:35:41<1:51:13,  1.33s/it]"
     ]
    },
    {
     "name": "stdout",
     "output_type": "stream",
     "text": [
      "[TILE ERROR] Graph contains no edges. — bbox: (np.float64(-1.0234999999999999), np.float64(54.38499999999999), np.float64(-1.0018), np.float64(54.397999999999996))\n"
     ]
    },
    {
     "name": "stderr",
     "output_type": "stream",
     "text": [
      " 71%|███████▏  | 12366/17350 [6:36:38<1:18:40,  1.06it/s]"
     ]
    },
    {
     "name": "stdout",
     "output_type": "stream",
     "text": [
      "[TILE ERROR] Found no graph nodes within the requested polygon. — bbox: (np.float64(-1.0077999999999998), np.float64(52.95399999999999), np.float64(-0.9860999999999999), np.float64(52.967))\n"
     ]
    },
    {
     "name": "stderr",
     "output_type": "stream",
     "text": [
      " 72%|███████▏  | 12494/17350 [6:40:44<2:10:08,  1.61s/it]"
     ]
    },
    {
     "name": "stdout",
     "output_type": "stream",
     "text": [
      "[TILE ERROR] Found no graph nodes within the requested polygon. — bbox: (np.float64(-0.9763999999999999), np.float64(54.465999999999994), np.float64(-0.9546999999999999), np.float64(54.479))\n"
     ]
    },
    {
     "name": "stderr",
     "output_type": "stream",
     "text": [
      " 72%|███████▏  | 12540/17350 [6:42:10<2:07:03,  1.58s/it]"
     ]
    },
    {
     "name": "stdout",
     "output_type": "stream",
     "text": [
      "[TILE ERROR] Graph contains no edges. — bbox: (np.float64(-0.9606999999999999), np.float64(54.58299999999999), np.float64(-0.939), np.float64(54.596))\n"
     ]
    },
    {
     "name": "stderr",
     "output_type": "stream",
     "text": [
      " 73%|███████▎  | 12583/17350 [6:43:40<2:46:24,  2.09s/it]"
     ]
    },
    {
     "name": "stdout",
     "output_type": "stream",
     "text": [
      "[TILE ERROR] Found no graph nodes within the requested polygon. — bbox: (np.float64(-0.9292999999999999), np.float64(50.81199999999999), np.float64(-0.9076), np.float64(50.824999999999996))\n"
     ]
    },
    {
     "name": "stderr",
     "output_type": "stream",
     "text": [
      " 73%|███████▎  | 12596/17350 [6:44:06<3:11:09,  2.41s/it]"
     ]
    },
    {
     "name": "stdout",
     "output_type": "stream",
     "text": [
      "[TILE ERROR] Found no graph nodes within the requested polygon. — bbox: (np.float64(-0.9292999999999999), np.float64(51.675999999999995), np.float64(-0.9076), np.float64(51.689))\n"
     ]
    },
    {
     "name": "stderr",
     "output_type": "stream",
     "text": [
      " 73%|███████▎  | 12639/17350 [6:45:19<2:22:01,  1.81s/it]"
     ]
    },
    {
     "name": "stdout",
     "output_type": "stream",
     "text": [
      "[TILE ERROR] Graph contains no edges. — bbox: (np.float64(-0.9136), np.float64(51.63099999999999), np.float64(-0.8918999999999999), np.float64(51.644))\n"
     ]
    },
    {
     "name": "stderr",
     "output_type": "stream",
     "text": [
      " 73%|███████▎  | 12722/17350 [6:48:15<1:56:31,  1.51s/it]"
     ]
    },
    {
     "name": "stdout",
     "output_type": "stream",
     "text": [
      "[TILE ERROR] Found no graph nodes within the requested polygon. — bbox: (np.float64(-0.8978999999999999), np.float64(54.141999999999996), np.float64(-0.8762), np.float64(54.155))\n"
     ]
    },
    {
     "name": "stderr",
     "output_type": "stream",
     "text": [
      " 74%|███████▍  | 12813/17350 [6:50:42<2:06:46,  1.68s/it]"
     ]
    },
    {
     "name": "stdout",
     "output_type": "stream",
     "text": [
      "[TILE ERROR] Graph contains no edges. — bbox: (np.float64(-0.8664999999999999), np.float64(54.38499999999999), np.float64(-0.8447999999999999), np.float64(54.397999999999996))\n"
     ]
    },
    {
     "name": "stderr",
     "output_type": "stream",
     "text": [
      " 74%|███████▍  | 12814/17350 [6:50:42<1:43:23,  1.37s/it]"
     ]
    },
    {
     "name": "stdout",
     "output_type": "stream",
     "text": [
      "[TILE ERROR] Graph contains no edges. — bbox: (np.float64(-0.8507999999999999), np.float64(50.80299999999999), np.float64(-0.8291), np.float64(50.815999999999995))\n"
     ]
    },
    {
     "name": "stderr",
     "output_type": "stream",
     "text": [
      " 74%|███████▍  | 12843/17350 [6:51:43<1:13:56,  1.02it/s]"
     ]
    },
    {
     "name": "stdout",
     "output_type": "stream",
     "text": [
      "[TILE ERROR] Graph contains no edges. — bbox: (np.float64(-0.8507999999999999), np.float64(54.267999999999994), np.float64(-0.8291), np.float64(54.281))\n"
     ]
    },
    {
     "name": "stderr",
     "output_type": "stream",
     "text": [
      " 74%|███████▍  | 12921/17350 [6:54:43<4:20:19,  3.53s/it]"
     ]
    },
    {
     "name": "stdout",
     "output_type": "stream",
     "text": [
      "[TILE ERROR] Found no graph nodes within the requested polygon. — bbox: (np.float64(-0.8193999999999999), np.float64(52.86399999999999), np.float64(-0.7977), np.float64(52.876999999999995))\n"
     ]
    },
    {
     "name": "stderr",
     "output_type": "stream",
     "text": [
      " 75%|███████▍  | 12933/17350 [6:55:03<1:34:44,  1.29s/it]"
     ]
    },
    {
     "name": "stdout",
     "output_type": "stream",
     "text": [
      "[TILE ERROR] Found no graph nodes within the requested polygon. — bbox: (np.float64(-0.8193999999999999), np.float64(54.150999999999996), np.float64(-0.7977), np.float64(54.164))\n"
     ]
    },
    {
     "name": "stderr",
     "output_type": "stream",
     "text": [
      " 75%|███████▍  | 12977/17350 [6:56:32<1:50:58,  1.52s/it]"
     ]
    },
    {
     "name": "stdout",
     "output_type": "stream",
     "text": [
      "[TILE ERROR] Found no graph nodes within the requested polygon. — bbox: (np.float64(-0.8037), np.float64(54.18699999999999), np.float64(-0.7819999999999999), np.float64(54.199999999999996))\n"
     ]
    },
    {
     "name": "stderr",
     "output_type": "stream",
     "text": [
      " 75%|███████▌  | 13063/17350 [7:00:01<3:39:39,  3.07s/it]"
     ]
    },
    {
     "name": "stdout",
     "output_type": "stream",
     "text": [
      "[TILE ERROR] Graph contains no edges. — bbox: (np.float64(-0.7723), np.float64(52.75599999999999), np.float64(-0.7505999999999999), np.float64(52.769))\n"
     ]
    },
    {
     "name": "stderr",
     "output_type": "stream",
     "text": [
      " 76%|███████▌  | 13168/17350 [7:03:57<2:49:23,  2.43s/it]"
     ]
    },
    {
     "name": "stdout",
     "output_type": "stream",
     "text": [
      "[TILE ERROR] Found no graph nodes within the requested polygon. — bbox: (np.float64(-0.7408999999999999), np.float64(53.69199999999999), np.float64(-0.7192), np.float64(53.705))\n"
     ]
    },
    {
     "name": "stderr",
     "output_type": "stream",
     "text": [
      " 76%|███████▋  | 13260/17350 [7:07:54<2:15:20,  1.99s/it]"
     ]
    },
    {
     "name": "stdout",
     "output_type": "stream",
     "text": [
      "[TILE ERROR] Found no graph nodes within the requested polygon. — bbox: (np.float64(-0.7094999999999999), np.float64(52.53099999999999), np.float64(-0.6878), np.float64(52.544))\n"
     ]
    },
    {
     "name": "stderr",
     "output_type": "stream",
     "text": [
      " 77%|███████▋  | 13315/17350 [7:10:00<1:46:25,  1.58s/it]"
     ]
    },
    {
     "name": "stdout",
     "output_type": "stream",
     "text": [
      "[TILE ERROR] Graph contains no edges. — bbox: (np.float64(-0.6938), np.float64(54.169), np.float64(-0.6720999999999999), np.float64(54.181999999999995))\n"
     ]
    },
    {
     "name": "stderr",
     "output_type": "stream",
     "text": [
      " 77%|███████▋  | 13332/17350 [7:11:04<3:36:58,  3.24s/it]"
     ]
    },
    {
     "name": "stdout",
     "output_type": "stream",
     "text": [
      "[TILE ERROR] Graph contains no edges. — bbox: (np.float64(-0.6780999999999999), np.float64(51.99999999999999), np.float64(-0.6564), np.float64(52.013))\n"
     ]
    },
    {
     "name": "stderr",
     "output_type": "stream",
     "text": [
      " 77%|███████▋  | 13356/17350 [7:12:05<1:22:12,  1.23s/it]"
     ]
    },
    {
     "name": "stdout",
     "output_type": "stream",
     "text": [
      "[TILE ERROR] Graph contains no edges. — bbox: (np.float64(-0.6780999999999999), np.float64(54.141999999999996), np.float64(-0.6564), np.float64(54.155))\n"
     ]
    },
    {
     "name": "stderr",
     "output_type": "stream",
     "text": [
      " 78%|███████▊  | 13489/17350 [7:18:06<1:31:31,  1.42s/it]"
     ]
    },
    {
     "name": "stdout",
     "output_type": "stream",
     "text": [
      "[TILE ERROR] Found no graph nodes within the requested polygon. — bbox: (np.float64(-0.6153), np.float64(50.901999999999994), np.float64(-0.5935999999999999), np.float64(50.915))\n"
     ]
    },
    {
     "name": "stderr",
     "output_type": "stream",
     "text": [
      " 78%|███████▊  | 13524/17350 [7:19:41<3:37:02,  3.40s/it]"
     ]
    },
    {
     "name": "stdout",
     "output_type": "stream",
     "text": [
      "[TILE ERROR] Found no graph nodes within the requested polygon. — bbox: (np.float64(-0.5995999999999999), np.float64(50.892999999999994), np.float64(-0.5779), np.float64(50.906))\n"
     ]
    },
    {
     "name": "stderr",
     "output_type": "stream",
     "text": [
      " 78%|███████▊  | 13547/17350 [7:20:38<2:58:03,  2.81s/it]"
     ]
    },
    {
     "name": "stdout",
     "output_type": "stream",
     "text": [
      "[TILE ERROR] Graph contains no edges. — bbox: (np.float64(-0.5995999999999999), np.float64(53.07999999999999), np.float64(-0.5779), np.float64(53.092999999999996))\n"
     ]
    },
    {
     "name": "stderr",
     "output_type": "stream",
     "text": [
      " 78%|███████▊  | 13575/17350 [7:21:21<2:19:45,  2.22s/it]"
     ]
    },
    {
     "name": "stdout",
     "output_type": "stream",
     "text": [
      "[TILE ERROR] Graph contains no edges. — bbox: (np.float64(-0.5839), np.float64(52.18899999999999), np.float64(-0.5621999999999999), np.float64(52.202))\n"
     ]
    },
    {
     "name": "stderr",
     "output_type": "stream",
     "text": [
      " 78%|███████▊  | 13616/17350 [7:23:29<3:21:01,  3.23s/it]"
     ]
    },
    {
     "name": "stdout",
     "output_type": "stream",
     "text": [
      "[TILE ERROR] Graph contains no edges. — bbox: (np.float64(-0.5681999999999999), np.float64(52.67499999999999), np.float64(-0.5465), np.float64(52.687999999999995))\n"
     ]
    },
    {
     "name": "stderr",
     "output_type": "stream",
     "text": [
      " 79%|███████▊  | 13630/17350 [7:24:04<1:29:06,  1.44s/it]"
     ]
    },
    {
     "name": "stdout",
     "output_type": "stream",
     "text": [
      "[TILE ERROR] Found no graph nodes within the requested polygon. — bbox: (np.float64(-0.5681999999999999), np.float64(53.83599999999999), np.float64(-0.5465), np.float64(53.849))\n"
     ]
    },
    {
     "name": "stderr",
     "output_type": "stream",
     "text": [
      " 79%|███████▊  | 13663/17350 [7:26:58<4:34:39,  4.47s/it] "
     ]
    },
    {
     "name": "stdout",
     "output_type": "stream",
     "text": [
      "[TILE ERROR] Found no graph nodes within the requested polygon. — bbox: (np.float64(-0.5525), np.float64(52.657), np.float64(-0.5307999999999999), np.float64(52.67))\n"
     ]
    },
    {
     "name": "stderr",
     "output_type": "stream",
     "text": [
      " 79%|███████▉  | 13726/17350 [7:29:45<2:25:07,  2.40s/it]"
     ]
    },
    {
     "name": "stdout",
     "output_type": "stream",
     "text": [
      "[TILE ERROR] Graph contains no edges. — bbox: (np.float64(-0.5367999999999999), np.float64(54.24099999999999), np.float64(-0.5151), np.float64(54.254))\n"
     ]
    },
    {
     "name": "stderr",
     "output_type": "stream",
     "text": [
      " 79%|███████▉  | 13770/17350 [7:32:02<2:12:00,  2.21s/it]"
     ]
    },
    {
     "name": "stdout",
     "output_type": "stream",
     "text": [
      "[TILE ERROR] Found no graph nodes within the requested polygon. — bbox: (np.float64(-0.5211), np.float64(53.943999999999996), np.float64(-0.49939999999999996), np.float64(53.957))\n"
     ]
    },
    {
     "name": "stderr",
     "output_type": "stream",
     "text": [
      " 80%|███████▉  | 13827/17350 [7:35:37<2:41:37,  2.75s/it] "
     ]
    },
    {
     "name": "stdout",
     "output_type": "stream",
     "text": [
      "[TILE ERROR] Graph contains no edges. — bbox: (np.float64(-0.48969999999999997), np.float64(50.964999999999996), np.float64(-0.46799999999999997), np.float64(50.978))\n"
     ]
    },
    {
     "name": "stderr",
     "output_type": "stream",
     "text": [
      " 80%|███████▉  | 13848/17350 [7:36:42<2:21:56,  2.43s/it]"
     ]
    },
    {
     "name": "stdout",
     "output_type": "stream",
     "text": [
      "[TILE ERROR] Found no graph nodes within the requested polygon. — bbox: (np.float64(-0.48969999999999997), np.float64(52.404999999999994), np.float64(-0.46799999999999997), np.float64(52.418))\n"
     ]
    },
    {
     "name": "stderr",
     "output_type": "stream",
     "text": [
      " 80%|███████▉  | 13852/17350 [7:36:50<1:55:19,  1.98s/it]"
     ]
    },
    {
     "name": "stdout",
     "output_type": "stream",
     "text": [
      "[TILE ERROR] Found no graph nodes within the requested polygon. — bbox: (np.float64(-0.48969999999999997), np.float64(52.602999999999994), np.float64(-0.46799999999999997), np.float64(52.616))\n"
     ]
    },
    {
     "name": "stderr",
     "output_type": "stream",
     "text": [
      " 81%|████████  | 14073/17350 [7:47:39<2:36:03,  2.86s/it]"
     ]
    },
    {
     "name": "stdout",
     "output_type": "stream",
     "text": [
      "[TILE ERROR] Graph contains no edges. — bbox: (np.float64(-0.41119999999999995), np.float64(51.099999999999994), np.float64(-0.38949999999999996), np.float64(51.113))\n"
     ]
    },
    {
     "name": "stderr",
     "output_type": "stream",
     "text": [
      " 81%|████████  | 14089/17350 [7:48:25<3:30:40,  3.88s/it]"
     ]
    },
    {
     "name": "stdout",
     "output_type": "stream",
     "text": [
      "[TILE ERROR] Found no graph nodes within the requested polygon. — bbox: (np.float64(-0.41119999999999995), np.float64(52.94499999999999), np.float64(-0.38949999999999996), np.float64(52.958))\n"
     ]
    },
    {
     "name": "stderr",
     "output_type": "stream",
     "text": [
      " 81%|████████  | 14094/17350 [7:48:39<2:23:12,  2.64s/it]"
     ]
    },
    {
     "name": "stdout",
     "output_type": "stream",
     "text": [
      "[TILE ERROR] Found no graph nodes within the requested polygon. — bbox: (np.float64(-0.41119999999999995), np.float64(53.602), np.float64(-0.38949999999999996), np.float64(53.614999999999995))\n"
     ]
    },
    {
     "name": "stderr",
     "output_type": "stream",
     "text": [
      " 82%|████████▏ | 14160/17350 [7:57:03<7:57:14,  8.98s/it] "
     ]
    },
    {
     "name": "stdout",
     "output_type": "stream",
     "text": [
      "[TILE ERROR] Graph contains no edges. — bbox: (np.float64(-0.37979999999999997), np.float64(51.126999999999995), np.float64(-0.3581), np.float64(51.14))\n"
     ]
    },
    {
     "name": "stderr",
     "output_type": "stream",
     "text": [
      " 82%|████████▏ | 14193/17350 [7:59:59<3:22:32,  3.85s/it] "
     ]
    },
    {
     "name": "stdout",
     "output_type": "stream",
     "text": [
      "[TILE ERROR] Found no graph nodes within the requested polygon. — bbox: (np.float64(-0.3641), np.float64(50.919999999999995), np.float64(-0.3424), np.float64(50.933))\n"
     ]
    },
    {
     "name": "stderr",
     "output_type": "stream",
     "text": [
      " 82%|████████▏ | 14221/17350 [8:01:01<1:09:21,  1.33s/it]"
     ]
    },
    {
     "name": "stdout",
     "output_type": "stream",
     "text": [
      "[TILE ERROR] Graph contains no edges. — bbox: (np.float64(-0.3641), np.float64(52.53099999999999), np.float64(-0.3424), np.float64(52.544))\n"
     ]
    },
    {
     "name": "stderr",
     "output_type": "stream",
     "text": [
      " 82%|████████▏ | 14246/17350 [8:02:03<2:12:50,  2.57s/it]"
     ]
    },
    {
     "name": "stdout",
     "output_type": "stream",
     "text": [
      "[TILE ERROR] Found no graph nodes within the requested polygon. — bbox: (np.float64(-0.3484), np.float64(51.324999999999996), np.float64(-0.3267), np.float64(51.338))\n"
     ]
    },
    {
     "name": "stderr",
     "output_type": "stream",
     "text": [
      " 82%|████████▏ | 14266/17350 [8:02:53<2:32:35,  2.97s/it]"
     ]
    },
    {
     "name": "stdout",
     "output_type": "stream",
     "text": [
      "[TILE ERROR] Found no graph nodes within the requested polygon. — bbox: (np.float64(-0.3484), np.float64(51.95499999999999), np.float64(-0.3267), np.float64(51.967999999999996))\n"
     ]
    },
    {
     "name": "stderr",
     "output_type": "stream",
     "text": [
      " 82%|████████▏ | 14285/17350 [8:03:56<2:21:49,  2.78s/it]"
     ]
    },
    {
     "name": "stdout",
     "output_type": "stream",
     "text": [
      "[TILE ERROR] Found no graph nodes within the requested polygon. — bbox: (np.float64(-0.3327), np.float64(50.84799999999999), np.float64(-0.31099999999999994), np.float64(50.861))\n"
     ]
    },
    {
     "name": "stderr",
     "output_type": "stream",
     "text": [
      " 82%|████████▏ | 14311/17350 [8:05:54<5:16:21,  6.25s/it]"
     ]
    },
    {
     "name": "stdout",
     "output_type": "stream",
     "text": [
      "[TILE ERROR] Found no graph nodes within the requested polygon. — bbox: (np.float64(-0.3327), np.float64(51.95499999999999), np.float64(-0.31099999999999994), np.float64(51.967999999999996))\n"
     ]
    },
    {
     "name": "stderr",
     "output_type": "stream",
     "text": [
      " 83%|████████▎ | 14343/17350 [8:07:19<2:22:51,  2.85s/it]"
     ]
    },
    {
     "name": "stdout",
     "output_type": "stream",
     "text": [
      "[TILE ERROR] Found no graph nodes within the requested polygon. — bbox: (np.float64(-0.31699999999999995), np.float64(51.26199999999999), np.float64(-0.29529999999999995), np.float64(51.275))\n"
     ]
    },
    {
     "name": "stderr",
     "output_type": "stream",
     "text": [
      " 84%|████████▍ | 14535/17350 [8:24:48<5:42:54,  7.31s/it] "
     ]
    },
    {
     "name": "stdout",
     "output_type": "stream",
     "text": [
      "[TILE ERROR] Found no graph nodes within the requested polygon. — bbox: (np.float64(-0.2542), np.float64(51.04599999999999), np.float64(-0.23249999999999998), np.float64(51.059))\n"
     ]
    },
    {
     "name": "stderr",
     "output_type": "stream",
     "text": [
      " 84%|████████▍ | 14576/17350 [8:27:20<1:22:10,  1.78s/it]"
     ]
    },
    {
     "name": "stdout",
     "output_type": "stream",
     "text": [
      "[TILE ERROR] Graph contains no edges. — bbox: (np.float64(-0.2385), np.float64(50.955999999999996), np.float64(-0.2168), np.float64(50.969))\n"
     ]
    },
    {
     "name": "stderr",
     "output_type": "stream",
     "text": [
      " 85%|████████▍ | 14663/17350 [8:36:58<1:57:42,  2.63s/it] "
     ]
    },
    {
     "name": "stdout",
     "output_type": "stream",
     "text": [
      "[TILE ERROR] Found no graph nodes within the requested polygon. — bbox: (np.float64(-0.2228), np.float64(52.449999999999996), np.float64(-0.20109999999999997), np.float64(52.463))\n"
     ]
    },
    {
     "name": "stderr",
     "output_type": "stream",
     "text": [
      " 85%|████████▍ | 14735/17350 [8:42:03<1:39:37,  2.29s/it] "
     ]
    },
    {
     "name": "stdout",
     "output_type": "stream",
     "text": [
      "[TILE ERROR] Found no graph nodes within the requested polygon. — bbox: (np.float64(-0.1914), np.float64(51.06399999999999), np.float64(-0.1697), np.float64(51.077))\n"
     ]
    },
    {
     "name": "stderr",
     "output_type": "stream",
     "text": [
      " 85%|████████▌ | 14779/17350 [8:47:16<1:37:37,  2.28s/it] "
     ]
    },
    {
     "name": "stdout",
     "output_type": "stream",
     "text": [
      "[TILE ERROR] Graph contains no edges. — bbox: (np.float64(-0.1914), np.float64(52.69299999999999), np.float64(-0.1697), np.float64(52.705999999999996))\n"
     ]
    },
    {
     "name": "stderr",
     "output_type": "stream",
     "text": [
      " 86%|████████▌ | 14941/17350 [9:00:49<5:50:41,  8.73s/it] "
     ]
    },
    {
     "name": "stdout",
     "output_type": "stream",
     "text": [
      "[TILE ERROR] Graph contains no edges. — bbox: (np.float64(-0.1286), np.float64(52.584999999999994), np.float64(-0.1069), np.float64(52.598))\n"
     ]
    },
    {
     "name": "stderr",
     "output_type": "stream",
     "text": [
      " 86%|████████▋ | 14969/17350 [9:02:05<1:31:16,  2.30s/it]"
     ]
    },
    {
     "name": "stdout",
     "output_type": "stream",
     "text": [
      "[TILE ERROR] Graph contains no edges. — bbox: (np.float64(-0.1129), np.float64(53.24199999999999), np.float64(-0.09119999999999999), np.float64(53.254999999999995))\n"
     ]
    },
    {
     "name": "stderr",
     "output_type": "stream",
     "text": [
      " 86%|████████▋ | 14983/17350 [9:02:35<2:18:36,  3.51s/it]"
     ]
    },
    {
     "name": "stdout",
     "output_type": "stream",
     "text": [
      "[TILE ERROR] Graph contains no edges. — bbox: (np.float64(-0.0972), np.float64(51.153999999999996), np.float64(-0.07549999999999998), np.float64(51.167))\n"
     ]
    },
    {
     "name": "stderr",
     "output_type": "stream",
     "text": [
      " 87%|████████▋ | 15016/17350 [9:04:20<2:40:39,  4.13s/it]"
     ]
    },
    {
     "name": "stdout",
     "output_type": "stream",
     "text": [
      "[TILE ERROR] Graph contains no edges. — bbox: (np.float64(-0.08149999999999999), np.float64(51.144999999999996), np.float64(-0.05979999999999999), np.float64(51.158))\n"
     ]
    },
    {
     "name": "stderr",
     "output_type": "stream",
     "text": [
      " 87%|████████▋ | 15173/17350 [9:17:09<2:00:57,  3.33s/it] "
     ]
    },
    {
     "name": "stdout",
     "output_type": "stream",
     "text": [
      "[TILE ERROR] Graph contains no edges. — bbox: (np.float64(-0.003), np.float64(50.901999999999994), np.float64(0.018699999999999998), np.float64(50.915))\n"
     ]
    },
    {
     "name": "stderr",
     "output_type": "stream",
     "text": [
      " 88%|████████▊ | 15200/17350 [9:19:23<1:41:54,  2.84s/it]"
     ]
    },
    {
     "name": "stdout",
     "output_type": "stream",
     "text": [
      "[TILE ERROR] Graph contains no edges. — bbox: (np.float64(-0.003), np.float64(51.864999999999995), np.float64(0.018699999999999998), np.float64(51.878))\n"
     ]
    },
    {
     "name": "stderr",
     "output_type": "stream",
     "text": [
      " 88%|████████▊ | 15246/17350 [9:24:12<3:40:44,  6.29s/it] "
     ]
    },
    {
     "name": "stdout",
     "output_type": "stream",
     "text": [
      "[TILE ERROR] Found no graph nodes within the requested polygon. — bbox: (np.float64(0.028399999999999998), np.float64(50.964999999999996), np.float64(0.0501), np.float64(50.978))\n"
     ]
    },
    {
     "name": "stderr",
     "output_type": "stream",
     "text": [
      " 88%|████████▊ | 15257/17350 [9:24:53<1:34:36,  2.71s/it]"
     ]
    },
    {
     "name": "stdout",
     "output_type": "stream",
     "text": [
      "[TILE ERROR] Found no graph nodes within the requested polygon. — bbox: (np.float64(0.028399999999999998), np.float64(52.17099999999999), np.float64(0.0501), np.float64(52.184))\n"
     ]
    },
    {
     "name": "stderr",
     "output_type": "stream",
     "text": [
      " 88%|████████▊ | 15263/17350 [9:25:03<51:36,  1.48s/it]  "
     ]
    },
    {
     "name": "stdout",
     "output_type": "stream",
     "text": [
      "[TILE ERROR] Graph contains no edges. — bbox: (np.float64(0.028399999999999998), np.float64(52.602999999999994), np.float64(0.0501), np.float64(52.616))\n"
     ]
    },
    {
     "name": "stderr",
     "output_type": "stream",
     "text": [
      " 88%|████████▊ | 15331/17350 [9:29:52<3:04:05,  5.47s/it]"
     ]
    },
    {
     "name": "stdout",
     "output_type": "stream",
     "text": [
      "[TILE ERROR] Graph contains no edges. — bbox: (np.float64(0.05979999999999999), np.float64(53.65599999999999), np.float64(0.08149999999999999), np.float64(53.669))\n"
     ]
    },
    {
     "name": "stderr",
     "output_type": "stream",
     "text": [
      " 90%|████████▉ | 15532/17350 [9:44:16<1:27:14,  2.88s/it] "
     ]
    },
    {
     "name": "stdout",
     "output_type": "stream",
     "text": [
      "[TILE ERROR] Found no graph nodes within the requested polygon. — bbox: (np.float64(0.1697), np.float64(52.855), np.float64(0.1914), np.float64(52.867999999999995))\n"
     ]
    },
    {
     "name": "stderr",
     "output_type": "stream",
     "text": [
      " 90%|████████▉ | 15578/17350 [9:52:40<13:16:58, 26.99s/it]"
     ]
    },
    {
     "name": "stdout",
     "output_type": "stream",
     "text": [
      "[TILE ERROR] Graph contains no edges. — bbox: (np.float64(0.2168), np.float64(50.785), np.float64(0.2385), np.float64(50.798))\n"
     ]
    },
    {
     "name": "stderr",
     "output_type": "stream",
     "text": [
      " 90%|█████████ | 15683/17350 [10:10:30<4:10:22,  9.01s/it] "
     ]
    },
    {
     "name": "stdout",
     "output_type": "stream",
     "text": [
      "[TILE ERROR] Graph contains no edges. — bbox: (np.float64(0.26389999999999997), np.float64(52.13499999999999), np.float64(0.28559999999999997), np.float64(52.147999999999996))\n"
     ]
    },
    {
     "name": "stderr",
     "output_type": "stream",
     "text": [
      " 90%|█████████ | 15697/17350 [10:11:52<1:54:07,  4.14s/it]"
     ]
    },
    {
     "name": "stdout",
     "output_type": "stream",
     "text": [
      "[TILE ERROR] Found no graph nodes within the requested polygon. — bbox: (np.float64(0.27959999999999996), np.float64(50.85699999999999), np.float64(0.30129999999999996), np.float64(50.87))\n"
     ]
    },
    {
     "name": "stderr",
     "output_type": "stream",
     "text": [
      " 91%|█████████ | 15709/17350 [10:14:35<12:46:26, 28.02s/it]"
     ]
    },
    {
     "name": "stdout",
     "output_type": "stream",
     "text": [
      "[TILE ERROR] Found no graph nodes within the requested polygon. — bbox: (np.float64(0.27959999999999996), np.float64(52.13499999999999), np.float64(0.30129999999999996), np.float64(52.147999999999996))\n"
     ]
    },
    {
     "name": "stderr",
     "output_type": "stream",
     "text": [
      " 91%|█████████ | 15715/17350 [10:14:54<2:28:30,  5.45s/it] "
     ]
    },
    {
     "name": "stdout",
     "output_type": "stream",
     "text": [
      "[TILE ERROR] Found no graph nodes within the requested polygon. — bbox: (np.float64(0.27959999999999996), np.float64(52.55799999999999), np.float64(0.30129999999999996), np.float64(52.571))\n"
     ]
    },
    {
     "name": "stderr",
     "output_type": "stream",
     "text": [
      " 91%|█████████ | 15739/17350 [10:16:27<2:57:59,  6.63s/it]"
     ]
    },
    {
     "name": "stdout",
     "output_type": "stream",
     "text": [
      "[TILE ERROR] Found no graph nodes within the requested polygon. — bbox: (np.float64(0.29529999999999995), np.float64(52.413999999999994), np.float64(0.31699999999999995), np.float64(52.427))\n"
     ]
    },
    {
     "name": "stderr",
     "output_type": "stream",
     "text": [
      " 91%|█████████ | 15759/17350 [10:17:42<2:12:09,  4.98s/it]"
     ]
    },
    {
     "name": "stdout",
     "output_type": "stream",
     "text": [
      "[TILE ERROR] Graph contains no edges. — bbox: (np.float64(0.31099999999999994), np.float64(53.08899999999999), np.float64(0.3327), np.float64(53.102))\n"
     ]
    },
    {
     "name": "stderr",
     "output_type": "stream",
     "text": [
      " 91%|█████████▏| 15846/17350 [10:30:54<1:23:53,  3.35s/it] "
     ]
    },
    {
     "name": "stdout",
     "output_type": "stream",
     "text": [
      "[TILE ERROR] Graph contains no edges. — bbox: (np.float64(0.38949999999999996), np.float64(52.782999999999994), np.float64(0.41119999999999995), np.float64(52.796))\n"
     ]
    },
    {
     "name": "stderr",
     "output_type": "stream",
     "text": [
      " 91%|█████████▏| 15871/17350 [10:32:44<2:31:31,  6.15s/it]"
     ]
    },
    {
     "name": "stdout",
     "output_type": "stream",
     "text": [
      "[TILE ERROR] Found no graph nodes within the requested polygon. — bbox: (np.float64(0.40519999999999995), np.float64(52.782999999999994), np.float64(0.42689999999999995), np.float64(52.796))\n"
     ]
    },
    {
     "name": "stderr",
     "output_type": "stream",
     "text": [
      " 92%|█████████▏| 15947/17350 [10:38:08<1:16:43,  3.28s/it] "
     ]
    },
    {
     "name": "stdout",
     "output_type": "stream",
     "text": [
      "[TILE ERROR] Found no graph nodes within the requested polygon. — bbox: (np.float64(0.4523), np.float64(52.800999999999995), np.float64(0.474), np.float64(52.814))\n"
     ]
    },
    {
     "name": "stderr",
     "output_type": "stream",
     "text": [
      " 92%|█████████▏| 16036/17350 [10:47:41<3:25:46,  9.40s/it] "
     ]
    },
    {
     "name": "stdout",
     "output_type": "stream",
     "text": [
      "[TILE ERROR] Found no graph nodes within the requested polygon. — bbox: (np.float64(0.49939999999999996), np.float64(52.657), np.float64(0.5211), np.float64(52.67))\n"
     ]
    },
    {
     "name": "stderr",
     "output_type": "stream",
     "text": [
      " 93%|█████████▎| 16052/17350 [10:49:23<4:18:54, 11.97s/it]"
     ]
    },
    {
     "name": "stdout",
     "output_type": "stream",
     "text": [
      "[TILE ERROR] No data elements in server response. Check query location/filters and log. — bbox: (np.float64(0.5151), np.float64(51.477999999999994), np.float64(0.5367999999999999), np.float64(51.491))\n"
     ]
    },
    {
     "name": "stderr",
     "output_type": "stream",
     "text": [
      " 93%|█████████▎| 16067/17350 [10:50:14<48:57,  2.29s/it]  "
     ]
    },
    {
     "name": "stdout",
     "output_type": "stream",
     "text": [
      "[TILE ERROR] Found no graph nodes within the requested polygon. — bbox: (np.float64(0.5151), np.float64(52.69299999999999), np.float64(0.5367999999999999), np.float64(52.705999999999996))\n"
     ]
    },
    {
     "name": "stderr",
     "output_type": "stream",
     "text": [
      " 93%|█████████▎| 16097/17350 [10:51:35<1:37:18,  4.66s/it]"
     ]
    },
    {
     "name": "stdout",
     "output_type": "stream",
     "text": [
      "[TILE ERROR] Graph contains no edges. — bbox: (np.float64(0.5307999999999999), np.float64(52.836999999999996), np.float64(0.5525), np.float64(52.85))\n"
     ]
    },
    {
     "name": "stderr",
     "output_type": "stream",
     "text": [
      " 93%|█████████▎| 16111/17350 [10:52:15<59:09,  2.87s/it]  "
     ]
    },
    {
     "name": "stdout",
     "output_type": "stream",
     "text": [
      "[TILE ERROR] Graph contains no edges. — bbox: (np.float64(0.5465), np.float64(51.306999999999995), np.float64(0.5681999999999999), np.float64(51.32))\n"
     ]
    },
    {
     "name": "stderr",
     "output_type": "stream",
     "text": [
      " 93%|█████████▎| 16202/17350 [10:59:10<1:17:20,  4.04s/it]"
     ]
    },
    {
     "name": "stdout",
     "output_type": "stream",
     "text": [
      "[TILE ERROR] Graph contains no edges. — bbox: (np.float64(0.6093), np.float64(52.593999999999994), np.float64(0.6309999999999999), np.float64(52.607))\n"
     ]
    },
    {
     "name": "stderr",
     "output_type": "stream",
     "text": [
      " 93%|█████████▎| 16204/17350 [10:59:15<1:08:11,  3.57s/it]"
     ]
    },
    {
     "name": "stdout",
     "output_type": "stream",
     "text": [
      "[TILE ERROR] Found no graph nodes within the requested polygon. — bbox: (np.float64(0.6093), np.float64(52.90899999999999), np.float64(0.6309999999999999), np.float64(52.922))\n"
     ]
    },
    {
     "name": "stderr",
     "output_type": "stream",
     "text": [
      " 94%|█████████▎| 16247/17350 [11:05:02<3:45:53, 12.29s/it]"
     ]
    },
    {
     "name": "stdout",
     "output_type": "stream",
     "text": [
      "[TILE ERROR] Graph contains no edges. — bbox: (np.float64(0.6564), np.float64(52.458999999999996), np.float64(0.6780999999999999), np.float64(52.472))\n"
     ]
    },
    {
     "name": "stderr",
     "output_type": "stream",
     "text": [
      " 94%|█████████▍| 16337/17350 [11:15:15<32:51,  1.95s/it]   "
     ]
    },
    {
     "name": "stdout",
     "output_type": "stream",
     "text": [
      "[TILE ERROR] Graph contains no edges. — bbox: (np.float64(0.7192), np.float64(51.891999999999996), np.float64(0.7408999999999999), np.float64(51.905))\n"
     ]
    },
    {
     "name": "stderr",
     "output_type": "stream",
     "text": [
      " 95%|█████████▍| 16409/17350 [11:24:06<3:55:25, 15.01s/it]"
     ]
    },
    {
     "name": "stdout",
     "output_type": "stream",
     "text": [
      "[TILE ERROR] Graph contains no edges. — bbox: (np.float64(0.7819999999999999), np.float64(51.38799999999999), np.float64(0.8037), np.float64(51.400999999999996))\n"
     ]
    },
    {
     "name": "stderr",
     "output_type": "stream",
     "text": [
      " 95%|█████████▍| 16433/17350 [11:27:22<7:35:25, 29.80s/it]"
     ]
    },
    {
     "name": "stdout",
     "output_type": "stream",
     "text": [
      "[TILE ERROR] Graph contains no edges. — bbox: (np.float64(0.7977), np.float64(52.846), np.float64(0.8193999999999999), np.float64(52.859))\n"
     ]
    },
    {
     "name": "stderr",
     "output_type": "stream",
     "text": [
      " 95%|█████████▌| 16497/17350 [11:33:55<48:06,  3.38s/it]  "
     ]
    },
    {
     "name": "stdout",
     "output_type": "stream",
     "text": [
      "[TILE ERROR] No data elements in server response. Check query location/filters and log. — bbox: (np.float64(0.8604999999999999), np.float64(51.75699999999999), np.float64(0.8822), np.float64(51.769999999999996))\n"
     ]
    },
    {
     "name": "stderr",
     "output_type": "stream",
     "text": [
      " 95%|█████████▌| 16545/17350 [11:39:43<44:51,  3.34s/it]   "
     ]
    },
    {
     "name": "stdout",
     "output_type": "stream",
     "text": [
      "[TILE ERROR] Found no graph nodes within the requested polygon. — bbox: (np.float64(0.8918999999999999), np.float64(51.92799999999999), np.float64(0.9136), np.float64(51.940999999999995))\n"
     ]
    },
    {
     "name": "stderr",
     "output_type": "stream",
     "text": [
      " 96%|█████████▌| 16592/17350 [11:47:12<42:35,  3.37s/it]  "
     ]
    },
    {
     "name": "stdout",
     "output_type": "stream",
     "text": [
      "[TILE ERROR] Found no graph nodes within the requested polygon. — bbox: (np.float64(0.939), np.float64(51.79299999999999), np.float64(0.9606999999999999), np.float64(51.806))\n"
     ]
    },
    {
     "name": "stderr",
     "output_type": "stream",
     "text": [
      " 96%|█████████▌| 16599/17350 [11:47:48<1:06:11,  5.29s/it]"
     ]
    },
    {
     "name": "stdout",
     "output_type": "stream",
     "text": [
      "[TILE ERROR] Graph contains no edges. — bbox: (np.float64(0.939), np.float64(52.49499999999999), np.float64(0.9606999999999999), np.float64(52.507999999999996))\n"
     ]
    },
    {
     "name": "stderr",
     "output_type": "stream",
     "text": [
      " 99%|█████████▉| 17242/17350 [13:21:40<05:58,  3.32s/it]   "
     ]
    },
    {
     "name": "stdout",
     "output_type": "stream",
     "text": [
      "[TILE ERROR] Found no graph nodes within the requested polygon. — bbox: (np.float64(1.4727999999999999), np.float64(52.50399999999999), np.float64(1.4944999999999997), np.float64(52.516999999999996))\n"
     ]
    },
    {
     "name": "stderr",
     "output_type": "stream",
     "text": [
      "100%|█████████▉| 17295/17350 [13:25:09<03:33,  3.89s/it]"
     ]
    },
    {
     "name": "stdout",
     "output_type": "stream",
     "text": [
      "[TILE ERROR] Found no graph nodes within the requested polygon. — bbox: (np.float64(1.6298), np.float64(52.49499999999999), np.float64(1.6514999999999997), np.float64(52.507999999999996))\n"
     ]
    },
    {
     "name": "stderr",
     "output_type": "stream",
     "text": [
      "100%|██████████| 17350/17350 [13:32:11<00:00,  2.81s/it]\n"
     ]
    }
   ],
   "source": [
    "import osmnx as ox\n",
    "from shapely.geometry import Point\n",
    "import geopandas as gpd\n",
    "import numpy as np\n",
    "from tqdm import tqdm\n",
    "\n",
    "# Construct GeoDataFrame\n",
    "df['geometry'] = [Point(xy) for xy in zip(df['decimalLongitude'], df['decimalLatitude'])]\n",
    "gdf = gpd.GeoDataFrame(df, geometry='geometry', crs='EPSG:4326')\n",
    "\n",
    "# Define spatial tiling: 0.05 x 0.05 degrees\n",
    "tile_size_lat = 0.009   # ~1 km in latitude degrees\n",
    "tile_size_lon = 0.0157  # ~1 km in longitude degrees\n",
    "padding_lat = 0.002  # ~200m latitude padding\n",
    "padding_lon = 0.003  # ~200-300m longitude padding\n",
    "\n",
    "gdf['tile_x'] = (gdf['decimalLongitude'] // tile_size_lon).astype(int)\n",
    "gdf['tile_y'] = (gdf['decimalLatitude'] // tile_size_lat).astype(int)\n",
    "\n",
    "# Group by tile\n",
    "grouped = gdf.groupby(['tile_x', 'tile_y'])\n",
    "\n",
    "# Store results\n",
    "all_distances = []\n",
    "\n",
    "for (tile_x, tile_y), group in tqdm(grouped, total=len(grouped)):\n",
    "    west = tile_x * tile_size_lon - padding_lon\n",
    "    south = tile_y * tile_size_lat - padding_lat\n",
    "    east = (tile_x + 1) * tile_size_lon + padding_lon\n",
    "    north = (tile_y + 1) * tile_size_lat + padding_lat\n",
    "    bbox = (west, south, east, north)\n",
    "\n",
    "\n",
    "    try:\n",
    "        G = ox.graph_from_bbox(bbox, network_type='drive_service')\n",
    "        if len(G.nodes) == 0:\n",
    "            print(f\"[EMPTY GRAPH] bbox: {bbox}, skipping...\")\n",
    "            all_distances.extend([np.nan] * len(group))\n",
    "            continue\n",
    "\n",
    "        G_proj = ox.project_graph(G)\n",
    "        nodes_proj, edges_proj = ox.graph_to_gdfs(G_proj)\n",
    "        points_proj = group.geometry.to_crs(nodes_proj.crs)\n",
    "\n",
    "        for point_proj in points_proj:\n",
    "            try:\n",
    "                u, v, k = ox.distance.nearest_edges(G_proj, [point_proj.x], [point_proj.y])[0]\n",
    "                edge_geom = edges_proj.loc[(u, v, k)]['geometry']\n",
    "                distance = point_proj.distance(edge_geom)\n",
    "                all_distances.append(distance)\n",
    "            except Exception as e:\n",
    "                print(f\"  [Point ERROR] {e}\")\n",
    "                all_distances.append(np.nan)\n",
    "\n",
    "    except Exception as e:\n",
    "        print(f\"[TILE ERROR] {e} — bbox: {bbox}\")\n",
    "        all_distances.extend([np.nan] * len(group))\n",
    "\n",
    "\n",
    "# Store back in original DataFrame order\n",
    "gdf['distance_to_road'] = all_distances"
   ],
   "metadata": {
    "collapsed": false,
    "ExecuteTime": {
     "end_time": "2025-08-06T15:07:07.951759Z",
     "start_time": "2025-08-06T01:34:55.299726Z"
    }
   },
   "id": "dce68175ecf2cb3e"
  },
  {
   "cell_type": "code",
   "execution_count": 7,
   "outputs": [],
   "source": [
    "gdf['near_road'] = np.where(gdf['distance_to_road'] <= 500, 1, 0)        "
   ],
   "metadata": {
    "collapsed": false,
    "ExecuteTime": {
     "end_time": "2025-08-06T15:07:08.133620Z",
     "start_time": "2025-08-06T15:07:07.931851Z"
    }
   },
   "id": "593aa42f996890c6"
  },
  {
   "cell_type": "code",
   "execution_count": 8,
   "outputs": [],
   "source": [
    "gdf=gdf.drop(['tile_x', 'tile_y', 'geometry', 'distance_to_road'], axis=1)"
   ],
   "metadata": {
    "collapsed": false,
    "ExecuteTime": {
     "end_time": "2025-08-06T15:07:08.174486Z",
     "start_time": "2025-08-06T15:07:07.950720Z"
    }
   },
   "id": "8962c70ac25f5419"
  },
  {
   "cell_type": "code",
   "execution_count": 9,
   "outputs": [
    {
     "name": "stderr",
     "output_type": "stream",
     "text": [
      " 90%|████████▉ | 41138/45936 [1:06:00<07:21, 10.87it/s]"
     ]
    },
    {
     "name": "stdout",
     "output_type": "stream",
     "text": [
      "Error processing row: Number of columns or rows must be non-negative\n"
     ]
    },
    {
     "name": "stderr",
     "output_type": "stream",
     "text": [
      " 96%|█████████▋| 44317/45936 [1:11:15<01:24, 19.19it/s]"
     ]
    },
    {
     "name": "stdout",
     "output_type": "stream",
     "text": [
      "Error processing row: Number of columns or rows must be non-negative\n",
      "Error processing row: Number of columns or rows must be non-negative\n"
     ]
    },
    {
     "name": "stderr",
     "output_type": "stream",
     "text": [
      " 97%|█████████▋| 44350/45936 [1:11:18<02:59,  8.86it/s]"
     ]
    },
    {
     "name": "stdout",
     "output_type": "stream",
     "text": [
      "Error processing row: Number of columns or rows must be non-negative\n"
     ]
    },
    {
     "name": "stderr",
     "output_type": "stream",
     "text": [
      " 97%|█████████▋| 44358/45936 [1:11:19<03:07,  8.42it/s]"
     ]
    },
    {
     "name": "stdout",
     "output_type": "stream",
     "text": [
      "Error processing row: Number of columns or rows must be non-negative\n"
     ]
    },
    {
     "name": "stderr",
     "output_type": "stream",
     "text": [
      "100%|██████████| 45936/45936 [1:14:07<00:00, 10.33it/s]\n"
     ]
    }
   ],
   "source": [
    "from pyproj import Transformer\n",
    "from rasterio.windows import Window\n",
    "import rasterio\n",
    "from collections import Counter\n",
    "import numpy as np\n",
    "\n",
    "\n",
    "land_cover_map = {\n",
    "    1: \"Deciduous woodland\",\n",
    "    2: \"Coniferous woodland\",\n",
    "    3: \"Arable\",\n",
    "    4: \"Improved grassland\",\n",
    "    5: \"Neutral grassland\",\n",
    "    6: \"Calcareous grassland\",\n",
    "    7: \"Acid grassland\",\n",
    "    8: \"Fen\",\n",
    "    9: \"Heather\",\n",
    "    10: \"Heather grassland\",\n",
    "    11: \"Bog\",\n",
    "    12: \"Inland rock\",\n",
    "    13: \"Saltwater\",\n",
    "    14: \"Freshwater\",\n",
    "    15: \"Supralittoral rock\",\n",
    "    16: \"Supralittoral sediment\",\n",
    "    17: \"Littoral rock\",\n",
    "    18: \"Littoral sediment\",\n",
    "    19: \"Saltmarsh\",\n",
    "    20: \"Urban\",\n",
    "    21: \"Suburban\"\n",
    "}\n",
    "\n",
    "# Batch coordinate transformation\n",
    "transformer_ni = Transformer.from_crs(\"EPSG:4326\", \"EPSG:29903\", always_xy=True)\n",
    "transformer_gb = Transformer.from_crs(\"EPSG:4326\", \"EPSG:27700\", always_xy=True)\n",
    "\n",
    "coords = list(zip(gdf['decimalLongitude'], gdf['decimalLatitude']))\n",
    "gdf['easting_ni'], gdf['northing_ni'] = zip(*transformer_ni.itransform(coords))\n",
    "gdf['easting_gb'], gdf['northing_gb'] = zip(*transformer_gb.itransform(coords))\n",
    "\n",
    "# Raster processing optimization\n",
    "gb_raster = 'gblcm2023_10m.tif'\n",
    "n_ireland_raster = 'nilcm2023_10m.tif'\n",
    "\n",
    "\n",
    "def get_land_cover_class_1km(row):\n",
    "    try:\n",
    "        window_size_pixels = 100  # 1 km / 10m resolution\n",
    "\n",
    "        # Open GB raster and read 1km x 1km window\n",
    "        with rasterio.open(gb_raster) as src:\n",
    "            row_idx, col_idx = src.index(row['easting_gb'], row['northing_gb'])\n",
    "\n",
    "            # Calculate window bounds, making sure not to go out of raster bounds\n",
    "            row_start = max(row_idx - window_size_pixels // 2, 0)\n",
    "            col_start = max(col_idx - window_size_pixels // 2, 0)\n",
    "\n",
    "            # Adjust window size if near edges\n",
    "            height = min(window_size_pixels, src.height - row_start)\n",
    "            width = min(window_size_pixels, src.width - col_start)\n",
    "\n",
    "            window = Window(col_start, row_start, width, height)\n",
    "            data = src.read(1, window=window)\n",
    "\n",
    "            # If all zero (or no data), fallback to NI raster\n",
    "            if np.all(data == 0):\n",
    "                with rasterio.open(n_ireland_raster) as src_ni:\n",
    "                    row_idx_ni, col_idx_ni = src_ni.index(row['easting_ni'], row['northing_ni'])\n",
    "\n",
    "                    row_start_ni = max(row_idx_ni - window_size_pixels // 2, 0)\n",
    "                    col_start_ni = max(col_idx_ni - window_size_pixels // 2, 0)\n",
    "\n",
    "                    height_ni = min(window_size_pixels, src_ni.height - row_start_ni)\n",
    "                    width_ni = min(window_size_pixels, src_ni.width - col_start_ni)\n",
    "\n",
    "                    window_ni = Window(col_start_ni, row_start_ni, width_ni, height_ni)\n",
    "                    data_ni = src_ni.read(1, window=window_ni)\n",
    "\n",
    "                    data = data_ni\n",
    "\n",
    "            # Find the most common class (mode) ignoring zeros (assuming 0 means no data)\n",
    "            unique, counts = np.unique(data[data != 0], return_counts=True)\n",
    "            if len(counts) == 0:\n",
    "                return \"Unknown\"\n",
    "\n",
    "            mode_class = unique[np.argmax(counts)]\n",
    "            return land_cover_map.get(mode_class, \"Unknown\")\n",
    "\n",
    "    except Exception as e:\n",
    "        print(f\"Error processing row: {e}\")\n",
    "        return \"Unknown\"\n",
    "\n",
    "\n",
    "tqdm.pandas()\n",
    "gdf['Land_cover'] = gdf.progress_apply(get_land_cover_class_1km, axis=1)\n"
   ],
   "metadata": {
    "collapsed": false,
    "ExecuteTime": {
     "end_time": "2025-08-06T16:21:16.422567Z",
     "start_time": "2025-08-06T15:07:08.063649Z"
    }
   },
   "id": "a1be7a7ce34a0db9"
  },
  {
   "cell_type": "code",
   "execution_count": 10,
   "outputs": [],
   "source": [
    "gdf = gdf.dropna()\n",
    "gdf=gdf.drop(['easting_ni', 'northing_ni', 'easting_gb', 'northing_gb'],axis=1)\n",
    "# Remove where Land_cover is Unknown\n",
    "gdf = gdf[gdf['Land_cover'] != \"Unknown\"].reset_index(drop=True)\n",
    "gdf.to_csv(\"hedgehog_final_data.csv\", index=False)"
   ],
   "metadata": {
    "collapsed": false,
    "ExecuteTime": {
     "end_time": "2025-08-06T16:21:19.328190Z",
     "start_time": "2025-08-06T16:21:16.460450Z"
    }
   },
   "id": "fd81c793cbb83907"
  },
  {
   "cell_type": "code",
   "execution_count": null,
   "outputs": [],
   "source": [],
   "metadata": {
    "collapsed": false
   },
   "id": "96f90652c8afcc81"
  }
 ],
 "metadata": {
  "kernelspec": {
   "display_name": "Python 3",
   "language": "python",
   "name": "python3"
  },
  "language_info": {
   "codemirror_mode": {
    "name": "ipython",
    "version": 2
   },
   "file_extension": ".py",
   "mimetype": "text/x-python",
   "name": "python",
   "nbconvert_exporter": "python",
   "pygments_lexer": "ipython2",
   "version": "2.7.6"
  }
 },
 "nbformat": 4,
 "nbformat_minor": 5
}
