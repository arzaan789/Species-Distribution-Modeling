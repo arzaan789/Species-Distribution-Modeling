{
 "cells": [
  {
   "cell_type": "code",
   "execution_count": 1,
   "id": "initial_id",
   "metadata": {
    "collapsed": true,
    "ExecuteTime": {
     "end_time": "2025-08-05T21:56:00.685972Z",
     "start_time": "2025-08-05T21:56:00.380822Z"
    }
   },
   "outputs": [],
   "source": [
    "import pandas as pd\n",
    "df = pd.read_csv(\"inference_data_indices.csv\")\n",
    "df['eventDate'] = pd.to_datetime(df['eventDate'], format='%Y-%m-%d', errors='coerce')"
   ]
  },
  {
   "cell_type": "code",
   "execution_count": 2,
   "outputs": [
    {
     "name": "stderr",
     "output_type": "stream",
     "text": [
      "/var/folders/0n/sggn66691kd6g5mtyzpq2hv80000gn/T/ipykernel_79401/1357841717.py:1: DtypeWarning: Columns (10,38,39,41,46,48) have mixed types. Specify dtype option on import or set low_memory=False.\n",
      "  hazel = pd.read_csv(\"hazel.csv\", delimiter='\\t')\n",
      "/var/folders/0n/sggn66691kd6g5mtyzpq2hv80000gn/T/ipykernel_79401/1357841717.py:8: DtypeWarning: Columns (10,38,39,41,46) have mixed types. Specify dtype option on import or set low_memory=False.\n",
      "  birch = pd.read_csv(\"birch.csv\", delimiter='\\t')\n",
      "/var/folders/0n/sggn66691kd6g5mtyzpq2hv80000gn/T/ipykernel_79401/1357841717.py:15: DtypeWarning: Columns (10,39,41,45,46) have mixed types. Specify dtype option on import or set low_memory=False.\n",
      "  beech = pd.read_csv(\"beech.csv\", delimiter='\\t')\n",
      "/var/folders/0n/sggn66691kd6g5mtyzpq2hv80000gn/T/ipykernel_79401/1357841717.py:22: DtypeWarning: Columns (10,38,39,41,45,46,48) have mixed types. Specify dtype option on import or set low_memory=False.\n",
      "  honeysuckle = pd.read_csv(\"honeysuckle.csv\", delimiter='\\t')\n",
      "/var/folders/0n/sggn66691kd6g5mtyzpq2hv80000gn/T/ipykernel_79401/1357841717.py:29: DtypeWarning: Columns (38,39,41,46,48) have mixed types. Specify dtype option on import or set low_memory=False.\n",
      "  oak = pd.read_csv(\"oak.csv\", delimiter='\\t')\n"
     ]
    }
   ],
   "source": [
    "hazel = pd.read_csv(\"hazel.csv\", delimiter='\\t')\n",
    "hazel = hazel[hazel[\"occurrenceStatus\"] == \"PRESENT\"]\n",
    "hazel = hazel[hazel['year']>=2022]\n",
    "hazel['eventDate'] = pd.to_datetime(hazel['eventDate'], format='%Y-%m-%d', errors='coerce')\n",
    "hazel = hazel[['species', 'decimalLatitude', 'decimalLongitude', 'eventDate']]\n",
    "hazel = hazel.dropna().reset_index(drop=True)\n",
    "\n",
    "birch = pd.read_csv(\"birch.csv\", delimiter='\\t')\n",
    "birch = birch[birch[\"occurrenceStatus\"] == \"PRESENT\"]\n",
    "birch = birch[birch['year']>=2022]\n",
    "birch['eventDate'] = pd.to_datetime(birch['eventDate'], format='%Y-%m-%d', errors='coerce')\n",
    "birch = birch[['species', 'decimalLatitude', 'decimalLongitude', 'eventDate']]\n",
    "birch = birch.dropna().reset_index(drop=True)\n",
    "\n",
    "beech = pd.read_csv(\"beech.csv\", delimiter='\\t')\n",
    "beech = beech[beech[\"occurrenceStatus\"] == \"PRESENT\"]\n",
    "beech = beech[beech['year']>=2022]\n",
    "beech['eventDate'] = pd.to_datetime(beech['eventDate'], format='%Y-%m-%d', errors='coerce')\n",
    "beech = beech[['species', 'decimalLatitude', 'decimalLongitude', 'eventDate']]\n",
    "beech = beech.dropna().reset_index(drop=True)\n",
    "\n",
    "honeysuckle = pd.read_csv(\"honeysuckle.csv\", delimiter='\\t')\n",
    "honeysuckle = honeysuckle[honeysuckle[\"occurrenceStatus\"] == \"PRESENT\"]\n",
    "honeysuckle = honeysuckle[honeysuckle['year']>=2022]\n",
    "honeysuckle['eventDate'] = pd.to_datetime(honeysuckle['eventDate'], format='%Y-%m-%d', errors='coerce')\n",
    "honeysuckle = honeysuckle[['species', 'decimalLatitude', 'decimalLongitude', 'eventDate']]\n",
    "honeysuckle = honeysuckle.dropna().reset_index(drop=True)\n",
    "\n",
    "oak = pd.read_csv(\"oak.csv\", delimiter='\\t')\n",
    "oak = oak[oak[\"occurrenceStatus\"] == \"PRESENT\"]\n",
    "oak = oak[oak['year']>=2022]\n",
    "oak['eventDate'] = pd.to_datetime(oak['eventDate'], format='%Y-%m-%d', errors='coerce')\n",
    "oak = oak[['species', 'decimalLatitude', 'decimalLongitude', 'eventDate']]\n",
    "oak = oak.dropna().reset_index(drop=True)\n",
    "\n",
    "hawthorn = pd.read_csv(\"hawthorn.csv\", delimiter='\\t')\n",
    "hawthorn = hawthorn[hawthorn[\"occurrenceStatus\"] == \"PRESENT\"]\n",
    "hawthorn = hawthorn[hawthorn['year']>=2022]\n",
    "hawthorn['eventDate'] = pd.to_datetime(hawthorn['eventDate'], format='%Y-%m-%d', errors='coerce')\n",
    "hawthorn = hawthorn[['species', 'decimalLatitude', 'decimalLongitude', 'eventDate']]\n",
    "hawthorn = hawthorn.dropna().reset_index(drop=True)"
   ],
   "metadata": {
    "collapsed": false,
    "ExecuteTime": {
     "end_time": "2025-08-05T21:56:03.999586Z",
     "start_time": "2025-08-05T21:56:00.701501Z"
    }
   },
   "id": "1c4d6674ed08d91e"
  },
  {
   "cell_type": "code",
   "execution_count": 4,
   "outputs": [
    {
     "name": "stderr",
     "output_type": "stream",
     "text": [
      "100%|██████████| 244359/244359 [00:41<00:00, 5872.49it/s]\n"
     ]
    }
   ],
   "source": [
    "import numpy as np\n",
    "from sklearn.neighbors import BallTree\n",
    "from tqdm import tqdm\n",
    "# Convert lat/lon to radians for BallTree\n",
    "dormice_coords = np.deg2rad(df[['decimalLatitude', 'decimalLongitude']].values)\n",
    "hazel_coords = np.deg2rad(hazel[['decimalLatitude', 'decimalLongitude']].values)\n",
    "birch_coords = np.deg2rad(birch[['decimalLatitude', 'decimalLongitude']].values)\n",
    "beech_coords = np.deg2rad(beech[['decimalLatitude', 'decimalLongitude']].values)\n",
    "honeysuckle_coords = np.deg2rad(honeysuckle[['decimalLatitude', 'decimalLongitude']].values)\n",
    "oak_coords = np.deg2rad(oak[['decimalLatitude', 'decimalLongitude']].values)\n",
    "hawthorn_coords = np.deg2rad(hawthorn[['decimalLatitude', 'decimalLongitude']].values)\n",
    "\n",
    "\n",
    "# Build BallTree using haversine metric\n",
    "tree_hazel = BallTree(hazel_coords, metric='haversine')\n",
    "tree_birch = BallTree(birch_coords, metric='haversine')\n",
    "tree_beech = BallTree(beech_coords, metric='haversine')\n",
    "tree_honeysuckle = BallTree(honeysuckle_coords, metric='haversine')\n",
    "tree_oak = BallTree(oak_coords, metric='haversine')\n",
    "tree_hawthorn = BallTree(hawthorn_coords, metric='haversine')\n",
    "\n",
    "# Define search radius: 1 km in radians\n",
    "earth_radius_km = 6371.0\n",
    "radius = 1 / earth_radius_km  # 1 km in radians\n",
    "\n",
    "# Initialize presence columns\n",
    "df['hazel_presence'] = 0\n",
    "df['birch_presence'] = 0\n",
    "df['beech_presence'] = 0\n",
    "df['honeysuckle_presence'] = 0\n",
    "df['oak_presence'] = 0\n",
    "df['hawthorn_presence'] = 0\n",
    "\n",
    "# Iterate through each dormice point with tqdm for progress tracking\n",
    "for i in tqdm(range(len(df))):\n",
    "    point = dormice_coords[i].reshape(1, -1)\n",
    "    event_month = df.loc[i, 'eventDate'].month\n",
    "    event_year = df.loc[i, 'eventDate'].year\n",
    "\n",
    "    # HAZEL\n",
    "    idxs = tree_hazel.query_radius(point, r=radius)[0]\n",
    "    for j in idxs:\n",
    "        hazel_date = hazel.loc[j, 'eventDate']\n",
    "        if hazel_date.month == event_month and hazel_date.year == event_year:\n",
    "            df.at[i, 'hazel_presence'] = 1\n",
    "            break  # Found at least one match, no need to check further\n",
    "\n",
    "    # BIRCH\n",
    "    idxs = tree_birch.query_radius(point, r=radius)[0]\n",
    "    for j in idxs:\n",
    "        birch_date = birch.loc[j, 'eventDate']\n",
    "        if birch_date.month == event_month and birch_date.year == event_year:\n",
    "            df.at[i, 'birch_presence'] = 1\n",
    "            break\n",
    "            \n",
    "    # BEECH\n",
    "    idxs = tree_beech.query_radius(point, r=radius)[0]\n",
    "    for j in idxs:\n",
    "        beech_date = beech.loc[j, 'eventDate']\n",
    "        if beech_date.month == event_month and beech_date.year == event_year:\n",
    "            df.at[i, 'beech_presence'] = 1\n",
    "            break\n",
    "            \n",
    "    # HONEYSUCKLE\n",
    "    idxs = tree_honeysuckle.query_radius(point, r=radius)[0]\n",
    "    for j in idxs:\n",
    "        honeysuckle_date = honeysuckle.loc[j, 'eventDate']\n",
    "        if honeysuckle_date.month == event_month and honeysuckle_date.year == event_year:\n",
    "            df.at[i, 'honeysuckle_presence'] = 1\n",
    "            break\n",
    "            \n",
    "    # OAK\n",
    "    idxs = tree_oak.query_radius(point, r=radius)[0]\n",
    "    for j in idxs:\n",
    "        oak_date = oak.loc[j, 'eventDate']\n",
    "        if oak_date.month == event_month and oak_date.year == event_year:\n",
    "            df.at[i, 'oak_presence'] = 1\n",
    "            break\n",
    "            \n",
    "    # HAWTHORN\n",
    "    idxs = tree_hawthorn.query_radius(point, r=radius)[0]\n",
    "    for j in idxs:\n",
    "        hawthorn_date = hawthorn.loc[j, 'eventDate']\n",
    "        if hawthorn_date.month == event_month and hawthorn_date.year == event_year:\n",
    "            df.at[i, 'hawthorn_presence'] = 1\n",
    "            break\n",
    "            \n",
    "            \n",
    "            \n",
    "            \n"
   ],
   "metadata": {
    "collapsed": false,
    "ExecuteTime": {
     "end_time": "2025-08-05T21:56:56.033760Z",
     "start_time": "2025-08-05T21:56:14.377418Z"
    }
   },
   "id": "95c09ff9d6c9aa05"
  },
  {
   "cell_type": "code",
   "execution_count": null,
   "outputs": [
    {
     "name": "stderr",
     "output_type": "stream",
     "text": [
      "  0%|          | 1121/244359 [00:02<08:49, 459.65it/s]"
     ]
    },
    {
     "name": "stdout",
     "output_type": "stream",
     "text": [
      "Error processing row: index 0 is out of bounds for axis 0 with size 0\n"
     ]
    },
    {
     "name": "stderr",
     "output_type": "stream",
     "text": [
      " 19%|█▉        | 46166/244359 [02:05<08:36, 383.44it/s]"
     ]
    },
    {
     "name": "stdout",
     "output_type": "stream",
     "text": [
      "Error processing row: index 0 is out of bounds for axis 0 with size 0\n"
     ]
    },
    {
     "name": "stderr",
     "output_type": "stream",
     "text": [
      " 32%|███▏      | 79265/244359 [03:38<06:10, 445.22it/s]"
     ]
    },
    {
     "name": "stdout",
     "output_type": "stream",
     "text": [
      "Error processing row: index 0 is out of bounds for axis 0 with size 0\n"
     ]
    },
    {
     "name": "stderr",
     "output_type": "stream",
     "text": [
      " 44%|████▍     | 107225/244359 [05:17<09:30, 240.36it/s]"
     ]
    }
   ],
   "source": [
    "from pyproj import Transformer\n",
    "from rasterio.windows import Window\n",
    "import rasterio\n",
    "\n",
    "land_cover_map = {\n",
    "    1: \"Deciduous woodland\",\n",
    "    2: \"Coniferous woodland\",\n",
    "    3: \"Arable\",\n",
    "    4: \"Improved grassland\",\n",
    "    5: \"Neutral grassland\",\n",
    "    6: \"Calcareous grassland\",\n",
    "    7: \"Acid grassland\",\n",
    "    8: \"Fen\",\n",
    "    9: \"Heather\",\n",
    "    10: \"Heather grassland\",\n",
    "    11: \"Bog\",\n",
    "    12: \"Inland rock\",\n",
    "    13: \"Saltwater\",\n",
    "    14: \"Freshwater\",\n",
    "    15: \"Supralittoral rock\",\n",
    "    16: \"Supralittoral sediment\",\n",
    "    17: \"Littoral rock\",\n",
    "    18: \"Littoral sediment\",\n",
    "    19: \"Saltmarsh\",\n",
    "    20: \"Urban\",\n",
    "    21: \"Suburban\"\n",
    "}\n",
    "\n",
    "# Batch coordinate transformation\n",
    "transformer_ni = Transformer.from_crs(\"EPSG:4326\", \"EPSG:29903\", always_xy=True)\n",
    "transformer_gb = Transformer.from_crs(\"EPSG:4326\", \"EPSG:27700\", always_xy=True)\n",
    "\n",
    "coords = list(zip(df['decimalLongitude'], df['decimalLatitude']))\n",
    "df['easting_ni'], df['northing_ni'] = zip(*transformer_ni.itransform(coords))\n",
    "df['easting_gb'], df['northing_gb'] = zip(*transformer_gb.itransform(coords))\n",
    "\n",
    "# Raster processing optimization\n",
    "gb_raster = 'gblcm2023_10m.tif'\n",
    "n_ireland_raster = 'nilcm2023_10m.tif'\n",
    "\n",
    "\n",
    "def get_land_cover_class(row):\n",
    "    try:\n",
    "        # Try GB raster first\n",
    "        with rasterio.open(gb_raster) as src:\n",
    "            row_idx, col_idx = src.index(row['easting_gb'], row['northing_gb'])\n",
    "            # Read a small window around the point for better performance\n",
    "            window = Window(col_idx, row_idx, 1, 1)\n",
    "            land_cover_class = src.read(1, window=window)[0, 0]\n",
    "\n",
    "            if land_cover_class == 0:  # Check NI raster if GB is 0\n",
    "                with rasterio.open(n_ireland_raster) as src_ni:\n",
    "                    row_idx, col_idx = src_ni.index(row['easting_ni'], row['northing_ni'])\n",
    "                    window = Window(col_idx, row_idx, 1, 1)\n",
    "                    land_cover_class = src_ni.read(1, window=window)[0, 0]\n",
    "\n",
    "        return land_cover_map.get(land_cover_class, \"Unknown\")\n",
    "    except Exception as e:\n",
    "        print(f\"Error processing row: {e}\")\n",
    "        return \"Unknown\"\n",
    "\n",
    "\n",
    "tqdm.pandas()\n",
    "df['Land_cover'] = df.progress_apply(get_land_cover_class, axis=1)"
   ],
   "metadata": {
    "collapsed": false,
    "is_executing": true,
    "ExecuteTime": {
     "start_time": "2025-08-05T21:56:56.042428Z"
    }
   },
   "id": "8f0486b22e10572e"
  },
  {
   "cell_type": "code",
   "execution_count": null,
   "outputs": [],
   "source": [
    "df = df.dropna()\n",
    "df=df.drop(['easting_ni', 'northing_ni', 'easting_gb', 'northing_gb'],axis=1)\n",
    "# Remove where Land_cover is Unknown\n",
    "df = df[df['Land_cover'] != \"Unknown\"].reset_index(drop=True)\n",
    "df.to_csv(\"dormice_inference_data_preprocessed.csv\", index=False)"
   ],
   "metadata": {
    "collapsed": false,
    "is_executing": true
   },
   "id": "ca4bb2009f93c39"
  },
  {
   "cell_type": "code",
   "execution_count": null,
   "outputs": [],
   "source": [],
   "metadata": {
    "collapsed": false
   },
   "id": "cae4a7b73a53d7a3"
  }
 ],
 "metadata": {
  "kernelspec": {
   "display_name": "Python 3",
   "language": "python",
   "name": "python3"
  },
  "language_info": {
   "codemirror_mode": {
    "name": "ipython",
    "version": 2
   },
   "file_extension": ".py",
   "mimetype": "text/x-python",
   "name": "python",
   "nbconvert_exporter": "python",
   "pygments_lexer": "ipython2",
   "version": "2.7.6"
  }
 },
 "nbformat": 4,
 "nbformat_minor": 5
}
