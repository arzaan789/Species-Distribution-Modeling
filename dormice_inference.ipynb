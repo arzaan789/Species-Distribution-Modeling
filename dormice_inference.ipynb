{
 "cells": [
  {
   "cell_type": "code",
   "execution_count": 1,
   "id": "initial_id",
   "metadata": {
    "collapsed": true,
    "ExecuteTime": {
     "end_time": "2025-08-05T21:56:00.685972Z",
     "start_time": "2025-08-05T21:56:00.380822Z"
    }
   },
   "outputs": [],
   "source": [
    "import pandas as pd\n",
    "df = pd.read_csv(\"inference_data_indices.csv\")\n",
    "df['eventDate'] = pd.to_datetime(df['eventDate'], format='%Y-%m-%d', errors='coerce')"
   ]
  },
  {
   "cell_type": "code",
   "execution_count": 2,
   "outputs": [
    {
     "name": "stderr",
     "output_type": "stream",
     "text": [
      "/var/folders/0n/sggn66691kd6g5mtyzpq2hv80000gn/T/ipykernel_79401/1357841717.py:1: DtypeWarning: Columns (10,38,39,41,46,48) have mixed types. Specify dtype option on import or set low_memory=False.\n",
      "  hazel = pd.read_csv(\"hazel.csv\", delimiter='\\t')\n",
      "/var/folders/0n/sggn66691kd6g5mtyzpq2hv80000gn/T/ipykernel_79401/1357841717.py:8: DtypeWarning: Columns (10,38,39,41,46) have mixed types. Specify dtype option on import or set low_memory=False.\n",
      "  birch = pd.read_csv(\"birch.csv\", delimiter='\\t')\n",
      "/var/folders/0n/sggn66691kd6g5mtyzpq2hv80000gn/T/ipykernel_79401/1357841717.py:15: DtypeWarning: Columns (10,39,41,45,46) have mixed types. Specify dtype option on import or set low_memory=False.\n",
      "  beech = pd.read_csv(\"beech.csv\", delimiter='\\t')\n",
      "/var/folders/0n/sggn66691kd6g5mtyzpq2hv80000gn/T/ipykernel_79401/1357841717.py:22: DtypeWarning: Columns (10,38,39,41,45,46,48) have mixed types. Specify dtype option on import or set low_memory=False.\n",
      "  honeysuckle = pd.read_csv(\"honeysuckle.csv\", delimiter='\\t')\n",
      "/var/folders/0n/sggn66691kd6g5mtyzpq2hv80000gn/T/ipykernel_79401/1357841717.py:29: DtypeWarning: Columns (38,39,41,46,48) have mixed types. Specify dtype option on import or set low_memory=False.\n",
      "  oak = pd.read_csv(\"oak.csv\", delimiter='\\t')\n"
     ]
    }
   ],
   "source": [
    "hazel = pd.read_csv(\"hazel.csv\", delimiter='\\t')\n",
    "hazel = hazel[hazel[\"occurrenceStatus\"] == \"PRESENT\"]\n",
    "hazel = hazel[hazel['year']>=2022]\n",
    "hazel['eventDate'] = pd.to_datetime(hazel['eventDate'], format='%Y-%m-%d', errors='coerce')\n",
    "hazel = hazel[['species', 'decimalLatitude', 'decimalLongitude', 'eventDate']]\n",
    "hazel = hazel.dropna().reset_index(drop=True)\n",
    "\n",
    "birch = pd.read_csv(\"birch.csv\", delimiter='\\t')\n",
    "birch = birch[birch[\"occurrenceStatus\"] == \"PRESENT\"]\n",
    "birch = birch[birch['year']>=2022]\n",
    "birch['eventDate'] = pd.to_datetime(birch['eventDate'], format='%Y-%m-%d', errors='coerce')\n",
    "birch = birch[['species', 'decimalLatitude', 'decimalLongitude', 'eventDate']]\n",
    "birch = birch.dropna().reset_index(drop=True)\n",
    "\n",
    "beech = pd.read_csv(\"beech.csv\", delimiter='\\t')\n",
    "beech = beech[beech[\"occurrenceStatus\"] == \"PRESENT\"]\n",
    "beech = beech[beech['year']>=2022]\n",
    "beech['eventDate'] = pd.to_datetime(beech['eventDate'], format='%Y-%m-%d', errors='coerce')\n",
    "beech = beech[['species', 'decimalLatitude', 'decimalLongitude', 'eventDate']]\n",
    "beech = beech.dropna().reset_index(drop=True)\n",
    "\n",
    "honeysuckle = pd.read_csv(\"honeysuckle.csv\", delimiter='\\t')\n",
    "honeysuckle = honeysuckle[honeysuckle[\"occurrenceStatus\"] == \"PRESENT\"]\n",
    "honeysuckle = honeysuckle[honeysuckle['year']>=2022]\n",
    "honeysuckle['eventDate'] = pd.to_datetime(honeysuckle['eventDate'], format='%Y-%m-%d', errors='coerce')\n",
    "honeysuckle = honeysuckle[['species', 'decimalLatitude', 'decimalLongitude', 'eventDate']]\n",
    "honeysuckle = honeysuckle.dropna().reset_index(drop=True)\n",
    "\n",
    "oak = pd.read_csv(\"oak.csv\", delimiter='\\t')\n",
    "oak = oak[oak[\"occurrenceStatus\"] == \"PRESENT\"]\n",
    "oak = oak[oak['year']>=2022]\n",
    "oak['eventDate'] = pd.to_datetime(oak['eventDate'], format='%Y-%m-%d', errors='coerce')\n",
    "oak = oak[['species', 'decimalLatitude', 'decimalLongitude', 'eventDate']]\n",
    "oak = oak.dropna().reset_index(drop=True)\n",
    "\n",
    "hawthorn = pd.read_csv(\"hawthorn.csv\", delimiter='\\t')\n",
    "hawthorn = hawthorn[hawthorn[\"occurrenceStatus\"] == \"PRESENT\"]\n",
    "hawthorn = hawthorn[hawthorn['year']>=2022]\n",
    "hawthorn['eventDate'] = pd.to_datetime(hawthorn['eventDate'], format='%Y-%m-%d', errors='coerce')\n",
    "hawthorn = hawthorn[['species', 'decimalLatitude', 'decimalLongitude', 'eventDate']]\n",
    "hawthorn = hawthorn.dropna().reset_index(drop=True)"
   ],
   "metadata": {
    "collapsed": false,
    "ExecuteTime": {
     "end_time": "2025-08-05T21:56:03.999586Z",
     "start_time": "2025-08-05T21:56:00.701501Z"
    }
   },
   "id": "1c4d6674ed08d91e"
  },
  {
   "cell_type": "code",
   "execution_count": 4,
   "outputs": [
    {
     "name": "stderr",
     "output_type": "stream",
     "text": [
      "100%|██████████| 244359/244359 [00:41<00:00, 5872.49it/s]\n"
     ]
    }
   ],
   "source": [
    "import numpy as np\n",
    "from sklearn.neighbors import BallTree\n",
    "from tqdm import tqdm\n",
    "# Convert lat/lon to radians for BallTree\n",
    "dormice_coords = np.deg2rad(df[['decimalLatitude', 'decimalLongitude']].values)\n",
    "hazel_coords = np.deg2rad(hazel[['decimalLatitude', 'decimalLongitude']].values)\n",
    "birch_coords = np.deg2rad(birch[['decimalLatitude', 'decimalLongitude']].values)\n",
    "beech_coords = np.deg2rad(beech[['decimalLatitude', 'decimalLongitude']].values)\n",
    "honeysuckle_coords = np.deg2rad(honeysuckle[['decimalLatitude', 'decimalLongitude']].values)\n",
    "oak_coords = np.deg2rad(oak[['decimalLatitude', 'decimalLongitude']].values)\n",
    "hawthorn_coords = np.deg2rad(hawthorn[['decimalLatitude', 'decimalLongitude']].values)\n",
    "\n",
    "\n",
    "# Build BallTree using haversine metric\n",
    "tree_hazel = BallTree(hazel_coords, metric='haversine')\n",
    "tree_birch = BallTree(birch_coords, metric='haversine')\n",
    "tree_beech = BallTree(beech_coords, metric='haversine')\n",
    "tree_honeysuckle = BallTree(honeysuckle_coords, metric='haversine')\n",
    "tree_oak = BallTree(oak_coords, metric='haversine')\n",
    "tree_hawthorn = BallTree(hawthorn_coords, metric='haversine')\n",
    "\n",
    "# Define search radius: 1 km in radians\n",
    "earth_radius_km = 6371.0\n",
    "radius = 1 / earth_radius_km  # 1 km in radians\n",
    "\n",
    "# Initialize presence columns\n",
    "df['hazel_presence'] = 0\n",
    "df['birch_presence'] = 0\n",
    "df['beech_presence'] = 0\n",
    "df['honeysuckle_presence'] = 0\n",
    "df['oak_presence'] = 0\n",
    "df['hawthorn_presence'] = 0\n",
    "\n",
    "# Iterate through each dormice point with tqdm for progress tracking\n",
    "for i in tqdm(range(len(df))):\n",
    "    point = dormice_coords[i].reshape(1, -1)\n",
    "    event_month = df.loc[i, 'eventDate'].month\n",
    "    event_year = df.loc[i, 'eventDate'].year\n",
    "\n",
    "    # HAZEL\n",
    "    idxs = tree_hazel.query_radius(point, r=radius)[0]\n",
    "    for j in idxs:\n",
    "        hazel_date = hazel.loc[j, 'eventDate']\n",
    "        if hazel_date.month == event_month and hazel_date.year == event_year:\n",
    "            df.at[i, 'hazel_presence'] = 1\n",
    "            break  # Found at least one match, no need to check further\n",
    "\n",
    "    # BIRCH\n",
    "    idxs = tree_birch.query_radius(point, r=radius)[0]\n",
    "    for j in idxs:\n",
    "        birch_date = birch.loc[j, 'eventDate']\n",
    "        if birch_date.month == event_month and birch_date.year == event_year:\n",
    "            df.at[i, 'birch_presence'] = 1\n",
    "            break\n",
    "            \n",
    "    # BEECH\n",
    "    idxs = tree_beech.query_radius(point, r=radius)[0]\n",
    "    for j in idxs:\n",
    "        beech_date = beech.loc[j, 'eventDate']\n",
    "        if beech_date.month == event_month and beech_date.year == event_year:\n",
    "            df.at[i, 'beech_presence'] = 1\n",
    "            break\n",
    "            \n",
    "    # HONEYSUCKLE\n",
    "    idxs = tree_honeysuckle.query_radius(point, r=radius)[0]\n",
    "    for j in idxs:\n",
    "        honeysuckle_date = honeysuckle.loc[j, 'eventDate']\n",
    "        if honeysuckle_date.month == event_month and honeysuckle_date.year == event_year:\n",
    "            df.at[i, 'honeysuckle_presence'] = 1\n",
    "            break\n",
    "            \n",
    "    # OAK\n",
    "    idxs = tree_oak.query_radius(point, r=radius)[0]\n",
    "    for j in idxs:\n",
    "        oak_date = oak.loc[j, 'eventDate']\n",
    "        if oak_date.month == event_month and oak_date.year == event_year:\n",
    "            df.at[i, 'oak_presence'] = 1\n",
    "            break\n",
    "            \n",
    "    # HAWTHORN\n",
    "    idxs = tree_hawthorn.query_radius(point, r=radius)[0]\n",
    "    for j in idxs:\n",
    "        hawthorn_date = hawthorn.loc[j, 'eventDate']\n",
    "        if hawthorn_date.month == event_month and hawthorn_date.year == event_year:\n",
    "            df.at[i, 'hawthorn_presence'] = 1\n",
    "            break\n",
    "            \n",
    "            \n",
    "            \n",
    "            \n"
   ],
   "metadata": {
    "collapsed": false,
    "ExecuteTime": {
     "end_time": "2025-08-05T21:56:56.033760Z",
     "start_time": "2025-08-05T21:56:14.377418Z"
    }
   },
   "id": "95c09ff9d6c9aa05"
  },
  {
   "cell_type": "code",
   "execution_count": 5,
   "outputs": [
    {
     "name": "stderr",
     "output_type": "stream",
     "text": [
      "  0%|          | 1121/244359 [00:02<08:49, 459.65it/s]"
     ]
    },
    {
     "name": "stdout",
     "output_type": "stream",
     "text": [
      "Error processing row: index 0 is out of bounds for axis 0 with size 0\n"
     ]
    },
    {
     "name": "stderr",
     "output_type": "stream",
     "text": [
      " 19%|█▉        | 46166/244359 [02:05<08:36, 383.44it/s]"
     ]
    },
    {
     "name": "stdout",
     "output_type": "stream",
     "text": [
      "Error processing row: index 0 is out of bounds for axis 0 with size 0\n"
     ]
    },
    {
     "name": "stderr",
     "output_type": "stream",
     "text": [
      " 32%|███▏      | 79265/244359 [03:38<06:10, 445.22it/s]"
     ]
    },
    {
     "name": "stdout",
     "output_type": "stream",
     "text": [
      "Error processing row: index 0 is out of bounds for axis 0 with size 0\n"
     ]
    },
    {
     "name": "stderr",
     "output_type": "stream",
     "text": [
      " 61%|██████    | 148891/244359 [07:16<05:00, 317.89it/s]"
     ]
    },
    {
     "name": "stdout",
     "output_type": "stream",
     "text": [
      "Error processing row: index 0 is out of bounds for axis 1 with size 0\n"
     ]
    },
    {
     "name": "stderr",
     "output_type": "stream",
     "text": [
      " 94%|█████████▎| 228889/244359 [11:20<00:37, 412.02it/s]"
     ]
    },
    {
     "name": "stdout",
     "output_type": "stream",
     "text": [
      "Error processing row: index 0 is out of bounds for axis 0 with size 0\n"
     ]
    },
    {
     "name": "stderr",
     "output_type": "stream",
     "text": [
      " 95%|█████████▌| 232315/244359 [11:29<00:31, 384.58it/s]"
     ]
    },
    {
     "name": "stdout",
     "output_type": "stream",
     "text": [
      "Error processing row: index 0 is out of bounds for axis 0 with size 0\n"
     ]
    },
    {
     "name": "stderr",
     "output_type": "stream",
     "text": [
      " 95%|█████████▌| 232610/244359 [11:30<00:28, 416.75it/s]"
     ]
    },
    {
     "name": "stdout",
     "output_type": "stream",
     "text": [
      "Error processing row: index 0 is out of bounds for axis 0 with size 0\n"
     ]
    },
    {
     "name": "stderr",
     "output_type": "stream",
     "text": [
      " 98%|█████████▊| 239105/244359 [11:46<00:13, 389.24it/s]"
     ]
    },
    {
     "name": "stdout",
     "output_type": "stream",
     "text": [
      "Error processing row: index 0 is out of bounds for axis 0 with size 0\n"
     ]
    },
    {
     "name": "stderr",
     "output_type": "stream",
     "text": [
      " 99%|█████████▉| 242766/244359 [11:54<00:03, 464.23it/s]"
     ]
    },
    {
     "name": "stdout",
     "output_type": "stream",
     "text": [
      "Error processing row: index 0 is out of bounds for axis 0 with size 0\n",
      "Error processing row: index 0 is out of bounds for axis 0 with size 0\n"
     ]
    },
    {
     "name": "stderr",
     "output_type": "stream",
     "text": [
      "100%|██████████| 244359/244359 [11:58<00:00, 340.18it/s]\n"
     ]
    }
   ],
   "source": [
    "from pyproj import Transformer\n",
    "from rasterio.windows import Window\n",
    "import rasterio\n",
    "\n",
    "land_cover_map = {\n",
    "    1: \"Deciduous woodland\",\n",
    "    2: \"Coniferous woodland\",\n",
    "    3: \"Arable\",\n",
    "    4: \"Improved grassland\",\n",
    "    5: \"Neutral grassland\",\n",
    "    6: \"Calcareous grassland\",\n",
    "    7: \"Acid grassland\",\n",
    "    8: \"Fen\",\n",
    "    9: \"Heather\",\n",
    "    10: \"Heather grassland\",\n",
    "    11: \"Bog\",\n",
    "    12: \"Inland rock\",\n",
    "    13: \"Saltwater\",\n",
    "    14: \"Freshwater\",\n",
    "    15: \"Supralittoral rock\",\n",
    "    16: \"Supralittoral sediment\",\n",
    "    17: \"Littoral rock\",\n",
    "    18: \"Littoral sediment\",\n",
    "    19: \"Saltmarsh\",\n",
    "    20: \"Urban\",\n",
    "    21: \"Suburban\"\n",
    "}\n",
    "\n",
    "# Batch coordinate transformation\n",
    "transformer_ni = Transformer.from_crs(\"EPSG:4326\", \"EPSG:29903\", always_xy=True)\n",
    "transformer_gb = Transformer.from_crs(\"EPSG:4326\", \"EPSG:27700\", always_xy=True)\n",
    "\n",
    "coords = list(zip(df['decimalLongitude'], df['decimalLatitude']))\n",
    "df['easting_ni'], df['northing_ni'] = zip(*transformer_ni.itransform(coords))\n",
    "df['easting_gb'], df['northing_gb'] = zip(*transformer_gb.itransform(coords))\n",
    "\n",
    "# Raster processing optimization\n",
    "gb_raster = 'gblcm2023_10m.tif'\n",
    "n_ireland_raster = 'nilcm2023_10m.tif'\n",
    "\n",
    "\n",
    "def get_land_cover_class(row):\n",
    "    try:\n",
    "        # Try GB raster first\n",
    "        with rasterio.open(gb_raster) as src:\n",
    "            row_idx, col_idx = src.index(row['easting_gb'], row['northing_gb'])\n",
    "            # Read a small window around the point for better performance\n",
    "            window = Window(col_idx, row_idx, 1, 1)\n",
    "            land_cover_class = src.read(1, window=window)[0, 0]\n",
    "\n",
    "            if land_cover_class == 0:  # Check NI raster if GB is 0\n",
    "                with rasterio.open(n_ireland_raster) as src_ni:\n",
    "                    row_idx, col_idx = src_ni.index(row['easting_ni'], row['northing_ni'])\n",
    "                    window = Window(col_idx, row_idx, 1, 1)\n",
    "                    land_cover_class = src_ni.read(1, window=window)[0, 0]\n",
    "\n",
    "        return land_cover_map.get(land_cover_class, \"Unknown\")\n",
    "    except Exception as e:\n",
    "        print(f\"Error processing row: {e}\")\n",
    "        return \"Unknown\"\n",
    "\n",
    "\n",
    "tqdm.pandas()\n",
    "df['Land_cover'] = df.progress_apply(get_land_cover_class, axis=1)"
   ],
   "metadata": {
    "collapsed": false,
    "ExecuteTime": {
     "end_time": "2025-08-05T22:08:55.193614Z",
     "start_time": "2025-08-05T21:56:56.042428Z"
    }
   },
   "id": "8f0486b22e10572e"
  },
  {
   "cell_type": "code",
   "execution_count": 6,
   "outputs": [],
   "source": [
    "df = df.dropna()\n",
    "df=df.drop(['easting_ni', 'northing_ni', 'easting_gb', 'northing_gb'],axis=1)\n",
    "# Remove where Land_cover is Unknown\n",
    "df = df[df['Land_cover'] != \"Unknown\"].reset_index(drop=True)\n",
    "df.to_csv(\"dormice_inference_data_preprocessed.csv\", index=False)"
   ],
   "metadata": {
    "collapsed": false,
    "ExecuteTime": {
     "end_time": "2025-08-05T22:08:57.475102Z",
     "start_time": "2025-08-05T22:08:55.239225Z"
    }
   },
   "id": "ca4bb2009f93c39"
  },
  {
   "cell_type": "code",
   "execution_count": 8,
   "outputs": [
    {
     "data": {
      "text/plain": "        decimalLongitude  decimalLatitude   eventDate       BSI       LST  \\\n0              -6.347425        49.893656  2025-06-01  0.293274 -0.002672   \n1              -6.321265        49.912633  2025-06-01  0.463918 -1.438091   \n2              -6.307377        49.913150  2025-06-01 -0.255497  0.000182   \n3              -6.293488        49.913666  2025-06-01 -0.653921  0.105083   \n4              -6.308177        49.922119  2025-06-01 -0.258903 -0.011762   \n...                  ...              ...         ...       ...       ...   \n243512         -0.808766        60.824609  2025-06-01 -0.578236 -0.911807   \n243513         -0.790383        60.824445  2025-06-01  1.006828 -0.634710   \n243514         -0.881988        60.834217  2025-06-01 -0.437808 -0.809255   \n243515         -0.845210        60.833906  2025-06-01  0.570275 -0.952518   \n243516         -0.881674        60.843193  2025-06-01 -0.007589 -0.818548   \n\n           MNDWI      NDBI      NDSI      NDVI      NDWI  ...  \\\n0       0.412461 -0.007846  0.412461 -0.165498  0.304107  ...   \n1       0.627304 -0.053729  0.627304 -0.336127  0.564584  ...   \n2      -0.060399 -0.375857 -0.060399  0.340652 -0.252897  ...   \n3      -0.376596 -0.728743 -0.376596  0.771306 -0.703132  ...   \n4       0.201248 -0.992148  0.201248  0.446479 -0.159607  ...   \n...          ...       ...       ...       ...       ...  ...   \n243512 -0.920890  0.676035 -0.920890  0.389105 -0.687037  ...   \n243513  0.967822  1.152616  0.967822 -0.813325  1.554708  ...   \n243514 -0.662704  0.449416 -0.662704  0.327916 -0.525695  ...   \n243515  0.196350  1.553755  0.196350 -0.792752  0.936717  ...   \n243516 -0.107029  0.457412 -0.107029  0.038130  0.009395  ...   \n\n        Land_cover_Inland rock  Land_cover_Littoral rock  \\\n0                            0                         0   \n1                            0                         0   \n2                            0                         0   \n3                            0                         0   \n4                            0                         0   \n...                        ...                       ...   \n243512                       0                         0   \n243513                       0                         0   \n243514                       0                         0   \n243515                       0                         0   \n243516                       0                         0   \n\n        Land_cover_Littoral sediment  Land_cover_Neutral grassland  \\\n0                                  0                             0   \n1                                  0                             0   \n2                                  0                             0   \n3                                  0                             0   \n4                                  0                             0   \n...                              ...                           ...   \n243512                             0                             0   \n243513                             0                             0   \n243514                             0                             0   \n243515                             0                             0   \n243516                             0                             0   \n\n        Land_cover_Saltmarsh  Land_cover_Saltwater  Land_cover_Suburban  \\\n0                          0                     0                    1   \n1                          0                     0                    0   \n2                          0                     0                    1   \n3                          0                     0                    0   \n4                          0                     0                    0   \n...                      ...                   ...                  ...   \n243512                     0                     0                    0   \n243513                     0                     0                    0   \n243514                     0                     0                    0   \n243515                     0                     0                    0   \n243516                     0                     0                    0   \n\n        Land_cover_Supralittoral rock  Land_cover_Supralittoral sediment  \\\n0                                   0                                  0   \n1                                   0                                  0   \n2                                   0                                  0   \n3                                   0                                  0   \n4                                   0                                  0   \n...                               ...                                ...   \n243512                              0                                  0   \n243513                              0                                  0   \n243514                              0                                  0   \n243515                              0                                  0   \n243516                              0                                  0   \n\n        Land_cover_Urban  \n0                      0  \n1                      0  \n2                      0  \n3                      0  \n4                      1  \n...                  ...  \n243512                 0  \n243513                 0  \n243514                 0  \n243515                 0  \n243516                 0  \n\n[243517 rows x 39 columns]",
      "text/html": "<div>\n<style scoped>\n    .dataframe tbody tr th:only-of-type {\n        vertical-align: middle;\n    }\n\n    .dataframe tbody tr th {\n        vertical-align: top;\n    }\n\n    .dataframe thead th {\n        text-align: right;\n    }\n</style>\n<table border=\"1\" class=\"dataframe\">\n  <thead>\n    <tr style=\"text-align: right;\">\n      <th></th>\n      <th>decimalLongitude</th>\n      <th>decimalLatitude</th>\n      <th>eventDate</th>\n      <th>BSI</th>\n      <th>LST</th>\n      <th>MNDWI</th>\n      <th>NDBI</th>\n      <th>NDSI</th>\n      <th>NDVI</th>\n      <th>NDWI</th>\n      <th>...</th>\n      <th>Land_cover_Inland rock</th>\n      <th>Land_cover_Littoral rock</th>\n      <th>Land_cover_Littoral sediment</th>\n      <th>Land_cover_Neutral grassland</th>\n      <th>Land_cover_Saltmarsh</th>\n      <th>Land_cover_Saltwater</th>\n      <th>Land_cover_Suburban</th>\n      <th>Land_cover_Supralittoral rock</th>\n      <th>Land_cover_Supralittoral sediment</th>\n      <th>Land_cover_Urban</th>\n    </tr>\n  </thead>\n  <tbody>\n    <tr>\n      <th>0</th>\n      <td>-6.347425</td>\n      <td>49.893656</td>\n      <td>2025-06-01</td>\n      <td>0.293274</td>\n      <td>-0.002672</td>\n      <td>0.412461</td>\n      <td>-0.007846</td>\n      <td>0.412461</td>\n      <td>-0.165498</td>\n      <td>0.304107</td>\n      <td>...</td>\n      <td>0</td>\n      <td>0</td>\n      <td>0</td>\n      <td>0</td>\n      <td>0</td>\n      <td>0</td>\n      <td>1</td>\n      <td>0</td>\n      <td>0</td>\n      <td>0</td>\n    </tr>\n    <tr>\n      <th>1</th>\n      <td>-6.321265</td>\n      <td>49.912633</td>\n      <td>2025-06-01</td>\n      <td>0.463918</td>\n      <td>-1.438091</td>\n      <td>0.627304</td>\n      <td>-0.053729</td>\n      <td>0.627304</td>\n      <td>-0.336127</td>\n      <td>0.564584</td>\n      <td>...</td>\n      <td>0</td>\n      <td>0</td>\n      <td>0</td>\n      <td>0</td>\n      <td>0</td>\n      <td>0</td>\n      <td>0</td>\n      <td>0</td>\n      <td>0</td>\n      <td>0</td>\n    </tr>\n    <tr>\n      <th>2</th>\n      <td>-6.307377</td>\n      <td>49.913150</td>\n      <td>2025-06-01</td>\n      <td>-0.255497</td>\n      <td>0.000182</td>\n      <td>-0.060399</td>\n      <td>-0.375857</td>\n      <td>-0.060399</td>\n      <td>0.340652</td>\n      <td>-0.252897</td>\n      <td>...</td>\n      <td>0</td>\n      <td>0</td>\n      <td>0</td>\n      <td>0</td>\n      <td>0</td>\n      <td>0</td>\n      <td>1</td>\n      <td>0</td>\n      <td>0</td>\n      <td>0</td>\n    </tr>\n    <tr>\n      <th>3</th>\n      <td>-6.293488</td>\n      <td>49.913666</td>\n      <td>2025-06-01</td>\n      <td>-0.653921</td>\n      <td>0.105083</td>\n      <td>-0.376596</td>\n      <td>-0.728743</td>\n      <td>-0.376596</td>\n      <td>0.771306</td>\n      <td>-0.703132</td>\n      <td>...</td>\n      <td>0</td>\n      <td>0</td>\n      <td>0</td>\n      <td>0</td>\n      <td>0</td>\n      <td>0</td>\n      <td>0</td>\n      <td>0</td>\n      <td>0</td>\n      <td>0</td>\n    </tr>\n    <tr>\n      <th>4</th>\n      <td>-6.308177</td>\n      <td>49.922119</td>\n      <td>2025-06-01</td>\n      <td>-0.258903</td>\n      <td>-0.011762</td>\n      <td>0.201248</td>\n      <td>-0.992148</td>\n      <td>0.201248</td>\n      <td>0.446479</td>\n      <td>-0.159607</td>\n      <td>...</td>\n      <td>0</td>\n      <td>0</td>\n      <td>0</td>\n      <td>0</td>\n      <td>0</td>\n      <td>0</td>\n      <td>0</td>\n      <td>0</td>\n      <td>0</td>\n      <td>1</td>\n    </tr>\n    <tr>\n      <th>...</th>\n      <td>...</td>\n      <td>...</td>\n      <td>...</td>\n      <td>...</td>\n      <td>...</td>\n      <td>...</td>\n      <td>...</td>\n      <td>...</td>\n      <td>...</td>\n      <td>...</td>\n      <td>...</td>\n      <td>...</td>\n      <td>...</td>\n      <td>...</td>\n      <td>...</td>\n      <td>...</td>\n      <td>...</td>\n      <td>...</td>\n      <td>...</td>\n      <td>...</td>\n      <td>...</td>\n    </tr>\n    <tr>\n      <th>243512</th>\n      <td>-0.808766</td>\n      <td>60.824609</td>\n      <td>2025-06-01</td>\n      <td>-0.578236</td>\n      <td>-0.911807</td>\n      <td>-0.920890</td>\n      <td>0.676035</td>\n      <td>-0.920890</td>\n      <td>0.389105</td>\n      <td>-0.687037</td>\n      <td>...</td>\n      <td>0</td>\n      <td>0</td>\n      <td>0</td>\n      <td>0</td>\n      <td>0</td>\n      <td>0</td>\n      <td>0</td>\n      <td>0</td>\n      <td>0</td>\n      <td>0</td>\n    </tr>\n    <tr>\n      <th>243513</th>\n      <td>-0.790383</td>\n      <td>60.824445</td>\n      <td>2025-06-01</td>\n      <td>1.006828</td>\n      <td>-0.634710</td>\n      <td>0.967822</td>\n      <td>1.152616</td>\n      <td>0.967822</td>\n      <td>-0.813325</td>\n      <td>1.554708</td>\n      <td>...</td>\n      <td>0</td>\n      <td>0</td>\n      <td>0</td>\n      <td>0</td>\n      <td>0</td>\n      <td>0</td>\n      <td>0</td>\n      <td>0</td>\n      <td>0</td>\n      <td>0</td>\n    </tr>\n    <tr>\n      <th>243514</th>\n      <td>-0.881988</td>\n      <td>60.834217</td>\n      <td>2025-06-01</td>\n      <td>-0.437808</td>\n      <td>-0.809255</td>\n      <td>-0.662704</td>\n      <td>0.449416</td>\n      <td>-0.662704</td>\n      <td>0.327916</td>\n      <td>-0.525695</td>\n      <td>...</td>\n      <td>0</td>\n      <td>0</td>\n      <td>0</td>\n      <td>0</td>\n      <td>0</td>\n      <td>0</td>\n      <td>0</td>\n      <td>0</td>\n      <td>0</td>\n      <td>0</td>\n    </tr>\n    <tr>\n      <th>243515</th>\n      <td>-0.845210</td>\n      <td>60.833906</td>\n      <td>2025-06-01</td>\n      <td>0.570275</td>\n      <td>-0.952518</td>\n      <td>0.196350</td>\n      <td>1.553755</td>\n      <td>0.196350</td>\n      <td>-0.792752</td>\n      <td>0.936717</td>\n      <td>...</td>\n      <td>0</td>\n      <td>0</td>\n      <td>0</td>\n      <td>0</td>\n      <td>0</td>\n      <td>0</td>\n      <td>0</td>\n      <td>0</td>\n      <td>0</td>\n      <td>0</td>\n    </tr>\n    <tr>\n      <th>243516</th>\n      <td>-0.881674</td>\n      <td>60.843193</td>\n      <td>2025-06-01</td>\n      <td>-0.007589</td>\n      <td>-0.818548</td>\n      <td>-0.107029</td>\n      <td>0.457412</td>\n      <td>-0.107029</td>\n      <td>0.038130</td>\n      <td>0.009395</td>\n      <td>...</td>\n      <td>0</td>\n      <td>0</td>\n      <td>0</td>\n      <td>0</td>\n      <td>0</td>\n      <td>0</td>\n      <td>0</td>\n      <td>0</td>\n      <td>0</td>\n      <td>0</td>\n    </tr>\n  </tbody>\n</table>\n<p>243517 rows × 39 columns</p>\n</div>"
     },
     "execution_count": 8,
     "metadata": {},
     "output_type": "execute_result"
    }
   ],
   "source": [
    "df = pd.read_csv(\"dormice_inference_data_preprocessed.csv\")\n",
    "df = pd.get_dummies(df, columns=['Land_cover'])\n",
    "df = df.astype({col: 'int' for col in df.select_dtypes(include='bool').columns})\n",
    "\n",
    "#read scaler\n",
    "import joblib\n",
    "scaler = joblib.load(\"dormice_scaler.pkl\")\n",
    "# Scale the data\n",
    "env_vars = ['BSI', 'LST', 'MNDWI', 'NDBI', 'NDSI', 'NDVI', 'NDWI', 'SAVI', 'UI']\n",
    "df[env_vars] = scaler.transform(df[env_vars])\n",
    "# drop Unnamed: 0\n",
    "# df = df.drop(columns=['Unnamed: 0'])\n",
    "df"
   ],
   "metadata": {
    "collapsed": false,
    "ExecuteTime": {
     "end_time": "2025-08-05T22:21:55.497234Z",
     "start_time": "2025-08-05T22:21:54.817590Z"
    }
   },
   "id": "cae4a7b73a53d7a3"
  },
  {
   "cell_type": "code",
   "execution_count": 10,
   "outputs": [],
   "source": [
    "df.to_csv(\"dormice_inference_data_preprocessed_final.csv\", index=False)"
   ],
   "metadata": {
    "collapsed": false,
    "ExecuteTime": {
     "end_time": "2025-08-05T22:25:51.798453Z",
     "start_time": "2025-08-05T22:25:48.943584Z"
    }
   },
   "id": "28bd0e9f05f2c685"
  },
  {
   "cell_type": "code",
   "execution_count": 11,
   "outputs": [
    {
     "data": {
      "text/plain": "        decimalLongitude  decimalLatitude   eventDate       BSI       LST  \\\n0              -6.347425        49.893656  2025-06-01  0.293274 -0.002672   \n1              -6.321265        49.912633  2025-06-01  0.463918 -1.438091   \n2              -6.307377        49.913150  2025-06-01 -0.255497  0.000182   \n3              -6.293488        49.913666  2025-06-01 -0.653921  0.105083   \n4              -6.308177        49.922119  2025-06-01 -0.258903 -0.011762   \n...                  ...              ...         ...       ...       ...   \n243512         -0.808766        60.824609  2025-06-01 -0.578236 -0.911807   \n243513         -0.790383        60.824445  2025-06-01  1.006828 -0.634710   \n243514         -0.881988        60.834217  2025-06-01 -0.437808 -0.809255   \n243515         -0.845210        60.833906  2025-06-01  0.570275 -0.952518   \n243516         -0.881674        60.843193  2025-06-01 -0.007589 -0.818548   \n\n           MNDWI      NDBI      NDSI      NDVI      NDWI  ...  \\\n0       0.412461 -0.007846  0.412461 -0.165498  0.304107  ...   \n1       0.627304 -0.053729  0.627304 -0.336127  0.564584  ...   \n2      -0.060399 -0.375857 -0.060399  0.340652 -0.252897  ...   \n3      -0.376596 -0.728743 -0.376596  0.771306 -0.703132  ...   \n4       0.201248 -0.992148  0.201248  0.446479 -0.159607  ...   \n...          ...       ...       ...       ...       ...  ...   \n243512 -0.920890  0.676035 -0.920890  0.389105 -0.687037  ...   \n243513  0.967822  1.152616  0.967822 -0.813325  1.554708  ...   \n243514 -0.662704  0.449416 -0.662704  0.327916 -0.525695  ...   \n243515  0.196350  1.553755  0.196350 -0.792752  0.936717  ...   \n243516 -0.107029  0.457412 -0.107029  0.038130  0.009395  ...   \n\n        Land_cover_Littoral rock  Land_cover_Littoral sediment  \\\n0                              0                             0   \n1                              0                             0   \n2                              0                             0   \n3                              0                             0   \n4                              0                             0   \n...                          ...                           ...   \n243512                         0                             0   \n243513                         0                             0   \n243514                         0                             0   \n243515                         0                             0   \n243516                         0                             0   \n\n        Land_cover_Neutral grassland  Land_cover_Saltmarsh  \\\n0                                  0                     0   \n1                                  0                     0   \n2                                  0                     0   \n3                                  0                     0   \n4                                  0                     0   \n...                              ...                   ...   \n243512                             0                     0   \n243513                             0                     0   \n243514                             0                     0   \n243515                             0                     0   \n243516                             0                     0   \n\n        Land_cover_Saltwater  Land_cover_Suburban  \\\n0                          0                    1   \n1                          0                    0   \n2                          0                    1   \n3                          0                    0   \n4                          0                    0   \n...                      ...                  ...   \n243512                     0                    0   \n243513                     0                    0   \n243514                     0                    0   \n243515                     0                    0   \n243516                     0                    0   \n\n        Land_cover_Supralittoral rock  Land_cover_Supralittoral sediment  \\\n0                                   0                                  0   \n1                                   0                                  0   \n2                                   0                                  0   \n3                                   0                                  0   \n4                                   0                                  0   \n...                               ...                                ...   \n243512                              0                                  0   \n243513                              0                                  0   \n243514                              0                                  0   \n243515                              0                                  0   \n243516                              0                                  0   \n\n        Land_cover_Urban  probability  \n0                      0     0.269519  \n1                      0     0.448344  \n2                      0     0.314562  \n3                      0     0.612908  \n4                      1     0.355127  \n...                  ...          ...  \n243512                 0     0.448477  \n243513                 0     0.423370  \n243514                 0     0.466217  \n243515                 0     0.373095  \n243516                 0     0.443931  \n\n[243517 rows x 40 columns]",
      "text/html": "<div>\n<style scoped>\n    .dataframe tbody tr th:only-of-type {\n        vertical-align: middle;\n    }\n\n    .dataframe tbody tr th {\n        vertical-align: top;\n    }\n\n    .dataframe thead th {\n        text-align: right;\n    }\n</style>\n<table border=\"1\" class=\"dataframe\">\n  <thead>\n    <tr style=\"text-align: right;\">\n      <th></th>\n      <th>decimalLongitude</th>\n      <th>decimalLatitude</th>\n      <th>eventDate</th>\n      <th>BSI</th>\n      <th>LST</th>\n      <th>MNDWI</th>\n      <th>NDBI</th>\n      <th>NDSI</th>\n      <th>NDVI</th>\n      <th>NDWI</th>\n      <th>...</th>\n      <th>Land_cover_Littoral rock</th>\n      <th>Land_cover_Littoral sediment</th>\n      <th>Land_cover_Neutral grassland</th>\n      <th>Land_cover_Saltmarsh</th>\n      <th>Land_cover_Saltwater</th>\n      <th>Land_cover_Suburban</th>\n      <th>Land_cover_Supralittoral rock</th>\n      <th>Land_cover_Supralittoral sediment</th>\n      <th>Land_cover_Urban</th>\n      <th>probability</th>\n    </tr>\n  </thead>\n  <tbody>\n    <tr>\n      <th>0</th>\n      <td>-6.347425</td>\n      <td>49.893656</td>\n      <td>2025-06-01</td>\n      <td>0.293274</td>\n      <td>-0.002672</td>\n      <td>0.412461</td>\n      <td>-0.007846</td>\n      <td>0.412461</td>\n      <td>-0.165498</td>\n      <td>0.304107</td>\n      <td>...</td>\n      <td>0</td>\n      <td>0</td>\n      <td>0</td>\n      <td>0</td>\n      <td>0</td>\n      <td>1</td>\n      <td>0</td>\n      <td>0</td>\n      <td>0</td>\n      <td>0.269519</td>\n    </tr>\n    <tr>\n      <th>1</th>\n      <td>-6.321265</td>\n      <td>49.912633</td>\n      <td>2025-06-01</td>\n      <td>0.463918</td>\n      <td>-1.438091</td>\n      <td>0.627304</td>\n      <td>-0.053729</td>\n      <td>0.627304</td>\n      <td>-0.336127</td>\n      <td>0.564584</td>\n      <td>...</td>\n      <td>0</td>\n      <td>0</td>\n      <td>0</td>\n      <td>0</td>\n      <td>0</td>\n      <td>0</td>\n      <td>0</td>\n      <td>0</td>\n      <td>0</td>\n      <td>0.448344</td>\n    </tr>\n    <tr>\n      <th>2</th>\n      <td>-6.307377</td>\n      <td>49.913150</td>\n      <td>2025-06-01</td>\n      <td>-0.255497</td>\n      <td>0.000182</td>\n      <td>-0.060399</td>\n      <td>-0.375857</td>\n      <td>-0.060399</td>\n      <td>0.340652</td>\n      <td>-0.252897</td>\n      <td>...</td>\n      <td>0</td>\n      <td>0</td>\n      <td>0</td>\n      <td>0</td>\n      <td>0</td>\n      <td>1</td>\n      <td>0</td>\n      <td>0</td>\n      <td>0</td>\n      <td>0.314562</td>\n    </tr>\n    <tr>\n      <th>3</th>\n      <td>-6.293488</td>\n      <td>49.913666</td>\n      <td>2025-06-01</td>\n      <td>-0.653921</td>\n      <td>0.105083</td>\n      <td>-0.376596</td>\n      <td>-0.728743</td>\n      <td>-0.376596</td>\n      <td>0.771306</td>\n      <td>-0.703132</td>\n      <td>...</td>\n      <td>0</td>\n      <td>0</td>\n      <td>0</td>\n      <td>0</td>\n      <td>0</td>\n      <td>0</td>\n      <td>0</td>\n      <td>0</td>\n      <td>0</td>\n      <td>0.612908</td>\n    </tr>\n    <tr>\n      <th>4</th>\n      <td>-6.308177</td>\n      <td>49.922119</td>\n      <td>2025-06-01</td>\n      <td>-0.258903</td>\n      <td>-0.011762</td>\n      <td>0.201248</td>\n      <td>-0.992148</td>\n      <td>0.201248</td>\n      <td>0.446479</td>\n      <td>-0.159607</td>\n      <td>...</td>\n      <td>0</td>\n      <td>0</td>\n      <td>0</td>\n      <td>0</td>\n      <td>0</td>\n      <td>0</td>\n      <td>0</td>\n      <td>0</td>\n      <td>1</td>\n      <td>0.355127</td>\n    </tr>\n    <tr>\n      <th>...</th>\n      <td>...</td>\n      <td>...</td>\n      <td>...</td>\n      <td>...</td>\n      <td>...</td>\n      <td>...</td>\n      <td>...</td>\n      <td>...</td>\n      <td>...</td>\n      <td>...</td>\n      <td>...</td>\n      <td>...</td>\n      <td>...</td>\n      <td>...</td>\n      <td>...</td>\n      <td>...</td>\n      <td>...</td>\n      <td>...</td>\n      <td>...</td>\n      <td>...</td>\n      <td>...</td>\n    </tr>\n    <tr>\n      <th>243512</th>\n      <td>-0.808766</td>\n      <td>60.824609</td>\n      <td>2025-06-01</td>\n      <td>-0.578236</td>\n      <td>-0.911807</td>\n      <td>-0.920890</td>\n      <td>0.676035</td>\n      <td>-0.920890</td>\n      <td>0.389105</td>\n      <td>-0.687037</td>\n      <td>...</td>\n      <td>0</td>\n      <td>0</td>\n      <td>0</td>\n      <td>0</td>\n      <td>0</td>\n      <td>0</td>\n      <td>0</td>\n      <td>0</td>\n      <td>0</td>\n      <td>0.448477</td>\n    </tr>\n    <tr>\n      <th>243513</th>\n      <td>-0.790383</td>\n      <td>60.824445</td>\n      <td>2025-06-01</td>\n      <td>1.006828</td>\n      <td>-0.634710</td>\n      <td>0.967822</td>\n      <td>1.152616</td>\n      <td>0.967822</td>\n      <td>-0.813325</td>\n      <td>1.554708</td>\n      <td>...</td>\n      <td>0</td>\n      <td>0</td>\n      <td>0</td>\n      <td>0</td>\n      <td>0</td>\n      <td>0</td>\n      <td>0</td>\n      <td>0</td>\n      <td>0</td>\n      <td>0.423370</td>\n    </tr>\n    <tr>\n      <th>243514</th>\n      <td>-0.881988</td>\n      <td>60.834217</td>\n      <td>2025-06-01</td>\n      <td>-0.437808</td>\n      <td>-0.809255</td>\n      <td>-0.662704</td>\n      <td>0.449416</td>\n      <td>-0.662704</td>\n      <td>0.327916</td>\n      <td>-0.525695</td>\n      <td>...</td>\n      <td>0</td>\n      <td>0</td>\n      <td>0</td>\n      <td>0</td>\n      <td>0</td>\n      <td>0</td>\n      <td>0</td>\n      <td>0</td>\n      <td>0</td>\n      <td>0.466217</td>\n    </tr>\n    <tr>\n      <th>243515</th>\n      <td>-0.845210</td>\n      <td>60.833906</td>\n      <td>2025-06-01</td>\n      <td>0.570275</td>\n      <td>-0.952518</td>\n      <td>0.196350</td>\n      <td>1.553755</td>\n      <td>0.196350</td>\n      <td>-0.792752</td>\n      <td>0.936717</td>\n      <td>...</td>\n      <td>0</td>\n      <td>0</td>\n      <td>0</td>\n      <td>0</td>\n      <td>0</td>\n      <td>0</td>\n      <td>0</td>\n      <td>0</td>\n      <td>0</td>\n      <td>0.373095</td>\n    </tr>\n    <tr>\n      <th>243516</th>\n      <td>-0.881674</td>\n      <td>60.843193</td>\n      <td>2025-06-01</td>\n      <td>-0.007589</td>\n      <td>-0.818548</td>\n      <td>-0.107029</td>\n      <td>0.457412</td>\n      <td>-0.107029</td>\n      <td>0.038130</td>\n      <td>0.009395</td>\n      <td>...</td>\n      <td>0</td>\n      <td>0</td>\n      <td>0</td>\n      <td>0</td>\n      <td>0</td>\n      <td>0</td>\n      <td>0</td>\n      <td>0</td>\n      <td>0</td>\n      <td>0.443931</td>\n    </tr>\n  </tbody>\n</table>\n<p>243517 rows × 40 columns</p>\n</div>"
     },
     "execution_count": 11,
     "metadata": {},
     "output_type": "execute_result"
    }
   ],
   "source": [
    "df = pd.read_csv(\"dormice_inference_data_preprocessed_final.csv\")\n",
    "#read model from brown_hare_model.pkl\n",
    "import joblib\n",
    "model = joblib.load(\"dormice_model.pkl\")\n",
    "# predict_proba\n",
    "probabilities = model.predict_proba(df.drop(columns=['decimalLatitude', 'decimalLongitude', 'eventDate']))\n",
    "# add probabilities to df\n",
    "df['probability'] = probabilities[:, 1]  # Assuming the second column is the positive class\n",
    "df.to_csv(\"dormice_results.csv\", index=False)\n",
    "df"
   ],
   "metadata": {
    "collapsed": false,
    "ExecuteTime": {
     "end_time": "2025-08-05T22:46:15.690271Z",
     "start_time": "2025-08-05T22:46:12.574816Z"
    }
   },
   "id": "52a72fa94ab225c4"
  },
  {
   "cell_type": "code",
   "execution_count": null,
   "outputs": [],
   "source": [],
   "metadata": {
    "collapsed": false
   },
   "id": "77db5dcbe128e45c"
  }
 ],
 "metadata": {
  "kernelspec": {
   "display_name": "Python 3",
   "language": "python",
   "name": "python3"
  },
  "language_info": {
   "codemirror_mode": {
    "name": "ipython",
    "version": 2
   },
   "file_extension": ".py",
   "mimetype": "text/x-python",
   "name": "python",
   "nbconvert_exporter": "python",
   "pygments_lexer": "ipython2",
   "version": "2.7.6"
  }
 },
 "nbformat": 4,
 "nbformat_minor": 5
}
