{
 "cells": [
  {
   "cell_type": "code",
   "execution_count": 25,
   "outputs": [],
   "source": [
    "import ee\n",
    "import numpy as np\n",
    "\n",
    "# Trigger the authentication flow.\n",
    "# ee.Authenticate()\n",
    "\n",
    "ee.Initialize(project='ee-arzaaan789')\n",
    "\n"
   ],
   "metadata": {
    "collapsed": false,
    "ExecuteTime": {
     "end_time": "2025-05-24T19:31:31.702171Z",
     "start_time": "2025-05-24T19:31:29.642152Z"
    }
   },
   "id": "8ff848261dd24c01"
  },
  {
   "cell_type": "code",
   "execution_count": 40,
   "outputs": [
    {
     "name": "stderr",
     "output_type": "stream",
     "text": [
      "/var/folders/0n/sggn66691kd6g5mtyzpq2hv80000gn/T/ipykernel_18706/924961457.py:5: DtypeWarning: Columns (10,16,37,38,39,40,41,46,48) have mixed types. Specify dtype option on import or set low_memory=False.\n",
      "  df = pd.read_csv(filepath, delimiter='\\t')\n"
     ]
    },
    {
     "data": {
      "text/plain": "2037"
     },
     "execution_count": 40,
     "metadata": {},
     "output_type": "execute_result"
    }
   ],
   "source": [
    "import pandas as pd\n",
    "from tqdm import tqdm\n",
    "# Load and filter data\n",
    "def load_filter_data(filepath):\n",
    "    df = pd.read_csv(filepath, delimiter='\\t')\n",
    "    df = df[df[\"occurrenceStatus\"] == \"PRESENT\"]\n",
    "    return df\n",
    "\n",
    "\n",
    "# Load all data at once\n",
    "files = ['Muscardinus avellanarius.csv']\n",
    "dfs = [load_filter_data(f) for f in files]\n",
    "df = pd.concat(dfs, ignore_index=True)\n",
    "len(df[df['year']>=2024])"
   ],
   "metadata": {
    "collapsed": false,
    "ExecuteTime": {
     "end_time": "2025-05-24T21:28:49.850508Z",
     "start_time": "2025-05-24T21:28:49.510263Z"
    }
   },
   "id": "a30165e001907f6f"
  },
  {
   "cell_type": "code",
   "execution_count": 3,
   "outputs": [
    {
     "name": "stdout",
     "output_type": "stream",
     "text": [
      "Error processing row: index 0 is out of bounds for axis 0 with size 0\n",
      "Error processing row: index 0 is out of bounds for axis 0 with size 0\n"
     ]
    },
    {
     "data": {
      "text/plain": "                species  decimalLatitude  decimalLongitude     easting_ni  \\\n0   Erinaceus europaeus        51.404820         -3.530218  511021.330416   \n1   Erinaceus europaeus        52.170547          1.340593  838414.648219   \n2   Erinaceus europaeus        50.851716         -0.908066  699230.107370   \n3   Erinaceus europaeus        52.326169          1.389178  839471.124825   \n4   Erinaceus europaeus        53.428633         -2.267750  580902.881872   \n5      Sciurus vulgaris        54.536084         -2.957853  526302.070431   \n6      Sciurus vulgaris        50.744077         -1.405282  665337.134331   \n7      Sciurus vulgaris        56.174384         -3.956572  451120.531054   \n8      Sciurus vulgaris        57.338583         -3.751360  455807.552167   \n9      Sciurus vulgaris        50.610281         -1.496538  660215.254772   \n10        Vulpes vulpes        52.055965         -0.898308  686882.724150   \n11        Vulpes vulpes        52.407594         -1.533890  639860.405158   \n12        Vulpes vulpes        52.056021         -0.897042  686968.789151   \n13        Vulpes vulpes        52.579096          1.207772  823539.680180   \n14        Vulpes vulpes        51.897335         -2.036351  610394.970921   \n\n      northing_ni     easting_gb    northing_gb           Land_cover  \n0    26315.705291  293658.538615  168421.657658             Suburban  \n1   143288.339264  628532.635367  257737.644843   Improved grassland  \n2   -20693.893184  476962.212740  106367.644364             Suburban  \n3   160977.261328  631043.898189  275194.263768             Suburban  \n4   257357.931662  382306.562378  392460.548262             Suburban  \n5   377008.907159  338119.601033  516068.110970   Deciduous woodland  \n6   -35906.763266  442057.675930   93998.553064              Unknown  \n7   555066.667426  278626.822958  699694.080280   Improved grassland  \n8   685335.599910  294679.427270  828919.298024              Heather  \n9   -51343.822626  435720.070829   79072.680100              Unknown  \n10  113125.077669  475635.351197  240303.741644               Arable  \n11  148106.801341  431805.114759  278945.231688             Suburban  \n12  113139.814407  475722.058478  240311.286904               Arable  \n13  187429.853400  617436.269911  302753.505312  Coniferous woodland  \n14   88458.410412  397595.493611  222088.177793   Improved grassland  ",
      "text/html": "<div>\n<style scoped>\n    .dataframe tbody tr th:only-of-type {\n        vertical-align: middle;\n    }\n\n    .dataframe tbody tr th {\n        vertical-align: top;\n    }\n\n    .dataframe thead th {\n        text-align: right;\n    }\n</style>\n<table border=\"1\" class=\"dataframe\">\n  <thead>\n    <tr style=\"text-align: right;\">\n      <th></th>\n      <th>species</th>\n      <th>decimalLatitude</th>\n      <th>decimalLongitude</th>\n      <th>easting_ni</th>\n      <th>northing_ni</th>\n      <th>easting_gb</th>\n      <th>northing_gb</th>\n      <th>Land_cover</th>\n    </tr>\n  </thead>\n  <tbody>\n    <tr>\n      <th>0</th>\n      <td>Erinaceus europaeus</td>\n      <td>51.404820</td>\n      <td>-3.530218</td>\n      <td>511021.330416</td>\n      <td>26315.705291</td>\n      <td>293658.538615</td>\n      <td>168421.657658</td>\n      <td>Suburban</td>\n    </tr>\n    <tr>\n      <th>1</th>\n      <td>Erinaceus europaeus</td>\n      <td>52.170547</td>\n      <td>1.340593</td>\n      <td>838414.648219</td>\n      <td>143288.339264</td>\n      <td>628532.635367</td>\n      <td>257737.644843</td>\n      <td>Improved grassland</td>\n    </tr>\n    <tr>\n      <th>2</th>\n      <td>Erinaceus europaeus</td>\n      <td>50.851716</td>\n      <td>-0.908066</td>\n      <td>699230.107370</td>\n      <td>-20693.893184</td>\n      <td>476962.212740</td>\n      <td>106367.644364</td>\n      <td>Suburban</td>\n    </tr>\n    <tr>\n      <th>3</th>\n      <td>Erinaceus europaeus</td>\n      <td>52.326169</td>\n      <td>1.389178</td>\n      <td>839471.124825</td>\n      <td>160977.261328</td>\n      <td>631043.898189</td>\n      <td>275194.263768</td>\n      <td>Suburban</td>\n    </tr>\n    <tr>\n      <th>4</th>\n      <td>Erinaceus europaeus</td>\n      <td>53.428633</td>\n      <td>-2.267750</td>\n      <td>580902.881872</td>\n      <td>257357.931662</td>\n      <td>382306.562378</td>\n      <td>392460.548262</td>\n      <td>Suburban</td>\n    </tr>\n    <tr>\n      <th>5</th>\n      <td>Sciurus vulgaris</td>\n      <td>54.536084</td>\n      <td>-2.957853</td>\n      <td>526302.070431</td>\n      <td>377008.907159</td>\n      <td>338119.601033</td>\n      <td>516068.110970</td>\n      <td>Deciduous woodland</td>\n    </tr>\n    <tr>\n      <th>6</th>\n      <td>Sciurus vulgaris</td>\n      <td>50.744077</td>\n      <td>-1.405282</td>\n      <td>665337.134331</td>\n      <td>-35906.763266</td>\n      <td>442057.675930</td>\n      <td>93998.553064</td>\n      <td>Unknown</td>\n    </tr>\n    <tr>\n      <th>7</th>\n      <td>Sciurus vulgaris</td>\n      <td>56.174384</td>\n      <td>-3.956572</td>\n      <td>451120.531054</td>\n      <td>555066.667426</td>\n      <td>278626.822958</td>\n      <td>699694.080280</td>\n      <td>Improved grassland</td>\n    </tr>\n    <tr>\n      <th>8</th>\n      <td>Sciurus vulgaris</td>\n      <td>57.338583</td>\n      <td>-3.751360</td>\n      <td>455807.552167</td>\n      <td>685335.599910</td>\n      <td>294679.427270</td>\n      <td>828919.298024</td>\n      <td>Heather</td>\n    </tr>\n    <tr>\n      <th>9</th>\n      <td>Sciurus vulgaris</td>\n      <td>50.610281</td>\n      <td>-1.496538</td>\n      <td>660215.254772</td>\n      <td>-51343.822626</td>\n      <td>435720.070829</td>\n      <td>79072.680100</td>\n      <td>Unknown</td>\n    </tr>\n    <tr>\n      <th>10</th>\n      <td>Vulpes vulpes</td>\n      <td>52.055965</td>\n      <td>-0.898308</td>\n      <td>686882.724150</td>\n      <td>113125.077669</td>\n      <td>475635.351197</td>\n      <td>240303.741644</td>\n      <td>Arable</td>\n    </tr>\n    <tr>\n      <th>11</th>\n      <td>Vulpes vulpes</td>\n      <td>52.407594</td>\n      <td>-1.533890</td>\n      <td>639860.405158</td>\n      <td>148106.801341</td>\n      <td>431805.114759</td>\n      <td>278945.231688</td>\n      <td>Suburban</td>\n    </tr>\n    <tr>\n      <th>12</th>\n      <td>Vulpes vulpes</td>\n      <td>52.056021</td>\n      <td>-0.897042</td>\n      <td>686968.789151</td>\n      <td>113139.814407</td>\n      <td>475722.058478</td>\n      <td>240311.286904</td>\n      <td>Arable</td>\n    </tr>\n    <tr>\n      <th>13</th>\n      <td>Vulpes vulpes</td>\n      <td>52.579096</td>\n      <td>1.207772</td>\n      <td>823539.680180</td>\n      <td>187429.853400</td>\n      <td>617436.269911</td>\n      <td>302753.505312</td>\n      <td>Coniferous woodland</td>\n    </tr>\n    <tr>\n      <th>14</th>\n      <td>Vulpes vulpes</td>\n      <td>51.897335</td>\n      <td>-2.036351</td>\n      <td>610394.970921</td>\n      <td>88458.410412</td>\n      <td>397595.493611</td>\n      <td>222088.177793</td>\n      <td>Improved grassland</td>\n    </tr>\n  </tbody>\n</table>\n</div>"
     },
     "execution_count": 3,
     "metadata": {},
     "output_type": "execute_result"
    }
   ],
   "source": [
    "from pyproj import Transformer\n",
    "from rasterio.windows import Window\n",
    "\n",
    "land_cover_map = {\n",
    "    1: \"Deciduous woodland\",\n",
    "    2: \"Coniferous woodland\",\n",
    "    3: \"Arable\",\n",
    "    4: \"Improved grassland\",\n",
    "    5: \"Neutral grassland\",\n",
    "    6: \"Calcareous grassland\",\n",
    "    7: \"Acid grassland\",\n",
    "    8: \"Fen\",\n",
    "    9: \"Heather\",\n",
    "    10: \"Heather grassland\",\n",
    "    11: \"Bog\",\n",
    "    12: \"Inland rock\",\n",
    "    13: \"Saltwater\",\n",
    "    14: \"Freshwater\",\n",
    "    15: \"Supralittoral rock\",\n",
    "    16: \"Supralittoral sediment\",\n",
    "    17: \"Littoral rock\",\n",
    "    18: \"Littoral sediment\",\n",
    "    19: \"Saltmarsh\",\n",
    "    20: \"Urban\",\n",
    "    21: \"Suburban\"\n",
    "}\n",
    "\n",
    "# Batch coordinate transformation\n",
    "transformer_ni = Transformer.from_crs(\"EPSG:4326\", \"EPSG:29903\", always_xy=True)\n",
    "transformer_gb = Transformer.from_crs(\"EPSG:4326\", \"EPSG:27700\", always_xy=True)\n",
    "\n",
    "coords = list(zip(df['decimalLongitude'], df['decimalLatitude']))\n",
    "df['easting_ni'], df['northing_ni'] = zip(*transformer_ni.itransform(coords))\n",
    "df['easting_gb'], df['northing_gb'] = zip(*transformer_gb.itransform(coords))\n",
    "\n",
    "# Raster processing optimization\n",
    "gb_raster = 'gblcm2023_10m.tif'\n",
    "n_ireland_raster = 'nilcm2023_10m.tif'\n",
    "\n",
    "\n",
    "def get_land_cover_class(row):\n",
    "    try:\n",
    "        # Try GB raster first\n",
    "        with rasterio.open(gb_raster) as src:\n",
    "            row_idx, col_idx = src.index(row['easting_gb'], row['northing_gb'])\n",
    "            # Read a small window around the point for better performance\n",
    "            window = Window(col_idx, row_idx, 1, 1)\n",
    "            land_cover_class = src.read(1, window=window)[0, 0]\n",
    "\n",
    "            if land_cover_class == 0:  # Check NI raster if GB is 0\n",
    "                with rasterio.open(n_ireland_raster) as src_ni:\n",
    "                    row_idx, col_idx = src_ni.index(row['easting_ni'], row['northing_ni'])\n",
    "                    window = Window(col_idx, row_idx, 1, 1)\n",
    "                    land_cover_class = src_ni.read(1, window=window)[0, 0]\n",
    "\n",
    "        return land_cover_map.get(land_cover_class, \"Unknown\")\n",
    "    except Exception as e:\n",
    "        print(f\"Error processing row: {e}\")\n",
    "        return \"Unknown\"\n",
    "\n",
    "\n",
    "df['Land_cover'] = df.apply(get_land_cover_class, axis=1)\n"
   ],
   "metadata": {
    "collapsed": false,
    "ExecuteTime": {
     "end_time": "2025-05-24T10:26:55.334064Z",
     "start_time": "2025-05-24T10:26:54.936113Z"
    }
   },
   "id": "13faab24ea585215"
  },
  {
   "cell_type": "code",
   "execution_count": 31,
   "outputs": [],
   "source": [
    "from geopy.distance import geodesic\n",
    "\n",
    "def get_aoi(center_coords, box_size_km):\n",
    "    \"\"\"\n",
    "    Create a 1km x 1km bounding box centered around a given point using geodesic distances.\n",
    "\n",
    "    Args:\n",
    "        center_coords (list): A list containing the center point coordinates [lon, lat].\n",
    "        box_size_km (float): Size of the bounding box in kilometers (default is 1km).\n",
    "\n",
    "    Returns:\n",
    "        list: A list of coordinates representing the bounding box polygon.\n",
    "              Format: [[lon1, lat1], [lon2, lat2], [lon3, lat3], [lon4, lat4], [lon1, lat1]]\n",
    "    \"\"\"\n",
    "    # Extract longitude and latitude from the center coordinates\n",
    "    lon, lat = center_coords\n",
    "\n",
    "    # Calculate the distance in kilometers for half the box size\n",
    "    half_size_km = box_size_km / 2\n",
    "\n",
    "    # Calculate the four corners of the bounding box using geodesic distances\n",
    "    north = geodesic(kilometers=half_size_km).destination((lat, lon), bearing=0)  # North\n",
    "    south = geodesic(kilometers=half_size_km).destination((lat, lon), bearing=180)  # South\n",
    "    east = geodesic(kilometers=half_size_km).destination((lat, lon), bearing=90)  # East\n",
    "    west = geodesic(kilometers=half_size_km).destination((lat, lon), bearing=270)  # West\n",
    "\n",
    "    # Extract coordinates of the corners\n",
    "    top_left = [west.longitude, north.latitude]\n",
    "    top_right = [east.longitude, north.latitude]\n",
    "    bottom_right = [east.longitude, south.latitude]\n",
    "    bottom_left = [west.longitude, south.latitude]\n",
    "\n",
    "    # Define the bounding box polygon (clockwise or counter-clockwise)\n",
    "    bounding_box = [\n",
    "        bottom_left,  # Bottom-left corner\n",
    "        bottom_right,  # Bottom-right corner\n",
    "        top_right,  # Top-right corner\n",
    "        top_left,  # Top-left corner\n",
    "        bottom_left  # Close the polygon\n",
    "    ]\n",
    "\n",
    "    aoi = ee.Geometry.Polygon(bounding_box)\n",
    "\n",
    "    return aoi\n",
    "\n",
    "def get_indices(aoi, start_date, end_date):\n",
    "  dataset = ee.ImageCollection(\"COPERNICUS/S2_SR_HARMONIZED\")  # Sentinel-2 Surface Reflectance\n",
    "  filtered = dataset.filterBounds(aoi).filterDate(start_date, end_date).sort('CLOUDY_PIXEL_PERCENTAGE').first()\n",
    "\n",
    "  # Clip the image to the AOI\n",
    "  clipped_image = filtered.clip(aoi)\n",
    "\n",
    "  # Extract bands (e.g., B2, B3, B4, B8 for Sentinel-2)\n",
    "  blue_band = clipped_image.select('B2')  # Blue band\n",
    "  green_band = clipped_image.select('B3')  # Green band\n",
    "  red_band = clipped_image.select('B4')   # Red band\n",
    "  nir_band = clipped_image.select('B8')   # Near-Infrared band\n",
    "  swir_band = clipped_image.select('B11') # Short-Wave Infrared band\n",
    "\n",
    "  # Constants for SAVI and EVI\n",
    "  # Constants for SAVI and EVI\n",
    "  L = ee.Number(0.5)  # Constant for SAVI\n",
    "\n",
    "  # Compute NDVI\n",
    "  ndvi = nir_band.subtract(red_band).divide(nir_band.add(red_band)).rename('NDVI')\n",
    "\n",
    "  # Compute NDWI\n",
    "  ndwi = green_band.subtract(nir_band).divide(green_band.add(nir_band)).rename('NDWI')\n",
    "\n",
    "  # Compute NDBI\n",
    "  ndbi = swir_band.subtract(nir_band).divide(swir_band.add(nir_band)).rename('NDBI')\n",
    "\n",
    "  # Compute SAVI\n",
    "  savi = nir_band.subtract(red_band).divide(nir_band.add(red_band).add(L)).multiply(ee.Number(1).add(L)).rename('SAVI')\n",
    "\n",
    "  # Compute MNDWI\n",
    "  mndwi = green_band.subtract(swir_band).divide(green_band.add(swir_band)).rename('MNDWI')\n",
    "\n",
    "  ndsi = green_band.subtract(swir_band).divide(green_band.add(swir_band)).rename('NDSI')\n",
    "\n",
    "  bsi = (red_band.add(blue_band).subtract(nir_band.add(swir_band))).divide(red_band.add(blue_band).add(nir_band.add(swir_band))).rename('BSI')\n",
    "\n",
    "  # Compute NDBI (Already included in previous code)\n",
    "  ndbi = swir_band.subtract(nir_band).divide(swir_band.add(nir_band)).rename('NDBI')\n",
    "\n",
    "  # Compute UI (Urban Index)\n",
    "  ui = nir_band.subtract(swir_band).divide(nir_band.add(swir_band)).rename('UI')\n",
    "\n",
    "  # Compute mean value for each index over the polygon\n",
    "  ndvi_mean = ndvi.reduceRegion(\n",
    "      reducer=ee.Reducer.mean(),\n",
    "      geometry=aoi,\n",
    "      scale=10\n",
    "  ).get('NDVI').getInfo()\n",
    "\n",
    "  ndwi_mean = ndwi.reduceRegion(\n",
    "      reducer=ee.Reducer.mean(),\n",
    "      geometry=aoi,\n",
    "      scale=10\n",
    "  ).get('NDWI').getInfo()\n",
    "\n",
    "  ndbi_mean = ndbi.reduceRegion(\n",
    "      reducer=ee.Reducer.mean(),\n",
    "      geometry=aoi,\n",
    "      scale=10\n",
    "  ).get('NDBI').getInfo()\n",
    "\n",
    "  savi_mean = savi.reduceRegion(\n",
    "      reducer=ee.Reducer.mean(),\n",
    "      geometry=aoi,\n",
    "      scale=10\n",
    "  ).get('SAVI').getInfo()\n",
    "\n",
    "  mndwi_mean = mndwi.reduceRegion(\n",
    "      reducer=ee.Reducer.mean(),\n",
    "      geometry=aoi,\n",
    "      scale=10\n",
    "  ).get('MNDWI').getInfo()\n",
    "\n",
    "  ndsi_mean = ndsi.reduceRegion(\n",
    "      reducer=ee.Reducer.mean(),\n",
    "      geometry=aoi,\n",
    "      scale=10\n",
    "  ).get('NDSI').getInfo()\n",
    "\n",
    "  bsi_mean = bsi.reduceRegion(\n",
    "      reducer=ee.Reducer.mean(),\n",
    "      geometry=aoi,\n",
    "      scale=10\n",
    "  ).get('BSI').getInfo()\n",
    "\n",
    "  ndbi_mean = ndbi.reduceRegion(\n",
    "      reducer=ee.Reducer.mean(),\n",
    "      geometry=aoi,\n",
    "      scale=10\n",
    "  ).get('NDBI').getInfo()\n",
    "\n",
    "  ui_mean = ui.reduceRegion(\n",
    "      reducer=ee.Reducer.mean(),\n",
    "      geometry=aoi,\n",
    "      scale=10\n",
    "  ).get('UI').getInfo()\n",
    "\n",
    "  return round(ndvi_mean,2), round(ndwi_mean,2), round(ndbi_mean,2), round(savi_mean,2), round(mndwi_mean,2), round(ndsi_mean,2), round(bsi_mean,2), round(ndbi_mean,2), round(ui_mean,2)\n",
    "\n",
    "def get_LST(aoi, start_date, end_date):\n",
    "\n",
    "  # Import the MODIS LST dataset\n",
    "  dataset = ee.ImageCollection(\"MODIS/061/MOD11A1\")\n",
    "\n",
    "  # Filter the dataset by date and AOI, then select the first image\n",
    "  filtered = dataset.filterBounds(aoi).filterDate(start_date, end_date)\n",
    "  # Calculate mean LST over the entire image collection\n",
    "  lst_collection = filtered.select('LST_Day_1km').map(lambda image: image.multiply(0.02))\n",
    "\n",
    "  # Reduce the collection by calculating the mean\n",
    "  mean_lst_over_time = lst_collection.mean()\n",
    "\n",
    "  # Clip and calculate mean LST over the AOI\n",
    "  mean_lst = mean_lst_over_time.reduceRegion(\n",
    "      reducer=ee.Reducer.mean(),\n",
    "      geometry=aoi,\n",
    "      scale=1000  # 1 km resolution\n",
    "  )\n",
    "\n",
    "  # Print the mean LST value\n",
    "  mean_lst_value = mean_lst.getInfo()[\"LST_Day_1km\"]\n",
    "  return round(mean_lst_value,2)"
   ],
   "metadata": {
    "collapsed": false,
    "ExecuteTime": {
     "end_time": "2025-05-24T19:33:52.830841Z",
     "start_time": "2025-05-24T19:33:52.826670Z"
    }
   },
   "id": "cc85a1519420b618"
  },
  {
   "cell_type": "code",
   "execution_count": 32,
   "outputs": [
    {
     "name": "stderr",
     "output_type": "stream",
     "text": [
      "5it [00:32,  6.45s/it]\n"
     ]
    }
   ],
   "source": [
    "from datetime import datetime\n",
    "from datetime import timedelta\n",
    "today = datetime.today().strftime('%Y-%m-%d')\n",
    "start_date = (datetime.today() - timedelta(days=15)).strftime('%Y-%m-%d')\n",
    "\n",
    "df[\"NDVI\"] = 0.0\n",
    "df[\"NDWI\"] = 0.0\n",
    "df[\"NDBI\"] = 0.0\n",
    "df[\"SAVI\"] = 0.0\n",
    "df[\"MNDWI\"] = 0.0\n",
    "df[\"NDSI\"] = 0.0\n",
    "df[\"BSI\"] = 0.0\n",
    "df[\"NDBI\"] = 0.0\n",
    "df[\"UI\"] = 0.0\n",
    "df[\"LST\"] = 0.0\n",
    "\n",
    "for index, row in tqdm(df.iterrows()):\n",
    "  try:\n",
    "    coords = [row['decimalLongitude'], row['decimalLatitude']]\n",
    "    aoi = get_aoi(center_coords = coords, box_size_km=1)\n",
    "    indices = get_indices(aoi, start_date, today)\n",
    "    lst = get_LST(aoi, start_date, today)\n",
    "    df.at[index, 'NDVI'] = indices[0]\n",
    "    df.at[index, 'NDWI'] = indices[1]\n",
    "    df.at[index, 'NDBI'] = indices[2]\n",
    "    df.at[index, 'SAVI'] = indices[3]\n",
    "    df.at[index, 'MNDWI'] = indices[4]\n",
    "    df.at[index, 'NDSI'] = indices[5]\n",
    "    df.at[index, 'BSI'] = indices[6]\n",
    "    df.at[index, 'NDBI'] = indices[7]\n",
    "    df.at[index, 'UI'] = indices[8]\n",
    "    df.at[index, 'LST'] = lst\n",
    "  except Exception as e:\n",
    "    print(e)\n",
    "    pass"
   ],
   "metadata": {
    "collapsed": false,
    "ExecuteTime": {
     "end_time": "2025-05-24T19:34:25.554829Z",
     "start_time": "2025-05-24T19:33:53.303265Z"
    }
   },
   "id": "f7a08ff045d6ec1d"
  },
  {
   "cell_type": "code",
   "execution_count": 33,
   "outputs": [
    {
     "data": {
      "text/plain": "                    species  decimalLatitude  decimalLongitude  NDVI  NDWI  \\\n0  Muscardinus avellanarius        52.517983          0.872556  0.56 -0.58   \n1  Muscardinus avellanarius        52.685929          1.327543  0.48 -0.50   \n2  Muscardinus avellanarius        52.587545          1.615422  0.75 -0.68   \n3  Muscardinus avellanarius        52.607768          0.878431  0.73 -0.68   \n4  Muscardinus avellanarius        52.591956          1.468096  0.76 -0.67   \n\n   NDBI  SAVI  MNDWI  NDSI   BSI    UI     LST  \n0 -0.14  0.84  -0.50 -0.50 -0.61  0.14  296.83  \n1 -0.08  0.72  -0.45 -0.45 -0.54  0.08  297.17  \n2 -0.27  1.13  -0.50 -0.50 -0.72  0.27  295.60  \n3 -0.31  1.09  -0.47 -0.47 -0.70  0.31  295.65  \n4 -0.34  1.14  -0.45 -0.45 -0.72  0.34  294.24  ",
      "text/html": "<div>\n<style scoped>\n    .dataframe tbody tr th:only-of-type {\n        vertical-align: middle;\n    }\n\n    .dataframe tbody tr th {\n        vertical-align: top;\n    }\n\n    .dataframe thead th {\n        text-align: right;\n    }\n</style>\n<table border=\"1\" class=\"dataframe\">\n  <thead>\n    <tr style=\"text-align: right;\">\n      <th></th>\n      <th>species</th>\n      <th>decimalLatitude</th>\n      <th>decimalLongitude</th>\n      <th>NDVI</th>\n      <th>NDWI</th>\n      <th>NDBI</th>\n      <th>SAVI</th>\n      <th>MNDWI</th>\n      <th>NDSI</th>\n      <th>BSI</th>\n      <th>UI</th>\n      <th>LST</th>\n    </tr>\n  </thead>\n  <tbody>\n    <tr>\n      <th>0</th>\n      <td>Muscardinus avellanarius</td>\n      <td>52.517983</td>\n      <td>0.872556</td>\n      <td>0.56</td>\n      <td>-0.58</td>\n      <td>-0.14</td>\n      <td>0.84</td>\n      <td>-0.50</td>\n      <td>-0.50</td>\n      <td>-0.61</td>\n      <td>0.14</td>\n      <td>296.83</td>\n    </tr>\n    <tr>\n      <th>1</th>\n      <td>Muscardinus avellanarius</td>\n      <td>52.685929</td>\n      <td>1.327543</td>\n      <td>0.48</td>\n      <td>-0.50</td>\n      <td>-0.08</td>\n      <td>0.72</td>\n      <td>-0.45</td>\n      <td>-0.45</td>\n      <td>-0.54</td>\n      <td>0.08</td>\n      <td>297.17</td>\n    </tr>\n    <tr>\n      <th>2</th>\n      <td>Muscardinus avellanarius</td>\n      <td>52.587545</td>\n      <td>1.615422</td>\n      <td>0.75</td>\n      <td>-0.68</td>\n      <td>-0.27</td>\n      <td>1.13</td>\n      <td>-0.50</td>\n      <td>-0.50</td>\n      <td>-0.72</td>\n      <td>0.27</td>\n      <td>295.60</td>\n    </tr>\n    <tr>\n      <th>3</th>\n      <td>Muscardinus avellanarius</td>\n      <td>52.607768</td>\n      <td>0.878431</td>\n      <td>0.73</td>\n      <td>-0.68</td>\n      <td>-0.31</td>\n      <td>1.09</td>\n      <td>-0.47</td>\n      <td>-0.47</td>\n      <td>-0.70</td>\n      <td>0.31</td>\n      <td>295.65</td>\n    </tr>\n    <tr>\n      <th>4</th>\n      <td>Muscardinus avellanarius</td>\n      <td>52.591956</td>\n      <td>1.468096</td>\n      <td>0.76</td>\n      <td>-0.67</td>\n      <td>-0.34</td>\n      <td>1.14</td>\n      <td>-0.45</td>\n      <td>-0.45</td>\n      <td>-0.72</td>\n      <td>0.34</td>\n      <td>294.24</td>\n    </tr>\n  </tbody>\n</table>\n</div>"
     },
     "execution_count": 33,
     "metadata": {},
     "output_type": "execute_result"
    }
   ],
   "source": [
    "df.head()"
   ],
   "metadata": {
    "collapsed": false,
    "ExecuteTime": {
     "end_time": "2025-05-24T19:34:25.601321Z",
     "start_time": "2025-05-24T19:34:25.565909Z"
    }
   },
   "id": "cfc602943e53fbb3"
  },
  {
   "cell_type": "code",
   "execution_count": 29,
   "outputs": [
    {
     "data": {
      "text/plain": "                    species  decimalLatitude  decimalLongitude  NDVI  NDWI  \\\n0  Muscardinus avellanarius        52.517983          0.872556  0.56 -0.58   \n1  Muscardinus avellanarius        52.685929          1.327543  0.48 -0.50   \n2  Muscardinus avellanarius        52.587545          1.615422  0.75 -0.68   \n3  Muscardinus avellanarius        52.607768          0.878431  0.73 -0.68   \n4  Muscardinus avellanarius        52.591956          1.468096  0.76 -0.67   \n\n   NDBI  SAVI  MNDWI  NDSI   BSI    UI     LST  \n0 -0.14  0.84  -0.50 -0.50 -0.61  0.14  296.83  \n1 -0.08  0.72  -0.45 -0.45 -0.54  0.08  297.17  \n2 -0.27  1.13  -0.50 -0.50 -0.72  0.27  295.60  \n3 -0.31  1.09  -0.47 -0.47 -0.70  0.31  295.65  \n4 -0.34  1.14  -0.45 -0.45 -0.72  0.34  294.24  ",
      "text/html": "<div>\n<style scoped>\n    .dataframe tbody tr th:only-of-type {\n        vertical-align: middle;\n    }\n\n    .dataframe tbody tr th {\n        vertical-align: top;\n    }\n\n    .dataframe thead th {\n        text-align: right;\n    }\n</style>\n<table border=\"1\" class=\"dataframe\">\n  <thead>\n    <tr style=\"text-align: right;\">\n      <th></th>\n      <th>species</th>\n      <th>decimalLatitude</th>\n      <th>decimalLongitude</th>\n      <th>NDVI</th>\n      <th>NDWI</th>\n      <th>NDBI</th>\n      <th>SAVI</th>\n      <th>MNDWI</th>\n      <th>NDSI</th>\n      <th>BSI</th>\n      <th>UI</th>\n      <th>LST</th>\n    </tr>\n  </thead>\n  <tbody>\n    <tr>\n      <th>0</th>\n      <td>Muscardinus avellanarius</td>\n      <td>52.517983</td>\n      <td>0.872556</td>\n      <td>0.56</td>\n      <td>-0.58</td>\n      <td>-0.14</td>\n      <td>0.84</td>\n      <td>-0.50</td>\n      <td>-0.50</td>\n      <td>-0.61</td>\n      <td>0.14</td>\n      <td>296.83</td>\n    </tr>\n    <tr>\n      <th>1</th>\n      <td>Muscardinus avellanarius</td>\n      <td>52.685929</td>\n      <td>1.327543</td>\n      <td>0.48</td>\n      <td>-0.50</td>\n      <td>-0.08</td>\n      <td>0.72</td>\n      <td>-0.45</td>\n      <td>-0.45</td>\n      <td>-0.54</td>\n      <td>0.08</td>\n      <td>297.17</td>\n    </tr>\n    <tr>\n      <th>2</th>\n      <td>Muscardinus avellanarius</td>\n      <td>52.587545</td>\n      <td>1.615422</td>\n      <td>0.75</td>\n      <td>-0.68</td>\n      <td>-0.27</td>\n      <td>1.13</td>\n      <td>-0.50</td>\n      <td>-0.50</td>\n      <td>-0.72</td>\n      <td>0.27</td>\n      <td>295.60</td>\n    </tr>\n    <tr>\n      <th>3</th>\n      <td>Muscardinus avellanarius</td>\n      <td>52.607768</td>\n      <td>0.878431</td>\n      <td>0.73</td>\n      <td>-0.68</td>\n      <td>-0.31</td>\n      <td>1.09</td>\n      <td>-0.47</td>\n      <td>-0.47</td>\n      <td>-0.70</td>\n      <td>0.31</td>\n      <td>295.65</td>\n    </tr>\n    <tr>\n      <th>4</th>\n      <td>Muscardinus avellanarius</td>\n      <td>52.591956</td>\n      <td>1.468096</td>\n      <td>0.76</td>\n      <td>-0.67</td>\n      <td>-0.34</td>\n      <td>1.14</td>\n      <td>-0.45</td>\n      <td>-0.45</td>\n      <td>-0.72</td>\n      <td>0.34</td>\n      <td>294.24</td>\n    </tr>\n  </tbody>\n</table>\n</div>"
     },
     "execution_count": 29,
     "metadata": {},
     "output_type": "execute_result"
    }
   ],
   "source": [
    "df.head()"
   ],
   "metadata": {
    "collapsed": false,
    "ExecuteTime": {
     "end_time": "2025-05-24T19:32:07.874737Z",
     "start_time": "2025-05-24T19:32:07.839152Z"
    }
   },
   "id": "b4369bb316da1665"
  },
  {
   "cell_type": "code",
   "execution_count": 44,
   "outputs": [],
   "source": [
    "df.to_csv('data.csv', index=False)"
   ],
   "metadata": {
    "collapsed": false,
    "ExecuteTime": {
     "end_time": "2025-03-05T05:49:18.058853Z",
     "start_time": "2025-03-05T05:49:18.027266Z"
    }
   },
   "id": "2c25e3207adcc081"
  },
  {
   "cell_type": "code",
   "execution_count": 51,
   "outputs": [],
   "source": [
    "import pandas as pd\n",
    "df=pd.read_csv('data.csv')\n",
    "df=df.dropna()\n",
    "# Landcover is categorical data, so dummies\n",
    "df = pd.get_dummies(df, columns=['Land_cover'])"
   ],
   "metadata": {
    "collapsed": false,
    "ExecuteTime": {
     "end_time": "2025-03-05T12:02:50.164941Z",
     "start_time": "2025-03-05T12:02:50.128987Z"
    }
   },
   "id": "b15e7229cff3bbfa"
  },
  {
   "cell_type": "code",
   "execution_count": 52,
   "outputs": [
    {
     "name": "stdout",
     "output_type": "stream",
     "text": [
      "[[0.22210512 0.7028286  0.07506628]]\n"
     ]
    },
    {
     "name": "stderr",
     "output_type": "stream",
     "text": [
      "/Users/arzaan/PycharmProjects/ComputationalIntelligence/venv/lib/python3.12/site-packages/sklearn/neural_network/_multilayer_perceptron.py:691: ConvergenceWarning: Stochastic Optimizer: Maximum iterations (500) reached and the optimization hasn't converged yet.\n",
      "  warnings.warn(\n"
     ]
    }
   ],
   "source": [
    "# class is species\n",
    "\n",
    "#predict class using MLP\n",
    "from sklearn.calibration import CalibratedClassifierCV\n",
    "from sklearn.neural_network import MLPClassifier\n",
    "from sklearn.model_selection import train_test_split\n",
    "from sklearn.metrics import classification_report\n",
    "from sklearn.preprocessing import StandardScaler\n",
    "\n",
    "X = df.drop(columns=['species', 'decimalLatitude', 'decimalLongitude'])\n",
    "y = df['species']\n",
    "\n",
    "scaler = StandardScaler()\n",
    "X = scaler.fit_transform(X)\n",
    "\n",
    "X_train, X_test, y_train, y_test = train_test_split(X, y, test_size=0.2, random_state=42)\n",
    "\n",
    "clf = MLPClassifier(random_state=1, max_iter=500).fit(X_train, y_train)\n",
    "y_pred = clf.predict(X_test)\n",
    "\n",
    "#print prob of test[0]\n",
    "print(clf.predict_proba([X_test[0]]))"
   ],
   "metadata": {
    "collapsed": false,
    "ExecuteTime": {
     "end_time": "2025-03-05T12:02:53.218749Z",
     "start_time": "2025-03-05T12:02:52.194970Z"
    }
   },
   "id": "a8f7e080cc501e74"
  },
  {
   "cell_type": "code",
   "execution_count": 53,
   "outputs": [
    {
     "name": "stdout",
     "output_type": "stream",
     "text": [
      "                     precision    recall  f1-score   support\n",
      "\n",
      "Erinaceus europaeus       0.82      0.67      0.74        63\n",
      "   Sciurus vulgaris       0.80      0.78      0.79        65\n",
      "      Vulpes vulpes       0.66      0.83      0.74        52\n",
      "\n",
      "           accuracy                           0.76       180\n",
      "          macro avg       0.76      0.76      0.75       180\n",
      "       weighted avg       0.77      0.76      0.76       180\n"
     ]
    }
   ],
   "source": [
    "# classification report\n",
    "print(classification_report(y_test, y_pred))\n",
    "\n"
   ],
   "metadata": {
    "collapsed": false,
    "ExecuteTime": {
     "end_time": "2025-03-05T12:02:57.224451Z",
     "start_time": "2025-03-05T12:02:57.207324Z"
    }
   },
   "id": "4c033cb630ebad16"
  },
  {
   "cell_type": "code",
   "execution_count": 54,
   "outputs": [
    {
     "name": "stdout",
     "output_type": "stream",
     "text": [
      "                     precision    recall  f1-score   support\n",
      "\n",
      "Erinaceus europaeus       0.82      0.67      0.74        63\n",
      "   Sciurus vulgaris       0.80      0.78      0.79        65\n",
      "      Vulpes vulpes       0.66      0.83      0.74        52\n",
      "\n",
      "           accuracy                           0.76       180\n",
      "          macro avg       0.76      0.76      0.75       180\n",
      "       weighted avg       0.77      0.76      0.76       180\n"
     ]
    },
    {
     "name": "stderr",
     "output_type": "stream",
     "text": [
      "/Users/arzaan/PycharmProjects/ComputationalIntelligence/venv/lib/python3.12/site-packages/sklearn/neural_network/_multilayer_perceptron.py:691: ConvergenceWarning: Stochastic Optimizer: Maximum iterations (500) reached and the optimization hasn't converged yet.\n",
      "  warnings.warn(\n",
      "/Users/arzaan/PycharmProjects/ComputationalIntelligence/venv/lib/python3.12/site-packages/sklearn/calibration.py:333: UserWarning: The `cv='prefit'` option is deprecated in 1.6 and will be removed in 1.8. You can use CalibratedClassifierCV(FrozenEstimator(estimator)) instead.\n",
      "  warnings.warn(\n"
     ]
    }
   ],
   "source": [
    "# class is species\n",
    "from sklearn.calibration import CalibratedClassifierCV\n",
    "\n",
    "\n",
    "#predict class using MLP\n",
    "from sklearn.calibration import CalibratedClassifierCV\n",
    "from sklearn.neural_network import MLPClassifier\n",
    "from sklearn.model_selection import train_test_split\n",
    "from sklearn.metrics import classification_report\n",
    "from sklearn.preprocessing import StandardScaler\n",
    "\n",
    "X = df.drop(columns=['species', 'decimalLatitude', 'decimalLongitude'])\n",
    "y = df['species']\n",
    "\n",
    "scaler = StandardScaler()\n",
    "X = scaler.fit_transform(X)\n",
    "\n",
    "X_train, X_test, y_train, y_test = train_test_split(X, y, test_size=0.2, random_state=42)\n",
    "\n",
    "clf = MLPClassifier(random_state=1, max_iter=500).fit(X_train, y_train)\n",
    "\n",
    "\n",
    "# Calibrate classifier (sigmoid calibration works better for small datasets)\n",
    "calibrated_clf = CalibratedClassifierCV(clf, method='sigmoid', cv='prefit')\n",
    "calibrated_clf.fit(X_train, y_train)\n",
    "\n",
    "y_pred = calibrated_clf.predict(X_test)\n",
    "print(classification_report(y_test, y_pred))"
   ],
   "metadata": {
    "collapsed": false,
    "ExecuteTime": {
     "end_time": "2025-03-05T12:03:24.874011Z",
     "start_time": "2025-03-05T12:03:23.895634Z"
    }
   },
   "id": "1a505c672e411cbf"
  },
  {
   "cell_type": "code",
   "execution_count": 55,
   "outputs": [
    {
     "name": "stderr",
     "output_type": "stream",
     "text": [
      "/Users/arzaan/PycharmProjects/ComputationalIntelligence/venv/lib/python3.12/site-packages/sklearn/neural_network/_multilayer_perceptron.py:691: ConvergenceWarning: Stochastic Optimizer: Maximum iterations (500) reached and the optimization hasn't converged yet.\n",
      "  warnings.warn(\n",
      "/Users/arzaan/PycharmProjects/ComputationalIntelligence/venv/lib/python3.12/site-packages/sklearn/neural_network/_multilayer_perceptron.py:691: ConvergenceWarning: Stochastic Optimizer: Maximum iterations (500) reached and the optimization hasn't converged yet.\n",
      "  warnings.warn(\n"
     ]
    },
    {
     "name": "stdout",
     "output_type": "stream",
     "text": [
      "Erinaceus europaeus: 0.2525\n",
      "Sciurus vulgaris: 0.6740\n",
      "Vulpes vulpes: 0.0735\n"
     ]
    },
    {
     "name": "stderr",
     "output_type": "stream",
     "text": [
      "/Users/arzaan/PycharmProjects/ComputationalIntelligence/venv/lib/python3.12/site-packages/sklearn/neural_network/_multilayer_perceptron.py:691: ConvergenceWarning: Stochastic Optimizer: Maximum iterations (500) reached and the optimization hasn't converged yet.\n",
      "  warnings.warn(\n"
     ]
    }
   ],
   "source": [
    "from sklearn.neural_network import MLPClassifier\n",
    "from sklearn.model_selection import train_test_split\n",
    "from sklearn.preprocessing import StandardScaler\n",
    "from sklearn.multiclass import OneVsRestClassifier\n",
    "\n",
    "# Preprocessing\n",
    "X = df.drop(columns=['species', 'decimalLatitude', 'decimalLongitude'])\n",
    "y = df['species']\n",
    "\n",
    "scaler = StandardScaler()\n",
    "X = scaler.fit_transform(X)\n",
    "\n",
    "X_train, X_test, y_train, y_test = train_test_split(X, y, test_size=0.2, random_state=42)\n",
    "\n",
    "# One-vs-Rest Classifier (Independent Class Probabilities)\n",
    "clf = OneVsRestClassifier(MLPClassifier(random_state=1, max_iter=500))\n",
    "clf.fit(X_train, y_train)\n",
    "\n",
    "# Get independent probabilities for each class\n",
    "y_probs = clf.predict_proba(X_test)\n",
    "\n",
    "# Print each class probability for the first test sample\n",
    "for i, class_name in enumerate(clf.classes_):\n",
    "    print(f\"{class_name}: {y_probs[0][i]:.4f}\")\n"
   ],
   "metadata": {
    "collapsed": false,
    "ExecuteTime": {
     "end_time": "2025-03-05T12:05:39.495311Z",
     "start_time": "2025-03-05T12:05:37.373120Z"
    }
   },
   "id": "544acc12a39e6833"
  },
  {
   "cell_type": "code",
   "execution_count": 58,
   "outputs": [
    {
     "name": "stdout",
     "output_type": "stream",
     "text": [
      "Erinaceus europaeus: 0.2182\n",
      "Sciurus vulgaris: 0.0377\n",
      "Vulpes vulpes: 0.7441\n"
     ]
    }
   ],
   "source": [
    "for i, class_name in enumerate(clf.classes_):\n",
    "    print(f\"{class_name}: {y_probs[3][i]:.4f}\")"
   ],
   "metadata": {
    "collapsed": false,
    "ExecuteTime": {
     "end_time": "2025-03-05T12:06:15.528886Z",
     "start_time": "2025-03-05T12:06:15.521048Z"
    }
   },
   "id": "d2a5d3bfb0c8c1c5"
  },
  {
   "cell_type": "code",
   "execution_count": 3,
   "outputs": [
    {
     "name": "stdout",
     "output_type": "stream",
     "text": [
      "CRS: EPSG:29903\n",
      "Reprojected coordinate: 163413.22870545922 232309.61159488405\n"
     ]
    }
   ],
   "source": [
    "import rasterio\n",
    "\n",
    "# Open the land cover map\n",
    "lcm_path = \"nilcm2023_10m.tif\"\n",
    "src = rasterio.open(lcm_path)\n",
    "\n",
    "# Check CRS\n",
    "print(\"CRS:\", src.crs)\n",
    "\n",
    "from pyproj import Transformer\n",
    "\n",
    "# Example: WGS84 → Irish Grid\n",
    "transformer = Transformer.from_crs(\"EPSG:4326\", src.crs, always_xy=True)\n",
    "\n",
    "# Sample lat/lon coordinate\n",
    "lon, lat = -8.55, 53.34\n",
    "x, y = transformer.transform(lon, lat)\n",
    "print(\"Reprojected coordinate:\", x, y)\n"
   ],
   "metadata": {
    "collapsed": false,
    "ExecuteTime": {
     "end_time": "2025-05-24T09:18:54.826711Z",
     "start_time": "2025-05-24T09:18:53.871681Z"
    }
   },
   "id": "cd0184eb29143a54"
  },
  {
   "cell_type": "code",
   "execution_count": 5,
   "outputs": [
    {
     "name": "stdout",
     "output_type": "stream",
     "text": [
      "Land Cover Code: 0\n"
     ]
    }
   ],
   "source": [
    "import rasterio\n",
    "\n",
    "# Open raster\n",
    "with rasterio.open(\"nilcm2023_10m.tif\") as src:\n",
    "    # Coordinate must match CRS (e.g. EPSG:29903 for Irish Grid)\n",
    "    # x, y = 200000, 350000  # Example coordinate in Irish Grid\n",
    "    value = list(src.sample([(x, y)]))[0][0]\n",
    "    print(\"Land Cover Code:\", value)\n"
   ],
   "metadata": {
    "collapsed": false,
    "ExecuteTime": {
     "end_time": "2025-05-24T09:19:43.897174Z",
     "start_time": "2025-05-24T09:19:43.828333Z"
    }
   },
   "id": "f4ace2f77c85ff97"
  },
  {
   "cell_type": "code",
   "execution_count": 14,
   "outputs": [
    {
     "name": "stdout",
     "output_type": "stream",
     "text": [
      "Number of bands: 2\n",
      "CRS: EPSG:29903\n",
      "Band descriptions:\n",
      " Band 1 description: None\n",
      " Band 2 description: None\n",
      "Band 1 value range: 0 - 21\n",
      "Band 2 value range: min=0, max=100\n"
     ]
    }
   ],
   "source": [
    "import rasterio\n",
    "\n",
    "tiff_path = 'nilcm2023_10m.tif'\n",
    "\n",
    "with rasterio.open(tiff_path) as src:\n",
    "    print(\"Number of bands:\", src.count)\n",
    "    print(\"CRS:\", src.crs)\n",
    "    print(\"Band descriptions:\")\n",
    "    for i in range(1, src.count + 1):\n",
    "        print(f\" Band {i} description: {src.descriptions[i-1]}\")\n",
    "\n",
    "    # You can also read stats for the first band\n",
    "    band1 = src.read(1)\n",
    "    print(\"Band 1 value range:\", band1.min(), \"-\", band1.max())\n",
    "    if src.count >= 2:\n",
    "        band2 = src.read(2)\n",
    "        print(f\"Band 2 value range: min={band2.min()}, max={band2.max()}\")\n",
    "    else:\n",
    "        print(\"The raster does not have a band 2.\")\n",
    "\n"
   ],
   "metadata": {
    "collapsed": false,
    "ExecuteTime": {
     "end_time": "2025-05-24T09:28:23.886086Z",
     "start_time": "2025-05-24T09:28:20.632669Z"
    }
   },
   "id": "81555aff1f5184b5"
  },
  {
   "cell_type": "code",
   "execution_count": 11,
   "outputs": [
    {
     "name": "stdout",
     "output_type": "stream",
     "text": [
      "Pixel indices: row=49994, col=-18001\n"
     ]
    },
    {
     "ename": "IndexError",
     "evalue": "index 49994 is out of bounds for axis 0 with size 20000",
     "output_type": "error",
     "traceback": [
      "\u001B[0;31m---------------------------------------------------------------------------\u001B[0m",
      "\u001B[0;31mIndexError\u001B[0m                                Traceback (most recent call last)",
      "Cell \u001B[0;32mIn[11], line 16\u001B[0m\n\u001B[1;32m     13\u001B[0m \u001B[38;5;28mprint\u001B[39m(\u001B[38;5;124mf\u001B[39m\u001B[38;5;124m\"\u001B[39m\u001B[38;5;124mPixel indices: row=\u001B[39m\u001B[38;5;132;01m{\u001B[39;00mrow\u001B[38;5;132;01m}\u001B[39;00m\u001B[38;5;124m, col=\u001B[39m\u001B[38;5;132;01m{\u001B[39;00mcol\u001B[38;5;132;01m}\u001B[39;00m\u001B[38;5;124m\"\u001B[39m)\n\u001B[1;32m     15\u001B[0m \u001B[38;5;66;03m# Read the first band (land cover class)\u001B[39;00m\n\u001B[0;32m---> 16\u001B[0m land_cover_class \u001B[38;5;241m=\u001B[39m \u001B[43msrc\u001B[49m\u001B[38;5;241;43m.\u001B[39;49m\u001B[43mread\u001B[49m\u001B[43m(\u001B[49m\u001B[38;5;241;43m1\u001B[39;49m\u001B[43m)\u001B[49m\u001B[43m[\u001B[49m\u001B[43mrow\u001B[49m\u001B[43m,\u001B[49m\u001B[43m \u001B[49m\u001B[43mcol\u001B[49m\u001B[43m]\u001B[49m\n\u001B[1;32m     17\u001B[0m \u001B[38;5;28mprint\u001B[39m(\u001B[38;5;124mf\u001B[39m\u001B[38;5;124m\"\u001B[39m\u001B[38;5;124mLand cover class at (\u001B[39m\u001B[38;5;132;01m{\u001B[39;00mlat\u001B[38;5;132;01m}\u001B[39;00m\u001B[38;5;124m, \u001B[39m\u001B[38;5;132;01m{\u001B[39;00mlon\u001B[38;5;132;01m}\u001B[39;00m\u001B[38;5;124m): \u001B[39m\u001B[38;5;132;01m{\u001B[39;00mland_cover_class\u001B[38;5;132;01m}\u001B[39;00m\u001B[38;5;124m\"\u001B[39m)\n",
      "\u001B[0;31mIndexError\u001B[0m: index 49994 is out of bounds for axis 0 with size 20000"
     ]
    }
   ],
   "source": [
    "import rasterio\n",
    "\n",
    "# Coordinates for Belfast\n",
    "lat, lon = 54.5973, -5.9301\n",
    "\n",
    "# Path to your TIFF\n",
    "tiff_path = 'nilcm2023_10m.tif'\n",
    "\n",
    "with rasterio.open(tiff_path) as src:\n",
    "    # Since CRS is EPSG:4326, no coordinate transform needed\n",
    "    # Get pixel row/col indices from lon/lat (x/y)\n",
    "    row, col = src.index(lon, lat)\n",
    "    print(f\"Pixel indices: row={row}, col={col}\")\n",
    "\n",
    "    # Read the first band (land cover class)\n",
    "    land_cover_class = src.read(1)[row, col]\n",
    "    print(f\"Land cover class at ({lat}, {lon}): {land_cover_class}\")\n"
   ],
   "metadata": {
    "collapsed": false,
    "ExecuteTime": {
     "end_time": "2025-05-24T09:26:31.869083Z",
     "start_time": "2025-05-24T09:26:30.066580Z"
    }
   },
   "id": "7fe219d19c461027"
  },
  {
   "cell_type": "code",
   "execution_count": 12,
   "outputs": [
    {
     "name": "stdout",
     "output_type": "stream",
     "text": [
      "Raster bounds: BoundingBox(left=180000.0, bottom=300000.0, right=400000.0, top=500000.0)\n",
      "Point (54.5973, -5.9301) is outside the raster bounds.\n"
     ]
    }
   ],
   "source": [
    "import rasterio\n",
    "from rasterio.coords import BoundingBox\n",
    "\n",
    "lat, lon = 54.5973, -5.9301\n",
    "tiff_path = 'nilcm2023_10m.tif'\n",
    "\n",
    "with rasterio.open(tiff_path) as src:\n",
    "    bounds: BoundingBox = src.bounds\n",
    "    print(\"Raster bounds:\", bounds)\n",
    "\n",
    "    # Check if the point is inside the raster\n",
    "    if bounds.left <= lon <= bounds.right and bounds.bottom <= lat <= bounds.top:\n",
    "        row, col = src.index(lon, lat)\n",
    "        print(f\"Pixel indices: row={row}, col={col}\")\n",
    "        land_cover_class = src.read(1)[row, col]\n",
    "        print(f\"Land cover class at ({lat}, {lon}): {land_cover_class}\")\n",
    "    else:\n",
    "        print(f\"Point ({lat}, {lon}) is outside the raster bounds.\")\n"
   ],
   "metadata": {
    "collapsed": false,
    "ExecuteTime": {
     "end_time": "2025-05-24T09:27:35.497504Z",
     "start_time": "2025-05-24T09:27:35.451276Z"
    }
   },
   "id": "1fd8dc95d67a2846"
  },
  {
   "cell_type": "code",
   "execution_count": 13,
   "outputs": [
    {
     "ename": "RasterioIOError",
     "evalue": "Dataset is closed: nilcm2023_10m.tif",
     "output_type": "error",
     "traceback": [
      "\u001B[0;31m---------------------------------------------------------------------------\u001B[0m",
      "\u001B[0;31mRasterioIOError\u001B[0m                           Traceback (most recent call last)",
      "Cell \u001B[0;32mIn[13], line 2\u001B[0m\n\u001B[1;32m      1\u001B[0m \u001B[38;5;28;01mif\u001B[39;00m src\u001B[38;5;241m.\u001B[39mcount \u001B[38;5;241m>\u001B[39m\u001B[38;5;241m=\u001B[39m \u001B[38;5;241m2\u001B[39m:\n\u001B[0;32m----> 2\u001B[0m     band2 \u001B[38;5;241m=\u001B[39m \u001B[43msrc\u001B[49m\u001B[38;5;241;43m.\u001B[39;49m\u001B[43mread\u001B[49m\u001B[43m(\u001B[49m\u001B[38;5;241;43m2\u001B[39;49m\u001B[43m)\u001B[49m\n\u001B[1;32m      3\u001B[0m     \u001B[38;5;28mprint\u001B[39m(\u001B[38;5;124mf\u001B[39m\u001B[38;5;124m\"\u001B[39m\u001B[38;5;124mBand 2 value range: min=\u001B[39m\u001B[38;5;132;01m{\u001B[39;00mband2\u001B[38;5;241m.\u001B[39mmin()\u001B[38;5;132;01m}\u001B[39;00m\u001B[38;5;124m, max=\u001B[39m\u001B[38;5;132;01m{\u001B[39;00mband2\u001B[38;5;241m.\u001B[39mmax()\u001B[38;5;132;01m}\u001B[39;00m\u001B[38;5;124m\"\u001B[39m)\n\u001B[1;32m      4\u001B[0m \u001B[38;5;28;01melse\u001B[39;00m:\n",
      "File \u001B[0;32mrasterio/_io.pyx:632\u001B[0m, in \u001B[0;36mrasterio._io.DatasetReaderBase.read\u001B[0;34m()\u001B[0m\n",
      "File \u001B[0;32mrasterio/_base.pyx:650\u001B[0m, in \u001B[0;36mrasterio._base.DatasetBase.mask_flag_enums.__get__\u001B[0;34m()\u001B[0m\n",
      "File \u001B[0;32mrasterio/_base.pyx:612\u001B[0m, in \u001B[0;36mgenexpr\u001B[0;34m()\u001B[0m\n",
      "File \u001B[0;32mrasterio/_base.pyx:612\u001B[0m, in \u001B[0;36mgenexpr\u001B[0;34m()\u001B[0m\n",
      "File \u001B[0;32mrasterio/_base.pyx:367\u001B[0m, in \u001B[0;36mrasterio._base.DatasetBase.band\u001B[0;34m()\u001B[0m\n",
      "File \u001B[0;32mrasterio/_base.pyx:360\u001B[0m, in \u001B[0;36mrasterio._base.DatasetBase.handle\u001B[0;34m()\u001B[0m\n",
      "\u001B[0;31mRasterioIOError\u001B[0m: Dataset is closed: nilcm2023_10m.tif"
     ]
    }
   ],
   "source": [
    "if src.count >= 2:\n",
    "    band2 = src.read(2)\n",
    "    print(f\"Band 2 value range: min={band2.min()}, max={band2.max()}\")\n",
    "else:\n",
    "    print(\"The raster does not have a band 2.\")\n"
   ],
   "metadata": {
    "collapsed": false,
    "ExecuteTime": {
     "end_time": "2025-05-24T09:27:57.981309Z",
     "start_time": "2025-05-24T09:27:57.918706Z"
    }
   },
   "id": "31205b194b5341be"
  },
  {
   "cell_type": "code",
   "execution_count": 18,
   "outputs": [
    {
     "name": "stdout",
     "output_type": "stream",
     "text": [
      "Converted to BNG: easting=308433.0804550406, northing=326392.6827254206\n",
      "Pixel indices: row=17360, col=12843\n",
      "Land cover class at Belfast: <class 'numpy.uint8'>\n",
      "Band 2 range: 0 to 100\n"
     ]
    }
   ],
   "source": [
    "from pyproj import Transformer\n",
    "import rasterio\n",
    "\n",
    "# Belfast lat/lon\n",
    "lat, lon = 54.1751, -6.3402\n",
    "\n",
    "# Set up coordinate transformer: WGS84 → British National Grid (EPSG:27700)\n",
    "transformer = Transformer.from_crs(\"EPSG:4326\", \"EPSG:29903\", always_xy=True)\n",
    "easting, northing = transformer.transform(lon, lat)\n",
    "\n",
    "print(f\"Converted to BNG: easting={easting}, northing={northing}\")\n",
    "\n",
    "tiff_path = 'nilcm2023_10m.tif'\n",
    "\n",
    "with rasterio.open(tiff_path) as src:\n",
    "    # Now get row/col using BNG coordinates\n",
    "    row, col = src.index(easting, northing)\n",
    "    print(f\"Pixel indices: row={row}, col={col}\")\n",
    "    \n",
    "    land_cover_class = src.read(1)[row, col]\n",
    "    print(f\"Land cover class at Belfast: {type(land_cover_class)}\")\n",
    "\n",
    "    # Optional: Band 2 range\n",
    "    if src.count >= 2:\n",
    "        band2 = src.read(2)\n",
    "        print(f\"Band 2 range: {band2.min()} to {band2.max()}\")\n"
   ],
   "metadata": {
    "collapsed": false,
    "ExecuteTime": {
     "end_time": "2025-05-24T09:45:47.503043Z",
     "start_time": "2025-05-24T09:45:44.481658Z"
    }
   },
   "id": "d3a797c4254efdb3"
  },
  {
   "cell_type": "code",
   "execution_count": 13,
   "outputs": [
    {
     "name": "stdout",
     "output_type": "stream",
     "text": [
      "Distance to nearest road: 724.77 m\n"
     ]
    },
    {
     "name": "stderr",
     "output_type": "stream",
     "text": [
      "/var/folders/0n/sggn66691kd6g5mtyzpq2hv80000gn/T/ipykernel_18706/2031346650.py:17: DeprecationWarning: The 'unary_union' attribute is deprecated, use the 'union_all()' method instead.\n",
      "  nearest_geom = nearest_points(pt, edges.unary_union)[1]\n"
     ]
    }
   ],
   "source": [
    "import osmnx as ox\n",
    "from shapely.geometry import Point\n",
    "from shapely.ops import nearest_points\n",
    "from geopy.distance import geodesic\n",
    "\n",
    "lat = 52.97043\n",
    "lon = 0.753532\n",
    "\n",
    "try:\n",
    "    G = ox.graph_from_point((lat, lon), dist=5000, network_type='drive_service')\n",
    "    edges = ox.graph_to_gdfs(G, nodes=False, edges=True)\n",
    "    \n",
    "    # original point\n",
    "    pt = Point(lon, lat)\n",
    "    \n",
    "    # find nearest road in lon/lat\n",
    "    nearest_geom = nearest_points(pt, edges.unary_union)[1]\n",
    "    nearest_lon, nearest_lat = nearest_geom.x, nearest_geom.y\n",
    "    \n",
    "    # compute real‐world distance\n",
    "    distance_m = geodesic((lat, lon), (nearest_lat, nearest_lon)).meters\n",
    "    print(f\"Distance to nearest road: {distance_m:.2f} m\")\n",
    "except ValueError as e:\n",
    "    print(f\"No roads: {e}\")\n",
    "\n"
   ],
   "metadata": {
    "collapsed": false,
    "ExecuteTime": {
     "end_time": "2025-05-24T14:07:40.799484Z",
     "start_time": "2025-05-24T14:07:39.537744Z"
    }
   },
   "id": "a66c49761a2cbb5b"
  },
  {
   "cell_type": "code",
   "execution_count": 20,
   "outputs": [
    {
     "name": "stdout",
     "output_type": "stream",
     "text": [
      "Point (52.97043, 0.753532) is 724.68 meters from nearest road\n",
      "Point (52.971, 0.75) is 760.62 meters from nearest road\n"
     ]
    }
   ],
   "source": [
    "import osmnx as ox\n",
    "import networkx as nx\n",
    "from shapely.geometry import Point\n",
    "import geopandas as gpd\n",
    "\n",
    "# Your list of (lat, lon) tuples\n",
    "coords = [\n",
    "    (52.97043, 0.753532),\n",
    "    (52.97100, 0.750000),\n",
    "    # add more...\n",
    "]\n",
    "\n",
    "# Extract lats and lons separately\n",
    "lats = [lat for lat, lon in coords]\n",
    "lons = [lon for lat, lon in coords]\n",
    "\n",
    "# Define bounding box with buffer\n",
    "buffer = 0.02\n",
    "north, south = max(lats) + buffer, min(lats) - buffer\n",
    "east, west = max(lons) + buffer, min(lons) - buffer\n",
    "\n",
    "bbox = (west, south, east, north)\n",
    "# If your osmnx version is older, adjust accordingly (see your docs)\n",
    "G = ox.graph_from_bbox(bbox, network_type='drive_service')\n",
    "\n",
    "# Project graph to UTM (meters)\n",
    "G_proj = ox.project_graph(G)\n",
    "\n",
    "# Prepare projected nodes GeoDataFrame for distance calculations\n",
    "nodes_proj, edges_proj = ox.graph_to_gdfs(G_proj)\n",
    "\n",
    "results = []\n",
    "for lat, lon in coords:\n",
    "    # Project the point to the graph's CRS (meters)\n",
    "    point_geom = Point(lon, lat)\n",
    "    point_gdf = gpd.GeoSeries([point_geom], crs='EPSG:4326')\n",
    "    point_proj = point_gdf.to_crs(nodes_proj.crs).iloc[0]\n",
    "\n",
    "    # Use osmnx's nearest_edges (input projected xy coords)\n",
    "    nearest_edge = ox.distance.nearest_edges(G_proj, [point_proj.x], [point_proj.y])[0]  # returns (u,v,key)\n",
    "    \n",
    "    # Get geometry of the edge\n",
    "    edge_geom = edges_proj.loc[nearest_edge]['geometry']\n",
    "\n",
    "    # Calculate planar distance from point to edge geometry in meters\n",
    "    distance = point_proj.distance(edge_geom)\n",
    "    results.append(distance)\n",
    "\n",
    "# Print results\n",
    "for coord, dist in zip(coords, results):\n",
    "    print(f\"Point {coord} is {dist:.2f} meters from nearest road\")\n"
   ],
   "metadata": {
    "collapsed": false,
    "ExecuteTime": {
     "end_time": "2025-05-24T14:19:02.888990Z",
     "start_time": "2025-05-24T14:19:01.832429Z"
    }
   },
   "id": "ddae7596630ceb18"
  }
 ],
 "metadata": {
  "kernelspec": {
   "display_name": "Python 3",
   "language": "python",
   "name": "python3"
  },
  "language_info": {
   "codemirror_mode": {
    "name": "ipython",
    "version": 2
   },
   "file_extension": ".py",
   "mimetype": "text/x-python",
   "name": "python",
   "nbconvert_exporter": "python",
   "pygments_lexer": "ipython2",
   "version": "2.7.6"
  }
 },
 "nbformat": 4,
 "nbformat_minor": 5
}
