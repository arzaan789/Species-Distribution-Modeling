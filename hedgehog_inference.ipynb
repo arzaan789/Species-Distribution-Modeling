{
 "cells": [
  {
   "cell_type": "code",
   "execution_count": 1,
   "id": "initial_id",
   "metadata": {
    "collapsed": true,
    "ExecuteTime": {
     "end_time": "2025-08-05T21:59:08.494069Z",
     "start_time": "2025-08-05T21:59:07.930584Z"
    }
   },
   "outputs": [],
   "source": [
    "import pandas as pd\n",
    "df = pd.read_csv(\"inference_data_indices.csv\")\n",
    "df['eventDate'] = pd.to_datetime(df['eventDate'], format='%Y-%m-%d', errors='coerce')"
   ]
  },
  {
   "cell_type": "code",
   "execution_count": 2,
   "outputs": [
    {
     "name": "stderr",
     "output_type": "stream",
     "text": [
      "/var/folders/0n/sggn66691kd6g5mtyzpq2hv80000gn/T/ipykernel_80504/1507747312.py:1: DtypeWarning: Columns (10,16,39,41,45,46,48) have mixed types. Specify dtype option on import or set low_memory=False.\n",
      "  badgers = pd.read_csv(\"Meles meles.csv\", delimiter='\\t')\n",
      "/var/folders/0n/sggn66691kd6g5mtyzpq2hv80000gn/T/ipykernel_80504/1507747312.py:8: DtypeWarning: Columns (2,10,36,38,39,41,45,48) have mixed types. Specify dtype option on import or set low_memory=False.\n",
      "  ground_beetles = pd.read_csv(\"ground_beetles.csv\", delimiter='\\t')\n"
     ]
    }
   ],
   "source": [
    "badgers = pd.read_csv(\"Meles meles.csv\", delimiter='\\t')\n",
    "badgers = badgers[badgers[\"occurrenceStatus\"] == \"PRESENT\"]\n",
    "badgers = badgers[badgers['year']>=2022]\n",
    "badgers['eventDate'] = pd.to_datetime(badgers['eventDate'], format='%Y-%m-%d', errors='coerce')\n",
    "badgers = badgers[['species', 'decimalLatitude', 'decimalLongitude', 'eventDate']]\n",
    "badgers = badgers.dropna().reset_index(drop=True)\n",
    "\n",
    "ground_beetles = pd.read_csv(\"ground_beetles.csv\", delimiter='\\t')\n",
    "ground_beetles = ground_beetles[ground_beetles[\"occurrenceStatus\"] == \"PRESENT\"]\n",
    "ground_beetles = ground_beetles[ground_beetles['year']>=2022]\n",
    "ground_beetles['eventDate'] = pd.to_datetime(ground_beetles['eventDate'], format='%Y-%m-%d', errors='coerce')\n",
    "ground_beetles = ground_beetles[['species', 'decimalLatitude', 'decimalLongitude', 'eventDate']]\n",
    "ground_beetles = ground_beetles.dropna().reset_index(drop=True)"
   ],
   "metadata": {
    "collapsed": false,
    "ExecuteTime": {
     "end_time": "2025-08-05T21:59:12.680233Z",
     "start_time": "2025-08-05T21:59:08.511262Z"
    }
   },
   "id": "a7069d493ce8ea9"
  },
  {
   "cell_type": "code",
   "execution_count": 3,
   "outputs": [
    {
     "name": "stderr",
     "output_type": "stream",
     "text": [
      "100%|██████████| 244359/244359 [00:27<00:00, 8832.83it/s] \n"
     ]
    }
   ],
   "source": [
    "import pandas as pd\n",
    "import numpy as np\n",
    "from sklearn.neighbors import BallTree\n",
    "from tqdm import tqdm\n",
    "\n",
    "# Convert lat/lon to radians for BallTree\n",
    "hedgehog_coords = np.deg2rad(df[['decimalLatitude', 'decimalLongitude']].values)\n",
    "badger_coords = np.deg2rad(badgers[['decimalLatitude', 'decimalLongitude']].values)\n",
    "ground_beetles_coords = np.deg2rad(ground_beetles[['decimalLatitude', 'decimalLongitude']].values)\n",
    "\n",
    "# Build BallTrees\n",
    "tree_badger = BallTree(badger_coords, metric='haversine')\n",
    "tree_ground_beetles = BallTree(ground_beetles_coords, metric='haversine')\n",
    "\n",
    "# 1 km radius in radians\n",
    "radius = 1 / 6371.0\n",
    "\n",
    "# Initialize presence columns\n",
    "df['badger_presence'] = 0\n",
    "df['ground_beetles_presence'] = 0\n",
    "\n",
    "# Iterate through each hedgehog point with tqdm for progress tracking\n",
    "for i in tqdm(range(len(df))):\n",
    "    point = hedgehog_coords[i].reshape(1, -1)\n",
    "    event_month = df.loc[i, 'eventDate'].month\n",
    "    event_year = df.loc[i, 'eventDate'].year\n",
    "\n",
    "    # BADGERS\n",
    "    idxs = tree_badger.query_radius(point, r=radius)[0]\n",
    "    for j in idxs:\n",
    "        badger_date = badgers.loc[j, 'eventDate']\n",
    "        if badger_date.month == event_month and badger_date.year == event_year:\n",
    "            df.at[i, 'badger_presence'] = 1\n",
    "            break  # Found at least one match, no need to check further\n",
    "\n",
    "    # GROUND BEETLES\n",
    "    idxs = tree_ground_beetles.query_radius(point, r=radius)[0]\n",
    "    for j in idxs:\n",
    "        beetle_date = ground_beetles.loc[j, 'eventDate']\n",
    "        if beetle_date.month == event_month and beetle_date.year == event_year:\n",
    "            df.at[i, 'ground_beetles_presence'] = 1\n",
    "            break"
   ],
   "metadata": {
    "collapsed": false,
    "ExecuteTime": {
     "end_time": "2025-08-05T21:59:40.776747Z",
     "start_time": "2025-08-05T21:59:12.683095Z"
    }
   },
   "id": "4b0114a35480dd58"
  },
  {
   "cell_type": "code",
   "execution_count": null,
   "outputs": [],
   "source": [
    "# import osmnx as ox\n",
    "# from shapely.geometry import Point\n",
    "# import geopandas as gpd\n",
    "# import numpy as np\n",
    "# from tqdm import tqdm\n",
    "# \n",
    "# # Construct GeoDataFrame\n",
    "# df['geometry'] = [Point(xy) for xy in zip(df['decimalLongitude'], df['decimalLatitude'])]\n",
    "# gdf = gpd.GeoDataFrame(df, geometry='geometry', crs='EPSG:4326')\n",
    "# \n",
    "# # Define spatial tiling: 0.05 x 0.05 degrees\n",
    "# tile_size = 0.1\n",
    "# gdf['tile_x'] = (gdf['decimalLongitude'] // tile_size).astype(int)\n",
    "# gdf['tile_y'] = (gdf['decimalLatitude'] // tile_size).astype(int)\n",
    "# \n",
    "# # Group by tile\n",
    "# grouped = gdf.groupby(['tile_x', 'tile_y'])\n",
    "# \n",
    "# # Store results\n",
    "# all_distances = []\n",
    "# \n",
    "# for (tile_x, tile_y), group in tqdm(grouped, total=len(grouped)):\n",
    "#     west = tile_x * tile_size - 0.02\n",
    "#     south = tile_y * tile_size - 0.02\n",
    "#     east = (tile_x + 1) * tile_size + 0.02\n",
    "#     north = (tile_y + 1) * tile_size + 0.02\n",
    "#     bbox = (west, south, east, north)\n",
    "# \n",
    "#     try:\n",
    "#         G = ox.graph_from_bbox(bbox, network_type='drive_service')\n",
    "#         if len(G.nodes) == 0:\n",
    "#             print(f\"[EMPTY GRAPH] bbox: {bbox}, skipping...\")\n",
    "#             all_distances.extend([np.nan] * len(group))\n",
    "#             continue\n",
    "# \n",
    "#         G_proj = ox.project_graph(G)\n",
    "#         nodes_proj, edges_proj = ox.graph_to_gdfs(G_proj)\n",
    "#         points_proj = group.geometry.to_crs(nodes_proj.crs)\n",
    "# \n",
    "#         for point_proj in points_proj:\n",
    "#             try:\n",
    "#                 u, v, k = ox.distance.nearest_edges(G_proj, [point_proj.x], [point_proj.y])[0]\n",
    "#                 edge_geom = edges_proj.loc[(u, v, k)]['geometry']\n",
    "#                 distance = point_proj.distance(edge_geom)\n",
    "#                 all_distances.append(distance)\n",
    "#             except Exception as e:\n",
    "#                 print(f\"  [Point ERROR] {e}\")\n",
    "#                 all_distances.append(np.nan)\n",
    "# \n",
    "#     except Exception as e:\n",
    "#         print(f\"[TILE ERROR] {e} — bbox: {bbox}\")\n",
    "#         all_distances.extend([np.nan] * len(group))\n",
    "# \n",
    "# \n",
    "# # Store back in original DataFrame order\n",
    "# gdf['distance_to_road'] = all_distances"
   ],
   "metadata": {
    "collapsed": false
   },
   "id": "e68a6cc20fbfb48a"
  },
  {
   "cell_type": "code",
   "execution_count": null,
   "outputs": [],
   "source": [
    "# gdf['near_road'] = np.where(gdf['distance_to_road'] <= 500, 1, 0)        "
   ],
   "metadata": {
    "collapsed": false
   },
   "id": "ac77a50ba22f8bb5"
  },
  {
   "cell_type": "code",
   "execution_count": null,
   "outputs": [],
   "source": [
    "# gdf=gdf.drop(['tile_x', 'tile_y', 'geometry', 'distance_to_road'], axis=1)"
   ],
   "metadata": {
    "collapsed": false
   },
   "id": "a512aad519f5b707"
  },
  {
   "cell_type": "code",
   "execution_count": null,
   "outputs": [],
   "source": [
    "# from pyproj import Transformer\n",
    "# from rasterio.windows import Window\n",
    "# import rasterio\n",
    "# \n",
    "# land_cover_map = {\n",
    "#     1: \"Deciduous woodland\",\n",
    "#     2: \"Coniferous woodland\",\n",
    "#     3: \"Arable\",\n",
    "#     4: \"Improved grassland\",\n",
    "#     5: \"Neutral grassland\",\n",
    "#     6: \"Calcareous grassland\",\n",
    "#     7: \"Acid grassland\",\n",
    "#     8: \"Fen\",\n",
    "#     9: \"Heather\",\n",
    "#     10: \"Heather grassland\",\n",
    "#     11: \"Bog\",\n",
    "#     12: \"Inland rock\",\n",
    "#     13: \"Saltwater\",\n",
    "#     14: \"Freshwater\",\n",
    "#     15: \"Supralittoral rock\",\n",
    "#     16: \"Supralittoral sediment\",\n",
    "#     17: \"Littoral rock\",\n",
    "#     18: \"Littoral sediment\",\n",
    "#     19: \"Saltmarsh\",\n",
    "#     20: \"Urban\",\n",
    "#     21: \"Suburban\"\n",
    "# }\n",
    "# \n",
    "# # Batch coordinate transformation\n",
    "# transformer_ni = Transformer.from_crs(\"EPSG:4326\", \"EPSG:29903\", always_xy=True)\n",
    "# transformer_gb = Transformer.from_crs(\"EPSG:4326\", \"EPSG:27700\", always_xy=True)\n",
    "# \n",
    "# coords = list(zip(gdf['decimalLongitude'], gdf['decimalLatitude']))\n",
    "# gdf['easting_ni'], gdf['northing_ni'] = zip(*transformer_ni.itransform(coords))\n",
    "# gdf['easting_gb'], gdf['northing_gb'] = zip(*transformer_gb.itransform(coords))\n",
    "# \n",
    "# # Raster processing optimization\n",
    "# gb_raster = 'gblcm2023_10m.tif'\n",
    "# n_ireland_raster = 'nilcm2023_10m.tif'\n",
    "# \n",
    "# \n",
    "# def get_land_cover_class(row):\n",
    "#     try:\n",
    "#         # Try GB raster first\n",
    "#         with rasterio.open(gb_raster) as src:\n",
    "#             row_idx, col_idx = src.index(row['easting_gb'], row['northing_gb'])\n",
    "#             # Read a small window around the point for better performance\n",
    "#             window = Window(col_idx, row_idx, 1, 1)\n",
    "#             land_cover_class = src.read(1, window=window)[0, 0]\n",
    "# \n",
    "#             if land_cover_class == 0:  # Check NI raster if GB is 0\n",
    "#                 with rasterio.open(n_ireland_raster) as src_ni:\n",
    "#                     row_idx, col_idx = src_ni.index(row['easting_ni'], row['northing_ni'])\n",
    "#                     window = Window(col_idx, row_idx, 1, 1)\n",
    "#                     land_cover_class = src_ni.read(1, window=window)[0, 0]\n",
    "# \n",
    "#         return land_cover_map.get(land_cover_class, \"Unknown\")\n",
    "#     except Exception as e:\n",
    "#         print(f\"Error processing row: {e}\")\n",
    "#         return \"Unknown\"\n",
    "# \n",
    "# \n",
    "# tqdm.pandas()\n",
    "# gdf['Land_cover'] = gdf.progress_apply(get_land_cover_class, axis=1)\n"
   ],
   "metadata": {
    "collapsed": false
   },
   "id": "c51bf164fe1c2951"
  },
  {
   "cell_type": "code",
   "execution_count": null,
   "outputs": [],
   "source": [
    "gdf = gdf.dropna()\n",
    "gdf=gdf.drop(['easting_ni', 'northing_ni', 'easting_gb', 'northing_gb'],axis=1)\n",
    "# Remove where Land_cover is Unknown\n",
    "gdf = gdf[gdf['Land_cover'] != \"Unknown\"].reset_index(drop=True)\n",
    "gdf.to_csv(\"hedgehog_inference_data_preprocessed.csv\", index=False)"
   ],
   "metadata": {
    "collapsed": false
   },
   "id": "cc8bdc50093ed8e7"
  },
  {
   "cell_type": "code",
   "execution_count": null,
   "outputs": [],
   "source": [
    "gdf = gdf.dropna()\n",
    "gdf = gdf.drop_duplicates()\n",
    "gdf = gdf.drop(columns=['species'])\n",
    "hedgehog_bool_columns = ['badger_presence','ground_beetles_presence','near_road']\n",
    "gdf[hedgehog_bool_columns] = gdf[hedgehog_bool_columns].astype(bool)\n",
    "gdf = pd.get_dummies(gdf, columns=['Land_cover'])\n",
    "gdf.to_csv(\"hedgehog_inference_data_preprocessed.csv\")"
   ],
   "metadata": {
    "collapsed": false
   },
   "id": "c2aa793b3b32e51a"
  },
  {
   "cell_type": "code",
   "execution_count": null,
   "outputs": [],
   "source": [
    "gdf = pd.read_csv(\"hedgehog_inference_data_preprocessed.csv\")\n",
    "gdf = gdf.astype({col: 'int' for col in gdf.select_dtypes(include='bool').columns})\n",
    "\n",
    "#read scaler\n",
    "import joblib\n",
    "scaler = joblib.load(\"hedgehog_scaler.pkl\")\n",
    "# Scale the data\n",
    "env_vars = ['BSI', 'LST', 'MNDWI', 'NDBI', 'NDSI', 'NDVI', 'NDWI', 'SAVI', 'UI']\n",
    "gdf[env_vars] = scaler.transform(gdf[env_vars])\n",
    "# drop Unnamed: 0\n",
    "# df = df.drop(columns=['Unnamed: 0'])\n",
    "df"
   ],
   "metadata": {
    "collapsed": false
   },
   "id": "5872448117c178cd"
  },
  {
   "cell_type": "code",
   "execution_count": null,
   "outputs": [],
   "source": [],
   "metadata": {
    "collapsed": false
   },
   "id": "274b7b2f425c2f18"
  }
 ],
 "metadata": {
  "kernelspec": {
   "display_name": "Python 3",
   "language": "python",
   "name": "python3"
  },
  "language_info": {
   "codemirror_mode": {
    "name": "ipython",
    "version": 2
   },
   "file_extension": ".py",
   "mimetype": "text/x-python",
   "name": "python",
   "nbconvert_exporter": "python",
   "pygments_lexer": "ipython2",
   "version": "2.7.6"
  }
 },
 "nbformat": 4,
 "nbformat_minor": 5
}
