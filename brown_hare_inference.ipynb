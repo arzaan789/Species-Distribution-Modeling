{
 "cells": [
  {
   "cell_type": "code",
   "execution_count": 1,
   "id": "initial_id",
   "metadata": {
    "collapsed": true,
    "ExecuteTime": {
     "end_time": "2025-08-05T21:53:53.083527Z",
     "start_time": "2025-08-05T21:53:52.796223Z"
    }
   },
   "outputs": [],
   "source": [
    "import pandas as pd\n",
    "df = pd.read_csv(\"inference_data_indices.csv\")\n",
    "df['eventDate'] = pd.to_datetime(df['eventDate'], format='%Y-%m-%d', errors='coerce')"
   ]
  },
  {
   "cell_type": "code",
   "execution_count": 2,
   "outputs": [
    {
     "name": "stderr",
     "output_type": "stream",
     "text": [
      "/var/folders/0n/sggn66691kd6g5mtyzpq2hv80000gn/T/ipykernel_79347/2925844888.py:1: DtypeWarning: Columns (39,41,46) have mixed types. Specify dtype option on import or set low_memory=False.\n",
      "  winter_wheat = pd.read_csv(\"winter wheat.csv\", delimiter='\\t')\n"
     ]
    }
   ],
   "source": [
    "winter_wheat = pd.read_csv(\"winter wheat.csv\", delimiter='\\t')\n",
    "winter_wheat = winter_wheat[winter_wheat[\"occurrenceStatus\"] == \"PRESENT\"]\n",
    "winter_wheat = winter_wheat[winter_wheat['year'] >= 2022]\n",
    "winter_wheat['eventDate'] = pd.to_datetime(winter_wheat['eventDate'], format='%Y-%m-%d', errors='coerce')\n",
    "winter_wheat = winter_wheat[['species', 'decimalLatitude', 'decimalLongitude', 'eventDate']]\n",
    "winter_wheat = winter_wheat.dropna().reset_index(drop=True)\n"
   ],
   "metadata": {
    "collapsed": false,
    "ExecuteTime": {
     "end_time": "2025-08-05T21:53:53.858919Z",
     "start_time": "2025-08-05T21:53:53.710516Z"
    }
   },
   "id": "10ac377892d97193"
  },
  {
   "cell_type": "code",
   "execution_count": 4,
   "outputs": [
    {
     "name": "stderr",
     "output_type": "stream",
     "text": [
      "100%|██████████| 244359/244359 [00:08<00:00, 29175.87it/s]\n"
     ]
    }
   ],
   "source": [
    "import numpy as np\n",
    "from sklearn.neighbors import BallTree\n",
    "from tqdm import tqdm\n",
    "# Convert lat/lon to radians for BallTree\n",
    "brown_hare_coords = np.deg2rad(df[['decimalLatitude', 'decimalLongitude']].values)\n",
    "winter_wheat_coords = np.deg2rad(winter_wheat[['decimalLatitude', 'decimalLongitude']].values)\n",
    "\n",
    "# Build BallTree using haversine metric\n",
    "tree = BallTree(winter_wheat_coords, metric='haversine')\n",
    "\n",
    "# Define search radius: 1 km in radians\n",
    "earth_radius_km = 6371.0\n",
    "radius = 1 / earth_radius_km  # 1 km in radians\n",
    "\n",
    "# Initialize presence columns\n",
    "df['winter_wheat_presence'] = 0\n",
    "\n",
    "# Iterate through each brown hare point with tqdm for progress tracking\n",
    "for i in tqdm(range(len(df))):\n",
    "    point = brown_hare_coords[i].reshape(1, -1)\n",
    "    event_month = df.loc[i, 'eventDate'].month\n",
    "    event_year = df.loc[i, 'eventDate'].year\n",
    "\n",
    "    # WINTER WHEAT\n",
    "    idxs = tree.query_radius(point, r=radius)[0]\n",
    "    for j in idxs:\n",
    "        winter_wheat_date = winter_wheat.loc[j, 'eventDate']\n",
    "        if winter_wheat_date.month == event_month and winter_wheat_date.year == event_year:\n",
    "            df.at[i, 'winter_wheat_presence'] = 1\n",
    "            break  # Found at least one match, no need to check further"
   ],
   "metadata": {
    "collapsed": false,
    "ExecuteTime": {
     "end_time": "2025-08-05T21:54:22.704621Z",
     "start_time": "2025-08-05T21:54:14.261587Z"
    }
   },
   "id": "d28b1f1fbc9450a8"
  },
  {
   "cell_type": "code",
   "execution_count": 5,
   "outputs": [
    {
     "name": "stderr",
     "output_type": "stream",
     "text": [
      "  0%|          | 1119/244359 [00:02<08:15, 491.33it/s]"
     ]
    },
    {
     "name": "stdout",
     "output_type": "stream",
     "text": [
      "Error processing row: index 0 is out of bounds for axis 0 with size 0\n"
     ]
    },
    {
     "name": "stderr",
     "output_type": "stream",
     "text": [
      " 19%|█▉        | 46182/244359 [01:42<07:02, 469.55it/s]"
     ]
    },
    {
     "name": "stdout",
     "output_type": "stream",
     "text": [
      "Error processing row: index 0 is out of bounds for axis 0 with size 0\n"
     ]
    },
    {
     "name": "stderr",
     "output_type": "stream",
     "text": [
      " 32%|███▏      | 79287/244359 [02:59<06:17, 437.00it/s]"
     ]
    },
    {
     "name": "stdout",
     "output_type": "stream",
     "text": [
      "Error processing row: index 0 is out of bounds for axis 0 with size 0\n"
     ]
    },
    {
     "name": "stderr",
     "output_type": "stream",
     "text": [
      " 61%|██████    | 148877/244359 [06:22<04:28, 355.26it/s]"
     ]
    },
    {
     "name": "stdout",
     "output_type": "stream",
     "text": [
      "Error processing row: index 0 is out of bounds for axis 1 with size 0\n"
     ]
    },
    {
     "name": "stderr",
     "output_type": "stream",
     "text": [
      " 94%|█████████▎| 228892/244359 [10:31<00:44, 347.28it/s]"
     ]
    },
    {
     "name": "stdout",
     "output_type": "stream",
     "text": [
      "Error processing row: index 0 is out of bounds for axis 0 with size 0\n"
     ]
    },
    {
     "name": "stderr",
     "output_type": "stream",
     "text": [
      " 95%|█████████▌| 232306/244359 [10:39<00:28, 416.93it/s]"
     ]
    },
    {
     "name": "stdout",
     "output_type": "stream",
     "text": [
      "Error processing row: index 0 is out of bounds for axis 0 with size 0\n"
     ]
    },
    {
     "name": "stderr",
     "output_type": "stream",
     "text": [
      " 95%|█████████▌| 232603/244359 [10:40<00:28, 413.64it/s]"
     ]
    },
    {
     "name": "stdout",
     "output_type": "stream",
     "text": [
      "Error processing row: index 0 is out of bounds for axis 0 with size 0\n"
     ]
    },
    {
     "name": "stderr",
     "output_type": "stream",
     "text": [
      " 98%|█████████▊| 239076/244359 [11:00<00:16, 316.20it/s]"
     ]
    },
    {
     "name": "stdout",
     "output_type": "stream",
     "text": [
      "Error processing row: index 0 is out of bounds for axis 0 with size 0\n"
     ]
    },
    {
     "name": "stderr",
     "output_type": "stream",
     "text": [
      " 99%|█████████▉| 242751/244359 [11:10<00:03, 417.42it/s]"
     ]
    },
    {
     "name": "stdout",
     "output_type": "stream",
     "text": [
      "Error processing row: index 0 is out of bounds for axis 0 with size 0\n",
      "Error processing row: index 0 is out of bounds for axis 0 with size 0\n"
     ]
    },
    {
     "name": "stderr",
     "output_type": "stream",
     "text": [
      "100%|██████████| 244359/244359 [11:15<00:00, 361.81it/s]\n"
     ]
    }
   ],
   "source": [
    "from pyproj import Transformer\n",
    "from rasterio.windows import Window\n",
    "import rasterio\n",
    "land_cover_map = {\n",
    "    1: \"Deciduous woodland\",\n",
    "    2: \"Coniferous woodland\",\n",
    "    3: \"Arable\",\n",
    "    4: \"Improved grassland\",\n",
    "    5: \"Neutral grassland\",\n",
    "    6: \"Calcareous grassland\",\n",
    "    7: \"Acid grassland\",\n",
    "    8: \"Fen\",\n",
    "    9: \"Heather\",\n",
    "    10: \"Heather grassland\",\n",
    "    11: \"Bog\",\n",
    "    12: \"Inland rock\",\n",
    "    13: \"Saltwater\",\n",
    "    14: \"Freshwater\",\n",
    "    15: \"Supralittoral rock\",\n",
    "    16: \"Supralittoral sediment\",\n",
    "    17: \"Littoral rock\",\n",
    "    18: \"Littoral sediment\",\n",
    "    19: \"Saltmarsh\",\n",
    "    20: \"Urban\",\n",
    "    21: \"Suburban\"\n",
    "}\n",
    "\n",
    "# Batch coordinate transformation\n",
    "transformer_ni = Transformer.from_crs(\"EPSG:4326\", \"EPSG:29903\", always_xy=True)\n",
    "transformer_gb = Transformer.from_crs(\"EPSG:4326\", \"EPSG:27700\", always_xy=True)\n",
    "\n",
    "coords = list(zip(df['decimalLongitude'], df['decimalLatitude']))\n",
    "df['easting_ni'], df['northing_ni'] = zip(*transformer_ni.itransform(coords))\n",
    "df['easting_gb'], df['northing_gb'] = zip(*transformer_gb.itransform(coords))\n",
    "\n",
    "# Raster processing optimization\n",
    "gb_raster = 'gblcm2023_10m.tif'\n",
    "n_ireland_raster = 'nilcm2023_10m.tif'\n",
    "\n",
    "\n",
    "def get_land_cover_class(row):\n",
    "    try:\n",
    "        # Try GB raster first\n",
    "        with rasterio.open(gb_raster) as src:\n",
    "            row_idx, col_idx = src.index(row['easting_gb'], row['northing_gb'])\n",
    "            # Read a small window around the point for better performance\n",
    "            window = Window(col_idx, row_idx, 1, 1)\n",
    "            land_cover_class = src.read(1, window=window)[0, 0]\n",
    "\n",
    "            if land_cover_class == 0:  # Check NI raster if GB is 0\n",
    "                with rasterio.open(n_ireland_raster) as src_ni:\n",
    "                    row_idx, col_idx = src_ni.index(row['easting_ni'], row['northing_ni'])\n",
    "                    window = Window(col_idx, row_idx, 1, 1)\n",
    "                    land_cover_class = src_ni.read(1, window=window)[0, 0]\n",
    "\n",
    "        return land_cover_map.get(land_cover_class, \"Unknown\")\n",
    "    except Exception as e:\n",
    "        print(f\"Error processing row: {e}\")\n",
    "        return \"Unknown\"\n",
    "\n",
    "\n",
    "tqdm.pandas()\n",
    "df['Land_cover'] = df.progress_apply(get_land_cover_class, axis=1)\n"
   ],
   "metadata": {
    "collapsed": false,
    "ExecuteTime": {
     "end_time": "2025-08-05T22:05:39.088995Z",
     "start_time": "2025-08-05T21:54:22.709648Z"
    }
   },
   "id": "3870237ce4520bcc"
  },
  {
   "cell_type": "code",
   "execution_count": 6,
   "outputs": [],
   "source": [
    "df = df.dropna()\n",
    "df=df.drop(['easting_ni', 'northing_ni', 'easting_gb', 'northing_gb'],axis=1)\n",
    "# Remove where Land_cover is Unknown\n",
    "df = df[df['Land_cover'] != \"Unknown\"].reset_index(drop=True)\n",
    "df.to_csv(\"brown_hare_inference_data_preprocessed.csv\")\n"
   ],
   "metadata": {
    "collapsed": false,
    "ExecuteTime": {
     "end_time": "2025-08-05T22:05:41.996234Z",
     "start_time": "2025-08-05T22:05:39.105947Z"
    }
   },
   "id": "4210b4deffe0d39c"
  },
  {
   "cell_type": "code",
   "execution_count": 17,
   "outputs": [
    {
     "data": {
      "text/plain": "        decimalLongitude  decimalLatitude   eventDate       BSI       LST  \\\n0              -6.347425        49.893656  2025-06-01  0.184310  0.231058   \n1              -6.321265        49.912633  2025-06-01  0.365374 -1.104642   \n2              -6.307377        49.913150  2025-06-01 -0.397970  0.233714   \n3              -6.293488        49.913666  2025-06-01 -0.820724  0.331327   \n4              -6.308177        49.922119  2025-06-01 -0.401585  0.222599   \n...                  ...              ...         ...       ...       ...   \n243512         -0.808766        60.824609  2025-06-01 -0.740416 -0.614919   \n243513         -0.790383        60.824445  2025-06-01  0.941436 -0.357072   \n243514         -0.881988        60.834217  2025-06-01 -0.591414 -0.519491   \n243515         -0.845210        60.833906  2025-06-01  0.478226 -0.652802   \n243516         -0.881674        60.843193  2025-06-01 -0.134924 -0.528138   \n\n           MNDWI      NDBI      NDSI      NDVI      NDWI  ...  \\\n0       0.343424 -0.211261  0.343424  0.026862  0.178613  ...   \n1       0.555786 -0.253331  0.555786 -0.156918  0.457769  ...   \n2      -0.123975 -0.548689 -0.123975  0.572024 -0.418334  ...   \n3      -0.436521 -0.872250 -0.436521  1.035870 -0.900855  ...   \n4       0.134650 -1.113765  0.134650  0.686008 -0.318354  ...   \n...          ...       ...       ...       ...       ...  ...   \n243512 -0.974530  0.415788 -0.974530  0.624211 -0.883607  ...   \n243513  0.892372  0.852765  0.892372 -0.670896  1.518895  ...   \n243514 -0.719325  0.208002 -0.719325  0.558306 -0.710694  ...   \n243515  0.129809  1.220568  0.129809 -0.648737  0.856587  ...   \n243516 -0.170067  0.215333 -0.170067  0.246185 -0.137233  ...   \n\n        Land_cover_Inland rock  Land_cover_Littoral rock  \\\n0                            0                         0   \n1                            0                         0   \n2                            0                         0   \n3                            0                         0   \n4                            0                         0   \n...                        ...                       ...   \n243512                       0                         0   \n243513                       0                         0   \n243514                       0                         0   \n243515                       0                         0   \n243516                       0                         0   \n\n        Land_cover_Littoral sediment  Land_cover_Neutral grassland  \\\n0                                  0                             0   \n1                                  0                             0   \n2                                  0                             0   \n3                                  0                             0   \n4                                  0                             0   \n...                              ...                           ...   \n243512                             0                             0   \n243513                             0                             0   \n243514                             0                             0   \n243515                             0                             0   \n243516                             0                             0   \n\n        Land_cover_Saltmarsh  Land_cover_Saltwater  Land_cover_Suburban  \\\n0                          0                     0                    1   \n1                          0                     0                    0   \n2                          0                     0                    1   \n3                          0                     0                    0   \n4                          0                     0                    0   \n...                      ...                   ...                  ...   \n243512                     0                     0                    0   \n243513                     0                     0                    0   \n243514                     0                     0                    0   \n243515                     0                     0                    0   \n243516                     0                     0                    0   \n\n        Land_cover_Supralittoral rock  Land_cover_Supralittoral sediment  \\\n0                                   0                                  0   \n1                                   0                                  0   \n2                                   0                                  0   \n3                                   0                                  0   \n4                                   0                                  0   \n...                               ...                                ...   \n243512                              0                                  0   \n243513                              0                                  0   \n243514                              0                                  0   \n243515                              0                                  0   \n243516                              0                                  0   \n\n        Land_cover_Urban  \n0                      0  \n1                      0  \n2                      0  \n3                      0  \n4                      1  \n...                  ...  \n243512                 0  \n243513                 0  \n243514                 0  \n243515                 0  \n243516                 0  \n\n[243517 rows x 34 columns]",
      "text/html": "<div>\n<style scoped>\n    .dataframe tbody tr th:only-of-type {\n        vertical-align: middle;\n    }\n\n    .dataframe tbody tr th {\n        vertical-align: top;\n    }\n\n    .dataframe thead th {\n        text-align: right;\n    }\n</style>\n<table border=\"1\" class=\"dataframe\">\n  <thead>\n    <tr style=\"text-align: right;\">\n      <th></th>\n      <th>decimalLongitude</th>\n      <th>decimalLatitude</th>\n      <th>eventDate</th>\n      <th>BSI</th>\n      <th>LST</th>\n      <th>MNDWI</th>\n      <th>NDBI</th>\n      <th>NDSI</th>\n      <th>NDVI</th>\n      <th>NDWI</th>\n      <th>...</th>\n      <th>Land_cover_Inland rock</th>\n      <th>Land_cover_Littoral rock</th>\n      <th>Land_cover_Littoral sediment</th>\n      <th>Land_cover_Neutral grassland</th>\n      <th>Land_cover_Saltmarsh</th>\n      <th>Land_cover_Saltwater</th>\n      <th>Land_cover_Suburban</th>\n      <th>Land_cover_Supralittoral rock</th>\n      <th>Land_cover_Supralittoral sediment</th>\n      <th>Land_cover_Urban</th>\n    </tr>\n  </thead>\n  <tbody>\n    <tr>\n      <th>0</th>\n      <td>-6.347425</td>\n      <td>49.893656</td>\n      <td>2025-06-01</td>\n      <td>0.184310</td>\n      <td>0.231058</td>\n      <td>0.343424</td>\n      <td>-0.211261</td>\n      <td>0.343424</td>\n      <td>0.026862</td>\n      <td>0.178613</td>\n      <td>...</td>\n      <td>0</td>\n      <td>0</td>\n      <td>0</td>\n      <td>0</td>\n      <td>0</td>\n      <td>0</td>\n      <td>1</td>\n      <td>0</td>\n      <td>0</td>\n      <td>0</td>\n    </tr>\n    <tr>\n      <th>1</th>\n      <td>-6.321265</td>\n      <td>49.912633</td>\n      <td>2025-06-01</td>\n      <td>0.365374</td>\n      <td>-1.104642</td>\n      <td>0.555786</td>\n      <td>-0.253331</td>\n      <td>0.555786</td>\n      <td>-0.156918</td>\n      <td>0.457769</td>\n      <td>...</td>\n      <td>0</td>\n      <td>0</td>\n      <td>0</td>\n      <td>0</td>\n      <td>0</td>\n      <td>0</td>\n      <td>0</td>\n      <td>0</td>\n      <td>0</td>\n      <td>0</td>\n    </tr>\n    <tr>\n      <th>2</th>\n      <td>-6.307377</td>\n      <td>49.913150</td>\n      <td>2025-06-01</td>\n      <td>-0.397970</td>\n      <td>0.233714</td>\n      <td>-0.123975</td>\n      <td>-0.548689</td>\n      <td>-0.123975</td>\n      <td>0.572024</td>\n      <td>-0.418334</td>\n      <td>...</td>\n      <td>0</td>\n      <td>0</td>\n      <td>0</td>\n      <td>0</td>\n      <td>0</td>\n      <td>0</td>\n      <td>1</td>\n      <td>0</td>\n      <td>0</td>\n      <td>0</td>\n    </tr>\n    <tr>\n      <th>3</th>\n      <td>-6.293488</td>\n      <td>49.913666</td>\n      <td>2025-06-01</td>\n      <td>-0.820724</td>\n      <td>0.331327</td>\n      <td>-0.436521</td>\n      <td>-0.872250</td>\n      <td>-0.436521</td>\n      <td>1.035870</td>\n      <td>-0.900855</td>\n      <td>...</td>\n      <td>0</td>\n      <td>0</td>\n      <td>0</td>\n      <td>0</td>\n      <td>0</td>\n      <td>0</td>\n      <td>0</td>\n      <td>0</td>\n      <td>0</td>\n      <td>0</td>\n    </tr>\n    <tr>\n      <th>4</th>\n      <td>-6.308177</td>\n      <td>49.922119</td>\n      <td>2025-06-01</td>\n      <td>-0.401585</td>\n      <td>0.222599</td>\n      <td>0.134650</td>\n      <td>-1.113765</td>\n      <td>0.134650</td>\n      <td>0.686008</td>\n      <td>-0.318354</td>\n      <td>...</td>\n      <td>0</td>\n      <td>0</td>\n      <td>0</td>\n      <td>0</td>\n      <td>0</td>\n      <td>0</td>\n      <td>0</td>\n      <td>0</td>\n      <td>0</td>\n      <td>1</td>\n    </tr>\n    <tr>\n      <th>...</th>\n      <td>...</td>\n      <td>...</td>\n      <td>...</td>\n      <td>...</td>\n      <td>...</td>\n      <td>...</td>\n      <td>...</td>\n      <td>...</td>\n      <td>...</td>\n      <td>...</td>\n      <td>...</td>\n      <td>...</td>\n      <td>...</td>\n      <td>...</td>\n      <td>...</td>\n      <td>...</td>\n      <td>...</td>\n      <td>...</td>\n      <td>...</td>\n      <td>...</td>\n      <td>...</td>\n    </tr>\n    <tr>\n      <th>243512</th>\n      <td>-0.808766</td>\n      <td>60.824609</td>\n      <td>2025-06-01</td>\n      <td>-0.740416</td>\n      <td>-0.614919</td>\n      <td>-0.974530</td>\n      <td>0.415788</td>\n      <td>-0.974530</td>\n      <td>0.624211</td>\n      <td>-0.883607</td>\n      <td>...</td>\n      <td>0</td>\n      <td>0</td>\n      <td>0</td>\n      <td>0</td>\n      <td>0</td>\n      <td>0</td>\n      <td>0</td>\n      <td>0</td>\n      <td>0</td>\n      <td>0</td>\n    </tr>\n    <tr>\n      <th>243513</th>\n      <td>-0.790383</td>\n      <td>60.824445</td>\n      <td>2025-06-01</td>\n      <td>0.941436</td>\n      <td>-0.357072</td>\n      <td>0.892372</td>\n      <td>0.852765</td>\n      <td>0.892372</td>\n      <td>-0.670896</td>\n      <td>1.518895</td>\n      <td>...</td>\n      <td>0</td>\n      <td>0</td>\n      <td>0</td>\n      <td>0</td>\n      <td>0</td>\n      <td>0</td>\n      <td>0</td>\n      <td>0</td>\n      <td>0</td>\n      <td>0</td>\n    </tr>\n    <tr>\n      <th>243514</th>\n      <td>-0.881988</td>\n      <td>60.834217</td>\n      <td>2025-06-01</td>\n      <td>-0.591414</td>\n      <td>-0.519491</td>\n      <td>-0.719325</td>\n      <td>0.208002</td>\n      <td>-0.719325</td>\n      <td>0.558306</td>\n      <td>-0.710694</td>\n      <td>...</td>\n      <td>0</td>\n      <td>0</td>\n      <td>0</td>\n      <td>0</td>\n      <td>0</td>\n      <td>0</td>\n      <td>0</td>\n      <td>0</td>\n      <td>0</td>\n      <td>0</td>\n    </tr>\n    <tr>\n      <th>243515</th>\n      <td>-0.845210</td>\n      <td>60.833906</td>\n      <td>2025-06-01</td>\n      <td>0.478226</td>\n      <td>-0.652802</td>\n      <td>0.129809</td>\n      <td>1.220568</td>\n      <td>0.129809</td>\n      <td>-0.648737</td>\n      <td>0.856587</td>\n      <td>...</td>\n      <td>0</td>\n      <td>0</td>\n      <td>0</td>\n      <td>0</td>\n      <td>0</td>\n      <td>0</td>\n      <td>0</td>\n      <td>0</td>\n      <td>0</td>\n      <td>0</td>\n    </tr>\n    <tr>\n      <th>243516</th>\n      <td>-0.881674</td>\n      <td>60.843193</td>\n      <td>2025-06-01</td>\n      <td>-0.134924</td>\n      <td>-0.528138</td>\n      <td>-0.170067</td>\n      <td>0.215333</td>\n      <td>-0.170067</td>\n      <td>0.246185</td>\n      <td>-0.137233</td>\n      <td>...</td>\n      <td>0</td>\n      <td>0</td>\n      <td>0</td>\n      <td>0</td>\n      <td>0</td>\n      <td>0</td>\n      <td>0</td>\n      <td>0</td>\n      <td>0</td>\n      <td>0</td>\n    </tr>\n  </tbody>\n</table>\n<p>243517 rows × 34 columns</p>\n</div>"
     },
     "execution_count": 17,
     "metadata": {},
     "output_type": "execute_result"
    }
   ],
   "source": [
    "df = pd.read_csv(\"brown_hare_inference_data_preprocessed.csv\")\n",
    "df = pd.get_dummies(df, columns=['Land_cover'])\n",
    "df = df.astype({col: 'int' for col in df.select_dtypes(include='bool').columns})\n",
    "\n",
    "#read scaler\n",
    "import joblib\n",
    "scaler = joblib.load(\"brown_hare_scaler.pkl\")\n",
    "# Scale the data\n",
    "env_vars = ['BSI', 'LST', 'MNDWI', 'NDBI', 'NDSI', 'NDVI', 'NDWI', 'SAVI', 'UI']\n",
    "df[env_vars] = scaler.transform(df[env_vars])\n",
    "# drop Unnamed: 0\n",
    "df = df.drop(columns=['Unnamed: 0'])\n",
    "df"
   ],
   "metadata": {
    "collapsed": false,
    "ExecuteTime": {
     "end_time": "2025-08-05T22:17:28.962931Z",
     "start_time": "2025-08-05T22:17:28.224279Z"
    }
   },
   "id": "a21724e0136bba06"
  },
  {
   "cell_type": "code",
   "execution_count": 20,
   "outputs": [],
   "source": [
    "df.to_csv(\"brown_hare_inference_data_preprocessed_final.csv\", index=False)"
   ],
   "metadata": {
    "collapsed": false,
    "ExecuteTime": {
     "end_time": "2025-08-05T22:25:27.697858Z",
     "start_time": "2025-08-05T22:25:25.303235Z"
    }
   },
   "id": "4d8d58f631bd2feb"
  },
  {
   "cell_type": "code",
   "execution_count": 30,
   "outputs": [
    {
     "data": {
      "text/plain": "        decimalLongitude  decimalLatitude   eventDate       BSI       LST  \\\n0              -6.347425        49.893656  2025-06-01  0.184310  0.231058   \n1              -6.321265        49.912633  2025-06-01  0.365374 -1.104642   \n2              -6.307377        49.913150  2025-06-01 -0.397970  0.233714   \n3              -6.293488        49.913666  2025-06-01 -0.820724  0.331327   \n4              -6.308177        49.922119  2025-06-01 -0.401585  0.222599   \n...                  ...              ...         ...       ...       ...   \n243512         -0.808766        60.824609  2025-06-01 -0.740416 -0.614919   \n243513         -0.790383        60.824445  2025-06-01  0.941436 -0.357072   \n243514         -0.881988        60.834217  2025-06-01 -0.591414 -0.519491   \n243515         -0.845210        60.833906  2025-06-01  0.478226 -0.652802   \n243516         -0.881674        60.843193  2025-06-01 -0.134924 -0.528138   \n\n           MNDWI      NDBI      NDSI      NDVI      NDWI  ...  \\\n0       0.343424 -0.211261  0.343424  0.026862  0.178613  ...   \n1       0.555786 -0.253331  0.555786 -0.156918  0.457769  ...   \n2      -0.123975 -0.548689 -0.123975  0.572024 -0.418334  ...   \n3      -0.436521 -0.872250 -0.436521  1.035870 -0.900855  ...   \n4       0.134650 -1.113765  0.134650  0.686008 -0.318354  ...   \n...          ...       ...       ...       ...       ...  ...   \n243512 -0.974530  0.415788 -0.974530  0.624211 -0.883607  ...   \n243513  0.892372  0.852765  0.892372 -0.670896  1.518895  ...   \n243514 -0.719325  0.208002 -0.719325  0.558306 -0.710694  ...   \n243515  0.129809  1.220568  0.129809 -0.648737  0.856587  ...   \n243516 -0.170067  0.215333 -0.170067  0.246185 -0.137233  ...   \n\n        Land_cover_Littoral rock  Land_cover_Littoral sediment  \\\n0                              0                             0   \n1                              0                             0   \n2                              0                             0   \n3                              0                             0   \n4                              0                             0   \n...                          ...                           ...   \n243512                         0                             0   \n243513                         0                             0   \n243514                         0                             0   \n243515                         0                             0   \n243516                         0                             0   \n\n        Land_cover_Neutral grassland  Land_cover_Saltmarsh  \\\n0                                  0                     0   \n1                                  0                     0   \n2                                  0                     0   \n3                                  0                     0   \n4                                  0                     0   \n...                              ...                   ...   \n243512                             0                     0   \n243513                             0                     0   \n243514                             0                     0   \n243515                             0                     0   \n243516                             0                     0   \n\n        Land_cover_Saltwater  Land_cover_Suburban  \\\n0                          0                    1   \n1                          0                    0   \n2                          0                    1   \n3                          0                    0   \n4                          0                    0   \n...                      ...                  ...   \n243512                     0                    0   \n243513                     0                    0   \n243514                     0                    0   \n243515                     0                    0   \n243516                     0                    0   \n\n        Land_cover_Supralittoral rock  Land_cover_Supralittoral sediment  \\\n0                                   0                                  0   \n1                                   0                                  0   \n2                                   0                                  0   \n3                                   0                                  0   \n4                                   0                                  0   \n...                               ...                                ...   \n243512                              0                                  0   \n243513                              0                                  0   \n243514                              0                                  0   \n243515                              0                                  0   \n243516                              0                                  0   \n\n        Land_cover_Urban  probability  \n0                      0     0.207660  \n1                      0     0.418381  \n2                      0     0.245286  \n3                      0     0.472805  \n4                      1     0.181361  \n...                  ...          ...  \n243512                 0     0.711116  \n243513                 0     0.245168  \n243514                 0     0.697803  \n243515                 0     0.599390  \n243516                 0     0.636528  \n\n[243517 rows x 35 columns]",
      "text/html": "<div>\n<style scoped>\n    .dataframe tbody tr th:only-of-type {\n        vertical-align: middle;\n    }\n\n    .dataframe tbody tr th {\n        vertical-align: top;\n    }\n\n    .dataframe thead th {\n        text-align: right;\n    }\n</style>\n<table border=\"1\" class=\"dataframe\">\n  <thead>\n    <tr style=\"text-align: right;\">\n      <th></th>\n      <th>decimalLongitude</th>\n      <th>decimalLatitude</th>\n      <th>eventDate</th>\n      <th>BSI</th>\n      <th>LST</th>\n      <th>MNDWI</th>\n      <th>NDBI</th>\n      <th>NDSI</th>\n      <th>NDVI</th>\n      <th>NDWI</th>\n      <th>...</th>\n      <th>Land_cover_Littoral rock</th>\n      <th>Land_cover_Littoral sediment</th>\n      <th>Land_cover_Neutral grassland</th>\n      <th>Land_cover_Saltmarsh</th>\n      <th>Land_cover_Saltwater</th>\n      <th>Land_cover_Suburban</th>\n      <th>Land_cover_Supralittoral rock</th>\n      <th>Land_cover_Supralittoral sediment</th>\n      <th>Land_cover_Urban</th>\n      <th>probability</th>\n    </tr>\n  </thead>\n  <tbody>\n    <tr>\n      <th>0</th>\n      <td>-6.347425</td>\n      <td>49.893656</td>\n      <td>2025-06-01</td>\n      <td>0.184310</td>\n      <td>0.231058</td>\n      <td>0.343424</td>\n      <td>-0.211261</td>\n      <td>0.343424</td>\n      <td>0.026862</td>\n      <td>0.178613</td>\n      <td>...</td>\n      <td>0</td>\n      <td>0</td>\n      <td>0</td>\n      <td>0</td>\n      <td>0</td>\n      <td>1</td>\n      <td>0</td>\n      <td>0</td>\n      <td>0</td>\n      <td>0.207660</td>\n    </tr>\n    <tr>\n      <th>1</th>\n      <td>-6.321265</td>\n      <td>49.912633</td>\n      <td>2025-06-01</td>\n      <td>0.365374</td>\n      <td>-1.104642</td>\n      <td>0.555786</td>\n      <td>-0.253331</td>\n      <td>0.555786</td>\n      <td>-0.156918</td>\n      <td>0.457769</td>\n      <td>...</td>\n      <td>0</td>\n      <td>0</td>\n      <td>0</td>\n      <td>0</td>\n      <td>0</td>\n      <td>0</td>\n      <td>0</td>\n      <td>0</td>\n      <td>0</td>\n      <td>0.418381</td>\n    </tr>\n    <tr>\n      <th>2</th>\n      <td>-6.307377</td>\n      <td>49.913150</td>\n      <td>2025-06-01</td>\n      <td>-0.397970</td>\n      <td>0.233714</td>\n      <td>-0.123975</td>\n      <td>-0.548689</td>\n      <td>-0.123975</td>\n      <td>0.572024</td>\n      <td>-0.418334</td>\n      <td>...</td>\n      <td>0</td>\n      <td>0</td>\n      <td>0</td>\n      <td>0</td>\n      <td>0</td>\n      <td>1</td>\n      <td>0</td>\n      <td>0</td>\n      <td>0</td>\n      <td>0.245286</td>\n    </tr>\n    <tr>\n      <th>3</th>\n      <td>-6.293488</td>\n      <td>49.913666</td>\n      <td>2025-06-01</td>\n      <td>-0.820724</td>\n      <td>0.331327</td>\n      <td>-0.436521</td>\n      <td>-0.872250</td>\n      <td>-0.436521</td>\n      <td>1.035870</td>\n      <td>-0.900855</td>\n      <td>...</td>\n      <td>0</td>\n      <td>0</td>\n      <td>0</td>\n      <td>0</td>\n      <td>0</td>\n      <td>0</td>\n      <td>0</td>\n      <td>0</td>\n      <td>0</td>\n      <td>0.472805</td>\n    </tr>\n    <tr>\n      <th>4</th>\n      <td>-6.308177</td>\n      <td>49.922119</td>\n      <td>2025-06-01</td>\n      <td>-0.401585</td>\n      <td>0.222599</td>\n      <td>0.134650</td>\n      <td>-1.113765</td>\n      <td>0.134650</td>\n      <td>0.686008</td>\n      <td>-0.318354</td>\n      <td>...</td>\n      <td>0</td>\n      <td>0</td>\n      <td>0</td>\n      <td>0</td>\n      <td>0</td>\n      <td>0</td>\n      <td>0</td>\n      <td>0</td>\n      <td>1</td>\n      <td>0.181361</td>\n    </tr>\n    <tr>\n      <th>...</th>\n      <td>...</td>\n      <td>...</td>\n      <td>...</td>\n      <td>...</td>\n      <td>...</td>\n      <td>...</td>\n      <td>...</td>\n      <td>...</td>\n      <td>...</td>\n      <td>...</td>\n      <td>...</td>\n      <td>...</td>\n      <td>...</td>\n      <td>...</td>\n      <td>...</td>\n      <td>...</td>\n      <td>...</td>\n      <td>...</td>\n      <td>...</td>\n      <td>...</td>\n      <td>...</td>\n    </tr>\n    <tr>\n      <th>243512</th>\n      <td>-0.808766</td>\n      <td>60.824609</td>\n      <td>2025-06-01</td>\n      <td>-0.740416</td>\n      <td>-0.614919</td>\n      <td>-0.974530</td>\n      <td>0.415788</td>\n      <td>-0.974530</td>\n      <td>0.624211</td>\n      <td>-0.883607</td>\n      <td>...</td>\n      <td>0</td>\n      <td>0</td>\n      <td>0</td>\n      <td>0</td>\n      <td>0</td>\n      <td>0</td>\n      <td>0</td>\n      <td>0</td>\n      <td>0</td>\n      <td>0.711116</td>\n    </tr>\n    <tr>\n      <th>243513</th>\n      <td>-0.790383</td>\n      <td>60.824445</td>\n      <td>2025-06-01</td>\n      <td>0.941436</td>\n      <td>-0.357072</td>\n      <td>0.892372</td>\n      <td>0.852765</td>\n      <td>0.892372</td>\n      <td>-0.670896</td>\n      <td>1.518895</td>\n      <td>...</td>\n      <td>0</td>\n      <td>0</td>\n      <td>0</td>\n      <td>0</td>\n      <td>0</td>\n      <td>0</td>\n      <td>0</td>\n      <td>0</td>\n      <td>0</td>\n      <td>0.245168</td>\n    </tr>\n    <tr>\n      <th>243514</th>\n      <td>-0.881988</td>\n      <td>60.834217</td>\n      <td>2025-06-01</td>\n      <td>-0.591414</td>\n      <td>-0.519491</td>\n      <td>-0.719325</td>\n      <td>0.208002</td>\n      <td>-0.719325</td>\n      <td>0.558306</td>\n      <td>-0.710694</td>\n      <td>...</td>\n      <td>0</td>\n      <td>0</td>\n      <td>0</td>\n      <td>0</td>\n      <td>0</td>\n      <td>0</td>\n      <td>0</td>\n      <td>0</td>\n      <td>0</td>\n      <td>0.697803</td>\n    </tr>\n    <tr>\n      <th>243515</th>\n      <td>-0.845210</td>\n      <td>60.833906</td>\n      <td>2025-06-01</td>\n      <td>0.478226</td>\n      <td>-0.652802</td>\n      <td>0.129809</td>\n      <td>1.220568</td>\n      <td>0.129809</td>\n      <td>-0.648737</td>\n      <td>0.856587</td>\n      <td>...</td>\n      <td>0</td>\n      <td>0</td>\n      <td>0</td>\n      <td>0</td>\n      <td>0</td>\n      <td>0</td>\n      <td>0</td>\n      <td>0</td>\n      <td>0</td>\n      <td>0.599390</td>\n    </tr>\n    <tr>\n      <th>243516</th>\n      <td>-0.881674</td>\n      <td>60.843193</td>\n      <td>2025-06-01</td>\n      <td>-0.134924</td>\n      <td>-0.528138</td>\n      <td>-0.170067</td>\n      <td>0.215333</td>\n      <td>-0.170067</td>\n      <td>0.246185</td>\n      <td>-0.137233</td>\n      <td>...</td>\n      <td>0</td>\n      <td>0</td>\n      <td>0</td>\n      <td>0</td>\n      <td>0</td>\n      <td>0</td>\n      <td>0</td>\n      <td>0</td>\n      <td>0</td>\n      <td>0.636528</td>\n    </tr>\n  </tbody>\n</table>\n<p>243517 rows × 35 columns</p>\n</div>"
     },
     "execution_count": 30,
     "metadata": {},
     "output_type": "execute_result"
    }
   ],
   "source": [
    "df = pd.read_csv(\"brown_hare_inference_data_preprocessed_final.csv\")\n",
    "#read model from brown_hare_model.pkl\n",
    "import joblib\n",
    "model = joblib.load(\"brown_hare_model.pkl\")\n",
    "# predict_proba\n",
    "probabilities = model.predict_proba(df.drop(columns=['decimalLatitude', 'decimalLongitude', 'eventDate']))\n",
    "# add probabilities to df\n",
    "df['probability'] = probabilities[:, 1]  # Assuming the second column is the positive class\n",
    "df.to_csv(\"brown_hare_results.csv\", index=False)\n",
    "df"
   ],
   "metadata": {
    "collapsed": false,
    "ExecuteTime": {
     "end_time": "2025-08-05T22:46:42.721269Z",
     "start_time": "2025-08-05T22:46:39.916149Z"
    }
   },
   "id": "f8c1863f9dd5fd1b"
  },
  {
   "cell_type": "code",
   "execution_count": null,
   "outputs": [],
   "source": [],
   "metadata": {
    "collapsed": false
   },
   "id": "9d9849f82a4d355f"
  }
 ],
 "metadata": {
  "kernelspec": {
   "display_name": "Python 3",
   "language": "python",
   "name": "python3"
  },
  "language_info": {
   "codemirror_mode": {
    "name": "ipython",
    "version": 2
   },
   "file_extension": ".py",
   "mimetype": "text/x-python",
   "name": "python",
   "nbconvert_exporter": "python",
   "pygments_lexer": "ipython2",
   "version": "2.7.6"
  }
 },
 "nbformat": 4,
 "nbformat_minor": 5
}
