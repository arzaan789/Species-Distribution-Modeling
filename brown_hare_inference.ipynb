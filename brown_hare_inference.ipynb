{
 "cells": [
  {
   "cell_type": "code",
   "execution_count": 1,
   "id": "initial_id",
   "metadata": {
    "collapsed": true,
    "ExecuteTime": {
     "end_time": "2025-08-05T21:53:53.083527Z",
     "start_time": "2025-08-05T21:53:52.796223Z"
    }
   },
   "outputs": [],
   "source": [
    "import pandas as pd\n",
    "df = pd.read_csv(\"inference_data_indices.csv\")\n",
    "df['eventDate'] = pd.to_datetime(df['eventDate'], format='%Y-%m-%d', errors='coerce')"
   ]
  },
  {
   "cell_type": "code",
   "execution_count": 2,
   "outputs": [
    {
     "name": "stderr",
     "output_type": "stream",
     "text": [
      "/var/folders/0n/sggn66691kd6g5mtyzpq2hv80000gn/T/ipykernel_79347/2925844888.py:1: DtypeWarning: Columns (39,41,46) have mixed types. Specify dtype option on import or set low_memory=False.\n",
      "  winter_wheat = pd.read_csv(\"winter wheat.csv\", delimiter='\\t')\n"
     ]
    }
   ],
   "source": [
    "winter_wheat = pd.read_csv(\"winter wheat.csv\", delimiter='\\t')\n",
    "winter_wheat = winter_wheat[winter_wheat[\"occurrenceStatus\"] == \"PRESENT\"]\n",
    "winter_wheat = winter_wheat[winter_wheat['year'] >= 2022]\n",
    "winter_wheat['eventDate'] = pd.to_datetime(winter_wheat['eventDate'], format='%Y-%m-%d', errors='coerce')\n",
    "winter_wheat = winter_wheat[['species', 'decimalLatitude', 'decimalLongitude', 'eventDate']]\n",
    "winter_wheat = winter_wheat.dropna().reset_index(drop=True)\n"
   ],
   "metadata": {
    "collapsed": false,
    "ExecuteTime": {
     "end_time": "2025-08-05T21:53:53.858919Z",
     "start_time": "2025-08-05T21:53:53.710516Z"
    }
   },
   "id": "10ac377892d97193"
  },
  {
   "cell_type": "code",
   "execution_count": 4,
   "outputs": [
    {
     "name": "stderr",
     "output_type": "stream",
     "text": [
      "100%|██████████| 244359/244359 [00:08<00:00, 29175.87it/s]\n"
     ]
    }
   ],
   "source": [
    "import numpy as np\n",
    "from sklearn.neighbors import BallTree\n",
    "from tqdm import tqdm\n",
    "# Convert lat/lon to radians for BallTree\n",
    "brown_hare_coords = np.deg2rad(df[['decimalLatitude', 'decimalLongitude']].values)\n",
    "winter_wheat_coords = np.deg2rad(winter_wheat[['decimalLatitude', 'decimalLongitude']].values)\n",
    "\n",
    "# Build BallTree using haversine metric\n",
    "tree = BallTree(winter_wheat_coords, metric='haversine')\n",
    "\n",
    "# Define search radius: 1 km in radians\n",
    "earth_radius_km = 6371.0\n",
    "radius = 1 / earth_radius_km  # 1 km in radians\n",
    "\n",
    "# Initialize presence columns\n",
    "df['winter_wheat_presence'] = 0\n",
    "\n",
    "# Iterate through each brown hare point with tqdm for progress tracking\n",
    "for i in tqdm(range(len(df))):\n",
    "    point = brown_hare_coords[i].reshape(1, -1)\n",
    "    event_month = df.loc[i, 'eventDate'].month\n",
    "    event_year = df.loc[i, 'eventDate'].year\n",
    "\n",
    "    # WINTER WHEAT\n",
    "    idxs = tree.query_radius(point, r=radius)[0]\n",
    "    for j in idxs:\n",
    "        winter_wheat_date = winter_wheat.loc[j, 'eventDate']\n",
    "        if winter_wheat_date.month == event_month and winter_wheat_date.year == event_year:\n",
    "            df.at[i, 'winter_wheat_presence'] = 1\n",
    "            break  # Found at least one match, no need to check further"
   ],
   "metadata": {
    "collapsed": false,
    "ExecuteTime": {
     "end_time": "2025-08-05T21:54:22.704621Z",
     "start_time": "2025-08-05T21:54:14.261587Z"
    }
   },
   "id": "d28b1f1fbc9450a8"
  },
  {
   "cell_type": "code",
   "execution_count": null,
   "outputs": [
    {
     "name": "stderr",
     "output_type": "stream",
     "text": [
      "  0%|          | 1119/244359 [00:02<08:15, 491.33it/s]"
     ]
    },
    {
     "name": "stdout",
     "output_type": "stream",
     "text": [
      "Error processing row: index 0 is out of bounds for axis 0 with size 0\n"
     ]
    },
    {
     "name": "stderr",
     "output_type": "stream",
     "text": [
      " 19%|█▉        | 46182/244359 [01:42<07:02, 469.55it/s]"
     ]
    },
    {
     "name": "stdout",
     "output_type": "stream",
     "text": [
      "Error processing row: index 0 is out of bounds for axis 0 with size 0\n"
     ]
    },
    {
     "name": "stderr",
     "output_type": "stream",
     "text": [
      " 32%|███▏      | 79287/244359 [02:59<06:17, 437.00it/s]"
     ]
    },
    {
     "name": "stdout",
     "output_type": "stream",
     "text": [
      "Error processing row: index 0 is out of bounds for axis 0 with size 0\n"
     ]
    },
    {
     "name": "stderr",
     "output_type": "stream",
     "text": [
      " 61%|██████    | 148877/244359 [06:22<04:28, 355.26it/s]"
     ]
    },
    {
     "name": "stdout",
     "output_type": "stream",
     "text": [
      "Error processing row: index 0 is out of bounds for axis 1 with size 0\n"
     ]
    },
    {
     "name": "stderr",
     "output_type": "stream",
     "text": [
      " 69%|██████▉   | 168885/244359 [07:50<06:19, 198.73it/s]"
     ]
    }
   ],
   "source": [
    "from pyproj import Transformer\n",
    "from rasterio.windows import Window\n",
    "import rasterio\n",
    "land_cover_map = {\n",
    "    1: \"Deciduous woodland\",\n",
    "    2: \"Coniferous woodland\",\n",
    "    3: \"Arable\",\n",
    "    4: \"Improved grassland\",\n",
    "    5: \"Neutral grassland\",\n",
    "    6: \"Calcareous grassland\",\n",
    "    7: \"Acid grassland\",\n",
    "    8: \"Fen\",\n",
    "    9: \"Heather\",\n",
    "    10: \"Heather grassland\",\n",
    "    11: \"Bog\",\n",
    "    12: \"Inland rock\",\n",
    "    13: \"Saltwater\",\n",
    "    14: \"Freshwater\",\n",
    "    15: \"Supralittoral rock\",\n",
    "    16: \"Supralittoral sediment\",\n",
    "    17: \"Littoral rock\",\n",
    "    18: \"Littoral sediment\",\n",
    "    19: \"Saltmarsh\",\n",
    "    20: \"Urban\",\n",
    "    21: \"Suburban\"\n",
    "}\n",
    "\n",
    "# Batch coordinate transformation\n",
    "transformer_ni = Transformer.from_crs(\"EPSG:4326\", \"EPSG:29903\", always_xy=True)\n",
    "transformer_gb = Transformer.from_crs(\"EPSG:4326\", \"EPSG:27700\", always_xy=True)\n",
    "\n",
    "coords = list(zip(df['decimalLongitude'], df['decimalLatitude']))\n",
    "df['easting_ni'], df['northing_ni'] = zip(*transformer_ni.itransform(coords))\n",
    "df['easting_gb'], df['northing_gb'] = zip(*transformer_gb.itransform(coords))\n",
    "\n",
    "# Raster processing optimization\n",
    "gb_raster = 'gblcm2023_10m.tif'\n",
    "n_ireland_raster = 'nilcm2023_10m.tif'\n",
    "\n",
    "\n",
    "def get_land_cover_class(row):\n",
    "    try:\n",
    "        # Try GB raster first\n",
    "        with rasterio.open(gb_raster) as src:\n",
    "            row_idx, col_idx = src.index(row['easting_gb'], row['northing_gb'])\n",
    "            # Read a small window around the point for better performance\n",
    "            window = Window(col_idx, row_idx, 1, 1)\n",
    "            land_cover_class = src.read(1, window=window)[0, 0]\n",
    "\n",
    "            if land_cover_class == 0:  # Check NI raster if GB is 0\n",
    "                with rasterio.open(n_ireland_raster) as src_ni:\n",
    "                    row_idx, col_idx = src_ni.index(row['easting_ni'], row['northing_ni'])\n",
    "                    window = Window(col_idx, row_idx, 1, 1)\n",
    "                    land_cover_class = src_ni.read(1, window=window)[0, 0]\n",
    "\n",
    "        return land_cover_map.get(land_cover_class, \"Unknown\")\n",
    "    except Exception as e:\n",
    "        print(f\"Error processing row: {e}\")\n",
    "        return \"Unknown\"\n",
    "\n",
    "\n",
    "tqdm.pandas()\n",
    "df['Land_cover'] = df.progress_apply(get_land_cover_class, axis=1)\n"
   ],
   "metadata": {
    "collapsed": false,
    "is_executing": true,
    "ExecuteTime": {
     "start_time": "2025-08-05T21:54:22.709648Z"
    }
   },
   "id": "3870237ce4520bcc"
  },
  {
   "cell_type": "code",
   "execution_count": null,
   "outputs": [],
   "source": [
    "df = df.dropna()\n",
    "df=df.drop(['easting_ni', 'northing_ni', 'easting_gb', 'northing_gb'],axis=1)\n",
    "# Remove where Land_cover is Unknown\n",
    "df = df[df['Land_cover'] != \"Unknown\"].reset_index(drop=True)\n",
    "df.to_csv(\"brown_hare_inference_data_preprocessed.csv\")\n"
   ],
   "metadata": {
    "collapsed": false,
    "is_executing": true
   },
   "id": "4210b4deffe0d39c"
  },
  {
   "cell_type": "code",
   "execution_count": null,
   "outputs": [],
   "source": [],
   "metadata": {
    "collapsed": false
   },
   "id": "a21724e0136bba06"
  }
 ],
 "metadata": {
  "kernelspec": {
   "display_name": "Python 3",
   "language": "python",
   "name": "python3"
  },
  "language_info": {
   "codemirror_mode": {
    "name": "ipython",
    "version": 2
   },
   "file_extension": ".py",
   "mimetype": "text/x-python",
   "name": "python",
   "nbconvert_exporter": "python",
   "pygments_lexer": "ipython2",
   "version": "2.7.6"
  }
 },
 "nbformat": 4,
 "nbformat_minor": 5
}
