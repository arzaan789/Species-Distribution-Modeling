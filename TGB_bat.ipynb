{
 "cells": [
  {
   "cell_type": "code",
   "execution_count": 2,
   "id": "initial_id",
   "metadata": {
    "collapsed": true,
    "ExecuteTime": {
     "end_time": "2025-06-15T03:40:17.932120Z",
     "start_time": "2025-06-15T03:39:53.999387Z"
    }
   },
   "outputs": [
    {
     "data": {
      "text/plain": "<IPython.core.display.HTML object>",
      "text/html": "<p>To authorize access needed by Earth Engine, open the following\n        URL in a web browser and follow the instructions:</p>\n        <p><a href=https://code.earthengine.google.com/client-auth?scopes=https%3A//www.googleapis.com/auth/earthengine%20https%3A//www.googleapis.com/auth/cloud-platform%20https%3A//www.googleapis.com/auth/devstorage.full_control&request_id=DM7GhdVFSuwYWyBN8yyQPoXixNjmMPfb2mdb-Ugj_hc&tc=HmrkKgugApk0QlmGLYo0TVsoLppoWsQ5YZL_mZ_OYzw&cc=Hwdd_wJdIJ2HjterRjEeCWQDiAaNLa6NrgHpAzM9oX0>https://code.earthengine.google.com/client-auth?scopes=https%3A//www.googleapis.com/auth/earthengine%20https%3A//www.googleapis.com/auth/cloud-platform%20https%3A//www.googleapis.com/auth/devstorage.full_control&request_id=DM7GhdVFSuwYWyBN8yyQPoXixNjmMPfb2mdb-Ugj_hc&tc=HmrkKgugApk0QlmGLYo0TVsoLppoWsQ5YZL_mZ_OYzw&cc=Hwdd_wJdIJ2HjterRjEeCWQDiAaNLa6NrgHpAzM9oX0</a></p>\n        <p>The authorization workflow will generate a code, which you should paste in the box below.</p>\n        "
     },
     "metadata": {},
     "output_type": "display_data"
    },
    {
     "name": "stdout",
     "output_type": "stream",
     "text": [
      "\n",
      "Successfully saved authorization token.\n"
     ]
    }
   ],
   "source": [
    "import ee\n",
    "\n",
    "# Trigger the authentication flow.\n",
    "ee.Authenticate()\n",
    "\n",
    "ee.Initialize(project='ee-arzaaan789')"
   ]
  },
  {
   "cell_type": "code",
   "execution_count": 4,
   "outputs": [
    {
     "name": "stderr",
     "output_type": "stream",
     "text": [
      "/var/folders/0n/sggn66691kd6g5mtyzpq2hv80000gn/T/ipykernel_48185/3320037435.py:4: DtypeWarning: Columns (2,10,16,38,39,40,41,45,46,48) have mixed types. Specify dtype option on import or set low_memory=False.\n",
      "  df = pd.read_csv(\"TGB_bat.csv\", delimiter='\\t')\n"
     ]
    }
   ],
   "source": [
    "import pandas as pd\n",
    "from tqdm import tqdm\n",
    "\n",
    "df = pd.read_csv(\"TGB_bat.csv\", delimiter='\\t')\n",
    "df = df[df[\"occurrenceStatus\"] == \"PRESENT\"]\n",
    "df = df[df['year']>=2022]\n",
    "# df['eventDate'] = df['eventDate'].str.replace('/','')\n",
    "df['eventDate'] = pd.to_datetime(df['eventDate'], format='%Y-%m-%d', errors='coerce')\n",
    "df = df[['species', 'decimalLatitude', 'decimalLongitude', 'eventDate']]\n",
    "df = df.dropna().reset_index(drop=True)"
   ],
   "metadata": {
    "collapsed": false,
    "ExecuteTime": {
     "end_time": "2025-06-15T03:43:33.932548Z",
     "start_time": "2025-06-15T03:43:32.830944Z"
    }
   },
   "id": "bd89dd4aa291f510"
  },
  {
   "cell_type": "code",
   "execution_count": 5,
   "outputs": [
    {
     "name": "stderr",
     "output_type": "stream",
     "text": [
      "Processing batches: 100%|██████████| 140/140 [06:45<00:00,  2.89s/it]"
     ]
    },
    {
     "name": "stdout",
     "output_type": "stream",
     "text": [
      "                     species  decimalLatitude  decimalLongitude  eventDate  \\\n",
      "0  Pipistrellus pipistrellus        52.619031         -0.834527 2022-06-22   \n",
      "1  Pipistrellus pipistrellus        52.619031         -0.834527 2022-06-26   \n",
      "2  Pipistrellus pipistrellus        52.619031         -0.834527 2022-06-28   \n",
      "3  Pipistrellus pipistrellus        52.619031         -0.834527 2022-07-25   \n",
      "4  Pipistrellus pipistrellus        52.619031         -0.834527 2022-06-23   \n",
      "\n",
      "        BSI         LST     MNDWI      NDBI      NDSI      NDVI      NDWI  \\\n",
      "0 -0.748604  296.632402 -0.485945 -0.364947 -0.485945  0.776133 -0.718489   \n",
      "1 -0.685741  297.862372 -0.505891 -0.238189 -0.505891  0.672734 -0.660273   \n",
      "2 -0.685741  297.862372 -0.505891 -0.238189 -0.505891  0.672734 -0.660273   \n",
      "3 -0.685741  303.103360 -0.505891 -0.238189 -0.505891  0.672734 -0.660273   \n",
      "4 -0.748604  296.823268 -0.485945 -0.364947 -0.485945  0.776133 -0.718489   \n",
      "\n",
      "       SAVI        UI  \n",
      "0  1.164067  0.364947  \n",
      "1  1.008978  0.238189  \n",
      "2  1.008978  0.238189  \n",
      "3  1.008978  0.238189  \n",
      "4  1.164067  0.364947  \n"
     ]
    },
    {
     "name": "stderr",
     "output_type": "stream",
     "text": [
      "\n"
     ]
    }
   ],
   "source": [
    "import ee\n",
    "import pandas as pd\n",
    "from datetime import datetime, timedelta\n",
    "from tqdm import tqdm\n",
    "\n",
    "# ee.Initialize()\n",
    "\n",
    "# Your dataframe 'df' must have columns: decimalLongitude, decimalLatitude\n",
    "# Example: df = pd.read_csv(\"Erinaceus europaeus.csv\", delimiter='\\t')\n",
    "\n",
    "def create_aoi(lon, lat, box_size_km=1):\n",
    "    \"\"\"Create approx 1km x 1km square polygon around lon, lat.\"\"\"\n",
    "    half_side_deg = box_size_km / 111.32 / 2  # Rough approx degrees per km\n",
    "\n",
    "    coords = [\n",
    "        [lon - half_side_deg, lat - half_side_deg],\n",
    "        [lon + half_side_deg, lat - half_side_deg],\n",
    "        [lon + half_side_deg, lat + half_side_deg],\n",
    "        [lon - half_side_deg, lat + half_side_deg],\n",
    "        [lon - half_side_deg, lat - half_side_deg]\n",
    "    ]\n",
    "    return ee.Geometry.Polygon(coords)\n",
    "\n",
    "def compute_all_indices(feature, start_date, end_date):\n",
    "    \"\"\"Compute spectral indices and LST for one EE Feature (with AOI geometry).\"\"\"\n",
    "    aoi = feature.geometry()\n",
    "\n",
    "    s2 = (ee.ImageCollection(\"COPERNICUS/S2_SR_HARMONIZED\")\n",
    "          .filterBounds(aoi)\n",
    "          .filterDate(start_date, end_date)\n",
    "          .sort('CLOUDY_PIXEL_PERCENTAGE')\n",
    "          .first())\n",
    "    s2 = ee.Image(s2).clip(aoi)\n",
    "\n",
    "    blue = s2.select('B2')\n",
    "    green = s2.select('B3')\n",
    "    red = s2.select('B4')\n",
    "    nir = s2.select('B8')\n",
    "    swir = s2.select('B11')\n",
    "\n",
    "    L = 0.5  # SAVI constant\n",
    "\n",
    "    ndvi = nir.subtract(red).divide(nir.add(red)).rename('NDVI')\n",
    "    ndwi = green.subtract(nir).divide(green.add(nir)).rename('NDWI')\n",
    "    ndbi = swir.subtract(nir).divide(swir.add(nir)).rename('NDBI')\n",
    "    savi = nir.subtract(red).divide(nir.add(red).add(L)).multiply(1 + L).rename('SAVI')\n",
    "    mndwi = green.subtract(swir).divide(green.add(swir)).rename('MNDWI')\n",
    "    ndsi = green.subtract(swir).divide(green.add(swir)).rename('NDSI')\n",
    "    bsi = (red.add(blue).subtract(nir.add(swir))).divide(red.add(blue).add(nir).add(swir)).rename('BSI')\n",
    "    ui = nir.subtract(swir).divide(nir.add(swir)).rename('UI')\n",
    "\n",
    "    reducers = ee.Reducer.mean()\n",
    "    scale_10m = 10\n",
    "\n",
    "    ndvi_mean = ndvi.reduceRegion(reducers, aoi, scale_10m).get('NDVI')\n",
    "    ndwi_mean = ndwi.reduceRegion(reducers, aoi, scale_10m).get('NDWI')\n",
    "    ndbi_mean = ndbi.reduceRegion(reducers, aoi, scale_10m).get('NDBI')\n",
    "    savi_mean = savi.reduceRegion(reducers, aoi, scale_10m).get('SAVI')\n",
    "    mndwi_mean = mndwi.reduceRegion(reducers, aoi, scale_10m).get('MNDWI')\n",
    "    ndsi_mean = ndsi.reduceRegion(reducers, aoi, scale_10m).get('NDSI')\n",
    "    bsi_mean = bsi.reduceRegion(reducers, aoi, scale_10m).get('BSI')\n",
    "    ui_mean = ui.reduceRegion(reducers, aoi, scale_10m).get('UI')\n",
    "\n",
    "    # MODIS LST dataset\n",
    "    modis = (ee.ImageCollection(\"MODIS/061/MOD11A1\")\n",
    "             .filterBounds(aoi)\n",
    "             .filterDate(start_date, end_date)\n",
    "             .select('LST_Day_1km'))\n",
    "\n",
    "    lst_mean_img = modis.mean().multiply(0.02).clip(aoi)\n",
    "\n",
    "    lst_mean = lst_mean_img.reduceRegion(\n",
    "        reducer=ee.Reducer.mean(),\n",
    "        geometry=aoi,\n",
    "        scale=1000\n",
    "    ).get('LST_Day_1km')\n",
    "\n",
    "    return feature.set({\n",
    "        'NDVI': ndvi_mean,\n",
    "        'NDWI': ndwi_mean,\n",
    "        'NDBI': ndbi_mean,\n",
    "        'SAVI': savi_mean,\n",
    "        'MNDWI': mndwi_mean,\n",
    "        'NDSI': ndsi_mean,\n",
    "        'BSI': bsi_mean,\n",
    "        'UI': ui_mean,\n",
    "        'LST': lst_mean\n",
    "    })\n",
    "\n",
    "# Split df into batches\n",
    "batch_size = 50\n",
    "batches = [df.iloc[i:i+batch_size] for i in range(0, len(df), batch_size)]\n",
    "\n",
    "results_list = []\n",
    "\n",
    "index_names = ['NDVI', 'NDWI', 'NDBI', 'SAVI', 'MNDWI', 'NDSI', 'BSI', 'UI', 'LST']\n",
    "\n",
    "for batch in tqdm(batches, desc=\"Processing batches\"):\n",
    "    features = []\n",
    "    batch_indices = []\n",
    "    feature_metadata = {}\n",
    "\n",
    "    for idx, row in batch.iterrows():\n",
    "        \n",
    "        aoi = create_aoi(row['decimalLongitude'], row['decimalLatitude'])\n",
    "        feature = ee.Feature(aoi).set('index', idx)\n",
    "        features.append(feature)\n",
    "        batch_indices.append(idx)  # Save the original index\n",
    "        \n",
    "        event_date = row['eventDate']\n",
    "        start_date = (event_date - timedelta(days=15)).strftime('%Y-%m-%d')\n",
    "        end_date = (event_date + timedelta(days=15)).strftime('%Y-%m-%d')\n",
    "        feature_metadata[idx] = (start_date, end_date)\n",
    "\n",
    "    # Create a FeatureCollection from the list of features\n",
    "    fc = ee.FeatureCollection(features)\n",
    "    \n",
    "    # Define wrapper for map to inject per-feature dates\n",
    "    def map_with_dates(f):\n",
    "        idx = f.get('index')\n",
    "        # Use dictionary lookup to get dates for this feature\n",
    "        date_dict = ee.Dictionary(ee.Dictionary(feature_metadata))\n",
    "        dates = ee.List(date_dict.get(ee.Number(idx)))\n",
    "        return compute_all_indices(f, dates.get(0), dates.get(1))\n",
    "\n",
    "    try:\n",
    "        result_fc = fc.map(map_with_dates)\n",
    "        results = result_fc.getInfo()\n",
    "\n",
    "        rows = []\n",
    "        for f in results['features']:\n",
    "            props = f['properties']\n",
    "            rows.append(props)\n",
    "\n",
    "    except Exception as e:\n",
    "        print(f\"Error processing batch starting at index {batch.index[0]}: {e}\")\n",
    "        # If there's an error, create placeholder rows with None\n",
    "        rows = [{'index': i, **{name: None for name in index_names}} for i in batch_indices]\n",
    "\n",
    "    batch_results_df = pd.DataFrame(rows).sort_values('index').reset_index(drop=True)\n",
    "    results_list.append(batch_results_df)\n",
    "\n",
    "# Concatenate all batches and sort by original index\n",
    "all_results_df = pd.concat(results_list).sort_values('index').reset_index(drop=True)\n",
    "\n",
    "# Merge with original df\n",
    "df_final = pd.concat([df.reset_index(drop=True), all_results_df.drop(columns=['index'])], axis=1)\n",
    "\n",
    "print(df_final.head())\n"
   ],
   "metadata": {
    "collapsed": false,
    "ExecuteTime": {
     "end_time": "2025-06-15T03:50:20.257122Z",
     "start_time": "2025-06-15T03:43:33.933610Z"
    }
   },
   "id": "53b26562dc01b121"
  },
  {
   "cell_type": "code",
   "execution_count": 6,
   "outputs": [],
   "source": [
    "df_final.to_csv(\"tgb_bat_full_data.csv\", index=False)\n",
    "df = pd.read_csv(\"tgb_bat_full_data.csv\")\n",
    "df['eventDate'] = pd.to_datetime(df['eventDate'], format='%Y-%m-%d', errors='coerce')\n",
    "\n",
    "df = df.dropna().reset_index(drop=True)"
   ],
   "metadata": {
    "collapsed": false,
    "ExecuteTime": {
     "end_time": "2025-06-15T03:50:20.257933Z",
     "start_time": "2025-06-15T03:50:19.215181Z"
    }
   },
   "id": "3c100c16fa06060a"
  },
  {
   "cell_type": "code",
   "execution_count": 7,
   "outputs": [
    {
     "name": "stderr",
     "output_type": "stream",
     "text": [
      "/var/folders/0n/sggn66691kd6g5mtyzpq2hv80000gn/T/ipykernel_48185/108303835.py:1: DtypeWarning: Columns (39,41,45,48) have mixed types. Specify dtype option on import or set low_memory=False.\n",
      "  ceratopogonidae = pd.read_csv(\"Ceratopogonidae.csv\", delimiter='\\t')\n",
      "/var/folders/0n/sggn66691kd6g5mtyzpq2hv80000gn/T/ipykernel_48185/108303835.py:8: DtypeWarning: Columns (10,39,41,45,48) have mixed types. Specify dtype option on import or set low_memory=False.\n",
      "  chironomidae = pd.read_csv(\"Chironomidae.csv\", delimiter='\\t')\n"
     ]
    }
   ],
   "source": [
    "ceratopogonidae = pd.read_csv(\"Ceratopogonidae.csv\", delimiter='\\t')\n",
    "ceratopogonidae = ceratopogonidae[ceratopogonidae[\"occurrenceStatus\"] == \"PRESENT\"]\n",
    "ceratopogonidae = ceratopogonidae[ceratopogonidae['year']>=2022]\n",
    "ceratopogonidae['eventDate'] = pd.to_datetime(ceratopogonidae['eventDate'], format='%Y-%m-%d', errors='coerce')\n",
    "ceratopogonidae = ceratopogonidae[['species', 'decimalLatitude', 'decimalLongitude', 'eventDate']]\n",
    "ceratopogonidae = ceratopogonidae.dropna().reset_index(drop=True)\n",
    "\n",
    "chironomidae = pd.read_csv(\"Chironomidae.csv\", delimiter='\\t')\n",
    "chironomidae = chironomidae[chironomidae[\"occurrenceStatus\"] == \"PRESENT\"]\n",
    "chironomidae = chironomidae[chironomidae['year']>=2022]\n",
    "chironomidae['eventDate'] = pd.to_datetime(chironomidae['eventDate'], format='%Y-%m-%d', errors='coerce')\n",
    "chironomidae = chironomidae[['species', 'decimalLatitude', 'decimalLongitude', 'eventDate']]\n",
    "chironomidae = chironomidae.dropna().reset_index(drop=True)\n",
    "\n",
    "cats = pd.read_csv(\"cats.csv\", delimiter='\\t')\n",
    "cats = cats[cats[\"occurrenceStatus\"] == \"PRESENT\"]\n",
    "cats = cats[cats['year']>=2022]\n",
    "cats['eventDate'] = pd.to_datetime(cats['eventDate'], format='%Y-%m-%d', errors='coerce')\n",
    "cats = cats[['species', 'decimalLatitude', 'decimalLongitude', 'eventDate']]\n",
    "cats = cats.dropna().reset_index(drop=True)\n",
    "\n",
    "\n",
    "wind_turbines = pd.read_excel(\"REPD_202407_WIND.xlsx\")\n",
    "wind_turbines = wind_turbines[wind_turbines['DEVSTATSHT']=='Operational']\n",
    "wind_turbines = wind_turbines[['LAT','LNG']]\n",
    "wind_turbines = wind_turbines.rename(columns={'LAT': 'decimalLatitude', 'LNG': 'decimalLongitude'})\n",
    "wind_turbines = wind_turbines.dropna().reset_index(drop=True)"
   ],
   "metadata": {
    "collapsed": false,
    "ExecuteTime": {
     "end_time": "2025-06-15T03:50:20.646295Z",
     "start_time": "2025-06-15T03:50:19.300270Z"
    }
   },
   "id": "476ba25526584f61"
  },
  {
   "cell_type": "code",
   "execution_count": 8,
   "outputs": [
    {
     "name": "stderr",
     "output_type": "stream",
     "text": [
      "100%|██████████| 6876/6876 [00:00<00:00, 9729.44it/s] \n"
     ]
    }
   ],
   "source": [
    "import numpy as np\n",
    "from sklearn.neighbors import BallTree\n",
    "\n",
    "# Convert lat/lon to radians for BallTree\n",
    "bat_coords = np.deg2rad(df[['decimalLatitude', 'decimalLongitude']].values)\n",
    "ceratopogonidae_coords = np.deg2rad(ceratopogonidae[['decimalLatitude', 'decimalLongitude']].values)\n",
    "chironomidae_coords = np.deg2rad(chironomidae[['decimalLatitude', 'decimalLongitude']].values)\n",
    "cats_coords = np.deg2rad(cats[['decimalLatitude', 'decimalLongitude']].values)\n",
    "wind_turbines_coords = np.deg2rad(wind_turbines[['decimalLatitude', 'decimalLongitude']].values)\n",
    "\n",
    "# Build BallTree using haversine metric\n",
    "tree_ceratopogonidae = BallTree(ceratopogonidae_coords, metric='haversine')\n",
    "tree_chironomidae = BallTree(chironomidae_coords, metric='haversine')\n",
    "tree_cats = BallTree(cats_coords, metric='haversine')\n",
    "tree_wind_turbines = BallTree(wind_turbines_coords, metric='haversine')\n",
    "\n",
    "# Define search radius: 1 km in radians\n",
    "earth_radius_km = 6371.0\n",
    "radius = 1 / earth_radius_km  # 1 km in radians\n",
    "\n",
    "# Initialize presence columns\n",
    "df['ceratopogonidae_presence'] = 0\n",
    "df['chironomidae_presence'] = 0\n",
    "df['cats_presence'] = 0\n",
    "\n",
    "# Iterate through each bat point with tqdm for progress tracking\n",
    "for i in tqdm(range(len(df))):\n",
    "    point = bat_coords[i].reshape(1, -1)\n",
    "    event_month = df.loc[i, 'eventDate'].month\n",
    "    event_year = df.loc[i, 'eventDate'].year\n",
    "\n",
    "    # CERATOPOGONIDAE\n",
    "    idxs = tree_ceratopogonidae.query_radius(point, r=radius)[0]\n",
    "    for j in idxs:\n",
    "        ceratopogonidae_date = ceratopogonidae.loc[j, 'eventDate']\n",
    "        if ceratopogonidae_date.month == event_month and ceratopogonidae_date.year == event_year:\n",
    "            df.at[i, 'ceratopogonidae_presence'] = 1\n",
    "            break  # Found at least one match, no need to check further\n",
    "\n",
    "    # CHIRONOMIDAE\n",
    "    idxs = tree_chironomidae.query_radius(point, r=radius)[0]\n",
    "    for j in idxs:\n",
    "        chironomidae_date = chironomidae.loc[j, 'eventDate']\n",
    "        if chironomidae_date.month == event_month and chironomidae_date.year == event_year:\n",
    "            df.at[i, 'chironomidae_presence'] = 1\n",
    "            break  # Found at least one match, no need to check further\n",
    "            \n",
    "    # CATS\n",
    "    idxs = tree_cats.query_radius(point, r=radius)[0]\n",
    "    for j in idxs:\n",
    "        cats_date = cats.loc[j, 'eventDate']\n",
    "        if cats_date.month == event_month and cats_date.year == event_year:\n",
    "            df.at[i, 'cats_presence'] = 1\n",
    "            break  # Found at least one match, no need to check further\n",
    "        \n",
    "indices = tree_wind_turbines.query_radius(bat_coords, r=radius)\n",
    "df['wind_turbines_presence'] = [1 if len(neighbors) > 0 else 0 for neighbors in indices]"
   ],
   "metadata": {
    "collapsed": false,
    "ExecuteTime": {
     "end_time": "2025-06-15T03:50:22.485330Z",
     "start_time": "2025-06-15T03:50:20.649298Z"
    }
   },
   "id": "928b858f2342c0d6"
  },
  {
   "cell_type": "code",
   "execution_count": null,
   "outputs": [
    {
     "name": "stderr",
     "output_type": "stream",
     "text": [
      " 36%|███▌      | 283/792 [17:11<44:38,  5.26s/it]  "
     ]
    }
   ],
   "source": [
    "import osmnx as ox\n",
    "from shapely.geometry import Point\n",
    "import geopandas as gpd\n",
    "import numpy as np\n",
    "from tqdm import tqdm\n",
    "\n",
    "# Construct GeoDataFrame\n",
    "df['geometry'] = [Point(xy) for xy in zip(df['decimalLongitude'], df['decimalLatitude'])]\n",
    "gdf = gpd.GeoDataFrame(df, geometry='geometry', crs='EPSG:4326')\n",
    "\n",
    "# Define spatial tiling: 0.05 x 0.05 degrees\n",
    "tile_size = 0.1\n",
    "gdf['tile_x'] = (gdf['decimalLongitude'] // tile_size).astype(int)\n",
    "gdf['tile_y'] = (gdf['decimalLatitude'] // tile_size).astype(int)\n",
    "\n",
    "# Group by tile\n",
    "grouped = gdf.groupby(['tile_x', 'tile_y'])\n",
    "\n",
    "# Store results\n",
    "all_distances = []\n",
    "\n",
    "for (tile_x, tile_y), group in tqdm(grouped, total=len(grouped)):\n",
    "    west = tile_x * tile_size - 0.02\n",
    "    south = tile_y * tile_size - 0.02\n",
    "    east = (tile_x + 1) * tile_size + 0.02\n",
    "    north = (tile_y + 1) * tile_size + 0.02\n",
    "    bbox = (west, south, east, north)\n",
    "\n",
    "    try:\n",
    "        G = ox.graph_from_bbox(bbox, network_type='drive_service')\n",
    "        if len(G.nodes) == 0:\n",
    "            print(f\"[EMPTY GRAPH] bbox: {bbox}, skipping...\")\n",
    "            all_distances.extend([np.nan] * len(group))\n",
    "            continue\n",
    "\n",
    "        G_proj = ox.project_graph(G)\n",
    "        nodes_proj, edges_proj = ox.graph_to_gdfs(G_proj)\n",
    "        points_proj = group.geometry.to_crs(nodes_proj.crs)\n",
    "\n",
    "        for point_proj in points_proj:\n",
    "            try:\n",
    "                u, v, k = ox.distance.nearest_edges(G_proj, [point_proj.x], [point_proj.y])[0]\n",
    "                edge_geom = edges_proj.loc[(u, v, k)]['geometry']\n",
    "                distance = point_proj.distance(edge_geom)\n",
    "                all_distances.append(distance)\n",
    "            except Exception as e:\n",
    "                print(f\"  [Point ERROR] {e}\")\n",
    "                all_distances.append(np.nan)\n",
    "\n",
    "    except Exception as e:\n",
    "        print(f\"[TILE ERROR] {e} — bbox: {bbox}\")\n",
    "        all_distances.extend([np.nan] * len(group))\n",
    "\n",
    "\n",
    "# Store back in original DataFrame order\n",
    "gdf['distance_to_road'] = all_distances"
   ],
   "metadata": {
    "collapsed": false,
    "is_executing": true,
    "ExecuteTime": {
     "start_time": "2025-06-15T03:50:22.489744Z"
    }
   },
   "id": "423b6b10fa3e47c4"
  },
  {
   "cell_type": "code",
   "execution_count": null,
   "outputs": [],
   "source": [
    "gdf['near_road'] = np.where(gdf['distance_to_road'] <= 500, 1, 0)        "
   ],
   "metadata": {
    "collapsed": false,
    "is_executing": true
   },
   "id": "4a457e4113b41528"
  },
  {
   "cell_type": "code",
   "execution_count": null,
   "outputs": [],
   "source": [
    "gdf=gdf.drop(['tile_x', 'tile_y', 'geometry', 'distance_to_road'], axis=1)"
   ],
   "metadata": {
    "collapsed": false,
    "is_executing": true
   },
   "id": "8c42f8b1ddc3eb76"
  },
  {
   "cell_type": "code",
   "execution_count": null,
   "outputs": [],
   "source": [
    "from pyproj import Transformer\n",
    "from rasterio.windows import Window\n",
    "import rasterio\n",
    "\n",
    "land_cover_map = {\n",
    "    1: \"Deciduous woodland\",\n",
    "    2: \"Coniferous woodland\",\n",
    "    3: \"Arable\",\n",
    "    4: \"Improved grassland\",\n",
    "    5: \"Neutral grassland\",\n",
    "    6: \"Calcareous grassland\",\n",
    "    7: \"Acid grassland\",\n",
    "    8: \"Fen\",\n",
    "    9: \"Heather\",\n",
    "    10: \"Heather grassland\",\n",
    "    11: \"Bog\",\n",
    "    12: \"Inland rock\",\n",
    "    13: \"Saltwater\",\n",
    "    14: \"Freshwater\",\n",
    "    15: \"Supralittoral rock\",\n",
    "    16: \"Supralittoral sediment\",\n",
    "    17: \"Littoral rock\",\n",
    "    18: \"Littoral sediment\",\n",
    "    19: \"Saltmarsh\",\n",
    "    20: \"Urban\",\n",
    "    21: \"Suburban\"\n",
    "}\n",
    "\n",
    "# Batch coordinate transformation\n",
    "transformer_ni = Transformer.from_crs(\"EPSG:4326\", \"EPSG:29903\", always_xy=True)\n",
    "transformer_gb = Transformer.from_crs(\"EPSG:4326\", \"EPSG:27700\", always_xy=True)\n",
    "\n",
    "coords = list(zip(gdf['decimalLongitude'], gdf['decimalLatitude']))\n",
    "gdf['easting_ni'], gdf['northing_ni'] = zip(*transformer_ni.itransform(coords))\n",
    "gdf['easting_gb'], gdf['northing_gb'] = zip(*transformer_gb.itransform(coords))\n",
    "\n",
    "# Raster processing optimization\n",
    "gb_raster = 'gblcm2023_10m.tif'\n",
    "n_ireland_raster = 'nilcm2023_10m.tif'\n",
    "\n",
    "\n",
    "def get_land_cover_class(row):\n",
    "    try:\n",
    "        # Try GB raster first\n",
    "        with rasterio.open(gb_raster) as src:\n",
    "            row_idx, col_idx = src.index(row['easting_gb'], row['northing_gb'])\n",
    "            # Read a small window around the point for better performance\n",
    "            window = Window(col_idx, row_idx, 1, 1)\n",
    "            land_cover_class = src.read(1, window=window)[0, 0]\n",
    "\n",
    "            if land_cover_class == 0:  # Check NI raster if GB is 0\n",
    "                with rasterio.open(n_ireland_raster) as src_ni:\n",
    "                    row_idx, col_idx = src_ni.index(row['easting_ni'], row['northing_ni'])\n",
    "                    window = Window(col_idx, row_idx, 1, 1)\n",
    "                    land_cover_class = src_ni.read(1, window=window)[0, 0]\n",
    "\n",
    "        return land_cover_map.get(land_cover_class, \"Unknown\")\n",
    "    except Exception as e:\n",
    "        print(f\"Error processing row: {e}\")\n",
    "        return \"Unknown\"\n",
    "\n",
    "\n",
    "tqdm.pandas()\n",
    "gdf['Land_cover'] = gdf.progress_apply(get_land_cover_class, axis=1)\n"
   ],
   "metadata": {
    "collapsed": false,
    "is_executing": true
   },
   "id": "a6299b167ee6fc53"
  },
  {
   "cell_type": "code",
   "execution_count": null,
   "outputs": [],
   "source": [
    "gdf = gdf.dropna()\n",
    "gdf=gdf.drop(['easting_ni', 'northing_ni', 'easting_gb', 'northing_gb'],axis=1)\n",
    "# Remove where Land_cover is Unknown\n",
    "gdf = gdf[gdf['Land_cover'] != \"Unknown\"].reset_index(drop=True)\n",
    "gdf.to_csv(\"tgb_bat_final_data.csv\", index=False)"
   ],
   "metadata": {
    "collapsed": false,
    "is_executing": true
   },
   "id": "14294ed4eaa84b13"
  },
  {
   "cell_type": "code",
   "execution_count": null,
   "outputs": [],
   "source": [],
   "metadata": {
    "collapsed": false
   },
   "id": "891410779c509100"
  }
 ],
 "metadata": {
  "kernelspec": {
   "display_name": "Python 3",
   "language": "python",
   "name": "python3"
  },
  "language_info": {
   "codemirror_mode": {
    "name": "ipython",
    "version": 2
   },
   "file_extension": ".py",
   "mimetype": "text/x-python",
   "name": "python",
   "nbconvert_exporter": "python",
   "pygments_lexer": "ipython2",
   "version": "2.7.6"
  }
 },
 "nbformat": 4,
 "nbformat_minor": 5
}
