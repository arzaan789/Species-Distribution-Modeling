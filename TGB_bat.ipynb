{
 "cells": [
  {
   "cell_type": "code",
   "execution_count": 2,
   "id": "initial_id",
   "metadata": {
    "collapsed": true,
    "ExecuteTime": {
     "end_time": "2025-08-05T02:49:33.924270Z",
     "start_time": "2025-08-05T02:49:25.101697Z"
    }
   },
   "outputs": [],
   "source": [
    "import ee\n",
    "\n",
    "# Trigger the authentication flow.\n",
    "# ee.Authenticate()\n",
    "\n",
    "ee.Initialize(project='ee-arzaaan789')"
   ]
  },
  {
   "cell_type": "code",
   "execution_count": 3,
   "outputs": [],
   "source": [
    "import pandas as pd\n",
    "from tqdm import tqdm\n",
    "\n",
    "df = pd.read_csv(\"TGB_bat.csv\", delimiter='\\t')\n",
    "df = df[df[\"occurrenceStatus\"] == \"PRESENT\"]\n",
    "df = df[df['year']>=2022]\n",
    "# df['eventDate'] = df['eventDate'].str.replace('/','')\n",
    "df['eventDate'] = pd.to_datetime(df['eventDate'], format='%Y-%m-%d', errors='coerce')\n",
    "df = df[['species', 'decimalLatitude', 'decimalLongitude', 'eventDate']]\n",
    "df = df.dropna().reset_index(drop=True)"
   ],
   "metadata": {
    "collapsed": false,
    "ExecuteTime": {
     "end_time": "2025-08-05T02:49:37.016121Z",
     "start_time": "2025-08-05T02:49:36.740369Z"
    }
   },
   "id": "bd89dd4aa291f510"
  },
  {
   "cell_type": "code",
   "execution_count": 4,
   "outputs": [
    {
     "name": "stderr",
     "output_type": "stream",
     "text": [
      "Processing batches: 100%|██████████| 141/141 [12:18<00:00,  5.24s/it]"
     ]
    },
    {
     "name": "stdout",
     "output_type": "stream",
     "text": [
      "                     species  decimalLatitude  decimalLongitude  eventDate  \\\n",
      "0  Pipistrellus pipistrellus        52.619031         -0.834527 2022-06-22   \n",
      "1  Pipistrellus pipistrellus        52.619031         -0.834527 2022-06-26   \n",
      "2  Pipistrellus pipistrellus        52.619031         -0.834527 2022-06-28   \n",
      "3  Pipistrellus pipistrellus        52.619031         -0.834527 2022-07-25   \n",
      "4  Pipistrellus pipistrellus        52.619031         -0.834527 2022-06-23   \n",
      "\n",
      "        BSI         LST     MNDWI      NDBI      NDSI      NDVI      NDWI  \\\n",
      "0 -0.787312  296.632402 -0.505106 -0.364924 -0.505106  0.816945 -0.734614   \n",
      "1 -0.779564  297.862372 -0.575241 -0.290175 -0.575241  0.786288 -0.741630   \n",
      "2 -0.779564  297.862372 -0.575241 -0.290175 -0.575241  0.786288 -0.741630   \n",
      "3 -0.779564  303.103360 -0.575241 -0.290175 -0.575241  0.786288 -0.741630   \n",
      "4 -0.787312  296.823268 -0.505106 -0.364924 -0.505106  0.816945 -0.734614   \n",
      "\n",
      "       SAVI        UI  \n",
      "0  1.225286  0.364924  \n",
      "1  1.179296  0.290175  \n",
      "2  1.179296  0.290175  \n",
      "3  1.179296  0.290175  \n",
      "4  1.225286  0.364924  \n"
     ]
    },
    {
     "name": "stderr",
     "output_type": "stream",
     "text": [
      "\n"
     ]
    }
   ],
   "source": [
    "import ee\n",
    "import pandas as pd\n",
    "from datetime import datetime, timedelta\n",
    "from tqdm import tqdm\n",
    "\n",
    "# ee.Initialize()\n",
    "\n",
    "# Your dataframe 'df' must have columns: decimalLongitude, decimalLatitude\n",
    "# Example: df = pd.read_csv(\"Erinaceus europaeus.csv\", delimiter='\\t')\n",
    "\n",
    "def create_aoi(lon, lat, box_size_km=1):\n",
    "    \"\"\"Create approx 1km x 1km square polygon around lon, lat.\"\"\"\n",
    "    half_side_deg = box_size_km / 111.32 / 2  # Rough approx degrees per km\n",
    "\n",
    "    coords = [\n",
    "        [lon - half_side_deg, lat - half_side_deg],\n",
    "        [lon + half_side_deg, lat - half_side_deg],\n",
    "        [lon + half_side_deg, lat + half_side_deg],\n",
    "        [lon - half_side_deg, lat + half_side_deg],\n",
    "        [lon - half_side_deg, lat - half_side_deg]\n",
    "    ]\n",
    "    return ee.Geometry.Polygon(coords)\n",
    "\n",
    "def compute_all_indices(feature, start_date, end_date):\n",
    "    \"\"\"Compute spectral indices and LST for one EE Feature (with AOI geometry).\"\"\"\n",
    "    aoi = feature.geometry()\n",
    "\n",
    "    s2 = (ee.ImageCollection(\"COPERNICUS/S2_SR_HARMONIZED\")\n",
    "          .filterBounds(aoi)\n",
    "          .filterDate(start_date, end_date)\n",
    "          .sort('CLOUDY_PIXEL_PERCENTAGE')\n",
    "          .first())\n",
    "    s2 = ee.Image(s2).clip(aoi)\n",
    "\n",
    "    blue = s2.select('B2')\n",
    "    green = s2.select('B3')\n",
    "    red = s2.select('B4')\n",
    "    nir = s2.select('B8')\n",
    "    swir = s2.select('B11')\n",
    "\n",
    "    L = 0.5  # SAVI constant\n",
    "\n",
    "    ndvi = nir.subtract(red).divide(nir.add(red)).rename('NDVI')\n",
    "    ndwi = green.subtract(nir).divide(green.add(nir)).rename('NDWI')\n",
    "    ndbi = swir.subtract(nir).divide(swir.add(nir)).rename('NDBI')\n",
    "    savi = nir.subtract(red).divide(nir.add(red).add(L)).multiply(1 + L).rename('SAVI')\n",
    "    mndwi = green.subtract(swir).divide(green.add(swir)).rename('MNDWI')\n",
    "    ndsi = green.subtract(swir).divide(green.add(swir)).rename('NDSI')\n",
    "    bsi = (red.add(blue).subtract(nir.add(swir))).divide(red.add(blue).add(nir).add(swir)).rename('BSI')\n",
    "    ui = nir.subtract(swir).divide(nir.add(swir)).rename('UI')\n",
    "\n",
    "    reducers = ee.Reducer.mean()\n",
    "    scale_10m = 1000\n",
    "\n",
    "    ndvi_mean = ndvi.reduceRegion(reducers, aoi, scale_10m).get('NDVI')\n",
    "    ndwi_mean = ndwi.reduceRegion(reducers, aoi, scale_10m).get('NDWI')\n",
    "    ndbi_mean = ndbi.reduceRegion(reducers, aoi, scale_10m).get('NDBI')\n",
    "    savi_mean = savi.reduceRegion(reducers, aoi, scale_10m).get('SAVI')\n",
    "    mndwi_mean = mndwi.reduceRegion(reducers, aoi, scale_10m).get('MNDWI')\n",
    "    ndsi_mean = ndsi.reduceRegion(reducers, aoi, scale_10m).get('NDSI')\n",
    "    bsi_mean = bsi.reduceRegion(reducers, aoi, scale_10m).get('BSI')\n",
    "    ui_mean = ui.reduceRegion(reducers, aoi, scale_10m).get('UI')\n",
    "\n",
    "    # MODIS LST dataset\n",
    "    modis = (ee.ImageCollection(\"MODIS/061/MOD11A1\")\n",
    "             .filterBounds(aoi)\n",
    "             .filterDate(start_date, end_date)\n",
    "             .select('LST_Day_1km'))\n",
    "\n",
    "    lst_mean_img = modis.mean().multiply(0.02).clip(aoi)\n",
    "\n",
    "    lst_mean = lst_mean_img.reduceRegion(\n",
    "        reducer=ee.Reducer.mean(),\n",
    "        geometry=aoi,\n",
    "        scale=1000\n",
    "    ).get('LST_Day_1km')\n",
    "\n",
    "    return feature.set({\n",
    "        'NDVI': ndvi_mean,\n",
    "        'NDWI': ndwi_mean,\n",
    "        'NDBI': ndbi_mean,\n",
    "        'SAVI': savi_mean,\n",
    "        'MNDWI': mndwi_mean,\n",
    "        'NDSI': ndsi_mean,\n",
    "        'BSI': bsi_mean,\n",
    "        'UI': ui_mean,\n",
    "        'LST': lst_mean\n",
    "    })\n",
    "\n",
    "# Split df into batches\n",
    "batch_size = 50\n",
    "batches = [df.iloc[i:i+batch_size] for i in range(0, len(df), batch_size)]\n",
    "\n",
    "results_list = []\n",
    "\n",
    "index_names = ['NDVI', 'NDWI', 'NDBI', 'SAVI', 'MNDWI', 'NDSI', 'BSI', 'UI', 'LST']\n",
    "\n",
    "for batch in tqdm(batches, desc=\"Processing batches\"):\n",
    "    features = []\n",
    "    batch_indices = []\n",
    "    feature_metadata = {}\n",
    "\n",
    "    for idx, row in batch.iterrows():\n",
    "        \n",
    "        aoi = create_aoi(row['decimalLongitude'], row['decimalLatitude'])\n",
    "        feature = ee.Feature(aoi).set('index', idx)\n",
    "        features.append(feature)\n",
    "        batch_indices.append(idx)  # Save the original index\n",
    "        \n",
    "        event_date = row['eventDate']\n",
    "        start_date = (event_date - timedelta(days=15)).strftime('%Y-%m-%d')\n",
    "        end_date = (event_date + timedelta(days=15)).strftime('%Y-%m-%d')\n",
    "        feature_metadata[idx] = (start_date, end_date)\n",
    "\n",
    "    # Create a FeatureCollection from the list of features\n",
    "    fc = ee.FeatureCollection(features)\n",
    "    \n",
    "    # Define wrapper for map to inject per-feature dates\n",
    "    def map_with_dates(f):\n",
    "        idx = f.get('index')\n",
    "        # Use dictionary lookup to get dates for this feature\n",
    "        date_dict = ee.Dictionary(ee.Dictionary(feature_metadata))\n",
    "        dates = ee.List(date_dict.get(ee.Number(idx)))\n",
    "        return compute_all_indices(f, dates.get(0), dates.get(1))\n",
    "\n",
    "    try:\n",
    "        result_fc = fc.map(map_with_dates)\n",
    "        results = result_fc.getInfo()\n",
    "\n",
    "        rows = []\n",
    "        for f in results['features']:\n",
    "            props = f['properties']\n",
    "            rows.append(props)\n",
    "\n",
    "    except Exception as e:\n",
    "        print(f\"Error processing batch starting at index {batch.index[0]}: {e}\")\n",
    "        # If there's an error, create placeholder rows with None\n",
    "        rows = [{'index': i, **{name: None for name in index_names}} for i in batch_indices]\n",
    "\n",
    "    batch_results_df = pd.DataFrame(rows).sort_values('index').reset_index(drop=True)\n",
    "    results_list.append(batch_results_df)\n",
    "\n",
    "# Concatenate all batches and sort by original index\n",
    "all_results_df = pd.concat(results_list).sort_values('index').reset_index(drop=True)\n",
    "\n",
    "# Merge with original df\n",
    "df_final = pd.concat([df.reset_index(drop=True), all_results_df.drop(columns=['index'])], axis=1)\n",
    "\n",
    "print(df_final.head())\n"
   ],
   "metadata": {
    "collapsed": false,
    "ExecuteTime": {
     "end_time": "2025-08-05T03:02:16.885295Z",
     "start_time": "2025-08-05T02:49:58.091830Z"
    }
   },
   "id": "53b26562dc01b121"
  },
  {
   "cell_type": "code",
   "execution_count": 5,
   "outputs": [],
   "source": [
    "df_final.to_csv(\"tgb_bat_full_data.csv\", index=False)\n",
    "df = pd.read_csv(\"tgb_bat_full_data.csv\")\n",
    "df['eventDate'] = pd.to_datetime(df['eventDate'], format='%Y-%m-%d', errors='coerce')\n",
    "\n",
    "df = df.dropna().reset_index(drop=True)"
   ],
   "metadata": {
    "collapsed": false,
    "ExecuteTime": {
     "end_time": "2025-08-05T03:02:17.028601Z",
     "start_time": "2025-08-05T03:02:16.891291Z"
    }
   },
   "id": "3c100c16fa06060a"
  },
  {
   "cell_type": "code",
   "execution_count": 6,
   "outputs": [],
   "source": [
    "ceratopogonidae = pd.read_csv(\"Ceratopogonidae.csv\", delimiter='\\t')\n",
    "ceratopogonidae = ceratopogonidae[ceratopogonidae[\"occurrenceStatus\"] == \"PRESENT\"]\n",
    "ceratopogonidae = ceratopogonidae[ceratopogonidae['year']>=2022]\n",
    "ceratopogonidae['eventDate'] = pd.to_datetime(ceratopogonidae['eventDate'], format='%Y-%m-%d', errors='coerce')\n",
    "ceratopogonidae = ceratopogonidae[['species', 'decimalLatitude', 'decimalLongitude', 'eventDate']]\n",
    "ceratopogonidae = ceratopogonidae.dropna().reset_index(drop=True)\n",
    "\n",
    "chironomidae = pd.read_csv(\"Chironomidae.csv\", delimiter='\\t')\n",
    "chironomidae = chironomidae[chironomidae[\"occurrenceStatus\"] == \"PRESENT\"]\n",
    "chironomidae = chironomidae[chironomidae['year']>=2022]\n",
    "chironomidae['eventDate'] = pd.to_datetime(chironomidae['eventDate'], format='%Y-%m-%d', errors='coerce')\n",
    "chironomidae = chironomidae[['species', 'decimalLatitude', 'decimalLongitude', 'eventDate']]\n",
    "chironomidae = chironomidae.dropna().reset_index(drop=True)\n",
    "\n",
    "cats = pd.read_csv(\"cats.csv\", delimiter='\\t')\n",
    "cats = cats[cats[\"occurrenceStatus\"] == \"PRESENT\"]\n",
    "cats = cats[cats['year']>=2022]\n",
    "cats['eventDate'] = pd.to_datetime(cats['eventDate'], format='%Y-%m-%d', errors='coerce')\n",
    "cats = cats[['species', 'decimalLatitude', 'decimalLongitude', 'eventDate']]\n",
    "cats = cats.dropna().reset_index(drop=True)\n",
    "\n",
    "\n",
    "wind_turbines = pd.read_excel(\"REPD_202407_WIND.xlsx\")\n",
    "wind_turbines = wind_turbines[wind_turbines['DEVSTATSHT']=='Operational']\n",
    "wind_turbines = wind_turbines[['LAT','LNG']]\n",
    "wind_turbines = wind_turbines.rename(columns={'LAT': 'decimalLatitude', 'LNG': 'decimalLongitude'})\n",
    "wind_turbines = wind_turbines.dropna().reset_index(drop=True)"
   ],
   "metadata": {
    "collapsed": false,
    "ExecuteTime": {
     "end_time": "2025-08-05T03:02:17.759180Z",
     "start_time": "2025-08-05T03:02:17.032885Z"
    }
   },
   "id": "476ba25526584f61"
  },
  {
   "cell_type": "code",
   "execution_count": 7,
   "outputs": [
    {
     "name": "stderr",
     "output_type": "stream",
     "text": [
      "100%|██████████| 6908/6908 [00:00<00:00, 12003.54it/s]\n"
     ]
    }
   ],
   "source": [
    "import numpy as np\n",
    "from sklearn.neighbors import BallTree\n",
    "\n",
    "# Convert lat/lon to radians for BallTree\n",
    "bat_coords = np.deg2rad(df[['decimalLatitude', 'decimalLongitude']].values)\n",
    "ceratopogonidae_coords = np.deg2rad(ceratopogonidae[['decimalLatitude', 'decimalLongitude']].values)\n",
    "chironomidae_coords = np.deg2rad(chironomidae[['decimalLatitude', 'decimalLongitude']].values)\n",
    "cats_coords = np.deg2rad(cats[['decimalLatitude', 'decimalLongitude']].values)\n",
    "wind_turbines_coords = np.deg2rad(wind_turbines[['decimalLatitude', 'decimalLongitude']].values)\n",
    "\n",
    "# Build BallTree using haversine metric\n",
    "tree_ceratopogonidae = BallTree(ceratopogonidae_coords, metric='haversine')\n",
    "tree_chironomidae = BallTree(chironomidae_coords, metric='haversine')\n",
    "tree_cats = BallTree(cats_coords, metric='haversine')\n",
    "tree_wind_turbines = BallTree(wind_turbines_coords, metric='haversine')\n",
    "\n",
    "# Define search radius: 1 km in radians\n",
    "earth_radius_km = 6371.0\n",
    "radius = 1 / earth_radius_km  # 1 km in radians\n",
    "\n",
    "# Initialize presence columns\n",
    "df['ceratopogonidae_presence'] = 0\n",
    "df['chironomidae_presence'] = 0\n",
    "df['cats_presence'] = 0\n",
    "\n",
    "# Iterate through each bat point with tqdm for progress tracking\n",
    "for i in tqdm(range(len(df))):\n",
    "    point = bat_coords[i].reshape(1, -1)\n",
    "    event_month = df.loc[i, 'eventDate'].month\n",
    "    event_year = df.loc[i, 'eventDate'].year\n",
    "\n",
    "    # CERATOPOGONIDAE\n",
    "    idxs = tree_ceratopogonidae.query_radius(point, r=radius)[0]\n",
    "    for j in idxs:\n",
    "        ceratopogonidae_date = ceratopogonidae.loc[j, 'eventDate']\n",
    "        if ceratopogonidae_date.month == event_month and ceratopogonidae_date.year == event_year:\n",
    "            df.at[i, 'ceratopogonidae_presence'] = 1\n",
    "            break  # Found at least one match, no need to check further\n",
    "\n",
    "    # CHIRONOMIDAE\n",
    "    idxs = tree_chironomidae.query_radius(point, r=radius)[0]\n",
    "    for j in idxs:\n",
    "        chironomidae_date = chironomidae.loc[j, 'eventDate']\n",
    "        if chironomidae_date.month == event_month and chironomidae_date.year == event_year:\n",
    "            df.at[i, 'chironomidae_presence'] = 1\n",
    "            break  # Found at least one match, no need to check further\n",
    "            \n",
    "    # CATS\n",
    "    idxs = tree_cats.query_radius(point, r=radius)[0]\n",
    "    for j in idxs:\n",
    "        cats_date = cats.loc[j, 'eventDate']\n",
    "        if cats_date.month == event_month and cats_date.year == event_year:\n",
    "            df.at[i, 'cats_presence'] = 1\n",
    "            break  # Found at least one match, no need to check further\n",
    "        \n",
    "indices = tree_wind_turbines.query_radius(bat_coords, r=radius)\n",
    "df['wind_turbines_presence'] = [1 if len(neighbors) > 0 else 0 for neighbors in indices]"
   ],
   "metadata": {
    "collapsed": false,
    "ExecuteTime": {
     "end_time": "2025-08-05T03:02:18.712431Z",
     "start_time": "2025-08-05T03:02:17.761504Z"
    }
   },
   "id": "928b858f2342c0d6"
  },
  {
   "cell_type": "code",
   "execution_count": 8,
   "outputs": [
    {
     "name": "stderr",
     "output_type": "stream",
     "text": [
      "  0%|          | 1/1794 [00:00<16:08,  1.85it/s]"
     ]
    },
    {
     "name": "stdout",
     "output_type": "stream",
     "text": [
      "[TILE ERROR] Found no graph nodes within the requested polygon. — bbox: (np.float64(-7.3191999999999995), np.float64(57.22899999999999), np.float64(-7.297499999999999), np.float64(57.242))\n"
     ]
    },
    {
     "name": "stderr",
     "output_type": "stream",
     "text": [
      "  0%|          | 3/1794 [00:01<13:11,  2.26it/s]"
     ]
    },
    {
     "name": "stdout",
     "output_type": "stream",
     "text": [
      "[TILE ERROR] Found no graph nodes within the requested polygon. — bbox: (np.float64(-6.3458), np.float64(49.93899999999999), np.float64(-6.3241), np.float64(49.952))\n"
     ]
    },
    {
     "name": "stderr",
     "output_type": "stream",
     "text": [
      "  2%|▏         | 32/1794 [00:14<06:07,  4.80it/s]"
     ]
    },
    {
     "name": "stdout",
     "output_type": "stream",
     "text": [
      "[TILE ERROR] Found no graph nodes within the requested polygon. — bbox: (np.float64(-4.697299999999999), np.float64(51.882999999999996), np.float64(-4.675599999999999), np.float64(51.896))\n"
     ]
    },
    {
     "name": "stderr",
     "output_type": "stream",
     "text": [
      "  3%|▎         | 46/1794 [00:18<08:43,  3.34it/s]"
     ]
    },
    {
     "name": "stdout",
     "output_type": "stream",
     "text": [
      "[TILE ERROR] Found no graph nodes within the requested polygon. — bbox: (np.float64(-4.2577), np.float64(51.62199999999999), np.float64(-4.236), np.float64(51.635))\n"
     ]
    },
    {
     "name": "stderr",
     "output_type": "stream",
     "text": [
      "  3%|▎         | 51/1794 [00:21<13:48,  2.11it/s]"
     ]
    },
    {
     "name": "stdout",
     "output_type": "stream",
     "text": [
      "[TILE ERROR] Graph contains no edges. — bbox: (np.float64(-4.1792), np.float64(52.971999999999994), np.float64(-4.1575), np.float64(52.985))\n"
     ]
    },
    {
     "name": "stderr",
     "output_type": "stream",
     "text": [
      "  4%|▎         | 64/1794 [00:25<10:27,  2.76it/s]"
     ]
    },
    {
     "name": "stdout",
     "output_type": "stream",
     "text": [
      "[TILE ERROR] Found no graph nodes within the requested polygon. — bbox: (np.float64(-4.0379), np.float64(53.160999999999994), np.float64(-4.0161999999999995), np.float64(53.174))\n"
     ]
    },
    {
     "name": "stderr",
     "output_type": "stream",
     "text": [
      "  4%|▍         | 69/1794 [00:27<08:14,  3.49it/s]"
     ]
    },
    {
     "name": "stdout",
     "output_type": "stream",
     "text": [
      "[TILE ERROR] Found no graph nodes within the requested polygon. — bbox: (np.float64(-4.0222), np.float64(52.89099999999999), np.float64(-4.0005), np.float64(52.903999999999996))\n"
     ]
    },
    {
     "name": "stderr",
     "output_type": "stream",
     "text": [
      "  5%|▍         | 82/1794 [00:32<10:32,  2.71it/s]"
     ]
    },
    {
     "name": "stdout",
     "output_type": "stream",
     "text": [
      "[TILE ERROR] Found no graph nodes within the requested polygon. — bbox: (np.float64(-3.8495), np.float64(52.440999999999995), np.float64(-3.8277999999999994), np.float64(52.454))\n"
     ]
    },
    {
     "name": "stderr",
     "output_type": "stream",
     "text": [
      "  5%|▍         | 84/1794 [00:33<09:33,  2.98it/s]"
     ]
    },
    {
     "name": "stdout",
     "output_type": "stream",
     "text": [
      "[TILE ERROR] Found no graph nodes within the requested polygon. — bbox: (np.float64(-3.8337999999999997), np.float64(52.080999999999996), np.float64(-3.8120999999999996), np.float64(52.094))\n",
      "[TILE ERROR] No data elements in server response. Check query location/filters and log. — bbox: (np.float64(-3.8337999999999997), np.float64(52.17099999999999), np.float64(-3.8120999999999996), np.float64(52.184))\n"
     ]
    },
    {
     "name": "stderr",
     "output_type": "stream",
     "text": [
      "  5%|▍         | 87/1794 [00:33<06:44,  4.22it/s]"
     ]
    },
    {
     "name": "stdout",
     "output_type": "stream",
     "text": [
      "[TILE ERROR] Found no graph nodes within the requested polygon. — bbox: (np.float64(-3.8181), np.float64(51.81099999999999), np.float64(-3.7963999999999998), np.float64(51.824))\n"
     ]
    },
    {
     "name": "stderr",
     "output_type": "stream",
     "text": [
      "  6%|▌         | 104/1794 [00:40<13:02,  2.16it/s]"
     ]
    },
    {
     "name": "stdout",
     "output_type": "stream",
     "text": [
      "[TILE ERROR] Graph contains no edges. — bbox: (np.float64(-3.5198), np.float64(54.42999999999999), np.float64(-3.4980999999999995), np.float64(54.443))\n"
     ]
    },
    {
     "name": "stderr",
     "output_type": "stream",
     "text": [
      "  6%|▋         | 114/1794 [00:46<16:42,  1.68it/s]"
     ]
    },
    {
     "name": "stdout",
     "output_type": "stream",
     "text": [
      "[TILE ERROR] Found no graph nodes within the requested polygon. — bbox: (np.float64(-3.3941999999999997), np.float64(52.062999999999995), np.float64(-3.3724999999999996), np.float64(52.076))\n"
     ]
    },
    {
     "name": "stderr",
     "output_type": "stream",
     "text": [
      "  7%|▋         | 121/1794 [00:48<07:33,  3.69it/s]"
     ]
    },
    {
     "name": "stdout",
     "output_type": "stream",
     "text": [
      "[TILE ERROR] Found no graph nodes within the requested polygon. — bbox: (np.float64(-3.3785), np.float64(56.175999999999995), np.float64(-3.3568), np.float64(56.189))\n"
     ]
    },
    {
     "name": "stderr",
     "output_type": "stream",
     "text": [
      "  7%|▋         | 132/1794 [00:52<06:41,  4.14it/s]"
     ]
    },
    {
     "name": "stdout",
     "output_type": "stream",
     "text": [
      "[TILE ERROR] Found no graph nodes within the requested polygon. — bbox: (np.float64(-3.2843), np.float64(53.169999999999995), np.float64(-3.2625999999999995), np.float64(53.183))\n"
     ]
    },
    {
     "name": "stderr",
     "output_type": "stream",
     "text": [
      "  8%|▊         | 136/1794 [00:53<08:09,  3.39it/s]"
     ]
    },
    {
     "name": "stdout",
     "output_type": "stream",
     "text": [
      "[TILE ERROR] Found no graph nodes within the requested polygon. — bbox: (np.float64(-3.2529), np.float64(51.81999999999999), np.float64(-3.2311999999999994), np.float64(51.833))\n",
      "[TILE ERROR] Graph contains no edges. — bbox: (np.float64(-3.2371999999999996), np.float64(51.459999999999994), np.float64(-3.2154999999999996), np.float64(51.473))\n"
     ]
    },
    {
     "name": "stderr",
     "output_type": "stream",
     "text": [
      " 10%|▉         | 171/1794 [01:13<16:44,  1.62it/s]"
     ]
    },
    {
     "name": "stdout",
     "output_type": "stream",
     "text": [
      "[TILE ERROR] Found no graph nodes within the requested polygon. — bbox: (np.float64(-3.0802), np.float64(53.583999999999996), np.float64(-3.0584999999999996), np.float64(53.597))\n"
     ]
    },
    {
     "name": "stderr",
     "output_type": "stream",
     "text": [
      " 13%|█▎        | 227/1794 [01:56<16:11,  1.61it/s]"
     ]
    },
    {
     "name": "stdout",
     "output_type": "stream",
     "text": [
      "[TILE ERROR] Graph contains no edges. — bbox: (np.float64(-2.8918), np.float64(53.99799999999999), np.float64(-2.8700999999999994), np.float64(54.010999999999996))\n"
     ]
    },
    {
     "name": "stderr",
     "output_type": "stream",
     "text": [
      " 13%|█▎        | 236/1794 [02:04<15:54,  1.63it/s]"
     ]
    },
    {
     "name": "stdout",
     "output_type": "stream",
     "text": [
      "[TILE ERROR] Found no graph nodes within the requested polygon. — bbox: (np.float64(-2.8604), np.float64(53.32299999999999), np.float64(-2.8387), np.float64(53.336))\n"
     ]
    },
    {
     "name": "stderr",
     "output_type": "stream",
     "text": [
      " 19%|█▉        | 344/1794 [03:21<14:34,  1.66it/s]"
     ]
    },
    {
     "name": "stdout",
     "output_type": "stream",
     "text": [
      "[TILE ERROR] Graph contains no edges. — bbox: (np.float64(-2.6719999999999997), np.float64(51.76599999999999), np.float64(-2.6502999999999997), np.float64(51.778999999999996))\n"
     ]
    },
    {
     "name": "stderr",
     "output_type": "stream",
     "text": [
      " 22%|██▏       | 387/1794 [03:57<12:50,  1.83it/s]"
     ]
    },
    {
     "name": "stdout",
     "output_type": "stream",
     "text": [
      "[TILE ERROR] No data elements in server response. Check query location/filters and log. — bbox: (np.float64(-2.5778), np.float64(55.266999999999996), np.float64(-2.5561), np.float64(55.28))\n"
     ]
    },
    {
     "name": "stderr",
     "output_type": "stream",
     "text": [
      " 22%|██▏       | 397/1794 [04:02<08:58,  2.59it/s]"
     ]
    },
    {
     "name": "stdout",
     "output_type": "stream",
     "text": [
      "[TILE ERROR] No data elements in server response. Check query location/filters and log. — bbox: (np.float64(-2.5621), np.float64(55.239999999999995), np.float64(-2.5403999999999995), np.float64(55.253))\n",
      "[TILE ERROR] No data elements in server response. Check query location/filters and log. — bbox: (np.float64(-2.5621), np.float64(55.248999999999995), np.float64(-2.5403999999999995), np.float64(55.262))\n",
      "[TILE ERROR] No data elements in server response. Check query location/filters and log. — bbox: (np.float64(-2.5621), np.float64(55.285), np.float64(-2.5403999999999995), np.float64(55.297999999999995))\n"
     ]
    },
    {
     "name": "stderr",
     "output_type": "stream",
     "text": [
      " 23%|██▎       | 407/1794 [04:07<09:35,  2.41it/s]"
     ]
    },
    {
     "name": "stdout",
     "output_type": "stream",
     "text": [
      "[TILE ERROR] No data elements in server response. Check query location/filters and log. — bbox: (np.float64(-2.5463999999999998), np.float64(55.239999999999995), np.float64(-2.5246999999999997), np.float64(55.253))\n",
      "[TILE ERROR] No data elements in server response. Check query location/filters and log. — bbox: (np.float64(-2.5463999999999998), np.float64(55.248999999999995), np.float64(-2.5246999999999997), np.float64(55.262))\n",
      "[TILE ERROR] No data elements in server response. Check query location/filters and log. — bbox: (np.float64(-2.5463999999999998), np.float64(55.266999999999996), np.float64(-2.5246999999999997), np.float64(55.28))\n"
     ]
    },
    {
     "name": "stderr",
     "output_type": "stream",
     "text": [
      " 23%|██▎       | 409/1794 [04:07<06:34,  3.51it/s]"
     ]
    },
    {
     "name": "stdout",
     "output_type": "stream",
     "text": [
      "[TILE ERROR] No data elements in server response. Check query location/filters and log. — bbox: (np.float64(-2.5463999999999998), np.float64(55.275999999999996), np.float64(-2.5246999999999997), np.float64(55.289))\n",
      "[TILE ERROR] No data elements in server response. Check query location/filters and log. — bbox: (np.float64(-2.5463999999999998), np.float64(55.285), np.float64(-2.5246999999999997), np.float64(55.297999999999995))\n"
     ]
    },
    {
     "name": "stderr",
     "output_type": "stream",
     "text": [
      " 24%|██▎       | 426/1794 [04:15<07:24,  3.08it/s]"
     ]
    },
    {
     "name": "stdout",
     "output_type": "stream",
     "text": [
      "[TILE ERROR] No data elements in server response. Check query location/filters and log. — bbox: (np.float64(-2.5149999999999997), np.float64(55.266999999999996), np.float64(-2.4932999999999996), np.float64(55.28))\n"
     ]
    },
    {
     "name": "stderr",
     "output_type": "stream",
     "text": [
      " 24%|██▍       | 432/1794 [04:19<10:59,  2.06it/s]"
     ]
    },
    {
     "name": "stdout",
     "output_type": "stream",
     "text": [
      "[TILE ERROR] No data elements in server response. Check query location/filters and log. — bbox: (np.float64(-2.4993), np.float64(55.275999999999996), np.float64(-2.4776), np.float64(55.289))\n"
     ]
    },
    {
     "name": "stderr",
     "output_type": "stream",
     "text": [
      " 26%|██▌       | 459/1794 [04:34<08:34,  2.59it/s]"
     ]
    },
    {
     "name": "stdout",
     "output_type": "stream",
     "text": [
      "[TILE ERROR] Graph contains no edges. — bbox: (np.float64(-2.3737), np.float64(52.37799999999999), np.float64(-2.352), np.float64(52.391))\n"
     ]
    },
    {
     "name": "stderr",
     "output_type": "stream",
     "text": [
      " 26%|██▌       | 462/1794 [04:36<13:12,  1.68it/s]"
     ]
    },
    {
     "name": "stdout",
     "output_type": "stream",
     "text": [
      "[TILE ERROR] No data elements in server response. Check query location/filters and log. — bbox: (np.float64(-2.3737), np.float64(55.01499999999999), np.float64(-2.352), np.float64(55.028))\n"
     ]
    },
    {
     "name": "stderr",
     "output_type": "stream",
     "text": [
      " 27%|██▋       | 477/1794 [04:45<09:34,  2.29it/s]"
     ]
    },
    {
     "name": "stdout",
     "output_type": "stream",
     "text": [
      "[TILE ERROR] Found no graph nodes within the requested polygon. — bbox: (np.float64(-2.3266), np.float64(52.971999999999994), np.float64(-2.3048999999999995), np.float64(52.985))\n"
     ]
    },
    {
     "name": "stderr",
     "output_type": "stream",
     "text": [
      " 30%|███       | 545/1794 [05:42<14:04,  1.48it/s]"
     ]
    },
    {
     "name": "stdout",
     "output_type": "stream",
     "text": [
      "[TILE ERROR] Graph contains no edges. — bbox: (np.float64(-2.1853), np.float64(50.730999999999995), np.float64(-2.1635999999999997), np.float64(50.744))\n"
     ]
    },
    {
     "name": "stderr",
     "output_type": "stream",
     "text": [
      " 31%|███       | 554/1794 [05:47<08:03,  2.56it/s]"
     ]
    },
    {
     "name": "stdout",
     "output_type": "stream",
     "text": [
      "[TILE ERROR] Graph contains no edges. — bbox: (np.float64(-2.1696), np.float64(50.730999999999995), np.float64(-2.1479), np.float64(50.744))\n"
     ]
    },
    {
     "name": "stderr",
     "output_type": "stream",
     "text": [
      " 32%|███▏      | 572/1794 [06:02<10:23,  1.96it/s]"
     ]
    },
    {
     "name": "stdout",
     "output_type": "stream",
     "text": [
      "[TILE ERROR] Found no graph nodes within the requested polygon. — bbox: (np.float64(-2.1382), np.float64(50.712999999999994), np.float64(-2.1165), np.float64(50.726))\n"
     ]
    },
    {
     "name": "stderr",
     "output_type": "stream",
     "text": [
      " 32%|███▏      | 579/1794 [06:09<14:38,  1.38it/s]"
     ]
    },
    {
     "name": "stdout",
     "output_type": "stream",
     "text": [
      "[TILE ERROR] Found no graph nodes within the requested polygon. — bbox: (np.float64(-2.1382), np.float64(53.99799999999999), np.float64(-2.1165), np.float64(54.010999999999996))\n"
     ]
    },
    {
     "name": "stderr",
     "output_type": "stream",
     "text": [
      " 32%|███▏      | 582/1794 [06:10<09:23,  2.15it/s]"
     ]
    },
    {
     "name": "stdout",
     "output_type": "stream",
     "text": [
      "[TILE ERROR] Found no graph nodes within the requested polygon. — bbox: (np.float64(-2.1225), np.float64(50.721999999999994), np.float64(-2.1007999999999996), np.float64(50.735))\n"
     ]
    },
    {
     "name": "stderr",
     "output_type": "stream",
     "text": [
      " 36%|███▌      | 645/1794 [07:04<21:31,  1.12s/it]"
     ]
    },
    {
     "name": "stdout",
     "output_type": "stream",
     "text": [
      "[TILE ERROR] Found no graph nodes within the requested polygon. — bbox: (np.float64(-2.0126), np.float64(52.76499999999999), np.float64(-1.9909), np.float64(52.778))\n"
     ]
    },
    {
     "name": "stderr",
     "output_type": "stream",
     "text": [
      " 39%|███▉      | 699/1794 [07:36<10:24,  1.75it/s]"
     ]
    },
    {
     "name": "stdout",
     "output_type": "stream",
     "text": [
      "[TILE ERROR] Found no graph nodes within the requested polygon. — bbox: (np.float64(-1.8555999999999997), np.float64(51.01899999999999), np.float64(-1.8338999999999999), np.float64(51.032))\n"
     ]
    },
    {
     "name": "stderr",
     "output_type": "stream",
     "text": [
      " 47%|████▋     | 852/1794 [09:31<05:07,  3.07it/s]"
     ]
    },
    {
     "name": "stdout",
     "output_type": "stream",
     "text": [
      "[TILE ERROR] Found no graph nodes within the requested polygon. — bbox: (np.float64(-1.3531999999999997), np.float64(52.87299999999999), np.float64(-1.3315), np.float64(52.885999999999996))\n"
     ]
    },
    {
     "name": "stderr",
     "output_type": "stream",
     "text": [
      " 51%|█████     | 918/1794 [10:14<09:36,  1.52it/s]"
     ]
    },
    {
     "name": "stdout",
     "output_type": "stream",
     "text": [
      "[TILE ERROR] Graph contains no edges. — bbox: (np.float64(-1.2589999999999997), np.float64(54.61899999999999), np.float64(-1.2373), np.float64(54.632))\n"
     ]
    },
    {
     "name": "stderr",
     "output_type": "stream",
     "text": [
      " 52%|█████▏    | 928/1794 [10:20<08:40,  1.66it/s]"
     ]
    },
    {
     "name": "stdout",
     "output_type": "stream",
     "text": [
      "[TILE ERROR] Found no graph nodes within the requested polygon. — bbox: (np.float64(-1.2275999999999998), np.float64(52.68399999999999), np.float64(-1.2059), np.float64(52.696999999999996))\n"
     ]
    },
    {
     "name": "stderr",
     "output_type": "stream",
     "text": [
      " 52%|█████▏    | 935/1794 [10:24<09:03,  1.58it/s]"
     ]
    },
    {
     "name": "stdout",
     "output_type": "stream",
     "text": [
      "[TILE ERROR] Found no graph nodes within the requested polygon. — bbox: (np.float64(-1.2118999999999998), np.float64(53.32299999999999), np.float64(-1.1902), np.float64(53.336))\n"
     ]
    },
    {
     "name": "stderr",
     "output_type": "stream",
     "text": [
      " 53%|█████▎    | 951/1794 [10:39<15:49,  1.13s/it]"
     ]
    },
    {
     "name": "stdout",
     "output_type": "stream",
     "text": [
      "[TILE ERROR] Graph contains no edges. — bbox: (np.float64(-1.1804999999999999), np.float64(51.18099999999999), np.float64(-1.1588), np.float64(51.193999999999996))\n"
     ]
    },
    {
     "name": "stderr",
     "output_type": "stream",
     "text": [
      " 54%|█████▍    | 965/1794 [10:53<12:23,  1.11it/s]"
     ]
    },
    {
     "name": "stdout",
     "output_type": "stream",
     "text": [
      "[TILE ERROR] Graph contains no edges. — bbox: (np.float64(-1.1647999999999998), np.float64(51.81099999999999), np.float64(-1.1431), np.float64(51.824))\n"
     ]
    },
    {
     "name": "stderr",
     "output_type": "stream",
     "text": [
      " 56%|█████▋    | 1012/1794 [11:31<07:42,  1.69it/s]"
     ]
    },
    {
     "name": "stdout",
     "output_type": "stream",
     "text": [
      "[TILE ERROR] Graph contains no edges. — bbox: (np.float64(-1.1019999999999999), np.float64(53.151999999999994), np.float64(-1.0803), np.float64(53.165))\n"
     ]
    },
    {
     "name": "stderr",
     "output_type": "stream",
     "text": [
      " 58%|█████▊    | 1038/1794 [11:52<04:44,  2.66it/s]"
     ]
    },
    {
     "name": "stdout",
     "output_type": "stream",
     "text": [
      "[TILE ERROR] Found no graph nodes within the requested polygon. — bbox: (np.float64(-1.0548999999999997), np.float64(51.702999999999996), np.float64(-1.0332000000000001), np.float64(51.716))\n"
     ]
    },
    {
     "name": "stderr",
     "output_type": "stream",
     "text": [
      " 60%|█████▉    | 1069/1794 [12:11<04:05,  2.95it/s]"
     ]
    },
    {
     "name": "stdout",
     "output_type": "stream",
     "text": [
      "[TILE ERROR] Found no graph nodes within the requested polygon. — bbox: (np.float64(-0.9920999999999999), np.float64(53.160999999999994), np.float64(-0.9703999999999999), np.float64(53.174))\n"
     ]
    },
    {
     "name": "stderr",
     "output_type": "stream",
     "text": [
      " 60%|█████▉    | 1074/1794 [12:15<09:38,  1.24it/s]"
     ]
    },
    {
     "name": "stdout",
     "output_type": "stream",
     "text": [
      "[TILE ERROR] Found no graph nodes within the requested polygon. — bbox: (np.float64(-0.9763999999999999), np.float64(54.501999999999995), np.float64(-0.9546999999999999), np.float64(54.515))\n"
     ]
    },
    {
     "name": "stderr",
     "output_type": "stream",
     "text": [
      " 63%|██████▎   | 1139/1794 [13:16<05:33,  1.96it/s]"
     ]
    },
    {
     "name": "stdout",
     "output_type": "stream",
     "text": [
      "[TILE ERROR] Found no graph nodes within the requested polygon. — bbox: (np.float64(-0.8193999999999999), np.float64(52.611999999999995), np.float64(-0.7977), np.float64(52.625))\n"
     ]
    },
    {
     "name": "stderr",
     "output_type": "stream",
     "text": [
      " 65%|██████▍   | 1158/1794 [13:30<05:48,  1.83it/s]"
     ]
    },
    {
     "name": "stdout",
     "output_type": "stream",
     "text": [
      "[TILE ERROR] Found no graph nodes within the requested polygon. — bbox: (np.float64(-0.7879999999999999), np.float64(54.312999999999995), np.float64(-0.7663), np.float64(54.326))\n"
     ]
    },
    {
     "name": "stderr",
     "output_type": "stream",
     "text": [
      " 65%|██████▌   | 1168/1794 [13:40<08:47,  1.19it/s]"
     ]
    },
    {
     "name": "stdout",
     "output_type": "stream",
     "text": [
      "[TILE ERROR] Found no graph nodes within the requested polygon. — bbox: (np.float64(-0.7723), np.float64(54.312999999999995), np.float64(-0.7505999999999999), np.float64(54.326))\n"
     ]
    },
    {
     "name": "stderr",
     "output_type": "stream",
     "text": [
      " 65%|██████▌   | 1171/1794 [13:42<05:48,  1.79it/s]"
     ]
    },
    {
     "name": "stdout",
     "output_type": "stream",
     "text": [
      "[TILE ERROR] Found no graph nodes within the requested polygon. — bbox: (np.float64(-0.7565999999999999), np.float64(51.03699999999999), np.float64(-0.7348999999999999), np.float64(51.05))\n"
     ]
    },
    {
     "name": "stderr",
     "output_type": "stream",
     "text": [
      " 66%|██████▌   | 1179/1794 [13:50<08:07,  1.26it/s]"
     ]
    },
    {
     "name": "stdout",
     "output_type": "stream",
     "text": [
      "[TILE ERROR] Graph contains no edges. — bbox: (np.float64(-0.7565999999999999), np.float64(54.321999999999996), np.float64(-0.7348999999999999), np.float64(54.335))\n"
     ]
    },
    {
     "name": "stderr",
     "output_type": "stream",
     "text": [
      " 66%|██████▌   | 1188/1794 [13:56<03:08,  3.21it/s]"
     ]
    },
    {
     "name": "stdout",
     "output_type": "stream",
     "text": [
      "[TILE ERROR] Graph contains no edges. — bbox: (np.float64(-0.7408999999999999), np.float64(53.224), np.float64(-0.7192), np.float64(53.237))\n",
      "[TILE ERROR] Found no graph nodes within the requested polygon. — bbox: (np.float64(-0.7408999999999999), np.float64(54.321999999999996), np.float64(-0.7192), np.float64(54.335))\n",
      "[TILE ERROR] Graph contains no edges. — bbox: (np.float64(-0.7408999999999999), np.float64(54.330999999999996), np.float64(-0.7192), np.float64(54.344))\n",
      "[TILE ERROR] Found no graph nodes within the requested polygon. — bbox: (np.float64(-0.7408999999999999), np.float64(54.339999999999996), np.float64(-0.7192), np.float64(54.353))\n"
     ]
    },
    {
     "name": "stderr",
     "output_type": "stream",
     "text": [
      " 67%|██████▋   | 1197/1794 [13:58<01:58,  5.04it/s]"
     ]
    },
    {
     "name": "stdout",
     "output_type": "stream",
     "text": [
      "[TILE ERROR] No data elements in server response. Check query location/filters and log. — bbox: (np.float64(-0.7252), np.float64(54.330999999999996), np.float64(-0.7034999999999999), np.float64(54.344))\n",
      "[TILE ERROR] No data elements in server response. Check query location/filters and log. — bbox: (np.float64(-0.7252), np.float64(54.349), np.float64(-0.7034999999999999), np.float64(54.362))\n"
     ]
    },
    {
     "name": "stderr",
     "output_type": "stream",
     "text": [
      " 67%|██████▋   | 1209/1794 [14:02<05:00,  1.95it/s]"
     ]
    },
    {
     "name": "stdout",
     "output_type": "stream",
     "text": [
      "[TILE ERROR] Found no graph nodes within the requested polygon. — bbox: (np.float64(-0.7094999999999999), np.float64(54.36699999999999), np.float64(-0.6878), np.float64(54.379999999999995))\n"
     ]
    },
    {
     "name": "stderr",
     "output_type": "stream",
     "text": [
      " 68%|██████▊   | 1220/1794 [14:07<04:12,  2.28it/s]"
     ]
    },
    {
     "name": "stdout",
     "output_type": "stream",
     "text": [
      "[TILE ERROR] Found no graph nodes within the requested polygon. — bbox: (np.float64(-0.6938), np.float64(53.66499999999999), np.float64(-0.6720999999999999), np.float64(53.678))\n"
     ]
    },
    {
     "name": "stderr",
     "output_type": "stream",
     "text": [
      " 69%|██████▊   | 1230/1794 [14:11<03:49,  2.45it/s]"
     ]
    },
    {
     "name": "stdout",
     "output_type": "stream",
     "text": [
      "[TILE ERROR] No data elements in server response. Check query location/filters and log. — bbox: (np.float64(-0.6780999999999999), np.float64(54.25899999999999), np.float64(-0.6564), np.float64(54.272))\n"
     ]
    },
    {
     "name": "stderr",
     "output_type": "stream",
     "text": [
      " 70%|██████▉   | 1250/1794 [14:20<05:25,  1.67it/s]"
     ]
    },
    {
     "name": "stdout",
     "output_type": "stream",
     "text": [
      "[TILE ERROR] Found no graph nodes within the requested polygon. — bbox: (np.float64(-0.6466999999999999), np.float64(54.276999999999994), np.float64(-0.6249999999999999), np.float64(54.29))\n"
     ]
    },
    {
     "name": "stderr",
     "output_type": "stream",
     "text": [
      " 70%|███████   | 1259/1794 [14:24<04:55,  1.81it/s]"
     ]
    },
    {
     "name": "stdout",
     "output_type": "stream",
     "text": [
      "[TILE ERROR] Found no graph nodes within the requested polygon. — bbox: (np.float64(-0.6309999999999999), np.float64(54.276999999999994), np.float64(-0.6093), np.float64(54.29))\n"
     ]
    },
    {
     "name": "stderr",
     "output_type": "stream",
     "text": [
      " 71%|███████   | 1268/1794 [14:32<07:59,  1.10it/s]"
     ]
    },
    {
     "name": "stdout",
     "output_type": "stream",
     "text": [
      "[TILE ERROR] Found no graph nodes within the requested polygon. — bbox: (np.float64(-0.5995999999999999), np.float64(51.80199999999999), np.float64(-0.5779), np.float64(51.815))\n"
     ]
    },
    {
     "name": "stderr",
     "output_type": "stream",
     "text": [
      " 72%|███████▏  | 1284/1794 [14:44<04:45,  1.79it/s]"
     ]
    },
    {
     "name": "stdout",
     "output_type": "stream",
     "text": [
      "[TILE ERROR] Found no graph nodes within the requested polygon. — bbox: (np.float64(-0.5525), np.float64(54.276999999999994), np.float64(-0.5307999999999999), np.float64(54.29))\n",
      "[TILE ERROR] Graph contains no edges. — bbox: (np.float64(-0.5525), np.float64(54.330999999999996), np.float64(-0.5307999999999999), np.float64(54.344))\n"
     ]
    },
    {
     "name": "stderr",
     "output_type": "stream",
     "text": [
      " 73%|███████▎  | 1313/1794 [14:59<04:16,  1.87it/s]"
     ]
    },
    {
     "name": "stdout",
     "output_type": "stream",
     "text": [
      "[TILE ERROR] Graph contains no edges. — bbox: (np.float64(-0.37979999999999997), np.float64(50.964999999999996), np.float64(-0.3581), np.float64(50.978))\n"
     ]
    },
    {
     "name": "stderr",
     "output_type": "stream",
     "text": [
      " 75%|███████▍  | 1340/1794 [15:14<03:01,  2.50it/s]"
     ]
    },
    {
     "name": "stdout",
     "output_type": "stream",
     "text": [
      "[TILE ERROR] Graph contains no edges. — bbox: (np.float64(-0.3327), np.float64(52.38699999999999), np.float64(-0.31099999999999994), np.float64(52.4))\n"
     ]
    },
    {
     "name": "stderr",
     "output_type": "stream",
     "text": [
      " 76%|███████▌  | 1360/1794 [15:26<02:23,  3.03it/s]"
     ]
    },
    {
     "name": "stdout",
     "output_type": "stream",
     "text": [
      "[TILE ERROR] Found no graph nodes within the requested polygon. — bbox: (np.float64(-0.28559999999999997), np.float64(51.44199999999999), np.float64(-0.26389999999999997), np.float64(51.455))\n"
     ]
    },
    {
     "name": "stderr",
     "output_type": "stream",
     "text": [
      " 77%|███████▋  | 1383/1794 [15:42<03:12,  2.13it/s]"
     ]
    },
    {
     "name": "stdout",
     "output_type": "stream",
     "text": [
      "[TILE ERROR] Found no graph nodes within the requested polygon. — bbox: (np.float64(-0.2542), np.float64(52.260999999999996), np.float64(-0.23249999999999998), np.float64(52.274))\n"
     ]
    },
    {
     "name": "stderr",
     "output_type": "stream",
     "text": [
      " 78%|███████▊  | 1394/1794 [15:48<03:09,  2.11it/s]"
     ]
    },
    {
     "name": "stdout",
     "output_type": "stream",
     "text": [
      "[TILE ERROR] Found no graph nodes within the requested polygon. — bbox: (np.float64(-0.2385), np.float64(52.38699999999999), np.float64(-0.2168), np.float64(52.4))\n"
     ]
    },
    {
     "name": "stderr",
     "output_type": "stream",
     "text": [
      " 81%|████████  | 1448/1794 [16:45<07:46,  1.35s/it]"
     ]
    },
    {
     "name": "stdout",
     "output_type": "stream",
     "text": [
      "[TILE ERROR] Found no graph nodes within the requested polygon. — bbox: (np.float64(-0.14429999999999998), np.float64(52.36899999999999), np.float64(-0.12259999999999999), np.float64(52.382))\n"
     ]
    },
    {
     "name": "stderr",
     "output_type": "stream",
     "text": [
      " 84%|████████▎ | 1500/1794 [17:43<04:45,  1.03it/s]"
     ]
    },
    {
     "name": "stdout",
     "output_type": "stream",
     "text": [
      "[TILE ERROR] Graph contains no edges. — bbox: (np.float64(-0.0501), np.float64(52.584999999999994), np.float64(-0.028399999999999998), np.float64(52.598))\n"
     ]
    },
    {
     "name": "stderr",
     "output_type": "stream",
     "text": [
      " 85%|████████▌ | 1527/1794 [18:11<02:42,  1.64it/s]"
     ]
    },
    {
     "name": "stdout",
     "output_type": "stream",
     "text": [
      "[TILE ERROR] Graph contains no edges. — bbox: (np.float64(-0.003), np.float64(52.404999999999994), np.float64(0.018699999999999998), np.float64(52.418))\n"
     ]
    },
    {
     "name": "stderr",
     "output_type": "stream",
     "text": [
      " 87%|████████▋ | 1561/1794 [18:41<02:30,  1.54it/s]"
     ]
    },
    {
     "name": "stdout",
     "output_type": "stream",
     "text": [
      "[TILE ERROR] Found no graph nodes within the requested polygon. — bbox: (np.float64(0.05979999999999999), np.float64(52.404999999999994), np.float64(0.08149999999999999), np.float64(52.418))\n"
     ]
    },
    {
     "name": "stderr",
     "output_type": "stream",
     "text": [
      " 89%|████████▉ | 1595/1794 [19:03<02:10,  1.53it/s]"
     ]
    },
    {
     "name": "stdout",
     "output_type": "stream",
     "text": [
      "[TILE ERROR] Found no graph nodes within the requested polygon. — bbox: (np.float64(0.1069), np.float64(52.297), np.float64(0.1286), np.float64(52.309999999999995))\n"
     ]
    },
    {
     "name": "stderr",
     "output_type": "stream",
     "text": [
      " 93%|█████████▎| 1666/1794 [19:47<00:56,  2.25it/s]"
     ]
    },
    {
     "name": "stdout",
     "output_type": "stream",
     "text": [
      "[TILE ERROR] Graph contains no edges. — bbox: (np.float64(0.3581), np.float64(51.06399999999999), np.float64(0.37979999999999997), np.float64(51.077))\n"
     ]
    },
    {
     "name": "stderr",
     "output_type": "stream",
     "text": [
      " 93%|█████████▎| 1671/1794 [19:50<00:59,  2.05it/s]"
     ]
    },
    {
     "name": "stdout",
     "output_type": "stream",
     "text": [
      "[TILE ERROR] Found no graph nodes within the requested polygon. — bbox: (np.float64(0.3581), np.float64(52.32399999999999), np.float64(0.37979999999999997), np.float64(52.336999999999996))\n"
     ]
    },
    {
     "name": "stderr",
     "output_type": "stream",
     "text": [
      " 94%|█████████▍| 1683/1794 [19:58<01:20,  1.37it/s]"
     ]
    },
    {
     "name": "stdout",
     "output_type": "stream",
     "text": [
      "[TILE ERROR] Found no graph nodes within the requested polygon. — bbox: (np.float64(0.40519999999999995), np.float64(52.16199999999999), np.float64(0.42689999999999995), np.float64(52.175))\n"
     ]
    },
    {
     "name": "stderr",
     "output_type": "stream",
     "text": [
      " 94%|█████████▍| 1685/1794 [19:58<00:58,  1.86it/s]"
     ]
    },
    {
     "name": "stdout",
     "output_type": "stream",
     "text": [
      "[TILE ERROR] Found no graph nodes within the requested polygon. — bbox: (np.float64(0.40519999999999995), np.float64(52.288), np.float64(0.42689999999999995), np.float64(52.301))\n"
     ]
    },
    {
     "name": "stderr",
     "output_type": "stream",
     "text": [
      " 94%|█████████▍| 1687/1794 [20:00<00:56,  1.88it/s]"
     ]
    },
    {
     "name": "stdout",
     "output_type": "stream",
     "text": [
      "[TILE ERROR] Graph contains no edges. — bbox: (np.float64(0.42089999999999994), np.float64(51.96399999999999), np.float64(0.4426), np.float64(51.977))\n"
     ]
    },
    {
     "name": "stderr",
     "output_type": "stream",
     "text": [
      " 95%|█████████▍| 1701/1794 [20:13<01:03,  1.45it/s]"
     ]
    },
    {
     "name": "stdout",
     "output_type": "stream",
     "text": [
      "[TILE ERROR] Found no graph nodes within the requested polygon. — bbox: (np.float64(0.46799999999999997), np.float64(52.827999999999996), np.float64(0.48969999999999997), np.float64(52.841))\n"
     ]
    },
    {
     "name": "stderr",
     "output_type": "stream",
     "text": [
      " 96%|█████████▋| 1731/1794 [20:28<00:43,  1.46it/s]"
     ]
    },
    {
     "name": "stdout",
     "output_type": "stream",
     "text": [
      "[TILE ERROR] Found no graph nodes within the requested polygon. — bbox: (np.float64(0.6249999999999999), np.float64(50.919999999999995), np.float64(0.6466999999999999), np.float64(50.933))\n"
     ]
    },
    {
     "name": "stderr",
     "output_type": "stream",
     "text": [
      " 97%|█████████▋| 1745/1794 [20:33<00:19,  2.54it/s]"
     ]
    },
    {
     "name": "stdout",
     "output_type": "stream",
     "text": [
      "[TILE ERROR] Found no graph nodes within the requested polygon. — bbox: (np.float64(0.7348999999999999), np.float64(51.837999999999994), np.float64(0.7565999999999999), np.float64(51.851))\n"
     ]
    },
    {
     "name": "stderr",
     "output_type": "stream",
     "text": [
      "100%|██████████| 1794/1794 [21:13<00:00,  1.41it/s]\n"
     ]
    }
   ],
   "source": [
    "import osmnx as ox\n",
    "from shapely.geometry import Point\n",
    "import geopandas as gpd\n",
    "import numpy as np\n",
    "from tqdm import tqdm\n",
    "\n",
    "# Construct GeoDataFrame\n",
    "df['geometry'] = [Point(xy) for xy in zip(df['decimalLongitude'], df['decimalLatitude'])]\n",
    "gdf = gpd.GeoDataFrame(df, geometry='geometry', crs='EPSG:4326')\n",
    "\n",
    "# Define spatial tiling: 0.05 x 0.05 degrees\n",
    "tile_size_lat = 0.009   # ~1 km in latitude degrees\n",
    "tile_size_lon = 0.0157  # ~1 km in longitude degrees\n",
    "padding_lat = 0.002  # ~200m latitude padding\n",
    "padding_lon = 0.003  # ~200-300m longitude padding\n",
    "\n",
    "gdf['tile_x'] = (gdf['decimalLongitude'] // tile_size_lon).astype(int)\n",
    "gdf['tile_y'] = (gdf['decimalLatitude'] // tile_size_lat).astype(int)\n",
    "\n",
    "# Group by tile\n",
    "grouped = gdf.groupby(['tile_x', 'tile_y'])\n",
    "\n",
    "# Store results\n",
    "all_distances = []\n",
    "\n",
    "for (tile_x, tile_y), group in tqdm(grouped, total=len(grouped)):\n",
    "    west = tile_x * tile_size_lon - padding_lon\n",
    "    south = tile_y * tile_size_lat - padding_lat\n",
    "    east = (tile_x + 1) * tile_size_lon + padding_lon\n",
    "    north = (tile_y + 1) * tile_size_lat + padding_lat\n",
    "    bbox = (west, south, east, north)\n",
    "\n",
    "\n",
    "    try:\n",
    "        G = ox.graph_from_bbox(bbox, network_type='drive_service')\n",
    "        if len(G.nodes) == 0:\n",
    "            print(f\"[EMPTY GRAPH] bbox: {bbox}, skipping...\")\n",
    "            all_distances.extend([np.nan] * len(group))\n",
    "            continue\n",
    "\n",
    "        G_proj = ox.project_graph(G)\n",
    "        nodes_proj, edges_proj = ox.graph_to_gdfs(G_proj)\n",
    "        points_proj = group.geometry.to_crs(nodes_proj.crs)\n",
    "\n",
    "        for point_proj in points_proj:\n",
    "            try:\n",
    "                u, v, k = ox.distance.nearest_edges(G_proj, [point_proj.x], [point_proj.y])[0]\n",
    "                edge_geom = edges_proj.loc[(u, v, k)]['geometry']\n",
    "                distance = point_proj.distance(edge_geom)\n",
    "                all_distances.append(distance)\n",
    "            except Exception as e:\n",
    "                print(f\"  [Point ERROR] {e}\")\n",
    "                all_distances.append(np.nan)\n",
    "\n",
    "    except Exception as e:\n",
    "        print(f\"[TILE ERROR] {e} — bbox: {bbox}\")\n",
    "        all_distances.extend([np.nan] * len(group))\n",
    "\n",
    "\n",
    "# Store back in original DataFrame order\n",
    "gdf['distance_to_road'] = all_distances"
   ],
   "metadata": {
    "collapsed": false,
    "ExecuteTime": {
     "end_time": "2025-08-05T03:23:32.506698Z",
     "start_time": "2025-08-05T03:02:18.681056Z"
    }
   },
   "id": "423b6b10fa3e47c4"
  },
  {
   "cell_type": "code",
   "execution_count": 9,
   "outputs": [],
   "source": [
    "gdf['near_road'] = np.where(gdf['distance_to_road'] <= 500, 1, 0)        "
   ],
   "metadata": {
    "collapsed": false,
    "ExecuteTime": {
     "end_time": "2025-08-05T03:23:32.519695Z",
     "start_time": "2025-08-05T03:23:32.505677Z"
    }
   },
   "id": "4a457e4113b41528"
  },
  {
   "cell_type": "code",
   "execution_count": 10,
   "outputs": [],
   "source": [
    "gdf=gdf.drop(['tile_x', 'tile_y', 'geometry', 'distance_to_road'], axis=1)"
   ],
   "metadata": {
    "collapsed": false,
    "ExecuteTime": {
     "end_time": "2025-08-05T03:23:32.525744Z",
     "start_time": "2025-08-05T03:23:32.519525Z"
    }
   },
   "id": "8c42f8b1ddc3eb76"
  },
  {
   "cell_type": "code",
   "execution_count": 11,
   "outputs": [
    {
     "name": "stderr",
     "output_type": "stream",
     "text": [
      "100%|██████████| 6908/6908 [03:35<00:00, 32.04it/s]\n"
     ]
    }
   ],
   "source": [
    "from pyproj import Transformer\n",
    "from rasterio.windows import Window\n",
    "import rasterio\n",
    "from collections import Counter\n",
    "import numpy as np\n",
    "\n",
    "\n",
    "land_cover_map = {\n",
    "    1: \"Deciduous woodland\",\n",
    "    2: \"Coniferous woodland\",\n",
    "    3: \"Arable\",\n",
    "    4: \"Improved grassland\",\n",
    "    5: \"Neutral grassland\",\n",
    "    6: \"Calcareous grassland\",\n",
    "    7: \"Acid grassland\",\n",
    "    8: \"Fen\",\n",
    "    9: \"Heather\",\n",
    "    10: \"Heather grassland\",\n",
    "    11: \"Bog\",\n",
    "    12: \"Inland rock\",\n",
    "    13: \"Saltwater\",\n",
    "    14: \"Freshwater\",\n",
    "    15: \"Supralittoral rock\",\n",
    "    16: \"Supralittoral sediment\",\n",
    "    17: \"Littoral rock\",\n",
    "    18: \"Littoral sediment\",\n",
    "    19: \"Saltmarsh\",\n",
    "    20: \"Urban\",\n",
    "    21: \"Suburban\"\n",
    "}\n",
    "\n",
    "# Batch coordinate transformation\n",
    "transformer_ni = Transformer.from_crs(\"EPSG:4326\", \"EPSG:29903\", always_xy=True)\n",
    "transformer_gb = Transformer.from_crs(\"EPSG:4326\", \"EPSG:27700\", always_xy=True)\n",
    "\n",
    "coords = list(zip(gdf['decimalLongitude'], gdf['decimalLatitude']))\n",
    "gdf['easting_ni'], gdf['northing_ni'] = zip(*transformer_ni.itransform(coords))\n",
    "gdf['easting_gb'], gdf['northing_gb'] = zip(*transformer_gb.itransform(coords))\n",
    "\n",
    "# Raster processing optimization\n",
    "gb_raster = 'gblcm2023_10m.tif'\n",
    "n_ireland_raster = 'nilcm2023_10m.tif'\n",
    "\n",
    "\n",
    "def get_land_cover_class_1km(row):\n",
    "    try:\n",
    "        window_size_pixels = 100  # 1 km / 10m resolution\n",
    "\n",
    "        # Open GB raster and read 1km x 1km window\n",
    "        with rasterio.open(gb_raster) as src:\n",
    "            row_idx, col_idx = src.index(row['easting_gb'], row['northing_gb'])\n",
    "\n",
    "            # Calculate window bounds, making sure not to go out of raster bounds\n",
    "            row_start = max(row_idx - window_size_pixels // 2, 0)\n",
    "            col_start = max(col_idx - window_size_pixels // 2, 0)\n",
    "\n",
    "            # Adjust window size if near edges\n",
    "            height = min(window_size_pixels, src.height - row_start)\n",
    "            width = min(window_size_pixels, src.width - col_start)\n",
    "\n",
    "            window = Window(col_start, row_start, width, height)\n",
    "            data = src.read(1, window=window)\n",
    "\n",
    "            # If all zero (or no data), fallback to NI raster\n",
    "            if np.all(data == 0):\n",
    "                with rasterio.open(n_ireland_raster) as src_ni:\n",
    "                    row_idx_ni, col_idx_ni = src_ni.index(row['easting_ni'], row['northing_ni'])\n",
    "\n",
    "                    row_start_ni = max(row_idx_ni - window_size_pixels // 2, 0)\n",
    "                    col_start_ni = max(col_idx_ni - window_size_pixels // 2, 0)\n",
    "\n",
    "                    height_ni = min(window_size_pixels, src_ni.height - row_start_ni)\n",
    "                    width_ni = min(window_size_pixels, src_ni.width - col_start_ni)\n",
    "\n",
    "                    window_ni = Window(col_start_ni, row_start_ni, width_ni, height_ni)\n",
    "                    data_ni = src_ni.read(1, window=window_ni)\n",
    "\n",
    "                    data = data_ni\n",
    "\n",
    "            # Find the most common class (mode) ignoring zeros (assuming 0 means no data)\n",
    "            unique, counts = np.unique(data[data != 0], return_counts=True)\n",
    "            if len(counts) == 0:\n",
    "                return \"Unknown\"\n",
    "\n",
    "            mode_class = unique[np.argmax(counts)]\n",
    "            return land_cover_map.get(mode_class, \"Unknown\")\n",
    "\n",
    "    except Exception as e:\n",
    "        print(f\"Error processing row: {e}\")\n",
    "        return \"Unknown\"\n",
    "\n",
    "\n",
    "tqdm.pandas()\n",
    "gdf['Land_cover'] = gdf.progress_apply(get_land_cover_class_1km, axis=1)\n"
   ],
   "metadata": {
    "collapsed": false,
    "ExecuteTime": {
     "end_time": "2025-08-05T03:27:08.554093Z",
     "start_time": "2025-08-05T03:23:32.527878Z"
    }
   },
   "id": "a6299b167ee6fc53"
  },
  {
   "cell_type": "code",
   "execution_count": null,
   "outputs": [],
   "source": [
    "gdf = gdf.dropna()\n",
    "gdf=gdf.drop(['easting_ni', 'northing_ni', 'easting_gb', 'northing_gb'],axis=1)\n",
    "# Remove where Land_cover is Unknown\n",
    "gdf = gdf[gdf['Land_cover'] != \"Unknown\"].reset_index(drop=True)\n",
    "gdf.to_csv(\"tgb_bat_final_data.csv\", index=False)"
   ],
   "metadata": {
    "collapsed": false
   },
   "id": "14294ed4eaa84b13"
  },
  {
   "cell_type": "code",
   "execution_count": 1,
   "outputs": [
    {
     "data": {
      "text/plain": "<Figure size 800x800 with 1 Axes>",
      "image/png": "[encoded data removed]"
     },
     "metadata": {},
     "output_type": "display_data"
    }
   ],
   "source": [
    "import pandas as pd\n",
    "df = pd.read_csv(\"tgb_bat_final_data.csv\")\n",
    "\n",
    "import matplotlib.pyplot as plt\n",
    "# df = df[df['probability'] > 0.6]\n",
    "\n",
    "# #do inverse of one-hot encoding for columns starting with \"Land_cover_\"\n",
    "# land_cover_cols = [col for col in df.columns if col.startswith('Land_cover_')]\n",
    "# def get_land_cover(row):\n",
    "#     for col in land_cover_cols:\n",
    "#         if row[col] == 1:\n",
    "#             return col.replace('Land_cover_', '')\n",
    "#     return 'Unknown'\n",
    "# df['Land_cover'] = df.apply(get_land_cover, axis=1)\n",
    "# # df = df[['decimalLatitude', 'decimalLongitude', 'probability', 'Land_cover']]\n",
    "\n",
    "# pie chart of land cover types\n",
    "land_cover_counts = df['Land_cover'].value_counts()\n",
    "land_cover_counts.plot.pie(autopct='%1.1f%%', figsize=(8, 8), title='Land Cover Types Distribution')\n",
    "plt.ylabel('')\n",
    "plt.show()\n"
   ],
   "metadata": {
    "collapsed": false,
    "ExecuteTime": {
     "end_time": "2025-09-01T12:45:46.116042Z",
     "start_time": "2025-09-01T12:45:46.002397Z"
    }
   },
   "id": "891410779c509100"
  },
  {
   "cell_type": "code",
   "execution_count": null,
   "outputs": [],
   "source": [],
   "metadata": {
    "collapsed": false
   },
   "id": "1882ee5e04e706b1"
  }
 ],
 "metadata": {
  "kernelspec": {
   "display_name": "Python 3",
   "language": "python",
   "name": "python3"
  },
  "language_info": {
   "codemirror_mode": {
    "name": "ipython",
    "version": 2
   },
   "file_extension": ".py",
   "mimetype": "text/x-python",
   "name": "python",
   "nbconvert_exporter": "python",
   "pygments_lexer": "ipython2",
   "version": "2.7.6"
  }
 },
 "nbformat": 4,
 "nbformat_minor": 5
}
