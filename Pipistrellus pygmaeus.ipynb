{
 "cells": [
  {
   "cell_type": "code",
   "execution_count": 24,
   "id": "initial_id",
   "metadata": {
    "collapsed": true,
    "ExecuteTime": {
     "end_time": "2025-08-05T02:22:43.731033Z",
     "start_time": "2025-08-05T02:22:41.862753Z"
    }
   },
   "outputs": [],
   "source": [
    "import ee\n",
    "\n",
    "# Trigger the authentication flow.\n",
    "# ee.Authenticate()\n",
    "\n",
    "ee.Initialize(project='ee-arzaaan789')"
   ]
  },
  {
   "cell_type": "code",
   "execution_count": 27,
   "outputs": [
    {
     "data": {
      "text/plain": "                 species  decimalLatitude  decimalLongitude  eventDate\n0  Pipistrellus pygmaeus        54.311602         -0.751413 2022-09-01\n1  Pipistrellus pygmaeus        50.727018         -2.157749 2022-08-14\n2  Pipistrellus pygmaeus        54.336744         -0.727657 2022-09-01\n3  Pipistrellus pygmaeus        55.283355         -2.532415 2022-08-20\n4  Pipistrellus pygmaeus        50.727475         -2.165245 2022-08-14",
      "text/html": "<div>\n<style scoped>\n    .dataframe tbody tr th:only-of-type {\n        vertical-align: middle;\n    }\n\n    .dataframe tbody tr th {\n        vertical-align: top;\n    }\n\n    .dataframe thead th {\n        text-align: right;\n    }\n</style>\n<table border=\"1\" class=\"dataframe\">\n  <thead>\n    <tr style=\"text-align: right;\">\n      <th></th>\n      <th>species</th>\n      <th>decimalLatitude</th>\n      <th>decimalLongitude</th>\n      <th>eventDate</th>\n    </tr>\n  </thead>\n  <tbody>\n    <tr>\n      <th>0</th>\n      <td>Pipistrellus pygmaeus</td>\n      <td>54.311602</td>\n      <td>-0.751413</td>\n      <td>2022-09-01</td>\n    </tr>\n    <tr>\n      <th>1</th>\n      <td>Pipistrellus pygmaeus</td>\n      <td>50.727018</td>\n      <td>-2.157749</td>\n      <td>2022-08-14</td>\n    </tr>\n    <tr>\n      <th>2</th>\n      <td>Pipistrellus pygmaeus</td>\n      <td>54.336744</td>\n      <td>-0.727657</td>\n      <td>2022-09-01</td>\n    </tr>\n    <tr>\n      <th>3</th>\n      <td>Pipistrellus pygmaeus</td>\n      <td>55.283355</td>\n      <td>-2.532415</td>\n      <td>2022-08-20</td>\n    </tr>\n    <tr>\n      <th>4</th>\n      <td>Pipistrellus pygmaeus</td>\n      <td>50.727475</td>\n      <td>-2.165245</td>\n      <td>2022-08-14</td>\n    </tr>\n  </tbody>\n</table>\n</div>"
     },
     "execution_count": 27,
     "metadata": {},
     "output_type": "execute_result"
    }
   ],
   "source": [
    "import pandas as pd\n",
    "from tqdm import tqdm\n",
    "\n",
    "df = pd.read_csv(\"Pipistrellus pygmaeus.csv\", delimiter='\\t')\n",
    "df = df[df[\"occurrenceStatus\"] == \"PRESENT\"]\n",
    "df = df[df['year']>=2022]\n",
    "# df['eventDate'] = df['eventDate'].str.replace('/','')\n",
    "df['eventDate'] = pd.to_datetime(df['eventDate'], format='%Y-%m-%d', errors='coerce')\n",
    "df = df[['species', 'decimalLatitude', 'decimalLongitude', 'eventDate']]\n",
    "df = df.dropna().reset_index(drop=True)\n",
    "df.head()"
   ],
   "metadata": {
    "collapsed": false,
    "ExecuteTime": {
     "end_time": "2025-08-05T02:23:05.270652Z",
     "start_time": "2025-08-05T02:23:04.953309Z"
    }
   },
   "id": "bd89dd4aa291f510"
  },
  {
   "cell_type": "code",
   "execution_count": 28,
   "outputs": [
    {
     "name": "stderr",
     "output_type": "stream",
     "text": [
      "Processing batches: 100%|██████████| 112/112 [05:08<00:00,  2.76s/it]"
     ]
    },
    {
     "name": "stdout",
     "output_type": "stream",
     "text": [
      "                 species  decimalLatitude  decimalLongitude  eventDate  \\\n",
      "0  Pipistrellus pygmaeus        54.311602         -0.751413 2022-09-01   \n",
      "1  Pipistrellus pygmaeus        50.727018         -2.157749 2022-08-14   \n",
      "2  Pipistrellus pygmaeus        54.336744         -0.727657 2022-09-01   \n",
      "3  Pipistrellus pygmaeus        55.283355         -2.532415 2022-08-20   \n",
      "4  Pipistrellus pygmaeus        50.727475         -2.165245 2022-08-14   \n",
      "\n",
      "        BSI         LST     MNDWI      NDBI      NDSI      NDVI      NDWI  \\\n",
      "0 -0.692737  292.908264 -0.472662 -0.327387 -0.472662  0.777469 -0.692830   \n",
      "1 -0.721747  304.522898 -0.590962 -0.178125 -0.590962  0.733947 -0.695415   \n",
      "2 -0.772899  290.637920 -0.473247 -0.460535 -0.473247  0.848369 -0.766731   \n",
      "3 -0.850200  295.399599 -0.494898 -0.529027 -0.494898  0.891343 -0.811517   \n",
      "4 -0.695184  304.637333 -0.594975 -0.120916 -0.594975  0.687739 -0.667611   \n",
      "\n",
      "       SAVI        UI  \n",
      "0  1.165866  0.327387  \n",
      "1  1.100761  0.178125  \n",
      "2  1.272334  0.460535  \n",
      "3  1.336757  0.529027  \n",
      "4  1.031456  0.120916  \n"
     ]
    },
    {
     "name": "stderr",
     "output_type": "stream",
     "text": [
      "\n"
     ]
    }
   ],
   "source": [
    "import ee\n",
    "import pandas as pd\n",
    "from datetime import datetime, timedelta\n",
    "from tqdm import tqdm\n",
    "\n",
    "# ee.Initialize()\n",
    "\n",
    "# Your dataframe 'df' must have columns: decimalLongitude, decimalLatitude\n",
    "# Example: df = pd.read_csv(\"Erinaceus europaeus.csv\", delimiter='\\t')\n",
    "\n",
    "def create_aoi(lon, lat, box_size_km=1):\n",
    "    \"\"\"Create approx 1km x 1km square polygon around lon, lat.\"\"\"\n",
    "    half_side_deg = box_size_km / 111.32 / 2  # Rough approx degrees per km\n",
    "\n",
    "    coords = [\n",
    "        [lon - half_side_deg, lat - half_side_deg],\n",
    "        [lon + half_side_deg, lat - half_side_deg],\n",
    "        [lon + half_side_deg, lat + half_side_deg],\n",
    "        [lon - half_side_deg, lat + half_side_deg],\n",
    "        [lon - half_side_deg, lat - half_side_deg]\n",
    "    ]\n",
    "    return ee.Geometry.Polygon(coords)\n",
    "\n",
    "def compute_all_indices(feature, start_date, end_date):\n",
    "    \"\"\"Compute spectral indices and LST for one EE Feature (with AOI geometry).\"\"\"\n",
    "    aoi = feature.geometry()\n",
    "\n",
    "    s2 = (ee.ImageCollection(\"COPERNICUS/S2_SR_HARMONIZED\")\n",
    "          .filterBounds(aoi)\n",
    "          .filterDate(start_date, end_date)\n",
    "          .sort('CLOUDY_PIXEL_PERCENTAGE')\n",
    "          .first())\n",
    "    s2 = ee.Image(s2).clip(aoi)\n",
    "\n",
    "    blue = s2.select('B2')\n",
    "    green = s2.select('B3')\n",
    "    red = s2.select('B4')\n",
    "    nir = s2.select('B8')\n",
    "    swir = s2.select('B11')\n",
    "\n",
    "    L = 0.5  # SAVI constant\n",
    "\n",
    "    ndvi = nir.subtract(red).divide(nir.add(red)).rename('NDVI')\n",
    "    ndwi = green.subtract(nir).divide(green.add(nir)).rename('NDWI')\n",
    "    ndbi = swir.subtract(nir).divide(swir.add(nir)).rename('NDBI')\n",
    "    savi = nir.subtract(red).divide(nir.add(red).add(L)).multiply(1 + L).rename('SAVI')\n",
    "    mndwi = green.subtract(swir).divide(green.add(swir)).rename('MNDWI')\n",
    "    ndsi = green.subtract(swir).divide(green.add(swir)).rename('NDSI')\n",
    "    bsi = (red.add(blue).subtract(nir.add(swir))).divide(red.add(blue).add(nir).add(swir)).rename('BSI')\n",
    "    ui = nir.subtract(swir).divide(nir.add(swir)).rename('UI')\n",
    "\n",
    "    reducers = ee.Reducer.mean()\n",
    "    scale_10m = 1000\n",
    "\n",
    "    ndvi_mean = ndvi.reduceRegion(reducers, aoi, scale_10m).get('NDVI')\n",
    "    ndwi_mean = ndwi.reduceRegion(reducers, aoi, scale_10m).get('NDWI')\n",
    "    ndbi_mean = ndbi.reduceRegion(reducers, aoi, scale_10m).get('NDBI')\n",
    "    savi_mean = savi.reduceRegion(reducers, aoi, scale_10m).get('SAVI')\n",
    "    mndwi_mean = mndwi.reduceRegion(reducers, aoi, scale_10m).get('MNDWI')\n",
    "    ndsi_mean = ndsi.reduceRegion(reducers, aoi, scale_10m).get('NDSI')\n",
    "    bsi_mean = bsi.reduceRegion(reducers, aoi, scale_10m).get('BSI')\n",
    "    ui_mean = ui.reduceRegion(reducers, aoi, scale_10m).get('UI')\n",
    "\n",
    "    # MODIS LST dataset\n",
    "    modis = (ee.ImageCollection(\"MODIS/061/MOD11A1\")\n",
    "             .filterBounds(aoi)\n",
    "             .filterDate(start_date, end_date)\n",
    "             .select('LST_Day_1km'))\n",
    "\n",
    "    lst_mean_img = modis.mean().multiply(0.02).clip(aoi)\n",
    "\n",
    "    lst_mean = lst_mean_img.reduceRegion(\n",
    "        reducer=ee.Reducer.mean(),\n",
    "        geometry=aoi,\n",
    "        scale=1000\n",
    "    ).get('LST_Day_1km')\n",
    "\n",
    "    return feature.set({\n",
    "        'NDVI': ndvi_mean,\n",
    "        'NDWI': ndwi_mean,\n",
    "        'NDBI': ndbi_mean,\n",
    "        'SAVI': savi_mean,\n",
    "        'MNDWI': mndwi_mean,\n",
    "        'NDSI': ndsi_mean,\n",
    "        'BSI': bsi_mean,\n",
    "        'UI': ui_mean,\n",
    "        'LST': lst_mean\n",
    "    })\n",
    "\n",
    "# Split df into batches\n",
    "batch_size = 50\n",
    "batches = [df.iloc[i:i+batch_size] for i in range(0, len(df), batch_size)]\n",
    "\n",
    "results_list = []\n",
    "\n",
    "index_names = ['NDVI', 'NDWI', 'NDBI', 'SAVI', 'MNDWI', 'NDSI', 'BSI', 'UI', 'LST']\n",
    "\n",
    "for batch in tqdm(batches, desc=\"Processing batches\"):\n",
    "    features = []\n",
    "    batch_indices = []\n",
    "    feature_metadata = {}\n",
    "\n",
    "    for idx, row in batch.iterrows():\n",
    "        \n",
    "        aoi = create_aoi(row['decimalLongitude'], row['decimalLatitude'])\n",
    "        feature = ee.Feature(aoi).set('index', idx)\n",
    "        features.append(feature)\n",
    "        batch_indices.append(idx)  # Save the original index\n",
    "        \n",
    "        event_date = row['eventDate']\n",
    "        start_date = (event_date - timedelta(days=15)).strftime('%Y-%m-%d')\n",
    "        end_date = (event_date + timedelta(days=15)).strftime('%Y-%m-%d')\n",
    "        feature_metadata[idx] = (start_date, end_date)\n",
    "\n",
    "    # Create a FeatureCollection from the list of features\n",
    "    fc = ee.FeatureCollection(features)\n",
    "    \n",
    "    # Define wrapper for map to inject per-feature dates\n",
    "    def map_with_dates(f):\n",
    "        idx = f.get('index')\n",
    "        # Use dictionary lookup to get dates for this feature\n",
    "        date_dict = ee.Dictionary(ee.Dictionary(feature_metadata))\n",
    "        dates = ee.List(date_dict.get(ee.Number(idx)))\n",
    "        return compute_all_indices(f, dates.get(0), dates.get(1))\n",
    "\n",
    "    try:\n",
    "        result_fc = fc.map(map_with_dates)\n",
    "        results = result_fc.getInfo()\n",
    "\n",
    "        rows = []\n",
    "        for f in results['features']:\n",
    "            props = f['properties']\n",
    "            rows.append(props)\n",
    "\n",
    "    except Exception as e:\n",
    "        print(f\"Error processing batch starting at index {batch.index[0]}: {e}\")\n",
    "        # If there's an error, create placeholder rows with None\n",
    "        rows = [{'index': i, **{name: None for name in index_names}} for i in batch_indices]\n",
    "\n",
    "    batch_results_df = pd.DataFrame(rows).sort_values('index').reset_index(drop=True)\n",
    "    results_list.append(batch_results_df)\n",
    "\n",
    "# Concatenate all batches and sort by original index\n",
    "all_results_df = pd.concat(results_list).sort_values('index').reset_index(drop=True)\n",
    "\n",
    "# Merge with original df\n",
    "df_final = pd.concat([df.reset_index(drop=True), all_results_df.drop(columns=['index'])], axis=1)\n",
    "\n",
    "print(df_final.head())\n"
   ],
   "metadata": {
    "collapsed": false,
    "ExecuteTime": {
     "end_time": "2025-08-05T02:28:15.582500Z",
     "start_time": "2025-08-05T02:23:06.489558Z"
    }
   },
   "id": "53b26562dc01b121"
  },
  {
   "cell_type": "code",
   "execution_count": 29,
   "outputs": [],
   "source": [
    "df_final.to_csv(\"bat_full_data.csv\", index=False)\n",
    "df = pd.read_csv(\"bat_full_data.csv\")\n",
    "df['eventDate'] = pd.to_datetime(df['eventDate'], format='%Y-%m-%d', errors='coerce')\n",
    "\n",
    "df = df.dropna().reset_index(drop=True)"
   ],
   "metadata": {
    "collapsed": false,
    "ExecuteTime": {
     "end_time": "2025-08-05T02:28:15.731202Z",
     "start_time": "2025-08-05T02:28:15.614158Z"
    }
   },
   "id": "3c100c16fa06060a"
  },
  {
   "cell_type": "code",
   "execution_count": 30,
   "outputs": [],
   "source": [
    "ceratopogonidae = pd.read_csv(\"Ceratopogonidae.csv\", delimiter='\\t')\n",
    "ceratopogonidae = ceratopogonidae[ceratopogonidae[\"occurrenceStatus\"] == \"PRESENT\"]\n",
    "ceratopogonidae = ceratopogonidae[ceratopogonidae['year']>=2022]\n",
    "ceratopogonidae['eventDate'] = pd.to_datetime(ceratopogonidae['eventDate'], format='%Y-%m-%d', errors='coerce')\n",
    "ceratopogonidae = ceratopogonidae[['species', 'decimalLatitude', 'decimalLongitude', 'eventDate']]\n",
    "ceratopogonidae = ceratopogonidae.dropna().reset_index(drop=True)\n",
    "\n",
    "chironomidae = pd.read_csv(\"Chironomidae.csv\", delimiter='\\t')\n",
    "chironomidae = chironomidae[chironomidae[\"occurrenceStatus\"] == \"PRESENT\"]\n",
    "chironomidae = chironomidae[chironomidae['year']>=2022]\n",
    "chironomidae['eventDate'] = pd.to_datetime(chironomidae['eventDate'], format='%Y-%m-%d', errors='coerce')\n",
    "chironomidae = chironomidae[['species', 'decimalLatitude', 'decimalLongitude', 'eventDate']]\n",
    "chironomidae = chironomidae.dropna().reset_index(drop=True)\n",
    "\n",
    "cats = pd.read_csv(\"cats.csv\", delimiter='\\t')\n",
    "cats = cats[cats[\"occurrenceStatus\"] == \"PRESENT\"]\n",
    "cats = cats[cats['year']>=2022]\n",
    "cats['eventDate'] = pd.to_datetime(cats['eventDate'], format='%Y-%m-%d', errors='coerce')\n",
    "cats = cats[['species', 'decimalLatitude', 'decimalLongitude', 'eventDate']]\n",
    "cats = cats.dropna().reset_index(drop=True)\n",
    "\n",
    "\n",
    "wind_turbines = pd.read_excel(\"REPD_202407_WIND.xlsx\")\n",
    "wind_turbines = wind_turbines[wind_turbines['DEVSTATSHT']=='Operational']\n",
    "wind_turbines = wind_turbines[['LAT','LNG']]\n",
    "wind_turbines = wind_turbines.rename(columns={'LAT': 'decimalLatitude', 'LNG': 'decimalLongitude'})\n",
    "wind_turbines = wind_turbines.dropna().reset_index(drop=True)"
   ],
   "metadata": {
    "collapsed": false,
    "ExecuteTime": {
     "end_time": "2025-08-05T02:28:17.040457Z",
     "start_time": "2025-08-05T02:28:15.734767Z"
    }
   },
   "id": "476ba25526584f61"
  },
  {
   "cell_type": "code",
   "execution_count": 31,
   "outputs": [
    {
     "name": "stderr",
     "output_type": "stream",
     "text": [
      "100%|██████████| 5459/5459 [00:00<00:00, 7303.94it/s]\n"
     ]
    }
   ],
   "source": [
    "import numpy as np\n",
    "from sklearn.neighbors import BallTree\n",
    "\n",
    "# Convert lat/lon to radians for BallTree\n",
    "bat_coords = np.deg2rad(df[['decimalLatitude', 'decimalLongitude']].values)\n",
    "ceratopogonidae_coords = np.deg2rad(ceratopogonidae[['decimalLatitude', 'decimalLongitude']].values)\n",
    "chironomidae_coords = np.deg2rad(chironomidae[['decimalLatitude', 'decimalLongitude']].values)\n",
    "cats_coords = np.deg2rad(cats[['decimalLatitude', 'decimalLongitude']].values)\n",
    "wind_turbines_coords = np.deg2rad(wind_turbines[['decimalLatitude', 'decimalLongitude']].values)\n",
    "\n",
    "# Build BallTree using haversine metric\n",
    "tree_ceratopogonidae = BallTree(ceratopogonidae_coords, metric='haversine')\n",
    "tree_chironomidae = BallTree(chironomidae_coords, metric='haversine')\n",
    "tree_cats = BallTree(cats_coords, metric='haversine')\n",
    "tree_wind_turbines = BallTree(wind_turbines_coords, metric='haversine')\n",
    "\n",
    "# Define search radius: 1 km in radians\n",
    "earth_radius_km = 6371.0\n",
    "radius = 1 / earth_radius_km  # 1 km in radians\n",
    "\n",
    "# Initialize presence columns\n",
    "df['ceratopogonidae_presence'] = 0\n",
    "df['chironomidae_presence'] = 0\n",
    "df['cats_presence'] = 0\n",
    "\n",
    "# Iterate through each bat point with tqdm for progress tracking\n",
    "for i in tqdm(range(len(df))):\n",
    "    point = bat_coords[i].reshape(1, -1)\n",
    "    event_month = df.loc[i, 'eventDate'].month\n",
    "    event_year = df.loc[i, 'eventDate'].year\n",
    "\n",
    "    # CERATOPOGONIDAE\n",
    "    idxs = tree_ceratopogonidae.query_radius(point, r=radius)[0]\n",
    "    for j in idxs:\n",
    "        ceratopogonidae_date = ceratopogonidae.loc[j, 'eventDate']\n",
    "        if ceratopogonidae_date.month == event_month and ceratopogonidae_date.year == event_year:\n",
    "            df.at[i, 'ceratopogonidae_presence'] = 1\n",
    "            break  # Found at least one match, no need to check further\n",
    "\n",
    "    # CHIRONOMIDAE\n",
    "    idxs = tree_chironomidae.query_radius(point, r=radius)[0]\n",
    "    for j in idxs:\n",
    "        chironomidae_date = chironomidae.loc[j, 'eventDate']\n",
    "        if chironomidae_date.month == event_month and chironomidae_date.year == event_year:\n",
    "            df.at[i, 'chironomidae_presence'] = 1\n",
    "            break  # Found at least one match, no need to check further\n",
    "            \n",
    "    # CATS\n",
    "    idxs = tree_cats.query_radius(point, r=radius)[0]\n",
    "    for j in idxs:\n",
    "        cats_date = cats.loc[j, 'eventDate']\n",
    "        if cats_date.month == event_month and cats_date.year == event_year:\n",
    "            df.at[i, 'cats_presence'] = 1\n",
    "            break  # Found at least one match, no need to check further\n",
    "        \n",
    "indices = tree_wind_turbines.query_radius(bat_coords, r=radius)\n",
    "df['wind_turbines_presence'] = [1 if len(neighbors) > 0 else 0 for neighbors in indices]"
   ],
   "metadata": {
    "collapsed": false,
    "ExecuteTime": {
     "end_time": "2025-08-05T02:28:17.839690Z",
     "start_time": "2025-08-05T02:28:17.050017Z"
    }
   },
   "id": "928b858f2342c0d6"
  },
  {
   "cell_type": "code",
   "execution_count": 32,
   "outputs": [
    {
     "name": "stderr",
     "output_type": "stream",
     "text": [
      "  1%|          | 11/1323 [00:02<04:30,  4.86it/s]"
     ]
    },
    {
     "name": "stdout",
     "output_type": "stream",
     "text": [
      "[TILE ERROR] Found no graph nodes within the requested polygon. — bbox: (np.float64(-5.9533), np.float64(57.03099999999999), np.float64(-5.9315999999999995), np.float64(57.044))\n",
      "[TILE ERROR] Found no graph nodes within the requested polygon. — bbox: (np.float64(-5.9533), np.float64(57.03999999999999), np.float64(-5.9315999999999995), np.float64(57.053))\n"
     ]
    },
    {
     "name": "stderr",
     "output_type": "stream",
     "text": [
      "  4%|▎         | 47/1323 [00:14<06:11,  3.43it/s]"
     ]
    },
    {
     "name": "stdout",
     "output_type": "stream",
     "text": [
      "[TILE ERROR] Found no graph nodes within the requested polygon. — bbox: (np.float64(-4.697299999999999), np.float64(51.882999999999996), np.float64(-4.675599999999999), np.float64(51.896))\n"
     ]
    },
    {
     "name": "stderr",
     "output_type": "stream",
     "text": [
      "  4%|▍         | 56/1323 [00:17<05:51,  3.61it/s]"
     ]
    },
    {
     "name": "stdout",
     "output_type": "stream",
     "text": [
      "[TILE ERROR] Found no graph nodes within the requested polygon. — bbox: (np.float64(-4.556), np.float64(51.80199999999999), np.float64(-4.534299999999999), np.float64(51.815))\n"
     ]
    },
    {
     "name": "stderr",
     "output_type": "stream",
     "text": [
      "  5%|▌         | 70/1323 [00:21<04:41,  4.45it/s]"
     ]
    },
    {
     "name": "stdout",
     "output_type": "stream",
     "text": [
      "[TILE ERROR] Graph contains no edges. — bbox: (np.float64(-4.3519), np.float64(51.77499999999999), np.float64(-4.3302), np.float64(51.788))\n"
     ]
    },
    {
     "name": "stderr",
     "output_type": "stream",
     "text": [
      "  6%|▌         | 78/1323 [00:23<05:01,  4.13it/s]"
     ]
    },
    {
     "name": "stdout",
     "output_type": "stream",
     "text": [
      "[TILE ERROR] Found no graph nodes within the requested polygon. — bbox: (np.float64(-4.2577), np.float64(51.62199999999999), np.float64(-4.236), np.float64(51.635))\n"
     ]
    },
    {
     "name": "stderr",
     "output_type": "stream",
     "text": [
      "  6%|▋         | 84/1323 [00:25<05:19,  3.88it/s]"
     ]
    },
    {
     "name": "stdout",
     "output_type": "stream",
     "text": [
      "[TILE ERROR] Found no graph nodes within the requested polygon. — bbox: (np.float64(-4.1792), np.float64(53.06199999999999), np.float64(-4.1575), np.float64(53.074999999999996))\n"
     ]
    },
    {
     "name": "stderr",
     "output_type": "stream",
     "text": [
      "  8%|▊         | 104/1323 [00:31<04:59,  4.06it/s]"
     ]
    },
    {
     "name": "stdout",
     "output_type": "stream",
     "text": [
      "[TILE ERROR] Found no graph nodes within the requested polygon. — bbox: (np.float64(-4.0379), np.float64(53.160999999999994), np.float64(-4.0161999999999995), np.float64(53.174))\n"
     ]
    },
    {
     "name": "stderr",
     "output_type": "stream",
     "text": [
      "  8%|▊         | 107/1323 [00:33<06:10,  3.28it/s]"
     ]
    },
    {
     "name": "stdout",
     "output_type": "stream",
     "text": [
      "[TILE ERROR] Found no graph nodes within the requested polygon. — bbox: (np.float64(-4.0222), np.float64(52.980999999999995), np.float64(-4.0005), np.float64(52.994))\n"
     ]
    },
    {
     "name": "stderr",
     "output_type": "stream",
     "text": [
      "  8%|▊         | 109/1323 [00:33<05:58,  3.39it/s]"
     ]
    },
    {
     "name": "stdout",
     "output_type": "stream",
     "text": [
      "[TILE ERROR] No data elements in server response. Check query location/filters and log. — bbox: (np.float64(-4.0065), np.float64(52.53099999999999), np.float64(-3.9847999999999995), np.float64(52.544))\n"
     ]
    },
    {
     "name": "stderr",
     "output_type": "stream",
     "text": [
      " 10%|▉         | 129/1323 [00:41<07:26,  2.68it/s]"
     ]
    },
    {
     "name": "stdout",
     "output_type": "stream",
     "text": [
      "[TILE ERROR] Graph contains no edges. — bbox: (np.float64(-3.928), np.float64(52.38699999999999), np.float64(-3.9062999999999994), np.float64(52.4))\n"
     ]
    },
    {
     "name": "stderr",
     "output_type": "stream",
     "text": [
      " 10%|█         | 136/1323 [00:43<05:42,  3.47it/s]"
     ]
    },
    {
     "name": "stdout",
     "output_type": "stream",
     "text": [
      "[TILE ERROR] No data elements in server response. Check query location/filters and log. — bbox: (np.float64(-3.8337999999999997), np.float64(52.17099999999999), np.float64(-3.8120999999999996), np.float64(52.184))\n"
     ]
    },
    {
     "name": "stderr",
     "output_type": "stream",
     "text": [
      " 11%|█         | 141/1323 [00:44<04:31,  4.36it/s]"
     ]
    },
    {
     "name": "stdout",
     "output_type": "stream",
     "text": [
      "[TILE ERROR] Found no graph nodes within the requested polygon. — bbox: (np.float64(-3.8181), np.float64(51.81099999999999), np.float64(-3.7963999999999998), np.float64(51.824))\n"
     ]
    },
    {
     "name": "stderr",
     "output_type": "stream",
     "text": [
      " 12%|█▏        | 157/1323 [00:50<06:59,  2.78it/s]"
     ]
    },
    {
     "name": "stdout",
     "output_type": "stream",
     "text": [
      "[TILE ERROR] Graph contains no edges. — bbox: (np.float64(-3.5826), np.float64(52.55799999999999), np.float64(-3.5608999999999997), np.float64(52.571))\n"
     ]
    },
    {
     "name": "stderr",
     "output_type": "stream",
     "text": [
      " 13%|█▎        | 172/1323 [00:55<05:02,  3.81it/s]"
     ]
    },
    {
     "name": "stdout",
     "output_type": "stream",
     "text": [
      "[TILE ERROR] Graph contains no edges. — bbox: (np.float64(-3.4884), np.float64(54.96999999999999), np.float64(-3.4666999999999994), np.float64(54.983))\n"
     ]
    },
    {
     "name": "stderr",
     "output_type": "stream",
     "text": [
      " 14%|█▍        | 184/1323 [00:58<05:20,  3.56it/s]"
     ]
    },
    {
     "name": "stdout",
     "output_type": "stream",
     "text": [
      "[TILE ERROR] Found no graph nodes within the requested polygon. — bbox: (np.float64(-3.3941999999999997), np.float64(52.062999999999995), np.float64(-3.3724999999999996), np.float64(52.076))\n"
     ]
    },
    {
     "name": "stderr",
     "output_type": "stream",
     "text": [
      " 14%|█▍        | 188/1323 [00:59<04:53,  3.87it/s]"
     ]
    },
    {
     "name": "stdout",
     "output_type": "stream",
     "text": [
      "[TILE ERROR] Found no graph nodes within the requested polygon. — bbox: (np.float64(-3.3941999999999997), np.float64(54.528999999999996), np.float64(-3.3724999999999996), np.float64(54.542))\n"
     ]
    },
    {
     "name": "stderr",
     "output_type": "stream",
     "text": [
      " 15%|█▍        | 195/1323 [01:01<04:58,  3.78it/s]"
     ]
    },
    {
     "name": "stdout",
     "output_type": "stream",
     "text": [
      "[TILE ERROR] Found no graph nodes within the requested polygon. — bbox: (np.float64(-3.3785), np.float64(56.175999999999995), np.float64(-3.3568), np.float64(56.189))\n"
     ]
    },
    {
     "name": "stderr",
     "output_type": "stream",
     "text": [
      " 15%|█▌        | 201/1323 [01:04<05:51,  3.20it/s]"
     ]
    },
    {
     "name": "stdout",
     "output_type": "stream",
     "text": [
      "[TILE ERROR] Graph contains no edges. — bbox: (np.float64(-3.3470999999999997), np.float64(51.900999999999996), np.float64(-3.3253999999999997), np.float64(51.914))\n"
     ]
    },
    {
     "name": "stderr",
     "output_type": "stream",
     "text": [
      " 16%|█▌        | 213/1323 [01:08<06:35,  2.81it/s]"
     ]
    },
    {
     "name": "stdout",
     "output_type": "stream",
     "text": [
      "[TILE ERROR] Found no graph nodes within the requested polygon. — bbox: (np.float64(-3.2843), np.float64(53.169999999999995), np.float64(-3.2625999999999995), np.float64(53.183))\n"
     ]
    },
    {
     "name": "stderr",
     "output_type": "stream",
     "text": [
      " 17%|█▋        | 221/1323 [01:11<07:03,  2.60it/s]"
     ]
    },
    {
     "name": "stdout",
     "output_type": "stream",
     "text": [
      "[TILE ERROR] Graph contains no edges. — bbox: (np.float64(-3.2371999999999996), np.float64(51.459999999999994), np.float64(-3.2154999999999996), np.float64(51.473))\n"
     ]
    },
    {
     "name": "stderr",
     "output_type": "stream",
     "text": [
      " 25%|██▌       | 331/1323 [02:47<13:20,  1.24it/s]"
     ]
    },
    {
     "name": "stdout",
     "output_type": "stream",
     "text": [
      "[TILE ERROR] Found no graph nodes within the requested polygon. — bbox: (np.float64(-2.8604), np.float64(53.32299999999999), np.float64(-2.8387), np.float64(53.336))\n"
     ]
    },
    {
     "name": "stderr",
     "output_type": "stream",
     "text": [
      " 27%|██▋       | 361/1323 [03:20<12:12,  1.31it/s]"
     ]
    },
    {
     "name": "stdout",
     "output_type": "stream",
     "text": [
      "[TILE ERROR] Found no graph nodes within the requested polygon. — bbox: (np.float64(-2.7976), np.float64(54.16), np.float64(-2.7758999999999996), np.float64(54.173))\n"
     ]
    },
    {
     "name": "stderr",
     "output_type": "stream",
     "text": [
      " 28%|██▊       | 368/1323 [03:26<11:44,  1.36it/s]"
     ]
    },
    {
     "name": "stdout",
     "output_type": "stream",
     "text": [
      "[TILE ERROR] Graph contains no edges. — bbox: (np.float64(-2.7662), np.float64(52.33299999999999), np.float64(-2.7444999999999995), np.float64(52.346))\n"
     ]
    },
    {
     "name": "stderr",
     "output_type": "stream",
     "text": [
      " 33%|███▎      | 434/1323 [04:35<12:56,  1.14it/s]"
     ]
    },
    {
     "name": "stdout",
     "output_type": "stream",
     "text": [
      "[TILE ERROR] No data elements in server response. Check query location/filters and log. — bbox: (np.float64(-2.5778), np.float64(55.266999999999996), np.float64(-2.5561), np.float64(55.28))\n"
     ]
    },
    {
     "name": "stderr",
     "output_type": "stream",
     "text": [
      " 33%|███▎      | 437/1323 [04:37<10:07,  1.46it/s]"
     ]
    },
    {
     "name": "stdout",
     "output_type": "stream",
     "text": [
      "[TILE ERROR] No data elements in server response. Check query location/filters and log. — bbox: (np.float64(-2.5621), np.float64(55.239999999999995), np.float64(-2.5403999999999995), np.float64(55.253))\n"
     ]
    },
    {
     "name": "stderr",
     "output_type": "stream",
     "text": [
      " 33%|███▎      | 438/1323 [04:38<08:46,  1.68it/s]"
     ]
    },
    {
     "name": "stdout",
     "output_type": "stream",
     "text": [
      "[TILE ERROR] No data elements in server response. Check query location/filters and log. — bbox: (np.float64(-2.5621), np.float64(55.248999999999995), np.float64(-2.5403999999999995), np.float64(55.262))\n"
     ]
    },
    {
     "name": "stderr",
     "output_type": "stream",
     "text": [
      " 33%|███▎      | 439/1323 [04:38<07:53,  1.87it/s]"
     ]
    },
    {
     "name": "stdout",
     "output_type": "stream",
     "text": [
      "[TILE ERROR] No data elements in server response. Check query location/filters and log. — bbox: (np.float64(-2.5621), np.float64(55.285), np.float64(-2.5403999999999995), np.float64(55.297999999999995))\n"
     ]
    },
    {
     "name": "stderr",
     "output_type": "stream",
     "text": [
      " 34%|███▎      | 444/1323 [04:44<12:52,  1.14it/s]"
     ]
    },
    {
     "name": "stdout",
     "output_type": "stream",
     "text": [
      "[TILE ERROR] No data elements in server response. Check query location/filters and log. — bbox: (np.float64(-2.5463999999999998), np.float64(55.239999999999995), np.float64(-2.5246999999999997), np.float64(55.253))\n"
     ]
    },
    {
     "name": "stderr",
     "output_type": "stream",
     "text": [
      " 34%|███▎      | 445/1323 [04:44<10:54,  1.34it/s]"
     ]
    },
    {
     "name": "stdout",
     "output_type": "stream",
     "text": [
      "[TILE ERROR] No data elements in server response. Check query location/filters and log. — bbox: (np.float64(-2.5463999999999998), np.float64(55.248999999999995), np.float64(-2.5246999999999997), np.float64(55.262))\n"
     ]
    },
    {
     "name": "stderr",
     "output_type": "stream",
     "text": [
      " 34%|███▎      | 446/1323 [04:45<09:27,  1.55it/s]"
     ]
    },
    {
     "name": "stdout",
     "output_type": "stream",
     "text": [
      "[TILE ERROR] No data elements in server response. Check query location/filters and log. — bbox: (np.float64(-2.5463999999999998), np.float64(55.266999999999996), np.float64(-2.5246999999999997), np.float64(55.28))\n"
     ]
    },
    {
     "name": "stderr",
     "output_type": "stream",
     "text": [
      " 34%|███▍      | 447/1323 [04:45<08:26,  1.73it/s]"
     ]
    },
    {
     "name": "stdout",
     "output_type": "stream",
     "text": [
      "[TILE ERROR] No data elements in server response. Check query location/filters and log. — bbox: (np.float64(-2.5463999999999998), np.float64(55.275999999999996), np.float64(-2.5246999999999997), np.float64(55.289))\n"
     ]
    },
    {
     "name": "stderr",
     "output_type": "stream",
     "text": [
      " 34%|███▍      | 448/1323 [04:46<07:39,  1.90it/s]"
     ]
    },
    {
     "name": "stdout",
     "output_type": "stream",
     "text": [
      "[TILE ERROR] No data elements in server response. Check query location/filters and log. — bbox: (np.float64(-2.5463999999999998), np.float64(55.285), np.float64(-2.5246999999999997), np.float64(55.297999999999995))\n"
     ]
    },
    {
     "name": "stderr",
     "output_type": "stream",
     "text": [
      " 35%|███▍      | 462/1323 [04:58<10:27,  1.37it/s]"
     ]
    },
    {
     "name": "stdout",
     "output_type": "stream",
     "text": [
      "[TILE ERROR] No data elements in server response. Check query location/filters and log. — bbox: (np.float64(-2.5149999999999997), np.float64(55.266999999999996), np.float64(-2.4932999999999996), np.float64(55.28))\n"
     ]
    },
    {
     "name": "stderr",
     "output_type": "stream",
     "text": [
      " 35%|███▌      | 465/1323 [05:00<09:22,  1.52it/s]"
     ]
    },
    {
     "name": "stdout",
     "output_type": "stream",
     "text": [
      "[TILE ERROR] No data elements in server response. Check query location/filters and log. — bbox: (np.float64(-2.4993), np.float64(55.275999999999996), np.float64(-2.4776), np.float64(55.289))\n"
     ]
    },
    {
     "name": "stderr",
     "output_type": "stream",
     "text": [
      " 36%|███▌      | 470/1323 [05:04<10:54,  1.30it/s]"
     ]
    },
    {
     "name": "stdout",
     "output_type": "stream",
     "text": [
      "[TILE ERROR] Graph contains no edges. — bbox: (np.float64(-2.4836), np.float64(53.43999999999999), np.float64(-2.4618999999999995), np.float64(53.452999999999996))\n"
     ]
    },
    {
     "name": "stderr",
     "output_type": "stream",
     "text": [
      " 36%|███▌      | 471/1323 [05:04<10:02,  1.42it/s]"
     ]
    },
    {
     "name": "stdout",
     "output_type": "stream",
     "text": [
      "[TILE ERROR] Graph contains no edges. — bbox: (np.float64(-2.4836), np.float64(57.06699999999999), np.float64(-2.4618999999999995), np.float64(57.08))\n"
     ]
    },
    {
     "name": "stderr",
     "output_type": "stream",
     "text": [
      " 37%|███▋      | 492/1323 [05:24<10:22,  1.33it/s]"
     ]
    },
    {
     "name": "stdout",
     "output_type": "stream",
     "text": [
      "[TILE ERROR] Graph contains no edges. — bbox: (np.float64(-2.3737), np.float64(52.37799999999999), np.float64(-2.352), np.float64(52.391))\n"
     ]
    },
    {
     "name": "stderr",
     "output_type": "stream",
     "text": [
      " 41%|████▏     | 546/1323 [06:29<23:32,  1.82s/it]"
     ]
    },
    {
     "name": "stdout",
     "output_type": "stream",
     "text": [
      "[TILE ERROR] Graph contains no edges. — bbox: (np.float64(-2.1853), np.float64(50.730999999999995), np.float64(-2.1635999999999997), np.float64(50.744))\n"
     ]
    },
    {
     "name": "stderr",
     "output_type": "stream",
     "text": [
      " 42%|████▏     | 553/1323 [06:35<12:27,  1.03it/s]"
     ]
    },
    {
     "name": "stdout",
     "output_type": "stream",
     "text": [
      "[TILE ERROR] Graph contains no edges. — bbox: (np.float64(-2.1696), np.float64(50.730999999999995), np.float64(-2.1479), np.float64(50.744))\n"
     ]
    },
    {
     "name": "stderr",
     "output_type": "stream",
     "text": [
      " 43%|████▎     | 563/1323 [06:47<11:30,  1.10it/s]"
     ]
    },
    {
     "name": "stdout",
     "output_type": "stream",
     "text": [
      "[TILE ERROR] Found no graph nodes within the requested polygon. — bbox: (np.float64(-2.1382), np.float64(50.712999999999994), np.float64(-2.1165), np.float64(50.726))\n"
     ]
    },
    {
     "name": "stderr",
     "output_type": "stream",
     "text": [
      " 43%|████▎     | 571/1323 [06:56<12:38,  1.01s/it]"
     ]
    },
    {
     "name": "stdout",
     "output_type": "stream",
     "text": [
      "[TILE ERROR] Found no graph nodes within the requested polygon. — bbox: (np.float64(-2.1382), np.float64(53.99799999999999), np.float64(-2.1165), np.float64(54.010999999999996))\n"
     ]
    },
    {
     "name": "stderr",
     "output_type": "stream",
     "text": [
      " 43%|████▎     | 573/1323 [06:58<09:53,  1.26it/s]"
     ]
    },
    {
     "name": "stdout",
     "output_type": "stream",
     "text": [
      "[TILE ERROR] Found no graph nodes within the requested polygon. — bbox: (np.float64(-2.1225), np.float64(50.721999999999994), np.float64(-2.1007999999999996), np.float64(50.735))\n"
     ]
    },
    {
     "name": "stderr",
     "output_type": "stream",
     "text": [
      " 46%|████▌     | 606/1323 [07:35<11:22,  1.05it/s]"
     ]
    },
    {
     "name": "stdout",
     "output_type": "stream",
     "text": [
      "[TILE ERROR] Found no graph nodes within the requested polygon. — bbox: (np.float64(-2.0126), np.float64(52.76499999999999), np.float64(-1.9909), np.float64(52.778))\n"
     ]
    },
    {
     "name": "stderr",
     "output_type": "stream",
     "text": [
      " 48%|████▊     | 632/1323 [08:00<15:22,  1.33s/it]"
     ]
    },
    {
     "name": "stdout",
     "output_type": "stream",
     "text": [
      "[TILE ERROR] Found no graph nodes within the requested polygon. — bbox: (np.float64(-1.8555999999999997), np.float64(51.01899999999999), np.float64(-1.8338999999999999), np.float64(51.032))\n"
     ]
    },
    {
     "name": "stderr",
     "output_type": "stream",
     "text": [
      " 48%|████▊     | 639/1323 [08:16<17:48,  1.56s/it]"
     ]
    },
    {
     "name": "stdout",
     "output_type": "stream",
     "text": [
      "[TILE ERROR] Found no graph nodes within the requested polygon. — bbox: (np.float64(-1.8398999999999996), np.float64(50.88399999999999), np.float64(-1.8182), np.float64(50.897))\n"
     ]
    },
    {
     "name": "stderr",
     "output_type": "stream",
     "text": [
      " 56%|█████▌    | 740/1323 [10:15<10:53,  1.12s/it]"
     ]
    },
    {
     "name": "stdout",
     "output_type": "stream",
     "text": [
      "[TILE ERROR] Found no graph nodes within the requested polygon. — bbox: (np.float64(-1.3531999999999997), np.float64(52.87299999999999), np.float64(-1.3315), np.float64(52.885999999999996))\n"
     ]
    },
    {
     "name": "stderr",
     "output_type": "stream",
     "text": [
      " 60%|██████    | 794/1323 [11:33<09:38,  1.09s/it]"
     ]
    },
    {
     "name": "stdout",
     "output_type": "stream",
     "text": [
      "[TILE ERROR] Found no graph nodes within the requested polygon. — bbox: (np.float64(-1.2118999999999998), np.float64(53.32299999999999), np.float64(-1.1902), np.float64(53.336))\n"
     ]
    },
    {
     "name": "stderr",
     "output_type": "stream",
     "text": [
      " 61%|██████    | 802/1323 [11:47<14:10,  1.63s/it]"
     ]
    },
    {
     "name": "stdout",
     "output_type": "stream",
     "text": [
      "[TILE ERROR] Graph contains no edges. — bbox: (np.float64(-1.1804999999999999), np.float64(52.71099999999999), np.float64(-1.1588), np.float64(52.724))\n"
     ]
    },
    {
     "name": "stderr",
     "output_type": "stream",
     "text": [
      " 61%|██████    | 807/1323 [11:52<08:53,  1.03s/it]"
     ]
    },
    {
     "name": "stdout",
     "output_type": "stream",
     "text": [
      "[TILE ERROR] Graph contains no edges. — bbox: (np.float64(-1.1647999999999998), np.float64(51.81099999999999), np.float64(-1.1431), np.float64(51.824))\n"
     ]
    },
    {
     "name": "stderr",
     "output_type": "stream",
     "text": [
      " 63%|██████▎   | 836/1323 [12:35<11:04,  1.36s/it]"
     ]
    },
    {
     "name": "stdout",
     "output_type": "stream",
     "text": [
      "[TILE ERROR] Graph contains no edges. — bbox: (np.float64(-1.1019999999999999), np.float64(53.151999999999994), np.float64(-1.0803), np.float64(53.165))\n"
     ]
    },
    {
     "name": "stderr",
     "output_type": "stream",
     "text": [
      " 64%|██████▎   | 842/1323 [12:44<08:57,  1.12s/it]"
     ]
    },
    {
     "name": "stdout",
     "output_type": "stream",
     "text": [
      "[TILE ERROR] Found no graph nodes within the requested polygon. — bbox: (np.float64(-1.0862999999999998), np.float64(53.13399999999999), np.float64(-1.0646), np.float64(53.147))\n"
     ]
    },
    {
     "name": "stderr",
     "output_type": "stream",
     "text": [
      " 64%|██████▍   | 851/1323 [12:54<07:53,  1.00s/it]"
     ]
    },
    {
     "name": "stdout",
     "output_type": "stream",
     "text": [
      "[TILE ERROR] Found no graph nodes within the requested polygon. — bbox: (np.float64(-1.0548999999999997), np.float64(51.702999999999996), np.float64(-1.0332000000000001), np.float64(51.716))\n"
     ]
    },
    {
     "name": "stderr",
     "output_type": "stream",
     "text": [
      " 65%|██████▌   | 864/1323 [13:07<08:08,  1.06s/it]"
     ]
    },
    {
     "name": "stdout",
     "output_type": "stream",
     "text": [
      "[TILE ERROR] Found no graph nodes within the requested polygon. — bbox: (np.float64(-0.9920999999999999), np.float64(53.160999999999994), np.float64(-0.9703999999999999), np.float64(53.174))\n"
     ]
    },
    {
     "name": "stderr",
     "output_type": "stream",
     "text": [
      " 69%|██████▉   | 910/1323 [14:04<06:36,  1.04it/s]"
     ]
    },
    {
     "name": "stdout",
     "output_type": "stream",
     "text": [
      "[TILE ERROR] Found no graph nodes within the requested polygon. — bbox: (np.float64(-0.8193999999999999), np.float64(52.611999999999995), np.float64(-0.7977), np.float64(52.625))\n"
     ]
    },
    {
     "name": "stderr",
     "output_type": "stream",
     "text": [
      " 70%|██████▉   | 925/1323 [14:26<10:09,  1.53s/it]"
     ]
    },
    {
     "name": "stdout",
     "output_type": "stream",
     "text": [
      "[TILE ERROR] Found no graph nodes within the requested polygon. — bbox: (np.float64(-0.7879999999999999), np.float64(54.312999999999995), np.float64(-0.7663), np.float64(54.326))\n"
     ]
    },
    {
     "name": "stderr",
     "output_type": "stream",
     "text": [
      " 71%|███████   | 933/1323 [14:41<10:30,  1.62s/it]"
     ]
    },
    {
     "name": "stdout",
     "output_type": "stream",
     "text": [
      "[TILE ERROR] Found no graph nodes within the requested polygon. — bbox: (np.float64(-0.7723), np.float64(54.312999999999995), np.float64(-0.7505999999999999), np.float64(54.326))\n"
     ]
    },
    {
     "name": "stderr",
     "output_type": "stream",
     "text": [
      " 71%|███████▏  | 943/1323 [15:00<11:05,  1.75s/it]"
     ]
    },
    {
     "name": "stdout",
     "output_type": "stream",
     "text": [
      "[TILE ERROR] Graph contains no edges. — bbox: (np.float64(-0.7565999999999999), np.float64(54.321999999999996), np.float64(-0.7348999999999999), np.float64(54.335))\n"
     ]
    },
    {
     "name": "stderr",
     "output_type": "stream",
     "text": [
      " 72%|███████▏  | 947/1323 [15:06<09:49,  1.57s/it]"
     ]
    },
    {
     "name": "stdout",
     "output_type": "stream",
     "text": [
      "[TILE ERROR] Graph contains no edges. — bbox: (np.float64(-0.7408999999999999), np.float64(53.224), np.float64(-0.7192), np.float64(53.237))\n"
     ]
    },
    {
     "name": "stderr",
     "output_type": "stream",
     "text": [
      " 72%|███████▏  | 948/1323 [15:08<09:18,  1.49s/it]"
     ]
    },
    {
     "name": "stdout",
     "output_type": "stream",
     "text": [
      "[TILE ERROR] Found no graph nodes within the requested polygon. — bbox: (np.float64(-0.7408999999999999), np.float64(54.321999999999996), np.float64(-0.7192), np.float64(54.335))\n"
     ]
    },
    {
     "name": "stderr",
     "output_type": "stream",
     "text": [
      " 72%|███████▏  | 949/1323 [15:10<10:56,  1.76s/it]"
     ]
    },
    {
     "name": "stdout",
     "output_type": "stream",
     "text": [
      "[TILE ERROR] Graph contains no edges. — bbox: (np.float64(-0.7408999999999999), np.float64(54.330999999999996), np.float64(-0.7192), np.float64(54.344))\n"
     ]
    },
    {
     "name": "stderr",
     "output_type": "stream",
     "text": [
      " 72%|███████▏  | 950/1323 [15:11<10:07,  1.63s/it]"
     ]
    },
    {
     "name": "stdout",
     "output_type": "stream",
     "text": [
      "[TILE ERROR] Found no graph nodes within the requested polygon. — bbox: (np.float64(-0.7408999999999999), np.float64(54.339999999999996), np.float64(-0.7192), np.float64(54.353))\n"
     ]
    },
    {
     "name": "stderr",
     "output_type": "stream",
     "text": [
      " 72%|███████▏  | 957/1323 [15:27<11:35,  1.90s/it]"
     ]
    },
    {
     "name": "stdout",
     "output_type": "stream",
     "text": [
      "[TILE ERROR] No data elements in server response. Check query location/filters and log. — bbox: (np.float64(-0.7252), np.float64(54.330999999999996), np.float64(-0.7034999999999999), np.float64(54.344))\n"
     ]
    },
    {
     "name": "stderr",
     "output_type": "stream",
     "text": [
      " 72%|███████▏  | 958/1323 [15:28<10:22,  1.70s/it]"
     ]
    },
    {
     "name": "stdout",
     "output_type": "stream",
     "text": [
      "[TILE ERROR] No data elements in server response. Check query location/filters and log. — bbox: (np.float64(-0.7252), np.float64(54.349), np.float64(-0.7034999999999999), np.float64(54.362))\n"
     ]
    },
    {
     "name": "stderr",
     "output_type": "stream",
     "text": [
      " 74%|███████▍  | 985/1323 [16:26<10:36,  1.88s/it]"
     ]
    },
    {
     "name": "stdout",
     "output_type": "stream",
     "text": [
      "[TILE ERROR] No data elements in server response. Check query location/filters and log. — bbox: (np.float64(-0.6780999999999999), np.float64(54.25899999999999), np.float64(-0.6564), np.float64(54.272))\n"
     ]
    },
    {
     "name": "stderr",
     "output_type": "stream",
     "text": [
      " 78%|███████▊  | 1026/1323 [18:05<10:16,  2.07s/it]"
     ]
    },
    {
     "name": "stdout",
     "output_type": "stream",
     "text": [
      "[TILE ERROR] Found no graph nodes within the requested polygon. — bbox: (np.float64(-0.5525), np.float64(54.276999999999994), np.float64(-0.5307999999999999), np.float64(54.29))\n"
     ]
    },
    {
     "name": "stderr",
     "output_type": "stream",
     "text": [
      " 78%|███████▊  | 1027/1323 [18:06<09:15,  1.88s/it]"
     ]
    },
    {
     "name": "stdout",
     "output_type": "stream",
     "text": [
      "[TILE ERROR] Graph contains no edges. — bbox: (np.float64(-0.5525), np.float64(54.330999999999996), np.float64(-0.5307999999999999), np.float64(54.344))\n"
     ]
    },
    {
     "name": "stderr",
     "output_type": "stream",
     "text": [
      " 80%|███████▉  | 1056/1323 [19:13<09:40,  2.17s/it]"
     ]
    },
    {
     "name": "stdout",
     "output_type": "stream",
     "text": [
      "[TILE ERROR] Graph contains no edges. — bbox: (np.float64(-0.37979999999999997), np.float64(50.964999999999996), np.float64(-0.3581), np.float64(50.978))\n"
     ]
    },
    {
     "name": "stderr",
     "output_type": "stream",
     "text": [
      " 83%|████████▎ | 1093/1323 [20:48<07:41,  2.01s/it]"
     ]
    },
    {
     "name": "stdout",
     "output_type": "stream",
     "text": [
      "[TILE ERROR] Found no graph nodes within the requested polygon. — bbox: (np.float64(-0.28559999999999997), np.float64(51.44199999999999), np.float64(-0.26389999999999997), np.float64(51.455))\n"
     ]
    },
    {
     "name": "stderr",
     "output_type": "stream",
     "text": [
      " 84%|████████▍ | 1113/1323 [21:44<08:58,  2.56s/it]"
     ]
    },
    {
     "name": "stdout",
     "output_type": "stream",
     "text": [
      "[TILE ERROR] Found no graph nodes within the requested polygon. — bbox: (np.float64(-0.2542), np.float64(52.260999999999996), np.float64(-0.23249999999999998), np.float64(52.274))\n"
     ]
    },
    {
     "name": "stderr",
     "output_type": "stream",
     "text": [
      " 85%|████████▍ | 1120/1323 [22:03<08:00,  2.37s/it]"
     ]
    },
    {
     "name": "stdout",
     "output_type": "stream",
     "text": [
      "[TILE ERROR] Found no graph nodes within the requested polygon. — bbox: (np.float64(-0.2385), np.float64(52.38699999999999), np.float64(-0.2168), np.float64(52.4))\n"
     ]
    },
    {
     "name": "stderr",
     "output_type": "stream",
     "text": [
      " 85%|████████▌ | 1128/1323 [22:25<08:32,  2.63s/it]"
     ]
    },
    {
     "name": "stdout",
     "output_type": "stream",
     "text": [
      "[TILE ERROR] Found no graph nodes within the requested polygon. — bbox: (np.float64(-0.1914), np.float64(50.88399999999999), np.float64(-0.1697), np.float64(50.897))\n"
     ]
    },
    {
     "name": "stderr",
     "output_type": "stream",
     "text": [
      " 92%|█████████▏| 1214/1323 [24:52<02:10,  1.19s/it]"
     ]
    },
    {
     "name": "stdout",
     "output_type": "stream",
     "text": [
      "[TILE ERROR] Found no graph nodes within the requested polygon. — bbox: (np.float64(0.1069), np.float64(52.099), np.float64(0.1286), np.float64(52.112))\n"
     ]
    },
    {
     "name": "stderr",
     "output_type": "stream",
     "text": [
      " 92%|█████████▏| 1218/1323 [24:59<02:25,  1.39s/it]"
     ]
    },
    {
     "name": "stdout",
     "output_type": "stream",
     "text": [
      "[TILE ERROR] Found no graph nodes within the requested polygon. — bbox: (np.float64(0.1069), np.float64(52.297), np.float64(0.1286), np.float64(52.309999999999995))\n"
     ]
    },
    {
     "name": "stderr",
     "output_type": "stream",
     "text": [
      " 95%|█████████▍| 1252/1323 [25:29<00:44,  1.61it/s]"
     ]
    },
    {
     "name": "stdout",
     "output_type": "stream",
     "text": [
      "[TILE ERROR] Graph contains no edges. — bbox: (np.float64(0.3581), np.float64(51.06399999999999), np.float64(0.37979999999999997), np.float64(51.077))\n"
     ]
    },
    {
     "name": "stderr",
     "output_type": "stream",
     "text": [
      " 95%|█████████▍| 1254/1323 [25:30<00:41,  1.68it/s]"
     ]
    },
    {
     "name": "stdout",
     "output_type": "stream",
     "text": [
      "[TILE ERROR] Found no graph nodes within the requested polygon. — bbox: (np.float64(0.3581), np.float64(52.32399999999999), np.float64(0.37979999999999997), np.float64(52.336999999999996))\n"
     ]
    },
    {
     "name": "stderr",
     "output_type": "stream",
     "text": [
      " 96%|█████████▌| 1265/1323 [25:42<00:54,  1.06it/s]"
     ]
    },
    {
     "name": "stdout",
     "output_type": "stream",
     "text": [
      "[TILE ERROR] Graph contains no edges. — bbox: (np.float64(0.42089999999999994), np.float64(51.96399999999999), np.float64(0.4426), np.float64(51.977))\n"
     ]
    },
    {
     "name": "stderr",
     "output_type": "stream",
     "text": [
      " 96%|█████████▌| 1270/1323 [25:46<00:43,  1.22it/s]"
     ]
    },
    {
     "name": "stdout",
     "output_type": "stream",
     "text": [
      "[TILE ERROR] Found no graph nodes within the requested polygon. — bbox: (np.float64(0.46799999999999997), np.float64(52.827999999999996), np.float64(0.48969999999999997), np.float64(52.841))\n"
     ]
    },
    {
     "name": "stderr",
     "output_type": "stream",
     "text": [
      " 99%|█████████▉| 1312/1323 [26:34<00:14,  1.31s/it]"
     ]
    },
    {
     "name": "stdout",
     "output_type": "stream",
     "text": [
      "[TILE ERROR] Found no graph nodes within the requested polygon. — bbox: (np.float64(1.1588), np.float64(51.22599999999999), np.float64(1.1804999999999999), np.float64(51.239))\n"
     ]
    },
    {
     "name": "stderr",
     "output_type": "stream",
     "text": [
      "100%|██████████| 1323/1323 [26:47<00:00,  1.21s/it]\n"
     ]
    }
   ],
   "source": [
    "import osmnx as ox\n",
    "from shapely.geometry import Point\n",
    "import geopandas as gpd\n",
    "import numpy as np\n",
    "from tqdm import tqdm\n",
    "\n",
    "# Construct GeoDataFrame\n",
    "df['geometry'] = [Point(xy) for xy in zip(df['decimalLongitude'], df['decimalLatitude'])]\n",
    "gdf = gpd.GeoDataFrame(df, geometry='geometry', crs='EPSG:4326')\n",
    "\n",
    "# Define spatial tiling: 0.05 x 0.05 degrees\n",
    "tile_size_lat = 0.009   # ~1 km in latitude degrees\n",
    "tile_size_lon = 0.0157  # ~1 km in longitude degrees\n",
    "padding_lat = 0.002  # ~200m latitude padding\n",
    "padding_lon = 0.003  # ~200-300m longitude padding\n",
    "\n",
    "gdf['tile_x'] = (gdf['decimalLongitude'] // tile_size_lon).astype(int)\n",
    "gdf['tile_y'] = (gdf['decimalLatitude'] // tile_size_lat).astype(int)\n",
    "\n",
    "# Group by tile\n",
    "grouped = gdf.groupby(['tile_x', 'tile_y'])\n",
    "\n",
    "# Store results\n",
    "all_distances = []\n",
    "\n",
    "for (tile_x, tile_y), group in tqdm(grouped, total=len(grouped)):\n",
    "    west = tile_x * tile_size_lon - padding_lon\n",
    "    south = tile_y * tile_size_lat - padding_lat\n",
    "    east = (tile_x + 1) * tile_size_lon + padding_lon\n",
    "    north = (tile_y + 1) * tile_size_lat + padding_lat\n",
    "    bbox = (west, south, east, north)\n",
    "\n",
    "\n",
    "    try:\n",
    "        G = ox.graph_from_bbox(bbox, network_type='drive_service')\n",
    "        if len(G.nodes) == 0:\n",
    "            print(f\"[EMPTY GRAPH] bbox: {bbox}, skipping...\")\n",
    "            all_distances.extend([np.nan] * len(group))\n",
    "            continue\n",
    "\n",
    "        G_proj = ox.project_graph(G)\n",
    "        nodes_proj, edges_proj = ox.graph_to_gdfs(G_proj)\n",
    "        points_proj = group.geometry.to_crs(nodes_proj.crs)\n",
    "\n",
    "        for point_proj in points_proj:\n",
    "            try:\n",
    "                u, v, k = ox.distance.nearest_edges(G_proj, [point_proj.x], [point_proj.y])[0]\n",
    "                edge_geom = edges_proj.loc[(u, v, k)]['geometry']\n",
    "                distance = point_proj.distance(edge_geom)\n",
    "                all_distances.append(distance)\n",
    "            except Exception as e:\n",
    "                print(f\"  [Point ERROR] {e}\")\n",
    "                all_distances.append(np.nan)\n",
    "\n",
    "    except Exception as e:\n",
    "        print(f\"[TILE ERROR] {e} — bbox: {bbox}\")\n",
    "        all_distances.extend([np.nan] * len(group))\n",
    "\n",
    "\n",
    "# Store back in original DataFrame order\n",
    "gdf['distance_to_road'] = all_distances"
   ],
   "metadata": {
    "collapsed": false,
    "ExecuteTime": {
     "end_time": "2025-08-05T02:55:05.254917Z",
     "start_time": "2025-08-05T02:28:17.842354Z"
    }
   },
   "id": "423b6b10fa3e47c4"
  },
  {
   "cell_type": "code",
   "execution_count": 33,
   "outputs": [],
   "source": [
    "gdf['near_road'] = np.where(gdf['distance_to_road'] <= 500, 1, 0)        "
   ],
   "metadata": {
    "collapsed": false,
    "ExecuteTime": {
     "end_time": "2025-08-05T02:55:05.256400Z",
     "start_time": "2025-08-05T02:55:05.252699Z"
    }
   },
   "id": "4a457e4113b41528"
  },
  {
   "cell_type": "code",
   "execution_count": 34,
   "outputs": [],
   "source": [
    "gdf=gdf.drop(['tile_x', 'tile_y', 'geometry', 'distance_to_road'], axis=1)"
   ],
   "metadata": {
    "collapsed": false,
    "ExecuteTime": {
     "end_time": "2025-08-05T02:55:05.290187Z",
     "start_time": "2025-08-05T02:55:05.256728Z"
    }
   },
   "id": "8c42f8b1ddc3eb76"
  },
  {
   "cell_type": "code",
   "execution_count": 35,
   "outputs": [
    {
     "name": "stderr",
     "output_type": "stream",
     "text": [
      "100%|██████████| 5459/5459 [02:09<00:00, 42.14it/s]\n"
     ]
    }
   ],
   "source": [
    "from pyproj import Transformer\n",
    "from rasterio.windows import Window\n",
    "import rasterio\n",
    "from collections import Counter\n",
    "import numpy as np\n",
    "\n",
    "\n",
    "land_cover_map = {\n",
    "    1: \"Deciduous woodland\",\n",
    "    2: \"Coniferous woodland\",\n",
    "    3: \"Arable\",\n",
    "    4: \"Improved grassland\",\n",
    "    5: \"Neutral grassland\",\n",
    "    6: \"Calcareous grassland\",\n",
    "    7: \"Acid grassland\",\n",
    "    8: \"Fen\",\n",
    "    9: \"Heather\",\n",
    "    10: \"Heather grassland\",\n",
    "    11: \"Bog\",\n",
    "    12: \"Inland rock\",\n",
    "    13: \"Saltwater\",\n",
    "    14: \"Freshwater\",\n",
    "    15: \"Supralittoral rock\",\n",
    "    16: \"Supralittoral sediment\",\n",
    "    17: \"Littoral rock\",\n",
    "    18: \"Littoral sediment\",\n",
    "    19: \"Saltmarsh\",\n",
    "    20: \"Urban\",\n",
    "    21: \"Suburban\"\n",
    "}\n",
    "\n",
    "# Batch coordinate transformation\n",
    "transformer_ni = Transformer.from_crs(\"EPSG:4326\", \"EPSG:29903\", always_xy=True)\n",
    "transformer_gb = Transformer.from_crs(\"EPSG:4326\", \"EPSG:27700\", always_xy=True)\n",
    "\n",
    "coords = list(zip(gdf['decimalLongitude'], gdf['decimalLatitude']))\n",
    "gdf['easting_ni'], gdf['northing_ni'] = zip(*transformer_ni.itransform(coords))\n",
    "gdf['easting_gb'], gdf['northing_gb'] = zip(*transformer_gb.itransform(coords))\n",
    "\n",
    "# Raster processing optimization\n",
    "gb_raster = 'gblcm2023_10m.tif'\n",
    "n_ireland_raster = 'nilcm2023_10m.tif'\n",
    "\n",
    "\n",
    "def get_land_cover_class_1km(row):\n",
    "    try:\n",
    "        window_size_pixels = 100  # 1 km / 10m resolution\n",
    "\n",
    "        # Open GB raster and read 1km x 1km window\n",
    "        with rasterio.open(gb_raster) as src:\n",
    "            row_idx, col_idx = src.index(row['easting_gb'], row['northing_gb'])\n",
    "\n",
    "            # Calculate window bounds, making sure not to go out of raster bounds\n",
    "            row_start = max(row_idx - window_size_pixels // 2, 0)\n",
    "            col_start = max(col_idx - window_size_pixels // 2, 0)\n",
    "\n",
    "            # Adjust window size if near edges\n",
    "            height = min(window_size_pixels, src.height - row_start)\n",
    "            width = min(window_size_pixels, src.width - col_start)\n",
    "\n",
    "            window = Window(col_start, row_start, width, height)\n",
    "            data = src.read(1, window=window)\n",
    "\n",
    "            # If all zero (or no data), fallback to NI raster\n",
    "            if np.all(data == 0):\n",
    "                with rasterio.open(n_ireland_raster) as src_ni:\n",
    "                    row_idx_ni, col_idx_ni = src_ni.index(row['easting_ni'], row['northing_ni'])\n",
    "\n",
    "                    row_start_ni = max(row_idx_ni - window_size_pixels // 2, 0)\n",
    "                    col_start_ni = max(col_idx_ni - window_size_pixels // 2, 0)\n",
    "\n",
    "                    height_ni = min(window_size_pixels, src_ni.height - row_start_ni)\n",
    "                    width_ni = min(window_size_pixels, src_ni.width - col_start_ni)\n",
    "\n",
    "                    window_ni = Window(col_start_ni, row_start_ni, width_ni, height_ni)\n",
    "                    data_ni = src_ni.read(1, window=window_ni)\n",
    "\n",
    "                    data = data_ni\n",
    "\n",
    "            # Find the most common class (mode) ignoring zeros (assuming 0 means no data)\n",
    "            unique, counts = np.unique(data[data != 0], return_counts=True)\n",
    "            if len(counts) == 0:\n",
    "                return \"Unknown\"\n",
    "\n",
    "            mode_class = unique[np.argmax(counts)]\n",
    "            return land_cover_map.get(mode_class, \"Unknown\")\n",
    "\n",
    "    except Exception as e:\n",
    "        print(f\"Error processing row: {e}\")\n",
    "        return \"Unknown\"\n",
    "\n",
    "\n",
    "tqdm.pandas()\n",
    "gdf['Land_cover'] = gdf.progress_apply(get_land_cover_class_1km, axis=1)\n"
   ],
   "metadata": {
    "collapsed": false,
    "ExecuteTime": {
     "end_time": "2025-08-05T02:57:14.943923Z",
     "start_time": "2025-08-05T02:55:05.267630Z"
    }
   },
   "id": "a6299b167ee6fc53"
  },
  {
   "cell_type": "code",
   "execution_count": 36,
   "outputs": [],
   "source": [
    "gdf = gdf.dropna()\n",
    "gdf=gdf.drop(['easting_ni', 'northing_ni', 'easting_gb', 'northing_gb'],axis=1)\n",
    "# Remove where Land_cover is Unknown\n",
    "gdf = gdf[gdf['Land_cover'] != \"Unknown\"].reset_index(drop=True)\n",
    "gdf.to_csv(\"bat_final_data.csv\", index=False)"
   ],
   "metadata": {
    "collapsed": false,
    "ExecuteTime": {
     "end_time": "2025-08-05T02:57:23.780609Z",
     "start_time": "2025-08-05T02:57:23.681659Z"
    }
   },
   "id": "14294ed4eaa84b13"
  }
 ],
 "metadata": {
  "kernelspec": {
   "display_name": "Python 3",
   "language": "python",
   "name": "python3"
  },
  "language_info": {
   "codemirror_mode": {
    "name": "ipython",
    "version": 2
   },
   "file_extension": ".py",
   "mimetype": "text/x-python",
   "name": "python",
   "nbconvert_exporter": "python",
   "pygments_lexer": "ipython2",
   "version": "2.7.6"
  }
 },
 "nbformat": 4,
 "nbformat_minor": 5
}
