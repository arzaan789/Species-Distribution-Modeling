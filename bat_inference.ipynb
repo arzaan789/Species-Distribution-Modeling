{
 "cells": [
  {
   "cell_type": "code",
   "execution_count": 27,
   "id": "initial_id",
   "metadata": {
    "collapsed": true,
    "ExecuteTime": {
     "end_time": "2025-08-05T03:37:37.557195Z",
     "start_time": "2025-08-05T03:37:36.338088Z"
    }
   },
   "outputs": [],
   "source": [
    "# import ee\n",
    "# \n",
    "# # Trigger the authentication flow.\n",
    "# # ee.Authenticate()\n",
    "# \n",
    "# ee.Initialize(project='ee-arzaaan789')"
   ]
  },
  {
   "cell_type": "code",
   "execution_count": 28,
   "outputs": [
    {
     "data": {
      "text/plain": "   decimalLongitude  decimalLatitude  eventDate\n0         -6.347425        49.893656 2025-06-01\n1         -6.333543        49.894177 2025-06-01\n2         -6.321265        49.912633 2025-06-01\n3         -6.307377        49.913150 2025-06-01\n4         -6.293488        49.913666 2025-06-01",
      "text/html": "<div>\n<style scoped>\n    .dataframe tbody tr th:only-of-type {\n        vertical-align: middle;\n    }\n\n    .dataframe tbody tr th {\n        vertical-align: top;\n    }\n\n    .dataframe thead th {\n        text-align: right;\n    }\n</style>\n<table border=\"1\" class=\"dataframe\">\n  <thead>\n    <tr style=\"text-align: right;\">\n      <th></th>\n      <th>decimalLongitude</th>\n      <th>decimalLatitude</th>\n      <th>eventDate</th>\n    </tr>\n  </thead>\n  <tbody>\n    <tr>\n      <th>0</th>\n      <td>-6.347425</td>\n      <td>49.893656</td>\n      <td>2025-06-01</td>\n    </tr>\n    <tr>\n      <th>1</th>\n      <td>-6.333543</td>\n      <td>49.894177</td>\n      <td>2025-06-01</td>\n    </tr>\n    <tr>\n      <th>2</th>\n      <td>-6.321265</td>\n      <td>49.912633</td>\n      <td>2025-06-01</td>\n    </tr>\n    <tr>\n      <th>3</th>\n      <td>-6.307377</td>\n      <td>49.913150</td>\n      <td>2025-06-01</td>\n    </tr>\n    <tr>\n      <th>4</th>\n      <td>-6.293488</td>\n      <td>49.913666</td>\n      <td>2025-06-01</td>\n    </tr>\n  </tbody>\n</table>\n</div>"
     },
     "execution_count": 28,
     "metadata": {},
     "output_type": "execute_result"
    }
   ],
   "source": [
    "# import pandas as pd\n",
    "# \n",
    "# df = pd.read_csv(\"uk_grid_1000m.csv\")\n",
    "# # rename longitude to 'decimalLongitude' and latitude to 'decimalLatitude'\n",
    "# df.rename(columns={'longitude': 'decimalLongitude', 'latitude': 'decimalLatitude'}, inplace=True)\n",
    "# # set eventDate to 1st May 2025\n",
    "# df['eventDate'] = pd.to_datetime('2025-06-01')\n",
    "# df.head()"
   ],
   "metadata": {
    "collapsed": false,
    "ExecuteTime": {
     "end_time": "2025-08-05T03:37:40.104270Z",
     "start_time": "2025-08-05T03:37:40.047607Z"
    }
   },
   "id": "6e89caae7120d78d"
  },
  {
   "cell_type": "code",
   "execution_count": 29,
   "outputs": [
    {
     "name": "stderr",
     "output_type": "stream",
     "text": [
      "Processing batches: 100%|██████████| 4888/4888 [13:49:26<00:00, 10.18s/it]   \n"
     ]
    },
    {
     "name": "stdout",
     "output_type": "stream",
     "text": [
      "   decimalLongitude  decimalLatitude  eventDate       BSI         LST  \\\n",
      "0         -6.347425        49.893656 2025-06-01 -0.486515  289.980000   \n",
      "1         -6.333543        49.894177 2025-06-01 -0.533775         NaN   \n",
      "2         -6.321265        49.912633 2025-06-01 -0.444581  280.300000   \n",
      "3         -6.307377        49.913150 2025-06-01 -0.621371  289.999250   \n",
      "4         -6.293488        49.913666 2025-06-01 -0.719280  290.706667   \n",
      "\n",
      "      MNDWI      NDBI      NDSI      NDVI      NDWI      SAVI        UI  \n",
      "0 -0.283105 -0.237348 -0.283105  0.553412 -0.483623  0.829881  0.237348  \n",
      "1 -0.313951 -0.229969 -0.313951  0.601115 -0.508422  0.901449  0.229969  \n",
      "2 -0.233918 -0.242840 -0.233918  0.516397 -0.431643  0.774486  0.242840  \n",
      "3 -0.391363 -0.281401 -0.391363  0.663213 -0.594777  0.994679  0.281401  \n",
      "4 -0.463755 -0.323644 -0.463755  0.756636 -0.684624  1.134827  0.323644  \n"
     ]
    }
   ],
   "source": [
    "# import ee\n",
    "# import pandas as pd\n",
    "# from datetime import datetime, timedelta\n",
    "# from tqdm import tqdm\n",
    "# \n",
    "# # ee.Initialize()\n",
    "# \n",
    "# # Your dataframe 'df' must have columns: decimalLongitude, decimalLatitude\n",
    "# # Example: df = pd.read_csv(\"Erinaceus europaeus.csv\", delimiter='\\t')\n",
    "# \n",
    "# def create_aoi(lon, lat, box_size_km=1):\n",
    "#     \"\"\"Create approx 1km x 1km square polygon around lon, lat.\"\"\"\n",
    "#     half_side_deg = box_size_km / 111.32 / 2  # Rough approx degrees per km\n",
    "# \n",
    "#     coords = [\n",
    "#         [lon - half_side_deg, lat - half_side_deg],\n",
    "#         [lon + half_side_deg, lat - half_side_deg],\n",
    "#         [lon + half_side_deg, lat + half_side_deg],\n",
    "#         [lon - half_side_deg, lat + half_side_deg],\n",
    "#         [lon - half_side_deg, lat - half_side_deg]\n",
    "#     ]\n",
    "#     return ee.Geometry.Polygon(coords)\n",
    "# \n",
    "# def compute_all_indices(feature, start_date, end_date):\n",
    "#     \"\"\"Compute spectral indices and LST for one EE Feature (with AOI geometry).\"\"\"\n",
    "#     aoi = feature.geometry()\n",
    "# \n",
    "#     s2 = (ee.ImageCollection(\"COPERNICUS/S2_SR_HARMONIZED\")\n",
    "#           .filterBounds(aoi)\n",
    "#           .filterDate(start_date, end_date)\n",
    "#           .sort('CLOUDY_PIXEL_PERCENTAGE')\n",
    "#           .first())\n",
    "#     s2 = ee.Image(s2).clip(aoi)\n",
    "# \n",
    "#     blue = s2.select('B2')\n",
    "#     green = s2.select('B3')\n",
    "#     red = s2.select('B4')\n",
    "#     nir = s2.select('B8')\n",
    "#     swir = s2.select('B11')\n",
    "# \n",
    "#     L = 0.5  # SAVI constant\n",
    "# \n",
    "#     ndvi = nir.subtract(red).divide(nir.add(red)).rename('NDVI')\n",
    "#     ndwi = green.subtract(nir).divide(green.add(nir)).rename('NDWI')\n",
    "#     ndbi = swir.subtract(nir).divide(swir.add(nir)).rename('NDBI')\n",
    "#     savi = nir.subtract(red).divide(nir.add(red).add(L)).multiply(1 + L).rename('SAVI')\n",
    "#     mndwi = green.subtract(swir).divide(green.add(swir)).rename('MNDWI')\n",
    "#     ndsi = green.subtract(swir).divide(green.add(swir)).rename('NDSI')\n",
    "#     bsi = (red.add(blue).subtract(nir.add(swir))).divide(red.add(blue).add(nir).add(swir)).rename('BSI')\n",
    "#     ui = nir.subtract(swir).divide(nir.add(swir)).rename('UI')\n",
    "# \n",
    "#     reducers = ee.Reducer.mean()\n",
    "#     scale_10m = 1000\n",
    "# \n",
    "#     ndvi_mean = ndvi.reduceRegion(reducers, aoi, scale_10m).get('NDVI')\n",
    "#     ndwi_mean = ndwi.reduceRegion(reducers, aoi, scale_10m).get('NDWI')\n",
    "#     ndbi_mean = ndbi.reduceRegion(reducers, aoi, scale_10m).get('NDBI')\n",
    "#     savi_mean = savi.reduceRegion(reducers, aoi, scale_10m).get('SAVI')\n",
    "#     mndwi_mean = mndwi.reduceRegion(reducers, aoi, scale_10m).get('MNDWI')\n",
    "#     ndsi_mean = ndsi.reduceRegion(reducers, aoi, scale_10m).get('NDSI')\n",
    "#     bsi_mean = bsi.reduceRegion(reducers, aoi, scale_10m).get('BSI')\n",
    "#     ui_mean = ui.reduceRegion(reducers, aoi, scale_10m).get('UI')\n",
    "# \n",
    "#     # MODIS LST dataset\n",
    "#     modis = (ee.ImageCollection(\"MODIS/061/MOD11A1\")\n",
    "#              .filterBounds(aoi)\n",
    "#              .filterDate(start_date, end_date)\n",
    "#              .select('LST_Day_1km'))\n",
    "# \n",
    "#     lst_mean_img = modis.mean().multiply(0.02).clip(aoi)\n",
    "# \n",
    "#     lst_mean = lst_mean_img.reduceRegion(\n",
    "#         reducer=ee.Reducer.mean(),\n",
    "#         geometry=aoi,\n",
    "#         scale=1000\n",
    "#     ).get('LST_Day_1km')\n",
    "# \n",
    "#     return feature.set({\n",
    "#         'NDVI': ndvi_mean,\n",
    "#         'NDWI': ndwi_mean,\n",
    "#         'NDBI': ndbi_mean,\n",
    "#         'SAVI': savi_mean,\n",
    "#         'MNDWI': mndwi_mean,\n",
    "#         'NDSI': ndsi_mean,\n",
    "#         'BSI': bsi_mean,\n",
    "#         'UI': ui_mean,\n",
    "#         'LST': lst_mean\n",
    "#     })\n",
    "# \n",
    "# # Split df into batches\n",
    "# batch_size = 50\n",
    "# batches = [df.iloc[i:i+batch_size] for i in range(0, len(df), batch_size)]\n",
    "# \n",
    "# results_list = []\n",
    "# \n",
    "# index_names = ['NDVI', 'NDWI', 'NDBI', 'SAVI', 'MNDWI', 'NDSI', 'BSI', 'UI', 'LST']\n",
    "# \n",
    "# for batch in tqdm(batches, desc=\"Processing batches\"):\n",
    "#     features = []\n",
    "#     batch_indices = []\n",
    "#     feature_metadata = {}\n",
    "# \n",
    "#     for idx, row in batch.iterrows():\n",
    "#         \n",
    "#         aoi = create_aoi(row['decimalLongitude'], row['decimalLatitude'])\n",
    "#         feature = ee.Feature(aoi).set('index', idx)\n",
    "#         features.append(feature)\n",
    "#         batch_indices.append(idx)  # Save the original index\n",
    "#         \n",
    "#         event_date = row['eventDate']\n",
    "#         start_date = (event_date - timedelta(days=15)).strftime('%Y-%m-%d')\n",
    "#         end_date = (event_date + timedelta(days=15)).strftime('%Y-%m-%d')\n",
    "#         feature_metadata[idx] = (start_date, end_date)\n",
    "# \n",
    "#     # Create a FeatureCollection from the list of features\n",
    "#     fc = ee.FeatureCollection(features)\n",
    "#     \n",
    "#     # Define wrapper for map to inject per-feature dates\n",
    "#     def map_with_dates(f):\n",
    "#         idx = f.get('index')\n",
    "#         # Use dictionary lookup to get dates for this feature\n",
    "#         date_dict = ee.Dictionary(ee.Dictionary(feature_metadata))\n",
    "#         dates = ee.List(date_dict.get(ee.Number(idx)))\n",
    "#         return compute_all_indices(f, dates.get(0), dates.get(1))\n",
    "# \n",
    "#     try:\n",
    "#         result_fc = fc.map(map_with_dates)\n",
    "#         results = result_fc.getInfo()\n",
    "# \n",
    "#         rows = []\n",
    "#         for f in results['features']:\n",
    "#             props = f['properties']\n",
    "#             rows.append(props)\n",
    "# \n",
    "#     except Exception as e:\n",
    "#         print(f\"Error processing batch starting at index {batch.index[0]}: {e}\")\n",
    "#         # If there's an error, create placeholder rows with None\n",
    "#         rows = [{'index': i, **{name: None for name in index_names}} for i in batch_indices]\n",
    "# \n",
    "#     batch_results_df = pd.DataFrame(rows).sort_values('index').reset_index(drop=True)\n",
    "#     results_list.append(batch_results_df)\n",
    "# \n",
    "# # Concatenate all batches and sort by original index\n",
    "# all_results_df = pd.concat(results_list).sort_values('index').reset_index(drop=True)\n",
    "# \n",
    "# # Merge with original df\n",
    "# df_final = pd.concat([df.reset_index(drop=True), all_results_df.drop(columns=['index'])], axis=1)\n",
    "# \n",
    "# print(df_final.head())\n"
   ],
   "metadata": {
    "collapsed": false,
    "ExecuteTime": {
     "end_time": "2025-08-05T17:27:17.090644Z",
     "start_time": "2025-08-05T03:37:47.873700Z"
    }
   },
   "id": "b84e6d60905e6b83"
  },
  {
   "cell_type": "code",
   "execution_count": 1,
   "outputs": [],
   "source": [
    "# df_final.to_csv(\"bat_inference_data_indices.csv\", index=False)\n",
    "import pandas as pd\n",
    "df = pd.read_csv(\"inference_data_indices.csv\")\n",
    "df['eventDate'] = pd.to_datetime(df['eventDate'], format='%Y-%m-%d', errors='coerce')"
   ],
   "metadata": {
    "collapsed": false,
    "ExecuteTime": {
     "end_time": "2025-08-05T19:36:55.871889Z",
     "start_time": "2025-08-05T19:36:55.308494Z"
    }
   },
   "id": "d959928cd321c596"
  },
  {
   "cell_type": "code",
   "execution_count": 2,
   "outputs": [],
   "source": [
    "ceratopogonidae = pd.read_csv(\"Ceratopogonidae.csv\", delimiter='\\t')\n",
    "ceratopogonidae = ceratopogonidae[ceratopogonidae[\"occurrenceStatus\"] == \"PRESENT\"]\n",
    "ceratopogonidae = ceratopogonidae[ceratopogonidae['year']>=2022]\n",
    "ceratopogonidae['eventDate'] = pd.to_datetime(ceratopogonidae['eventDate'], format='%Y-%m-%d', errors='coerce')\n",
    "ceratopogonidae = ceratopogonidae[['species', 'decimalLatitude', 'decimalLongitude', 'eventDate']]\n",
    "ceratopogonidae = ceratopogonidae.dropna().reset_index(drop=True)\n",
    "\n",
    "chironomidae = pd.read_csv(\"Chironomidae.csv\", delimiter='\\t')\n",
    "chironomidae = chironomidae[chironomidae[\"occurrenceStatus\"] == \"PRESENT\"]\n",
    "chironomidae = chironomidae[chironomidae['year']>=2022]\n",
    "chironomidae['eventDate'] = pd.to_datetime(chironomidae['eventDate'], format='%Y-%m-%d', errors='coerce')\n",
    "chironomidae = chironomidae[['species', 'decimalLatitude', 'decimalLongitude', 'eventDate']]\n",
    "chironomidae = chironomidae.dropna().reset_index(drop=True)\n",
    "\n",
    "cats = pd.read_csv(\"cats.csv\", delimiter='\\t')\n",
    "cats = cats[cats[\"occurrenceStatus\"] == \"PRESENT\"]\n",
    "cats = cats[cats['year']>=2022]\n",
    "cats['eventDate'] = pd.to_datetime(cats['eventDate'], format='%Y-%m-%d', errors='coerce')\n",
    "cats = cats[['species', 'decimalLatitude', 'decimalLongitude', 'eventDate']]\n",
    "cats = cats.dropna().reset_index(drop=True)\n",
    "\n",
    "\n",
    "wind_turbines = pd.read_excel(\"REPD_202407_WIND.xlsx\")\n",
    "wind_turbines = wind_turbines[wind_turbines['DEVSTATSHT']=='Operational']\n",
    "wind_turbines = wind_turbines[['LAT','LNG']]\n",
    "wind_turbines = wind_turbines.rename(columns={'LAT': 'decimalLatitude', 'LNG': 'decimalLongitude'})\n",
    "wind_turbines = wind_turbines.dropna().reset_index(drop=True)"
   ],
   "metadata": {
    "collapsed": false,
    "ExecuteTime": {
     "end_time": "2025-08-05T19:36:56.950212Z",
     "start_time": "2025-08-05T19:36:56.007363Z"
    }
   },
   "id": "f2f1577e249ad617"
  },
  {
   "cell_type": "code",
   "execution_count": 3,
   "outputs": [
    {
     "name": "stderr",
     "output_type": "stream",
     "text": [
      "100%|██████████| 244359/244359 [00:19<00:00, 12648.60it/s]\n"
     ]
    }
   ],
   "source": [
    "import numpy as np\n",
    "from sklearn.neighbors import BallTree\n",
    "from tqdm import tqdm\n",
    "\n",
    "# Convert lat/lon to radians for BallTree\n",
    "bat_coords = np.deg2rad(df[['decimalLatitude', 'decimalLongitude']].values)\n",
    "ceratopogonidae_coords = np.deg2rad(ceratopogonidae[['decimalLatitude', 'decimalLongitude']].values)\n",
    "chironomidae_coords = np.deg2rad(chironomidae[['decimalLatitude', 'decimalLongitude']].values)\n",
    "cats_coords = np.deg2rad(cats[['decimalLatitude', 'decimalLongitude']].values)\n",
    "wind_turbines_coords = np.deg2rad(wind_turbines[['decimalLatitude', 'decimalLongitude']].values)\n",
    "\n",
    "# Build BallTree using haversine metric\n",
    "tree_ceratopogonidae = BallTree(ceratopogonidae_coords, metric='haversine')\n",
    "tree_chironomidae = BallTree(chironomidae_coords, metric='haversine')\n",
    "tree_cats = BallTree(cats_coords, metric='haversine')\n",
    "tree_wind_turbines = BallTree(wind_turbines_coords, metric='haversine')\n",
    "\n",
    "# Define search radius: 1 km in radians\n",
    "earth_radius_km = 6371.0\n",
    "radius = 1 / earth_radius_km  # 1 km in radians\n",
    "\n",
    "# Initialize presence columns\n",
    "df['ceratopogonidae_presence'] = 0\n",
    "df['chironomidae_presence'] = 0\n",
    "df['cats_presence'] = 0\n",
    "\n",
    "# Iterate through each bat point with tqdm for progress tracking\n",
    "for i in tqdm(range(len(df))):\n",
    "    point = bat_coords[i].reshape(1, -1)\n",
    "    event_month = df.loc[i, 'eventDate'].month\n",
    "    event_year = df.loc[i, 'eventDate'].year\n",
    "\n",
    "    # CERATOPOGONIDAE\n",
    "    idxs = tree_ceratopogonidae.query_radius(point, r=radius)[0]\n",
    "    for j in idxs:\n",
    "        ceratopogonidae_date = ceratopogonidae.loc[j, 'eventDate']\n",
    "        if ceratopogonidae_date.month == event_month and ceratopogonidae_date.year == event_year:\n",
    "            df.at[i, 'ceratopogonidae_presence'] = 1\n",
    "            break  # Found at least one match, no need to check further\n",
    "\n",
    "    # CHIRONOMIDAE\n",
    "    idxs = tree_chironomidae.query_radius(point, r=radius)[0]\n",
    "    for j in idxs:\n",
    "        chironomidae_date = chironomidae.loc[j, 'eventDate']\n",
    "        if chironomidae_date.month == event_month and chironomidae_date.year == event_year:\n",
    "            df.at[i, 'chironomidae_presence'] = 1\n",
    "            break  # Found at least one match, no need to check further\n",
    "            \n",
    "    # CATS\n",
    "    idxs = tree_cats.query_radius(point, r=radius)[0]\n",
    "    for j in idxs:\n",
    "        cats_date = cats.loc[j, 'eventDate']\n",
    "        if cats_date.month == event_month and cats_date.year == event_year:\n",
    "            df.at[i, 'cats_presence'] = 1\n",
    "            break  # Found at least one match, no need to check further\n",
    "        \n",
    "indices = tree_wind_turbines.query_radius(bat_coords, r=radius)\n",
    "df['wind_turbines_presence'] = [1 if len(neighbors) > 0 else 0 for neighbors in indices]"
   ],
   "metadata": {
    "collapsed": false,
    "ExecuteTime": {
     "end_time": "2025-08-05T19:37:17.815551Z",
     "start_time": "2025-08-05T19:36:56.947898Z"
    }
   },
   "id": "c2d87eba673d1add"
  },
  {
   "cell_type": "code",
   "execution_count": null,
   "outputs": [
    {
     "name": "stderr",
     "output_type": "stream",
     "text": [
      "  6%|▌         | 13652/234672 [3:03:54<116:12:14,  1.89s/it]"
     ]
    }
   ],
   "source": [
    "import osmnx as ox\n",
    "from shapely.geometry import Point\n",
    "import geopandas as gpd\n",
    "import numpy as np\n",
    "from tqdm import tqdm\n",
    "\n",
    "\n",
    "# Construct GeoDataFrame\n",
    "df['geometry'] = [Point(xy) for xy in zip(df['decimalLongitude'], df['decimalLatitude'])]\n",
    "gdf = gpd.GeoDataFrame(df, geometry='geometry', crs='EPSG:4326')\n",
    "\n",
    "# Define spatial tiling: 0.05 x 0.05 degrees\n",
    "tile_size_lat = 0.009   # ~1 km in latitude degrees\n",
    "tile_size_lon = 0.0157  # ~1 km in longitude degrees\n",
    "padding_lat = 0.002  # ~200m latitude padding\n",
    "padding_lon = 0.003  # ~200-300m longitude padding\n",
    "\n",
    "gdf['tile_x'] = (gdf['decimalLongitude'] // tile_size_lon).astype(int)\n",
    "gdf['tile_y'] = (gdf['decimalLatitude'] // tile_size_lat).astype(int)\n",
    "\n",
    "# Group by tile\n",
    "grouped = gdf.groupby(['tile_x', 'tile_y'])\n",
    "\n",
    "# Store results\n",
    "all_distances = []\n",
    "\n",
    "for (tile_x, tile_y), group in tqdm(grouped, total=len(grouped)):\n",
    "    west = tile_x * tile_size_lon - padding_lon\n",
    "    south = tile_y * tile_size_lat - padding_lat\n",
    "    east = (tile_x + 1) * tile_size_lon + padding_lon\n",
    "    north = (tile_y + 1) * tile_size_lat + padding_lat\n",
    "    bbox = (west, south, east, north)\n",
    "\n",
    "\n",
    "    try:\n",
    "        G = ox.graph_from_bbox(bbox, network_type='drive_service')\n",
    "        if len(G.nodes) == 0:\n",
    "            all_distances.extend([np.nan] * len(group))\n",
    "            continue\n",
    "\n",
    "        G_proj = ox.project_graph(G)\n",
    "        nodes_proj, edges_proj = ox.graph_to_gdfs(G_proj)\n",
    "        points_proj = group.geometry.to_crs(nodes_proj.crs)\n",
    "\n",
    "        for point_proj in points_proj:\n",
    "            try:\n",
    "                u, v, k = ox.distance.nearest_edges(G_proj, [point_proj.x], [point_proj.y])[0]\n",
    "                edge_geom = edges_proj.loc[(u, v, k)]['geometry']\n",
    "                distance = point_proj.distance(edge_geom)\n",
    "                all_distances.append(distance)\n",
    "            except Exception as e:\n",
    "                all_distances.append(np.nan)\n",
    "\n",
    "    except Exception as e:\n",
    "        all_distances.extend([np.nan] * len(group))\n",
    "\n",
    "\n",
    "# Store back in original DataFrame order\n",
    "gdf['distance_to_road'] = all_distances"
   ],
   "metadata": {
    "collapsed": false,
    "is_executing": true,
    "ExecuteTime": {
     "start_time": "2025-08-05T22:32:33.967521Z"
    }
   },
   "id": "c929cae40998095f"
  },
  {
   "cell_type": "code",
   "execution_count": null,
   "outputs": [],
   "source": [
    "gdf.to_csv(\"temp.csv\", index=False)"
   ],
   "metadata": {
    "collapsed": false,
    "is_executing": true
   },
   "id": "e4e88499e60d8b6a"
  },
  {
   "cell_type": "code",
   "execution_count": null,
   "outputs": [],
   "source": [
    "gdf['near_road'] = np.where(gdf['distance_to_road'] <= 500, 1, 0)        \n"
   ],
   "metadata": {
    "collapsed": false,
    "is_executing": true
   },
   "id": "6160e77b803267a1"
  },
  {
   "cell_type": "code",
   "execution_count": null,
   "outputs": [],
   "source": [
    "gdf=gdf.drop(['tile_x', 'tile_y', 'geometry', 'distance_to_road'], axis=1)\n"
   ],
   "metadata": {
    "collapsed": false,
    "is_executing": true
   },
   "id": "705bb42f065988f4"
  },
  {
   "cell_type": "code",
   "execution_count": null,
   "outputs": [],
   "source": [
    "from pyproj import Transformer\n",
    "from rasterio.windows import Window\n",
    "import rasterio\n",
    "from collections import Counter\n",
    "import numpy as np\n",
    "\n",
    "\n",
    "land_cover_map = {\n",
    "    1: \"Deciduous woodland\",\n",
    "    2: \"Coniferous woodland\",\n",
    "    3: \"Arable\",\n",
    "    4: \"Improved grassland\",\n",
    "    5: \"Neutral grassland\",\n",
    "    6: \"Calcareous grassland\",\n",
    "    7: \"Acid grassland\",\n",
    "    8: \"Fen\",\n",
    "    9: \"Heather\",\n",
    "    10: \"Heather grassland\",\n",
    "    11: \"Bog\",\n",
    "    12: \"Inland rock\",\n",
    "    13: \"Saltwater\",\n",
    "    14: \"Freshwater\",\n",
    "    15: \"Supralittoral rock\",\n",
    "    16: \"Supralittoral sediment\",\n",
    "    17: \"Littoral rock\",\n",
    "    18: \"Littoral sediment\",\n",
    "    19: \"Saltmarsh\",\n",
    "    20: \"Urban\",\n",
    "    21: \"Suburban\"\n",
    "}\n",
    "\n",
    "# Batch coordinate transformation\n",
    "transformer_ni = Transformer.from_crs(\"EPSG:4326\", \"EPSG:29903\", always_xy=True)\n",
    "transformer_gb = Transformer.from_crs(\"EPSG:4326\", \"EPSG:27700\", always_xy=True)\n",
    "\n",
    "coords = list(zip(gdf['decimalLongitude'], gdf['decimalLatitude']))\n",
    "gdf['easting_ni'], gdf['northing_ni'] = zip(*transformer_ni.itransform(coords))\n",
    "gdf['easting_gb'], gdf['northing_gb'] = zip(*transformer_gb.itransform(coords))\n",
    "\n",
    "# Raster processing optimization\n",
    "gb_raster = 'gblcm2023_10m.tif'\n",
    "n_ireland_raster = 'nilcm2023_10m.tif'\n",
    "\n",
    "\n",
    "def get_land_cover_class_1km(row):\n",
    "    try:\n",
    "        window_size_pixels = 100  # 1 km / 10m resolution\n",
    "\n",
    "        # Open GB raster and read 1km x 1km window\n",
    "        with rasterio.open(gb_raster) as src:\n",
    "            row_idx, col_idx = src.index(row['easting_gb'], row['northing_gb'])\n",
    "\n",
    "            # Calculate window bounds, making sure not to go out of raster bounds\n",
    "            row_start = max(row_idx - window_size_pixels // 2, 0)\n",
    "            col_start = max(col_idx - window_size_pixels // 2, 0)\n",
    "\n",
    "            # Adjust window size if near edges\n",
    "            height = min(window_size_pixels, src.height - row_start)\n",
    "            width = min(window_size_pixels, src.width - col_start)\n",
    "\n",
    "            window = Window(col_start, row_start, width, height)\n",
    "            data = src.read(1, window=window)\n",
    "\n",
    "            # If all zero (or no data), fallback to NI raster\n",
    "            if np.all(data == 0):\n",
    "                with rasterio.open(n_ireland_raster) as src_ni:\n",
    "                    row_idx_ni, col_idx_ni = src_ni.index(row['easting_ni'], row['northing_ni'])\n",
    "\n",
    "                    row_start_ni = max(row_idx_ni - window_size_pixels // 2, 0)\n",
    "                    col_start_ni = max(col_idx_ni - window_size_pixels // 2, 0)\n",
    "\n",
    "                    height_ni = min(window_size_pixels, src_ni.height - row_start_ni)\n",
    "                    width_ni = min(window_size_pixels, src_ni.width - col_start_ni)\n",
    "\n",
    "                    window_ni = Window(col_start_ni, row_start_ni, width_ni, height_ni)\n",
    "                    data_ni = src_ni.read(1, window=window_ni)\n",
    "\n",
    "                    data = data_ni\n",
    "\n",
    "            # Find the most common class (mode) ignoring zeros (assuming 0 means no data)\n",
    "            unique, counts = np.unique(data[data != 0], return_counts=True)\n",
    "            if len(counts) == 0:\n",
    "                return \"Unknown\"\n",
    "\n",
    "            mode_class = unique[np.argmax(counts)]\n",
    "            return land_cover_map.get(mode_class, \"Unknown\")\n",
    "\n",
    "    except Exception as e:\n",
    "        print(f\"Error processing row: {e}\")\n",
    "        return \"Unknown\"\n",
    "\n",
    "\n",
    "tqdm.pandas()\n",
    "gdf['Land_cover'] = gdf.progress_apply(get_land_cover_class_1km, axis=1)\n"
   ],
   "metadata": {
    "collapsed": false,
    "is_executing": true
   },
   "id": "b10f99b184d92bea"
  },
  {
   "cell_type": "code",
   "execution_count": null,
   "outputs": [],
   "source": [
    "gdf = gdf.dropna()\n",
    "gdf=gdf.drop(['easting_ni', 'northing_ni', 'easting_gb', 'northing_gb'],axis=1)\n",
    "# Remove where Land_cover is Unknown\n",
    "gdf = gdf[gdf['Land_cover'] != \"Unknown\"].reset_index(drop=True)"
   ],
   "metadata": {
    "collapsed": false,
    "is_executing": true
   },
   "id": "20f8148bb3c1cdab"
  },
  {
   "cell_type": "code",
   "execution_count": null,
   "outputs": [],
   "source": [
    "gdf = gdf.dropna()\n",
    "gdf = gdf.drop_duplicates()\n",
    "gdf = gdf.drop(columns=['species'])\n",
    "bat_bool_columns = ['ceratopogonidae_presence','chironomidae_presence','cats_presence','wind_turbines_presence','near_road']\n",
    "gdf[bat_bool_columns] = gdf[bat_bool_columns].astype(bool)\n",
    "gdf = pd.get_dummies(gdf, columns=['Land_cover'])\n",
    "gdf.to_csv(\"bat_inference_data_preprocessed.csv\")"
   ],
   "metadata": {
    "collapsed": false,
    "is_executing": true
   },
   "id": "a36db77ca2ba4fa0"
  },
  {
   "cell_type": "code",
   "execution_count": null,
   "outputs": [],
   "source": [
    "gdf = pd.read_csv(\"bat_inference_data_preprocessed.csv\")\n",
    "gdf = gdf.astype({col: 'int' for col in gdf.select_dtypes(include='bool').columns})\n",
    "\n",
    "#read scaler\n",
    "import joblib\n",
    "scaler = joblib.load(\"bat_scaler.pkl\")\n",
    "# Scale the data\n",
    "env_vars = ['BSI', 'LST', 'MNDWI', 'NDBI', 'NDSI', 'NDVI', 'NDWI', 'SAVI', 'UI']\n",
    "gdf[env_vars] = scaler.transform(gdf[env_vars])\n",
    "# drop Unnamed: 0\n",
    "# df = df.drop(columns=['Unnamed: 0'])\n",
    "df"
   ],
   "metadata": {
    "collapsed": false
   },
   "id": "19a12e6bbc139c04"
  }
 ],
 "metadata": {
  "kernelspec": {
   "display_name": "Python 3",
   "language": "python",
   "name": "python3"
  },
  "language_info": {
   "codemirror_mode": {
    "name": "ipython",
    "version": 2
   },
   "file_extension": ".py",
   "mimetype": "text/x-python",
   "name": "python",
   "nbconvert_exporter": "python",
   "pygments_lexer": "ipython2",
   "version": "2.7.6"
  }
 },
 "nbformat": 4,
 "nbformat_minor": 5
}
